{
 "cells": [
  {
   "cell_type": "markdown",
   "metadata": {
    "toc": true
   },
   "source": [
    "<h1>Table of Contents<span class=\"tocSkip\"></span></h1>\n",
    "<div class=\"toc\"><ul class=\"toc-item\"><li><span><a href=\"#Setup\" data-toc-modified-id=\"Setup-1\"><span class=\"toc-item-num\">1&nbsp;&nbsp;</span>Setup</a></span></li><li><span><a href=\"#Import-dataset\" data-toc-modified-id=\"Import-dataset-2\"><span class=\"toc-item-num\">2&nbsp;&nbsp;</span>Import dataset</a></span></li><li><span><a href=\"#Sentence-embedding\" data-toc-modified-id=\"Sentence-embedding-3\"><span class=\"toc-item-num\">3&nbsp;&nbsp;</span>Sentence embedding</a></span><ul class=\"toc-item\"><li><span><a href=\"#Infersent\" data-toc-modified-id=\"Infersent-3.1\"><span class=\"toc-item-num\">3.1&nbsp;&nbsp;</span>Infersent</a></span></li></ul></li><li><span><a href=\"#Dimensionality-reduction\" data-toc-modified-id=\"Dimensionality-reduction-4\"><span class=\"toc-item-num\">4&nbsp;&nbsp;</span>Dimensionality reduction</a></span><ul class=\"toc-item\"><li><span><a href=\"#TSNE\" data-toc-modified-id=\"TSNE-4.1\"><span class=\"toc-item-num\">4.1&nbsp;&nbsp;</span>TSNE</a></span></li></ul></li><li><span><a href=\"#Blocking\" data-toc-modified-id=\"Blocking-5\"><span class=\"toc-item-num\">5&nbsp;&nbsp;</span>Blocking</a></span></li><li><span><a href=\"#Evaluation\" data-toc-modified-id=\"Evaluation-6\"><span class=\"toc-item-num\">6&nbsp;&nbsp;</span>Evaluation</a></span><ul class=\"toc-item\"><li><span><a href=\"#bilstm,-rnn_dim-2048\" data-toc-modified-id=\"bilstm,-rnn_dim-2048-6.1\"><span class=\"toc-item-num\">6.1&nbsp;&nbsp;</span>bilstm, rnn_dim 2048</a></span></li><li><span><a href=\"#Searching\" data-toc-modified-id=\"Searching-6.2\"><span class=\"toc-item-num\">6.2&nbsp;&nbsp;</span>Searching</a></span></li></ul></li><li><span><a href=\"#Best\" data-toc-modified-id=\"Best-7\"><span class=\"toc-item-num\">7&nbsp;&nbsp;</span>Best</a></span></li></ul></div>"
   ]
  },
  {
   "cell_type": "markdown",
   "metadata": {},
   "source": [
    "# Setup "
   ]
  },
  {
   "cell_type": "code",
   "execution_count": 1,
   "metadata": {},
   "outputs": [],
   "source": [
    "import os\n",
    "import sys\n",
    "import time\n",
    "import numpy as np\n",
    "import matplotlib.pyplot as plt\n",
    "\n",
    "module_path = os.path.abspath(os.path.join('../..'))\n",
    "if module_path not in sys.path:\n",
    "    sys.path.append(module_path)\n",
    "    \n",
    "params = {}"
   ]
  },
  {
   "cell_type": "markdown",
   "metadata": {},
   "source": [
    "# Import dataset"
   ]
  },
  {
   "cell_type": "code",
   "execution_count": 2,
   "metadata": {},
   "outputs": [],
   "source": [
    "from preprocessing_datasets.preprocessing_amzn_gp import clean_amzn_gp\n",
    "table, pairs = clean_amzn_gp()"
   ]
  },
  {
   "cell_type": "code",
   "execution_count": 3,
   "metadata": {
    "scrolled": true
   },
   "outputs": [
    {
     "data": {
      "text/html": [
       "<div>\n",
       "<style scoped>\n",
       "    .dataframe tbody tr th:only-of-type {\n",
       "        vertical-align: middle;\n",
       "    }\n",
       "\n",
       "    .dataframe tbody tr th {\n",
       "        vertical-align: top;\n",
       "    }\n",
       "\n",
       "    .dataframe thead th {\n",
       "        text-align: right;\n",
       "    }\n",
       "</style>\n",
       "<table border=\"1\" class=\"dataframe\">\n",
       "  <thead>\n",
       "    <tr style=\"text-align: right;\">\n",
       "      <th></th>\n",
       "      <th>title</th>\n",
       "      <th>description</th>\n",
       "      <th>manufacturer</th>\n",
       "      <th>price</th>\n",
       "    </tr>\n",
       "  </thead>\n",
       "  <tbody>\n",
       "    <tr>\n",
       "      <th>0</th>\n",
       "      <td>clickart 950 000 - premier image pack (dvd-rom)</td>\n",
       "      <td>unk</td>\n",
       "      <td>broderbund</td>\n",
       "      <td>0</td>\n",
       "    </tr>\n",
       "    <tr>\n",
       "      <th>1</th>\n",
       "      <td>ca international - arcserve lap/desktop oem 30pk</td>\n",
       "      <td>oem arcserve backup v11.1 win 30u for laptops ...</td>\n",
       "      <td>computer associates</td>\n",
       "      <td>0</td>\n",
       "    </tr>\n",
       "    <tr>\n",
       "      <th>2</th>\n",
       "      <td>noah's ark activity center (jewel case ages 3-8)</td>\n",
       "      <td>unk</td>\n",
       "      <td>victory multimedia</td>\n",
       "      <td>0</td>\n",
       "    </tr>\n",
       "    <tr>\n",
       "      <th>3</th>\n",
       "      <td>peachtree by sage premium accounting for nonpr...</td>\n",
       "      <td>peachtree premium accounting for nonprofits 20...</td>\n",
       "      <td>sage software</td>\n",
       "      <td>599.99</td>\n",
       "    </tr>\n",
       "    <tr>\n",
       "      <th>4</th>\n",
       "      <td>singing coach unlimited</td>\n",
       "      <td>singing coach unlimited - electronic learning ...</td>\n",
       "      <td>carry-a-tune technologies</td>\n",
       "      <td>99.99</td>\n",
       "    </tr>\n",
       "    <tr>\n",
       "      <th>...</th>\n",
       "      <td>...</td>\n",
       "      <td>...</td>\n",
       "      <td>...</td>\n",
       "      <td>...</td>\n",
       "    </tr>\n",
       "    <tr>\n",
       "      <th>4584</th>\n",
       "      <td>jumpstart(r) advanced 1st grade</td>\n",
       "      <td>prepare your child for the 1st grade and beyon...</td>\n",
       "      <td>unk</td>\n",
       "      <td>19.99</td>\n",
       "    </tr>\n",
       "    <tr>\n",
       "      <th>4585</th>\n",
       "      <td>ibm(r) viavoice(r) advanced edition 10</td>\n",
       "      <td>ibm viavoice advanced edition release 10 is a ...</td>\n",
       "      <td>unk</td>\n",
       "      <td>78.95</td>\n",
       "    </tr>\n",
       "    <tr>\n",
       "      <th>4586</th>\n",
       "      <td>xbox 360: gears of war</td>\n",
       "      <td>as marcus fenix you fight a war against the im...</td>\n",
       "      <td>unk</td>\n",
       "      <td>59.99</td>\n",
       "    </tr>\n",
       "    <tr>\n",
       "      <th>4587</th>\n",
       "      <td>documents to go premium 7.0</td>\n",
       "      <td>this pda software enables you to use your docu...</td>\n",
       "      <td>unk</td>\n",
       "      <td>49.99</td>\n",
       "    </tr>\n",
       "    <tr>\n",
       "      <th>4588</th>\n",
       "      <td>microsoft(r) picture it! digital image pro 9.0</td>\n",
       "      <td>picture it! digital image pro puts you in cont...</td>\n",
       "      <td>unk</td>\n",
       "      <td>99.87</td>\n",
       "    </tr>\n",
       "  </tbody>\n",
       "</table>\n",
       "<p>4589 rows × 4 columns</p>\n",
       "</div>"
      ],
      "text/plain": [
       "                                                  title  \\\n",
       "0       clickart 950 000 - premier image pack (dvd-rom)   \n",
       "1      ca international - arcserve lap/desktop oem 30pk   \n",
       "2      noah's ark activity center (jewel case ages 3-8)   \n",
       "3     peachtree by sage premium accounting for nonpr...   \n",
       "4                               singing coach unlimited   \n",
       "...                                                 ...   \n",
       "4584                    jumpstart(r) advanced 1st grade   \n",
       "4585             ibm(r) viavoice(r) advanced edition 10   \n",
       "4586                             xbox 360: gears of war   \n",
       "4587                        documents to go premium 7.0   \n",
       "4588     microsoft(r) picture it! digital image pro 9.0   \n",
       "\n",
       "                                            description  \\\n",
       "0                                                   unk   \n",
       "1     oem arcserve backup v11.1 win 30u for laptops ...   \n",
       "2                                                   unk   \n",
       "3     peachtree premium accounting for nonprofits 20...   \n",
       "4     singing coach unlimited - electronic learning ...   \n",
       "...                                                 ...   \n",
       "4584  prepare your child for the 1st grade and beyon...   \n",
       "4585  ibm viavoice advanced edition release 10 is a ...   \n",
       "4586  as marcus fenix you fight a war against the im...   \n",
       "4587  this pda software enables you to use your docu...   \n",
       "4588  picture it! digital image pro puts you in cont...   \n",
       "\n",
       "                   manufacturer   price  \n",
       "0                    broderbund       0  \n",
       "1           computer associates       0  \n",
       "2            victory multimedia       0  \n",
       "3                 sage software  599.99  \n",
       "4     carry-a-tune technologies   99.99  \n",
       "...                         ...     ...  \n",
       "4584                        unk   19.99  \n",
       "4585                        unk   78.95  \n",
       "4586                        unk   59.99  \n",
       "4587                        unk   49.99  \n",
       "4588                        unk   99.87  \n",
       "\n",
       "[4589 rows x 4 columns]"
      ]
     },
     "execution_count": 3,
     "metadata": {},
     "output_type": "execute_result"
    }
   ],
   "source": [
    "table"
   ]
  },
  {
   "cell_type": "markdown",
   "metadata": {},
   "source": [
    "# Sentence embedding"
   ]
  },
  {
   "cell_type": "markdown",
   "metadata": {},
   "source": [
    "## Infersent"
   ]
  },
  {
   "cell_type": "markdown",
   "metadata": {},
   "source": [
    "Setup model"
   ]
  },
  {
   "cell_type": "code",
   "execution_count": 4,
   "metadata": {},
   "outputs": [
    {
     "name": "stdout",
     "output_type": "stream",
     "text": [
      "Vocab size : 2196017\n",
      "TIME: 165.48254489898682\n"
     ]
    }
   ],
   "source": [
    "from embedding_algorithms.inferSent import set_RNN_embedding\n",
    "start = time.time()\n",
    "model_type = \"bilstm\" \n",
    "char_level = False\n",
    "model_version = 2\n",
    "rnn_dim = 2048\n",
    "verbose = 1\n",
    "set_RNN_embedding(model_type, char_level, model_version, rnn_dim, verbose)\n",
    "print(\"TIME: {0}\".format(time.time() - start))\n",
    "\n",
    "params['embedding'] = {\n",
    "    'name': 'Infersent',\n",
    "    'model_type': model_type,\n",
    "    'char_level': char_level,\n",
    "    'model_version': model_version,\n",
    "    'rnn_dim': rnn_dim,\n",
    "    'verbose': verbose\n",
    "}"
   ]
  },
  {
   "cell_type": "markdown",
   "metadata": {},
   "source": [
    "Embedding"
   ]
  },
  {
   "cell_type": "code",
   "execution_count": 5,
   "metadata": {},
   "outputs": [
    {
     "name": "stdout",
     "output_type": "stream",
     "text": [
      "attrs: ['title', 'manufacturer']\n",
      "TIME: 77.1130301952362\n"
     ]
    }
   ],
   "source": [
    "from embedding_algorithms.inferSent import RNN_embedding\n",
    "start = time.time()\n",
    "attr_list = ['title', 'manufacturer']\n",
    "params['attr_list'] = attr_list\n",
    "embeddings_tokens = RNN_embedding(table, attr_list, model_type, char_level)\n",
    "embeddings_tokens = np.array(embeddings_tokens)\n",
    "print(\"TIME: {0}\".format(time.time() - start))"
   ]
  },
  {
   "cell_type": "markdown",
   "metadata": {},
   "source": [
    "# Dimensionality reduction"
   ]
  },
  {
   "cell_type": "markdown",
   "metadata": {},
   "source": [
    "## TSNE"
   ]
  },
  {
   "cell_type": "code",
   "execution_count": 6,
   "metadata": {},
   "outputs": [
    {
     "name": "stdout",
     "output_type": "stream",
     "text": [
      "starting dimension: 4096\n",
      "setting TSNE with n_components: 2 & perplexity: 5\n",
      "early_exaggeration: 12\n",
      "TIME: 237.0320119857788\n"
     ]
    }
   ],
   "source": [
    "from dimensionality_reduction_algorithms.tsne import tsne_dim_reduction\n",
    "\n",
    "start = time.time()\n",
    "\n",
    "tsne_embeddings = tsne_dim_reduction(\n",
    "    embeddings_tokens, \n",
    "    num_components=2,\n",
    "    early_exaggeration=12,\n",
    "    verbose=1,\n",
    "    perplexity=5,\n",
    "    method=\"barnes_hut\")\n",
    "\n",
    "print(\"TIME: {0}\".format(time.time() - start))\n",
    "params['reduction'] = {\n",
    "    'name': 'TSNE',\n",
    "    'num_components': 2,\n",
    "    'early_exaggeration': 12,\n",
    "    'verbose': 1,\n",
    "    'perplexity': 5,\n",
    "    'method': \"barnes_hut\"\n",
    "}"
   ]
  },
  {
   "cell_type": "markdown",
   "metadata": {},
   "source": [
    "# Blocking"
   ]
  },
  {
   "cell_type": "code",
   "execution_count": 16,
   "metadata": {},
   "outputs": [
    {
     "name": "stdout",
     "output_type": "stream",
     "text": [
      "clustering with NUM_CLUSTERS = 13, distance_algorithm = <function euclidean_distance at 0x7fe5be9ea5f0>\n",
      "BLOCKS: 163.54882884025574\n"
     ]
    }
   ],
   "source": [
    "from cluster_algorithms.kMeans_cluster import kMean_cluster\n",
    "num_clusters = 13\n",
    "\n",
    "start = time.time()\n",
    "blocks = kMean_cluster(tsne_embeddings, {'num_clusters': num_clusters, 'distance_algorithm': 'euclidean'})\n",
    "print(\"BLOCKS: {0}\".format(time.time() - start))\n",
    "\n",
    "params['blocking'] = {\n",
    "    'name': 'k_means',\n",
    "    'num_clusters': num_clusters\n",
    "}"
   ]
  },
  {
   "cell_type": "code",
   "execution_count": 13,
   "metadata": {},
   "outputs": [
    {
     "name": "stdout",
     "output_type": "stream",
     "text": [
      "clustering with NUM_CLUSTERS = 28, \n",
      "BLOCKS: 0.6017839908599854\n"
     ]
    }
   ],
   "source": [
    "from cluster_algorithms.birch_cluster import birch_cluster\n",
    "num_clusters = 28\n",
    "\n",
    "start = time.time()\n",
    "blocks = birch_cluster(tsne_embeddings, {'num_clusters': num_clusters})\n",
    "print(\"BLOCKS: {0}\".format(time.time() - start))\n",
    "\n",
    "params['blocking'] = {\n",
    "    'name': 'birch_cluster',\n",
    "    'num_clusters': num_clusters\n",
    "}"
   ]
  },
  {
   "cell_type": "code",
   "execution_count": 14,
   "metadata": {},
   "outputs": [
    {
     "name": "stdout",
     "output_type": "stream",
     "text": [
      "DBScan_cluster\n",
      "BLOCKS: 0.039164066314697266\n"
     ]
    }
   ],
   "source": [
    "from cluster_algorithms.DBScan_cluster import DBSCAN_cluster\n",
    "eps = 7\n",
    "min_samples = 2\n",
    "\n",
    "start = time.time()\n",
    "blocks = DBSCAN_cluster(tsne_embeddings, {'eps':eps, 'min_samples':min_samples})\n",
    "print(\"BLOCKS: {0}\".format(time.time() - start))\n",
    "\n",
    "params['blocking'] = {\n",
    "    'name': 'DBScan',\n",
    "    'eps': eps,\n",
    "    'min_samples': min_samples\n",
    "}"
   ]
  },
  {
   "cell_type": "code",
   "execution_count": 8,
   "metadata": {},
   "outputs": [
    {
     "name": "stdout",
     "output_type": "stream",
     "text": [
      "clustering with NUM_CLUSTERS = 15, \n",
      "BLOCKS: 0.7234680652618408\n"
     ]
    }
   ],
   "source": [
    "from cluster_algorithms.hierarchy_cluster import hierarchy_cluster\n",
    "num_clusters = 15\n",
    "start = time.time()\n",
    "blocks = hierarchy_cluster(tsne_embeddings, {'num_clusters': num_clusters})\n",
    "print(\"BLOCKS: {0}\".format(time.time() - start))\n",
    "\n",
    "params['blocking'] = {\n",
    "    'name': 'hierarchy',\n",
    "    'num_clusters': num_clusters\n",
    "}"
   ]
  },
  {
   "cell_type": "markdown",
   "metadata": {},
   "source": [
    "# Evaluation"
   ]
  },
  {
   "cell_type": "markdown",
   "metadata": {},
   "source": [
    "## bilstm, rnn_dim 2048"
   ]
  },
  {
   "cell_type": "code",
   "execution_count": 9,
   "metadata": {},
   "outputs": [
    {
     "name": "stdout",
     "output_type": "stream",
     "text": [
      "(RR) Reduction ratio is: 0.9277423762482704\n",
      "(PC) Pair completeness is: 0.8407692307692308\n",
      "(RM) Reference metric (Harmonic mean RR and PC) is: 0.8821171893191397\n",
      "(PQ) Pair quality - Precision is: 0.0014368949397108857\n",
      "(FM) Fmeasure is: 0.0028688868823887616\n",
      "\n",
      "['title', 'manufacturer']\n",
      "{'name': 'Infersent', 'model_type': 'bilstm', 'char_level': False, 'model_version': 2, 'rnn_dim': 2048, 'verbose': 1}\n",
      "{'name': 'TSNE', 'num_components': 2, 'early_exaggeration': 12, 'verbose': 1, 'perplexity': 5, 'method': 'barnes_hut'}\n",
      "{'name': 'hierarchy', 'num_clusters': 15}\n"
     ]
    }
   ],
   "source": [
    "from evaluation import calc_index\n",
    "calc_index(blocks,table,pairs)\n",
    "print()\n",
    "print(params['attr_list'])\n",
    "print(params['embedding'])\n",
    "print(params['reduction'])\n",
    "print(params['blocking'])"
   ]
  },
  {
   "cell_type": "code",
   "execution_count": 14,
   "metadata": {},
   "outputs": [
    {
     "name": "stdout",
     "output_type": "stream",
     "text": [
      "(RR) Reduction ratio is: 0.9613279585407887\n",
      "(PC) Pair completeness is: 0.7553846153846154\n",
      "(RM) Reference metric (Harmonic mean RR and PC) is: 0.8460034151906496\n",
      "(PQ) Pair quality - Precision is: 0.002412142262353632\n",
      "(FM) Fmeasure is: 0.0048089283484367305\n",
      "\n",
      "['title', 'manufacturer']\n",
      "{'name': 'Infersent', 'model_type': 'bilstm', 'char_level': False, 'model_version': 2, 'rnn_dim': 2048, 'verbose': 1}\n",
      "{'name': 'TSNE', 'num_components': 2, 'early_exaggeration': 12, 'verbose': 1, 'perplexity': 5, 'method': 'barnes_hut'}\n",
      "{'name': 'birch_cluster', 'num_clusters': 28}\n"
     ]
    }
   ],
   "source": [
    "from evaluation import calc_index\n",
    "calc_index(blocks,table,pairs)\n",
    "print()\n",
    "print(params['attr_list'])\n",
    "print(params['embedding'])\n",
    "print(params['reduction'])\n",
    "print(params['blocking']) "
   ]
  },
  {
   "cell_type": "code",
   "execution_count": 15,
   "metadata": {},
   "outputs": [
    {
     "name": "stdout",
     "output_type": "stream",
     "text": [
      "(RR) Reduction ratio is: 0.9603648313325732\n",
      "(PC) Pair completeness is: 0.7276923076923076\n",
      "(RM) Reference metric (Harmonic mean RR and PC) is: 0.8279934182116965\n",
      "(PQ) Pair quality - Precision is: 0.0022672476189106667\n",
      "(FM) Fmeasure is: 0.004520411137604947\n",
      "\n",
      "['title', 'manufacturer']\n",
      "{'name': 'Infersent', 'model_type': 'bilstm', 'char_level': False, 'model_version': 2, 'rnn_dim': 2048, 'verbose': 1}\n",
      "{'name': 'TSNE', 'num_components': 2, 'early_exaggeration': 12, 'verbose': 1, 'perplexity': 5, 'method': 'barnes_hut'}\n",
      "{'name': 'DBScan', 'eps': 7, 'min_samples': 2}\n"
     ]
    }
   ],
   "source": [
    "from evaluation import calc_index\n",
    "calc_index(blocks,table,pairs)\n",
    "print()\n",
    "print(params['attr_list'])\n",
    "print(params['embedding'])\n",
    "print(params['reduction'])\n",
    "print(params['blocking'])"
   ]
  },
  {
   "cell_type": "code",
   "execution_count": 17,
   "metadata": {},
   "outputs": [
    {
     "name": "stdout",
     "output_type": "stream",
     "text": [
      "(RR) Reduction ratio is: 0.9219618081447561\n",
      "(PC) Pair completeness is: 0.7523076923076923\n",
      "(RM) Reference metric (Harmonic mean RR and PC) is: 0.8285392048218918\n",
      "(PQ) Pair quality - Precision is: 0.0011904747413638847\n",
      "(FM) Fmeasure is: 0.0023771877480035144\n",
      "\n",
      "['title', 'manufacturer']\n",
      "{'name': 'Infersent', 'model_type': 'bilstm', 'char_level': False, 'model_version': 2, 'rnn_dim': 2048, 'verbose': 1}\n",
      "{'name': 'TSNE', 'num_components': 2, 'early_exaggeration': 12, 'verbose': 1, 'perplexity': 5, 'method': 'barnes_hut'}\n",
      "{'name': 'k_means', 'num_clusters': 13}\n"
     ]
    }
   ],
   "source": [
    "from evaluation import calc_index\n",
    "calc_index(blocks,table,pairs)\n",
    "print()\n",
    "print(params['attr_list'])\n",
    "print(params['embedding'])\n",
    "print(params['reduction'])\n",
    "print(params['blocking'])"
   ]
  },
  {
   "cell_type": "markdown",
   "metadata": {},
   "source": [
    "## Searching"
   ]
  },
  {
   "cell_type": "code",
   "execution_count": 12,
   "metadata": {},
   "outputs": [
    {
     "name": "stdout",
     "output_type": "stream",
     "text": [
      "clustering with NUM_CLUSTERS = 5, \n",
      "(RR) Reduction ratio is: 0.7739433385965415\n",
      "(PC) Pair completeness is: 0.8223076923076923\n",
      "(RM) Reference metric (Harmonic mean RR and PC) is: 0.7973928265878308\n",
      "(PQ) Pair quality - Precision is: 0.0004492094921453472\n",
      "(FM) Fmeasure is: 0.0008979284647523179\n",
      "clustering with NUM_CLUSTERS = 6, \n",
      "(RR) Reduction ratio is: 0.7941405122708238\n",
      "(PC) Pair completeness is: 0.8192307692307692\n",
      "(RM) Reference metric (Harmonic mean RR and PC) is: 0.8064905458580295\n",
      "(PQ) Pair quality - Precision is: 0.0004914363183898239\n",
      "(FM) Fmeasure is: 0.0009822833892189557\n",
      "clustering with NUM_CLUSTERS = 7, \n",
      "(RR) Reduction ratio is: 0.8459766854631151\n",
      "(PC) Pair completeness is: 0.8046153846153846\n",
      "(RM) Reference metric (Harmonic mean RR and PC) is: 0.8247778097191272\n",
      "(PQ) Pair quality - Precision is: 0.0006451099616449441\n",
      "(FM) Fmeasure is: 0.0012891863028269045\n",
      "clustering with NUM_CLUSTERS = 8, \n",
      "(RR) Reduction ratio is: 0.86110896322904\n",
      "(PC) Pair completeness is: 0.7861538461538462\n",
      "(RM) Reference metric (Harmonic mean RR and PC) is: 0.821926069773495\n",
      "(PQ) Pair quality - Precision is: 0.0006989807328901896\n",
      "(FM) Fmeasure is: 0.0013967196222023754\n",
      "clustering with NUM_CLUSTERS = 9, \n",
      "(RR) Reduction ratio is: 0.8825924280095897\n",
      "(PC) Pair completeness is: 0.78\n",
      "(RM) Reference metric (Harmonic mean RR and PC) is: 0.8281309144077363\n",
      "(PQ) Pair quality - Precision is: 0.0008204089261138426\n",
      "(FM) Fmeasure is: 0.0016390938429719\n",
      "clustering with NUM_CLUSTERS = 10, \n",
      "(RR) Reduction ratio is: 0.8900204480484111\n",
      "(PC) Pair completeness is: 0.7792307692307693\n",
      "(RM) Reference metric (Harmonic mean RR and PC) is: 0.8309490041820169\n",
      "(PQ) Pair quality - Precision is: 0.0008749556260164989\n",
      "(FM) Fmeasure is: 0.0017479485761466276\n",
      "clustering with NUM_CLUSTERS = 11, \n",
      "(RR) Reduction ratio is: 0.9030004846508548\n",
      "(PC) Pair completeness is: 0.7761538461538462\n",
      "(RM) Reference metric (Harmonic mean RR and PC) is: 0.834786042453491\n",
      "(PQ) Pair quality - Precision is: 0.0009881210032023347\n",
      "(FM) Fmeasure is: 0.0019737292528583866\n",
      "clustering with NUM_CLUSTERS = 12, \n",
      "(RR) Reduction ratio is: 0.9093079751948435\n",
      "(PC) Pair completeness is: 0.7761538461538462\n",
      "(RM) Reference metric (Harmonic mean RR and PC) is: 0.837471218091549\n",
      "(PQ) Pair quality - Precision is: 0.0010568432960103905\n",
      "(FM) Fmeasure is: 0.002110812422204324\n",
      "clustering with NUM_CLUSTERS = 13, \n",
      "(RR) Reduction ratio is: 0.9165201726656538\n",
      "(PC) Pair completeness is: 0.7753846153846153\n",
      "(RM) Reference metric (Harmonic mean RR and PC) is: 0.8400657609031892\n",
      "(PQ) Pair quality - Precision is: 0.0011470108306042518\n",
      "(FM) Fmeasure is: 0.0022906331737313464\n",
      "clustering with NUM_CLUSTERS = 14, \n",
      "(RR) Reduction ratio is: 0.9229107814961786\n",
      "(PC) Pair completeness is: 0.7753846153846153\n",
      "(RM) Reference metric (Harmonic mean RR and PC) is: 0.8427401059427815\n",
      "(PQ) Pair quality - Precision is: 0.001242096728282715\n",
      "(FM) Fmeasure is: 0.0024802203656110557\n",
      "clustering with NUM_CLUSTERS = 15, \n",
      "(RR) Reduction ratio is: 0.9272549706160234\n",
      "(PC) Pair completeness is: 0.77\n",
      "(RM) Reference metric (Harmonic mean RR and PC) is: 0.8413424497029985\n",
      "(PQ) Pair quality - Precision is: 0.0013071315057867664\n",
      "(FM) Fmeasure is: 0.002609832629165205\n",
      "clustering with NUM_CLUSTERS = 16, \n",
      "(RR) Reduction ratio is: 0.9301668654222799\n",
      "(PC) Pair completeness is: 0.7684615384615384\n",
      "(RM) Reference metric (Harmonic mean RR and PC) is: 0.8416172233950732\n",
      "(PQ) Pair quality - Precision is: 0.001358915588081263\n",
      "(FM) Fmeasure is: 0.0027130335598720885\n",
      "clustering with NUM_CLUSTERS = 17, \n",
      "(RR) Reduction ratio is: 0.9362734471936702\n",
      "(PC) Pair completeness is: 0.7669230769230769\n",
      "(RM) Reference metric (Harmonic mean RR and PC) is: 0.8431789318446569\n",
      "(PQ) Pair quality - Precision is: 0.001486152103270429\n",
      "(FM) Fmeasure is: 0.0029665555820042847\n",
      "clustering with NUM_CLUSTERS = 18, \n",
      "(RR) Reduction ratio is: 0.9407479657868034\n",
      "(PC) Pair completeness is: 0.7653846153846153\n",
      "(RM) Reference metric (Harmonic mean RR and PC) is: 0.8440540060177755\n",
      "(PQ) Pair quality - Precision is: 0.0015951750363924354\n",
      "(FM) Fmeasure is: 0.0031837147391593715\n",
      "clustering with NUM_CLUSTERS = 19, \n",
      "(RR) Reduction ratio is: 0.9435666731198121\n",
      "(PC) Pair completeness is: 0.7653846153846153\n",
      "(RM) Reference metric (Harmonic mean RR and PC) is: 0.8451866592728543\n",
      "(PQ) Pair quality - Precision is: 0.0016748501472016537\n",
      "(FM) Fmeasure is: 0.003342386329471953\n",
      "clustering with NUM_CLUSTERS = 20, \n",
      "(RR) Reduction ratio is: 0.9453192815616283\n",
      "(PC) Pair completeness is: 0.7653846153846153\n",
      "(RM) Reference metric (Harmonic mean RR and PC) is: 0.8458890355312539\n",
      "(PQ) Pair quality - Precision is: 0.001728531894453584\n",
      "(FM) Fmeasure is: 0.003449274005820433\n",
      "clustering with NUM_CLUSTERS = 21, \n",
      "(RR) Reduction ratio is: 0.9481285846542175\n",
      "(PC) Pair completeness is: 0.7615384615384615\n",
      "(RM) Reference metric (Harmonic mean RR and PC) is: 0.8446514604187305\n",
      "(PQ) Pair quality - Precision is: 0.0018129909039133133\n",
      "(FM) Fmeasure is: 0.0036173699528097647\n",
      "clustering with NUM_CLUSTERS = 22, \n",
      "(RR) Reduction ratio is: 0.9506952773424491\n",
      "(PC) Pair completeness is: 0.7615384615384615\n",
      "(RM) Reference metric (Harmonic mean RR and PC) is: 0.8456684417075427\n",
      "(PQ) Pair quality - Precision is: 0.001907371122401207\n",
      "(FM) Fmeasure is: 0.0038052116024361042\n",
      "clustering with NUM_CLUSTERS = 23, \n",
      "(RR) Reduction ratio is: 0.9522911484439401\n",
      "(PC) Pair completeness is: 0.76\n",
      "(RM) Reference metric (Harmonic mean RR and PC) is: 0.8453483783702331\n",
      "(PQ) Pair quality - Precision is: 0.0019671909190644293\n",
      "(FM) Fmeasure is: 0.003924224340120627\n",
      "clustering with NUM_CLUSTERS = 24, \n",
      "(RR) Reduction ratio is: 0.9535096150283942\n",
      "(PC) Pair completeness is: 0.76\n",
      "(RM) Reference metric (Harmonic mean RR and PC) is: 0.8458281191606518\n",
      "(PQ) Pair quality - Precision is: 0.002018749029447582\n",
      "(FM) Fmeasure is: 0.004026801871566214\n",
      "clustering with NUM_CLUSTERS = 25, \n",
      "(RR) Reduction ratio is: 0.9557480142328905\n",
      "(PC) Pair completeness is: 0.7592307692307693\n",
      "(RM) Reference metric (Harmonic mean RR and PC) is: 0.846230060725639\n",
      "(PQ) Pair quality - Precision is: 0.002118716834675688\n",
      "(FM) Fmeasure is: 0.004225641552570063\n",
      "clustering with NUM_CLUSTERS = 26, \n",
      "(RR) Reduction ratio is: 0.9583153718674142\n",
      "(PC) Pair completeness is: 0.7569230769230769\n",
      "(RM) Reference metric (Harmonic mean RR and PC) is: 0.8457961287517368\n",
      "(PQ) Pair quality - Precision is: 0.0022423721745313007\n",
      "(FM) Fmeasure is: 0.004471497610884279\n",
      "clustering with NUM_CLUSTERS = 27, \n",
      "(RR) Reduction ratio is: 0.9604023533019238\n",
      "(PC) Pair completeness is: 0.7553846153846154\n",
      "(RM) Reference metric (Harmonic mean RR and PC) is: 0.8456447979888947\n",
      "(PQ) Pair quality - Precision is: 0.0023557578127436423\n",
      "(FM) Fmeasure is: 0.004696867877871869\n",
      "clustering with NUM_CLUSTERS = 28, \n",
      "(RR) Reduction ratio is: 0.9613279585407887\n",
      "(PC) Pair completeness is: 0.7553846153846154\n",
      "(RM) Reference metric (Harmonic mean RR and PC) is: 0.8460034151906496\n",
      "(PQ) Pair quality - Precision is: 0.002412142262353632\n",
      "(FM) Fmeasure is: 0.0048089283484367305\n",
      "clustering with NUM_CLUSTERS = 29, \n",
      "(RR) Reduction ratio is: 0.9634111402821994\n",
      "(PC) Pair completeness is: 0.7438461538461538\n",
      "(RM) Reference metric (Harmonic mean RR and PC) is: 0.8395098661884229\n",
      "(PQ) Pair quality - Precision is: 0.0025105341180807783\n",
      "(FM) Fmeasure is: 0.005004178773898575\n",
      "clustering with NUM_CLUSTERS = 30, \n",
      "(RR) Reduction ratio is: 0.9643863315160035\n",
      "(PC) Pair completeness is: 0.7438461538461538\n",
      "(RM) Reference metric (Harmonic mean RR and PC) is: 0.8398798988627086\n",
      "(PQ) Pair quality - Precision is: 0.0025792788155055467\n",
      "(FM) Fmeasure is: 0.005140732195496676\n",
      "clustering with NUM_CLUSTERS = 31, \n",
      "(RR) Reduction ratio is: 0.9651776176038261\n",
      "(PC) Pair completeness is: 0.7438461538461538\n",
      "(RM) Reference metric (Harmonic mean RR and PC) is: 0.8401798390713757\n",
      "(PQ) Pair quality - Precision is: 0.0026378890340743246\n",
      "(FM) Fmeasure is: 0.005257134779996792\n",
      "clustering with NUM_CLUSTERS = 32, \n",
      "(RR) Reduction ratio is: 0.966379080561663\n",
      "(PC) Pair completeness is: 0.7438461538461538\n",
      "(RM) Reference metric (Harmonic mean RR and PC) is: 0.8406347278369802\n",
      "(PQ) Pair quality - Precision is: 0.0027321555209601817\n",
      "(FM) Fmeasure is: 0.00544431401361923\n",
      "clustering with NUM_CLUSTERS = 33, \n",
      "(RR) Reduction ratio is: 0.9673941685730043\n",
      "(PC) Pair completeness is: 0.7438461538461538\n",
      "(RM) Reference metric (Harmonic mean RR and PC) is: 0.8410185549262287\n",
      "(PQ) Pair quality - Precision is: 0.0028172132604217955\n",
      "(FM) Fmeasure is: 0.005613167434341323\n",
      "clustering with NUM_CLUSTERS = 34, \n"
     ]
    },
    {
     "name": "stdout",
     "output_type": "stream",
     "text": [
      "(RR) Reduction ratio is: 0.9680906523180123\n",
      "(PC) Pair completeness is: 0.7438461538461538\n",
      "(RM) Reference metric (Harmonic mean RR and PC) is: 0.8412816474396341\n",
      "(PQ) Pair quality - Precision is: 0.0028787044341574506\n",
      "(FM) Fmeasure is: 0.005735213439497057\n",
      "clustering with NUM_CLUSTERS = 35, \n",
      "(RR) Reduction ratio is: 0.9688486910912205\n",
      "(PC) Pair completeness is: 0.7423076923076923\n",
      "(RM) Reference metric (Harmonic mean RR and PC) is: 0.8405822437464415\n",
      "(PQ) Pair quality - Precision is: 0.002942656319087624\n",
      "(FM) Fmeasure is: 0.005862074202317494\n",
      "clustering with NUM_CLUSTERS = 36, \n",
      "(RR) Reduction ratio is: 0.9696702797315061\n",
      "(PC) Pair completeness is: 0.7423076923076923\n",
      "(RM) Reference metric (Harmonic mean RR and PC) is: 0.8408913191674734\n",
      "(PQ) Pair quality - Precision is: 0.0030223686600727873\n",
      "(FM) Fmeasure is: 0.0060202254621224876\n",
      "clustering with NUM_CLUSTERS = 37, \n",
      "(RR) Reduction ratio is: 0.9701666146425353\n",
      "(PC) Pair completeness is: 0.74\n",
      "(RM) Reference metric (Harmonic mean RR and PC) is: 0.8395945619433565\n",
      "(PQ) Pair quality - Precision is: 0.003063099206841983\n",
      "(FM) Fmeasure is: 0.006100944631707789\n",
      "clustering with NUM_CLUSTERS = 38, \n",
      "(RR) Reduction ratio is: 0.9710000773237546\n",
      "(PC) Pair completeness is: 0.74\n",
      "(RM) Reference metric (Harmonic mean RR and PC) is: 0.8399065163614444\n",
      "(PQ) Pair quality - Precision is: 0.003151133195976245\n",
      "(FM) Fmeasure is: 0.006275543320493041\n",
      "clustering with NUM_CLUSTERS = 39, \n",
      "(RR) Reduction ratio is: 0.9716749028180994\n",
      "(PC) Pair completeness is: 0.74\n",
      "(RM) Reference metric (Harmonic mean RR and PC) is: 0.8401588723437704\n",
      "(PQ) Pair quality - Precision is: 0.0032262067254001736\n",
      "(FM) Fmeasure is: 0.006424404724141269\n",
      "clustering with NUM_CLUSTERS = 40, \n",
      "(RR) Reduction ratio is: 0.9723520081283035\n",
      "(PC) Pair completeness is: 0.74\n",
      "(RM) Reference metric (Harmonic mean RR and PC) is: 0.8404118809676786\n",
      "(PQ) Pair quality - Precision is: 0.0033052172269845905\n",
      "(FM) Fmeasure is: 0.0065810401737613515\n",
      "clustering with NUM_CLUSTERS = 41, \n",
      "(RR) Reduction ratio is: 0.9732401863901453\n",
      "(PC) Pair completeness is: 0.7276923076923076\n",
      "(RM) Reference metric (Harmonic mean RR and PC) is: 0.8327425099315027\n",
      "(PQ) Pair quality - Precision is: 0.003358122859019187\n",
      "(FM) Fmeasure is: 0.006685394250984965\n",
      "clustering with NUM_CLUSTERS = 42, \n",
      "(RR) Reduction ratio is: 0.9744769864938009\n",
      "(PC) Pair completeness is: 0.7246153846153847\n",
      "(RM) Reference metric (Harmonic mean RR and PC) is: 0.8311743709449807\n",
      "(PQ) Pair quality - Precision is: 0.0035059642332098927\n",
      "(FM) Fmeasure is: 0.006978165453636313\n",
      "clustering with NUM_CLUSTERS = 43, \n",
      "(RR) Reduction ratio is: 0.9748260832972521\n",
      "(PC) Pair completeness is: 0.7238461538461538\n",
      "(RM) Reference metric (Harmonic mean RR and PC) is: 0.8307948945468704\n",
      "(PQ) Pair quality - Precision is: 0.0035508094034187388\n",
      "(FM) Fmeasure is: 0.007066952048364687\n",
      "clustering with NUM_CLUSTERS = 44, \n",
      "(RR) Reduction ratio is: 0.9756297183876458\n",
      "(PC) Pair completeness is: 0.7238461538461538\n",
      "(RM) Reference metric (Harmonic mean RR and PC) is: 0.8310866082548888\n",
      "(PQ) Pair quality - Precision is: 0.003667900993958293\n",
      "(FM) Fmeasure is: 0.007298817141749079\n",
      "clustering with NUM_CLUSTERS = 45, \n",
      "(RR) Reduction ratio is: 0.9757627076461034\n",
      "(PC) Pair completeness is: 0.7238461538461538\n",
      "(RM) Reference metric (Harmonic mean RR and PC) is: 0.8311348557879458\n",
      "(PQ) Pair quality - Precision is: 0.003688026650989614\n",
      "(FM) Fmeasure is: 0.007338662507311366\n",
      "clustering with NUM_CLUSTERS = 46, \n",
      "(RR) Reduction ratio is: 0.9765834413554417\n",
      "(PC) Pair completeness is: 0.7238461538461538\n",
      "(RM) Reference metric (Harmonic mean RR and PC) is: 0.831432444988904\n",
      "(PQ) Pair quality - Precision is: 0.0038172893594580343\n",
      "(FM) Fmeasure is: 0.007594528065856907\n",
      "clustering with NUM_CLUSTERS = 47, \n",
      "(RR) Reduction ratio is: 0.9768106630027493\n",
      "(PC) Pair completeness is: 0.7238461538461538\n",
      "(RM) Reference metric (Harmonic mean RR and PC) is: 0.8315147823422051\n",
      "(PQ) Pair quality - Precision is: 0.0038546932221302814\n",
      "(FM) Fmeasure is: 0.007668549169172595\n",
      "clustering with NUM_CLUSTERS = 48, \n",
      "(RR) Reduction ratio is: 0.9773906861542794\n",
      "(PC) Pair completeness is: 0.7238461538461538\n",
      "(RM) Reference metric (Harmonic mean RR and PC) is: 0.8317248631620842\n",
      "(PQ) Pair quality - Precision is: 0.0039535821723274455\n",
      "(FM) Fmeasure is: 0.00786421073744735\n",
      "clustering with NUM_CLUSTERS = 49, \n",
      "(RR) Reduction ratio is: 0.9777352233260119\n",
      "(PC) Pair completeness is: 0.7238461538461538\n",
      "(RM) Reference metric (Harmonic mean RR and PC) is: 0.8318495846030125\n",
      "(PQ) Pair quality - Precision is: 0.004014762036819762\n",
      "(FM) Fmeasure is: 0.007985234529138468\n"
     ]
    }
   ],
   "source": [
    "for i in range(5,50,1):\n",
    "    num_clusters = int(i)\n",
    "    blocks = birch_cluster(tsne_embeddings, {'num_clusters': num_clusters})\n",
    "    calc_index(blocks,table,pairs)"
   ]
  },
  {
   "cell_type": "code",
   "execution_count": 13,
   "metadata": {},
   "outputs": [
    {
     "name": "stdout",
     "output_type": "stream",
     "text": [
      "6\n",
      "DBScan_cluster\n",
      "(RR) Reduction ratio is: 0.9864605535810873\n",
      "(PC) Pair completeness is: 0.7\n",
      "(RM) Reference metric (Harmonic mean RR and PC) is: 0.8189013209238515\n",
      "(PQ) Pair quality - Precision is: 0.0063845311929952575\n",
      "(FM) Fmeasure is: 0.012653651482284888\n",
      "7\n",
      "DBScan_cluster\n",
      "(RR) Reduction ratio is: 0.9603648313325732\n",
      "(PC) Pair completeness is: 0.7276923076923076\n",
      "(RM) Reference metric (Harmonic mean RR and PC) is: 0.8279934182116965\n",
      "(PQ) Pair quality - Precision is: 0.0022672476189106667\n",
      "(FM) Fmeasure is: 0.004520411137604947\n"
     ]
    }
   ],
   "source": [
    "for i in range(6,8,1):\n",
    "    eps = int(i)\n",
    "    min_samples = 2\n",
    "    print(eps)\n",
    "    blocks = DBSCAN_cluster(tsne_embeddings, {'eps':eps, 'min_samples':min_samples})\n",
    "    calc_index(blocks,table,pairs)"
   ]
  },
  {
   "cell_type": "markdown",
   "metadata": {},
   "source": [
    "# Best"
   ]
  },
  {
   "cell_type": "code",
   "execution_count": 28,
   "metadata": {},
   "outputs": [],
   "source": [
    "# Amazon-GP\n",
    "# RR PC alpha\n",
    "list_embedding = [0.9436, 0.7885, 0.8591]\n",
    "\n",
    "list_hierarchy = [0.9277, 0.8407, 0.8821] # TSNE: 203.28, BLOCKS: 0.7234, n_cluster: 15\n",
    "list_kmeans = [0.9219, 0.7523, 0.8285] # TSNE: 203.28, BLOCKS: 163.54, n_cluster: 13\n",
    "list_birch = [0.9613, 0.7553, 0.8460] # TSNE: 203.28, BLOCKS: 0.601 n_cluster: 26\n",
    "list_DBscan = [0.9603, 0.7276, 0.8276] # TSNE: 203.28, BLOCKS: 0.7234"
   ]
  },
  {
   "cell_type": "code",
   "execution_count": null,
   "metadata": {},
   "outputs": [],
   "source": []
  }
 ],
 "metadata": {
  "kernelspec": {
   "display_name": "Python 3.7.7 64-bit ('thesisEnv': conda)",
   "language": "python",
   "name": "python37764bitthesisenvcondad61bb62be9734ae9b8ba15c07cc7706a"
  },
  "language_info": {
   "codemirror_mode": {
    "name": "ipython",
    "version": 3
   },
   "file_extension": ".py",
   "mimetype": "text/x-python",
   "name": "python",
   "nbconvert_exporter": "python",
   "pygments_lexer": "ipython3",
   "version": "3.7.7"
  },
  "toc": {
   "base_numbering": 1,
   "nav_menu": {},
   "number_sections": true,
   "sideBar": true,
   "skip_h1_title": false,
   "title_cell": "Table of Contents",
   "title_sidebar": "Contents",
   "toc_cell": true,
   "toc_position": {},
   "toc_section_display": true,
   "toc_window_display": false
  },
  "varInspector": {
   "cols": {
    "lenName": 16,
    "lenType": 16,
    "lenVar": 40
   },
   "kernels_config": {
    "python": {
     "delete_cmd_postfix": "",
     "delete_cmd_prefix": "del ",
     "library": "var_list.py",
     "varRefreshCmd": "print(var_dic_list())"
    },
    "r": {
     "delete_cmd_postfix": ") ",
     "delete_cmd_prefix": "rm(",
     "library": "var_list.r",
     "varRefreshCmd": "cat(var_dic_list()) "
    }
   },
   "types_to_exclude": [
    "module",
    "function",
    "builtin_function_or_method",
    "instance",
    "_Feature"
   ],
   "window_display": false
  }
 },
 "nbformat": 4,
 "nbformat_minor": 4
}
