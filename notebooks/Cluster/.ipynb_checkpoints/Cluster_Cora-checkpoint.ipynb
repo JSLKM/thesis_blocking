{
 "cells": [
  {
   "cell_type": "markdown",
   "metadata": {
    "toc": true
   },
   "source": [
    "<h1>Table of Contents<span class=\"tocSkip\"></span></h1>\n",
    "<div class=\"toc\"><ul class=\"toc-item\"><li><span><a href=\"#Setup\" data-toc-modified-id=\"Setup-1\"><span class=\"toc-item-num\">1&nbsp;&nbsp;</span>Setup</a></span></li><li><span><a href=\"#Import-dataset\" data-toc-modified-id=\"Import-dataset-2\"><span class=\"toc-item-num\">2&nbsp;&nbsp;</span>Import dataset</a></span></li><li><span><a href=\"#Sentence-embedding\" data-toc-modified-id=\"Sentence-embedding-3\"><span class=\"toc-item-num\">3&nbsp;&nbsp;</span>Sentence embedding</a></span><ul class=\"toc-item\"><li><span><a href=\"#Infersent\" data-toc-modified-id=\"Infersent-3.1\"><span class=\"toc-item-num\">3.1&nbsp;&nbsp;</span>Infersent</a></span></li></ul></li><li><span><a href=\"#Dimensionality-reduction\" data-toc-modified-id=\"Dimensionality-reduction-4\"><span class=\"toc-item-num\">4&nbsp;&nbsp;</span>Dimensionality reduction</a></span><ul class=\"toc-item\"><li><span><a href=\"#TSNE\" data-toc-modified-id=\"TSNE-4.1\"><span class=\"toc-item-num\">4.1&nbsp;&nbsp;</span>TSNE</a></span></li></ul></li><li><span><a href=\"#Blocking\" data-toc-modified-id=\"Blocking-5\"><span class=\"toc-item-num\">5&nbsp;&nbsp;</span>Blocking</a></span></li><li><span><a href=\"#Evaluation\" data-toc-modified-id=\"Evaluation-6\"><span class=\"toc-item-num\">6&nbsp;&nbsp;</span>Evaluation</a></span><ul class=\"toc-item\"><li><span><a href=\"#bilstm,-rnn_dim-2048\" data-toc-modified-id=\"bilstm,-rnn_dim-2048-6.1\"><span class=\"toc-item-num\">6.1&nbsp;&nbsp;</span>bilstm, rnn_dim 2048</a></span></li><li><span><a href=\"#bilstrm,-rnn_dim:-1024\" data-toc-modified-id=\"bilstrm,-rnn_dim:-1024-6.2\"><span class=\"toc-item-num\">6.2&nbsp;&nbsp;</span>bilstrm, rnn_dim: 1024</a></span></li><li><span><a href=\"#Searching\" data-toc-modified-id=\"Searching-6.3\"><span class=\"toc-item-num\">6.3&nbsp;&nbsp;</span>Searching</a></span></li></ul></li><li><span><a href=\"#Best\" data-toc-modified-id=\"Best-7\"><span class=\"toc-item-num\">7&nbsp;&nbsp;</span>Best</a></span></li></ul></div>"
   ]
  },
  {
   "cell_type": "markdown",
   "metadata": {},
   "source": [
    "# Setup "
   ]
  },
  {
   "cell_type": "code",
   "execution_count": 1,
   "metadata": {},
   "outputs": [],
   "source": [
    "import os\n",
    "import sys\n",
    "import time\n",
    "import numpy as np\n",
    "import matplotlib.pyplot as plt\n",
    "\n",
    "module_path = os.path.abspath(os.path.join('../..'))\n",
    "if module_path not in sys.path:\n",
    "    sys.path.append(module_path)\n",
    "    \n",
    "from preprocessing_datasets.preprocessing_utilities import get_labels_by\n",
    "\n",
    "params = {}"
   ]
  },
  {
   "cell_type": "markdown",
   "metadata": {},
   "source": [
    "# Import dataset"
   ]
  },
  {
   "cell_type": "code",
   "execution_count": 2,
   "metadata": {},
   "outputs": [],
   "source": [
    "from preprocessing_datasets.preprocessing_cora import clean_cora\n",
    "table, pairs = clean_cora()"
   ]
  },
  {
   "cell_type": "code",
   "execution_count": 3,
   "metadata": {},
   "outputs": [
    {
     "data": {
      "text/html": [
       "<div>\n",
       "<style scoped>\n",
       "    .dataframe tbody tr th:only-of-type {\n",
       "        vertical-align: middle;\n",
       "    }\n",
       "\n",
       "    .dataframe tbody tr th {\n",
       "        vertical-align: top;\n",
       "    }\n",
       "\n",
       "    .dataframe thead th {\n",
       "        text-align: right;\n",
       "    }\n",
       "</style>\n",
       "<table border=\"1\" class=\"dataframe\">\n",
       "  <thead>\n",
       "    <tr style=\"text-align: right;\">\n",
       "      <th></th>\n",
       "      <th>author</th>\n",
       "      <th>volume</th>\n",
       "      <th>title</th>\n",
       "      <th>institution</th>\n",
       "      <th>venue</th>\n",
       "      <th>address</th>\n",
       "      <th>publisher</th>\n",
       "      <th>year</th>\n",
       "      <th>pages</th>\n",
       "      <th>editor</th>\n",
       "      <th>note</th>\n",
       "      <th>month</th>\n",
       "    </tr>\n",
       "  </thead>\n",
       "  <tbody>\n",
       "    <tr>\n",
       "      <th>0</th>\n",
       "      <td>p. auer, n. cesa-bianchi, y. freund, and r. e....</td>\n",
       "      <td>unk</td>\n",
       "      <td>'gambling in a rigged casino: the adversarial ...</td>\n",
       "      <td>unk</td>\n",
       "      <td>in proc. 36th annual symposium on foundations ...</td>\n",
       "      <td>los alamitos, ca:,</td>\n",
       "      <td>ieee computer society press,,</td>\n",
       "      <td>1995,,</td>\n",
       "      <td>pp. 322-331.,</td>\n",
       "      <td>unk</td>\n",
       "      <td>unk</td>\n",
       "      <td>unk</td>\n",
       "    </tr>\n",
       "    <tr>\n",
       "      <th>1</th>\n",
       "      <td>a. blum, m. furst, m. j. kearns, and richard j...</td>\n",
       "      <td>unk</td>\n",
       "      <td>cryptographic primitives based on hard learnin...</td>\n",
       "      <td>unk</td>\n",
       "      <td>in pre-proceedings of crypto '93,,</td>\n",
       "      <td>unk</td>\n",
       "      <td>unk</td>\n",
       "      <td>1993.,</td>\n",
       "      <td>pages 24.1-24.10,,</td>\n",
       "      <td>unk</td>\n",
       "      <td>unk</td>\n",
       "      <td>unk</td>\n",
       "    </tr>\n",
       "    <tr>\n",
       "      <th>2</th>\n",
       "      <td>avrim blum, merrick furst, michael kearns, and...</td>\n",
       "      <td>unk</td>\n",
       "      <td>cryptographic primitives based on hard learnin...</td>\n",
       "      <td>unk</td>\n",
       "      <td>in pre-proceedings of crypto '93,,</td>\n",
       "      <td>unk</td>\n",
       "      <td>unk</td>\n",
       "      <td>1993.,</td>\n",
       "      <td>pages 24.1-24.10,,</td>\n",
       "      <td>unk</td>\n",
       "      <td>unk</td>\n",
       "      <td>unk</td>\n",
       "    </tr>\n",
       "    <tr>\n",
       "      <th>3</th>\n",
       "      <td>avrim blum, merrick furst, michael kearns, and...</td>\n",
       "      <td>unk</td>\n",
       "      <td>cryptographic primitives based on hard learnin...</td>\n",
       "      <td>unk</td>\n",
       "      <td>proc. crypto 93,,</td>\n",
       "      <td>unk</td>\n",
       "      <td>springer,,</td>\n",
       "      <td>1994.,</td>\n",
       "      <td>pages 278-291.,</td>\n",
       "      <td>in douglas r. stinson, editor,,</td>\n",
       "      <td>lecture notes in computer science no. 773.,</td>\n",
       "      <td>unk</td>\n",
       "    </tr>\n",
       "    <tr>\n",
       "      <th>4</th>\n",
       "      <td>a. blum, m. furst, m. kearns, r. lipton.,</td>\n",
       "      <td>unk</td>\n",
       "      <td>cryptographic primitives based on hard learnin...</td>\n",
       "      <td>unk</td>\n",
       "      <td>crypto,,</td>\n",
       "      <td>unk</td>\n",
       "      <td>unk</td>\n",
       "      <td>1993.,</td>\n",
       "      <td>unk</td>\n",
       "      <td>unk</td>\n",
       "      <td>unk</td>\n",
       "      <td>unk</td>\n",
       "    </tr>\n",
       "    <tr>\n",
       "      <th>...</th>\n",
       "      <td>...</td>\n",
       "      <td>...</td>\n",
       "      <td>...</td>\n",
       "      <td>...</td>\n",
       "      <td>...</td>\n",
       "      <td>...</td>\n",
       "      <td>...</td>\n",
       "      <td>...</td>\n",
       "      <td>...</td>\n",
       "      <td>...</td>\n",
       "      <td>...</td>\n",
       "      <td>...</td>\n",
       "    </tr>\n",
       "    <tr>\n",
       "      <th>1290</th>\n",
       "      <td>robert e. schapire and yoram singer.,</td>\n",
       "      <td>unk</td>\n",
       "      <td>improved boosting algorithms using confidence-...</td>\n",
       "      <td>unk</td>\n",
       "      <td>in proceedings of the eleventh annual conferen...</td>\n",
       "      <td>unk</td>\n",
       "      <td>unk</td>\n",
       "      <td>1998.,</td>\n",
       "      <td>unk</td>\n",
       "      <td>unk</td>\n",
       "      <td>unk</td>\n",
       "      <td>unk</td>\n",
       "    </tr>\n",
       "    <tr>\n",
       "      <th>1291</th>\n",
       "      <td>schapire, r. e., freund, y., bartlett, p., &amp; l...</td>\n",
       "      <td>unk</td>\n",
       "      <td>boosting the margin: a new explanation for the...</td>\n",
       "      <td>unk</td>\n",
       "      <td>unk</td>\n",
       "      <td>unk</td>\n",
       "      <td>unk</td>\n",
       "      <td>(1998).,</td>\n",
       "      <td>unk</td>\n",
       "      <td>unk</td>\n",
       "      <td>annals of statistics (to appear).,</td>\n",
       "      <td>unk</td>\n",
       "    </tr>\n",
       "    <tr>\n",
       "      <th>1292</th>\n",
       "      <td>robert e. schapire and yoram singer. boostexter:,</td>\n",
       "      <td>unk</td>\n",
       "      <td>a system for multiclass multi-label text categ...</td>\n",
       "      <td>unk</td>\n",
       "      <td>unpublished manuscript,,</td>\n",
       "      <td>unk</td>\n",
       "      <td>unk</td>\n",
       "      <td>1998.,</td>\n",
       "      <td>unk</td>\n",
       "      <td>unk</td>\n",
       "      <td>unk</td>\n",
       "      <td>unk</td>\n",
       "    </tr>\n",
       "    <tr>\n",
       "      <th>1293</th>\n",
       "      <td>robert e. schapire yoram singer.,</td>\n",
       "      <td>unk</td>\n",
       "      <td>improved boosting algorithms using confidence-...</td>\n",
       "      <td>unk</td>\n",
       "      <td>unk</td>\n",
       "      <td>unk</td>\n",
       "      <td>unk</td>\n",
       "      <td>unk</td>\n",
       "      <td>unk</td>\n",
       "      <td>unk</td>\n",
       "      <td>submitted for publication. 17,</td>\n",
       "      <td>unk</td>\n",
       "    </tr>\n",
       "    <tr>\n",
       "      <th>1294</th>\n",
       "      <td>robert e. schapire yoram singer.,</td>\n",
       "      <td>unk</td>\n",
       "      <td>improved boosting algorithms using confidence-...</td>\n",
       "      <td>unk</td>\n",
       "      <td>unk</td>\n",
       "      <td>unk</td>\n",
       "      <td>unk</td>\n",
       "      <td>unk</td>\n",
       "      <td>unk</td>\n",
       "      <td>unk</td>\n",
       "      <td>submitted for publication.,</td>\n",
       "      <td>unk</td>\n",
       "    </tr>\n",
       "  </tbody>\n",
       "</table>\n",
       "<p>1295 rows × 12 columns</p>\n",
       "</div>"
      ],
      "text/plain": [
       "                                                 author volume  \\\n",
       "0     p. auer, n. cesa-bianchi, y. freund, and r. e....    unk   \n",
       "1     a. blum, m. furst, m. j. kearns, and richard j...    unk   \n",
       "2     avrim blum, merrick furst, michael kearns, and...    unk   \n",
       "3     avrim blum, merrick furst, michael kearns, and...    unk   \n",
       "4             a. blum, m. furst, m. kearns, r. lipton.,    unk   \n",
       "...                                                 ...    ...   \n",
       "1290              robert e. schapire and yoram singer.,    unk   \n",
       "1291  schapire, r. e., freund, y., bartlett, p., & l...    unk   \n",
       "1292  robert e. schapire and yoram singer. boostexter:,    unk   \n",
       "1293                  robert e. schapire yoram singer.,    unk   \n",
       "1294                  robert e. schapire yoram singer.,    unk   \n",
       "\n",
       "                                                  title institution  \\\n",
       "0     'gambling in a rigged casino: the adversarial ...         unk   \n",
       "1     cryptographic primitives based on hard learnin...         unk   \n",
       "2     cryptographic primitives based on hard learnin...         unk   \n",
       "3     cryptographic primitives based on hard learnin...         unk   \n",
       "4     cryptographic primitives based on hard learnin...         unk   \n",
       "...                                                 ...         ...   \n",
       "1290  improved boosting algorithms using confidence-...         unk   \n",
       "1291  boosting the margin: a new explanation for the...         unk   \n",
       "1292  a system for multiclass multi-label text categ...         unk   \n",
       "1293  improved boosting algorithms using confidence-...         unk   \n",
       "1294  improved boosting algorithms using confidence-...         unk   \n",
       "\n",
       "                                                  venue             address  \\\n",
       "0     in proc. 36th annual symposium on foundations ...  los alamitos, ca:,   \n",
       "1                    in pre-proceedings of crypto '93,,                 unk   \n",
       "2                    in pre-proceedings of crypto '93,,                 unk   \n",
       "3                                     proc. crypto 93,,                 unk   \n",
       "4                                              crypto,,                 unk   \n",
       "...                                                 ...                 ...   \n",
       "1290  in proceedings of the eleventh annual conferen...                 unk   \n",
       "1291                                                unk                 unk   \n",
       "1292                           unpublished manuscript,,                 unk   \n",
       "1293                                                unk                 unk   \n",
       "1294                                                unk                 unk   \n",
       "\n",
       "                          publisher      year               pages  \\\n",
       "0     ieee computer society press,,    1995,,       pp. 322-331.,   \n",
       "1                               unk    1993.,  pages 24.1-24.10,,   \n",
       "2                               unk    1993.,  pages 24.1-24.10,,   \n",
       "3                        springer,,    1994.,     pages 278-291.,   \n",
       "4                               unk    1993.,                 unk   \n",
       "...                             ...       ...                 ...   \n",
       "1290                            unk    1998.,                 unk   \n",
       "1291                            unk  (1998).,                 unk   \n",
       "1292                            unk    1998.,                 unk   \n",
       "1293                            unk       unk                 unk   \n",
       "1294                            unk       unk                 unk   \n",
       "\n",
       "                               editor  \\\n",
       "0                                 unk   \n",
       "1                                 unk   \n",
       "2                                 unk   \n",
       "3     in douglas r. stinson, editor,,   \n",
       "4                                 unk   \n",
       "...                               ...   \n",
       "1290                              unk   \n",
       "1291                              unk   \n",
       "1292                              unk   \n",
       "1293                              unk   \n",
       "1294                              unk   \n",
       "\n",
       "                                             note month  \n",
       "0                                             unk   unk  \n",
       "1                                             unk   unk  \n",
       "2                                             unk   unk  \n",
       "3     lecture notes in computer science no. 773.,   unk  \n",
       "4                                             unk   unk  \n",
       "...                                           ...   ...  \n",
       "1290                                          unk   unk  \n",
       "1291           annals of statistics (to appear).,   unk  \n",
       "1292                                          unk   unk  \n",
       "1293               submitted for publication. 17,   unk  \n",
       "1294                  submitted for publication.,   unk  \n",
       "\n",
       "[1295 rows x 12 columns]"
      ]
     },
     "execution_count": 3,
     "metadata": {},
     "output_type": "execute_result"
    }
   ],
   "source": [
    "table"
   ]
  },
  {
   "cell_type": "markdown",
   "metadata": {},
   "source": [
    "# Sentence embedding"
   ]
  },
  {
   "cell_type": "markdown",
   "metadata": {},
   "source": [
    "## Infersent"
   ]
  },
  {
   "cell_type": "markdown",
   "metadata": {},
   "source": [
    "Setup model"
   ]
  },
  {
   "cell_type": "code",
   "execution_count": 9,
   "metadata": {},
   "outputs": [
    {
     "name": "stdout",
     "output_type": "stream",
     "text": [
      "Vocab size : 2196017\n",
      "TIME: 198.3860468864441\n"
     ]
    }
   ],
   "source": [
    "from embedding_algorithms.inferSent import set_RNN_embedding\n",
    "start = time.time()\n",
    "model_type = \"bilstm\" \n",
    "char_level = False\n",
    "model_version = 2\n",
    "rnn_dim = 2048\n",
    "verbose = 1\n",
    "set_RNN_embedding(model_type, char_level, model_version, rnn_dim, verbose)\n",
    "print(\"TIME: {0}\".format(time.time() - start))\n",
    "\n",
    "params['embedding'] = {\n",
    "    'name': 'Infersent',\n",
    "    'model_type': model_type,\n",
    "    'char_level': char_level,\n",
    "    'model_version': model_version,\n",
    "    'rnn_dim': rnn_dim,\n",
    "    'verbose': verbose\n",
    "}"
   ]
  },
  {
   "cell_type": "markdown",
   "metadata": {},
   "source": [
    "Embedding"
   ]
  },
  {
   "cell_type": "code",
   "execution_count": 10,
   "metadata": {},
   "outputs": [
    {
     "name": "stdout",
     "output_type": "stream",
     "text": [
      "attrs: ['author', 'title']\n"
     ]
    }
   ],
   "source": [
    "from embedding_algorithms.inferSent import RNN_embedding\n",
    "attr_list = ['author', 'title']\n",
    "params['attr_list'] = attr_list\n",
    "embeddings_tokens = RNN_embedding(table, attr_list, model_type, char_level)\n",
    "embeddings_tokens = np.array(embeddings_tokens)"
   ]
  },
  {
   "cell_type": "markdown",
   "metadata": {},
   "source": [
    "# Dimensionality reduction"
   ]
  },
  {
   "cell_type": "markdown",
   "metadata": {},
   "source": [
    "## TSNE"
   ]
  },
  {
   "cell_type": "code",
   "execution_count": 11,
   "metadata": {},
   "outputs": [
    {
     "name": "stdout",
     "output_type": "stream",
     "text": [
      "starting dimension: 4096\n",
      "setting TSNE with n_components: 2 & perplexity: 40\n",
      "early_exaggeration: 12\n",
      "TSNE: 33.097479820251465\n"
     ]
    }
   ],
   "source": [
    "from dimensionality_reduction_algorithms.tsne import tsne_dim_reduction\n",
    "\n",
    "start = time.time()\n",
    "tsne_embeddings = tsne_dim_reduction(\n",
    "    embeddings_tokens, \n",
    "    num_components=2,\n",
    "    early_exaggeration=12,\n",
    "    verbose=1,\n",
    "    perplexity=40,\n",
    "    method=\"barnes_hut\")\n",
    "\n",
    "print(\"TSNE: {0}\".format(time.time() - start))\n",
    "\n",
    "params['reduction'] = {\n",
    "    'name': 'TSNE',\n",
    "    'num_components': 2,\n",
    "    'early_exaggeration': 12,\n",
    "    'verbose': 1,\n",
    "    'perplexity': 40,\n",
    "    'method': \"barnes_hut\"\n",
    "}"
   ]
  },
  {
   "cell_type": "markdown",
   "metadata": {},
   "source": [
    "# Blocking"
   ]
  },
  {
   "cell_type": "code",
   "execution_count": 37,
   "metadata": {},
   "outputs": [
    {
     "name": "stdout",
     "output_type": "stream",
     "text": [
      "clustering with NUM_CLUSTERS = 23, distance_algorithm = <function euclidean_distance at 0x7f9b28706e60>\n",
      "BLOCKS: 46.59518814086914\n"
     ]
    }
   ],
   "source": [
    "from cluster_algorithms.kMeans_cluster import kMean_cluster\n",
    "num_clusters = 23\n",
    "\n",
    "start = time.time()\n",
    "blocks = kMean_cluster(tsne_embeddings, {'num_clusters': num_clusters, 'distance_algorithm': 'euclidean'})\n",
    "print(\"BLOCKS: {0}\".format(time.time() - start))\n",
    "\n",
    "params['blocking'] = {\n",
    "    'name': 'k_means',\n",
    "    'num_clusters': num_clusters\n",
    "}"
   ]
  },
  {
   "cell_type": "code",
   "execution_count": 14,
   "metadata": {},
   "outputs": [
    {
     "name": "stdout",
     "output_type": "stream",
     "text": [
      "clustering with NUM_CLUSTERS = 29, \n",
      "BLOCKS: 0.17731618881225586\n"
     ]
    }
   ],
   "source": [
    "from cluster_algorithms.birch_cluster import birch_cluster\n",
    "num_clusters = 29\n",
    "\n",
    "start = time.time()\n",
    "blocks = birch_cluster(tsne_embeddings, {'num_clusters': num_clusters})\n",
    "print(\"BLOCKS: {0}\".format(time.time() - start))\n",
    "\n",
    "params['blocking'] = {\n",
    "    'name': 'birch_cluster',\n",
    "    'num_clusters': num_clusters\n",
    "}"
   ]
  },
  {
   "cell_type": "code",
   "execution_count": 31,
   "metadata": {},
   "outputs": [
    {
     "name": "stdout",
     "output_type": "stream",
     "text": [
      "DBScan_cluster\n",
      "BLOCKS: 0.011167049407958984\n"
     ]
    }
   ],
   "source": [
    "from cluster_algorithms.DBScan_cluster import DBSCAN_cluster\n",
    "eps = 6\n",
    "min_samples = 2\n",
    "\n",
    "start = time.time()\n",
    "blocks = DBSCAN_cluster(tsne_embeddings, {'eps':eps, 'min_samples':min_samples})\n",
    "print(\"BLOCKS: {0}\".format(time.time() - start))\n",
    "\n",
    "params['blocking'] = {\n",
    "    'name': 'DBScan',\n",
    "    'eps': eps,\n",
    "    'min_samples': min_samples\n",
    "}"
   ]
  },
  {
   "cell_type": "code",
   "execution_count": 12,
   "metadata": {},
   "outputs": [
    {
     "name": "stdout",
     "output_type": "stream",
     "text": [
      "clustering with NUM_CLUSTERS = 29, \n",
      "BLOCKS: 0.06778168678283691\n"
     ]
    }
   ],
   "source": [
    "from cluster_algorithms.hierarchy_cluster import hierarchy_cluster\n",
    "num_clusters = 29\n",
    "start = time.time()\n",
    "blocks = hierarchy_cluster(tsne_embeddings, {'num_clusters': num_clusters})\n",
    "print(\"BLOCKS: {0}\".format(time.time() - start))\n",
    "\n",
    "params['blocking'] = {\n",
    "    'name': 'hierarchy',\n",
    "    'num_clusters': num_clusters\n",
    "}"
   ]
  },
  {
   "cell_type": "markdown",
   "metadata": {},
   "source": [
    "# Evaluation"
   ]
  },
  {
   "cell_type": "markdown",
   "metadata": {},
   "source": [
    "## bilstm, rnn_dim 2048"
   ]
  },
  {
   "cell_type": "code",
   "execution_count": 13,
   "metadata": {},
   "outputs": [
    {
     "name": "stdout",
     "output_type": "stream",
     "text": [
      "(RR) Reduction ratio is: 0.9635884062468297\n",
      "(PC) Pair completeness is: 0.8878026070763501\n",
      "(RM) Reference metric (Harmonic mean RR and PC) is: 0.9241443790730425\n",
      "(PQ) Pair quality - Precision is: 0.5000655565753245\n",
      "(FM) Fmeasure is: 0.6397718694959321\n",
      "\n",
      "['author', 'title']\n",
      "{'name': 'Infersent', 'model_type': 'bilstm', 'char_level': False, 'model_version': 2, 'rnn_dim': 2048, 'verbose': 1}\n",
      "{'name': 'TSNE', 'num_components': 2, 'early_exaggeration': 12, 'verbose': 1, 'perplexity': 40, 'method': 'barnes_hut'}\n",
      "{'name': 'hierarchy', 'num_clusters': 29}\n"
     ]
    }
   ],
   "source": [
    "from evaluation import calc_index\n",
    "calc_index(blocks,table,pairs)\n",
    "print()\n",
    "print(params['attr_list'])\n",
    "print(params['embedding'])\n",
    "print(params['reduction'])\n",
    "print(params['blocking'])"
   ]
  },
  {
   "cell_type": "code",
   "execution_count": 15,
   "metadata": {},
   "outputs": [
    {
     "name": "stdout",
     "output_type": "stream",
     "text": [
      "(RR) Reduction ratio is: 0.9623531237132473\n",
      "(PC) Pair completeness is: 0.8877444134078212\n",
      "(RM) Reference metric (Harmonic mean RR and PC) is: 0.9235443993200615\n",
      "(PQ) Pair quality - Precision is: 0.48362552705830136\n",
      "(FM) Fmeasure is: 0.6261415642251729\n",
      "\n",
      "['author', 'title']\n",
      "{'name': 'Infersent', 'model_type': 'bilstm', 'char_level': False, 'model_version': 2, 'rnn_dim': 2048, 'verbose': 1}\n",
      "{'name': 'TSNE', 'num_components': 2, 'early_exaggeration': 12, 'verbose': 1, 'perplexity': 40, 'method': 'barnes_hut'}\n",
      "{'name': 'birch_cluster', 'num_clusters': 29}\n"
     ]
    }
   ],
   "source": [
    "from evaluation import calc_index\n",
    "calc_index(blocks,table,pairs)\n",
    "print()\n",
    "print(params['attr_list'])\n",
    "print(params['embedding'])\n",
    "print(params['reduction'])\n",
    "print(params['blocking'])"
   ]
  },
  {
   "cell_type": "code",
   "execution_count": 32,
   "metadata": {},
   "outputs": [
    {
     "name": "stdout",
     "output_type": "stream",
     "text": [
      "(RR) Reduction ratio is: 0.9633341886819475\n",
      "(PC) Pair completeness is: 0.8717411545623837\n",
      "(RM) Reference metric (Harmonic mean RR and PC) is: 0.9152518570559921\n",
      "(PQ) Pair quality - Precision is: 0.48761433547085054\n",
      "(FM) Fmeasure is: 0.6254044462999686\n",
      "\n",
      "['author', 'title']\n",
      "{'name': 'Infersent', 'model_type': 'bilstm', 'char_level': False, 'model_version': 2, 'rnn_dim': 2048, 'verbose': 1}\n",
      "{'name': 'TSNE', 'num_components': 2, 'early_exaggeration': 12, 'verbose': 1, 'perplexity': 40, 'method': 'barnes_hut'}\n",
      "{'name': 'DBScan', 'eps': 6, 'min_samples': 2}\n"
     ]
    }
   ],
   "source": [
    "from evaluation import calc_index\n",
    "calc_index(blocks,table,pairs)\n",
    "print()\n",
    "print(params['attr_list'])\n",
    "print(params['embedding'])\n",
    "print(params['reduction'])\n",
    "print(params['blocking'])"
   ]
  },
  {
   "cell_type": "code",
   "execution_count": 38,
   "metadata": {},
   "outputs": [
    {
     "name": "stdout",
     "output_type": "stream",
     "text": [
      "(RR) Reduction ratio is: 0.9535223454852512\n",
      "(PC) Pair completeness is: 0.8547486033519553\n",
      "(RM) Reference metric (Harmonic mean RR and PC) is: 0.9014378001178331\n",
      "(PQ) Pair quality - Precision is: 0.3771763134918597\n",
      "(FM) Fmeasure is: 0.5233937925382176\n",
      "\n",
      "['author', 'title']\n",
      "{'name': 'Infersent', 'model_type': 'bilstm', 'char_level': False, 'model_version': 2, 'rnn_dim': 2048, 'verbose': 1}\n",
      "{'name': 'TSNE', 'num_components': 2, 'early_exaggeration': 12, 'verbose': 1, 'perplexity': 40, 'method': 'barnes_hut'}\n",
      "{'name': 'k_means', 'num_clusters': 23}\n"
     ]
    }
   ],
   "source": [
    "from evaluation import calc_index\n",
    "calc_index(blocks,table,pairs)\n",
    "print()\n",
    "print(params['attr_list'])\n",
    "print(params['embedding'])\n",
    "print(params['reduction'])\n",
    "print(params['blocking'])"
   ]
  },
  {
   "cell_type": "markdown",
   "metadata": {},
   "source": [
    "## Searching"
   ]
  },
  {
   "cell_type": "code",
   "execution_count": 36,
   "metadata": {},
   "outputs": [
    {
     "name": "stdout",
     "output_type": "stream",
     "text": [
      "clustering with NUM_CLUSTERS = 20, distance_algorithm = <function euclidean_distance at 0x7f9b28706e60>\n",
      "(RR) Reduction ratio is: 0.9461989700011338\n",
      "(PC) Pair completeness is: 0.8731959962756052\n",
      "(RM) Reference metric (Harmonic mean RR and PC) is: 0.9082328659794915\n",
      "(PQ) Pair quality - Precision is: 0.33286747415590756\n",
      "(FM) Fmeasure is: 0.4819954386303042\n",
      "clustering with NUM_CLUSTERS = 21, distance_algorithm = <function euclidean_distance at 0x7f9b28706e60>\n",
      "(RR) Reduction ratio is: 0.9496064401783103\n",
      "(PC) Pair completeness is: 0.8936801675977654\n",
      "(RM) Reference metric (Harmonic mean RR and PC) is: 0.9207948878165602\n",
      "(PQ) Pair quality - Precision is: 0.3637117210998745\n",
      "(FM) Fmeasure is: 0.5170097799922567\n",
      "clustering with NUM_CLUSTERS = 22, distance_algorithm = <function euclidean_distance at 0x7f9b28706e60>\n",
      "(RR) Reduction ratio is: 0.9512093236977317\n",
      "(PC) Pair completeness is: 0.8805283985102421\n",
      "(RM) Reference metric (Harmonic mean RR and PC) is: 0.9145051852008294\n",
      "(PQ) Pair quality - Precision is: 0.3701320939334638\n",
      "(FM) Fmeasure is: 0.5211835216313034\n",
      "clustering with NUM_CLUSTERS = 23, distance_algorithm = <function euclidean_distance at 0x7f9b28706e60>\n",
      "(RR) Reduction ratio is: 0.9548411736974334\n",
      "(PC) Pair completeness is: 0.9097998137802608\n",
      "(RM) Reference metric (Harmonic mean RR and PC) is: 0.9317764951576691\n",
      "(PQ) Pair quality - Precision is: 0.41319343499748923\n",
      "(FM) Fmeasure is: 0.5682921066501881\n",
      "clustering with NUM_CLUSTERS = 24, distance_algorithm = <function euclidean_distance at 0x7f9b28706e60>\n",
      "(RR) Reduction ratio is: 0.9548173035035477\n",
      "(PC) Pair completeness is: 0.8436918063314711\n",
      "(RM) Reference metric (Harmonic mean RR and PC) is: 0.8958214680195303\n",
      "(PQ) Pair quality - Precision is: 0.3829674828961619\n",
      "(FM) Fmeasure is: 0.526807289111753\n",
      "clustering with NUM_CLUSTERS = 25, distance_algorithm = <function euclidean_distance at 0x7f9b28706e60>\n"
     ]
    },
    {
     "ename": "KeyboardInterrupt",
     "evalue": "",
     "output_type": "error",
     "traceback": [
      "\u001b[0;31m---------------------------------------------------------------------------\u001b[0m",
      "\u001b[0;31mKeyboardInterrupt\u001b[0m                         Traceback (most recent call last)",
      "\u001b[0;32m<ipython-input-36-2e376c5c5d84>\u001b[0m in \u001b[0;36m<module>\u001b[0;34m\u001b[0m\n\u001b[1;32m      1\u001b[0m \u001b[0;32mfor\u001b[0m \u001b[0mi\u001b[0m \u001b[0;32min\u001b[0m \u001b[0mrange\u001b[0m\u001b[0;34m(\u001b[0m\u001b[0;36m20\u001b[0m\u001b[0;34m,\u001b[0m\u001b[0;36m50\u001b[0m\u001b[0;34m,\u001b[0m\u001b[0;36m1\u001b[0m\u001b[0;34m)\u001b[0m\u001b[0;34m:\u001b[0m\u001b[0;34m\u001b[0m\u001b[0;34m\u001b[0m\u001b[0m\n\u001b[1;32m      2\u001b[0m     \u001b[0mnum_clusters\u001b[0m \u001b[0;34m=\u001b[0m \u001b[0mint\u001b[0m\u001b[0;34m(\u001b[0m\u001b[0mi\u001b[0m\u001b[0;34m)\u001b[0m\u001b[0;34m\u001b[0m\u001b[0;34m\u001b[0m\u001b[0m\n\u001b[0;32m----> 3\u001b[0;31m     \u001b[0mblocks\u001b[0m \u001b[0;34m=\u001b[0m \u001b[0mkMean_cluster\u001b[0m\u001b[0;34m(\u001b[0m\u001b[0mtsne_embeddings\u001b[0m\u001b[0;34m,\u001b[0m \u001b[0;34m{\u001b[0m\u001b[0;34m'num_clusters'\u001b[0m\u001b[0;34m:\u001b[0m \u001b[0mnum_clusters\u001b[0m\u001b[0;34m,\u001b[0m \u001b[0;34m'distance_algorithm'\u001b[0m\u001b[0;34m:\u001b[0m \u001b[0;34m'euclidean'\u001b[0m\u001b[0;34m}\u001b[0m\u001b[0;34m)\u001b[0m\u001b[0;34m\u001b[0m\u001b[0;34m\u001b[0m\u001b[0m\n\u001b[0m\u001b[1;32m      4\u001b[0m     \u001b[0mcalc_index\u001b[0m\u001b[0;34m(\u001b[0m\u001b[0mblocks\u001b[0m\u001b[0;34m,\u001b[0m\u001b[0mtable\u001b[0m\u001b[0;34m,\u001b[0m\u001b[0mpairs\u001b[0m\u001b[0;34m)\u001b[0m\u001b[0;34m\u001b[0m\u001b[0;34m\u001b[0m\u001b[0m\n",
      "\u001b[0;32m~/Desktop/Thesis_Jin/Blocking/cluster_algorithms/kMeans_cluster.py\u001b[0m in \u001b[0;36mkMean_cluster\u001b[0;34m(embeddings, key_values)\u001b[0m\n\u001b[1;32m     19\u001b[0m     kclusterer = KMeansClusterer(\n\u001b[1;32m     20\u001b[0m         NUM_CLUSTERS, distance=distance_algorithm, avoid_empty_clusters=True, repeats=25)\n\u001b[0;32m---> 21\u001b[0;31m     \u001b[0massigned_clusters\u001b[0m \u001b[0;34m=\u001b[0m \u001b[0mkclusterer\u001b[0m\u001b[0;34m.\u001b[0m\u001b[0mcluster\u001b[0m\u001b[0;34m(\u001b[0m\u001b[0membeddings\u001b[0m\u001b[0;34m,\u001b[0m \u001b[0massign_clusters\u001b[0m\u001b[0;34m=\u001b[0m\u001b[0;32mTrue\u001b[0m\u001b[0;34m)\u001b[0m\u001b[0;34m\u001b[0m\u001b[0;34m\u001b[0m\u001b[0m\n\u001b[0m\u001b[1;32m     22\u001b[0m \u001b[0;34m\u001b[0m\u001b[0m\n\u001b[1;32m     23\u001b[0m     \u001b[0;32mreturn\u001b[0m \u001b[0mclusterArray_to_blockDict\u001b[0m\u001b[0;34m(\u001b[0m\u001b[0massigned_clusters\u001b[0m\u001b[0;34m)\u001b[0m\u001b[0;34m\u001b[0m\u001b[0;34m\u001b[0m\u001b[0m\n",
      "\u001b[0;32m~/opt/anaconda3/envs/thesisEnv/lib/python3.7/site-packages/nltk/cluster/util.py\u001b[0m in \u001b[0;36mcluster\u001b[0;34m(self, vectors, assign_clusters, trace)\u001b[0m\n\u001b[1;32m     60\u001b[0m \u001b[0;34m\u001b[0m\u001b[0m\n\u001b[1;32m     61\u001b[0m         \u001b[0;31m# call abstract method to cluster the vectors\u001b[0m\u001b[0;34m\u001b[0m\u001b[0;34m\u001b[0m\u001b[0;34m\u001b[0m\u001b[0m\n\u001b[0;32m---> 62\u001b[0;31m         \u001b[0mself\u001b[0m\u001b[0;34m.\u001b[0m\u001b[0mcluster_vectorspace\u001b[0m\u001b[0;34m(\u001b[0m\u001b[0mvectors\u001b[0m\u001b[0;34m,\u001b[0m \u001b[0mtrace\u001b[0m\u001b[0;34m)\u001b[0m\u001b[0;34m\u001b[0m\u001b[0;34m\u001b[0m\u001b[0m\n\u001b[0m\u001b[1;32m     63\u001b[0m \u001b[0;34m\u001b[0m\u001b[0m\n\u001b[1;32m     64\u001b[0m         \u001b[0;31m# assign the vectors to clusters\u001b[0m\u001b[0;34m\u001b[0m\u001b[0;34m\u001b[0m\u001b[0;34m\u001b[0m\u001b[0m\n",
      "\u001b[0;32m~/opt/anaconda3/envs/thesisEnv/lib/python3.7/site-packages/nltk/cluster/kmeans.py\u001b[0m in \u001b[0;36mcluster_vectorspace\u001b[0;34m(self, vectors, trace)\u001b[0m\n\u001b[1;32m     92\u001b[0m             \u001b[0;32mif\u001b[0m \u001b[0;32mnot\u001b[0m \u001b[0mself\u001b[0m\u001b[0;34m.\u001b[0m\u001b[0m_means\u001b[0m \u001b[0;32mor\u001b[0m \u001b[0mtrial\u001b[0m \u001b[0;34m>\u001b[0m \u001b[0;36m1\u001b[0m\u001b[0;34m:\u001b[0m\u001b[0;34m\u001b[0m\u001b[0;34m\u001b[0m\u001b[0m\n\u001b[1;32m     93\u001b[0m                 \u001b[0mself\u001b[0m\u001b[0;34m.\u001b[0m\u001b[0m_means\u001b[0m \u001b[0;34m=\u001b[0m \u001b[0mself\u001b[0m\u001b[0;34m.\u001b[0m\u001b[0m_rng\u001b[0m\u001b[0;34m.\u001b[0m\u001b[0msample\u001b[0m\u001b[0;34m(\u001b[0m\u001b[0mlist\u001b[0m\u001b[0;34m(\u001b[0m\u001b[0mvectors\u001b[0m\u001b[0;34m)\u001b[0m\u001b[0;34m,\u001b[0m \u001b[0mself\u001b[0m\u001b[0;34m.\u001b[0m\u001b[0m_num_means\u001b[0m\u001b[0;34m)\u001b[0m\u001b[0;34m\u001b[0m\u001b[0;34m\u001b[0m\u001b[0m\n\u001b[0;32m---> 94\u001b[0;31m             \u001b[0mself\u001b[0m\u001b[0;34m.\u001b[0m\u001b[0m_cluster_vectorspace\u001b[0m\u001b[0;34m(\u001b[0m\u001b[0mvectors\u001b[0m\u001b[0;34m,\u001b[0m \u001b[0mtrace\u001b[0m\u001b[0;34m)\u001b[0m\u001b[0;34m\u001b[0m\u001b[0;34m\u001b[0m\u001b[0m\n\u001b[0m\u001b[1;32m     95\u001b[0m             \u001b[0mmeanss\u001b[0m\u001b[0;34m.\u001b[0m\u001b[0mappend\u001b[0m\u001b[0;34m(\u001b[0m\u001b[0mself\u001b[0m\u001b[0;34m.\u001b[0m\u001b[0m_means\u001b[0m\u001b[0;34m)\u001b[0m\u001b[0;34m\u001b[0m\u001b[0;34m\u001b[0m\u001b[0m\n\u001b[1;32m     96\u001b[0m \u001b[0;34m\u001b[0m\u001b[0m\n",
      "\u001b[0;32m~/opt/anaconda3/envs/thesisEnv/lib/python3.7/site-packages/nltk/cluster/kmeans.py\u001b[0m in \u001b[0;36m_cluster_vectorspace\u001b[0;34m(self, vectors, trace)\u001b[0m\n\u001b[1;32m    123\u001b[0m                 \u001b[0mclusters\u001b[0m \u001b[0;34m=\u001b[0m \u001b[0;34m[\u001b[0m\u001b[0;34m[\u001b[0m\u001b[0;34m]\u001b[0m \u001b[0;32mfor\u001b[0m \u001b[0mm\u001b[0m \u001b[0;32min\u001b[0m \u001b[0mrange\u001b[0m\u001b[0;34m(\u001b[0m\u001b[0mself\u001b[0m\u001b[0;34m.\u001b[0m\u001b[0m_num_means\u001b[0m\u001b[0;34m)\u001b[0m\u001b[0;34m]\u001b[0m\u001b[0;34m\u001b[0m\u001b[0;34m\u001b[0m\u001b[0m\n\u001b[1;32m    124\u001b[0m                 \u001b[0;32mfor\u001b[0m \u001b[0mvector\u001b[0m \u001b[0;32min\u001b[0m \u001b[0mvectors\u001b[0m\u001b[0;34m:\u001b[0m\u001b[0;34m\u001b[0m\u001b[0;34m\u001b[0m\u001b[0m\n\u001b[0;32m--> 125\u001b[0;31m                     \u001b[0mindex\u001b[0m \u001b[0;34m=\u001b[0m \u001b[0mself\u001b[0m\u001b[0;34m.\u001b[0m\u001b[0mclassify_vectorspace\u001b[0m\u001b[0;34m(\u001b[0m\u001b[0mvector\u001b[0m\u001b[0;34m)\u001b[0m\u001b[0;34m\u001b[0m\u001b[0;34m\u001b[0m\u001b[0m\n\u001b[0m\u001b[1;32m    126\u001b[0m                     \u001b[0mclusters\u001b[0m\u001b[0;34m[\u001b[0m\u001b[0mindex\u001b[0m\u001b[0;34m]\u001b[0m\u001b[0;34m.\u001b[0m\u001b[0mappend\u001b[0m\u001b[0;34m(\u001b[0m\u001b[0mvector\u001b[0m\u001b[0;34m)\u001b[0m\u001b[0;34m\u001b[0m\u001b[0;34m\u001b[0m\u001b[0m\n\u001b[1;32m    127\u001b[0m \u001b[0;34m\u001b[0m\u001b[0m\n",
      "\u001b[0;32m~/opt/anaconda3/envs/thesisEnv/lib/python3.7/site-packages/nltk/cluster/kmeans.py\u001b[0m in \u001b[0;36mclassify_vectorspace\u001b[0;34m(self, vector)\u001b[0m\n\u001b[1;32m    148\u001b[0m         \u001b[0;32mfor\u001b[0m \u001b[0mindex\u001b[0m \u001b[0;32min\u001b[0m \u001b[0mrange\u001b[0m\u001b[0;34m(\u001b[0m\u001b[0mlen\u001b[0m\u001b[0;34m(\u001b[0m\u001b[0mself\u001b[0m\u001b[0;34m.\u001b[0m\u001b[0m_means\u001b[0m\u001b[0;34m)\u001b[0m\u001b[0;34m)\u001b[0m\u001b[0;34m:\u001b[0m\u001b[0;34m\u001b[0m\u001b[0;34m\u001b[0m\u001b[0m\n\u001b[1;32m    149\u001b[0m             \u001b[0mmean\u001b[0m \u001b[0;34m=\u001b[0m \u001b[0mself\u001b[0m\u001b[0;34m.\u001b[0m\u001b[0m_means\u001b[0m\u001b[0;34m[\u001b[0m\u001b[0mindex\u001b[0m\u001b[0;34m]\u001b[0m\u001b[0;34m\u001b[0m\u001b[0;34m\u001b[0m\u001b[0m\n\u001b[0;32m--> 150\u001b[0;31m             \u001b[0mdist\u001b[0m \u001b[0;34m=\u001b[0m \u001b[0mself\u001b[0m\u001b[0;34m.\u001b[0m\u001b[0m_distance\u001b[0m\u001b[0;34m(\u001b[0m\u001b[0mvector\u001b[0m\u001b[0;34m,\u001b[0m \u001b[0mmean\u001b[0m\u001b[0;34m)\u001b[0m\u001b[0;34m\u001b[0m\u001b[0;34m\u001b[0m\u001b[0m\n\u001b[0m\u001b[1;32m    151\u001b[0m             \u001b[0;32mif\u001b[0m \u001b[0mbest_distance\u001b[0m \u001b[0;32mis\u001b[0m \u001b[0;32mNone\u001b[0m \u001b[0;32mor\u001b[0m \u001b[0mdist\u001b[0m \u001b[0;34m<\u001b[0m \u001b[0mbest_distance\u001b[0m\u001b[0;34m:\u001b[0m\u001b[0;34m\u001b[0m\u001b[0;34m\u001b[0m\u001b[0m\n\u001b[1;32m    152\u001b[0m                 \u001b[0mbest_index\u001b[0m\u001b[0;34m,\u001b[0m \u001b[0mbest_distance\u001b[0m \u001b[0;34m=\u001b[0m \u001b[0mindex\u001b[0m\u001b[0;34m,\u001b[0m \u001b[0mdist\u001b[0m\u001b[0;34m\u001b[0m\u001b[0;34m\u001b[0m\u001b[0m\n",
      "\u001b[0;32m~/opt/anaconda3/envs/thesisEnv/lib/python3.7/site-packages/nltk/cluster/util.py\u001b[0m in \u001b[0;36meuclidean_distance\u001b[0;34m(u, v)\u001b[0m\n\u001b[1;32m    123\u001b[0m     \"\"\"\n\u001b[1;32m    124\u001b[0m     \u001b[0mdiff\u001b[0m \u001b[0;34m=\u001b[0m \u001b[0mu\u001b[0m \u001b[0;34m-\u001b[0m \u001b[0mv\u001b[0m\u001b[0;34m\u001b[0m\u001b[0;34m\u001b[0m\u001b[0m\n\u001b[0;32m--> 125\u001b[0;31m     \u001b[0;32mreturn\u001b[0m \u001b[0msqrt\u001b[0m\u001b[0;34m(\u001b[0m\u001b[0mnumpy\u001b[0m\u001b[0;34m.\u001b[0m\u001b[0mdot\u001b[0m\u001b[0;34m(\u001b[0m\u001b[0mdiff\u001b[0m\u001b[0;34m,\u001b[0m \u001b[0mdiff\u001b[0m\u001b[0;34m)\u001b[0m\u001b[0;34m)\u001b[0m\u001b[0;34m\u001b[0m\u001b[0;34m\u001b[0m\u001b[0m\n\u001b[0m\u001b[1;32m    126\u001b[0m \u001b[0;34m\u001b[0m\u001b[0m\n\u001b[1;32m    127\u001b[0m \u001b[0;34m\u001b[0m\u001b[0m\n",
      "\u001b[0;32m<__array_function__ internals>\u001b[0m in \u001b[0;36mdot\u001b[0;34m(*args, **kwargs)\u001b[0m\n",
      "\u001b[0;31mKeyboardInterrupt\u001b[0m: "
     ]
    }
   ],
   "source": [
    "for i in range(20,50,1):\n",
    "    num_clusters = int(i)\n",
    "    blocks = kMean_cluster(tsne_embeddings, {'num_clusters': num_clusters, 'distance_algorithm': 'euclidean'})\n",
    "    calc_index(blocks,table,pairs)"
   ]
  },
  {
   "cell_type": "code",
   "execution_count": 30,
   "metadata": {
    "scrolled": true
   },
   "outputs": [
    {
     "name": "stdout",
     "output_type": "stream",
     "text": [
      "4\n",
      "DBScan_cluster\n",
      "(RR) Reduction ratio is: 0.9718630089572903\n",
      "(PC) Pair completeness is: 0.8447392923649907\n",
      "(RM) Reference metric (Harmonic mean RR and PC) is: 0.9038531657311213\n",
      "(PQ) Pair quality - Precision is: 0.6157370095440085\n",
      "(FM) Fmeasure is: 0.712284403444638\n",
      "5\n",
      "DBScan_cluster\n",
      "(RR) Reduction ratio is: 0.9693948309095141\n",
      "(PC) Pair completeness is: 0.8591131284916201\n",
      "(RM) Reference metric (Harmonic mean RR and PC) is: 0.9109283026572546\n",
      "(PQ) Pair quality - Precision is: 0.5757126701244004\n",
      "(FM) Fmeasure is: 0.689424895509842\n",
      "6\n",
      "DBScan_cluster\n",
      "(RR) Reduction ratio is: 0.9633341886819475\n",
      "(PC) Pair completeness is: 0.8717411545623837\n",
      "(RM) Reference metric (Harmonic mean RR and PC) is: 0.9152518570559921\n",
      "(PQ) Pair quality - Precision is: 0.48761433547085054\n",
      "(FM) Fmeasure is: 0.6254044462999686\n",
      "7\n",
      "DBScan_cluster\n",
      "(RR) Reduction ratio is: 0.8624897805732428\n",
      "(PC) Pair completeness is: 0.9028747672253259\n",
      "(RM) Reference metric (Harmonic mean RR and PC) is: 0.8822203446198834\n",
      "(PQ) Pair quality - Precision is: 0.134661285422905\n",
      "(FM) Fmeasure is: 0.2343673290583766\n"
     ]
    }
   ],
   "source": [
    "for i in range(4,8,1):\n",
    "    eps = int(i)\n",
    "    min_samples = 2\n",
    "    print(eps)\n",
    "    blocks = DBSCAN_cluster(tsne_embeddings, {'eps':eps, 'min_samples':min_samples})\n",
    "    calc_index(blocks,table,pairs)"
   ]
  },
  {
   "cell_type": "markdown",
   "metadata": {},
   "source": [
    "# Result"
   ]
  },
  {
   "cell_type": "code",
   "execution_count": 33,
   "metadata": {},
   "outputs": [],
   "source": [
    "# Cora\n",
    "# RR PC alpha\n",
    "list_embedding = [0.9233, 0.7626, 0.8352]\n",
    "\n",
    "\n",
    "list_hierarchy = [0.9635, 0.887, 0.9241] # TSNE: 33.09, BLOCKS: 0.067, n_cluster: 29\n",
    "list_kmeans = [0.9535, 0.8547, 0.9014] # TSNE: 33.09, BLOCKS: 46.59, n_cluster: 23\n",
    "list_birch = [0.9623, 0.887, 0.9235] # TSNE: 33.09, BLOCKS: 0.177, n_cluster: 29\n",
    "list_DBscan = [0.9633, 0.8717, 0.9152] # TSNE: 33.09, BLOCKS: 0.011"
   ]
  },
  {
   "cell_type": "code",
   "execution_count": null,
   "metadata": {},
   "outputs": [],
   "source": []
  }
 ],
 "metadata": {
  "kernelspec": {
   "display_name": "Python 3.7.7 64-bit ('thesisEnv': conda)",
   "language": "python",
   "name": "python37764bitthesisenvcondad61bb62be9734ae9b8ba15c07cc7706a"
  },
  "language_info": {
   "codemirror_mode": {
    "name": "ipython",
    "version": 3
   },
   "file_extension": ".py",
   "mimetype": "text/x-python",
   "name": "python",
   "nbconvert_exporter": "python",
   "pygments_lexer": "ipython3",
   "version": "3.7.7"
  },
  "toc": {
   "base_numbering": 1,
   "nav_menu": {},
   "number_sections": true,
   "sideBar": true,
   "skip_h1_title": false,
   "title_cell": "Table of Contents",
   "title_sidebar": "Contents",
   "toc_cell": true,
   "toc_position": {},
   "toc_section_display": true,
   "toc_window_display": false
  },
  "varInspector": {
   "cols": {
    "lenName": 16,
    "lenType": 16,
    "lenVar": 40
   },
   "kernels_config": {
    "python": {
     "delete_cmd_postfix": "",
     "delete_cmd_prefix": "del ",
     "library": "var_list.py",
     "varRefreshCmd": "print(var_dic_list())"
    },
    "r": {
     "delete_cmd_postfix": ") ",
     "delete_cmd_prefix": "rm(",
     "library": "var_list.r",
     "varRefreshCmd": "cat(var_dic_list()) "
    }
   },
   "types_to_exclude": [
    "module",
    "function",
    "builtin_function_or_method",
    "instance",
    "_Feature"
   ],
   "window_display": false
  }
 },
 "nbformat": 4,
 "nbformat_minor": 4
}
