{
 "cells": [
  {
   "cell_type": "markdown",
   "metadata": {
    "toc": true
   },
   "source": [
    "<h1>Table of Contents<span class=\"tocSkip\"></span></h1>\n",
    "<div class=\"toc\"><ul class=\"toc-item\"><li><span><a href=\"#Setup\" data-toc-modified-id=\"Setup-1\"><span class=\"toc-item-num\">1&nbsp;&nbsp;</span>Setup</a></span></li><li><span><a href=\"#Import-dataset\" data-toc-modified-id=\"Import-dataset-2\"><span class=\"toc-item-num\">2&nbsp;&nbsp;</span>Import dataset</a></span></li><li><span><a href=\"#Sentence-embedding\" data-toc-modified-id=\"Sentence-embedding-3\"><span class=\"toc-item-num\">3&nbsp;&nbsp;</span>Sentence embedding</a></span><ul class=\"toc-item\"><li><span><a href=\"#Infersent\" data-toc-modified-id=\"Infersent-3.1\"><span class=\"toc-item-num\">3.1&nbsp;&nbsp;</span>Infersent</a></span></li></ul></li><li><span><a href=\"#Dimensionality-reduction\" data-toc-modified-id=\"Dimensionality-reduction-4\"><span class=\"toc-item-num\">4&nbsp;&nbsp;</span>Dimensionality reduction</a></span><ul class=\"toc-item\"><li><span><a href=\"#TSNE\" data-toc-modified-id=\"TSNE-4.1\"><span class=\"toc-item-num\">4.1&nbsp;&nbsp;</span>TSNE</a></span></li></ul></li><li><span><a href=\"#Blocking\" data-toc-modified-id=\"Blocking-5\"><span class=\"toc-item-num\">5&nbsp;&nbsp;</span>Blocking</a></span></li><li><span><a href=\"#Evaluation\" data-toc-modified-id=\"Evaluation-6\"><span class=\"toc-item-num\">6&nbsp;&nbsp;</span>Evaluation</a></span><ul class=\"toc-item\"><li><span><a href=\"#bilstm,-rnn_dim-2048\" data-toc-modified-id=\"bilstm,-rnn_dim-2048-6.1\"><span class=\"toc-item-num\">6.1&nbsp;&nbsp;</span>bilstm, rnn_dim 2048</a></span></li><li><span><a href=\"#Searching\" data-toc-modified-id=\"Searching-6.2\"><span class=\"toc-item-num\">6.2&nbsp;&nbsp;</span>Searching</a></span></li></ul></li><li><span><a href=\"#Best\" data-toc-modified-id=\"Best-7\"><span class=\"toc-item-num\">7&nbsp;&nbsp;</span>Best</a></span></li></ul></div>"
   ]
  },
  {
   "cell_type": "markdown",
   "metadata": {},
   "source": [
    "# Setup "
   ]
  },
  {
   "cell_type": "code",
   "execution_count": 1,
   "metadata": {},
   "outputs": [],
   "source": [
    "import os\n",
    "import sys\n",
    "import time\n",
    "import numpy as np\n",
    "import matplotlib.pyplot as plt\n",
    "\n",
    "module_path = os.path.abspath(os.path.join('..'))\n",
    "if module_path not in sys.path:\n",
    "    sys.path.append(module_path)\n",
    "    \n",
    "params = {}"
   ]
  },
  {
   "cell_type": "markdown",
   "metadata": {},
   "source": [
    "# Import dataset"
   ]
  },
  {
   "cell_type": "code",
   "execution_count": 2,
   "metadata": {},
   "outputs": [],
   "source": [
    "from preprocessing_datasets.preprocessing_abt_buy import clean_abt_buy\n",
    "table, pairs = clean_abt_buy()"
   ]
  },
  {
   "cell_type": "code",
   "execution_count": 3,
   "metadata": {
    "scrolled": true
   },
   "outputs": [
    {
     "data": {
      "text/html": [
       "<div>\n",
       "<style scoped>\n",
       "    .dataframe tbody tr th:only-of-type {\n",
       "        vertical-align: middle;\n",
       "    }\n",
       "\n",
       "    .dataframe tbody tr th {\n",
       "        vertical-align: top;\n",
       "    }\n",
       "\n",
       "    .dataframe thead th {\n",
       "        text-align: right;\n",
       "    }\n",
       "</style>\n",
       "<table border=\"1\" class=\"dataframe\">\n",
       "  <thead>\n",
       "    <tr style=\"text-align: right;\">\n",
       "      <th></th>\n",
       "      <th>name</th>\n",
       "      <th>description</th>\n",
       "      <th>price</th>\n",
       "    </tr>\n",
       "  </thead>\n",
       "  <tbody>\n",
       "    <tr>\n",
       "      <th>0</th>\n",
       "      <td>Sony Turntable - PSLX350H</td>\n",
       "      <td>Sony Turntable - PSLX350H/ Belt Drive System/ ...</td>\n",
       "      <td>unk</td>\n",
       "    </tr>\n",
       "    <tr>\n",
       "      <th>1</th>\n",
       "      <td>Bose Acoustimass 5 Series III Speaker System -...</td>\n",
       "      <td>Bose Acoustimass 5 Series III Speaker System -...</td>\n",
       "      <td>$399.00</td>\n",
       "    </tr>\n",
       "    <tr>\n",
       "      <th>2</th>\n",
       "      <td>Sony Switcher - SBV40S</td>\n",
       "      <td>Sony Switcher - SBV40S/ Eliminates Disconnecti...</td>\n",
       "      <td>$49.00</td>\n",
       "    </tr>\n",
       "    <tr>\n",
       "      <th>3</th>\n",
       "      <td>Sony 5 Disc CD Player - CDPCE375</td>\n",
       "      <td>Sony 5 Disc CD Player- CDPCE375/ 5 Disc Change...</td>\n",
       "      <td>unk</td>\n",
       "    </tr>\n",
       "    <tr>\n",
       "      <th>4</th>\n",
       "      <td>Bose 27028 161 Bookshelf Pair Speakers In Whit...</td>\n",
       "      <td>Bose 161 Bookshelf Speakers In White - 161WH/ ...</td>\n",
       "      <td>$158.00</td>\n",
       "    </tr>\n",
       "    <tr>\n",
       "      <th>...</th>\n",
       "      <td>...</td>\n",
       "      <td>...</td>\n",
       "      <td>...</td>\n",
       "    </tr>\n",
       "    <tr>\n",
       "      <th>2168</th>\n",
       "      <td>Sony VAIO FW378J/B Notebook - VGNFW378J/B</td>\n",
       "      <td>Intel Centrino 2 Core 2 Duo P8600 2.4GHz - 16....</td>\n",
       "      <td>unk</td>\n",
       "    </tr>\n",
       "    <tr>\n",
       "      <th>2169</th>\n",
       "      <td>Sennheiser CX380 Sennheiser CX 380 Sport II Gr...</td>\n",
       "      <td>unk</td>\n",
       "      <td>unk</td>\n",
       "    </tr>\n",
       "    <tr>\n",
       "      <th>2170</th>\n",
       "      <td>IWORK 09 RETAIL-INT DVD - MB942Z/A</td>\n",
       "      <td>unk</td>\n",
       "      <td>unk</td>\n",
       "    </tr>\n",
       "    <tr>\n",
       "      <th>2171</th>\n",
       "      <td>IWORK 09 FAMILY PACK-INT DVD - MB943Z/A</td>\n",
       "      <td>unk</td>\n",
       "      <td>unk</td>\n",
       "    </tr>\n",
       "    <tr>\n",
       "      <th>2172</th>\n",
       "      <td>CASE MATE CARBON FIBER IPHONE 3G CASE BLACK - ...</td>\n",
       "      <td>unk</td>\n",
       "      <td>$28.08</td>\n",
       "    </tr>\n",
       "  </tbody>\n",
       "</table>\n",
       "<p>2173 rows × 3 columns</p>\n",
       "</div>"
      ],
      "text/plain": [
       "                                                   name  \\\n",
       "0                             Sony Turntable - PSLX350H   \n",
       "1     Bose Acoustimass 5 Series III Speaker System -...   \n",
       "2                                Sony Switcher - SBV40S   \n",
       "3                      Sony 5 Disc CD Player - CDPCE375   \n",
       "4     Bose 27028 161 Bookshelf Pair Speakers In Whit...   \n",
       "...                                                 ...   \n",
       "2168          Sony VAIO FW378J/B Notebook - VGNFW378J/B   \n",
       "2169  Sennheiser CX380 Sennheiser CX 380 Sport II Gr...   \n",
       "2170                 IWORK 09 RETAIL-INT DVD - MB942Z/A   \n",
       "2171            IWORK 09 FAMILY PACK-INT DVD - MB943Z/A   \n",
       "2172  CASE MATE CARBON FIBER IPHONE 3G CASE BLACK - ...   \n",
       "\n",
       "                                            description    price  \n",
       "0     Sony Turntable - PSLX350H/ Belt Drive System/ ...      unk  \n",
       "1     Bose Acoustimass 5 Series III Speaker System -...  $399.00  \n",
       "2     Sony Switcher - SBV40S/ Eliminates Disconnecti...   $49.00  \n",
       "3     Sony 5 Disc CD Player- CDPCE375/ 5 Disc Change...      unk  \n",
       "4     Bose 161 Bookshelf Speakers In White - 161WH/ ...  $158.00  \n",
       "...                                                 ...      ...  \n",
       "2168  Intel Centrino 2 Core 2 Duo P8600 2.4GHz - 16....      unk  \n",
       "2169                                                unk      unk  \n",
       "2170                                                unk      unk  \n",
       "2171                                                unk      unk  \n",
       "2172                                                unk   $28.08  \n",
       "\n",
       "[2173 rows x 3 columns]"
      ]
     },
     "execution_count": 3,
     "metadata": {},
     "output_type": "execute_result"
    }
   ],
   "source": [
    "table"
   ]
  },
  {
   "cell_type": "markdown",
   "metadata": {},
   "source": [
    "# Sentence embedding"
   ]
  },
  {
   "cell_type": "markdown",
   "metadata": {},
   "source": [
    "## Infersent"
   ]
  },
  {
   "cell_type": "markdown",
   "metadata": {},
   "source": [
    "Setup model"
   ]
  },
  {
   "cell_type": "code",
   "execution_count": 4,
   "metadata": {},
   "outputs": [
    {
     "name": "stdout",
     "output_type": "stream",
     "text": [
      "Vocab size : 2196017\n",
      "TIME: 186.89661526679993\n"
     ]
    }
   ],
   "source": [
    "from embedding_algorithms.inferSent import set_RNN_embedding\n",
    "start = time.time()\n",
    "model_type = \"bilstm\" \n",
    "char_level = False\n",
    "model_version = 2\n",
    "rnn_dim = 2048\n",
    "verbose = 1\n",
    "set_RNN_embedding(model_type, char_level, model_version, rnn_dim, verbose)\n",
    "print(\"TIME: {0}\".format(time.time() - start))\n",
    "\n",
    "params['embedding'] = {\n",
    "    'name': 'Infersent',\n",
    "    'model_type': model_type,\n",
    "    'char_level': char_level,\n",
    "    'model_version': model_version,\n",
    "    'rnn_dim': rnn_dim,\n",
    "    'verbose': verbose\n",
    "}"
   ]
  },
  {
   "cell_type": "markdown",
   "metadata": {},
   "source": [
    "Embedding"
   ]
  },
  {
   "cell_type": "code",
   "execution_count": 14,
   "metadata": {},
   "outputs": [
    {
     "name": "stdout",
     "output_type": "stream",
     "text": [
      "attrs: ['name']\n",
      "TIME: 20.92107319831848\n"
     ]
    }
   ],
   "source": [
    "from embedding_algorithms.inferSent import RNN_embedding\n",
    "start = time.time()\n",
    "attr_list = ['name']\n",
    "params['attr_list'] = attr_list\n",
    "embeddings_tokens = RNN_embedding(table, attr_list, model_type, char_level)\n",
    "embeddings_tokens = np.array(embeddings_tokens)\n",
    "print(\"TIME: {0}\".format(time.time() - start))"
   ]
  },
  {
   "cell_type": "markdown",
   "metadata": {},
   "source": [
    "# Dimensionality reduction"
   ]
  },
  {
   "cell_type": "markdown",
   "metadata": {},
   "source": [
    "## TSNE"
   ]
  },
  {
   "cell_type": "code",
   "execution_count": 15,
   "metadata": {},
   "outputs": [
    {
     "name": "stdout",
     "output_type": "stream",
     "text": [
      "starting dimension: 4096\n",
      "setting TSNE with n_components: 2 & perplexity: 40\n",
      "early_exaggeration: 12\n",
      "TIME: 68.996169090271\n"
     ]
    }
   ],
   "source": [
    "from dimensionality_reduction_algorithms.tsne import tsne_dim_reduction\n",
    "\n",
    "start = time.time()\n",
    "\n",
    "tsne_embeddings = tsne_dim_reduction(\n",
    "    embeddings_tokens, \n",
    "    num_components=2,\n",
    "    early_exaggeration=12,\n",
    "    verbose=1,\n",
    "    perplexity=40,\n",
    "    method=\"barnes_hut\")\n",
    "\n",
    "print(\"TIME: {0}\".format(time.time() - start))\n",
    "params['reduction'] = {\n",
    "    'name': 'TSNE',\n",
    "    'num_components': 2,\n",
    "    'early_exaggeration': 12,\n",
    "    'verbose': 1,\n",
    "    'perplexity': 40,\n",
    "    'method': \"barnes_hut\"\n",
    "}"
   ]
  },
  {
   "cell_type": "markdown",
   "metadata": {},
   "source": [
    "# Blocking"
   ]
  },
  {
   "cell_type": "markdown",
   "metadata": {},
   "source": [
    "hierarchy_cluster"
   ]
  },
  {
   "cell_type": "code",
   "execution_count": 19,
   "metadata": {},
   "outputs": [
    {
     "name": "stdout",
     "output_type": "stream",
     "text": [
      "clustering with NUM_CLUSTERS = 13, \n"
     ]
    }
   ],
   "source": [
    "from cluster_algorithms.hierarchy_cluster import hierarchy_cluster\n",
    "num_clusters = 13\n",
    "blocks = hierarchy_cluster(tsne_embeddings, {'num_clusters': num_clusters})\n",
    "\n",
    "params['blocking'] = {\n",
    "    'name': 'hierarchy',\n",
    "    'num_clusters': num_clusters\n",
    "}"
   ]
  },
  {
   "cell_type": "markdown",
   "metadata": {},
   "source": [
    "# Evaluation"
   ]
  },
  {
   "cell_type": "markdown",
   "metadata": {},
   "source": [
    "## bilstm, rnn_dim 2048"
   ]
  },
  {
   "cell_type": "code",
   "execution_count": 8,
   "metadata": {},
   "outputs": [
    {
     "name": "stdout",
     "output_type": "stream",
     "text": [
      "(RR) Reduction ratio is: 0.8855987470538731\n",
      "(PC) Pair completeness is: 0.4749316317228806\n",
      "(RM) Reference metric (Harmonic mean RR and PC) is: 0.6182866102088701\n",
      "(PQ) Pair quality - Precision is: 0.0019298226118908187\n",
      "(FM) Fmeasure is: 0.003844025528461283\n",
      "\n",
      "[]\n",
      "{'name': 'Infersent', 'model_type': 'bilstm', 'char_level': False, 'model_version': 2, 'rnn_dim': 2048, 'verbose': 1}\n",
      "{'name': 'TSNE', 'num_components': 2, 'early_exaggeration': 12, 'verbose': 1, 'perplexity': 40, 'method': 'barnes_hut'}\n",
      "{'name': 'hierarchy', 'num_clusters': 10}\n"
     ]
    }
   ],
   "source": [
    "from evaluation import calc_index\n",
    "calc_index(blocks,table,pairs)\n",
    "print()\n",
    "print(params['attr_list'])\n",
    "print(params['embedding'])\n",
    "print(params['reduction'])\n",
    "print(params['blocking'])"
   ]
  },
  {
   "cell_type": "code",
   "execution_count": 13,
   "metadata": {},
   "outputs": [
    {
     "name": "stdout",
     "output_type": "stream",
     "text": [
      "(RR) Reduction ratio is: 0.896654827071569\n",
      "(PC) Pair completeness is: 0.5278030993618961\n",
      "(RM) Reference metric (Harmonic mean RR and PC) is: 0.6644733944106204\n",
      "(PQ) Pair quality - Precision is: 0.0023740989494919675\n",
      "(FM) Fmeasure is: 0.004726935778168741\n",
      "\n",
      "['name', 'description']\n",
      "{'name': 'Infersent', 'model_type': 'bilstm', 'char_level': False, 'model_version': 2, 'rnn_dim': 2048, 'verbose': 1}\n",
      "{'name': 'TSNE', 'num_components': 2, 'early_exaggeration': 12, 'verbose': 1, 'perplexity': 40, 'method': 'barnes_hut'}\n",
      "{'name': 'hierarchy', 'num_clusters': 10}\n"
     ]
    }
   ],
   "source": [
    "from evaluation import calc_index\n",
    "calc_index(blocks,table,pairs)\n",
    "print()\n",
    "print(params['attr_list'])\n",
    "print(params['embedding'])\n",
    "print(params['reduction'])\n",
    "print(params['blocking'])"
   ]
  },
  {
   "cell_type": "code",
   "execution_count": 20,
   "metadata": {},
   "outputs": [
    {
     "name": "stdout",
     "output_type": "stream",
     "text": [
      "(RR) Reduction ratio is: 0.9078215060270065\n",
      "(PC) Pair completeness is: 0.9134001823154057\n",
      "(RM) Reference metric (Harmonic mean RR and PC) is: 0.9106023000084252\n",
      "(PQ) Pair quality - Precision is: 0.004606261205350986\n",
      "(FM) Fmeasure is: 0.009166296934962286\n",
      "\n",
      "['name']\n",
      "{'name': 'Infersent', 'model_type': 'bilstm', 'char_level': False, 'model_version': 2, 'rnn_dim': 2048, 'verbose': 1}\n",
      "{'name': 'TSNE', 'num_components': 2, 'early_exaggeration': 12, 'verbose': 1, 'perplexity': 40, 'method': 'barnes_hut'}\n",
      "{'name': 'hierarchy', 'num_clusters': 13}\n"
     ]
    }
   ],
   "source": [
    "from evaluation import calc_index\n",
    "calc_index(blocks,table,pairs)\n",
    "print()\n",
    "print(params['attr_list'])\n",
    "print(params['embedding'])\n",
    "print(params['reduction'])\n",
    "print(params['blocking'])"
   ]
  },
  {
   "cell_type": "markdown",
   "metadata": {},
   "source": [
    "## Searching"
   ]
  },
  {
   "cell_type": "code",
   "execution_count": 18,
   "metadata": {},
   "outputs": [
    {
     "name": "stdout",
     "output_type": "stream",
     "text": [
      "clustering with NUM_CLUSTERS = 5, \n",
      "(RR) Reduction ratio is: 0.7754578838397578\n",
      "(PC) Pair completeness is: 0.9279854147675478\n",
      "(RM) Reference metric (Harmonic mean RR and PC) is: 0.8448929372150412\n",
      "(PQ) Pair quality - Precision is: 0.001921146195828584\n",
      "(FM) Fmeasure is: 0.003834354383989122\n",
      "clustering with NUM_CLUSTERS = 6, \n",
      "(RR) Reduction ratio is: 0.8295178818566045\n",
      "(PC) Pair completeness is: 0.9243391066545124\n",
      "(RM) Reference metric (Harmonic mean RR and PC) is: 0.874365267968845\n",
      "(PQ) Pair quality - Precision is: 0.002520400579642421\n",
      "(FM) Fmeasure is: 0.005027093754802758\n",
      "clustering with NUM_CLUSTERS = 7, \n",
      "(RR) Reduction ratio is: 0.8500041103819773\n",
      "(PC) Pair completeness is: 0.9170464904284412\n",
      "(RM) Reference metric (Harmonic mean RR and PC) is: 0.8822534973452876\n",
      "(PQ) Pair quality - Precision is: 0.002842032703151662\n",
      "(FM) Fmeasure is: 0.005666504256919078\n",
      "clustering with NUM_CLUSTERS = 8, \n",
      "(RR) Reduction ratio is: 0.8593461187400365\n",
      "(PC) Pair completeness is: 0.9170464904284412\n",
      "(RM) Reference metric (Harmonic mean RR and PC) is: 0.8872591995558243\n",
      "(PQ) Pair quality - Precision is: 0.003030796020799817\n",
      "(FM) Fmeasure is: 0.006041624752644712\n",
      "clustering with NUM_CLUSTERS = 9, \n",
      "(RR) Reduction ratio is: 0.8683576015370287\n",
      "(PC) Pair completeness is: 0.9161349134001823\n",
      "(RM) Reference metric (Harmonic mean RR and PC) is: 0.891606671841386\n",
      "(PQ) Pair quality - Precision is: 0.003235047962402627\n",
      "(FM) Fmeasure is: 0.006447329169834199\n",
      "clustering with NUM_CLUSTERS = 10, \n",
      "(RR) Reduction ratio is: 0.8852584752262617\n",
      "(PC) Pair completeness is: 0.9143117593436645\n",
      "(RM) Reference metric (Harmonic mean RR and PC) is: 0.899550590923671\n",
      "(PQ) Pair quality - Precision is: 0.0037041687594173782\n",
      "(FM) Fmeasure is: 0.007378445082814403\n",
      "clustering with NUM_CLUSTERS = 11, \n",
      "(RR) Reduction ratio is: 0.8963234540090632\n",
      "(PC) Pair completeness is: 0.9143117593436645\n",
      "(RM) Reference metric (Harmonic mean RR and PC) is: 0.9052282515355756\n",
      "(PQ) Pair quality - Precision is: 0.004099499722067816\n",
      "(FM) Fmeasure is: 0.00816240168293586\n",
      "clustering with NUM_CLUSTERS = 12, \n",
      "(RR) Reduction ratio is: 0.9053713793679165\n",
      "(PC) Pair completeness is: 0.9134001823154057\n",
      "(RM) Reference metric (Harmonic mean RR and PC) is: 0.9093680596285831\n",
      "(PQ) Pair quality - Precision is: 0.0044869957727305294\n",
      "(FM) Fmeasure is: 0.008930123123404143\n",
      "clustering with NUM_CLUSTERS = 13, \n",
      "(RR) Reduction ratio is: 0.9078215060270065\n",
      "(PC) Pair completeness is: 0.9134001823154057\n",
      "(RM) Reference metric (Harmonic mean RR and PC) is: 0.9106023000084252\n",
      "(PQ) Pair quality - Precision is: 0.004606261205350986\n",
      "(FM) Fmeasure is: 0.009166296934962286\n",
      "clustering with NUM_CLUSTERS = 14, \n",
      "(RR) Reduction ratio is: 0.9136874872345095\n",
      "(PC) Pair completeness is: 0.902461257976299\n",
      "(RM) Reference metric (Harmonic mean RR and PC) is: 0.9080396760466312\n",
      "(PQ) Pair quality - Precision is: 0.00486039855268132\n",
      "(FM) Fmeasure is: 0.009668724119071803\n",
      "clustering with NUM_CLUSTERS = 15, \n",
      "(RR) Reduction ratio is: 0.922887962852317\n",
      "(PC) Pair completeness is: 0.8969917958067457\n",
      "(RM) Reference metric (Harmonic mean RR and PC) is: 0.9097556332373208\n",
      "(PQ) Pair quality - Precision is: 0.005407336172551174\n",
      "(FM) Fmeasure is: 0.010749868904037755\n",
      "clustering with NUM_CLUSTERS = 16, \n",
      "(RR) Reduction ratio is: 0.9272153051979806\n",
      "(PC) Pair completeness is: 0.8404740200546946\n",
      "(RM) Reference metric (Harmonic mean RR and PC) is: 0.8817164463043792\n",
      "(PQ) Pair quality - Precision is: 0.005367861530131635\n",
      "(FM) Fmeasure is: 0.010667592271202127\n",
      "clustering with NUM_CLUSTERS = 17, \n",
      "(RR) Reduction ratio is: 0.9316172276702439\n",
      "(PC) Pair completeness is: 0.837739288969918\n",
      "(RM) Reference metric (Harmonic mean RR and PC) is: 0.8821877858540351\n",
      "(PQ) Pair quality - Precision is: 0.005694810224632068\n",
      "(FM) Fmeasure is: 0.011312718499187552\n",
      "clustering with NUM_CLUSTERS = 18, \n",
      "(RR) Reduction ratio is: 0.9344915287993701\n",
      "(PC) Pair completeness is: 0.837739288969918\n",
      "(RM) Reference metric (Harmonic mean RR and PC) is: 0.883474388364586\n",
      "(PQ) Pair quality - Precision is: 0.005944680190436763\n",
      "(FM) Fmeasure is: 0.011805586778770498\n",
      "clustering with NUM_CLUSTERS = 19, \n",
      "(RR) Reduction ratio is: 0.9431953685741381\n",
      "(PC) Pair completeness is: 0.8149498632634458\n",
      "(RM) Reference metric (Harmonic mean RR and PC) is: 0.8743952692085873\n",
      "(PQ) Pair quality - Precision is: 0.006669053800017904\n",
      "(FM) Fmeasure is: 0.013229842618147377\n"
     ]
    }
   ],
   "source": [
    "for i in range(5,20,1):\n",
    "    num_clusters = int(i)\n",
    "    blocks = hierarchy_cluster(tsne_embeddings, {'num_clusters': num_clusters})\n",
    "    calc_index(blocks,table,pairs)"
   ]
  },
  {
   "cell_type": "code",
   "execution_count": 21,
   "metadata": {},
   "outputs": [
    {
     "name": "stdout",
     "output_type": "stream",
     "text": [
      ">>>>>>>>>>>>>>>>>>>>: 30\n",
      "starting dimension: 4096\n",
      "setting TSNE with n_components: 2 & perplexity: 30\n",
      "early_exaggeration: 12\n",
      "clustering with NUM_CLUSTERS = 13, \n",
      "(RR) Reduction ratio is: 0.9146828776741849\n",
      "(PC) Pair completeness is: 0.8997265268915223\n",
      "(RM) Reference metric (Harmonic mean RR and PC) is: 0.9071430589657029\n",
      "(PQ) Pair quality - Precision is: 0.004902204253543792\n",
      "(FM) Fmeasure is: 0.009751278188060366\n",
      ">>>>>>>>>>>>>>>>>>>>: 35\n",
      "starting dimension: 4096\n",
      "setting TSNE with n_components: 2 & perplexity: 35\n",
      "early_exaggeration: 12\n",
      "clustering with NUM_CLUSTERS = 13, \n",
      "(RR) Reduction ratio is: 0.9098927995430273\n",
      "(PC) Pair completeness is: 0.8960802187784868\n",
      "(RM) Reference metric (Harmonic mean RR and PC) is: 0.902933687943208\n",
      "(PQ) Pair quality - Precision is: 0.0046227932393412404\n",
      "(FM) Fmeasure is: 0.009198134172986679\n",
      ">>>>>>>>>>>>>>>>>>>>: 40\n",
      "starting dimension: 4096\n",
      "setting TSNE with n_components: 2 & perplexity: 40\n",
      "early_exaggeration: 12\n",
      "clustering with NUM_CLUSTERS = 13, \n",
      "(RR) Reduction ratio is: 0.9078215060270065\n",
      "(PC) Pair completeness is: 0.9134001823154057\n",
      "(RM) Reference metric (Harmonic mean RR and PC) is: 0.9106023000084252\n",
      "(PQ) Pair quality - Precision is: 0.004606261205350986\n",
      "(FM) Fmeasure is: 0.009166296934962286\n",
      ">>>>>>>>>>>>>>>>>>>>: 45\n",
      "starting dimension: 4096\n",
      "setting TSNE with n_components: 2 & perplexity: 45\n",
      "early_exaggeration: 12\n",
      "clustering with NUM_CLUSTERS = 13, \n",
      "(RR) Reduction ratio is: 0.9121416446104418\n",
      "(PC) Pair completeness is: 0.9051959890610757\n",
      "(RM) Reference metric (Harmonic mean RR and PC) is: 0.908655544087174\n",
      "(PQ) Pair quality - Precision is: 0.004789350567921479\n",
      "(FM) Fmeasure is: 0.009528287403085898\n",
      ">>>>>>>>>>>>>>>>>>>>: 50\n",
      "starting dimension: 4096\n",
      "setting TSNE with n_components: 2 & perplexity: 50\n",
      "early_exaggeration: 12\n",
      "clustering with NUM_CLUSTERS = 13, \n",
      "(RR) Reduction ratio is: 0.9110949803337292\n",
      "(PC) Pair completeness is: 0.821330902461258\n",
      "(RM) Reference metric (Harmonic mean RR and PC) is: 0.8638874192045051\n",
      "(PQ) Pair quality - Precision is: 0.004294463906961226\n",
      "(FM) Fmeasure is: 0.008544252780912462\n"
     ]
    }
   ],
   "source": [
    "for i in [30,35,40,45,50]:\n",
    "    print('>>>>>>>>>>>>>>>>>>>>: '+str(i))\n",
    "    tsne_embeddings = tsne_dim_reduction(\n",
    "    embeddings_tokens, \n",
    "    num_components=2,\n",
    "    early_exaggeration=12,\n",
    "    verbose=1,\n",
    "    perplexity=i,\n",
    "    method=\"barnes_hut\")\n",
    "    num_clusters = 13\n",
    "    blocks = hierarchy_cluster(tsne_embeddings, {'num_clusters': num_clusters})\n",
    "    calc_index(blocks,table,pairs)"
   ]
  },
  {
   "cell_type": "code",
   "execution_count": 22,
   "metadata": {},
   "outputs": [
    {
     "name": "stdout",
     "output_type": "stream",
     "text": [
      ">>>>>>>>>>>>>>>>>>>>: 10\n",
      "starting dimension: 4096\n",
      "setting TSNE with n_components: 2 & perplexity: 40\n",
      "early_exaggeration: 10\n",
      "clustering with NUM_CLUSTERS = 13, \n",
      "(RR) Reduction ratio is: 0.9115123747922562\n",
      "(PC) Pair completeness is: 0.9143117593436645\n",
      "(RM) Reference metric (Harmonic mean RR and PC) is: 0.9129099210360069\n",
      "(PQ) Pair quality - Precision is: 0.004803179772052486\n",
      "(FM) Fmeasure is: 0.009556157910031107\n",
      ">>>>>>>>>>>>>>>>>>>>: 15\n",
      "starting dimension: 4096\n",
      "setting TSNE with n_components: 2 & perplexity: 40\n",
      "early_exaggeration: 15\n",
      "clustering with NUM_CLUSTERS = 13, \n",
      "(RR) Reduction ratio is: 0.9154579177398153\n",
      "(PC) Pair completeness is: 0.8413855970829535\n",
      "(RM) Reference metric (Harmonic mean RR and PC) is: 0.8768602328244759\n",
      "(PQ) Pair quality - Precision is: 0.004626357708173566\n",
      "(FM) Fmeasure is: 0.009202117583721324\n",
      ">>>>>>>>>>>>>>>>>>>>: 18\n",
      "starting dimension: 4096\n",
      "setting TSNE with n_components: 2 & perplexity: 40\n",
      "early_exaggeration: 18\n",
      "clustering with NUM_CLUSTERS = 13, \n",
      "(RR) Reduction ratio is: 0.9158731934447458\n",
      "(PC) Pair completeness is: 0.8805834092980857\n",
      "(RM) Reference metric (Harmonic mean RR and PC) is: 0.8978816832390277\n",
      "(PQ) Pair quality - Precision is: 0.004865787869782249\n",
      "(FM) Fmeasure is: 0.009678098043341049\n"
     ]
    }
   ],
   "source": [
    "for i in [10,15,18]:\n",
    "    print('>>>>>>>>>>>>>>>>>>>>: '+str(i))\n",
    "    tsne_embeddings = tsne_dim_reduction(\n",
    "    embeddings_tokens, \n",
    "    num_components=2,\n",
    "    early_exaggeration=i,\n",
    "    verbose=1,\n",
    "    perplexity=40,\n",
    "    method=\"barnes_hut\")\n",
    "    num_clusters = 13\n",
    "    blocks = hierarchy_cluster(tsne_embeddings, {'num_clusters': num_clusters})\n",
    "    calc_index(blocks,table,pairs)"
   ]
  },
  {
   "cell_type": "code",
   "execution_count": 23,
   "metadata": {},
   "outputs": [
    {
     "name": "stdout",
     "output_type": "stream",
     "text": [
      ">>>>>>>>>>>>>>>>>>>>: 5\n",
      "starting dimension: 4096\n",
      "setting TSNE with n_components: 2 & perplexity: 40\n",
      "early_exaggeration: 5\n",
      "clustering with NUM_CLUSTERS = 13, \n",
      "(RR) Reduction ratio is: 0.9107038584197997\n",
      "(PC) Pair completeness is: 0.9088422971741112\n",
      "(RM) Reference metric (Harmonic mean RR and PC) is: 0.9097721255237029\n",
      "(PQ) Pair quality - Precision is: 0.004731217493641092\n",
      "(FM) Fmeasure is: 0.009413430898147055\n",
      ">>>>>>>>>>>>>>>>>>>>: 8\n",
      "starting dimension: 4096\n",
      "setting TSNE with n_components: 2 & perplexity: 40\n",
      "early_exaggeration: 8\n",
      "clustering with NUM_CLUSTERS = 13, \n",
      "(RR) Reduction ratio is: 0.9147701703223641\n",
      "(PC) Pair completeness is: 0.9115770282588879\n",
      "(RM) Reference metric (Harmonic mean RR and PC) is: 0.913170807883755\n",
      "(PQ) Pair quality - Precision is: 0.004971859276495038\n",
      "(FM) Fmeasure is: 0.009889778419514512\n"
     ]
    }
   ],
   "source": [
    "for i in [5,8]:\n",
    "    print('>>>>>>>>>>>>>>>>>>>>: '+str(i))\n",
    "    tsne_embeddings = tsne_dim_reduction(\n",
    "    embeddings_tokens, \n",
    "    num_components=2,\n",
    "    early_exaggeration=i,\n",
    "    verbose=1,\n",
    "    perplexity=40,\n",
    "    method=\"barnes_hut\")\n",
    "    num_clusters = 13\n",
    "    blocks = hierarchy_cluster(tsne_embeddings, {'num_clusters': num_clusters})\n",
    "    calc_index(blocks,table,pairs)"
   ]
  },
  {
   "cell_type": "markdown",
   "metadata": {
    "heading_collapsed": true
   },
   "source": [
    "# Best"
   ]
  },
  {
   "cell_type": "code",
   "execution_count": 28,
   "metadata": {
    "hidden": true
   },
   "outputs": [],
   "source": [
    "#(RR) Reduction ratio is: 0.9990375547800934\n",
    "#(PC) Pair completeness is: 0.9775179856115108\n",
    "#(RM) Reference metric (Harmonic mean RR and PC) is: 0.9881606240170739\n",
    "#(PQ) Pair quality - Precision is: 0.18742995085783257\n",
    "#(FM) Fmeasure is: 0.3145482167402156\n",
    "\n",
    "#['title', 'authors']\n",
    "#{'name': 'Infersent', 'model_type': 'bilstm', 'char_level': False, 'model_version': 2, 'rnn_dim': 2048, 'verbose': 1}\n",
    "#{'name': 'TSNE', 'num_components': 2, 'early_exaggeration': 12, 'verbose': 1, 'perplexity': 40, 'method': 'barnes_hut'}\n",
    "#{'name': 'hierarchy', 'num_clusters': 1000}"
   ]
  },
  {
   "cell_type": "code",
   "execution_count": null,
   "metadata": {
    "hidden": true
   },
   "outputs": [],
   "source": []
  }
 ],
 "metadata": {
  "kernelspec": {
   "display_name": "Python 3.7.7 64-bit ('thesisEnv': conda)",
   "language": "python",
   "name": "python37764bitthesisenvcondad61bb62be9734ae9b8ba15c07cc7706a"
  },
  "language_info": {
   "codemirror_mode": {
    "name": "ipython",
    "version": 3
   },
   "file_extension": ".py",
   "mimetype": "text/x-python",
   "name": "python",
   "nbconvert_exporter": "python",
   "pygments_lexer": "ipython3",
   "version": "3.7.7"
  },
  "toc": {
   "base_numbering": 1,
   "nav_menu": {},
   "number_sections": true,
   "sideBar": true,
   "skip_h1_title": false,
   "title_cell": "Table of Contents",
   "title_sidebar": "Contents",
   "toc_cell": true,
   "toc_position": {},
   "toc_section_display": true,
   "toc_window_display": false
  },
  "varInspector": {
   "cols": {
    "lenName": 16,
    "lenType": 16,
    "lenVar": 40
   },
   "kernels_config": {
    "python": {
     "delete_cmd_postfix": "",
     "delete_cmd_prefix": "del ",
     "library": "var_list.py",
     "varRefreshCmd": "print(var_dic_list())"
    },
    "r": {
     "delete_cmd_postfix": ") ",
     "delete_cmd_prefix": "rm(",
     "library": "var_list.r",
     "varRefreshCmd": "cat(var_dic_list()) "
    }
   },
   "types_to_exclude": [
    "module",
    "function",
    "builtin_function_or_method",
    "instance",
    "_Feature"
   ],
   "window_display": false
  }
 },
 "nbformat": 4,
 "nbformat_minor": 4
}
