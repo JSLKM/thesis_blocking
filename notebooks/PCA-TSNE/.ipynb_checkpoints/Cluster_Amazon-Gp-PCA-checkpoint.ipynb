{
 "cells": [
  {
   "cell_type": "markdown",
   "metadata": {
    "toc": true
   },
   "source": [
    "<h1>Table of Contents<span class=\"tocSkip\"></span></h1>\n",
    "<div class=\"toc\"><ul class=\"toc-item\"><li><span><a href=\"#Setup\" data-toc-modified-id=\"Setup-1\"><span class=\"toc-item-num\">1&nbsp;&nbsp;</span>Setup</a></span></li><li><span><a href=\"#Import-dataset\" data-toc-modified-id=\"Import-dataset-2\"><span class=\"toc-item-num\">2&nbsp;&nbsp;</span>Import dataset</a></span></li><li><span><a href=\"#Sentence-embedding\" data-toc-modified-id=\"Sentence-embedding-3\"><span class=\"toc-item-num\">3&nbsp;&nbsp;</span>Sentence embedding</a></span><ul class=\"toc-item\"><li><span><a href=\"#Infersent\" data-toc-modified-id=\"Infersent-3.1\"><span class=\"toc-item-num\">3.1&nbsp;&nbsp;</span>Infersent</a></span></li></ul></li><li><span><a href=\"#Dimensionality-reduction\" data-toc-modified-id=\"Dimensionality-reduction-4\"><span class=\"toc-item-num\">4&nbsp;&nbsp;</span>Dimensionality reduction</a></span><ul class=\"toc-item\"><li><span><a href=\"#PCA\" data-toc-modified-id=\"PCA-4.1\"><span class=\"toc-item-num\">4.1&nbsp;&nbsp;</span>PCA</a></span></li></ul></li><li><span><a href=\"#Blocking\" data-toc-modified-id=\"Blocking-5\"><span class=\"toc-item-num\">5&nbsp;&nbsp;</span>Blocking</a></span></li><li><span><a href=\"#Evaluation\" data-toc-modified-id=\"Evaluation-6\"><span class=\"toc-item-num\">6&nbsp;&nbsp;</span>Evaluation</a></span><ul class=\"toc-item\"><li><span><a href=\"#bilstm,-rnn_dim-2048\" data-toc-modified-id=\"bilstm,-rnn_dim-2048-6.1\"><span class=\"toc-item-num\">6.1&nbsp;&nbsp;</span>bilstm, rnn_dim 2048</a></span></li><li><span><a href=\"#Searching\" data-toc-modified-id=\"Searching-6.2\"><span class=\"toc-item-num\">6.2&nbsp;&nbsp;</span>Searching</a></span></li></ul></li><li><span><a href=\"#Best\" data-toc-modified-id=\"Best-7\"><span class=\"toc-item-num\">7&nbsp;&nbsp;</span>Best</a></span></li></ul></div>"
   ]
  },
  {
   "cell_type": "markdown",
   "metadata": {},
   "source": [
    "# Setup "
   ]
  },
  {
   "cell_type": "code",
   "execution_count": 1,
   "metadata": {},
   "outputs": [],
   "source": [
    "import os\n",
    "import sys\n",
    "import time\n",
    "import numpy as np\n",
    "import matplotlib.pyplot as plt\n",
    "\n",
    "module_path = os.path.abspath(os.path.join('../..'))\n",
    "if module_path not in sys.path:\n",
    "    sys.path.append(module_path)\n",
    "    \n",
    "params = {}"
   ]
  },
  {
   "cell_type": "markdown",
   "metadata": {},
   "source": [
    "# Import dataset"
   ]
  },
  {
   "cell_type": "code",
   "execution_count": 2,
   "metadata": {},
   "outputs": [],
   "source": [
    "from preprocessing_datasets.preprocessing_amzn_gp import clean_amzn_gp\n",
    "table, pairs = clean_amzn_gp()"
   ]
  },
  {
   "cell_type": "code",
   "execution_count": 3,
   "metadata": {
    "scrolled": true
   },
   "outputs": [
    {
     "data": {
      "text/html": [
       "<div>\n",
       "<style scoped>\n",
       "    .dataframe tbody tr th:only-of-type {\n",
       "        vertical-align: middle;\n",
       "    }\n",
       "\n",
       "    .dataframe tbody tr th {\n",
       "        vertical-align: top;\n",
       "    }\n",
       "\n",
       "    .dataframe thead th {\n",
       "        text-align: right;\n",
       "    }\n",
       "</style>\n",
       "<table border=\"1\" class=\"dataframe\">\n",
       "  <thead>\n",
       "    <tr style=\"text-align: right;\">\n",
       "      <th></th>\n",
       "      <th>title</th>\n",
       "      <th>description</th>\n",
       "      <th>manufacturer</th>\n",
       "      <th>price</th>\n",
       "    </tr>\n",
       "  </thead>\n",
       "  <tbody>\n",
       "    <tr>\n",
       "      <th>0</th>\n",
       "      <td>clickart 950 000 - premier image pack (dvd-rom)</td>\n",
       "      <td>unk</td>\n",
       "      <td>broderbund</td>\n",
       "      <td>0</td>\n",
       "    </tr>\n",
       "    <tr>\n",
       "      <th>1</th>\n",
       "      <td>ca international - arcserve lap/desktop oem 30pk</td>\n",
       "      <td>oem arcserve backup v11.1 win 30u for laptops ...</td>\n",
       "      <td>computer associates</td>\n",
       "      <td>0</td>\n",
       "    </tr>\n",
       "    <tr>\n",
       "      <th>2</th>\n",
       "      <td>noah's ark activity center (jewel case ages 3-8)</td>\n",
       "      <td>unk</td>\n",
       "      <td>victory multimedia</td>\n",
       "      <td>0</td>\n",
       "    </tr>\n",
       "    <tr>\n",
       "      <th>3</th>\n",
       "      <td>peachtree by sage premium accounting for nonpr...</td>\n",
       "      <td>peachtree premium accounting for nonprofits 20...</td>\n",
       "      <td>sage software</td>\n",
       "      <td>599.99</td>\n",
       "    </tr>\n",
       "    <tr>\n",
       "      <th>4</th>\n",
       "      <td>singing coach unlimited</td>\n",
       "      <td>singing coach unlimited - electronic learning ...</td>\n",
       "      <td>carry-a-tune technologies</td>\n",
       "      <td>99.99</td>\n",
       "    </tr>\n",
       "    <tr>\n",
       "      <th>...</th>\n",
       "      <td>...</td>\n",
       "      <td>...</td>\n",
       "      <td>...</td>\n",
       "      <td>...</td>\n",
       "    </tr>\n",
       "    <tr>\n",
       "      <th>4584</th>\n",
       "      <td>jumpstart(r) advanced 1st grade</td>\n",
       "      <td>prepare your child for the 1st grade and beyon...</td>\n",
       "      <td>unk</td>\n",
       "      <td>19.99</td>\n",
       "    </tr>\n",
       "    <tr>\n",
       "      <th>4585</th>\n",
       "      <td>ibm(r) viavoice(r) advanced edition 10</td>\n",
       "      <td>ibm viavoice advanced edition release 10 is a ...</td>\n",
       "      <td>unk</td>\n",
       "      <td>78.95</td>\n",
       "    </tr>\n",
       "    <tr>\n",
       "      <th>4586</th>\n",
       "      <td>xbox 360: gears of war</td>\n",
       "      <td>as marcus fenix you fight a war against the im...</td>\n",
       "      <td>unk</td>\n",
       "      <td>59.99</td>\n",
       "    </tr>\n",
       "    <tr>\n",
       "      <th>4587</th>\n",
       "      <td>documents to go premium 7.0</td>\n",
       "      <td>this pda software enables you to use your docu...</td>\n",
       "      <td>unk</td>\n",
       "      <td>49.99</td>\n",
       "    </tr>\n",
       "    <tr>\n",
       "      <th>4588</th>\n",
       "      <td>microsoft(r) picture it! digital image pro 9.0</td>\n",
       "      <td>picture it! digital image pro puts you in cont...</td>\n",
       "      <td>unk</td>\n",
       "      <td>99.87</td>\n",
       "    </tr>\n",
       "  </tbody>\n",
       "</table>\n",
       "<p>4589 rows × 4 columns</p>\n",
       "</div>"
      ],
      "text/plain": [
       "                                                  title  \\\n",
       "0       clickart 950 000 - premier image pack (dvd-rom)   \n",
       "1      ca international - arcserve lap/desktop oem 30pk   \n",
       "2      noah's ark activity center (jewel case ages 3-8)   \n",
       "3     peachtree by sage premium accounting for nonpr...   \n",
       "4                               singing coach unlimited   \n",
       "...                                                 ...   \n",
       "4584                    jumpstart(r) advanced 1st grade   \n",
       "4585             ibm(r) viavoice(r) advanced edition 10   \n",
       "4586                             xbox 360: gears of war   \n",
       "4587                        documents to go premium 7.0   \n",
       "4588     microsoft(r) picture it! digital image pro 9.0   \n",
       "\n",
       "                                            description  \\\n",
       "0                                                   unk   \n",
       "1     oem arcserve backup v11.1 win 30u for laptops ...   \n",
       "2                                                   unk   \n",
       "3     peachtree premium accounting for nonprofits 20...   \n",
       "4     singing coach unlimited - electronic learning ...   \n",
       "...                                                 ...   \n",
       "4584  prepare your child for the 1st grade and beyon...   \n",
       "4585  ibm viavoice advanced edition release 10 is a ...   \n",
       "4586  as marcus fenix you fight a war against the im...   \n",
       "4587  this pda software enables you to use your docu...   \n",
       "4588  picture it! digital image pro puts you in cont...   \n",
       "\n",
       "                   manufacturer   price  \n",
       "0                    broderbund       0  \n",
       "1           computer associates       0  \n",
       "2            victory multimedia       0  \n",
       "3                 sage software  599.99  \n",
       "4     carry-a-tune technologies   99.99  \n",
       "...                         ...     ...  \n",
       "4584                        unk   19.99  \n",
       "4585                        unk   78.95  \n",
       "4586                        unk   59.99  \n",
       "4587                        unk   49.99  \n",
       "4588                        unk   99.87  \n",
       "\n",
       "[4589 rows x 4 columns]"
      ]
     },
     "execution_count": 3,
     "metadata": {},
     "output_type": "execute_result"
    }
   ],
   "source": [
    "table"
   ]
  },
  {
   "cell_type": "markdown",
   "metadata": {},
   "source": [
    "# Sentence embedding"
   ]
  },
  {
   "cell_type": "markdown",
   "metadata": {},
   "source": [
    "## Infersent"
   ]
  },
  {
   "cell_type": "markdown",
   "metadata": {},
   "source": [
    "Setup model"
   ]
  },
  {
   "cell_type": "code",
   "execution_count": 4,
   "metadata": {},
   "outputs": [
    {
     "name": "stdout",
     "output_type": "stream",
     "text": [
      "Vocab size : 2196017\n",
      "TIME: 180.73784613609314\n"
     ]
    }
   ],
   "source": [
    "from embedding_algorithms.inferSent import set_RNN_embedding\n",
    "start = time.time()\n",
    "model_type = \"bilstm\" \n",
    "char_level = False\n",
    "model_version = 2\n",
    "rnn_dim = 2048\n",
    "verbose = 1\n",
    "set_RNN_embedding(model_type, char_level, model_version, rnn_dim, verbose)\n",
    "print(\"TIME: {0}\".format(time.time() - start))\n",
    "\n",
    "params['embedding'] = {\n",
    "    'name': 'Infersent',\n",
    "    'model_type': model_type,\n",
    "    'char_level': char_level,\n",
    "    'model_version': model_version,\n",
    "    'rnn_dim': rnn_dim,\n",
    "    'verbose': verbose\n",
    "}"
   ]
  },
  {
   "cell_type": "markdown",
   "metadata": {},
   "source": [
    "Embedding"
   ]
  },
  {
   "cell_type": "code",
   "execution_count": 5,
   "metadata": {},
   "outputs": [
    {
     "name": "stdout",
     "output_type": "stream",
     "text": [
      "attrs: ['title', 'manufacturer']\n",
      "TIME: 67.96230816841125\n"
     ]
    }
   ],
   "source": [
    "from embedding_algorithms.inferSent import RNN_embedding\n",
    "start = time.time()\n",
    "attr_list = ['title', 'manufacturer']\n",
    "params['attr_list'] = attr_list\n",
    "embeddings_tokens = RNN_embedding(table, attr_list, model_type, char_level)\n",
    "embeddings_tokens = np.array(embeddings_tokens)\n",
    "print(\"TIME: {0}\".format(time.time() - start))"
   ]
  },
  {
   "cell_type": "markdown",
   "metadata": {},
   "source": [
    "# Dimensionality reduction"
   ]
  },
  {
   "cell_type": "markdown",
   "metadata": {},
   "source": [
    "## PCA"
   ]
  },
  {
   "cell_type": "code",
   "execution_count": 6,
   "metadata": {},
   "outputs": [
    {
     "name": "stdout",
     "output_type": "stream",
     "text": [
      "starting dimension: 4096\n",
      "setting PCA with n_components: 2\n",
      "PCA: 0.5006558895111084\n"
     ]
    }
   ],
   "source": [
    "from dimensionality_reduction_algorithms.pca import pca_dim_reduction\n",
    "\n",
    "start = time.time()\n",
    "pca_embeddings = pca_dim_reduction(\n",
    "            embeddings_tokens, \n",
    "            num_components=2,\n",
    "            verbose=1)\n",
    "\n",
    "print(\"PCA: {0}\".format(time.time() - start))\n",
    "\n",
    "params['reduction'] = {\n",
    "    'name': 'PCA',\n",
    "    'num_components': 2,\n",
    "    'verbose': 1,\n",
    "}"
   ]
  },
  {
   "cell_type": "markdown",
   "metadata": {},
   "source": [
    "# Blocking"
   ]
  },
  {
   "cell_type": "code",
   "execution_count": 10,
   "metadata": {},
   "outputs": [
    {
     "name": "stdout",
     "output_type": "stream",
     "text": [
      "clustering with NUM_CLUSTERS = 3, \n",
      "BLOCKS: 0.5847048759460449\n"
     ]
    }
   ],
   "source": [
    "from cluster_algorithms.hierarchy_cluster import hierarchy_cluster\n",
    "num_clusters = 3\n",
    "start = time.time()\n",
    "blocks = hierarchy_cluster(pca_embeddings, {'num_clusters': num_clusters})\n",
    "print(\"BLOCKS: {0}\".format(time.time() - start))\n",
    "\n",
    "params['blocking'] = {\n",
    "    'name': 'hierarchy',\n",
    "    'num_clusters': num_clusters\n",
    "}"
   ]
  },
  {
   "cell_type": "markdown",
   "metadata": {},
   "source": [
    "# Evaluation"
   ]
  },
  {
   "cell_type": "markdown",
   "metadata": {},
   "source": [
    "## bilstm, rnn_dim 2048"
   ]
  },
  {
   "cell_type": "code",
   "execution_count": 11,
   "metadata": {},
   "outputs": [
    {
     "name": "stdout",
     "output_type": "stream",
     "text": [
      "(RR) Reduction ratio is: 0.6335124761972976\n",
      "(PC) Pair completeness is: 0.546923076923077\n",
      "(RM) Reference metric (Harmonic mean RR and PC) is: 0.587041947076379\n",
      "(PQ) Pair quality - Precision is: 0.00018428879687408875\n",
      "(FM) Fmeasure is: 0.0003684534412955466\n",
      "\n",
      "['title', 'manufacturer']\n",
      "{'name': 'Infersent', 'model_type': 'bilstm', 'char_level': False, 'model_version': 2, 'rnn_dim': 2048, 'verbose': 1}\n",
      "{'name': 'PCA', 'num_components': 2, 'verbose': 1}\n",
      "{'name': 'hierarchy', 'num_clusters': 3}\n"
     ]
    }
   ],
   "source": [
    "from evaluation import calc_index\n",
    "calc_index(blocks,table,pairs)\n",
    "print()\n",
    "print(params['attr_list'])\n",
    "print(params['embedding'])\n",
    "print(params['reduction'])\n",
    "print(params['blocking'])"
   ]
  },
  {
   "cell_type": "markdown",
   "metadata": {},
   "source": [
    "## Searching"
   ]
  },
  {
   "cell_type": "code",
   "execution_count": 9,
   "metadata": {},
   "outputs": [
    {
     "name": "stdout",
     "output_type": "stream",
     "text": [
      "clustering with NUM_CLUSTERS = 1, \n",
      "(RR) Reduction ratio is: 0.0\n",
      "(PC) Pair completeness is: 1.0\n",
      "(RM) Reference metric (Harmonic mean RR and PC) is: 0\n",
      "(PQ) Pair quality - Precision is: 0.00012349002571062335\n",
      "(FM) Fmeasure is: 0.0002469495556142747\n",
      "clustering with NUM_CLUSTERS = 2, \n",
      "(RR) Reduction ratio is: 0.48039994809619224\n",
      "(PC) Pair completeness is: 0.6269230769230769\n",
      "(RM) Reference metric (Harmonic mean RR and PC) is: 0.543967400314665\n",
      "(PQ) Pair quality - Precision is: 0.00014899680360722176\n",
      "(FM) Fmeasure is: 0.00029792280180493695\n",
      "clustering with NUM_CLUSTERS = 3, \n",
      "(RR) Reduction ratio is: 0.6335124761972976\n",
      "(PC) Pair completeness is: 0.546923076923077\n",
      "(RM) Reference metric (Harmonic mean RR and PC) is: 0.587041947076379\n",
      "(PQ) Pair quality - Precision is: 0.00018428879687408875\n",
      "(FM) Fmeasure is: 0.0003684534412955466\n",
      "clustering with NUM_CLUSTERS = 4, \n",
      "(RR) Reduction ratio is: 0.686586589401174\n",
      "(PC) Pair completeness is: 0.5138461538461538\n",
      "(RM) Reference metric (Harmonic mean RR and PC) is: 0.5877878293985415\n",
      "(PQ) Pair quality - Precision is: 0.00020246381489715415\n",
      "(FM) Fmeasure is: 0.0004047681445046513\n",
      "clustering with NUM_CLUSTERS = 5, \n",
      "(RR) Reduction ratio is: 0.7293344666551282\n",
      "(PC) Pair completeness is: 0.4623076923076923\n",
      "(RM) Reference metric (Harmonic mean RR and PC) is: 0.5659029964050036\n",
      "(PQ) Pair quality - Precision is: 0.0002109259649862898\n",
      "(FM) Fmeasure is: 0.00042165954955394246\n",
      "clustering with NUM_CLUSTERS = 6, \n",
      "(RR) Reduction ratio is: 0.8075931357024293\n",
      "(PC) Pair completeness is: 0.38461538461538464\n",
      "(RM) Reference metric (Harmonic mean RR and PC) is: 0.5210711703656211\n",
      "(PQ) Pair quality - Precision is: 0.00024685275085299966\n",
      "(FM) Fmeasure is: 0.0004933888362881568\n",
      "clustering with NUM_CLUSTERS = 7, \n",
      "(RR) Reduction ratio is: 0.8240448568969084\n",
      "(PC) Pair completeness is: 0.34923076923076923\n",
      "(RM) Reference metric (Harmonic mean RR and PC) is: 0.4905613188344708\n",
      "(PQ) Pair quality - Precision is: 0.0002450994947387288\n",
      "(FM) Fmeasure is: 0.0004898551959987247\n",
      "clustering with NUM_CLUSTERS = 8, \n",
      "(RR) Reduction ratio is: 0.8581742702641908\n",
      "(PC) Pair completeness is: 0.30923076923076925\n",
      "(RM) Reference metric (Harmonic mean RR and PC) is: 0.45463893121903126\n",
      "(PQ) Pair quality - Precision is: 0.0002692523825821839\n",
      "(FM) Fmeasure is: 0.0005380362880046683\n",
      "clustering with NUM_CLUSTERS = 9, \n",
      "(RR) Reduction ratio is: 0.8790121671872563\n",
      "(PC) Pair completeness is: 0.28307692307692306\n",
      "(RM) Reference metric (Harmonic mean RR and PC) is: 0.4282426566417209\n",
      "(PQ) Pair quality - Precision is: 0.00028893133876492846\n",
      "(FM) Fmeasure is: 0.0005772734652643731\n",
      "clustering with NUM_CLUSTERS = 10, \n",
      "(RR) Reduction ratio is: 0.8825078848381416\n",
      "(PC) Pair completeness is: 0.27692307692307694\n",
      "(RM) Reference metric (Harmonic mean RR and PC) is: 0.42156334777712334\n",
      "(PQ) Pair quality - Precision is: 0.0002910598540334832\n",
      "(FM) Fmeasure is: 0.0005815085138499983\n",
      "clustering with NUM_CLUSTERS = 11, \n",
      "(RR) Reduction ratio is: 0.8927328589669812\n",
      "(PC) Pair completeness is: 0.27307692307692305\n",
      "(RM) Reference metric (Harmonic mean RR and PC) is: 0.41822387496005253\n",
      "(PQ) Pair quality - Precision is: 0.00031437657354330736\n",
      "(FM) Fmeasure is: 0.000628030134831878\n",
      "clustering with NUM_CLUSTERS = 12, \n",
      "(RR) Reduction ratio is: 0.90409726606382\n",
      "(PC) Pair completeness is: 0.25384615384615383\n",
      "(RM) Reference metric (Harmonic mean RR and PC) is: 0.39639521197152533\n",
      "(PQ) Pair quality - Precision is: 0.0003268673037607569\n",
      "(FM) Fmeasure is: 0.0006528939027623348\n",
      "clustering with NUM_CLUSTERS = 13, \n",
      "(RR) Reduction ratio is: 0.9180805166366712\n",
      "(PC) Pair completeness is: 0.23307692307692307\n",
      "(RM) Reference metric (Harmonic mean RR and PC) is: 0.37177083615562756\n",
      "(PQ) Pair quality - Precision is: 0.0003513532317539832\n",
      "(FM) Fmeasure is: 0.0007016487587995554\n",
      "clustering with NUM_CLUSTERS = 14, \n",
      "(RR) Reduction ratio is: 0.918578181440285\n",
      "(PC) Pair completeness is: 0.2276923076923077\n",
      "(RM) Reference metric (Harmonic mean RR and PC) is: 0.3649281524925456\n",
      "(PQ) Pair quality - Precision is: 0.0003453340815571767\n",
      "(FM) Fmeasure is: 0.0006896222337935862\n",
      "clustering with NUM_CLUSTERS = 15, \n",
      "(RR) Reduction ratio is: 0.9222347211015767\n",
      "(PC) Pair completeness is: 0.20076923076923076\n",
      "(RM) Reference metric (Harmonic mean RR and PC) is: 0.32975192159526856\n",
      "(PQ) Pair quality - Precision is: 0.0003188183443922174\n",
      "(FM) Fmeasure is: 0.0006366257372418739\n",
      "clustering with NUM_CLUSTERS = 16, \n",
      "(RR) Reduction ratio is: 0.9270147350198524\n",
      "(PC) Pair completeness is: 0.1930769230769231\n",
      "(RM) Reference metric (Harmonic mean RR and PC) is: 0.31959018958989166\n",
      "(PQ) Pair quality - Precision is: 0.000326683395633115\n",
      "(FM) Fmeasure is: 0.0006522631712983414\n",
      "clustering with NUM_CLUSTERS = 17, \n",
      "(RR) Reduction ratio is: 0.9293783341119538\n",
      "(PC) Pair completeness is: 0.18846153846153846\n",
      "(RM) Reference metric (Harmonic mean RR and PC) is: 0.3133759583227698\n",
      "(PQ) Pair quality - Precision is: 0.0003295464633611587\n",
      "(FM) Fmeasure is: 0.000657942439435727\n",
      "clustering with NUM_CLUSTERS = 18, \n",
      "(RR) Reduction ratio is: 0.9309595763950146\n",
      "(PC) Pair completeness is: 0.18769230769230769\n",
      "(RM) Reference metric (Harmonic mean RR and PC) is: 0.3124009421472421\n",
      "(PQ) Pair quality - Precision is: 0.0003357182168409466\n",
      "(FM) Fmeasure is: 0.0006702376047246257\n",
      "clustering with NUM_CLUSTERS = 19, \n",
      "(RR) Reduction ratio is: 0.9369438080486239\n",
      "(PC) Pair completeness is: 0.16538461538461538\n",
      "(RM) Reference metric (Harmonic mean RR and PC) is: 0.2811432383254757\n",
      "(PQ) Pair quality - Precision is: 0.0003238912749716407\n",
      "(FM) Fmeasure is: 0.0006465164042261123\n"
     ]
    }
   ],
   "source": [
    "for i in range(1,20,1):\n",
    "    num_clusters = int(i)\n",
    "    blocks = hierarchy_cluster(pca_embeddings, {'num_clusters': num_clusters})\n",
    "    calc_index(blocks,table,pairs)"
   ]
  },
  {
   "cell_type": "markdown",
   "metadata": {},
   "source": [
    "# Best"
   ]
  },
  {
   "cell_type": "code",
   "execution_count": 28,
   "metadata": {},
   "outputs": [],
   "source": [
    "# Amazon-GP\n",
    "# RR PC alpha\n",
    "\n",
    "list_hierarchy_tsne = [0.9277, 0.8407, 0.8821]\n",
    "list_hierarchy_pca = [0.633, 0.546, 0.5870] # PCA: 0.50, BLOCKS: 0.584, n_cluster: 3\n"
   ]
  },
  {
   "cell_type": "code",
   "execution_count": null,
   "metadata": {},
   "outputs": [],
   "source": []
  }
 ],
 "metadata": {
  "kernelspec": {
   "display_name": "Python 3.7.7 64-bit ('thesisEnv': conda)",
   "language": "python",
   "name": "python37764bitthesisenvcondad61bb62be9734ae9b8ba15c07cc7706a"
  },
  "language_info": {
   "codemirror_mode": {
    "name": "ipython",
    "version": 3
   },
   "file_extension": ".py",
   "mimetype": "text/x-python",
   "name": "python",
   "nbconvert_exporter": "python",
   "pygments_lexer": "ipython3",
   "version": "3.7.7"
  },
  "toc": {
   "base_numbering": 1,
   "nav_menu": {},
   "number_sections": true,
   "sideBar": true,
   "skip_h1_title": false,
   "title_cell": "Table of Contents",
   "title_sidebar": "Contents",
   "toc_cell": true,
   "toc_position": {},
   "toc_section_display": true,
   "toc_window_display": false
  },
  "varInspector": {
   "cols": {
    "lenName": 16,
    "lenType": 16,
    "lenVar": 40
   },
   "kernels_config": {
    "python": {
     "delete_cmd_postfix": "",
     "delete_cmd_prefix": "del ",
     "library": "var_list.py",
     "varRefreshCmd": "print(var_dic_list())"
    },
    "r": {
     "delete_cmd_postfix": ") ",
     "delete_cmd_prefix": "rm(",
     "library": "var_list.r",
     "varRefreshCmd": "cat(var_dic_list()) "
    }
   },
   "types_to_exclude": [
    "module",
    "function",
    "builtin_function_or_method",
    "instance",
    "_Feature"
   ],
   "window_display": false
  }
 },
 "nbformat": 4,
 "nbformat_minor": 4
}
