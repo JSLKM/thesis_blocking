{
 "cells": [
  {
   "cell_type": "markdown",
   "metadata": {
    "toc": true
   },
   "source": [
    "<h1>Table of Contents<span class=\"tocSkip\"></span></h1>\n",
    "<div class=\"toc\"><ul class=\"toc-item\"><li><span><a href=\"#Setup\" data-toc-modified-id=\"Setup-1\"><span class=\"toc-item-num\">1&nbsp;&nbsp;</span>Setup</a></span></li><li><span><a href=\"#Import-dataset\" data-toc-modified-id=\"Import-dataset-2\"><span class=\"toc-item-num\">2&nbsp;&nbsp;</span>Import dataset</a></span></li><li><span><a href=\"#Sentence-embedding\" data-toc-modified-id=\"Sentence-embedding-3\"><span class=\"toc-item-num\">3&nbsp;&nbsp;</span>Sentence embedding</a></span><ul class=\"toc-item\"><li><span><a href=\"#Infersent\" data-toc-modified-id=\"Infersent-3.1\"><span class=\"toc-item-num\">3.1&nbsp;&nbsp;</span>Infersent</a></span></li></ul></li><li><span><a href=\"#Dimensionality-reduction\" data-toc-modified-id=\"Dimensionality-reduction-4\"><span class=\"toc-item-num\">4&nbsp;&nbsp;</span>Dimensionality reduction</a></span><ul class=\"toc-item\"><li><span><a href=\"#PCA\" data-toc-modified-id=\"PCA-4.1\"><span class=\"toc-item-num\">4.1&nbsp;&nbsp;</span>PCA</a></span></li></ul></li><li><span><a href=\"#Blocking\" data-toc-modified-id=\"Blocking-5\"><span class=\"toc-item-num\">5&nbsp;&nbsp;</span>Blocking</a></span></li><li><span><a href=\"#Evaluation\" data-toc-modified-id=\"Evaluation-6\"><span class=\"toc-item-num\">6&nbsp;&nbsp;</span>Evaluation</a></span><ul class=\"toc-item\"><li><span><a href=\"#Searching\" data-toc-modified-id=\"Searching-6.1\"><span class=\"toc-item-num\">6.1&nbsp;&nbsp;</span>Searching</a></span></li></ul></li><li><span><a href=\"#Result\" data-toc-modified-id=\"Result-7\"><span class=\"toc-item-num\">7&nbsp;&nbsp;</span>Result</a></span></li></ul></div>"
   ]
  },
  {
   "cell_type": "markdown",
   "metadata": {},
   "source": [
    "# Setup "
   ]
  },
  {
   "cell_type": "code",
   "execution_count": 1,
   "metadata": {},
   "outputs": [],
   "source": [
    "import os\n",
    "import sys\n",
    "import time\n",
    "import numpy as np\n",
    "import matplotlib.pyplot as plt\n",
    "\n",
    "module_path = os.path.abspath(os.path.join('../..'))\n",
    "if module_path not in sys.path:\n",
    "    sys.path.append(module_path)\n",
    "    \n",
    "from preprocessing_datasets.preprocessing_utilities import get_labels_by\n",
    "\n",
    "params = {}"
   ]
  },
  {
   "cell_type": "markdown",
   "metadata": {},
   "source": [
    "# Import dataset"
   ]
  },
  {
   "cell_type": "code",
   "execution_count": 2,
   "metadata": {},
   "outputs": [],
   "source": [
    "from preprocessing_datasets.preprocessing_census import clean_census\n",
    "table, pairs = clean_census()"
   ]
  },
  {
   "cell_type": "code",
   "execution_count": 3,
   "metadata": {
    "scrolled": true
   },
   "outputs": [
    {
     "data": {
      "text/html": [
       "<div>\n",
       "<style scoped>\n",
       "    .dataframe tbody tr th:only-of-type {\n",
       "        vertical-align: middle;\n",
       "    }\n",
       "\n",
       "    .dataframe tbody tr th {\n",
       "        vertical-align: top;\n",
       "    }\n",
       "\n",
       "    .dataframe thead th {\n",
       "        text-align: right;\n",
       "    }\n",
       "</style>\n",
       "<table border=\"1\" class=\"dataframe\">\n",
       "  <thead>\n",
       "    <tr style=\"text-align: right;\">\n",
       "      <th></th>\n",
       "      <th>last_name</th>\n",
       "      <th>first_name</th>\n",
       "      <th>middle_name</th>\n",
       "      <th>zip_code</th>\n",
       "      <th>street_address</th>\n",
       "    </tr>\n",
       "  </thead>\n",
       "  <tbody>\n",
       "    <tr>\n",
       "      <th>0</th>\n",
       "      <td>anderson</td>\n",
       "      <td>unk</td>\n",
       "      <td>unk</td>\n",
       "      <td>4848</td>\n",
       "      <td>basswood</td>\n",
       "    </tr>\n",
       "    <tr>\n",
       "      <th>1</th>\n",
       "      <td>anderson</td>\n",
       "      <td>unk</td>\n",
       "      <td>unk</td>\n",
       "      <td>4848</td>\n",
       "      <td>basswood</td>\n",
       "    </tr>\n",
       "    <tr>\n",
       "      <th>2</th>\n",
       "      <td>anderson</td>\n",
       "      <td>unk</td>\n",
       "      <td>unk</td>\n",
       "      <td>4848</td>\n",
       "      <td>basswood</td>\n",
       "    </tr>\n",
       "    <tr>\n",
       "      <th>3</th>\n",
       "      <td>anderson</td>\n",
       "      <td>unk</td>\n",
       "      <td>unk</td>\n",
       "      <td>4848</td>\n",
       "      <td>basswood</td>\n",
       "    </tr>\n",
       "    <tr>\n",
       "      <th>4</th>\n",
       "      <td>aquendo</td>\n",
       "      <td>clara</td>\n",
       "      <td>j</td>\n",
       "      <td>666</td>\n",
       "      <td>starkey</td>\n",
       "    </tr>\n",
       "    <tr>\n",
       "      <th>...</th>\n",
       "      <td>...</td>\n",
       "      <td>...</td>\n",
       "      <td>...</td>\n",
       "      <td>...</td>\n",
       "      <td>...</td>\n",
       "    </tr>\n",
       "    <tr>\n",
       "      <th>836</th>\n",
       "      <td>william</td>\n",
       "      <td>sherry</td>\n",
       "      <td>v</td>\n",
       "      <td>510</td>\n",
       "      <td>woodhaven</td>\n",
       "    </tr>\n",
       "    <tr>\n",
       "      <th>837</th>\n",
       "      <td>wright</td>\n",
       "      <td>bryan</td>\n",
       "      <td>unk</td>\n",
       "      <td>307</td>\n",
       "      <td>woodhaven</td>\n",
       "    </tr>\n",
       "    <tr>\n",
       "      <th>838</th>\n",
       "      <td>wright</td>\n",
       "      <td>maxine</td>\n",
       "      <td>h</td>\n",
       "      <td>307</td>\n",
       "      <td>woodhaven</td>\n",
       "    </tr>\n",
       "    <tr>\n",
       "      <th>839</th>\n",
       "      <td>yates</td>\n",
       "      <td>chanse</td>\n",
       "      <td>e</td>\n",
       "      <td>403</td>\n",
       "      <td>woodhaven</td>\n",
       "    </tr>\n",
       "    <tr>\n",
       "      <th>840</th>\n",
       "      <td>yates</td>\n",
       "      <td>alfredica</td>\n",
       "      <td>s</td>\n",
       "      <td>403</td>\n",
       "      <td>woodhaven</td>\n",
       "    </tr>\n",
       "  </tbody>\n",
       "</table>\n",
       "<p>841 rows × 5 columns</p>\n",
       "</div>"
      ],
      "text/plain": [
       "    last_name first_name middle_name zip_code street_address\n",
       "0    anderson        unk         unk     4848       basswood\n",
       "1    anderson        unk         unk     4848       basswood\n",
       "2    anderson        unk         unk     4848       basswood\n",
       "3    anderson        unk         unk     4848       basswood\n",
       "4     aquendo      clara           j      666        starkey\n",
       "..        ...        ...         ...      ...            ...\n",
       "836   william     sherry           v      510      woodhaven\n",
       "837    wright      bryan         unk      307      woodhaven\n",
       "838    wright     maxine           h      307      woodhaven\n",
       "839     yates     chanse           e      403      woodhaven\n",
       "840     yates  alfredica           s      403      woodhaven\n",
       "\n",
       "[841 rows x 5 columns]"
      ]
     },
     "execution_count": 3,
     "metadata": {},
     "output_type": "execute_result"
    }
   ],
   "source": [
    "table"
   ]
  },
  {
   "cell_type": "markdown",
   "metadata": {},
   "source": [
    "# Sentence embedding"
   ]
  },
  {
   "cell_type": "markdown",
   "metadata": {},
   "source": [
    "## Infersent"
   ]
  },
  {
   "cell_type": "markdown",
   "metadata": {},
   "source": [
    "Setup model"
   ]
  },
  {
   "cell_type": "code",
   "execution_count": 4,
   "metadata": {},
   "outputs": [
    {
     "name": "stdout",
     "output_type": "stream",
     "text": [
      "Vocab size : 2196017\n",
      "TIME: 186.05267095565796\n"
     ]
    }
   ],
   "source": [
    "from embedding_algorithms.inferSent import set_RNN_embedding\n",
    "start = time.time()\n",
    "model_type = \"bilstm\" \n",
    "char_level = False\n",
    "model_version = 2\n",
    "rnn_dim = 2048\n",
    "verbose = 1\n",
    "set_RNN_embedding(model_type, char_level, model_version, rnn_dim, verbose)\n",
    "print(\"TIME: {0}\".format(time.time() - start))\n",
    "\n",
    "params['embedding'] = {\n",
    "    'name': 'Infersent',\n",
    "    'model_type': model_type,\n",
    "    'char_level': char_level,\n",
    "    'model_version': model_version,\n",
    "    'rnn_dim': rnn_dim,\n",
    "    'verbose': verbose\n",
    "}"
   ]
  },
  {
   "cell_type": "markdown",
   "metadata": {},
   "source": [
    "Embedding"
   ]
  },
  {
   "cell_type": "code",
   "execution_count": 5,
   "metadata": {},
   "outputs": [
    {
     "name": "stdout",
     "output_type": "stream",
     "text": [
      "attrs: ['last_name', 'first_name', 'zip_code', 'street_address']\n"
     ]
    }
   ],
   "source": [
    "from embedding_algorithms.inferSent import RNN_embedding\n",
    "attr_list = ['last_name', 'first_name', 'zip_code', 'street_address']\n",
    "params['attr_list'] = attr_list\n",
    "embeddings_tokens = RNN_embedding(table, attr_list, model_type, char_level)\n",
    "embeddings_tokens = np.array(embeddings_tokens)"
   ]
  },
  {
   "cell_type": "markdown",
   "metadata": {},
   "source": [
    "# Dimensionality reduction"
   ]
  },
  {
   "cell_type": "markdown",
   "metadata": {},
   "source": [
    "## PCA"
   ]
  },
  {
   "cell_type": "code",
   "execution_count": 6,
   "metadata": {},
   "outputs": [
    {
     "name": "stdout",
     "output_type": "stream",
     "text": [
      "starting dimension: 4096\n",
      "setting PCA with n_components: 2\n",
      "PCA: 0.16042208671569824\n"
     ]
    }
   ],
   "source": [
    "from dimensionality_reduction_algorithms.pca import pca_dim_reduction\n",
    "\n",
    "start = time.time()\n",
    "pca_embeddings = pca_dim_reduction(\n",
    "            embeddings_tokens, \n",
    "            num_components=2,\n",
    "            verbose=1)\n",
    "\n",
    "print(\"PCA: {0}\".format(time.time() - start))\n",
    "\n",
    "params['reduction'] = {\n",
    "    'name': 'PCA',\n",
    "    'num_components': 2,\n",
    "    'verbose': 1,\n",
    "}"
   ]
  },
  {
   "cell_type": "markdown",
   "metadata": {},
   "source": [
    "# Blocking"
   ]
  },
  {
   "cell_type": "code",
   "execution_count": 11,
   "metadata": {},
   "outputs": [
    {
     "name": "stdout",
     "output_type": "stream",
     "text": [
      "clustering with NUM_CLUSTERS = 3, \n",
      "BLOCKS: 0.024881839752197266\n"
     ]
    }
   ],
   "source": [
    "from cluster_algorithms.hierarchy_cluster import hierarchy_cluster\n",
    "num_clusters = 3\n",
    "start = time.time()\n",
    "\n",
    "blocks = hierarchy_cluster(pca_embeddings, {'num_clusters': num_clusters})\n",
    "print(\"BLOCKS: {0}\".format(time.time() - start))\n",
    "\n",
    "params['blocking'] = {\n",
    "    'name': 'hierarchy',\n",
    "    'num_clusters': num_clusters\n",
    "}"
   ]
  },
  {
   "cell_type": "markdown",
   "metadata": {},
   "source": [
    "# Evaluation"
   ]
  },
  {
   "cell_type": "code",
   "execution_count": 12,
   "metadata": {},
   "outputs": [
    {
     "name": "stdout",
     "output_type": "stream",
     "text": [
      "(RR) Reduction ratio is: 0.5646282769945077\n",
      "(PC) Pair completeness is: 0.8197674418604651\n",
      "(RM) Reference metric (Harmonic mean RR and PC) is: 0.6686872430040482\n",
      "(PQ) Pair quality - Precision is: 0.0018337646798715064\n",
      "(FM) Fmeasure is: 0.0036593436538935676\n",
      "\n",
      "['last_name', 'first_name', 'zip_code', 'street_address']\n",
      "{'name': 'Infersent', 'model_type': 'bilstm', 'char_level': False, 'model_version': 2, 'rnn_dim': 2048, 'verbose': 1}\n",
      "{'name': 'PCA', 'num_components': 2, 'verbose': 1}\n",
      "{'name': 'hierarchy', 'num_clusters': 3}\n"
     ]
    }
   ],
   "source": [
    "from evaluation import calc_index\n",
    "calc_index(blocks,table,pairs)\n",
    "print()\n",
    "print(params['attr_list'])\n",
    "print(params['embedding'])\n",
    "print(params['reduction'])\n",
    "print(params['blocking'])"
   ]
  },
  {
   "cell_type": "markdown",
   "metadata": {
    "heading_collapsed": true
   },
   "source": [
    "## Searching"
   ]
  },
  {
   "cell_type": "code",
   "execution_count": 10,
   "metadata": {
    "hidden": true
   },
   "outputs": [
    {
     "name": "stdout",
     "output_type": "stream",
     "text": [
      "clustering with NUM_CLUSTERS = 1, \n",
      "(RR) Reduction ratio is: 0.0\n",
      "(PC) Pair completeness is: 1.0\n",
      "(RM) Reference metric (Harmonic mean RR and PC) is: 0\n",
      "(PQ) Pair quality - Precision is: 0.0009738972878092973\n",
      "(FM) Fmeasure is: 0.0019458994694029935\n",
      "clustering with NUM_CLUSTERS = 2, \n",
      "(RR) Reduction ratio is: 0.4827019987543174\n",
      "(PC) Pair completeness is: 0.8197674418604651\n",
      "(RM) Reference metric (Harmonic mean RR and PC) is: 0.6076202179653183\n",
      "(PQ) Pair quality - Precision is: 0.0015433450087565675\n",
      "(FM) Fmeasure is: 0.003080889743477691\n",
      "clustering with NUM_CLUSTERS = 3, \n",
      "(RR) Reduction ratio is: 0.5646282769945077\n",
      "(PC) Pair completeness is: 0.8197674418604651\n",
      "(RM) Reference metric (Harmonic mean RR and PC) is: 0.6686872430040482\n",
      "(PQ) Pair quality - Precision is: 0.0018337646798715064\n",
      "(FM) Fmeasure is: 0.0036593436538935676\n",
      "clustering with NUM_CLUSTERS = 4, \n",
      "(RR) Reduction ratio is: 0.6558575392106902\n",
      "(PC) Pair completeness is: 0.7151162790697675\n",
      "(RM) Reference metric (Harmonic mean RR and PC) is: 0.6842062142783495\n",
      "(PQ) Pair quality - Precision is: 0.0020237252998568586\n",
      "(FM) Fmeasure is: 0.0040360289412807015\n",
      "clustering with NUM_CLUSTERS = 5, \n",
      "(RR) Reduction ratio is: 0.7729064039408867\n",
      "(PC) Pair completeness is: 0.627906976744186\n",
      "(RM) Reference metric (Harmonic mean RR and PC) is: 0.6929021811133738\n",
      "(PQ) Pair quality - Precision is: 0.0026927967686438776\n",
      "(FM) Fmeasure is: 0.005362595893641848\n",
      "clustering with NUM_CLUSTERS = 6, \n",
      "(RR) Reduction ratio is: 0.8209642715588019\n",
      "(PC) Pair completeness is: 0.5726744186046512\n",
      "(RM) Reference metric (Harmonic mean RR and PC) is: 0.6747017576772166\n",
      "(PQ) Pair quality - Precision is: 0.003115166273976502\n",
      "(FM) Fmeasure is: 0.006196624884009878\n",
      "clustering with NUM_CLUSTERS = 7, \n",
      "(RR) Reduction ratio is: 0.8422654436328634\n",
      "(PC) Pair completeness is: 0.5494186046511628\n",
      "(RM) Reference metric (Harmonic mean RR and PC) is: 0.6650306948006596\n",
      "(PQ) Pair quality - Precision is: 0.003392264201741003\n",
      "(FM) Fmeasure is: 0.006742895877557573\n",
      "clustering with NUM_CLUSTERS = 8, \n",
      "(RR) Reduction ratio is: 0.8583347488817168\n",
      "(PC) Pair completeness is: 0.5\n",
      "(RM) Reference metric (Harmonic mean RR and PC) is: 0.6319022240934073\n",
      "(PQ) Pair quality - Precision is: 0.0034373188912648137\n",
      "(FM) Fmeasure is: 0.006827699819383522\n",
      "clustering with NUM_CLUSTERS = 9, \n",
      "(RR) Reduction ratio is: 0.8734188324556933\n",
      "(PC) Pair completeness is: 0.46511627906976744\n",
      "(RM) Reference metric (Harmonic mean RR and PC) is: 0.6069938904453243\n",
      "(PQ) Pair quality - Precision is: 0.003578537720024155\n",
      "(FM) Fmeasure is: 0.007102430362889801\n",
      "clustering with NUM_CLUSTERS = 10, \n",
      "(RR) Reduction ratio is: 0.8762584225128816\n",
      "(PC) Pair completeness is: 0.4563953488372093\n",
      "(RM) Reference metric (Harmonic mean RR and PC) is: 0.6001863004659587\n",
      "(PQ) Pair quality - Precision is: 0.003592019767548275\n",
      "(FM) Fmeasure is: 0.007127939707618269\n",
      "clustering with NUM_CLUSTERS = 11, \n",
      "(RR) Reduction ratio is: 0.8982050846497933\n",
      "(PC) Pair completeness is: 0.40406976744186046\n",
      "(RM) Reference metric (Harmonic mean RR and PC) is: 0.5573900457136296\n",
      "(PQ) Pair quality - Precision is: 0.0038658360218044277\n",
      "(FM) Fmeasure is: 0.007658402203856751\n",
      "clustering with NUM_CLUSTERS = 12, \n",
      "(RR) Reduction ratio is: 0.9002944340637563\n",
      "(PC) Pair completeness is: 0.4011627906976744\n",
      "(RM) Reference metric (Harmonic mean RR and PC) is: 0.5550157481123589\n",
      "(PQ) Pair quality - Precision is: 0.00391845079220853\n",
      "(FM) Fmeasure is: 0.007761093301839042\n",
      "clustering with NUM_CLUSTERS = 13, \n",
      "(RR) Reduction ratio is: 0.9075788460449579\n",
      "(PC) Pair completeness is: 0.37790697674418605\n",
      "(RM) Reference metric (Harmonic mean RR and PC) is: 0.5336198529543574\n",
      "(PQ) Pair quality - Precision is: 0.003982233113799969\n",
      "(FM) Fmeasure is: 0.00788141501712692\n",
      "clustering with NUM_CLUSTERS = 14, \n",
      "(RR) Reduction ratio is: 0.9139827869316574\n",
      "(PC) Pair completeness is: 0.3633720930232558\n",
      "(RM) Reference metric (Harmonic mean RR and PC) is: 0.520005588871759\n",
      "(PQ) Pair quality - Precision is: 0.00411414277721094\n",
      "(FM) Fmeasure is: 0.008136166889055227\n"
     ]
    }
   ],
   "source": [
    "for i in range(1,15,1):\n",
    "    num_clusters = int(i)\n",
    "    blocks = hierarchy_cluster(pca_embeddings, {'num_clusters': num_clusters})\n",
    "    calc_index(blocks,table,pairs)"
   ]
  },
  {
   "cell_type": "markdown",
   "metadata": {},
   "source": [
    "# Result"
   ]
  },
  {
   "cell_type": "code",
   "execution_count": 13,
   "metadata": {},
   "outputs": [],
   "source": [
    "# Census\n",
    "# RR PC alpha\n",
    "\n",
    "list_hierarchy_tsne = [0.9006, 0.9622, 0.9304] \n",
    "list_hierarchy_pca = [0.5646, 0.8197, 0.6686] # PCA: 0.16, BLOCKS: 0.024, n_cluster: 3\n"
   ]
  },
  {
   "cell_type": "code",
   "execution_count": null,
   "metadata": {},
   "outputs": [],
   "source": []
  }
 ],
 "metadata": {
  "kernelspec": {
   "display_name": "Python 3.7.7 64-bit ('thesisEnv': conda)",
   "language": "python",
   "name": "python37764bitthesisenvcondad61bb62be9734ae9b8ba15c07cc7706a"
  },
  "language_info": {
   "codemirror_mode": {
    "name": "ipython",
    "version": 3
   },
   "file_extension": ".py",
   "mimetype": "text/x-python",
   "name": "python",
   "nbconvert_exporter": "python",
   "pygments_lexer": "ipython3",
   "version": "3.7.7"
  },
  "toc": {
   "base_numbering": 1,
   "nav_menu": {},
   "number_sections": true,
   "sideBar": true,
   "skip_h1_title": false,
   "title_cell": "Table of Contents",
   "title_sidebar": "Contents",
   "toc_cell": true,
   "toc_position": {},
   "toc_section_display": true,
   "toc_window_display": false
  },
  "varInspector": {
   "cols": {
    "lenName": 16,
    "lenType": 16,
    "lenVar": 40
   },
   "kernels_config": {
    "python": {
     "delete_cmd_postfix": "",
     "delete_cmd_prefix": "del ",
     "library": "var_list.py",
     "varRefreshCmd": "print(var_dic_list())"
    },
    "r": {
     "delete_cmd_postfix": ") ",
     "delete_cmd_prefix": "rm(",
     "library": "var_list.r",
     "varRefreshCmd": "cat(var_dic_list()) "
    }
   },
   "types_to_exclude": [
    "module",
    "function",
    "builtin_function_or_method",
    "instance",
    "_Feature"
   ],
   "window_display": false
  }
 },
 "nbformat": 4,
 "nbformat_minor": 4
}
