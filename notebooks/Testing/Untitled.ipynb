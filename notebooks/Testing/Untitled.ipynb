{
 "cells": [
  {
   "cell_type": "code",
   "execution_count": 41,
   "metadata": {},
   "outputs": [],
   "source": [
    "import os\n",
    "import sys\n",
    "import time\n",
    "import numpy as np\n",
    "\n",
    "module_path = os.path.abspath(os.path.join('..'))\n",
    "if module_path not in sys.path:\n",
    "    sys.path.append(module_path)"
   ]
  },
  {
   "cell_type": "markdown",
   "metadata": {},
   "source": [
    "# IMPORT DATASET"
   ]
  },
  {
   "cell_type": "code",
   "execution_count": 42,
   "metadata": {},
   "outputs": [],
   "source": [
    "import pandas as pd\n",
    "\n",
    "# Set ipython's max row display\n",
    "pd.set_option('display.max_row', 1000)\n",
    "\n",
    "# Set iPython's max column width to 50\n",
    "pd.set_option('display.max_columns', 50)"
   ]
  },
  {
   "cell_type": "code",
   "execution_count": 44,
   "metadata": {},
   "outputs": [
    {
     "data": {
      "text/html": [
       "<div>\n",
       "<style scoped>\n",
       "    .dataframe tbody tr th:only-of-type {\n",
       "        vertical-align: middle;\n",
       "    }\n",
       "\n",
       "    .dataframe tbody tr th {\n",
       "        vertical-align: top;\n",
       "    }\n",
       "\n",
       "    .dataframe thead th {\n",
       "        text-align: right;\n",
       "    }\n",
       "</style>\n",
       "<table border=\"1\" class=\"dataframe\">\n",
       "  <thead>\n",
       "    <tr style=\"text-align: right;\">\n",
       "      <th></th>\n",
       "      <th>Source</th>\n",
       "      <th>ISBN</th>\n",
       "      <th>Title</th>\n",
       "      <th>Author list</th>\n",
       "    </tr>\n",
       "  </thead>\n",
       "  <tbody>\n",
       "    <tr>\n",
       "      <th>0</th>\n",
       "      <td>eCampus.com</td>\n",
       "      <td>0201853949</td>\n",
       "      <td>The art Of Computer Programming, Fascicle 3: G...</td>\n",
       "      <td>Not Available</td>\n",
       "    </tr>\n",
       "    <tr>\n",
       "      <th>1</th>\n",
       "      <td>Indoo.com</td>\n",
       "      <td>0201853949</td>\n",
       "      <td>Art of Computer Programming, Volume 4, Fascicl...</td>\n",
       "      <td>Knuth, Donald E.</td>\n",
       "    </tr>\n",
       "    <tr>\n",
       "      <th>2</th>\n",
       "      <td>textbookxdotcom</td>\n",
       "      <td>0201853949</td>\n",
       "      <td>The 'art Of Computer Programming, Fascicle 3 G...</td>\n",
       "      <td>NaN</td>\n",
       "    </tr>\n",
       "    <tr>\n",
       "      <th>3</th>\n",
       "      <td>A1Books</td>\n",
       "      <td>0201853949</td>\n",
       "      <td>The Art of Computer Programming, Volume 4, Fas...</td>\n",
       "      <td>Knuth, Donald E.</td>\n",
       "    </tr>\n",
       "    <tr>\n",
       "      <th>4</th>\n",
       "      <td>textbooksNow</td>\n",
       "      <td>0201853949</td>\n",
       "      <td>Art of Computer Programming</td>\n",
       "      <td>Knuth</td>\n",
       "    </tr>\n",
       "    <tr>\n",
       "      <th>...</th>\n",
       "      <td>...</td>\n",
       "      <td>...</td>\n",
       "      <td>...</td>\n",
       "      <td>...</td>\n",
       "    </tr>\n",
       "    <tr>\n",
       "      <th>33966</th>\n",
       "      <td>www.textbooksrus.com</td>\n",
       "      <td>0138569231</td>\n",
       "      <td>Multimedia Communications: Protocols and Appli...</td>\n",
       "      <td>Franklin F. Kuo|Wolfgang Effelsberg|J. J. Garc...</td>\n",
       "    </tr>\n",
       "    <tr>\n",
       "      <th>33967</th>\n",
       "      <td>OPOE-ABE Books</td>\n",
       "      <td>0138569231</td>\n",
       "      <td>MULTIMEDIA COMMUNICATIONS</td>\n",
       "      <td>KUO</td>\n",
       "    </tr>\n",
       "    <tr>\n",
       "      <th>33968</th>\n",
       "      <td>textbookxdotcom</td>\n",
       "      <td>0138569231</td>\n",
       "      <td>Multimedia Communications Protocols and Applic...</td>\n",
       "      <td>Wolfgang Effelsberg</td>\n",
       "    </tr>\n",
       "    <tr>\n",
       "      <th>33969</th>\n",
       "      <td>paperbackworld.de</td>\n",
       "      <td>0138569231</td>\n",
       "      <td>Multimedia Communications: Protocols and Appli...</td>\n",
       "      <td>Frank Kuo, J. J. Luna</td>\n",
       "    </tr>\n",
       "    <tr>\n",
       "      <th>33970</th>\n",
       "      <td>Revaluation Books</td>\n",
       "      <td>0138569231</td>\n",
       "      <td>Multimedia Communications: Protocols and Appli...</td>\n",
       "      <td>Franklin F. Kuo J. Joaquin Garcia Luna-Aceves ...</td>\n",
       "    </tr>\n",
       "  </tbody>\n",
       "</table>\n",
       "<p>33971 rows × 4 columns</p>\n",
       "</div>"
      ],
      "text/plain": [
       "                     Source        ISBN  \\\n",
       "0               eCampus.com  0201853949   \n",
       "1                 Indoo.com  0201853949   \n",
       "2           textbookxdotcom  0201853949   \n",
       "3                   A1Books  0201853949   \n",
       "4              textbooksNow  0201853949   \n",
       "...                     ...         ...   \n",
       "33966  www.textbooksrus.com  0138569231   \n",
       "33967        OPOE-ABE Books  0138569231   \n",
       "33968       textbookxdotcom  0138569231   \n",
       "33969     paperbackworld.de  0138569231   \n",
       "33970     Revaluation Books  0138569231   \n",
       "\n",
       "                                                   Title  \\\n",
       "0      The art Of Computer Programming, Fascicle 3: G...   \n",
       "1      Art of Computer Programming, Volume 4, Fascicl...   \n",
       "2      The 'art Of Computer Programming, Fascicle 3 G...   \n",
       "3      The Art of Computer Programming, Volume 4, Fas...   \n",
       "4                            Art of Computer Programming   \n",
       "...                                                  ...   \n",
       "33966  Multimedia Communications: Protocols and Appli...   \n",
       "33967                          MULTIMEDIA COMMUNICATIONS   \n",
       "33968  Multimedia Communications Protocols and Applic...   \n",
       "33969  Multimedia Communications: Protocols and Appli...   \n",
       "33970  Multimedia Communications: Protocols and Appli...   \n",
       "\n",
       "                                             Author list  \n",
       "0                                          Not Available  \n",
       "1                                       Knuth, Donald E.  \n",
       "2                                                    NaN  \n",
       "3                                       Knuth, Donald E.  \n",
       "4                                                  Knuth  \n",
       "...                                                  ...  \n",
       "33966  Franklin F. Kuo|Wolfgang Effelsberg|J. J. Garc...  \n",
       "33967                                                KUO  \n",
       "33968                                Wolfgang Effelsberg  \n",
       "33969                              Frank Kuo, J. J. Luna  \n",
       "33970  Franklin F. Kuo J. Joaquin Garcia Luna-Aceves ...  \n",
       "\n",
       "[33971 rows x 4 columns]"
      ]
     },
     "execution_count": 44,
     "metadata": {},
     "output_type": "execute_result"
    }
   ],
   "source": [
    "\n",
    "\n",
    "data = pd.read_csv('../../source_datasets_fusion/Book/book.txt', sep=\"\\t\", names=[\"Source\", \"ISBN\", \"Title\", \"Author list\"])\n",
    "data"
   ]
  },
  {
   "cell_type": "code",
   "execution_count": 31,
   "metadata": {},
   "outputs": [
    {
     "data": {
      "text/plain": [
       "1265"
      ]
     },
     "execution_count": 31,
     "metadata": {},
     "output_type": "execute_result"
    }
   ],
   "source": [
    "uniqueISBN = data.ISBN.unique()\n",
    "len(uniqueISBN)"
   ]
  },
  {
   "cell_type": "code",
   "execution_count": 68,
   "metadata": {},
   "outputs": [
    {
     "name": "stdout",
     "output_type": "stream",
     "text": [
      "34\n"
     ]
    },
    {
     "data": {
      "text/html": [
       "<div>\n",
       "<style scoped>\n",
       "    .dataframe tbody tr th:only-of-type {\n",
       "        vertical-align: middle;\n",
       "    }\n",
       "\n",
       "    .dataframe tbody tr th {\n",
       "        vertical-align: top;\n",
       "    }\n",
       "\n",
       "    .dataframe thead th {\n",
       "        text-align: right;\n",
       "    }\n",
       "</style>\n",
       "<table border=\"1\" class=\"dataframe\">\n",
       "  <thead>\n",
       "    <tr style=\"text-align: right;\">\n",
       "      <th></th>\n",
       "      <th>Source</th>\n",
       "      <th>ISBN</th>\n",
       "      <th>Title</th>\n",
       "      <th>Author list</th>\n",
       "    </tr>\n",
       "  </thead>\n",
       "  <tbody>\n",
       "    <tr>\n",
       "      <th>17187</th>\n",
       "      <td>International Books</td>\n",
       "      <td>0201615924</td>\n",
       "      <td>Advanced Use Case Modeling : Software Systems ...</td>\n",
       "      <td>Frank Armour , Granville Miller</td>\n",
       "    </tr>\n",
       "    <tr>\n",
       "      <th>17188</th>\n",
       "      <td>A1Books</td>\n",
       "      <td>0201615924</td>\n",
       "      <td>Advanced Use Case Modeling: Software Systems</td>\n",
       "      <td>Armour, Frank, Miller, Granville</td>\n",
       "    </tr>\n",
       "    <tr>\n",
       "      <th>17189</th>\n",
       "      <td>BEST BARGAIN BOOKS</td>\n",
       "      <td>0201615924</td>\n",
       "      <td>Advanced Use Case Modeling: Software Systems</td>\n",
       "      <td>Frank Armour; Granville Miller</td>\n",
       "    </tr>\n",
       "    <tr>\n",
       "      <th>17190</th>\n",
       "      <td>Bookmantra.com</td>\n",
       "      <td>0201615924</td>\n",
       "      <td>Advanced Use Case Modeling - Software Systems</td>\n",
       "      <td>Miller, Granville,</td>\n",
       "    </tr>\n",
       "    <tr>\n",
       "      <th>17191</th>\n",
       "      <td>Indoo.com</td>\n",
       "      <td>0201615924</td>\n",
       "      <td>Advanced Use Case Modeling: Software Systems</td>\n",
       "      <td>Armour, FrankMiller, Granville</td>\n",
       "    </tr>\n",
       "    <tr>\n",
       "      <th>17192</th>\n",
       "      <td>Browns Books</td>\n",
       "      <td>0201615924</td>\n",
       "      <td>Advanced Use Case Modelling</td>\n",
       "      <td>Armour, Frank</td>\n",
       "    </tr>\n",
       "    <tr>\n",
       "      <th>17193</th>\n",
       "      <td>A1Books</td>\n",
       "      <td>0201615924</td>\n",
       "      <td>Advanced Use Case Modeling: Software Systems</td>\n",
       "      <td>Armour, Frank, Miller, Granville</td>\n",
       "    </tr>\n",
       "    <tr>\n",
       "      <th>17194</th>\n",
       "      <td>textbookxdotcom</td>\n",
       "      <td>0201615924</td>\n",
       "      <td>Advanced Use Case Modeling Software Systems</td>\n",
       "      <td>Frank Armour</td>\n",
       "    </tr>\n",
       "    <tr>\n",
       "      <th>17195</th>\n",
       "      <td>Caiman</td>\n",
       "      <td>0201615924</td>\n",
       "      <td>ADVD USE CASE MODELING</td>\n",
       "      <td>Armour, Frank</td>\n",
       "    </tr>\n",
       "    <tr>\n",
       "      <th>17196</th>\n",
       "      <td>Powell's  Books</td>\n",
       "      <td>0201615924</td>\n",
       "      <td>Advanced Use Case Modeling Software Sy</td>\n",
       "      <td>Armour, Frank</td>\n",
       "    </tr>\n",
       "    <tr>\n",
       "      <th>17197</th>\n",
       "      <td>SWOOP</td>\n",
       "      <td>0201615924</td>\n",
       "      <td>ADVANCED USE CASE MODELLING</td>\n",
       "      <td>ARMOUR, FRANK</td>\n",
       "    </tr>\n",
       "    <tr>\n",
       "      <th>17198</th>\n",
       "      <td>The E</td>\n",
       "      <td>0201615924</td>\n",
       "      <td>Advanced Use Case Modeling: Software Systems</td>\n",
       "      <td>Armour, Frank; Miller, Granville</td>\n",
       "    </tr>\n",
       "    <tr>\n",
       "      <th>17199</th>\n",
       "      <td>happybook</td>\n",
       "      <td>0201615924</td>\n",
       "      <td>Advanced Use Case Modeling: Software Systems</td>\n",
       "      <td>Armour, Frank; Miller, Granville</td>\n",
       "    </tr>\n",
       "    <tr>\n",
       "      <th>17200</th>\n",
       "      <td>TheBookCom</td>\n",
       "      <td>0201615924</td>\n",
       "      <td>Advanced Use Case Modelling Software Systems -...</td>\n",
       "      <td>Armour, Frank</td>\n",
       "    </tr>\n",
       "    <tr>\n",
       "      <th>17201</th>\n",
       "      <td>TheBookCom</td>\n",
       "      <td>0201615924</td>\n",
       "      <td>Advanced Use Case Modelling Software Systems -...</td>\n",
       "      <td>Armour, Frank</td>\n",
       "    </tr>\n",
       "    <tr>\n",
       "      <th>17202</th>\n",
       "      <td>Quartermelon</td>\n",
       "      <td>0201615924</td>\n",
       "      <td>ADVANCED USE CASE MODELLING SOFTWARE SYSTEMS</td>\n",
       "      <td>ARMOUR, FRANK MILLER, GRANVILLE</td>\n",
       "    </tr>\n",
       "    <tr>\n",
       "      <th>17203</th>\n",
       "      <td>Mellon's Books</td>\n",
       "      <td>0201615924</td>\n",
       "      <td>ADVANCED USE CASE MODELLING</td>\n",
       "      <td>ARMOUR, FRANK</td>\n",
       "    </tr>\n",
       "    <tr>\n",
       "      <th>17204</th>\n",
       "      <td>A1Books</td>\n",
       "      <td>0201615924</td>\n",
       "      <td>Advanced Use Case Modeling: Software Systems</td>\n",
       "      <td>Armour, Frank, Miller, Granville</td>\n",
       "    </tr>\n",
       "    <tr>\n",
       "      <th>17205</th>\n",
       "      <td>Books2Anywhere.com</td>\n",
       "      <td>0201615924</td>\n",
       "      <td>Advanced Use Case Modeling</td>\n",
       "      <td>Armour, Frank/ Miller, Granville</td>\n",
       "    </tr>\n",
       "    <tr>\n",
       "      <th>17206</th>\n",
       "      <td>Striped Ostrich</td>\n",
       "      <td>0201615924</td>\n",
       "      <td>Advanced Use Case Modeling : Software Systems</td>\n",
       "      <td>Armour, Frank/ Miller, Granville</td>\n",
       "    </tr>\n",
       "    <tr>\n",
       "      <th>17207</th>\n",
       "      <td>THESAINTBOOKSTORE</td>\n",
       "      <td>0201615924</td>\n",
       "      <td>Advanced Use Case Modeling: Software Systems</td>\n",
       "      <td>Armour, Frank; Miller, Granville</td>\n",
       "    </tr>\n",
       "    <tr>\n",
       "      <th>17208</th>\n",
       "      <td>Blackwell Online</td>\n",
       "      <td>0201615924</td>\n",
       "      <td>Advanced Use Case Modelling</td>\n",
       "      <td>Frank Armour, Granville Miller</td>\n",
       "    </tr>\n",
       "    <tr>\n",
       "      <th>17209</th>\n",
       "      <td>FREE U.S. AIR SHIPPING @ thebookcompany</td>\n",
       "      <td>0201615924</td>\n",
       "      <td>Advanced Use Case Modelling Software Systems -...</td>\n",
       "      <td>Armour, Frank</td>\n",
       "    </tr>\n",
       "    <tr>\n",
       "      <th>17210</th>\n",
       "      <td>Papamedia.com</td>\n",
       "      <td>0201615924</td>\n",
       "      <td>Advanced Use Case Modeling: Software Systems</td>\n",
       "      <td>Frank Armour, Granville Miller</td>\n",
       "    </tr>\n",
       "    <tr>\n",
       "      <th>17211</th>\n",
       "      <td>The Book Depository</td>\n",
       "      <td>0201615924</td>\n",
       "      <td>Advanced Use Case Modelling: v. 1</td>\n",
       "      <td>Frank Armour</td>\n",
       "    </tr>\n",
       "    <tr>\n",
       "      <th>17212</th>\n",
       "      <td>FREE U.S. AIR SHIPPING @ thebookcompany</td>\n",
       "      <td>0201615924</td>\n",
       "      <td>Advanced Use Case Modelling Software Systems -...</td>\n",
       "      <td>Armour, Frank</td>\n",
       "    </tr>\n",
       "    <tr>\n",
       "      <th>17213</th>\n",
       "      <td>A1Books</td>\n",
       "      <td>0201615924</td>\n",
       "      <td>Advanced Use Case Modeling: Software Systems</td>\n",
       "      <td>Armour, Frank, Miller, Granville</td>\n",
       "    </tr>\n",
       "    <tr>\n",
       "      <th>17214</th>\n",
       "      <td>Stratford Books</td>\n",
       "      <td>0201615924</td>\n",
       "      <td>ADVANCED USE CASE MODELLING SOFTWARE SYSTEMS</td>\n",
       "      <td>ARMOUR, FRANK MILLER, GRANVILLE</td>\n",
       "    </tr>\n",
       "    <tr>\n",
       "      <th>17215</th>\n",
       "      <td>Revaluation Books</td>\n",
       "      <td>0201615924</td>\n",
       "      <td>Advanced Use Case Modeling:Software Systems</td>\n",
       "      <td>Armour, Frank/ Miller, Granville</td>\n",
       "    </tr>\n",
       "    <tr>\n",
       "      <th>17216</th>\n",
       "      <td>paperbackworld.de</td>\n",
       "      <td>0201615924</td>\n",
       "      <td>Advanced Use Case Modeling: Software Systems</td>\n",
       "      <td>Frank Armour, Granville Miller</td>\n",
       "    </tr>\n",
       "    <tr>\n",
       "      <th>17217</th>\n",
       "      <td>Bobs Books</td>\n",
       "      <td>0201615924</td>\n",
       "      <td>ADVANCED USE CASE MODELLING SOFTWARE SYSTEMS</td>\n",
       "      <td>ARMOUR, FRANK (ADJUNCT PROFESSOR, GEORGE MASON...</td>\n",
       "    </tr>\n",
       "    <tr>\n",
       "      <th>17218</th>\n",
       "      <td>Revaluation Books</td>\n",
       "      <td>0201615924</td>\n",
       "      <td>Advanced Use Case Modeling Software Systems</td>\n",
       "      <td>Armour, Frank/ Miller, Granville</td>\n",
       "    </tr>\n",
       "    <tr>\n",
       "      <th>17219</th>\n",
       "      <td>Bobs Books</td>\n",
       "      <td>0201615924</td>\n",
       "      <td>Advanced Use Case Modelling: v. 1</td>\n",
       "      <td>Frank Armour</td>\n",
       "    </tr>\n",
       "    <tr>\n",
       "      <th>17220</th>\n",
       "      <td>Limelight Bookshop</td>\n",
       "      <td>0201615924</td>\n",
       "      <td>Advanced Use Case Modeling: Software Systems, ...</td>\n",
       "      <td>Armour, Frank</td>\n",
       "    </tr>\n",
       "  </tbody>\n",
       "</table>\n",
       "</div>"
      ],
      "text/plain": [
       "                                        Source        ISBN  \\\n",
       "17187                      International Books  0201615924   \n",
       "17188                                  A1Books  0201615924   \n",
       "17189                       BEST BARGAIN BOOKS  0201615924   \n",
       "17190                           Bookmantra.com  0201615924   \n",
       "17191                                Indoo.com  0201615924   \n",
       "17192                             Browns Books  0201615924   \n",
       "17193                                  A1Books  0201615924   \n",
       "17194                          textbookxdotcom  0201615924   \n",
       "17195                                   Caiman  0201615924   \n",
       "17196                          Powell's  Books  0201615924   \n",
       "17197                                    SWOOP  0201615924   \n",
       "17198                                    The E  0201615924   \n",
       "17199                                happybook  0201615924   \n",
       "17200                               TheBookCom  0201615924   \n",
       "17201                               TheBookCom  0201615924   \n",
       "17202                             Quartermelon  0201615924   \n",
       "17203                           Mellon's Books  0201615924   \n",
       "17204                                  A1Books  0201615924   \n",
       "17205                       Books2Anywhere.com  0201615924   \n",
       "17206                          Striped Ostrich  0201615924   \n",
       "17207                        THESAINTBOOKSTORE  0201615924   \n",
       "17208                         Blackwell Online  0201615924   \n",
       "17209  FREE U.S. AIR SHIPPING @ thebookcompany  0201615924   \n",
       "17210                            Papamedia.com  0201615924   \n",
       "17211                      The Book Depository  0201615924   \n",
       "17212  FREE U.S. AIR SHIPPING @ thebookcompany  0201615924   \n",
       "17213                                  A1Books  0201615924   \n",
       "17214                          Stratford Books  0201615924   \n",
       "17215                        Revaluation Books  0201615924   \n",
       "17216                        paperbackworld.de  0201615924   \n",
       "17217                               Bobs Books  0201615924   \n",
       "17218                        Revaluation Books  0201615924   \n",
       "17219                               Bobs Books  0201615924   \n",
       "17220                       Limelight Bookshop  0201615924   \n",
       "\n",
       "                                                   Title  \\\n",
       "17187  Advanced Use Case Modeling : Software Systems ...   \n",
       "17188       Advanced Use Case Modeling: Software Systems   \n",
       "17189       Advanced Use Case Modeling: Software Systems   \n",
       "17190      Advanced Use Case Modeling - Software Systems   \n",
       "17191       Advanced Use Case Modeling: Software Systems   \n",
       "17192                        Advanced Use Case Modelling   \n",
       "17193       Advanced Use Case Modeling: Software Systems   \n",
       "17194        Advanced Use Case Modeling Software Systems   \n",
       "17195                             ADVD USE CASE MODELING   \n",
       "17196             Advanced Use Case Modeling Software Sy   \n",
       "17197                        ADVANCED USE CASE MODELLING   \n",
       "17198       Advanced Use Case Modeling: Software Systems   \n",
       "17199       Advanced Use Case Modeling: Software Systems   \n",
       "17200  Advanced Use Case Modelling Software Systems -...   \n",
       "17201  Advanced Use Case Modelling Software Systems -...   \n",
       "17202       ADVANCED USE CASE MODELLING SOFTWARE SYSTEMS   \n",
       "17203                        ADVANCED USE CASE MODELLING   \n",
       "17204       Advanced Use Case Modeling: Software Systems   \n",
       "17205                         Advanced Use Case Modeling   \n",
       "17206      Advanced Use Case Modeling : Software Systems   \n",
       "17207       Advanced Use Case Modeling: Software Systems   \n",
       "17208                        Advanced Use Case Modelling   \n",
       "17209  Advanced Use Case Modelling Software Systems -...   \n",
       "17210       Advanced Use Case Modeling: Software Systems   \n",
       "17211                  Advanced Use Case Modelling: v. 1   \n",
       "17212  Advanced Use Case Modelling Software Systems -...   \n",
       "17213       Advanced Use Case Modeling: Software Systems   \n",
       "17214       ADVANCED USE CASE MODELLING SOFTWARE SYSTEMS   \n",
       "17215        Advanced Use Case Modeling:Software Systems   \n",
       "17216       Advanced Use Case Modeling: Software Systems   \n",
       "17217       ADVANCED USE CASE MODELLING SOFTWARE SYSTEMS   \n",
       "17218        Advanced Use Case Modeling Software Systems   \n",
       "17219                  Advanced Use Case Modelling: v. 1   \n",
       "17220  Advanced Use Case Modeling: Software Systems, ...   \n",
       "\n",
       "                                             Author list  \n",
       "17187                    Frank Armour , Granville Miller  \n",
       "17188                   Armour, Frank, Miller, Granville  \n",
       "17189                     Frank Armour; Granville Miller  \n",
       "17190                                 Miller, Granville,  \n",
       "17191                     Armour, FrankMiller, Granville  \n",
       "17192                                      Armour, Frank  \n",
       "17193                   Armour, Frank, Miller, Granville  \n",
       "17194                                       Frank Armour  \n",
       "17195                                      Armour, Frank  \n",
       "17196                                      Armour, Frank  \n",
       "17197                                      ARMOUR, FRANK  \n",
       "17198                   Armour, Frank; Miller, Granville  \n",
       "17199                   Armour, Frank; Miller, Granville  \n",
       "17200                                      Armour, Frank  \n",
       "17201                                      Armour, Frank  \n",
       "17202                    ARMOUR, FRANK MILLER, GRANVILLE  \n",
       "17203                                      ARMOUR, FRANK  \n",
       "17204                   Armour, Frank, Miller, Granville  \n",
       "17205                   Armour, Frank/ Miller, Granville  \n",
       "17206                   Armour, Frank/ Miller, Granville  \n",
       "17207                   Armour, Frank; Miller, Granville  \n",
       "17208                     Frank Armour, Granville Miller  \n",
       "17209                                      Armour, Frank  \n",
       "17210                     Frank Armour, Granville Miller  \n",
       "17211                                       Frank Armour  \n",
       "17212                                      Armour, Frank  \n",
       "17213                   Armour, Frank, Miller, Granville  \n",
       "17214                    ARMOUR, FRANK MILLER, GRANVILLE  \n",
       "17215                   Armour, Frank/ Miller, Granville  \n",
       "17216                     Frank Armour, Granville Miller  \n",
       "17217  ARMOUR, FRANK (ADJUNCT PROFESSOR, GEORGE MASON...  \n",
       "17218                   Armour, Frank/ Miller, Granville  \n",
       "17219                                       Frank Armour  \n",
       "17220                                      Armour, Frank  "
      ]
     },
     "execution_count": 68,
     "metadata": {},
     "output_type": "execute_result"
    }
   ],
   "source": [
    "table = data.loc[data['ISBN'] == \"0201615924\"]\n",
    "print(len(table))\n",
    "table\n"
   ]
  },
  {
   "cell_type": "markdown",
   "metadata": {},
   "source": [
    "# SENTENCE EMBEDDING"
   ]
  },
  {
   "cell_type": "code",
   "execution_count": 46,
   "metadata": {},
   "outputs": [],
   "source": [
    "params = {}"
   ]
  },
  {
   "cell_type": "code",
   "execution_count": 47,
   "metadata": {},
   "outputs": [
    {
     "name": "stdout",
     "output_type": "stream",
     "text": [
      "Vocab size : 2196017\n",
      "TIME: 242.07889413833618\n"
     ]
    }
   ],
   "source": [
    "from embedding_algorithms.inferSent import set_RNN_embedding\n",
    "start = time.time()\n",
    "model_type = \"bilstm\" \n",
    "char_level = False\n",
    "model_version = 2\n",
    "rnn_dim = 1024\n",
    "verbose = 1\n",
    "set_RNN_embedding(model_type, char_level, model_version, rnn_dim, verbose)\n",
    "print(\"TIME: {0}\".format(time.time() - start))\n",
    "\n",
    "params['embedding'] = {\n",
    "    'name': 'Infersent',\n",
    "    'model_type': model_type,\n",
    "    'char_level': char_level,\n",
    "    'model_version': model_version,\n",
    "    'rnn_dim': rnn_dim,\n",
    "    'verbose': verbose\n",
    "}"
   ]
  },
  {
   "cell_type": "code",
   "execution_count": 52,
   "metadata": {},
   "outputs": [
    {
     "name": "stdout",
     "output_type": "stream",
     "text": [
      "attrs: ['Title', 'Author list']\n"
     ]
    }
   ],
   "source": [
    "from embedding_algorithms.inferSent import RNN_embedding\n",
    "attr_list = ['Title', 'Author list']\n",
    "params['attr_list'] = attr_list\n",
    "embeddings_tokens = RNN_embedding(table, attr_list, model_type, char_level)\n",
    "embeddings_tokens = np.array(embeddings_tokens)"
   ]
  },
  {
   "cell_type": "markdown",
   "metadata": {},
   "source": [
    "# DIMENSION REDUCTION + BLOCKING"
   ]
  },
  {
   "cell_type": "code",
   "execution_count": 53,
   "metadata": {},
   "outputs": [
    {
     "name": "stdout",
     "output_type": "stream",
     "text": [
      "starting dimension: 2048\n",
      "setting TSNE with n_components: 2 & perplexity: 10\n",
      "early_exaggeration: 12\n"
     ]
    }
   ],
   "source": [
    "from dimensionality_reduction_algorithms.tsne import tsne_dim_reduction\n",
    "tsne_embeddings = tsne_dim_reduction(\n",
    "    embeddings_tokens, \n",
    "    num_components=2,\n",
    "    early_exaggeration=12,\n",
    "    verbose=1,\n",
    "    perplexity=10,\n",
    "    method=\"barnes_hut\")\n",
    "\n",
    "params['reduction'] = {\n",
    "    'name': 'TSNE',\n",
    "    'num_components': 2,\n",
    "    'early_exaggeration': 12,\n",
    "    'verbose': 1,\n",
    "    'perplexity': 10,\n",
    "    'method': \"barnes_hut\"\n",
    "}"
   ]
  },
  {
   "cell_type": "code",
   "execution_count": 130,
   "metadata": {},
   "outputs": [
    {
     "name": "stdout",
     "output_type": "stream",
     "text": [
      "clustering with NUM_CLUSTERS = 10, \n"
     ]
    }
   ],
   "source": [
    "from cluster_algorithms.hierarchy_cluster import hierarchy_cluster\n",
    "num_clusters = 10\n",
    "blocks = hierarchy_cluster(tsne_embeddings, {'num_clusters': num_clusters})\n",
    "\n",
    "params['blocking'] = {\n",
    "    'name': 'hierarchy',\n",
    "    'num_clusters': num_clusters\n",
    "}"
   ]
  },
  {
   "cell_type": "code",
   "execution_count": 131,
   "metadata": {},
   "outputs": [
    {
     "data": {
      "text/plain": [
       "{2: [0, 7, 9],\n",
       " 1: [1, 4, 6, 11, 12, 17, 20, 26],\n",
       " 7: [2, 23, 29],\n",
       " 6: [3, 19, 31],\n",
       " 9: [5, 21],\n",
       " 4: [8, 10, 16],\n",
       " 0: [13, 14, 22, 25, 33],\n",
       " 8: [15, 27, 30],\n",
       " 3: [18, 28],\n",
       " 5: [24, 32]}"
      ]
     },
     "execution_count": 131,
     "metadata": {},
     "output_type": "execute_result"
    }
   ],
   "source": [
    "blocks"
   ]
  },
  {
   "cell_type": "code",
   "execution_count": 61,
   "metadata": {},
   "outputs": [],
   "source": [
    "from sklearn.cluster import AgglomerativeClustering\n",
    "def hierarchy_cluster_fusion(embeddings, key_values):\n",
    "\n",
    "    # SET PARAMETERS\n",
    "    NUM_CLUSTERS = key_values['num_clusters']\n",
    "\n",
    "    # CLUSTERING\n",
    "    print('clustering with NUM_CLUSTERS = {0}, '.format(NUM_CLUSTERS))\n",
    "    cluster = AgglomerativeClustering(\n",
    "        n_clusters=NUM_CLUSTERS, affinity='euclidean', linkage='ward')\n",
    "    cluster.fit_predict(embeddings)\n",
    "    return cluster.fit_predict(embeddings)"
   ]
  },
  {
   "cell_type": "code",
   "execution_count": 124,
   "metadata": {},
   "outputs": [
    {
     "name": "stdout",
     "output_type": "stream",
     "text": [
      "clustering with NUM_CLUSTERS = 5, \n"
     ]
    }
   ],
   "source": [
    "num_clusters = 5\n",
    "blocks = hierarchy_cluster_fusion(tsne_embeddings, {'num_clusters': num_clusters})\n",
    "\n",
    "params['blocking'] = {\n",
    "    'name': 'hierarchy',\n",
    "    'num_clusters': num_clusters\n",
    "}"
   ]
  },
  {
   "cell_type": "code",
   "execution_count": 125,
   "metadata": {},
   "outputs": [
    {
     "data": {
      "text/plain": [
       "array([1, 0, 1, 0, 0, 3, 0, 1, 2, 1, 2, 0, 0, 4, 4, 2, 2, 0, 3, 0, 0, 3,\n",
       "       4, 1, 0, 4, 0, 2, 3, 1, 2, 0, 0, 4])"
      ]
     },
     "execution_count": 125,
     "metadata": {},
     "output_type": "execute_result"
    }
   ],
   "source": [
    "blocks"
   ]
  },
  {
   "cell_type": "code",
   "execution_count": 126,
   "metadata": {},
   "outputs": [
    {
     "name": "stdout",
     "output_type": "stream",
     "text": [
      "[[  460.94137573  1715.9407959 ]\n",
      " [-1069.30249023  -140.54437256]\n",
      " [ 1366.48474121 -2883.09667969]\n",
      " [-2081.84765625  1933.35058594]\n",
      " [    9.97639179 -1490.85705566]]\n"
     ]
    }
   ],
   "source": [
    "from sklearn.neighbors.nearest_centroid import NearestCentroid\n",
    "clf = NearestCentroid()\n",
    "clf.fit(tsne_embeddings, blocks)\n",
    "print(clf.centroids_)"
   ]
  },
  {
   "cell_type": "code",
   "execution_count": 72,
   "metadata": {},
   "outputs": [
    {
     "data": {
      "text/plain": [
       "array([0, 1])"
      ]
     },
     "execution_count": 72,
     "metadata": {},
     "output_type": "execute_result"
    }
   ],
   "source": [
    "clf.classes_"
   ]
  },
  {
   "cell_type": "code",
   "execution_count": 112,
   "metadata": {},
   "outputs": [],
   "source": [
    "import random\n",
    "def random_color(n):\n",
    "    r = int(random.random() * 256)\n",
    "    g = int(random.random() * 256)\n",
    "    b = int(random.random() * 256)\n",
    "    step = 256 / n\n",
    "    r += step\n",
    "    g += step\n",
    "    b += step\n",
    "    r = int(r) % 256\n",
    "    g = int(g) % 256\n",
    "    b = int(b) % 256\n",
    "    return r,g,b\n",
    "\n",
    "def rgb2hex(r,g,b):\n",
    "    return \"#{:02x}{:02x}{:02x}\".format(r,g,b)"
   ]
  },
  {
   "cell_type": "code",
   "execution_count": 118,
   "metadata": {},
   "outputs": [],
   "source": [
    "dic = {}\n",
    "count = 1000\n",
    "\n",
    "chosen_labels = []\n",
    "remove_index = []\n",
    "colors = {}\n",
    "init_color = 1\n",
    "\n",
    "for i in range(len(blocks)):\n",
    "    if blocks[i] not in dic.keys():\n",
    "        dic[blocks[i]] = 1\n",
    "        r, g, b = random_color(init_color)\n",
    "        colors[blocks[i]] = rgb2hex(r,g,b)\n",
    "        init_color = init_color + 1\n",
    "    elif dic[blocks[i]] < count:\n",
    "        dic[blocks[i]] = dic[blocks[i]] + 1\n",
    "    else: \n",
    "        remove_index.append(i)\n",
    "        continue\n",
    "    chosen_labels.append(blocks[i])\n",
    " "
   ]
  },
  {
   "cell_type": "code",
   "execution_count": 119,
   "metadata": {},
   "outputs": [
    {
     "data": {
      "text/plain": [
       "36"
      ]
     },
     "execution_count": 119,
     "metadata": {},
     "output_type": "execute_result"
    }
   ],
   "source": [
    "chosen_labels.append(2)\n",
    "chosen_labels.append(2)\n",
    "r, g, b = random_color(9)\n",
    "colors[2] = rgb2hex(r,g,b)\n",
    "len(chosen_labels)"
   ]
  },
  {
   "cell_type": "code",
   "execution_count": 120,
   "metadata": {},
   "outputs": [
    {
     "data": {
      "text/plain": [
       "[0,\n",
       " 1,\n",
       " 0,\n",
       " 1,\n",
       " 1,\n",
       " 1,\n",
       " 1,\n",
       " 0,\n",
       " 0,\n",
       " 0,\n",
       " 0,\n",
       " 1,\n",
       " 1,\n",
       " 0,\n",
       " 0,\n",
       " 0,\n",
       " 0,\n",
       " 1,\n",
       " 1,\n",
       " 1,\n",
       " 1,\n",
       " 1,\n",
       " 0,\n",
       " 0,\n",
       " 1,\n",
       " 0,\n",
       " 1,\n",
       " 0,\n",
       " 1,\n",
       " 0,\n",
       " 0,\n",
       " 1,\n",
       " 1,\n",
       " 0,\n",
       " 2,\n",
       " 2]"
      ]
     },
     "execution_count": 120,
     "metadata": {},
     "output_type": "execute_result"
    }
   ],
   "source": [
    "chosen_labels"
   ]
  },
  {
   "cell_type": "code",
   "execution_count": 121,
   "metadata": {},
   "outputs": [
    {
     "data": {
      "text/plain": [
       "34"
      ]
     },
     "execution_count": 121,
     "metadata": {},
     "output_type": "execute_result"
    }
   ],
   "source": [
    "len(tsne_embeddings)"
   ]
  },
  {
   "cell_type": "code",
   "execution_count": 122,
   "metadata": {},
   "outputs": [
    {
     "name": "stdout",
     "output_type": "stream",
     "text": [
      "36\n"
     ]
    },
    {
     "data": {
      "image/png": "[encoded data removed]",
      "text/plain": [
       "<Figure size 936x936 with 1 Axes>"
      ]
     },
     "metadata": {
      "needs_background": "light"
     },
     "output_type": "display_data"
    }
   ],
   "source": [
    "import matplotlib.pyplot as plt\n",
    "x = []\n",
    "y = []\n",
    "for emb in tsne_embeddings:\n",
    "    x.append(emb[0])\n",
    "    y.append(emb[1])\n",
    "    \n",
    "x.append(107.822052)\n",
    "y.append(-1505.65466309)\n",
    "\n",
    "x.append(-137.36193848)\n",
    "y.append(1767.0958252)\n",
    "\n",
    "print(len(x))\n",
    "\n",
    "plt.figure(figsize=(13, 13)) \n",
    "for i in range(len(x)):\n",
    "    plt.scatter(x[i],y[i],  c=colors[chosen_labels[i]])\n",
    "    plt.annotate(i,\n",
    "            xy=(x[i], y[i]),\n",
    "            xytext=(5, 2),\n",
    "            textcoords='offset points',\n",
    "            ha='right',\n",
    "            va='bottom')\n",
    "plt.show()"
   ]
  },
  {
   "cell_type": "code",
   "execution_count": null,
   "metadata": {},
   "outputs": [],
   "source": []
  }
 ],
 "metadata": {
  "kernelspec": {
   "display_name": "Python 3.7.7 64-bit ('thesisEnv': conda)",
   "language": "python",
   "name": "python37764bitthesisenvcondad61bb62be9734ae9b8ba15c07cc7706a"
  },
  "language_info": {
   "codemirror_mode": {
    "name": "ipython",
    "version": 3
   },
   "file_extension": ".py",
   "mimetype": "text/x-python",
   "name": "python",
   "nbconvert_exporter": "python",
   "pygments_lexer": "ipython3",
   "version": "3.7.7"
  },
  "toc": {
   "base_numbering": 1,
   "nav_menu": {},
   "number_sections": true,
   "sideBar": true,
   "skip_h1_title": false,
   "title_cell": "Table of Contents",
   "title_sidebar": "Contents",
   "toc_cell": false,
   "toc_position": {},
   "toc_section_display": true,
   "toc_window_display": false
  },
  "varInspector": {
   "cols": {
    "lenName": 16,
    "lenType": 16,
    "lenVar": 40
   },
   "kernels_config": {
    "python": {
     "delete_cmd_postfix": "",
     "delete_cmd_prefix": "del ",
     "library": "var_list.py",
     "varRefreshCmd": "print(var_dic_list())"
    },
    "r": {
     "delete_cmd_postfix": ") ",
     "delete_cmd_prefix": "rm(",
     "library": "var_list.r",
     "varRefreshCmd": "cat(var_dic_list()) "
    }
   },
   "types_to_exclude": [
    "module",
    "function",
    "builtin_function_or_method",
    "instance",
    "_Feature"
   ],
   "window_display": false
  }
 },
 "nbformat": 4,
 "nbformat_minor": 4
}
