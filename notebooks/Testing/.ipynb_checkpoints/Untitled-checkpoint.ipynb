{
 "cells": [
  {
   "cell_type": "code",
   "execution_count": 41,
   "metadata": {},
   "outputs": [],
   "source": [
    "import os\n",
    "import sys\n",
    "import time\n",
    "import numpy as np\n",
    "\n",
    "module_path = os.path.abspath(os.path.join('..'))\n",
    "if module_path not in sys.path:\n",
    "    sys.path.append(module_path)"
   ]
  },
  {
   "cell_type": "markdown",
   "metadata": {},
   "source": [
    "# IMPORT DATASET"
   ]
  },
  {
   "cell_type": "code",
   "execution_count": 42,
   "metadata": {},
   "outputs": [],
   "source": [
    "import pandas as pd\n",
    "\n",
    "# Set ipython's max row display\n",
    "pd.set_option('display.max_row', 1000)\n",
    "\n",
    "# Set iPython's max column width to 50\n",
    "pd.set_option('display.max_columns', 50)"
   ]
  },
  {
   "cell_type": "code",
   "execution_count": 44,
   "metadata": {},
   "outputs": [
    {
     "data": {
      "text/html": [
       "<div>\n",
       "<style scoped>\n",
       "    .dataframe tbody tr th:only-of-type {\n",
       "        vertical-align: middle;\n",
       "    }\n",
       "\n",
       "    .dataframe tbody tr th {\n",
       "        vertical-align: top;\n",
       "    }\n",
       "\n",
       "    .dataframe thead th {\n",
       "        text-align: right;\n",
       "    }\n",
       "</style>\n",
       "<table border=\"1\" class=\"dataframe\">\n",
       "  <thead>\n",
       "    <tr style=\"text-align: right;\">\n",
       "      <th></th>\n",
       "      <th>Source</th>\n",
       "      <th>ISBN</th>\n",
       "      <th>Title</th>\n",
       "      <th>Author list</th>\n",
       "    </tr>\n",
       "  </thead>\n",
       "  <tbody>\n",
       "    <tr>\n",
       "      <th>0</th>\n",
       "      <td>eCampus.com</td>\n",
       "      <td>0201853949</td>\n",
       "      <td>The art Of Computer Programming, Fascicle 3: G...</td>\n",
       "      <td>Not Available</td>\n",
       "    </tr>\n",
       "    <tr>\n",
       "      <th>1</th>\n",
       "      <td>Indoo.com</td>\n",
       "      <td>0201853949</td>\n",
       "      <td>Art of Computer Programming, Volume 4, Fascicl...</td>\n",
       "      <td>Knuth, Donald E.</td>\n",
       "    </tr>\n",
       "    <tr>\n",
       "      <th>2</th>\n",
       "      <td>textbookxdotcom</td>\n",
       "      <td>0201853949</td>\n",
       "      <td>The 'art Of Computer Programming, Fascicle 3 G...</td>\n",
       "      <td>NaN</td>\n",
       "    </tr>\n",
       "    <tr>\n",
       "      <th>3</th>\n",
       "      <td>A1Books</td>\n",
       "      <td>0201853949</td>\n",
       "      <td>The Art of Computer Programming, Volume 4, Fas...</td>\n",
       "      <td>Knuth, Donald E.</td>\n",
       "    </tr>\n",
       "    <tr>\n",
       "      <th>4</th>\n",
       "      <td>textbooksNow</td>\n",
       "      <td>0201853949</td>\n",
       "      <td>Art of Computer Programming</td>\n",
       "      <td>Knuth</td>\n",
       "    </tr>\n",
       "    <tr>\n",
       "      <th>...</th>\n",
       "      <td>...</td>\n",
       "      <td>...</td>\n",
       "      <td>...</td>\n",
       "      <td>...</td>\n",
       "    </tr>\n",
       "    <tr>\n",
       "      <th>33966</th>\n",
       "      <td>www.textbooksrus.com</td>\n",
       "      <td>0138569231</td>\n",
       "      <td>Multimedia Communications: Protocols and Appli...</td>\n",
       "      <td>Franklin F. Kuo|Wolfgang Effelsberg|J. J. Garc...</td>\n",
       "    </tr>\n",
       "    <tr>\n",
       "      <th>33967</th>\n",
       "      <td>OPOE-ABE Books</td>\n",
       "      <td>0138569231</td>\n",
       "      <td>MULTIMEDIA COMMUNICATIONS</td>\n",
       "      <td>KUO</td>\n",
       "    </tr>\n",
       "    <tr>\n",
       "      <th>33968</th>\n",
       "      <td>textbookxdotcom</td>\n",
       "      <td>0138569231</td>\n",
       "      <td>Multimedia Communications Protocols and Applic...</td>\n",
       "      <td>Wolfgang Effelsberg</td>\n",
       "    </tr>\n",
       "    <tr>\n",
       "      <th>33969</th>\n",
       "      <td>paperbackworld.de</td>\n",
       "      <td>0138569231</td>\n",
       "      <td>Multimedia Communications: Protocols and Appli...</td>\n",
       "      <td>Frank Kuo, J. J. Luna</td>\n",
       "    </tr>\n",
       "    <tr>\n",
       "      <th>33970</th>\n",
       "      <td>Revaluation Books</td>\n",
       "      <td>0138569231</td>\n",
       "      <td>Multimedia Communications: Protocols and Appli...</td>\n",
       "      <td>Franklin F. Kuo J. Joaquin Garcia Luna-Aceves ...</td>\n",
       "    </tr>\n",
       "  </tbody>\n",
       "</table>\n",
       "<p>33971 rows × 4 columns</p>\n",
       "</div>"
      ],
      "text/plain": [
       "                     Source        ISBN  \\\n",
       "0               eCampus.com  0201853949   \n",
       "1                 Indoo.com  0201853949   \n",
       "2           textbookxdotcom  0201853949   \n",
       "3                   A1Books  0201853949   \n",
       "4              textbooksNow  0201853949   \n",
       "...                     ...         ...   \n",
       "33966  www.textbooksrus.com  0138569231   \n",
       "33967        OPOE-ABE Books  0138569231   \n",
       "33968       textbookxdotcom  0138569231   \n",
       "33969     paperbackworld.de  0138569231   \n",
       "33970     Revaluation Books  0138569231   \n",
       "\n",
       "                                                   Title  \\\n",
       "0      The art Of Computer Programming, Fascicle 3: G...   \n",
       "1      Art of Computer Programming, Volume 4, Fascicl...   \n",
       "2      The 'art Of Computer Programming, Fascicle 3 G...   \n",
       "3      The Art of Computer Programming, Volume 4, Fas...   \n",
       "4                            Art of Computer Programming   \n",
       "...                                                  ...   \n",
       "33966  Multimedia Communications: Protocols and Appli...   \n",
       "33967                          MULTIMEDIA COMMUNICATIONS   \n",
       "33968  Multimedia Communications Protocols and Applic...   \n",
       "33969  Multimedia Communications: Protocols and Appli...   \n",
       "33970  Multimedia Communications: Protocols and Appli...   \n",
       "\n",
       "                                             Author list  \n",
       "0                                          Not Available  \n",
       "1                                       Knuth, Donald E.  \n",
       "2                                                    NaN  \n",
       "3                                       Knuth, Donald E.  \n",
       "4                                                  Knuth  \n",
       "...                                                  ...  \n",
       "33966  Franklin F. Kuo|Wolfgang Effelsberg|J. J. Garc...  \n",
       "33967                                                KUO  \n",
       "33968                                Wolfgang Effelsberg  \n",
       "33969                              Frank Kuo, J. J. Luna  \n",
       "33970  Franklin F. Kuo J. Joaquin Garcia Luna-Aceves ...  \n",
       "\n",
       "[33971 rows x 4 columns]"
      ]
     },
     "execution_count": 44,
     "metadata": {},
     "output_type": "execute_result"
    }
   ],
   "source": [
    "\n",
    "\n",
    "data = pd.read_csv('../../source_datasets_fusion/Book/book.txt', sep=\"\\t\", names=[\"Source\", \"ISBN\", \"Title\", \"Author list\"])\n",
    "data"
   ]
  },
  {
   "cell_type": "code",
   "execution_count": 31,
   "metadata": {},
   "outputs": [
    {
     "data": {
      "text/plain": [
       "1265"
      ]
     },
     "execution_count": 31,
     "metadata": {},
     "output_type": "execute_result"
    }
   ],
   "source": [
    "uniqueISBN = data.ISBN.unique()\n",
    "len(uniqueISBN)"
   ]
  },
  {
   "cell_type": "code",
   "execution_count": 57,
   "metadata": {},
   "outputs": [
    {
     "data": {
      "text/plain": [
       "34"
      ]
     },
     "execution_count": 57,
     "metadata": {},
     "output_type": "execute_result"
    }
   ],
   "source": [
    "table = data.loc[data['ISBN'] == \"0201615924\"]\n",
    "len(table)"
   ]
  },
  {
   "cell_type": "markdown",
   "metadata": {},
   "source": [
    "# SENTENCE EMBEDDING"
   ]
  },
  {
   "cell_type": "code",
   "execution_count": 46,
   "metadata": {},
   "outputs": [],
   "source": [
    "params = {}"
   ]
  },
  {
   "cell_type": "code",
   "execution_count": 47,
   "metadata": {},
   "outputs": [
    {
     "name": "stdout",
     "output_type": "stream",
     "text": [
      "Vocab size : 2196017\n",
      "TIME: 242.07889413833618\n"
     ]
    }
   ],
   "source": [
    "from embedding_algorithms.inferSent import set_RNN_embedding\n",
    "start = time.time()\n",
    "model_type = \"bilstm\" \n",
    "char_level = False\n",
    "model_version = 2\n",
    "rnn_dim = 1024\n",
    "verbose = 1\n",
    "set_RNN_embedding(model_type, char_level, model_version, rnn_dim, verbose)\n",
    "print(\"TIME: {0}\".format(time.time() - start))\n",
    "\n",
    "params['embedding'] = {\n",
    "    'name': 'Infersent',\n",
    "    'model_type': model_type,\n",
    "    'char_level': char_level,\n",
    "    'model_version': model_version,\n",
    "    'rnn_dim': rnn_dim,\n",
    "    'verbose': verbose\n",
    "}"
   ]
  },
  {
   "cell_type": "code",
   "execution_count": 52,
   "metadata": {},
   "outputs": [
    {
     "name": "stdout",
     "output_type": "stream",
     "text": [
      "attrs: ['Title', 'Author list']\n"
     ]
    }
   ],
   "source": [
    "from embedding_algorithms.inferSent import RNN_embedding\n",
    "attr_list = ['Title', 'Author list']\n",
    "params['attr_list'] = attr_list\n",
    "embeddings_tokens = RNN_embedding(table, attr_list, model_type, char_level)\n",
    "embeddings_tokens = np.array(embeddings_tokens)"
   ]
  },
  {
   "cell_type": "markdown",
   "metadata": {},
   "source": [
    "# DIMENSION REDUCTION + BLOCKING"
   ]
  },
  {
   "cell_type": "code",
   "execution_count": 53,
   "metadata": {},
   "outputs": [
    {
     "name": "stdout",
     "output_type": "stream",
     "text": [
      "starting dimension: 2048\n",
      "setting TSNE with n_components: 2 & perplexity: 10\n",
      "early_exaggeration: 12\n"
     ]
    }
   ],
   "source": [
    "from dimensionality_reduction_algorithms.tsne import tsne_dim_reduction\n",
    "tsne_embeddings = tsne_dim_reduction(\n",
    "    embeddings_tokens, \n",
    "    num_components=2,\n",
    "    early_exaggeration=12,\n",
    "    verbose=1,\n",
    "    perplexity=10,\n",
    "    method=\"barnes_hut\")\n",
    "\n",
    "params['reduction'] = {\n",
    "    'name': 'TSNE',\n",
    "    'num_components': 2,\n",
    "    'early_exaggeration': 12,\n",
    "    'verbose': 1,\n",
    "    'perplexity': 10,\n",
    "    'method': \"barnes_hut\"\n",
    "}"
   ]
  },
  {
   "cell_type": "code",
   "execution_count": 58,
   "metadata": {},
   "outputs": [
    {
     "name": "stdout",
     "output_type": "stream",
     "text": [
      "clustering with NUM_CLUSTERS = 1, \n"
     ]
    }
   ],
   "source": [
    "from cluster_algorithms.hierarchy_cluster import hierarchy_cluster_fusion\n",
    "num_clusters = 1\n",
    "blocks = hierarchy_cluster_fusion(tsne_embeddings, {'num_clusters': num_clusters})\n",
    "\n",
    "params['blocking'] = {\n",
    "    'name': 'hierarchy',\n",
    "    'num_clusters': num_clusters\n",
    "}"
   ]
  },
  {
   "cell_type": "code",
   "execution_count": null,
   "metadata": {},
   "outputs": [],
   "source": [
    "from sklearn.neighbors.nearest_centroid import NearestCentroid\n",
    "clf = NearestCentroid()\n",
    "clf.fit(X, y_predict)\n",
    "print(clf.centroids_)"
   ]
  },
  {
   "cell_type": "code",
   "execution_count": 59,
   "metadata": {},
   "outputs": [
    {
     "data": {
      "text/plain": [
       "{0: [0,\n",
       "  1,\n",
       "  2,\n",
       "  3,\n",
       "  4,\n",
       "  5,\n",
       "  6,\n",
       "  7,\n",
       "  8,\n",
       "  9,\n",
       "  10,\n",
       "  11,\n",
       "  12,\n",
       "  13,\n",
       "  14,\n",
       "  15,\n",
       "  16,\n",
       "  17,\n",
       "  18,\n",
       "  19,\n",
       "  20,\n",
       "  21,\n",
       "  22,\n",
       "  23,\n",
       "  24,\n",
       "  25,\n",
       "  26,\n",
       "  27,\n",
       "  28,\n",
       "  29,\n",
       "  30,\n",
       "  31,\n",
       "  32,\n",
       "  33]}"
      ]
     },
     "execution_count": 59,
     "metadata": {},
     "output_type": "execute_result"
    }
   ],
   "source": [
    "blocks"
   ]
  },
  {
   "cell_type": "code",
   "execution_count": null,
   "metadata": {},
   "outputs": [],
   "source": []
  }
 ],
 "metadata": {
  "kernelspec": {
   "display_name": "Python 3.7.7 64-bit ('thesisEnv': conda)",
   "language": "python",
   "name": "python37764bitthesisenvcondad61bb62be9734ae9b8ba15c07cc7706a"
  },
  "language_info": {
   "codemirror_mode": {
    "name": "ipython",
    "version": 3
   },
   "file_extension": ".py",
   "mimetype": "text/x-python",
   "name": "python",
   "nbconvert_exporter": "python",
   "pygments_lexer": "ipython3",
   "version": "3.7.7"
  },
  "toc": {
   "base_numbering": 1,
   "nav_menu": {},
   "number_sections": true,
   "sideBar": true,
   "skip_h1_title": false,
   "title_cell": "Table of Contents",
   "title_sidebar": "Contents",
   "toc_cell": false,
   "toc_position": {},
   "toc_section_display": true,
   "toc_window_display": false
  },
  "varInspector": {
   "cols": {
    "lenName": 16,
    "lenType": 16,
    "lenVar": 40
   },
   "kernels_config": {
    "python": {
     "delete_cmd_postfix": "",
     "delete_cmd_prefix": "del ",
     "library": "var_list.py",
     "varRefreshCmd": "print(var_dic_list())"
    },
    "r": {
     "delete_cmd_postfix": ") ",
     "delete_cmd_prefix": "rm(",
     "library": "var_list.r",
     "varRefreshCmd": "cat(var_dic_list()) "
    }
   },
   "types_to_exclude": [
    "module",
    "function",
    "builtin_function_or_method",
    "instance",
    "_Feature"
   ],
   "window_display": false
  }
 },
 "nbformat": 4,
 "nbformat_minor": 4
}
