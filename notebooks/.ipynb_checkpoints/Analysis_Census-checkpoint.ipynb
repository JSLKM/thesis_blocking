{
 "cells": [
  {
   "cell_type": "markdown",
   "metadata": {
    "toc": true
   },
   "source": [
    "<h1>Table of Contents<span class=\"tocSkip\"></span></h1>\n",
    "<div class=\"toc\"><ul class=\"toc-item\"><li><span><a href=\"#Setup\" data-toc-modified-id=\"Setup-1\"><span class=\"toc-item-num\">1&nbsp;&nbsp;</span>Setup</a></span></li><li><span><a href=\"#Import-dataset\" data-toc-modified-id=\"Import-dataset-2\"><span class=\"toc-item-num\">2&nbsp;&nbsp;</span>Import dataset</a></span></li><li><span><a href=\"#Sentence-embedding\" data-toc-modified-id=\"Sentence-embedding-3\"><span class=\"toc-item-num\">3&nbsp;&nbsp;</span>Sentence embedding</a></span><ul class=\"toc-item\"><li><span><a href=\"#Infersent\" data-toc-modified-id=\"Infersent-3.1\"><span class=\"toc-item-num\">3.1&nbsp;&nbsp;</span>Infersent</a></span></li></ul></li><li><span><a href=\"#Dimensionality-reduction\" data-toc-modified-id=\"Dimensionality-reduction-4\"><span class=\"toc-item-num\">4&nbsp;&nbsp;</span>Dimensionality reduction</a></span><ul class=\"toc-item\"><li><span><a href=\"#TSNE\" data-toc-modified-id=\"TSNE-4.1\"><span class=\"toc-item-num\">4.1&nbsp;&nbsp;</span>TSNE</a></span></li></ul></li><li><span><a href=\"#Blocking\" data-toc-modified-id=\"Blocking-5\"><span class=\"toc-item-num\">5&nbsp;&nbsp;</span>Blocking</a></span></li><li><span><a href=\"#Evaluation\" data-toc-modified-id=\"Evaluation-6\"><span class=\"toc-item-num\">6&nbsp;&nbsp;</span>Evaluation</a></span><ul class=\"toc-item\"><li><span><a href=\"#bilstm,-rnn_dim-2048\" data-toc-modified-id=\"bilstm,-rnn_dim-2048-6.1\"><span class=\"toc-item-num\">6.1&nbsp;&nbsp;</span>bilstm, rnn_dim 2048</a></span></li><li><span><a href=\"#Searching\" data-toc-modified-id=\"Searching-6.2\"><span class=\"toc-item-num\">6.2&nbsp;&nbsp;</span>Searching</a></span></li></ul></li><li><span><a href=\"#Best\" data-toc-modified-id=\"Best-7\"><span class=\"toc-item-num\">7&nbsp;&nbsp;</span>Best</a></span></li></ul></div>"
   ]
  },
  {
   "cell_type": "markdown",
   "metadata": {},
   "source": [
    "# Setup "
   ]
  },
  {
   "cell_type": "code",
   "execution_count": 1,
   "metadata": {},
   "outputs": [],
   "source": [
    "import os\n",
    "import sys\n",
    "import time\n",
    "import numpy as np\n",
    "import matplotlib.pyplot as plt\n",
    "\n",
    "module_path = os.path.abspath(os.path.join('..'))\n",
    "if module_path not in sys.path:\n",
    "    sys.path.append(module_path)\n",
    "    \n",
    "from preprocessing_datasets.preprocessing_utilities import get_labels_by\n",
    "\n",
    "params = {}"
   ]
  },
  {
   "cell_type": "markdown",
   "metadata": {},
   "source": [
    "# Import dataset"
   ]
  },
  {
   "cell_type": "code",
   "execution_count": 2,
   "metadata": {},
   "outputs": [],
   "source": [
    "from preprocessing_datasets.preprocessing_census import clean_census\n",
    "table, pairs = clean_census()"
   ]
  },
  {
   "cell_type": "code",
   "execution_count": 3,
   "metadata": {
    "scrolled": true
   },
   "outputs": [
    {
     "data": {
      "text/html": [
       "<div>\n",
       "<style scoped>\n",
       "    .dataframe tbody tr th:only-of-type {\n",
       "        vertical-align: middle;\n",
       "    }\n",
       "\n",
       "    .dataframe tbody tr th {\n",
       "        vertical-align: top;\n",
       "    }\n",
       "\n",
       "    .dataframe thead th {\n",
       "        text-align: right;\n",
       "    }\n",
       "</style>\n",
       "<table border=\"1\" class=\"dataframe\">\n",
       "  <thead>\n",
       "    <tr style=\"text-align: right;\">\n",
       "      <th></th>\n",
       "      <th>last_name</th>\n",
       "      <th>first_name</th>\n",
       "      <th>middle_name</th>\n",
       "      <th>zip_code</th>\n",
       "      <th>street_address</th>\n",
       "    </tr>\n",
       "  </thead>\n",
       "  <tbody>\n",
       "    <tr>\n",
       "      <th>0</th>\n",
       "      <td>anderson</td>\n",
       "      <td>unk</td>\n",
       "      <td>unk</td>\n",
       "      <td>4848</td>\n",
       "      <td>basswood</td>\n",
       "    </tr>\n",
       "    <tr>\n",
       "      <th>1</th>\n",
       "      <td>anderson</td>\n",
       "      <td>unk</td>\n",
       "      <td>unk</td>\n",
       "      <td>4848</td>\n",
       "      <td>basswood</td>\n",
       "    </tr>\n",
       "    <tr>\n",
       "      <th>2</th>\n",
       "      <td>anderson</td>\n",
       "      <td>unk</td>\n",
       "      <td>unk</td>\n",
       "      <td>4848</td>\n",
       "      <td>basswood</td>\n",
       "    </tr>\n",
       "    <tr>\n",
       "      <th>3</th>\n",
       "      <td>anderson</td>\n",
       "      <td>unk</td>\n",
       "      <td>unk</td>\n",
       "      <td>4848</td>\n",
       "      <td>basswood</td>\n",
       "    </tr>\n",
       "    <tr>\n",
       "      <th>4</th>\n",
       "      <td>aquendo</td>\n",
       "      <td>clara</td>\n",
       "      <td>j</td>\n",
       "      <td>666</td>\n",
       "      <td>starkey</td>\n",
       "    </tr>\n",
       "    <tr>\n",
       "      <th>...</th>\n",
       "      <td>...</td>\n",
       "      <td>...</td>\n",
       "      <td>...</td>\n",
       "      <td>...</td>\n",
       "      <td>...</td>\n",
       "    </tr>\n",
       "    <tr>\n",
       "      <th>836</th>\n",
       "      <td>william</td>\n",
       "      <td>sherry</td>\n",
       "      <td>v</td>\n",
       "      <td>510</td>\n",
       "      <td>woodhaven</td>\n",
       "    </tr>\n",
       "    <tr>\n",
       "      <th>837</th>\n",
       "      <td>wright</td>\n",
       "      <td>bryan</td>\n",
       "      <td>unk</td>\n",
       "      <td>307</td>\n",
       "      <td>woodhaven</td>\n",
       "    </tr>\n",
       "    <tr>\n",
       "      <th>838</th>\n",
       "      <td>wright</td>\n",
       "      <td>maxine</td>\n",
       "      <td>h</td>\n",
       "      <td>307</td>\n",
       "      <td>woodhaven</td>\n",
       "    </tr>\n",
       "    <tr>\n",
       "      <th>839</th>\n",
       "      <td>yates</td>\n",
       "      <td>chanse</td>\n",
       "      <td>e</td>\n",
       "      <td>403</td>\n",
       "      <td>woodhaven</td>\n",
       "    </tr>\n",
       "    <tr>\n",
       "      <th>840</th>\n",
       "      <td>yates</td>\n",
       "      <td>alfredica</td>\n",
       "      <td>s</td>\n",
       "      <td>403</td>\n",
       "      <td>woodhaven</td>\n",
       "    </tr>\n",
       "  </tbody>\n",
       "</table>\n",
       "<p>841 rows × 5 columns</p>\n",
       "</div>"
      ],
      "text/plain": [
       "    last_name first_name middle_name zip_code street_address\n",
       "0    anderson        unk         unk     4848       basswood\n",
       "1    anderson        unk         unk     4848       basswood\n",
       "2    anderson        unk         unk     4848       basswood\n",
       "3    anderson        unk         unk     4848       basswood\n",
       "4     aquendo      clara           j      666        starkey\n",
       "..        ...        ...         ...      ...            ...\n",
       "836   william     sherry           v      510      woodhaven\n",
       "837    wright      bryan         unk      307      woodhaven\n",
       "838    wright     maxine           h      307      woodhaven\n",
       "839     yates     chanse           e      403      woodhaven\n",
       "840     yates  alfredica           s      403      woodhaven\n",
       "\n",
       "[841 rows x 5 columns]"
      ]
     },
     "execution_count": 3,
     "metadata": {},
     "output_type": "execute_result"
    }
   ],
   "source": [
    "table"
   ]
  },
  {
   "cell_type": "markdown",
   "metadata": {},
   "source": [
    "# Sentence embedding"
   ]
  },
  {
   "cell_type": "markdown",
   "metadata": {},
   "source": [
    "## Infersent"
   ]
  },
  {
   "cell_type": "markdown",
   "metadata": {},
   "source": [
    "Setup model"
   ]
  },
  {
   "cell_type": "code",
   "execution_count": 4,
   "metadata": {},
   "outputs": [
    {
     "name": "stdout",
     "output_type": "stream",
     "text": [
      "Vocab size : 2196017\n",
      "TIME: 166.4004499912262\n"
     ]
    }
   ],
   "source": [
    "from embedding_algorithms.inferSent import set_RNN_embedding\n",
    "start = time.time()\n",
    "model_type = \"bilstm\" \n",
    "char_level = False\n",
    "model_version = 2\n",
    "rnn_dim = 2048\n",
    "verbose = 1\n",
    "set_RNN_embedding(model_type, char_level, model_version, rnn_dim, verbose)\n",
    "print(\"TIME: {0}\".format(time.time() - start))\n",
    "\n",
    "params['embedding'] = {\n",
    "    'name': 'Infersent',\n",
    "    'model_type': model_type,\n",
    "    'char_level': char_level,\n",
    "    'model_version': model_version,\n",
    "    'rnn_dim': rnn_dim,\n",
    "    'verbose': verbose\n",
    "}"
   ]
  },
  {
   "cell_type": "markdown",
   "metadata": {},
   "source": [
    "Embedding"
   ]
  },
  {
   "cell_type": "code",
   "execution_count": 18,
   "metadata": {},
   "outputs": [
    {
     "name": "stdout",
     "output_type": "stream",
     "text": [
      "attrs: ['last_name', 'first_name', 'zip_code', 'street_address']\n"
     ]
    }
   ],
   "source": [
    "from embedding_algorithms.inferSent import RNN_embedding\n",
    "attr_list = ['last_name', 'first_name', 'zip_code', 'street_address']\n",
    "params['attr_list'] = attr_list\n",
    "embeddings_tokens = RNN_embedding(table, attr_list, model_type, char_level)\n",
    "embeddings_tokens = np.array(embeddings_tokens)"
   ]
  },
  {
   "cell_type": "markdown",
   "metadata": {},
   "source": [
    "# Dimensionality reduction"
   ]
  },
  {
   "cell_type": "markdown",
   "metadata": {},
   "source": [
    "## TSNE"
   ]
  },
  {
   "cell_type": "code",
   "execution_count": 19,
   "metadata": {},
   "outputs": [
    {
     "name": "stdout",
     "output_type": "stream",
     "text": [
      "starting dimension: 4096\n",
      "setting TSNE with n_components: 2 & perplexity: 40\n",
      "early_exaggeration: 12\n"
     ]
    }
   ],
   "source": [
    "from dimensionality_reduction_algorithms.tsne import tsne_dim_reduction\n",
    "tsne_embeddings = tsne_dim_reduction(\n",
    "    embeddings_tokens, \n",
    "    num_components=2,\n",
    "    early_exaggeration=12,\n",
    "    verbose=1,\n",
    "    perplexity=40,\n",
    "    method=\"barnes_hut\")\n",
    "\n",
    "params['reduction'] = {\n",
    "    'name': 'TSNE',\n",
    "    'num_components': 2,\n",
    "    'early_exaggeration': 12,\n",
    "    'verbose': 1,\n",
    "    'perplexity': 40,\n",
    "    'method': \"barnes_hut\"\n",
    "}"
   ]
  },
  {
   "cell_type": "markdown",
   "metadata": {},
   "source": [
    "# Blocking"
   ]
  },
  {
   "cell_type": "markdown",
   "metadata": {},
   "source": [
    "hierarchy_cluster"
   ]
  },
  {
   "cell_type": "code",
   "execution_count": 20,
   "metadata": {},
   "outputs": [
    {
     "name": "stdout",
     "output_type": "stream",
     "text": [
      "clustering with NUM_CLUSTERS = 11, \n"
     ]
    }
   ],
   "source": [
    "from cluster_algorithms.hierarchy_cluster import hierarchy_cluster\n",
    "num_clusters = 11\n",
    "blocks = hierarchy_cluster(tsne_embeddings, {'num_clusters': num_clusters})\n",
    "\n",
    "params['blocking'] = {\n",
    "    'name': 'hierarchy',\n",
    "    'num_clusters': num_clusters\n",
    "}"
   ]
  },
  {
   "cell_type": "markdown",
   "metadata": {},
   "source": [
    "# Evaluation"
   ]
  },
  {
   "cell_type": "markdown",
   "metadata": {
    "heading_collapsed": true
   },
   "source": [
    "## bilstm, rnn_dim 2048"
   ]
  },
  {
   "cell_type": "code",
   "execution_count": 12,
   "metadata": {
    "hidden": true
   },
   "outputs": [
    {
     "name": "stdout",
     "output_type": "stream",
     "text": [
      "(RR) Reduction ratio is: 0.8994337806466225\n",
      "(PC) Pair completeness is: 0.8837209302325582\n",
      "(RM) Reference metric (Harmonic mean RR and PC) is: 0.8915081259816448\n",
      "(PQ) Pair quality - Precision is: 0.008558076684871347\n",
      "(FM) Fmeasure is: 0.01695198795516645\n",
      "\n",
      "[]\n",
      "{'name': 'Infersent', 'model_type': 'bilstm', 'char_level': False, 'model_version': 2, 'rnn_dim': 2048, 'verbose': 1}\n",
      "{'name': 'TSNE', 'num_components': 2, 'early_exaggeration': 12, 'verbose': 1, 'perplexity': 40, 'method': 'barnes_hut'}\n",
      "{'name': 'hierarchy', 'num_clusters': 11}\n"
     ]
    }
   ],
   "source": [
    "from evaluation import calc_index\n",
    "calc_index(blocks,table,pairs)\n",
    "print()\n",
    "print(params['attr_list'])\n",
    "print(params['embedding'])\n",
    "print(params['reduction'])\n",
    "print(params['blocking'])"
   ]
  },
  {
   "cell_type": "code",
   "execution_count": 8,
   "metadata": {
    "hidden": true
   },
   "outputs": [
    {
     "name": "stdout",
     "output_type": "stream",
     "text": [
      "(RR) Reduction ratio is: 0.8992893947115113\n",
      "(PC) Pair completeness is: 0.20930232558139536\n",
      "(RM) Reference metric (Harmonic mean RR and PC) is: 0.3395720141840375\n",
      "(PQ) Pair quality - Precision is: 0.0020240069715795686\n",
      "(FM) Fmeasure is: 0.004009243533702703\n",
      "\n",
      "['last_name']\n",
      "{'name': 'Infersent', 'model_type': 'bilstm', 'char_level': False, 'model_version': 2, 'rnn_dim': 2048, 'verbose': 1}\n",
      "{'name': 'TSNE', 'num_components': 2, 'early_exaggeration': 12, 'verbose': 1, 'perplexity': 40, 'method': 'barnes_hut'}\n",
      "{'name': 'hierarchy', 'num_clusters': 11}\n"
     ]
    }
   ],
   "source": [
    "from evaluation import calc_index\n",
    "calc_index(blocks,table,pairs)\n",
    "print()\n",
    "print(params['attr_list'])\n",
    "print(params['embedding'])\n",
    "print(params['reduction'])\n",
    "print(params['blocking'])"
   ]
  },
  {
   "cell_type": "code",
   "execution_count": 12,
   "metadata": {
    "hidden": true
   },
   "outputs": [
    {
     "name": "stdout",
     "output_type": "stream",
     "text": [
      "(RR) Reduction ratio is: 0.897837042070098\n",
      "(PC) Pair completeness is: 0.26453488372093026\n",
      "(RM) Reference metric (Harmonic mean RR and PC) is: 0.40866303160707423\n",
      "(PQ) Pair quality - Precision is: 0.002521753588649338\n",
      "(FM) Fmeasure is: 0.0049958825144112\n",
      "\n",
      "['last_name', 'first_name']\n",
      "{'name': 'Infersent', 'model_type': 'bilstm', 'char_level': False, 'model_version': 2, 'rnn_dim': 2048, 'verbose': 1}\n",
      "{'name': 'TSNE', 'num_components': 2, 'early_exaggeration': 12, 'verbose': 1, 'perplexity': 40, 'method': 'barnes_hut'}\n",
      "{'name': 'hierarchy', 'num_clusters': 11}\n"
     ]
    }
   ],
   "source": [
    "from evaluation import calc_index\n",
    "calc_index(blocks,table,pairs)\n",
    "print()\n",
    "print(params['attr_list'])\n",
    "print(params['embedding'])\n",
    "print(params['reduction'])\n",
    "print(params['blocking'])"
   ]
  },
  {
   "cell_type": "code",
   "execution_count": 17,
   "metadata": {
    "hidden": true
   },
   "outputs": [
    {
     "name": "stdout",
     "output_type": "stream",
     "text": [
      "(RR) Reduction ratio is: 0.8875658229998301\n",
      "(PC) Pair completeness is: 0.5843023255813954\n",
      "(RM) Reference metric (Harmonic mean RR and PC) is: 0.7046918910301379\n",
      "(PQ) Pair quality - Precision is: 0.005061187490557486\n",
      "(FM) Fmeasure is: 0.01003544859953068\n",
      "\n",
      "['last_name', 'first_name', 'zip_code']\n",
      "{'name': 'Infersent', 'model_type': 'bilstm', 'char_level': False, 'model_version': 2, 'rnn_dim': 2048, 'verbose': 1}\n",
      "{'name': 'TSNE', 'num_components': 2, 'early_exaggeration': 12, 'verbose': 1, 'perplexity': 40, 'method': 'barnes_hut'}\n",
      "{'name': 'hierarchy', 'num_clusters': 11}\n"
     ]
    }
   ],
   "source": [
    "from evaluation import calc_index\n",
    "calc_index(blocks,table,pairs)\n",
    "print()\n",
    "print(params['attr_list'])\n",
    "print(params['embedding'])\n",
    "print(params['reduction'])\n",
    "print(params['blocking'])"
   ]
  },
  {
   "cell_type": "code",
   "execution_count": 21,
   "metadata": {
    "hidden": true
   },
   "outputs": [
    {
     "name": "stdout",
     "output_type": "stream",
     "text": [
      "(RR) Reduction ratio is: 0.9006822943208199\n",
      "(PC) Pair completeness is: 0.9622093023255814\n",
      "(RM) Reference metric (Harmonic mean RR and PC) is: 0.9304297508191931\n",
      "(PQ) Pair quality - Precision is: 0.009435306861263933\n",
      "(FM) Fmeasure is: 0.018687367678193366\n",
      "\n",
      "['last_name', 'first_name', 'zip_code', 'street_address']\n",
      "{'name': 'Infersent', 'model_type': 'bilstm', 'char_level': False, 'model_version': 2, 'rnn_dim': 2048, 'verbose': 1}\n",
      "{'name': 'TSNE', 'num_components': 2, 'early_exaggeration': 12, 'verbose': 1, 'perplexity': 40, 'method': 'barnes_hut'}\n",
      "{'name': 'hierarchy', 'num_clusters': 11}\n"
     ]
    }
   ],
   "source": [
    "from evaluation import calc_index\n",
    "calc_index(blocks,table,pairs)\n",
    "print()\n",
    "print(params['attr_list'])\n",
    "print(params['embedding'])\n",
    "print(params['reduction'])\n",
    "print(params['blocking'])"
   ]
  },
  {
   "cell_type": "markdown",
   "metadata": {
    "heading_collapsed": true
   },
   "source": [
    "## Searching"
   ]
  },
  {
   "cell_type": "code",
   "execution_count": 10,
   "metadata": {
    "hidden": true
   },
   "outputs": [
    {
     "name": "stdout",
     "output_type": "stream",
     "text": [
      "clustering with NUM_CLUSTERS = 5, \n",
      "(RR) Reduction ratio is: 0.7366202366796897\n",
      "(PC) Pair completeness is: 0.9912790697674418\n",
      "(RM) Reference metric (Harmonic mean RR and PC) is: 0.8451837676688799\n",
      "(PQ) Pair quality - Precision is: 0.0036654448517160947\n",
      "(FM) Fmeasure is: 0.007303882195448461\n",
      "clustering with NUM_CLUSTERS = 6, \n",
      "(RR) Reduction ratio is: 0.7932619896948078\n",
      "(PC) Pair completeness is: 0.9302325581395349\n",
      "(RM) Reference metric (Harmonic mean RR and PC) is: 0.8563045712861576\n",
      "(PQ) Pair quality - Precision is: 0.0043821209465381246\n",
      "(FM) Fmeasure is: 0.008723149056809508\n",
      "clustering with NUM_CLUSTERS = 7, \n",
      "(RR) Reduction ratio is: 0.8193080799501726\n",
      "(PC) Pair completeness is: 0.9244186046511628\n",
      "(RM) Reference metric (Harmonic mean RR and PC) is: 0.8686953508658624\n",
      "(PQ) Pair quality - Precision is: 0.004982451742291301\n",
      "(FM) Fmeasure is: 0.00991148235880813\n",
      "clustering with NUM_CLUSTERS = 8, \n",
      "(RR) Reduction ratio is: 0.8404054130570183\n",
      "(PC) Pair completeness is: 0.9244186046511628\n",
      "(RM) Reference metric (Harmonic mean RR and PC) is: 0.8804123147511623\n",
      "(PQ) Pair quality - Precision is: 0.005641098417654155\n",
      "(FM) Fmeasure is: 0.011213766838281966\n",
      "clustering with NUM_CLUSTERS = 9, \n",
      "(RR) Reduction ratio is: 0.8826170658513108\n",
      "(PC) Pair completeness is: 0.8837209302325582\n",
      "(RM) Reference metric (Harmonic mean RR and PC) is: 0.8831686531145835\n",
      "(PQ) Pair quality - Precision is: 0.007332014856977474\n",
      "(FM) Fmeasure is: 0.014543366980816153\n",
      "clustering with NUM_CLUSTERS = 10, \n",
      "(RR) Reduction ratio is: 0.8949748032387748\n",
      "(PC) Pair completeness is: 0.8837209302325582\n",
      "(RM) Reference metric (Harmonic mean RR and PC) is: 0.8893122649024645\n",
      "(PQ) Pair quality - Precision is: 0.008194732727713832\n",
      "(FM) Fmeasure is: 0.016238882508480008\n",
      "clustering with NUM_CLUSTERS = 11, \n",
      "(RR) Reduction ratio is: 0.8994337806466225\n",
      "(PC) Pair completeness is: 0.8837209302325582\n",
      "(RM) Reference metric (Harmonic mean RR and PC) is: 0.8915081259816448\n",
      "(PQ) Pair quality - Precision is: 0.008558076684871347\n",
      "(FM) Fmeasure is: 0.01695198795516645\n",
      "clustering with NUM_CLUSTERS = 12, \n",
      "(RR) Reduction ratio is: 0.9026442443802729\n",
      "(PC) Pair completeness is: 0.8837209302325582\n",
      "(RM) Reference metric (Harmonic mean RR and PC) is: 0.8930823581305947\n",
      "(PQ) Pair quality - Precision is: 0.0088402931255089\n",
      "(FM) Fmeasure is: 0.0175054704595186\n",
      "clustering with NUM_CLUSTERS = 13, \n",
      "(RR) Reduction ratio is: 0.9108883981654493\n",
      "(PC) Pair completeness is: 0.875\n",
      "(RM) Reference metric (Harmonic mean RR and PC) is: 0.8925836006477371\n",
      "(PQ) Pair quality - Precision is: 0.009562841530054645\n",
      "(FM) Fmeasure is: 0.01891891891891892\n",
      "clustering with NUM_CLUSTERS = 14, \n",
      "(RR) Reduction ratio is: 0.9177226657607157\n",
      "(PC) Pair completeness is: 0.8604651162790697\n",
      "(RM) Reference metric (Harmonic mean RR and PC) is: 0.8881720460365462\n",
      "(PQ) Pair quality - Precision is: 0.010185121464455302\n",
      "(FM) Fmeasure is: 0.02013194586138883\n",
      "clustering with NUM_CLUSTERS = 15, \n",
      "(RR) Reduction ratio is: 0.9223316912972086\n",
      "(PC) Pair completeness is: 0.8604651162790697\n",
      "(RM) Reference metric (Harmonic mean RR and PC) is: 0.8903249575355405\n",
      "(PQ) Pair quality - Precision is: 0.010789531238609025\n",
      "(FM) Fmeasure is: 0.021311829505363956\n",
      "clustering with NUM_CLUSTERS = 16, \n",
      "(RR) Reduction ratio is: 0.9306154804371214\n",
      "(PC) Pair completeness is: 0.8430232558139535\n",
      "(RM) Reference metric (Harmonic mean RR and PC) is: 0.8846564705586258\n",
      "(PQ) Pair quality - Precision is: 0.011832870899298189\n",
      "(FM) Fmeasure is: 0.02333816191855786\n",
      "clustering with NUM_CLUSTERS = 17, \n",
      "(RR) Reduction ratio is: 0.9368325689372062\n",
      "(PC) Pair completeness is: 0.8343023255813954\n",
      "(RM) Reference metric (Harmonic mean RR and PC) is: 0.882599731238591\n",
      "(PQ) Pair quality - Precision is: 0.012863033345285048\n",
      "(FM) Fmeasure is: 0.02533545197740113\n",
      "clustering with NUM_CLUSTERS = 18, \n",
      "(RR) Reduction ratio is: 0.9381914953853123\n",
      "(PC) Pair completeness is: 0.8343023255813954\n",
      "(RM) Reference metric (Harmonic mean RR and PC) is: 0.8832023414487885\n",
      "(PQ) Pair quality - Precision is: 0.013145840967387322\n",
      "(FM) Fmeasure is: 0.025883838383838384\n",
      "clustering with NUM_CLUSTERS = 19, \n",
      "(RR) Reduction ratio is: 0.9408244153785177\n",
      "(PC) Pair completeness is: 0.8343023255813954\n",
      "(RM) Reference metric (Harmonic mean RR and PC) is: 0.8843672731667556\n",
      "(PQ) Pair quality - Precision is: 0.013730743469524447\n",
      "(FM) Fmeasure is: 0.02701685023063165\n",
      "clustering with NUM_CLUSTERS = 20, \n",
      "(RR) Reduction ratio is: 0.94418775833758\n",
      "(PC) Pair completeness is: 0.8343023255813954\n",
      "(RM) Reference metric (Harmonic mean RR and PC) is: 0.8858503622699032\n",
      "(PQ) Pair quality - Precision is: 0.01455818200263772\n",
      "(FM) Fmeasure is: 0.02861701066905973\n",
      "clustering with NUM_CLUSTERS = 21, \n",
      "(RR) Reduction ratio is: 0.9451984598833588\n",
      "(PC) Pair completeness is: 0.8343023255813954\n",
      "(RM) Reference metric (Harmonic mean RR and PC) is: 0.886294942556808\n",
      "(PQ) Pair quality - Precision is: 0.014826677687658212\n",
      "(FM) Fmeasure is: 0.02913557687427034\n",
      "clustering with NUM_CLUSTERS = 22, \n",
      "(RR) Reduction ratio is: 0.9467697185889814\n",
      "(PC) Pair completeness is: 0.8343023255813954\n",
      "(RM) Reference metric (Harmonic mean RR and PC) is: 0.8869850948413064\n",
      "(PQ) Pair quality - Precision is: 0.01526433358153388\n",
      "(FM) Fmeasure is: 0.029980152512274105\n",
      "clustering with NUM_CLUSTERS = 23, \n",
      "(RR) Reduction ratio is: 0.9509654039975086\n",
      "(PC) Pair completeness is: 0.8168604651162791\n",
      "(RM) Reference metric (Harmonic mean RR and PC) is: 0.878826422659273\n",
      "(PQ) Pair quality - Precision is: 0.016224018475750578\n",
      "(FM) Fmeasure is: 0.0318161231884058\n",
      "clustering with NUM_CLUSTERS = 24, \n",
      "(RR) Reduction ratio is: 0.9541249079893551\n",
      "(PC) Pair completeness is: 0.8023255813953488\n",
      "(RM) Reference metric (Harmonic mean RR and PC) is: 0.8716656986949963\n",
      "(PQ) Pair quality - Precision is: 0.017032831399654405\n",
      "(FM) Fmeasure is: 0.03335750543872371\n",
      "clustering with NUM_CLUSTERS = 25, \n",
      "(RR) Reduction ratio is: 0.956341656757828\n",
      "(PC) Pair completeness is: 0.7936046511627907\n",
      "(RM) Reference metric (Harmonic mean RR and PC) is: 0.8674062552302825\n",
      "(PQ) Pair quality - Precision is: 0.017703132092601\n",
      "(FM) Fmeasure is: 0.0346336822074215\n",
      "clustering with NUM_CLUSTERS = 26, \n",
      "(RR) Reduction ratio is: 0.9577090764962346\n",
      "(PC) Pair completeness is: 0.7936046511627907\n",
      "(RM) Reference metric (Harmonic mean RR and PC) is: 0.8679682749751281\n",
      "(PQ) Pair quality - Precision is: 0.018275538894095594\n",
      "(FM) Fmeasure is: 0.035728307813113466\n",
      "clustering with NUM_CLUSTERS = 27, \n",
      "(RR) Reduction ratio is: 0.9602145971349301\n",
      "(PC) Pair completeness is: 0.7877906976744186\n",
      "(RM) Reference metric (Harmonic mean RR and PC) is: 0.8654986682710153\n",
      "(PQ) Pair quality - Precision is: 0.019284138618088663\n",
      "(FM) Fmeasure is: 0.03764673195804681\n",
      "clustering with NUM_CLUSTERS = 28, \n",
      "(RR) Reduction ratio is: 0.960695883585301\n",
      "(PC) Pair completeness is: 0.7877906976744186\n",
      "(RM) Reference metric (Harmonic mean RR and PC) is: 0.8656941248440584\n",
      "(PQ) Pair quality - Precision is: 0.019520276597277245\n",
      "(FM) Fmeasure is: 0.038096576931187176\n",
      "clustering with NUM_CLUSTERS = 29, \n",
      "(RR) Reduction ratio is: 0.9615338882282997\n",
      "(PC) Pair completeness is: 0.7877906976744186\n",
      "(RM) Reference metric (Harmonic mean RR and PC) is: 0.866034192567043\n",
      "(PQ) Pair quality - Precision is: 0.019945536174284243\n",
      "(FM) Fmeasure is: 0.038906036896130924\n",
      "clustering with NUM_CLUSTERS = 30, \n",
      "(RR) Reduction ratio is: 0.962054810033407\n",
      "(PC) Pair completeness is: 0.7819767441860465\n",
      "(RM) Reference metric (Harmonic mean RR and PC) is: 0.8627188954905636\n",
      "(PQ) Pair quality - Precision is: 0.020070133552189808\n",
      "(FM) Fmeasure is: 0.03913581144977086\n",
      "clustering with NUM_CLUSTERS = 31, \n",
      "(RR) Reduction ratio is: 0.9644329313175924\n",
      "(PC) Pair completeness is: 0.7558139534883721\n",
      "(RM) Reference metric (Harmonic mean RR and PC) is: 0.8474735494443277\n",
      "(PQ) Pair quality - Precision is: 0.020695693703733184\n",
      "(FM) Fmeasure is: 0.04028821569690865\n",
      "clustering with NUM_CLUSTERS = 32, \n",
      "(RR) Reduction ratio is: 0.9651123945416454\n",
      "(PC) Pair completeness is: 0.7558139534883721\n",
      "(RM) Reference metric (Harmonic mean RR and PC) is: 0.8477357736014245\n",
      "(PQ) Pair quality - Precision is: 0.0210987584192161\n",
      "(FM) Fmeasure is: 0.04105155127496645\n",
      "clustering with NUM_CLUSTERS = 33, \n",
      "(RR) Reduction ratio is: 0.965678613895023\n",
      "(PC) Pair completeness is: 0.7558139534883721\n",
      "(RM) Reference metric (Harmonic mean RR and PC) is: 0.8479541356098319\n",
      "(PQ) Pair quality - Precision is: 0.02144683659160274\n",
      "(FM) Fmeasure is: 0.04171011470281544\n",
      "clustering with NUM_CLUSTERS = 34, \n",
      "(RR) Reduction ratio is: 0.966584564860427\n",
      "(PC) Pair completeness is: 0.752906976744186\n",
      "(RM) Reference metric (Harmonic mean RR and PC) is: 0.8464691391474145\n",
      "(PQ) Pair quality - Precision is: 0.0219435736677116\n",
      "(FM) Fmeasure is: 0.0426442743064131\n",
      "clustering with NUM_CLUSTERS = 35, \n",
      "(RR) Reduction ratio is: 0.9677056791801144\n",
      "(PC) Pair completeness is: 0.752906976744186\n",
      "(RM) Reference metric (Harmonic mean RR and PC) is: 0.8468987540932444\n",
      "(PQ) Pair quality - Precision is: 0.022705356360129745\n",
      "(FM) Fmeasure is: 0.04408135477831675\n",
      "clustering with NUM_CLUSTERS = 36, \n"
     ]
    },
    {
     "name": "stdout",
     "output_type": "stream",
     "text": [
      "(RR) Reduction ratio is: 0.9681020327274786\n",
      "(PC) Pair completeness is: 0.752906976744186\n",
      "(RM) Reference metric (Harmonic mean RR and PC) is: 0.847050504244031\n",
      "(PQ) Pair quality - Precision is: 0.02298748557734978\n",
      "(FM) Fmeasure is: 0.044612867108776155\n",
      "clustering with NUM_CLUSTERS = 37, \n",
      "(RR) Reduction ratio is: 0.9687588471773966\n",
      "(PC) Pair completeness is: 0.752906976744186\n",
      "(RM) Reference metric (Harmonic mean RR and PC) is: 0.8473018220935983\n",
      "(PQ) Pair quality - Precision is: 0.023470774807430903\n",
      "(FM) Fmeasure is: 0.045522453642675105\n",
      "clustering with NUM_CLUSTERS = 38, \n",
      "(RR) Reduction ratio is: 0.9695373987882906\n",
      "(PC) Pair completeness is: 0.752906976744186\n",
      "(RM) Reference metric (Harmonic mean RR and PC) is: 0.8475994721588043\n",
      "(PQ) Pair quality - Precision is: 0.02407063197026022\n",
      "(FM) Fmeasure is: 0.04664985590778097\n",
      "clustering with NUM_CLUSTERS = 39, \n",
      "(RR) Reduction ratio is: 0.9707406149142178\n",
      "(PC) Pair completeness is: 0.7383720930232558\n",
      "(RM) Reference metric (Harmonic mean RR and PC) is: 0.8387601078478619\n",
      "(PQ) Pair quality - Precision is: 0.024576681180454765\n",
      "(FM) Fmeasure is: 0.0475699971907482\n",
      "clustering with NUM_CLUSTERS = 40, \n",
      "(RR) Reduction ratio is: 0.9717824585244323\n",
      "(PC) Pair completeness is: 0.7383720930232558\n",
      "(RM) Reference metric (Harmonic mean RR and PC) is: 0.8391487742608994\n",
      "(PQ) Pair quality - Precision is: 0.025484097521822013\n",
      "(FM) Fmeasure is: 0.0492677722820289\n",
      "clustering with NUM_CLUSTERS = 41, \n",
      "(RR) Reduction ratio is: 0.9719296755563105\n",
      "(PC) Pair completeness is: 0.7383720930232558\n",
      "(RM) Reference metric (Harmonic mean RR and PC) is: 0.8392036563324652\n",
      "(PQ) Pair quality - Precision is: 0.02561775088250126\n",
      "(FM) Fmeasure is: 0.04951749683204991\n",
      "clustering with NUM_CLUSTERS = 42, \n",
      "(RR) Reduction ratio is: 0.9727705112960761\n",
      "(PC) Pair completeness is: 0.7383720930232558\n",
      "(RM) Reference metric (Harmonic mean RR and PC) is: 0.8395169363954942\n",
      "(PQ) Pair quality - Precision is: 0.026408816801829903\n",
      "(FM) Fmeasure is: 0.05099377635013049\n",
      "clustering with NUM_CLUSTERS = 43, \n",
      "(RR) Reduction ratio is: 0.973200838004643\n",
      "(PC) Pair completeness is: 0.7383720930232558\n",
      "(RM) Reference metric (Harmonic mean RR and PC) is: 0.8396771492032458\n",
      "(PQ) Pair quality - Precision is: 0.026832875554616522\n",
      "(FM) Fmeasure is: 0.05178389398572884\n",
      "clustering with NUM_CLUSTERS = 44, \n",
      "(RR) Reduction ratio is: 0.9739086121963648\n",
      "(PC) Pair completeness is: 0.7383720930232558\n",
      "(RM) Reference metric (Harmonic mean RR and PC) is: 0.839940481965041\n",
      "(PQ) Pair quality - Precision is: 0.027560763888888888\n",
      "(FM) Fmeasure is: 0.05313807531380753\n",
      "clustering with NUM_CLUSTERS = 45, \n",
      "(RR) Reduction ratio is: 0.9744861559368099\n",
      "(PC) Pair completeness is: 0.7180232558139535\n",
      "(RM) Reference metric (Harmonic mean RR and PC) is: 0.8268240254068491\n",
      "(PQ) Pair quality - Precision is: 0.027407900577008433\n",
      "(FM) Fmeasure is: 0.052800342026507054\n",
      "clustering with NUM_CLUSTERS = 46, \n",
      "(RR) Reduction ratio is: 0.9746560217428232\n",
      "(PC) Pair completeness is: 0.7180232558139535\n",
      "(RM) Reference metric (Harmonic mean RR and PC) is: 0.8268851628414686\n",
      "(PQ) Pair quality - Precision is: 0.02759159964253798\n",
      "(FM) Fmeasure is: 0.05314113597246128\n",
      "clustering with NUM_CLUSTERS = 47, \n",
      "(RR) Reduction ratio is: 0.9754090934828152\n",
      "(PC) Pair completeness is: 0.6831395348837209\n",
      "(RM) Reference metric (Harmonic mean RR and PC) is: 0.8035224328628394\n",
      "(PQ) Pair quality - Precision is: 0.0270550310845038\n",
      "(FM) Fmeasure is: 0.05204872646733112\n",
      "clustering with NUM_CLUSTERS = 48, \n",
      "(RR) Reduction ratio is: 0.975816771417247\n",
      "(PC) Pair completeness is: 0.6802325581395349\n",
      "(RM) Reference metric (Harmonic mean RR and PC) is: 0.8016456114556293\n",
      "(PQ) Pair quality - Precision is: 0.027394052915008196\n",
      "(FM) Fmeasure is: 0.05266711681296422\n",
      "clustering with NUM_CLUSTERS = 49, \n",
      "(RR) Reduction ratio is: 0.9759866372232603\n",
      "(PC) Pair completeness is: 0.6802325581395349\n",
      "(RM) Reference metric (Harmonic mean RR and PC) is: 0.8017029253219753\n",
      "(PQ) Pair quality - Precision is: 0.02758783305824098\n",
      "(FM) Fmeasure is: 0.053025152957171987\n"
     ]
    }
   ],
   "source": [
    "for i in range(5,50,1):\n",
    "    num_clusters = int(i)\n",
    "    blocks = hierarchy_cluster(tsne_embeddings, {'num_clusters': num_clusters})\n",
    "    calc_index(blocks,table,pairs)"
   ]
  },
  {
   "cell_type": "code",
   "execution_count": 27,
   "metadata": {
    "hidden": true
   },
   "outputs": [
    {
     "name": "stdout",
     "output_type": "stream",
     "text": [
      ">>>>>>>>>>>>>>>>>>>>: 30\n",
      "starting dimension: 4096\n",
      "setting TSNE with n_components: 2 & perplexity: 30\n",
      "early_exaggeration: 12\n",
      "clustering with NUM_CLUSTERS = 29, \n",
      "(RR) Reduction ratio is: 0.9620762294641738\n",
      "(PC) Pair completeness is: 0.875\n",
      "(RM) Reference metric (Harmonic mean RR and PC) is: 0.9164744361497591\n",
      "(PQ) Pair quality - Precision is: 0.47320220298977184\n",
      "(FM) Fmeasure is: 0.61422823178578\n",
      ">>>>>>>>>>>>>>>>>>>>: 35\n",
      "starting dimension: 4096\n",
      "setting TSNE with n_components: 2 & perplexity: 35\n",
      "early_exaggeration: 12\n",
      "clustering with NUM_CLUSTERS = 29, \n",
      "(RR) Reduction ratio is: 0.9624832162699242\n",
      "(PC) Pair completeness is: 0.87243947858473\n",
      "(RM) Reference metric (Harmonic mean RR and PC) is: 0.9152520241901533\n",
      "(PQ) Pair quality - Precision is: 0.47693580199783675\n",
      "(FM) Fmeasure is: 0.6167263153564524\n",
      ">>>>>>>>>>>>>>>>>>>>: 40\n",
      "starting dimension: 4096\n",
      "setting TSNE with n_components: 2 & perplexity: 40\n",
      "early_exaggeration: 12\n",
      "clustering with NUM_CLUSTERS = 29, \n",
      "(RR) Reduction ratio is: 0.9635884062468297\n",
      "(PC) Pair completeness is: 0.8878026070763501\n",
      "(RM) Reference metric (Harmonic mean RR and PC) is: 0.9241443790730425\n",
      "(PQ) Pair quality - Precision is: 0.5000655565753245\n",
      "(FM) Fmeasure is: 0.6397718694959321\n",
      ">>>>>>>>>>>>>>>>>>>>: 45\n",
      "starting dimension: 4096\n",
      "setting TSNE with n_components: 2 & perplexity: 45\n",
      "early_exaggeration: 12\n",
      "clustering with NUM_CLUSTERS = 29, \n",
      "(RR) Reduction ratio is: 0.9620487787412053\n",
      "(PC) Pair completeness is: 0.8093575418994413\n",
      "(RM) Reference metric (Harmonic mean RR and PC) is: 0.8791223398906446\n",
      "(PQ) Pair quality - Precision is: 0.4373859991194415\n",
      "(FM) Fmeasure is: 0.5678820791311094\n",
      ">>>>>>>>>>>>>>>>>>>>: 50\n",
      "starting dimension: 4096\n",
      "setting TSNE with n_components: 2 & perplexity: 50\n",
      "early_exaggeration: 12\n",
      "clustering with NUM_CLUSTERS = 29, \n",
      "(RR) Reduction ratio is: 0.9629880708706057\n",
      "(PC) Pair completeness is: 0.8118016759776536\n",
      "(RM) Reference metric (Harmonic mean RR and PC) is: 0.8809554272752776\n",
      "(PQ) Pair quality - Precision is: 0.4498403792202767\n",
      "(FM) Fmeasure is: 0.5788982259570494\n"
     ]
    }
   ],
   "source": [
    "for i in [30,35,40,45,50]:\n",
    "    print('>>>>>>>>>>>>>>>>>>>>: '+str(i))\n",
    "    tsne_embeddings = tsne_dim_reduction(\n",
    "    embeddings_tokens, \n",
    "    num_components=2,\n",
    "    early_exaggeration=12,\n",
    "    verbose=1,\n",
    "    perplexity=i,\n",
    "    method=\"barnes_hut\")\n",
    "    num_clusters = 29\n",
    "    blocks = hierarchy_cluster(tsne_embeddings, {'num_clusters': num_clusters})\n",
    "    calc_index(blocks,table,pairs)"
   ]
  },
  {
   "cell_type": "markdown",
   "metadata": {},
   "source": [
    "# Best"
   ]
  },
  {
   "cell_type": "code",
   "execution_count": 28,
   "metadata": {},
   "outputs": [],
   "source": [
    "#(RR) Reduction ratio is: 0.9006822943208199\n",
    "#(PC) Pair completeness is: 0.9622093023255814\n",
    "#(RM) Reference metric (Harmonic mean RR and PC) is: 0.9304297508191931\n",
    "#(PQ) Pair quality - Precision is: 0.009435306861263933\n",
    "#(FM) Fmeasure is: 0.018687367678193366\n",
    "\n",
    "#['last_name', 'first_name', 'zip_code', 'street_address']\n",
    "#{'name': 'Infersent', 'model_type': 'bilstm', 'char_level': False, 'model_version': 2, 'rnn_dim': 2048, 'verbose': 1}\n",
    "#{'name': 'TSNE', 'num_components': 2, 'early_exaggeration': 12, 'verbose': 1, 'perplexity': 40, 'method': 'barnes_hut'}\n",
    "#{'name': 'hierarchy', 'num_clusters': 11}"
   ]
  },
  {
   "cell_type": "code",
   "execution_count": null,
   "metadata": {},
   "outputs": [],
   "source": []
  }
 ],
 "metadata": {
  "kernelspec": {
   "display_name": "Python 3.7.7 64-bit ('thesisEnv': conda)",
   "language": "python",
   "name": "python37764bitthesisenvcondad61bb62be9734ae9b8ba15c07cc7706a"
  },
  "language_info": {
   "codemirror_mode": {
    "name": "ipython",
    "version": 3
   },
   "file_extension": ".py",
   "mimetype": "text/x-python",
   "name": "python",
   "nbconvert_exporter": "python",
   "pygments_lexer": "ipython3",
   "version": "3.7.7"
  },
  "toc": {
   "base_numbering": 1,
   "nav_menu": {},
   "number_sections": true,
   "sideBar": true,
   "skip_h1_title": false,
   "title_cell": "Table of Contents",
   "title_sidebar": "Contents",
   "toc_cell": true,
   "toc_position": {},
   "toc_section_display": true,
   "toc_window_display": false
  },
  "varInspector": {
   "cols": {
    "lenName": 16,
    "lenType": 16,
    "lenVar": 40
   },
   "kernels_config": {
    "python": {
     "delete_cmd_postfix": "",
     "delete_cmd_prefix": "del ",
     "library": "var_list.py",
     "varRefreshCmd": "print(var_dic_list())"
    },
    "r": {
     "delete_cmd_postfix": ") ",
     "delete_cmd_prefix": "rm(",
     "library": "var_list.r",
     "varRefreshCmd": "cat(var_dic_list()) "
    }
   },
   "types_to_exclude": [
    "module",
    "function",
    "builtin_function_or_method",
    "instance",
    "_Feature"
   ],
   "window_display": false
  }
 },
 "nbformat": 4,
 "nbformat_minor": 4
}
