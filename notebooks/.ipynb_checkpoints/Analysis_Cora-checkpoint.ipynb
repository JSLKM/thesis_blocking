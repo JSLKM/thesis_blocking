{
 "cells": [
  {
   "cell_type": "markdown",
   "metadata": {
    "toc": true
   },
   "source": [
    "<h1>Table of Contents<span class=\"tocSkip\"></span></h1>\n",
    "<div class=\"toc\"><ul class=\"toc-item\"><li><span><a href=\"#Setup\" data-toc-modified-id=\"Setup-1\"><span class=\"toc-item-num\">1&nbsp;&nbsp;</span>Setup</a></span></li><li><span><a href=\"#Import-dataset\" data-toc-modified-id=\"Import-dataset-2\"><span class=\"toc-item-num\">2&nbsp;&nbsp;</span>Import dataset</a></span></li><li><span><a href=\"#Sentence-embedding\" data-toc-modified-id=\"Sentence-embedding-3\"><span class=\"toc-item-num\">3&nbsp;&nbsp;</span>Sentence embedding</a></span><ul class=\"toc-item\"><li><span><a href=\"#Infersent\" data-toc-modified-id=\"Infersent-3.1\"><span class=\"toc-item-num\">3.1&nbsp;&nbsp;</span>Infersent</a></span></li></ul></li><li><span><a href=\"#Dimensionality-reduction\" data-toc-modified-id=\"Dimensionality-reduction-4\"><span class=\"toc-item-num\">4&nbsp;&nbsp;</span>Dimensionality reduction</a></span><ul class=\"toc-item\"><li><span><a href=\"#TSNE\" data-toc-modified-id=\"TSNE-4.1\"><span class=\"toc-item-num\">4.1&nbsp;&nbsp;</span>TSNE</a></span></li></ul></li><li><span><a href=\"#Blocking\" data-toc-modified-id=\"Blocking-5\"><span class=\"toc-item-num\">5&nbsp;&nbsp;</span>Blocking</a></span></li><li><span><a href=\"#Evaluation\" data-toc-modified-id=\"Evaluation-6\"><span class=\"toc-item-num\">6&nbsp;&nbsp;</span>Evaluation</a></span><ul class=\"toc-item\"><li><span><a href=\"#bilstm,-rnn_dim-2048\" data-toc-modified-id=\"bilstm,-rnn_dim-2048-6.1\"><span class=\"toc-item-num\">6.1&nbsp;&nbsp;</span>bilstm, rnn_dim 2048</a></span></li><li><span><a href=\"#bilstrm,-rnn_dim:-1024\" data-toc-modified-id=\"bilstrm,-rnn_dim:-1024-6.2\"><span class=\"toc-item-num\">6.2&nbsp;&nbsp;</span>bilstrm, rnn_dim: 1024</a></span></li><li><span><a href=\"#bilstm,-rnn_dim:-300\" data-toc-modified-id=\"bilstm,-rnn_dim:-300-6.3\"><span class=\"toc-item-num\">6.3&nbsp;&nbsp;</span>bilstm, rnn_dim: 300</a></span></li><li><span><a href=\"#lstm,-rnn_dim:-2048\" data-toc-modified-id=\"lstm,-rnn_dim:-2048-6.4\"><span class=\"toc-item-num\">6.4&nbsp;&nbsp;</span>lstm, rnn_dim: 2048</a></span></li><li><span><a href=\"#lstm,-rnn_dim:-1024\" data-toc-modified-id=\"lstm,-rnn_dim:-1024-6.5\"><span class=\"toc-item-num\">6.5&nbsp;&nbsp;</span>lstm, rnn_dim: 1024</a></span></li><li><span><a href=\"#lstm,-rnn_dim:-300\" data-toc-modified-id=\"lstm,-rnn_dim:-300-6.6\"><span class=\"toc-item-num\">6.6&nbsp;&nbsp;</span>lstm, rnn_dim: 300</a></span></li><li><span><a href=\"#Searching\" data-toc-modified-id=\"Searching-6.7\"><span class=\"toc-item-num\">6.7&nbsp;&nbsp;</span>Searching</a></span></li></ul></li><li><span><a href=\"#Best\" data-toc-modified-id=\"Best-7\"><span class=\"toc-item-num\">7&nbsp;&nbsp;</span>Best</a></span></li></ul></div>"
   ]
  },
  {
   "cell_type": "markdown",
   "metadata": {
    "heading_collapsed": true
   },
   "source": [
    "# Setup "
   ]
  },
  {
   "cell_type": "code",
   "execution_count": 1,
   "metadata": {
    "hidden": true
   },
   "outputs": [],
   "source": [
    "import os\n",
    "import sys\n",
    "import time\n",
    "import numpy as np\n",
    "import matplotlib.pyplot as plt\n",
    "\n",
    "module_path = os.path.abspath(os.path.join('..'))\n",
    "if module_path not in sys.path:\n",
    "    sys.path.append(module_path)\n",
    "    \n",
    "from preprocessing_datasets.preprocessing_utilities import get_labels_by\n",
    "\n",
    "params = {}"
   ]
  },
  {
   "cell_type": "markdown",
   "metadata": {
    "heading_collapsed": true
   },
   "source": [
    "# Import dataset"
   ]
  },
  {
   "cell_type": "code",
   "execution_count": 2,
   "metadata": {
    "hidden": true
   },
   "outputs": [],
   "source": [
    "from preprocessing_datasets.preprocessing_restaurant import clean_restaurant\n",
    "table, pairs = clean_restaurant()"
   ]
  },
  {
   "cell_type": "code",
   "execution_count": 3,
   "metadata": {
    "hidden": true
   },
   "outputs": [
    {
     "data": {
      "text/html": [
       "<div>\n",
       "<style scoped>\n",
       "    .dataframe tbody tr th:only-of-type {\n",
       "        vertical-align: middle;\n",
       "    }\n",
       "\n",
       "    .dataframe tbody tr th {\n",
       "        vertical-align: top;\n",
       "    }\n",
       "\n",
       "    .dataframe thead th {\n",
       "        text-align: right;\n",
       "    }\n",
       "</style>\n",
       "<table border=\"1\" class=\"dataframe\">\n",
       "  <thead>\n",
       "    <tr style=\"text-align: right;\">\n",
       "      <th></th>\n",
       "      <th>citruname</th>\n",
       "      <th>addr</th>\n",
       "      <th>city</th>\n",
       "      <th>phone</th>\n",
       "      <th>type</th>\n",
       "    </tr>\n",
       "  </thead>\n",
       "  <tbody>\n",
       "    <tr>\n",
       "      <th>0</th>\n",
       "      <td>arnie morton's of chicago</td>\n",
       "      <td>\"435 s. la cienega blv.\"</td>\n",
       "      <td>\"los angeles\"</td>\n",
       "      <td>\"310/246-1501\"</td>\n",
       "      <td>\"american\"</td>\n",
       "    </tr>\n",
       "    <tr>\n",
       "      <th>1</th>\n",
       "      <td>arnie morton's of chicago</td>\n",
       "      <td>\"435 s. la cienega blvd.\"</td>\n",
       "      <td>\"los angeles\"</td>\n",
       "      <td>\"310-246-1501\"</td>\n",
       "      <td>\"steakhouses\"</td>\n",
       "    </tr>\n",
       "    <tr>\n",
       "      <th>2</th>\n",
       "      <td>art's delicatessen</td>\n",
       "      <td>\"12224 ventura blvd.\"</td>\n",
       "      <td>\"studio city\"</td>\n",
       "      <td>\"818/762-1221\"</td>\n",
       "      <td>\"american\"</td>\n",
       "    </tr>\n",
       "    <tr>\n",
       "      <th>3</th>\n",
       "      <td>art's deli</td>\n",
       "      <td>\"12224 ventura blvd.\"</td>\n",
       "      <td>\"studio city\"</td>\n",
       "      <td>\"818-762-1221\"</td>\n",
       "      <td>\"delis\"</td>\n",
       "    </tr>\n",
       "    <tr>\n",
       "      <th>4</th>\n",
       "      <td>hotel bel-air</td>\n",
       "      <td>\"701 stone canyon rd.\"</td>\n",
       "      <td>\"bel air\"</td>\n",
       "      <td>\"310/472-1211\"</td>\n",
       "      <td>\"californian\"</td>\n",
       "    </tr>\n",
       "    <tr>\n",
       "      <th>...</th>\n",
       "      <td>...</td>\n",
       "      <td>...</td>\n",
       "      <td>...</td>\n",
       "      <td>...</td>\n",
       "      <td>...</td>\n",
       "    </tr>\n",
       "    <tr>\n",
       "      <th>859</th>\n",
       "      <td>ti couz</td>\n",
       "      <td>\"3108 16th st.\"</td>\n",
       "      <td>\"san francisco\"</td>\n",
       "      <td>\"415-252-7373\"</td>\n",
       "      <td>\"french\"</td>\n",
       "    </tr>\n",
       "    <tr>\n",
       "      <th>860</th>\n",
       "      <td>trio cafe</td>\n",
       "      <td>\"1870 fillmore st.\"</td>\n",
       "      <td>\"san francisco\"</td>\n",
       "      <td>\"415-563-2248\"</td>\n",
       "      <td>\"american\"</td>\n",
       "    </tr>\n",
       "    <tr>\n",
       "      <th>861</th>\n",
       "      <td>tu lan</td>\n",
       "      <td>\"8 sixth st.\"</td>\n",
       "      <td>\"san francisco\"</td>\n",
       "      <td>\"415-626-0927\"</td>\n",
       "      <td>\"vietnamese\"</td>\n",
       "    </tr>\n",
       "    <tr>\n",
       "      <th>862</th>\n",
       "      <td>vicolo pizzeria</td>\n",
       "      <td>\"201 ivy st.\"</td>\n",
       "      <td>\"san francisco\"</td>\n",
       "      <td>\"415-863-2382\"</td>\n",
       "      <td>\"pizza\"</td>\n",
       "    </tr>\n",
       "    <tr>\n",
       "      <th>863</th>\n",
       "      <td>wa-ha-ka oaxaca mexican grill</td>\n",
       "      <td>\"2141 polk st.\"</td>\n",
       "      <td>\"san francisco\"</td>\n",
       "      <td>\"415-775-1055\"</td>\n",
       "      <td>\"mexican\"</td>\n",
       "    </tr>\n",
       "  </tbody>\n",
       "</table>\n",
       "<p>864 rows × 5 columns</p>\n",
       "</div>"
      ],
      "text/plain": [
       "                         citruname                       addr  \\\n",
       "0        arnie morton's of chicago   \"435 s. la cienega blv.\"   \n",
       "1        arnie morton's of chicago  \"435 s. la cienega blvd.\"   \n",
       "2               art's delicatessen      \"12224 ventura blvd.\"   \n",
       "3                       art's deli      \"12224 ventura blvd.\"   \n",
       "4                    hotel bel-air     \"701 stone canyon rd.\"   \n",
       "..                             ...                        ...   \n",
       "859                        ti couz            \"3108 16th st.\"   \n",
       "860                      trio cafe        \"1870 fillmore st.\"   \n",
       "861                         tu lan              \"8 sixth st.\"   \n",
       "862                vicolo pizzeria              \"201 ivy st.\"   \n",
       "863  wa-ha-ka oaxaca mexican grill            \"2141 polk st.\"   \n",
       "\n",
       "                city           phone           type  \n",
       "0      \"los angeles\"  \"310/246-1501\"     \"american\"  \n",
       "1      \"los angeles\"  \"310-246-1501\"  \"steakhouses\"  \n",
       "2      \"studio city\"  \"818/762-1221\"     \"american\"  \n",
       "3      \"studio city\"  \"818-762-1221\"        \"delis\"  \n",
       "4          \"bel air\"  \"310/472-1211\"  \"californian\"  \n",
       "..               ...             ...            ...  \n",
       "859  \"san francisco\"  \"415-252-7373\"       \"french\"  \n",
       "860  \"san francisco\"  \"415-563-2248\"     \"american\"  \n",
       "861  \"san francisco\"  \"415-626-0927\"   \"vietnamese\"  \n",
       "862  \"san francisco\"  \"415-863-2382\"        \"pizza\"  \n",
       "863  \"san francisco\"  \"415-775-1055\"      \"mexican\"  \n",
       "\n",
       "[864 rows x 5 columns]"
      ]
     },
     "execution_count": 3,
     "metadata": {},
     "output_type": "execute_result"
    }
   ],
   "source": [
    "table"
   ]
  },
  {
   "cell_type": "markdown",
   "metadata": {
    "heading_collapsed": true
   },
   "source": [
    "# Sentence embedding"
   ]
  },
  {
   "cell_type": "markdown",
   "metadata": {
    "hidden": true
   },
   "source": [
    "## Infersent"
   ]
  },
  {
   "cell_type": "markdown",
   "metadata": {
    "hidden": true
   },
   "source": [
    "Setup model"
   ]
  },
  {
   "cell_type": "code",
   "execution_count": 28,
   "metadata": {
    "hidden": true
   },
   "outputs": [
    {
     "name": "stdout",
     "output_type": "stream",
     "text": [
      "TIME: 187.01089000701904\n"
     ]
    }
   ],
   "source": [
    "from embedding_algorithms.inferSent import set_RNN_embedding\n",
    "start = time.time()\n",
    "model_type = \"lstm\" \n",
    "char_level = False\n",
    "model_version = 2\n",
    "rnn_dim = 2048\n",
    "verbose = 1\n",
    "set_RNN_embedding(model_type, char_level, model_version, rnn_dim, verbose)\n",
    "print(\"TIME: {0}\".format(time.time() - start))\n",
    "\n",
    "params['embedding'] = {\n",
    "    'name': 'Infersent',\n",
    "    'model_type': model_type,\n",
    "    'char_level': char_level,\n",
    "    'model_version': model_version,\n",
    "    'rnn_dim': rnn_dim,\n",
    "    'verbose': verbose\n",
    "}"
   ]
  },
  {
   "cell_type": "markdown",
   "metadata": {
    "hidden": true
   },
   "source": [
    "Embedding"
   ]
  },
  {
   "cell_type": "code",
   "execution_count": 30,
   "metadata": {
    "hidden": true
   },
   "outputs": [
    {
     "name": "stdout",
     "output_type": "stream",
     "text": [
      "attrs: ['citruname', 'addr']\n"
     ]
    }
   ],
   "source": [
    "from embedding_algorithms.inferSent import RNN_embedding\n",
    "attr_list = ['citruname','addr']\n",
    "params['attr_list'] = attr_list\n",
    "embeddings_tokens = RNN_embedding(table, attr_list, model_type, char_level)\n",
    "embeddings_tokens = np.array(embeddings_tokens)"
   ]
  },
  {
   "cell_type": "markdown",
   "metadata": {
    "heading_collapsed": true
   },
   "source": [
    "# Dimensionality reduction"
   ]
  },
  {
   "cell_type": "markdown",
   "metadata": {
    "hidden": true
   },
   "source": [
    "## TSNE"
   ]
  },
  {
   "cell_type": "code",
   "execution_count": 31,
   "metadata": {
    "hidden": true
   },
   "outputs": [
    {
     "name": "stdout",
     "output_type": "stream",
     "text": [
      "starting dimension: 2048\n",
      "setting TSNE with n_components: 2 & perplexity: 40\n",
      "early_exaggeration: 12\n"
     ]
    }
   ],
   "source": [
    "from dimensionality_reduction_algorithms.tsne import tsne_dim_reduction\n",
    "tsne_embeddings = tsne_dim_reduction(\n",
    "    embeddings_tokens, \n",
    "    num_components=2,\n",
    "    early_exaggeration=12,\n",
    "    verbose=1,\n",
    "    perplexity=40,\n",
    "    method=\"barnes_hut\")\n",
    "\n",
    "params['reduction'] = {\n",
    "    'name': 'TSNE',\n",
    "    'num_components': 2,\n",
    "    'early_exaggeration': 12,\n",
    "    'verbose': 1,\n",
    "    'perplexity': 40,\n",
    "    'method': \"barnes_hut\"\n",
    "}"
   ]
  },
  {
   "cell_type": "markdown",
   "metadata": {
    "heading_collapsed": true
   },
   "source": [
    "# Blocking"
   ]
  },
  {
   "cell_type": "markdown",
   "metadata": {
    "hidden": true
   },
   "source": [
    "hierarchy_cluster"
   ]
  },
  {
   "cell_type": "code",
   "execution_count": 32,
   "metadata": {
    "hidden": true
   },
   "outputs": [
    {
     "name": "stdout",
     "output_type": "stream",
     "text": [
      "clustering with NUM_CLUSTERS = 136, \n"
     ]
    }
   ],
   "source": [
    "from cluster_algorithms.hierarchy_cluster import hierarchy_cluster\n",
    "num_clusters = 136\n",
    "blocks = hierarchy_cluster(tsne_embeddings, {'num_clusters': num_clusters})\n",
    "\n",
    "params['blocking'] = {\n",
    "    'name': 'hierarchy',\n",
    "    'num_clusters': num_clusters\n",
    "}"
   ]
  },
  {
   "cell_type": "markdown",
   "metadata": {
    "heading_collapsed": true
   },
   "source": [
    "# Evaluation"
   ]
  },
  {
   "cell_type": "markdown",
   "metadata": {
    "heading_collapsed": true,
    "hidden": true
   },
   "source": [
    "## bilstm, rnn_dim 2048"
   ]
  },
  {
   "cell_type": "code",
   "execution_count": 39,
   "metadata": {
    "hidden": true
   },
   "outputs": [
    {
     "name": "stdout",
     "output_type": "stream",
     "text": [
      "(RR) Reduction ratio is: 0.9894103257370929\n",
      "(PC) Pair completeness is: 0.7857142857142857\n",
      "(RM) Reference metric (Harmonic mean RR and PC) is: 0.8758752172662914\n",
      "(PQ) Pair quality - Precision is: 0.022289766970618033\n",
      "(FM) Fmeasure is: 0.04334975369458128\n",
      "\n",
      "['citruname', 'addr']\n",
      "{'name': 'Infersent', 'model_type': 'bilstm', 'char_level': False, 'model_version': 2, 'rnn_dim': 2048, 'verbose': 1}\n",
      "{'name': 'TSNE', 'num_components': 2, 'early_exaggeration': 12, 'verbose': 1, 'perplexity': 40, 'method': 'barnes_hut'}\n",
      "{'name': 'hierarchy', 'num_clusters': 100}\n"
     ]
    }
   ],
   "source": [
    "from evaluation import calc_index\n",
    "calc_index(blocks,table,pairs)\n",
    "print()\n",
    "print(params['attr_list'])\n",
    "print(params['embedding'])\n",
    "print(params['reduction'])\n",
    "print(params['blocking'])"
   ]
  },
  {
   "cell_type": "code",
   "execution_count": 54,
   "metadata": {
    "hidden": true
   },
   "outputs": [
    {
     "name": "stdout",
     "output_type": "stream",
     "text": [
      "(RR) Reduction ratio is: 0.989367409124072\n",
      "(PC) Pair completeness is: 0.7321428571428571\n",
      "(RM) Reference metric (Harmonic mean RR and PC) is: 0.8415381492332136\n",
      "(PQ) Pair quality - Precision is: 0.020686175580221997\n",
      "(FM) Fmeasure is: 0.04023552502453385\n",
      "\n",
      "['citruname', 'addr', 'city']\n",
      "{'name': 'Infersent', 'model_type': 'bilstm', 'char_level': False, 'model_version': 2, 'rnn_dim': 2048, 'verbose': 1}\n",
      "{'name': 'TSNE', 'num_components': 2, 'early_exaggeration': 12, 'verbose': 1, 'perplexity': 40, 'method': 'barnes_hut'}\n",
      "{'name': 'hierarchy', 'num_clusters': 100}\n"
     ]
    }
   ],
   "source": [
    "from evaluation import calc_index\n",
    "calc_index(blocks,table,pairs)\n",
    "print()\n",
    "print(params['attr_list'])\n",
    "print(params['embedding'])\n",
    "print(params['reduction'])\n",
    "print(params['blocking'])"
   ]
  },
  {
   "cell_type": "markdown",
   "metadata": {
    "heading_collapsed": true,
    "hidden": true
   },
   "source": [
    "## bilstrm, rnn_dim: 1024"
   ]
  },
  {
   "cell_type": "code",
   "execution_count": 12,
   "metadata": {
    "hidden": true
   },
   "outputs": [
    {
     "name": "stdout",
     "output_type": "stream",
     "text": [
      "(RR) Reduction ratio is: 0.9922803742328655\n",
      "(PC) Pair completeness is: 0.7857142857142857\n",
      "(RM) Reference metric (Harmonic mean RR and PC) is: 0.8769979832131264\n",
      "(PQ) Pair quality - Precision is: 0.030576789437109102\n",
      "(FM) Fmeasure is: 0.0588628762541806\n",
      "\n",
      "['citruname', 'addr', 'city']\n",
      "{'name': 'Infersent', 'model_type': 'bilstm', 'char_level': False, 'model_version': 2, 'rnn_dim': 1024, 'verbose': 1}\n",
      "{'name': 'TSNE', 'num_components': 2, 'early_exaggeration': 12, 'verbose': 1, 'perplexity': 40, 'method': 'barnes_hut'}\n",
      "{'name': 'hierarchy', 'num_clusters': 136}\n"
     ]
    }
   ],
   "source": [
    "from evaluation import calc_index\n",
    "calc_index(blocks,table,pairs)\n",
    "print()\n",
    "print(params['attr_list'])\n",
    "print(params['embedding'])\n",
    "print(params['reduction'])\n",
    "print(params['blocking'])"
   ]
  },
  {
   "cell_type": "code",
   "execution_count": 16,
   "metadata": {
    "hidden": true,
    "scrolled": true
   },
   "outputs": [
    {
     "name": "stdout",
     "output_type": "stream",
     "text": [
      "(RR) Reduction ratio is: 0.9923420668640831\n",
      "(PC) Pair completeness is: 0.875\n",
      "(RM) Reference metric (Harmonic mean RR and PC) is: 0.9299841993751572\n",
      "(PQ) Pair quality - Precision is: 0.034325744308231175\n",
      "(FM) Fmeasure is: 0.06605999325918437\n",
      "\n",
      "['citruname', 'addr']\n",
      "{'name': 'Infersent', 'model_type': 'bilstm', 'char_level': False, 'model_version': 2, 'rnn_dim': 1024, 'verbose': 1}\n",
      "{'name': 'TSNE', 'num_components': 2, 'early_exaggeration': 12, 'verbose': 1, 'perplexity': 40, 'method': 'barnes_hut'}\n",
      "{'name': 'hierarchy', 'num_clusters': 136}\n"
     ]
    }
   ],
   "source": [
    "from evaluation import calc_index\n",
    "calc_index(blocks,table,pairs)\n",
    "print()\n",
    "print(params['attr_list'])\n",
    "print(params['embedding'])\n",
    "print(params['reduction'])\n",
    "print(params['blocking'])"
   ]
  },
  {
   "cell_type": "code",
   "execution_count": 26,
   "metadata": {
    "hidden": true
   },
   "outputs": [
    {
     "name": "stdout",
     "output_type": "stream",
     "text": [
      "(RR) Reduction ratio is: 0.992468134414832\n",
      "(PC) Pair completeness is: 0.8392857142857143\n",
      "(RM) Reference metric (Harmonic mean RR and PC) is: 0.9094719005930528\n",
      "(PQ) Pair quality - Precision is: 0.03347578347578348\n",
      "(FM) Fmeasure is: 0.06438356164383562\n",
      "\n",
      "['citruname']\n",
      "{'name': 'Infersent', 'model_type': 'bilstm', 'char_level': False, 'model_version': 2, 'rnn_dim': 1024, 'verbose': 1}\n",
      "{'name': 'TSNE', 'num_components': 2, 'early_exaggeration': 12, 'verbose': 1, 'perplexity': 40, 'method': 'barnes_hut'}\n",
      "{'name': 'hierarchy', 'num_clusters': 136}\n"
     ]
    }
   ],
   "source": [
    "from evaluation import calc_index\n",
    "calc_index(blocks,table,pairs)\n",
    "print()\n",
    "print(params['attr_list'])\n",
    "print(params['embedding'])\n",
    "print(params['reduction'])\n",
    "print(params['blocking'])"
   ]
  },
  {
   "cell_type": "code",
   "execution_count": 30,
   "metadata": {
    "hidden": true
   },
   "outputs": [
    {
     "name": "stdout",
     "output_type": "stream",
     "text": [
      "(RR) Reduction ratio is: 0.9917975623363804\n",
      "(PC) Pair completeness is: 0.4642857142857143\n",
      "(RM) Reference metric (Harmonic mean RR and PC) is: 0.6324877801280961\n",
      "(PQ) Pair quality - Precision is: 0.017004578155657292\n",
      "(FM) Fmeasure is: 0.03280757097791798\n",
      "\n",
      "['addr', 'city']\n",
      "{'name': 'Infersent', 'model_type': 'bilstm', 'char_level': False, 'model_version': 2, 'rnn_dim': 1024, 'verbose': 1}\n",
      "{'name': 'TSNE', 'num_components': 2, 'early_exaggeration': 12, 'verbose': 1, 'perplexity': 40, 'method': 'barnes_hut'}\n",
      "{'name': 'hierarchy', 'num_clusters': 136}\n"
     ]
    }
   ],
   "source": [
    "from evaluation import calc_index\n",
    "calc_index(blocks,table,pairs)\n",
    "print()\n",
    "print(params['attr_list'])\n",
    "print(params['embedding'])\n",
    "print(params['reduction'])\n",
    "print(params['blocking'])"
   ]
  },
  {
   "cell_type": "code",
   "execution_count": 34,
   "metadata": {
    "hidden": true
   },
   "outputs": [
    {
     "name": "stdout",
     "output_type": "stream",
     "text": [
      "(RR) Reduction ratio is: 0.9924466761083215\n",
      "(PC) Pair completeness is: 0.6964285714285714\n",
      "(RM) Reference metric (Harmonic mean RR and PC) is: 0.8184952936804223\n",
      "(PQ) Pair quality - Precision is: 0.027698863636363636\n",
      "(FM) Fmeasure is: 0.05327868852459017\n",
      "\n",
      "['addr']\n",
      "{'name': 'Infersent', 'model_type': 'bilstm', 'char_level': False, 'model_version': 2, 'rnn_dim': 1024, 'verbose': 1}\n",
      "{'name': 'TSNE', 'num_components': 2, 'early_exaggeration': 12, 'verbose': 1, 'perplexity': 40, 'method': 'barnes_hut'}\n",
      "{'name': 'hierarchy', 'num_clusters': 136}\n"
     ]
    }
   ],
   "source": [
    "from evaluation import calc_index\n",
    "calc_index(blocks,table,pairs)\n",
    "print()\n",
    "print(params['attr_list'])\n",
    "print(params['embedding'])\n",
    "print(params['reduction'])\n",
    "print(params['blocking'])"
   ]
  },
  {
   "cell_type": "markdown",
   "metadata": {
    "heading_collapsed": true,
    "hidden": true
   },
   "source": [
    "## bilstm, rnn_dim: 300"
   ]
  },
  {
   "cell_type": "code",
   "execution_count": 9,
   "metadata": {
    "hidden": true
   },
   "outputs": [
    {
     "name": "stdout",
     "output_type": "stream",
     "text": [
      "(RR) Reduction ratio is: 0.9920550620145058\n",
      "(PC) Pair completeness is: 0.8303571428571429\n",
      "(RM) Reference metric (Harmonic mean RR and PC) is: 0.9040325834619262\n",
      "(PQ) Pair quality - Precision is: 0.03139770425388251\n",
      "(FM) Fmeasure is: 0.060507482108002594\n",
      "\n",
      "['citruname', 'addr']\n",
      "{'name': 'Infersent', 'model_type': 'bilstm', 'char_level': False, 'model_version': 2, 'rnn_dim': 300, 'verbose': 1}\n",
      "{'name': 'TSNE', 'num_components': 2, 'early_exaggeration': 12, 'verbose': 1, 'perplexity': 40, 'method': 'barnes_hut'}\n",
      "{'name': 'hierarchy', 'num_clusters': 136}\n"
     ]
    }
   ],
   "source": [
    "from evaluation import calc_index\n",
    "calc_index(blocks,table,pairs)\n",
    "print()\n",
    "print(params['attr_list'])\n",
    "print(params['embedding'])\n",
    "print(params['reduction'])\n",
    "print(params['blocking'])"
   ]
  },
  {
   "cell_type": "code",
   "execution_count": 15,
   "metadata": {
    "hidden": true
   },
   "outputs": [
    {
     "name": "stdout",
     "output_type": "stream",
     "text": [
      "(RR) Reduction ratio is: 0.9924654521265182\n",
      "(PC) Pair completeness is: 0.8482142857142857\n",
      "(RM) Reference metric (Harmonic mean RR and PC) is: 0.9146875007806573\n",
      "(PQ) Pair quality - Precision is: 0.03381986472054112\n",
      "(FM) Fmeasure is: 0.06504621704895584\n",
      "\n",
      "['citruname', 'addr']\n",
      "{'name': 'Infersent', 'model_type': 'bilstm', 'char_level': False, 'model_version': 2, 'rnn_dim': 300, 'verbose': 1}\n",
      "{'name': 'TSNE', 'num_components': 2, 'early_exaggeration': 12, 'verbose': 1, 'perplexity': 40, 'method': 'barnes_hut'}\n",
      "{'name': 'hierarchy', 'num_clusters': 136}\n"
     ]
    }
   ],
   "source": [
    "from evaluation import calc_index\n",
    "calc_index(blocks,table,pairs)\n",
    "print()\n",
    "print(params['attr_list'])\n",
    "print(params['embedding'])\n",
    "print(params['reduction'])\n",
    "print(params['blocking'])"
   ]
  },
  {
   "cell_type": "markdown",
   "metadata": {
    "hidden": true
   },
   "source": [
    "## lstm, rnn_dim: 2048"
   ]
  },
  {
   "cell_type": "code",
   "execution_count": 33,
   "metadata": {
    "hidden": true
   },
   "outputs": [
    {
     "name": "stdout",
     "output_type": "stream",
     "text": [
      "(RR) Reduction ratio is: 0.9924064417836145\n",
      "(PC) Pair completeness is: 0.7589285714285714\n",
      "(RM) Reference metric (Harmonic mean RR and PC) is: 0.8601045459120267\n",
      "(PQ) Pair quality - Precision is: 0.03002472624514306\n",
      "(FM) Fmeasure is: 0.057764186204553175\n",
      "\n",
      "['citruname', 'addr']\n",
      "{'name': 'Infersent', 'model_type': 'lstm', 'char_level': False, 'model_version': 2, 'rnn_dim': 2048, 'verbose': 1}\n",
      "{'name': 'TSNE', 'num_components': 2, 'early_exaggeration': 12, 'verbose': 1, 'perplexity': 40, 'method': 'barnes_hut'}\n",
      "{'name': 'hierarchy', 'num_clusters': 136}\n"
     ]
    }
   ],
   "source": [
    "from evaluation import calc_index\n",
    "calc_index(blocks,table,pairs)\n",
    "print()\n",
    "print(params['attr_list'])\n",
    "print(params['embedding'])\n",
    "print(params['reduction'])\n",
    "print(params['blocking'])"
   ]
  },
  {
   "cell_type": "markdown",
   "metadata": {
    "heading_collapsed": true,
    "hidden": true
   },
   "source": [
    "## lstm, rnn_dim: 1024"
   ]
  },
  {
   "cell_type": "code",
   "execution_count": 26,
   "metadata": {
    "hidden": true
   },
   "outputs": [
    {
     "name": "stdout",
     "output_type": "stream",
     "text": [
      "(RR) Reduction ratio is: 0.992301832539376\n",
      "(PC) Pair completeness is: 0.7410714285714286\n",
      "(RM) Reference metric (Harmonic mean RR and PC) is: 0.8484803049779988\n",
      "(PQ) Pair quality - Precision is: 0.0289198606271777\n",
      "(FM) Fmeasure is: 0.05566733735747821\n",
      "\n",
      "['citruname', 'addr']\n",
      "{'name': 'Infersent', 'model_type': 'lstm', 'char_level': False, 'model_version': 2, 'rnn_dim': 1024, 'verbose': 1}\n",
      "{'name': 'TSNE', 'num_components': 2, 'early_exaggeration': 12, 'verbose': 1, 'perplexity': 40, 'method': 'barnes_hut'}\n",
      "{'name': 'hierarchy', 'num_clusters': 136}\n"
     ]
    }
   ],
   "source": [
    "from evaluation import calc_index\n",
    "calc_index(blocks,table,pairs)\n",
    "print()\n",
    "print(params['attr_list'])\n",
    "print(params['embedding'])\n",
    "print(params['reduction'])\n",
    "print(params['blocking'])"
   ]
  },
  {
   "cell_type": "markdown",
   "metadata": {
    "heading_collapsed": true,
    "hidden": true
   },
   "source": [
    "## lstm, rnn_dim: 300"
   ]
  },
  {
   "cell_type": "code",
   "execution_count": 20,
   "metadata": {
    "hidden": true
   },
   "outputs": [
    {
     "name": "stdout",
     "output_type": "stream",
     "text": [
      "(RR) Reduction ratio is: 0.9925298270460495\n",
      "(PC) Pair completeness is: 0.7232142857142857\n",
      "(RM) Reference metric (Harmonic mean RR and PC) is: 0.8367352037856011\n",
      "(PQ) Pair quality - Precision is: 0.029084380610412925\n",
      "(FM) Fmeasure is: 0.05591991715567828\n",
      "\n",
      "['citruname', 'addr']\n",
      "{'name': 'Infersent', 'model_type': 'lstm', 'char_level': False, 'model_version': 2, 'rnn_dim': 300, 'verbose': 1}\n",
      "{'name': 'TSNE', 'num_components': 2, 'early_exaggeration': 12, 'verbose': 1, 'perplexity': 40, 'method': 'barnes_hut'}\n",
      "{'name': 'hierarchy', 'num_clusters': 136}\n"
     ]
    }
   ],
   "source": [
    "from evaluation import calc_index\n",
    "calc_index(blocks,table,pairs)\n",
    "print()\n",
    "print(params['attr_list'])\n",
    "print(params['embedding'])\n",
    "print(params['reduction'])\n",
    "print(params['blocking'])"
   ]
  },
  {
   "cell_type": "markdown",
   "metadata": {
    "heading_collapsed": true,
    "hidden": true
   },
   "source": [
    "## Searching"
   ]
  },
  {
   "cell_type": "code",
   "execution_count": 34,
   "metadata": {
    "hidden": true
   },
   "outputs": [
    {
     "name": "stdout",
     "output_type": "stream",
     "text": [
      "clustering with NUM_CLUSTERS = 1, \n",
      "(RR) Reduction ratio is: 0.0\n",
      "(PC) Pair completeness is: 1.0\n",
      "(RM) Reference metric (Harmonic mean RR and PC) is: 0\n",
      "(PQ) Pair quality - Precision is: 0.0003004162911463027\n",
      "(FM) Fmeasure is: 0.0006006521366054572\n",
      "clustering with NUM_CLUSTERS = 6, \n",
      "(RR) Reduction ratio is: 0.7980022316638771\n",
      "(PC) Pair completeness is: 0.875\n",
      "(RM) Reference metric (Harmonic mean RR and PC) is: 0.834729254379355\n",
      "(PQ) Pair quality - Precision is: 0.001301322568651405\n",
      "(FM) Fmeasure is: 0.002598780164412623\n",
      "clustering with NUM_CLUSTERS = 11, \n",
      "(RR) Reduction ratio is: 0.893843075404489\n",
      "(PC) Pair completeness is: 0.8125\n",
      "(RM) Reference metric (Harmonic mean RR and PC) is: 0.8512326849557967\n",
      "(PQ) Pair quality - Precision is: 0.0022993152588624706\n",
      "(FM) Fmeasure is: 0.004585653455617425\n",
      "clustering with NUM_CLUSTERS = 16, \n",
      "(RR) Reduction ratio is: 0.9295014162482297\n",
      "(PC) Pair completeness is: 0.7946428571428571\n",
      "(RM) Reference metric (Harmonic mean RR and PC) is: 0.8567979751173458\n",
      "(PQ) Pair quality - Precision is: 0.0033862192291595327\n",
      "(FM) Fmeasure is: 0.006743701458609586\n",
      "clustering with NUM_CLUSTERS = 21, \n",
      "(RR) Reduction ratio is: 0.9463193639757951\n",
      "(PC) Pair completeness is: 0.7946428571428571\n",
      "(RM) Reference metric (Harmonic mean RR and PC) is: 0.8638739129860611\n",
      "(PQ) Pair quality - Precision is: 0.0044471093789037125\n",
      "(FM) Fmeasure is: 0.00884472049689441\n",
      "clustering with NUM_CLUSTERS = 26, \n",
      "(RR) Reduction ratio is: 0.9562840650615854\n",
      "(PC) Pair completeness is: 0.7946428571428571\n",
      "(RM) Reference metric (Harmonic mean RR and PC) is: 0.8680023044525395\n",
      "(PQ) Pair quality - Precision is: 0.005460792735304945\n",
      "(FM) Fmeasure is: 0.010847044485070078\n",
      "clustering with NUM_CLUSTERS = 31, \n",
      "(RR) Reduction ratio is: 0.9651678039569117\n",
      "(PC) Pair completeness is: 0.7946428571428571\n",
      "(RM) Reference metric (Harmonic mean RR and PC) is: 0.8716434310942452\n",
      "(PQ) Pair quality - Precision is: 0.006853534575696905\n",
      "(FM) Fmeasure is: 0.013589861047488166\n",
      "clustering with NUM_CLUSTERS = 36, \n",
      "(RR) Reduction ratio is: 0.9701836831037295\n",
      "(PC) Pair completeness is: 0.7946428571428571\n",
      "(RM) Reference metric (Harmonic mean RR and PC) is: 0.873683068917593\n",
      "(PQ) Pair quality - Precision is: 0.008006477150053976\n",
      "(FM) Fmeasure is: 0.015853224082650514\n",
      "clustering with NUM_CLUSTERS = 41, \n",
      "(RR) Reduction ratio is: 0.972903523453929\n",
      "(PC) Pair completeness is: 0.7946428571428571\n",
      "(RM) Reference metric (Harmonic mean RR and PC) is: 0.8747842139686918\n",
      "(PQ) Pair quality - Precision is: 0.008810136606612552\n",
      "(FM) Fmeasure is: 0.0174270608968083\n",
      "clustering with NUM_CLUSTERS = 46, \n",
      "(RR) Reduction ratio is: 0.9758299000042917\n",
      "(PC) Pair completeness is: 0.7946428571428571\n",
      "(RM) Reference metric (Harmonic mean RR and PC) is: 0.875965198215575\n",
      "(PQ) Pair quality - Precision is: 0.00987681722339363\n",
      "(FM) Fmeasure is: 0.01951112572618656\n",
      "clustering with NUM_CLUSTERS = 51, \n",
      "(RR) Reduction ratio is: 0.9788662503755203\n",
      "(PC) Pair completeness is: 0.7767857142857143\n",
      "(RM) Reference metric (Harmonic mean RR and PC) is: 0.8661959600117508\n",
      "(PQ) Pair quality - Precision is: 0.011042010407412109\n",
      "(FM) Fmeasure is: 0.02177449630834689\n",
      "clustering with NUM_CLUSTERS = 56, \n",
      "(RR) Reduction ratio is: 0.9805212222651388\n",
      "(PC) Pair completeness is: 0.7767857142857143\n",
      "(RM) Reference metric (Harmonic mean RR and PC) is: 0.8668433068436666\n",
      "(PQ) Pair quality - Precision is: 0.011980170751858992\n",
      "(FM) Fmeasure is: 0.023596419853539462\n",
      "clustering with NUM_CLUSTERS = 61, \n",
      "(RR) Reduction ratio is: 0.9814975752113643\n",
      "(PC) Pair completeness is: 0.7678571428571429\n",
      "(RM) Reference metric (Harmonic mean RR and PC) is: 0.8616319103710764\n",
      "(PQ) Pair quality - Precision is: 0.01246738184981154\n",
      "(FM) Fmeasure is: 0.024536376604850217\n",
      "clustering with NUM_CLUSTERS = 66, \n",
      "(RR) Reduction ratio is: 0.9826750997811253\n",
      "(PC) Pair completeness is: 0.7678571428571429\n",
      "(RM) Reference metric (Harmonic mean RR and PC) is: 0.8620853430698157\n",
      "(PQ) Pair quality - Precision is: 0.013314754605976158\n",
      "(FM) Fmeasure is: 0.026175620149140162\n",
      "clustering with NUM_CLUSTERS = 71, \n",
      "(RR) Reduction ratio is: 0.983841895197631\n",
      "(PC) Pair completeness is: 0.7678571428571429\n",
      "(RM) Reference metric (Harmonic mean RR and PC) is: 0.8625340429581116\n",
      "(PQ) Pair quality - Precision is: 0.014276228419654714\n",
      "(FM) Fmeasure is: 0.02803129074315515\n",
      "clustering with NUM_CLUSTERS = 76, \n",
      "(RR) Reduction ratio is: 0.9848933522166431\n",
      "(PC) Pair completeness is: 0.7678571428571429\n",
      "(RM) Reference metric (Harmonic mean RR and PC) is: 0.8629378768713215\n",
      "(PQ) Pair quality - Precision is: 0.015269886363636364\n",
      "(FM) Fmeasure is: 0.029944289693593317\n",
      "clustering with NUM_CLUSTERS = 81, \n",
      "(RR) Reduction ratio is: 0.9862184026436633\n",
      "(PC) Pair completeness is: 0.7678571428571429\n",
      "(RM) Reference metric (Harmonic mean RR and PC) is: 0.8634461005165991\n",
      "(PQ) Pair quality - Precision is: 0.016738030362008563\n",
      "(FM) Fmeasure is: 0.032761904761904756\n",
      "clustering with NUM_CLUSTERS = 86, \n",
      "(RR) Reduction ratio is: 0.9870204068494914\n",
      "(PC) Pair completeness is: 0.7678571428571429\n",
      "(RM) Reference metric (Harmonic mean RR and PC) is: 0.8637533367178161\n",
      "(PQ) Pair quality - Precision is: 0.017772266997313494\n",
      "(FM) Fmeasure is: 0.03474045647343971\n",
      "clustering with NUM_CLUSTERS = 91, \n",
      "(RR) Reduction ratio is: 0.987567593665508\n",
      "(PC) Pair completeness is: 0.7678571428571429\n",
      "(RM) Reference metric (Harmonic mean RR and PC) is: 0.8639627949557677\n",
      "(PQ) Pair quality - Precision is: 0.018554476806903992\n",
      "(FM) Fmeasure is: 0.03623341057510006\n",
      "clustering with NUM_CLUSTERS = 96, \n",
      "(RR) Reduction ratio is: 0.9880718638685035\n",
      "(PC) Pair completeness is: 0.7678571428571429\n",
      "(RM) Reference metric (Harmonic mean RR and PC) is: 0.864155709509437\n",
      "(PQ) Pair quality - Precision is: 0.01933888014391725\n",
      "(FM) Fmeasure is: 0.03772757183592893\n",
      "clustering with NUM_CLUSTERS = 101, \n",
      "(RR) Reduction ratio is: 0.9885788163598129\n",
      "(PC) Pair completeness is: 0.7678571428571429\n",
      "(RM) Reference metric (Harmonic mean RR and PC) is: 0.864349538547997\n",
      "(PQ) Pair quality - Precision is: 0.020197275716298733\n",
      "(FM) Fmeasure is: 0.03935926773455378\n",
      "clustering with NUM_CLUSTERS = 106, \n",
      "(RR) Reduction ratio is: 0.9893539976825029\n",
      "(PC) Pair completeness is: 0.7678571428571429\n",
      "(RM) Reference metric (Harmonic mean RR and PC) is: 0.8646457063793459\n",
      "(PQ) Pair quality - Precision is: 0.021667926429831192\n",
      "(FM) Fmeasure is: 0.04214653271257045\n",
      "clustering with NUM_CLUSTERS = 111, \n",
      "(RR) Reduction ratio is: 0.990405454701515\n",
      "(PC) Pair completeness is: 0.7678571428571429\n",
      "(RM) Reference metric (Harmonic mean RR and PC) is: 0.8650470114909713\n",
      "(PQ) Pair quality - Precision is: 0.024042493709812693\n",
      "(FM) Fmeasure is: 0.04662510165356465\n",
      "clustering with NUM_CLUSTERS = 116, \n",
      "(RR) Reduction ratio is: 0.9909070426161968\n",
      "(PC) Pair completeness is: 0.7678571428571429\n",
      "(RM) Reference metric (Harmonic mean RR and PC) is: 0.8652382813623399\n",
      "(PQ) Pair quality - Precision is: 0.02536873156342183\n",
      "(FM) Fmeasure is: 0.04911479154768704\n",
      "clustering with NUM_CLUSTERS = 121, \n",
      "(RR) Reduction ratio is: 0.991373760782799\n",
      "(PC) Pair completeness is: 0.7589285714285714\n",
      "(RM) Reference metric (Harmonic mean RR and PC) is: 0.8597164708934417\n",
      "(PQ) Pair quality - Precision is: 0.02643034825870647\n",
      "(FM) Fmeasure is: 0.051081730769230775\n",
      "clustering with NUM_CLUSTERS = 126, \n",
      "(RR) Reduction ratio is: 0.9916983176687696\n",
      "(PC) Pair completeness is: 0.7589285714285714\n",
      "(RM) Reference metric (Harmonic mean RR and PC) is: 0.8598384866629659\n",
      "(PQ) Pair quality - Precision is: 0.027463651050080775\n",
      "(FM) Fmeasure is: 0.053009042719052074\n",
      "clustering with NUM_CLUSTERS = 131, \n",
      "(RR) Reduction ratio is: 0.9920175099781126\n",
      "(PC) Pair completeness is: 0.7589285714285714\n",
      "(RM) Reference metric (Harmonic mean RR and PC) is: 0.859958441524336\n",
      "(PQ) Pair quality - Precision is: 0.028561827956989246\n",
      "(FM) Fmeasure is: 0.055051813471502585\n",
      "clustering with NUM_CLUSTERS = 136, \n",
      "(RR) Reduction ratio is: 0.9924064417836145\n",
      "(PC) Pair completeness is: 0.7589285714285714\n",
      "(RM) Reference metric (Harmonic mean RR and PC) is: 0.8601045459120267\n",
      "(PQ) Pair quality - Precision is: 0.03002472624514306\n",
      "(FM) Fmeasure is: 0.057764186204553175\n",
      "clustering with NUM_CLUSTERS = 141, \n",
      "(RR) Reduction ratio is: 0.9926371185786018\n",
      "(PC) Pair completeness is: 0.7589285714285714\n",
      "(RM) Reference metric (Harmonic mean RR and PC) is: 0.8601911702743463\n",
      "(PQ) Pair quality - Precision is: 0.030965391621129327\n",
      "(FM) Fmeasure is: 0.05950297514875744\n",
      "clustering with NUM_CLUSTERS = 146, \n",
      "(RR) Reduction ratio is: 0.9928785245268443\n",
      "(PC) Pair completeness is: 0.7589285714285714\n",
      "(RM) Reference metric (Harmonic mean RR and PC) is: 0.8602817992471966\n",
      "(PQ) Pair quality - Precision is: 0.032015065913371\n",
      "(FM) Fmeasure is: 0.061438380917961694\n",
      "clustering with NUM_CLUSTERS = 151, \n",
      "(RR) Reduction ratio is: 0.9931923522595597\n",
      "(PC) Pair completeness is: 0.7589285714285714\n",
      "(RM) Reference metric (Harmonic mean RR and PC) is: 0.8603995795763879\n",
      "(PQ) Pair quality - Precision is: 0.033490937746256895\n",
      "(FM) Fmeasure is: 0.06415094339622641\n",
      "clustering with NUM_CLUSTERS = 156, \n",
      "(RR) Reduction ratio is: 0.9934042530363504\n",
      "(PC) Pair completeness is: 0.75\n",
      "(RM) Reference metric (Harmonic mean RR and PC) is: 0.854710763128703\n",
      "(PQ) Pair quality - Precision is: 0.03416022773485156\n",
      "(FM) Fmeasure is: 0.06534422403733955\n",
      "clustering with NUM_CLUSTERS = 161, \n",
      "(RR) Reduction ratio is: 0.9936242006780824\n",
      "(PC) Pair completeness is: 0.75\n",
      "(RM) Reference metric (Harmonic mean RR and PC) is: 0.8547921624610991\n",
      "(PQ) Pair quality - Precision is: 0.0353386621792175\n",
      "(FM) Fmeasure is: 0.06749698674166332\n",
      "clustering with NUM_CLUSTERS = 166, \n",
      "(RR) Reduction ratio is: 0.9939165701042874\n",
      "(PC) Pair completeness is: 0.75\n",
      "(RM) Reference metric (Harmonic mean RR and PC) is: 0.8549003322259137\n",
      "(PQ) Pair quality - Precision is: 0.037037037037037035\n",
      "(FM) Fmeasure is: 0.07058823529411765\n",
      "clustering with NUM_CLUSTERS = 171, \n",
      "(RR) Reduction ratio is: 0.9941150594395091\n",
      "(PC) Pair completeness is: 0.75\n",
      "(RM) Reference metric (Harmonic mean RR and PC) is: 0.85497374791229\n",
      "(PQ) Pair quality - Precision is: 0.03828623518687329\n",
      "(FM) Fmeasure is: 0.07285342584562012\n",
      "clustering with NUM_CLUSTERS = 176, \n",
      "(RR) Reduction ratio is: 0.9943269602162997\n",
      "(PC) Pair completeness is: 0.75\n",
      "(RM) Reference metric (Harmonic mean RR and PC) is: 0.8550521056783424\n",
      "(PQ) Pair quality - Precision is: 0.03971631205673759\n",
      "(FM) Fmeasure is: 0.07543780871127076\n",
      "clustering with NUM_CLUSTERS = 181, \n",
      "(RR) Reduction ratio is: 0.9944691214969315\n",
      "(PC) Pair completeness is: 0.75\n",
      "(RM) Reference metric (Harmonic mean RR and PC) is: 0.8551046641429596\n",
      "(PQ) Pair quality - Precision is: 0.040737148399612025\n",
      "(FM) Fmeasure is: 0.07727690892364304\n",
      "clustering with NUM_CLUSTERS = 186, \n",
      "(RR) Reduction ratio is: 0.9945951890476804\n",
      "(PC) Pair completeness is: 0.75\n",
      "(RM) Reference metric (Harmonic mean RR and PC) is: 0.8551512654267365\n",
      "(PQ) Pair quality - Precision is: 0.04168734491315137\n",
      "(FM) Fmeasure is: 0.07898448519040903\n",
      "clustering with NUM_CLUSTERS = 191, \n"
     ]
    },
    {
     "name": "stdout",
     "output_type": "stream",
     "text": [
      "(RR) Reduction ratio is: 0.9947990429595296\n",
      "(PC) Pair completeness is: 0.75\n",
      "(RM) Reference metric (Harmonic mean RR and PC) is: 0.8552266064453049\n",
      "(PQ) Pair quality - Precision is: 0.04332129963898917\n",
      "(FM) Fmeasure is: 0.08191126279863481\n",
      "clustering with NUM_CLUSTERS = 196, \n",
      "(RR) Reduction ratio is: 0.9949438865284752\n",
      "(PC) Pair completeness is: 0.75\n",
      "(RM) Reference metric (Harmonic mean RR and PC) is: 0.8552801275242374\n",
      "(PQ) Pair quality - Precision is: 0.04456233421750663\n",
      "(FM) Fmeasure is: 0.08412618928392589\n",
      "clustering with NUM_CLUSTERS = 201, \n",
      "(RR) Reduction ratio is: 0.995126282133814\n",
      "(PC) Pair completeness is: 0.75\n",
      "(RM) Reference metric (Harmonic mean RR and PC) is: 0.8553475118004461\n",
      "(PQ) Pair quality - Precision is: 0.04623004953219593\n",
      "(FM) Fmeasure is: 0.08709175738724728\n",
      "clustering with NUM_CLUSTERS = 206, \n",
      "(RR) Reduction ratio is: 0.9952255268014248\n",
      "(PC) Pair completeness is: 0.75\n",
      "(RM) Reference metric (Harmonic mean RR and PC) is: 0.8553841708573607\n",
      "(PQ) Pair quality - Precision is: 0.04719101123595506\n",
      "(FM) Fmeasure is: 0.08879492600422834\n",
      "clustering with NUM_CLUSTERS = 211, \n",
      "(RR) Reduction ratio is: 0.9953435474872323\n",
      "(PC) Pair completeness is: 0.75\n",
      "(RM) Reference metric (Harmonic mean RR and PC) is: 0.8554277599847546\n",
      "(PQ) Pair quality - Precision is: 0.04838709677419355\n",
      "(FM) Fmeasure is: 0.0909090909090909\n",
      "clustering with NUM_CLUSTERS = 216, \n",
      "(RR) Reduction ratio is: 0.9955634951289645\n",
      "(PC) Pair completeness is: 0.75\n",
      "(RM) Reference metric (Harmonic mean RR and PC) is: 0.8555089785394009\n",
      "(PQ) Pair quality - Precision is: 0.05078597339782346\n",
      "(FM) Fmeasure is: 0.09513023782559457\n",
      "clustering with NUM_CLUSTERS = 221, \n",
      "(RR) Reduction ratio is: 0.9956707866615166\n",
      "(PC) Pair completeness is: 0.75\n",
      "(RM) Reference metric (Harmonic mean RR and PC) is: 0.8555485899197005\n",
      "(PQ) Pair quality - Precision is: 0.05204460966542751\n",
      "(FM) Fmeasure is: 0.0973348783314021\n",
      "clustering with NUM_CLUSTERS = 226, \n",
      "(RR) Reduction ratio is: 0.9957593021758723\n",
      "(PC) Pair completeness is: 0.75\n",
      "(RM) Reference metric (Harmonic mean RR and PC) is: 0.8555812656430773\n",
      "(PQ) Pair quality - Precision is: 0.05313092979127135\n",
      "(FM) Fmeasure is: 0.09923213230950975\n",
      "clustering with NUM_CLUSTERS = 231, \n",
      "(RR) Reduction ratio is: 0.995901463456504\n",
      "(PC) Pair completeness is: 0.7410714285714286\n",
      "(RM) Reference metric (Harmonic mean RR and PC) is: 0.8497934810927601\n",
      "(PQ) Pair quality - Precision is: 0.05431937172774869\n",
      "(FM) Fmeasure is: 0.10121951219512194\n",
      "clustering with NUM_CLUSTERS = 236, \n",
      "(RR) Reduction ratio is: 0.9960570361787048\n",
      "(PC) Pair completeness is: 0.7410714285714286\n",
      "(RM) Reference metric (Harmonic mean RR and PC) is: 0.8498501126636602\n",
      "(PQ) Pair quality - Precision is: 0.05646258503401361\n",
      "(FM) Fmeasure is: 0.10493046776232619\n",
      "clustering with NUM_CLUSTERS = 241, \n",
      "(RR) Reduction ratio is: 0.9961991974593365\n",
      "(PC) Pair completeness is: 0.7410714285714286\n",
      "(RM) Reference metric (Harmonic mean RR and PC) is: 0.8499018533337334\n",
      "(PQ) Pair quality - Precision is: 0.05857445306986592\n",
      "(FM) Fmeasure is: 0.10856769130150425\n",
      "clustering with NUM_CLUSTERS = 246, \n",
      "(RR) Reduction ratio is: 0.9962877129736921\n",
      "(PC) Pair completeness is: 0.7410714285714286\n",
      "(RM) Reference metric (Harmonic mean RR and PC) is: 0.849934064945202\n",
      "(PQ) Pair quality - Precision is: 0.05997109826589595\n",
      "(FM) Fmeasure is: 0.11096256684491977\n",
      "clustering with NUM_CLUSTERS = 251, \n",
      "(RR) Reduction ratio is: 0.9963494056049097\n",
      "(PC) Pair completeness is: 0.7410714285714286\n",
      "(RM) Reference metric (Harmonic mean RR and PC) is: 0.849956513521334\n",
      "(PQ) Pair quality - Precision is: 0.06098457016899339\n",
      "(FM) Fmeasure is: 0.11269517990495588\n",
      "clustering with NUM_CLUSTERS = 256, \n",
      "(RR) Reduction ratio is: 0.9964432856958929\n",
      "(PC) Pair completeness is: 0.7410714285714286\n",
      "(RM) Reference metric (Harmonic mean RR and PC) is: 0.8499906713393773\n",
      "(PQ) Pair quality - Precision is: 0.06259426847662142\n",
      "(FM) Fmeasure is: 0.11543810848400557\n",
      "clustering with NUM_CLUSTERS = 261, \n",
      "(RR) Reduction ratio is: 0.9965049783271104\n",
      "(PC) Pair completeness is: 0.7410714285714286\n",
      "(RM) Reference metric (Harmonic mean RR and PC) is: 0.850013115895782\n",
      "(PQ) Pair quality - Precision is: 0.0636991557943208\n",
      "(FM) Fmeasure is: 0.11731448763250883\n",
      "clustering with NUM_CLUSTERS = 266, \n",
      "(RR) Reduction ratio is: 0.9965774001115832\n",
      "(PC) Pair completeness is: 0.7410714285714286\n",
      "(RM) Reference metric (Harmonic mean RR and PC) is: 0.8500394618197248\n",
      "(PQ) Pair quality - Precision is: 0.06504702194357367\n",
      "(FM) Fmeasure is: 0.11959654178674353\n",
      "clustering with NUM_CLUSTERS = 271, \n",
      "(RR) Reduction ratio is: 0.9966712802025665\n",
      "(PC) Pair completeness is: 0.7410714285714286\n",
      "(RM) Reference metric (Harmonic mean RR and PC) is: 0.8500736106749978\n",
      "(PQ) Pair quality - Precision is: 0.06688154713940371\n",
      "(FM) Fmeasure is: 0.12269031781226904\n",
      "clustering with NUM_CLUSTERS = 276, \n",
      "(RR) Reduction ratio is: 0.9967383374104116\n",
      "(PC) Pair completeness is: 0.7410714285714286\n",
      "(RM) Reference metric (Harmonic mean RR and PC) is: 0.8500980004555496\n",
      "(PQ) Pair quality - Precision is: 0.06825657894736842\n",
      "(FM) Fmeasure is: 0.125\n",
      "clustering with NUM_CLUSTERS = 281, \n",
      "(RR) Reduction ratio is: 0.99684294665465\n",
      "(PC) Pair completeness is: 0.7410714285714286\n",
      "(RM) Reference metric (Harmonic mean RR and PC) is: 0.8501360447549264\n",
      "(PQ) Pair quality - Precision is: 0.07051826677994902\n",
      "(FM) Fmeasure is: 0.12878200155159036\n",
      "clustering with NUM_CLUSTERS = 286, \n",
      "(RR) Reduction ratio is: 0.9969368267456332\n",
      "(PC) Pair completeness is: 0.7410714285714286\n",
      "(RM) Reference metric (Harmonic mean RR and PC) is: 0.8501701831756546\n",
      "(PQ) Pair quality - Precision is: 0.07267950963222417\n",
      "(FM) Fmeasure is: 0.13237639553429026\n",
      "clustering with NUM_CLUSTERS = 291, \n",
      "(RR) Reduction ratio is: 0.9969904725119093\n",
      "(PC) Pair completeness is: 0.7410714285714286\n",
      "(RM) Reference metric (Harmonic mean RR and PC) is: 0.8501896891888407\n",
      "(PQ) Pair quality - Precision is: 0.07397504456327986\n",
      "(FM) Fmeasure is: 0.13452188006482982\n",
      "clustering with NUM_CLUSTERS = 296, \n",
      "(RR) Reduction ratio is: 0.9970709411613236\n",
      "(PC) Pair completeness is: 0.7410714285714286\n",
      "(RM) Reference metric (Harmonic mean RR and PC) is: 0.8502189459510046\n",
      "(PQ) Pair quality - Precision is: 0.076007326007326\n",
      "(FM) Fmeasure is: 0.1378737541528239\n"
     ]
    }
   ],
   "source": [
    "for i in range(1,300,5):\n",
    "    num_clusters = int(i)\n",
    "    blocks = hierarchy_cluster(tsne_embeddings, {'num_clusters': num_clusters})\n",
    "    calc_index(blocks,table,pairs)"
   ]
  },
  {
   "cell_type": "code",
   "execution_count": 11,
   "metadata": {
    "hidden": true
   },
   "outputs": [
    {
     "name": "stdout",
     "output_type": "stream",
     "text": [
      ">>>>>>>>>>>>>>>>>>>>: 30\n",
      "starting dimension: 600\n",
      "setting TSNE with n_components: 2 & perplexity: 30\n",
      "early_exaggeration: 12\n",
      "clustering with NUM_CLUSTERS = 136, \n",
      "(RR) Reduction ratio is: 0.9924654521265182\n",
      "(PC) Pair completeness is: 0.8482142857142857\n",
      "(RM) Reference metric (Harmonic mean RR and PC) is: 0.9146875007806573\n",
      "(PQ) Pair quality - Precision is: 0.03381986472054112\n",
      "(FM) Fmeasure is: 0.06504621704895584\n",
      ">>>>>>>>>>>>>>>>>>>>: 35\n",
      "starting dimension: 600\n",
      "setting TSNE with n_components: 2 & perplexity: 35\n",
      "early_exaggeration: 12\n",
      "clustering with NUM_CLUSTERS = 136, \n",
      "(RR) Reduction ratio is: 0.9921435775288614\n",
      "(PC) Pair completeness is: 0.8214285714285714\n",
      "(RM) Reference metric (Harmonic mean RR and PC) is: 0.8987512098816349\n",
      "(PQ) Pair quality - Precision is: 0.031410037555479685\n",
      "(FM) Fmeasure is: 0.06050641236435383\n",
      ">>>>>>>>>>>>>>>>>>>>: 40\n",
      "starting dimension: 600\n",
      "setting TSNE with n_components: 2 & perplexity: 40\n",
      "early_exaggeration: 12\n",
      "clustering with NUM_CLUSTERS = 136, \n",
      "(RR) Reduction ratio is: 0.9920550620145058\n",
      "(PC) Pair completeness is: 0.8303571428571429\n",
      "(RM) Reference metric (Harmonic mean RR and PC) is: 0.9040325834619262\n",
      "(PQ) Pair quality - Precision is: 0.03139770425388251\n",
      "(FM) Fmeasure is: 0.060507482108002594\n",
      ">>>>>>>>>>>>>>>>>>>>: 45\n",
      "starting dimension: 600\n",
      "setting TSNE with n_components: 2 & perplexity: 45\n",
      "early_exaggeration: 12\n",
      "clustering with NUM_CLUSTERS = 136, \n",
      "(RR) Reduction ratio is: 0.9923045148276898\n",
      "(PC) Pair completeness is: 0.8392857142857143\n",
      "(RM) Reference metric (Harmonic mean RR and PC) is: 0.9094031954071227\n",
      "(PQ) Pair quality - Precision is: 0.03276402927849425\n",
      "(FM) Fmeasure is: 0.0630660852063066\n",
      ">>>>>>>>>>>>>>>>>>>>: 50\n",
      "starting dimension: 600\n",
      "setting TSNE with n_components: 2 & perplexity: 50\n",
      "early_exaggeration: 12\n",
      "clustering with NUM_CLUSTERS = 136, \n",
      "(RR) Reduction ratio is: 0.9920711557443886\n",
      "(PC) Pair completeness is: 0.8303571428571429\n",
      "(RM) Reference metric (Harmonic mean RR and PC) is: 0.9040392656622259\n",
      "(PQ) Pair quality - Precision is: 0.03146143437077131\n",
      "(FM) Fmeasure is: 0.060625814863103\n"
     ]
    }
   ],
   "source": [
    "for i in [30,35,40,45,50]:\n",
    "    print('>>>>>>>>>>>>>>>>>>>>: '+str(i))\n",
    "    tsne_embeddings = tsne_dim_reduction(\n",
    "    embeddings_tokens, \n",
    "    num_components=2,\n",
    "    early_exaggeration=12,\n",
    "    verbose=1,\n",
    "    perplexity=i,\n",
    "    method=\"barnes_hut\")\n",
    "    num_clusters = 136\n",
    "    blocks = hierarchy_cluster(tsne_embeddings, {'num_clusters': num_clusters})\n",
    "    calc_index(blocks,table,pairs)"
   ]
  },
  {
   "cell_type": "markdown",
   "metadata": {},
   "source": [
    "# Best"
   ]
  },
  {
   "cell_type": "code",
   "execution_count": 29,
   "metadata": {},
   "outputs": [],
   "source": [
    "#(RR) Reduction ratio is: 0.9923420668640831\n",
    "#(PC) Pair completeness is: 0.875\n",
    "#(RM) Reference metric (Harmonic mean RR and PC) is: 0.9299841993751572\n",
    "#(PQ) Pair quality - Precision is: 0.034325744308231175\n",
    "#(FM) Fmeasure is: 0.06605999325918437\n",
    "\n",
    "#['citruname', 'addr']\n",
    "#{'name': 'Infersent', 'model_type': 'bilstm', 'char_level': False, 'model_version': 2, 'rnn_dim': 1024, 'verbose': 1}\n",
    "#{'name': 'TSNE', 'num_components': 2, 'early_exaggeration': 12, 'verbose': 1, 'perplexity': 40, 'method': 'barnes_hut'}\n",
    "#{'name': 'hierarchy', 'num_clusters': 136}"
   ]
  },
  {
   "cell_type": "code",
   "execution_count": null,
   "metadata": {},
   "outputs": [],
   "source": []
  }
 ],
 "metadata": {
  "kernelspec": {
   "display_name": "Python 3.7.7 64-bit ('thesisEnv': conda)",
   "language": "python",
   "name": "python37764bitthesisenvcondad61bb62be9734ae9b8ba15c07cc7706a"
  },
  "language_info": {
   "codemirror_mode": {
    "name": "ipython",
    "version": 3
   },
   "file_extension": ".py",
   "mimetype": "text/x-python",
   "name": "python",
   "nbconvert_exporter": "python",
   "pygments_lexer": "ipython3",
   "version": "3.7.7"
  },
  "toc": {
   "base_numbering": 1,
   "nav_menu": {},
   "number_sections": true,
   "sideBar": true,
   "skip_h1_title": false,
   "title_cell": "Table of Contents",
   "title_sidebar": "Contents",
   "toc_cell": true,
   "toc_position": {},
   "toc_section_display": true,
   "toc_window_display": false
  },
  "varInspector": {
   "cols": {
    "lenName": 16,
    "lenType": 16,
    "lenVar": 40
   },
   "kernels_config": {
    "python": {
     "delete_cmd_postfix": "",
     "delete_cmd_prefix": "del ",
     "library": "var_list.py",
     "varRefreshCmd": "print(var_dic_list())"
    },
    "r": {
     "delete_cmd_postfix": ") ",
     "delete_cmd_prefix": "rm(",
     "library": "var_list.r",
     "varRefreshCmd": "cat(var_dic_list()) "
    }
   },
   "types_to_exclude": [
    "module",
    "function",
    "builtin_function_or_method",
    "instance",
    "_Feature"
   ],
   "window_display": false
  }
 },
 "nbformat": 4,
 "nbformat_minor": 4
}
