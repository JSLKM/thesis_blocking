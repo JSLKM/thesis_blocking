{
 "cells": [
  {
   "cell_type": "markdown",
   "metadata": {
    "toc": true
   },
   "source": [
    "<h1>Table of Contents<span class=\"tocSkip\"></span></h1>\n",
    "<div class=\"toc\"><ul class=\"toc-item\"><li><span><a href=\"#Setup\" data-toc-modified-id=\"Setup-1\"><span class=\"toc-item-num\">1&nbsp;&nbsp;</span>Setup</a></span></li><li><span><a href=\"#Import-dataset\" data-toc-modified-id=\"Import-dataset-2\"><span class=\"toc-item-num\">2&nbsp;&nbsp;</span>Import dataset</a></span></li><li><span><a href=\"#Sentence-embedding\" data-toc-modified-id=\"Sentence-embedding-3\"><span class=\"toc-item-num\">3&nbsp;&nbsp;</span>Sentence embedding</a></span><ul class=\"toc-item\"><li><span><a href=\"#Infersent\" data-toc-modified-id=\"Infersent-3.1\"><span class=\"toc-item-num\">3.1&nbsp;&nbsp;</span>Infersent</a></span></li></ul></li><li><span><a href=\"#Dimensionality-reduction\" data-toc-modified-id=\"Dimensionality-reduction-4\"><span class=\"toc-item-num\">4&nbsp;&nbsp;</span>Dimensionality reduction</a></span><ul class=\"toc-item\"><li><span><a href=\"#TSNE\" data-toc-modified-id=\"TSNE-4.1\"><span class=\"toc-item-num\">4.1&nbsp;&nbsp;</span>TSNE</a></span></li></ul></li><li><span><a href=\"#Blocking\" data-toc-modified-id=\"Blocking-5\"><span class=\"toc-item-num\">5&nbsp;&nbsp;</span>Blocking</a></span></li><li><span><a href=\"#Evaluation\" data-toc-modified-id=\"Evaluation-6\"><span class=\"toc-item-num\">6&nbsp;&nbsp;</span>Evaluation</a></span><ul class=\"toc-item\"><li><span><a href=\"#bilstm,-rnn_dim-2048\" data-toc-modified-id=\"bilstm,-rnn_dim-2048-6.1\"><span class=\"toc-item-num\">6.1&nbsp;&nbsp;</span>bilstm, rnn_dim 2048</a></span></li><li><span><a href=\"#Searching\" data-toc-modified-id=\"Searching-6.2\"><span class=\"toc-item-num\">6.2&nbsp;&nbsp;</span>Searching</a></span></li></ul></li><li><span><a href=\"#Best\" data-toc-modified-id=\"Best-7\"><span class=\"toc-item-num\">7&nbsp;&nbsp;</span>Best</a></span></li></ul></div>"
   ]
  },
  {
   "cell_type": "markdown",
   "metadata": {},
   "source": [
    "# Setup "
   ]
  },
  {
   "cell_type": "code",
   "execution_count": 1,
   "metadata": {},
   "outputs": [],
   "source": [
    "import os\n",
    "import sys\n",
    "import time\n",
    "import numpy as np\n",
    "import matplotlib.pyplot as plt\n",
    "\n",
    "module_path = os.path.abspath(os.path.join('..'))\n",
    "if module_path not in sys.path:\n",
    "    sys.path.append(module_path)\n",
    "    \n",
    "params = {}"
   ]
  },
  {
   "cell_type": "markdown",
   "metadata": {},
   "source": [
    "# Import dataset"
   ]
  },
  {
   "cell_type": "code",
   "execution_count": 2,
   "metadata": {},
   "outputs": [],
   "source": [
    "from preprocessing_datasets.preprocessing_amzn_gp import clean_amzn_gp\n",
    "table, pairs = clean_amzn_gp()"
   ]
  },
  {
   "cell_type": "code",
   "execution_count": 3,
   "metadata": {
    "scrolled": true
   },
   "outputs": [
    {
     "data": {
      "text/html": [
       "<div>\n",
       "<style scoped>\n",
       "    .dataframe tbody tr th:only-of-type {\n",
       "        vertical-align: middle;\n",
       "    }\n",
       "\n",
       "    .dataframe tbody tr th {\n",
       "        vertical-align: top;\n",
       "    }\n",
       "\n",
       "    .dataframe thead th {\n",
       "        text-align: right;\n",
       "    }\n",
       "</style>\n",
       "<table border=\"1\" class=\"dataframe\">\n",
       "  <thead>\n",
       "    <tr style=\"text-align: right;\">\n",
       "      <th></th>\n",
       "      <th>title</th>\n",
       "      <th>description</th>\n",
       "      <th>manufacturer</th>\n",
       "      <th>price</th>\n",
       "    </tr>\n",
       "  </thead>\n",
       "  <tbody>\n",
       "    <tr>\n",
       "      <th>0</th>\n",
       "      <td>clickart 950 000 - premier image pack (dvd-rom)</td>\n",
       "      <td>unk</td>\n",
       "      <td>broderbund</td>\n",
       "      <td>0</td>\n",
       "    </tr>\n",
       "    <tr>\n",
       "      <th>1</th>\n",
       "      <td>ca international - arcserve lap/desktop oem 30pk</td>\n",
       "      <td>oem arcserve backup v11.1 win 30u for laptops ...</td>\n",
       "      <td>computer associates</td>\n",
       "      <td>0</td>\n",
       "    </tr>\n",
       "    <tr>\n",
       "      <th>2</th>\n",
       "      <td>noah's ark activity center (jewel case ages 3-8)</td>\n",
       "      <td>unk</td>\n",
       "      <td>victory multimedia</td>\n",
       "      <td>0</td>\n",
       "    </tr>\n",
       "    <tr>\n",
       "      <th>3</th>\n",
       "      <td>peachtree by sage premium accounting for nonpr...</td>\n",
       "      <td>peachtree premium accounting for nonprofits 20...</td>\n",
       "      <td>sage software</td>\n",
       "      <td>599.99</td>\n",
       "    </tr>\n",
       "    <tr>\n",
       "      <th>4</th>\n",
       "      <td>singing coach unlimited</td>\n",
       "      <td>singing coach unlimited - electronic learning ...</td>\n",
       "      <td>carry-a-tune technologies</td>\n",
       "      <td>99.99</td>\n",
       "    </tr>\n",
       "    <tr>\n",
       "      <th>...</th>\n",
       "      <td>...</td>\n",
       "      <td>...</td>\n",
       "      <td>...</td>\n",
       "      <td>...</td>\n",
       "    </tr>\n",
       "    <tr>\n",
       "      <th>4584</th>\n",
       "      <td>jumpstart(r) advanced 1st grade</td>\n",
       "      <td>prepare your child for the 1st grade and beyon...</td>\n",
       "      <td>unk</td>\n",
       "      <td>19.99</td>\n",
       "    </tr>\n",
       "    <tr>\n",
       "      <th>4585</th>\n",
       "      <td>ibm(r) viavoice(r) advanced edition 10</td>\n",
       "      <td>ibm viavoice advanced edition release 10 is a ...</td>\n",
       "      <td>unk</td>\n",
       "      <td>78.95</td>\n",
       "    </tr>\n",
       "    <tr>\n",
       "      <th>4586</th>\n",
       "      <td>xbox 360: gears of war</td>\n",
       "      <td>as marcus fenix you fight a war against the im...</td>\n",
       "      <td>unk</td>\n",
       "      <td>59.99</td>\n",
       "    </tr>\n",
       "    <tr>\n",
       "      <th>4587</th>\n",
       "      <td>documents to go premium 7.0</td>\n",
       "      <td>this pda software enables you to use your docu...</td>\n",
       "      <td>unk</td>\n",
       "      <td>49.99</td>\n",
       "    </tr>\n",
       "    <tr>\n",
       "      <th>4588</th>\n",
       "      <td>microsoft(r) picture it! digital image pro 9.0</td>\n",
       "      <td>picture it! digital image pro puts you in cont...</td>\n",
       "      <td>unk</td>\n",
       "      <td>99.87</td>\n",
       "    </tr>\n",
       "  </tbody>\n",
       "</table>\n",
       "<p>4589 rows × 4 columns</p>\n",
       "</div>"
      ],
      "text/plain": [
       "                                                  title  \\\n",
       "0       clickart 950 000 - premier image pack (dvd-rom)   \n",
       "1      ca international - arcserve lap/desktop oem 30pk   \n",
       "2      noah's ark activity center (jewel case ages 3-8)   \n",
       "3     peachtree by sage premium accounting for nonpr...   \n",
       "4                               singing coach unlimited   \n",
       "...                                                 ...   \n",
       "4584                    jumpstart(r) advanced 1st grade   \n",
       "4585             ibm(r) viavoice(r) advanced edition 10   \n",
       "4586                             xbox 360: gears of war   \n",
       "4587                        documents to go premium 7.0   \n",
       "4588     microsoft(r) picture it! digital image pro 9.0   \n",
       "\n",
       "                                            description  \\\n",
       "0                                                   unk   \n",
       "1     oem arcserve backup v11.1 win 30u for laptops ...   \n",
       "2                                                   unk   \n",
       "3     peachtree premium accounting for nonprofits 20...   \n",
       "4     singing coach unlimited - electronic learning ...   \n",
       "...                                                 ...   \n",
       "4584  prepare your child for the 1st grade and beyon...   \n",
       "4585  ibm viavoice advanced edition release 10 is a ...   \n",
       "4586  as marcus fenix you fight a war against the im...   \n",
       "4587  this pda software enables you to use your docu...   \n",
       "4588  picture it! digital image pro puts you in cont...   \n",
       "\n",
       "                   manufacturer   price  \n",
       "0                    broderbund       0  \n",
       "1           computer associates       0  \n",
       "2            victory multimedia       0  \n",
       "3                 sage software  599.99  \n",
       "4     carry-a-tune technologies   99.99  \n",
       "...                         ...     ...  \n",
       "4584                        unk   19.99  \n",
       "4585                        unk   78.95  \n",
       "4586                        unk   59.99  \n",
       "4587                        unk   49.99  \n",
       "4588                        unk   99.87  \n",
       "\n",
       "[4589 rows x 4 columns]"
      ]
     },
     "execution_count": 3,
     "metadata": {},
     "output_type": "execute_result"
    }
   ],
   "source": [
    "table"
   ]
  },
  {
   "cell_type": "markdown",
   "metadata": {},
   "source": [
    "# Sentence embedding"
   ]
  },
  {
   "cell_type": "markdown",
   "metadata": {},
   "source": [
    "## Infersent"
   ]
  },
  {
   "cell_type": "markdown",
   "metadata": {},
   "source": [
    "Setup model"
   ]
  },
  {
   "cell_type": "code",
   "execution_count": 4,
   "metadata": {},
   "outputs": [
    {
     "name": "stdout",
     "output_type": "stream",
     "text": [
      "Vocab size : 2196017\n",
      "TIME: 183.27148509025574\n"
     ]
    }
   ],
   "source": [
    "from embedding_algorithms.inferSent import set_RNN_embedding\n",
    "start = time.time()\n",
    "model_type = \"bilstm\" \n",
    "char_level = False\n",
    "model_version = 2\n",
    "rnn_dim = 2048\n",
    "verbose = 1\n",
    "set_RNN_embedding(model_type, char_level, model_version, rnn_dim, verbose)\n",
    "print(\"TIME: {0}\".format(time.time() - start))\n",
    "\n",
    "params['embedding'] = {\n",
    "    'name': 'Infersent',\n",
    "    'model_type': model_type,\n",
    "    'char_level': char_level,\n",
    "    'model_version': model_version,\n",
    "    'rnn_dim': rnn_dim,\n",
    "    'verbose': verbose\n",
    "}"
   ]
  },
  {
   "cell_type": "markdown",
   "metadata": {},
   "source": [
    "Embedding"
   ]
  },
  {
   "cell_type": "code",
   "execution_count": 39,
   "metadata": {},
   "outputs": [
    {
     "name": "stdout",
     "output_type": "stream",
     "text": [
      "attrs: ['title', 'manufacturer']\n",
      "TIME: 44.206966161727905\n"
     ]
    }
   ],
   "source": [
    "from embedding_algorithms.inferSent import RNN_embedding\n",
    "start = time.time()\n",
    "attr_list = ['title', 'manufacturer']\n",
    "params['attr_list'] = attr_list\n",
    "embeddings_tokens = RNN_embedding(table, attr_list, model_type, char_level)\n",
    "embeddings_tokens = np.array(embeddings_tokens)\n",
    "print(\"TIME: {0}\".format(time.time() - start))"
   ]
  },
  {
   "cell_type": "markdown",
   "metadata": {},
   "source": [
    "# Dimensionality reduction"
   ]
  },
  {
   "cell_type": "markdown",
   "metadata": {},
   "source": [
    "## TSNE"
   ]
  },
  {
   "cell_type": "code",
   "execution_count": 48,
   "metadata": {},
   "outputs": [
    {
     "name": "stdout",
     "output_type": "stream",
     "text": [
      "starting dimension: 4096\n",
      "setting TSNE with n_components: 2 & perplexity: 5\n",
      "early_exaggeration: 12\n",
      "TIME: 193.18674898147583\n"
     ]
    }
   ],
   "source": [
    "from dimensionality_reduction_algorithms.tsne import tsne_dim_reduction\n",
    "\n",
    "start = time.time()\n",
    "\n",
    "tsne_embeddings = tsne_dim_reduction(\n",
    "    embeddings_tokens, \n",
    "    num_components=2,\n",
    "    early_exaggeration=12,\n",
    "    verbose=1,\n",
    "    perplexity=5,\n",
    "    method=\"barnes_hut\")\n",
    "\n",
    "print(\"TIME: {0}\".format(time.time() - start))\n",
    "params['reduction'] = {\n",
    "    'name': 'TSNE',\n",
    "    'num_components': 2,\n",
    "    'early_exaggeration': 12,\n",
    "    'verbose': 1,\n",
    "    'perplexity': 5,\n",
    "    'method': \"barnes_hut\"\n",
    "}"
   ]
  },
  {
   "cell_type": "markdown",
   "metadata": {},
   "source": [
    "# Blocking"
   ]
  },
  {
   "cell_type": "markdown",
   "metadata": {},
   "source": [
    "hierarchy_cluster"
   ]
  },
  {
   "cell_type": "code",
   "execution_count": 49,
   "metadata": {},
   "outputs": [
    {
     "name": "stdout",
     "output_type": "stream",
     "text": [
      "clustering with NUM_CLUSTERS = 15, \n"
     ]
    }
   ],
   "source": [
    "from cluster_algorithms.hierarchy_cluster import hierarchy_cluster\n",
    "num_clusters = 15\n",
    "blocks = hierarchy_cluster(tsne_embeddings, {'num_clusters': num_clusters})\n",
    "\n",
    "params['blocking'] = {\n",
    "    'name': 'hierarchy',\n",
    "    'num_clusters': num_clusters\n",
    "}"
   ]
  },
  {
   "cell_type": "markdown",
   "metadata": {},
   "source": [
    "# Evaluation"
   ]
  },
  {
   "cell_type": "markdown",
   "metadata": {},
   "source": [
    "## bilstm, rnn_dim 2048"
   ]
  },
  {
   "cell_type": "code",
   "execution_count": 10,
   "metadata": {},
   "outputs": [
    {
     "name": "stdout",
     "output_type": "stream",
     "text": [
      "(RR) Reduction ratio is: 0.8896593822116987\n",
      "(PC) Pair completeness is: 0.3484615384615385\n",
      "(RM) Reference metric (Harmonic mean RR and PC) is: 0.5007783518651138\n",
      "(PQ) Pair quality - Precision is: 0.0003899880679147433\n",
      "(FM) Fmeasure is: 0.0007791041849761883\n",
      "\n",
      "[]\n",
      "{'name': 'Infersent', 'model_type': 'bilstm', 'char_level': False, 'model_version': 2, 'rnn_dim': 2048, 'verbose': 1}\n",
      "{'name': 'TSNE', 'num_components': 2, 'early_exaggeration': 12, 'verbose': 1, 'perplexity': 40, 'method': 'barnes_hut'}\n",
      "{'name': 'hierarchy', 'num_clusters': 10}\n"
     ]
    }
   ],
   "source": [
    "from evaluation import calc_index\n",
    "calc_index(blocks,table,pairs)\n",
    "print()\n",
    "print(params['attr_list'])\n",
    "print(params['embedding'])\n",
    "print(params['reduction'])\n",
    "print(params['blocking'])"
   ]
  },
  {
   "cell_type": "code",
   "execution_count": 19,
   "metadata": {},
   "outputs": [
    {
     "name": "stdout",
     "output_type": "stream",
     "text": [
      "(RR) Reduction ratio is: 0.9381128786227937\n",
      "(PC) Pair completeness is: 0.6492307692307693\n",
      "(RM) Reference metric (Harmonic mean RR and PC) is: 0.7673848654475537\n",
      "(PQ) Pair quality - Precision is: 0.0012954799415499096\n",
      "(FM) Fmeasure is: 0.002585800158089204\n",
      "\n",
      "['title']\n",
      "{'name': 'Infersent', 'model_type': 'bilstm', 'char_level': False, 'model_version': 2, 'rnn_dim': 2048, 'verbose': 1}\n",
      "{'name': 'TSNE', 'num_components': 2, 'early_exaggeration': 12, 'verbose': 1, 'perplexity': 40, 'method': 'barnes_hut'}\n",
      "{'name': 'hierarchy', 'num_clusters': 17}\n"
     ]
    }
   ],
   "source": [
    "from evaluation import calc_index\n",
    "calc_index(blocks,table,pairs)\n",
    "print()\n",
    "print(params['attr_list'])\n",
    "print(params['embedding'])\n",
    "print(params['reduction'])\n",
    "print(params['blocking'])"
   ]
  },
  {
   "cell_type": "code",
   "execution_count": 26,
   "metadata": {},
   "outputs": [
    {
     "name": "stdout",
     "output_type": "stream",
     "text": [
      "(RR) Reduction ratio is: 0.9147197830831204\n",
      "(PC) Pair completeness is: 0.6284615384615385\n",
      "(RM) Reference metric (Harmonic mean RR and PC) is: 0.745040383928709\n",
      "(PQ) Pair quality - Precision is: 0.000910043786806927\n",
      "(FM) Fmeasure is: 0.0018174558065710928\n",
      "\n",
      "['title', 'price']\n",
      "{'name': 'Infersent', 'model_type': 'bilstm', 'char_level': False, 'model_version': 2, 'rnn_dim': 2048, 'verbose': 1}\n",
      "{'name': 'TSNE', 'num_components': 2, 'early_exaggeration': 12, 'verbose': 1, 'perplexity': 40, 'method': 'barnes_hut'}\n",
      "{'name': 'hierarchy', 'num_clusters': 13}\n"
     ]
    }
   ],
   "source": [
    "from evaluation import calc_index\n",
    "calc_index(blocks,table,pairs)\n",
    "print()\n",
    "print(params['attr_list'])\n",
    "print(params['embedding'])\n",
    "print(params['reduction'])\n",
    "print(params['blocking'])"
   ]
  },
  {
   "cell_type": "code",
   "execution_count": 30,
   "metadata": {},
   "outputs": [
    {
     "name": "stdout",
     "output_type": "stream",
     "text": [
      "(RR) Reduction ratio is: 0.9114443526396373\n",
      "(PC) Pair completeness is: 0.3030769230769231\n",
      "(RM) Reference metric (Harmonic mean RR and PC) is: 0.454891578232552\n",
      "(PQ) Pair quality - Precision is: 0.0004226379473097057\n",
      "(FM) Fmeasure is: 0.0008440988066928039\n",
      "\n",
      "['title', 'description']\n",
      "{'name': 'Infersent', 'model_type': 'bilstm', 'char_level': False, 'model_version': 2, 'rnn_dim': 2048, 'verbose': 1}\n",
      "{'name': 'TSNE', 'num_components': 2, 'early_exaggeration': 12, 'verbose': 1, 'perplexity': 40, 'method': 'barnes_hut'}\n",
      "{'name': 'hierarchy', 'num_clusters': 13}\n"
     ]
    }
   ],
   "source": [
    "from evaluation import calc_index\n",
    "calc_index(blocks,table,pairs)\n",
    "print()\n",
    "print(params['attr_list'])\n",
    "print(params['embedding'])\n",
    "print(params['reduction'])\n",
    "print(params['blocking'])"
   ]
  },
  {
   "cell_type": "code",
   "execution_count": 38,
   "metadata": {},
   "outputs": [
    {
     "name": "stdout",
     "output_type": "stream",
     "text": [
      "(RR) Reduction ratio is: 0.933286793425695\n",
      "(PC) Pair completeness is: 0.7084615384615385\n",
      "(RM) Reference metric (Harmonic mean RR and PC) is: 0.8054800905278088\n",
      "(PQ) Pair quality - Precision is: 0.0013114035150170653\n",
      "(FM) Fmeasure is: 0.0026179610318916545\n",
      "\n",
      "['title', 'manufacturer', 'price']\n",
      "{'name': 'Infersent', 'model_type': 'bilstm', 'char_level': False, 'model_version': 2, 'rnn_dim': 2048, 'verbose': 1}\n",
      "{'name': 'TSNE', 'num_components': 2, 'early_exaggeration': 12, 'verbose': 1, 'perplexity': 40, 'method': 'barnes_hut'}\n",
      "{'name': 'hierarchy', 'num_clusters': 17}\n"
     ]
    }
   ],
   "source": [
    "from evaluation import calc_index\n",
    "calc_index(blocks,table,pairs)\n",
    "print()\n",
    "print(params['attr_list'])\n",
    "print(params['embedding'])\n",
    "print(params['reduction'])\n",
    "print(params['blocking'])"
   ]
  },
  {
   "cell_type": "code",
   "execution_count": 45,
   "metadata": {},
   "outputs": [
    {
     "name": "stdout",
     "output_type": "stream",
     "text": [
      "(RR) Reduction ratio is: 0.9257687206604323\n",
      "(PC) Pair completeness is: 0.7230769230769231\n",
      "(RM) Reference metric (Harmonic mean RR and PC) is: 0.8119644195422745\n",
      "(PQ) Pair quality - Precision is: 0.0012028997562208473\n",
      "(FM) Fmeasure is: 0.0024018039080415717\n",
      "\n",
      "['title', 'manufacturer']\n",
      "{'name': 'Infersent', 'model_type': 'bilstm', 'char_level': False, 'model_version': 2, 'rnn_dim': 2048, 'verbose': 1}\n",
      "{'name': 'TSNE', 'num_components': 2, 'early_exaggeration': 12, 'verbose': 1, 'perplexity': 40, 'method': 'barnes_hut'}\n",
      "{'name': 'hierarchy', 'num_clusters': 15}\n"
     ]
    }
   ],
   "source": [
    "from evaluation import calc_index\n",
    "calc_index(blocks,table,pairs)\n",
    "print()\n",
    "print(params['attr_list'])\n",
    "print(params['embedding'])\n",
    "print(params['reduction'])\n",
    "print(params['blocking'])"
   ]
  },
  {
   "cell_type": "code",
   "execution_count": 50,
   "metadata": {},
   "outputs": [
    {
     "name": "stdout",
     "output_type": "stream",
     "text": [
      "(RR) Reduction ratio is: 0.9277423762482704\n",
      "(PC) Pair completeness is: 0.8407692307692308\n",
      "(RM) Reference metric (Harmonic mean RR and PC) is: 0.8821171893191397\n",
      "(PQ) Pair quality - Precision is: 0.0014368949397108857\n",
      "(FM) Fmeasure is: 0.0028688868823887616\n",
      "\n",
      "['title', 'manufacturer']\n",
      "{'name': 'Infersent', 'model_type': 'bilstm', 'char_level': False, 'model_version': 2, 'rnn_dim': 2048, 'verbose': 1}\n",
      "{'name': 'TSNE', 'num_components': 2, 'early_exaggeration': 12, 'verbose': 1, 'perplexity': 40, 'method': 'barnes_hut'}\n",
      "{'name': 'hierarchy', 'num_clusters': 15}\n"
     ]
    }
   ],
   "source": [
    "from evaluation import calc_index\n",
    "calc_index(blocks,table,pairs)\n",
    "print()\n",
    "print(params['attr_list'])\n",
    "print(params['embedding'])\n",
    "print(params['reduction'])\n",
    "print(params['blocking'])"
   ]
  },
  {
   "cell_type": "markdown",
   "metadata": {},
   "source": [
    "## Searching"
   ]
  },
  {
   "cell_type": "code",
   "execution_count": 52,
   "metadata": {},
   "outputs": [
    {
     "name": "stdout",
     "output_type": "stream",
     "text": [
      "clustering with NUM_CLUSTERS = 10, \n",
      "(RR) Reduction ratio is: 0.8914286143108221\n",
      "(PC) Pair completeness is: 0.85\n",
      "(RM) Reference metric (Harmonic mean RR and PC) is: 0.8702215134601626\n",
      "(PQ) Pair quality - Precision is: 0.0009667972936675214\n",
      "(FM) Fmeasure is: 0.0019313977989056576\n",
      "clustering with NUM_CLUSTERS = 11, \n",
      "(RR) Reduction ratio is: 0.9019257414578624\n",
      "(PC) Pair completeness is: 0.8492307692307692\n",
      "(RM) Reference metric (Harmonic mean RR and PC) is: 0.8747854192725354\n",
      "(PQ) Pair quality - Precision is: 0.0010693073910061951\n",
      "(FM) Fmeasure is: 0.0021359253354795776\n",
      "clustering with NUM_CLUSTERS = 12, \n",
      "(RR) Reduction ratio is: 0.90739046007254\n",
      "(PC) Pair completeness is: 0.8492307692307692\n",
      "(RM) Reference metric (Harmonic mean RR and PC) is: 0.8773478147086777\n",
      "(PQ) Pair quality - Precision is: 0.0011324052533756754\n",
      "(FM) Fmeasure is: 0.002261794520884722\n",
      "clustering with NUM_CLUSTERS = 13, \n",
      "(RR) Reduction ratio is: 0.9139962265247836\n",
      "(PC) Pair completeness is: 0.8484615384615385\n",
      "(RM) Reference metric (Harmonic mean RR and PC) is: 0.8800104716396163\n",
      "(PQ) Pair quality - Precision is: 0.0012182783727423744\n",
      "(FM) Fmeasure is: 0.002433063189055407\n",
      "clustering with NUM_CLUSTERS = 14, \n",
      "(RR) Reduction ratio is: 0.9218410728965422\n",
      "(PC) Pair completeness is: 0.8423076923076923\n",
      "(RM) Reference metric (Harmonic mean RR and PC) is: 0.8802815750020284\n",
      "(PQ) Pair quality - Precision is: 0.0013308345243998483\n",
      "(FM) Fmeasure is: 0.0026574702824441934\n",
      "clustering with NUM_CLUSTERS = 15, \n",
      "(RR) Reduction ratio is: 0.9277423762482704\n",
      "(PC) Pair completeness is: 0.8407692307692308\n",
      "(RM) Reference metric (Harmonic mean RR and PC) is: 0.8821171893191397\n",
      "(PQ) Pair quality - Precision is: 0.0014368949397108857\n",
      "(FM) Fmeasure is: 0.0028688868823887616\n",
      "clustering with NUM_CLUSTERS = 16, \n",
      "(RR) Reduction ratio is: 0.9310766069424572\n",
      "(PC) Pair completeness is: 0.8407692307692308\n",
      "(RM) Reference metric (Harmonic mean RR and PC) is: 0.883621527273768\n",
      "(PQ) Pair quality - Precision is: 0.0015064060157008027\n",
      "(FM) Fmeasure is: 0.0030074236312507907\n",
      "clustering with NUM_CLUSTERS = 17, \n",
      "(RR) Reduction ratio is: 0.9347404610129639\n",
      "(PC) Pair completeness is: 0.8376923076923077\n",
      "(RM) Reference metric (Harmonic mean RR and PC) is: 0.883559486943255\n",
      "(PQ) Pair quality - Precision is: 0.0015851574531512464\n",
      "(FM) Fmeasure is: 0.0031643270792592743\n",
      "clustering with NUM_CLUSTERS = 18, \n",
      "(RR) Reduction ratio is: 0.936462101956025\n",
      "(PC) Pair completeness is: 0.8376923076923077\n",
      "(RM) Reference metric (Harmonic mean RR and PC) is: 0.8843278747191191\n",
      "(PQ) Pair quality - Precision is: 0.0016281093300083425\n",
      "(FM) Fmeasure is: 0.0032499022641881065\n",
      "clustering with NUM_CLUSTERS = 19, \n",
      "(RR) Reduction ratio is: 0.9408781052754369\n",
      "(PC) Pair completeness is: 0.8369230769230769\n",
      "(RM) Reference metric (Harmonic mean RR and PC) is: 0.8858612613845652\n",
      "(PQ) Pair quality - Precision is: 0.0017481113007040646\n",
      "(FM) Fmeasure is: 0.0034889351372325178\n",
      "clustering with NUM_CLUSTERS = 20, \n",
      "(RR) Reduction ratio is: 0.9421747505453985\n",
      "(PC) Pair completeness is: 0.8192307692307692\n",
      "(RM) Reference metric (Harmonic mean RR and PC) is: 0.8764120890653272\n",
      "(PQ) Pair quality - Precision is: 0.0017495268885033906\n",
      "(FM) Fmeasure is: 0.0034915972172134104\n",
      "clustering with NUM_CLUSTERS = 21, \n",
      "(RR) Reduction ratio is: 0.9452042458530624\n",
      "(PC) Pair completeness is: 0.8184615384615385\n",
      "(RM) Reference metric (Harmonic mean RR and PC) is: 0.8772788224407481\n",
      "(PQ) Pair quality - Precision is: 0.0018445194888045988\n",
      "(FM) Fmeasure is: 0.0036807438977140643\n",
      "clustering with NUM_CLUSTERS = 22, \n",
      "(RR) Reduction ratio is: 0.9471033324638369\n",
      "(PC) Pair completeness is: 0.8184615384615385\n",
      "(RM) Reference metric (Harmonic mean RR and PC) is: 0.8780959151776936\n",
      "(PQ) Pair quality - Precision is: 0.0019107410945816842\n",
      "(FM) Fmeasure is: 0.003812581519012742\n",
      "clustering with NUM_CLUSTERS = 23, \n",
      "(RR) Reduction ratio is: 0.9511804031588369\n",
      "(PC) Pair completeness is: 0.816923076923077\n",
      "(RM) Reference metric (Harmonic mean RR and PC) is: 0.8789544621239598\n",
      "(PQ) Pair quality - Precision is: 0.002066421238607442\n",
      "(FM) Fmeasure is: 0.0041224147568474\n",
      "clustering with NUM_CLUSTERS = 24, \n",
      "(RR) Reduction ratio is: 0.953406643345417\n",
      "(PC) Pair completeness is: 0.816923076923077\n",
      "(RM) Reference metric (Harmonic mean RR and PC) is: 0.8799037599871693\n",
      "(PQ) Pair quality - Precision is: 0.0021651552713987474\n",
      "(FM) Fmeasure is: 0.004318863919186004\n",
      "clustering with NUM_CLUSTERS = 25, \n",
      "(RR) Reduction ratio is: 0.9554865003553663\n",
      "(PC) Pair completeness is: 0.816923076923077\n",
      "(RM) Reference metric (Harmonic mean RR and PC) is: 0.8807884834692965\n",
      "(PQ) Pair quality - Precision is: 0.002266320387707239\n",
      "(FM) Fmeasure is: 0.004520101042560029\n",
      "clustering with NUM_CLUSTERS = 26, \n",
      "(RR) Reduction ratio is: 0.9566834036814846\n",
      "(PC) Pair completeness is: 0.816923076923077\n",
      "(RM) Reference metric (Harmonic mean RR and PC) is: 0.8812966780661757\n",
      "(PQ) Pair quality - Precision is: 0.0023289422610915326\n",
      "(FM) Fmeasure is: 0.004644643243727873\n",
      "clustering with NUM_CLUSTERS = 27, \n",
      "(RR) Reduction ratio is: 0.9579615254475896\n",
      "(PC) Pair completeness is: 0.8138461538461539\n",
      "(RM) Reference metric (Harmonic mean RR and PC) is: 0.8800428084033176\n",
      "(PQ) Pair quality - Precision is: 0.002390711925991874\n",
      "(FM) Fmeasure is: 0.004767419330128017\n",
      "clustering with NUM_CLUSTERS = 28, \n",
      "(RR) Reduction ratio is: 0.9600640856238042\n",
      "(PC) Pair completeness is: 0.7615384615384615\n",
      "(RM) Reference metric (Harmonic mean RR and PC) is: 0.849354838547844\n",
      "(PQ) Pair quality - Precision is: 0.002354832878224218\n",
      "(FM) Fmeasure is: 0.004695147399172895\n",
      "clustering with NUM_CLUSTERS = 29, \n",
      "(RR) Reduction ratio is: 0.9612483549703691\n",
      "(PC) Pair completeness is: 0.7615384615384615\n",
      "(RM) Reference metric (Harmonic mean RR and PC) is: 0.8498179651547846\n",
      "(PQ) Pair quality - Precision is: 0.0024267977300861635\n",
      "(FM) Fmeasure is: 0.0048381776197632224\n"
     ]
    }
   ],
   "source": [
    "for i in range(10,30,1):\n",
    "    num_clusters = int(i)\n",
    "    blocks = hierarchy_cluster(tsne_embeddings, {'num_clusters': num_clusters})\n",
    "    calc_index(blocks,table,pairs)"
   ]
  },
  {
   "cell_type": "code",
   "execution_count": 46,
   "metadata": {},
   "outputs": [
    {
     "name": "stdout",
     "output_type": "stream",
     "text": [
      ">>>>>>>>>>>>>>>>>>>>: 30\n",
      "starting dimension: 4096\n",
      "setting TSNE with n_components: 2 & perplexity: 30\n",
      "early_exaggeration: 12\n",
      "clustering with NUM_CLUSTERS = 15, \n",
      "(RR) Reduction ratio is: 0.9292758373906139\n",
      "(PC) Pair completeness is: 0.7376923076923076\n",
      "(RM) Reference metric (Harmonic mean RR and PC) is: 0.8224747893227237\n",
      "(PQ) Pair quality - Precision is: 0.0012880695745609617\n",
      "(FM) Fmeasure is: 0.0025716488452384944\n",
      ">>>>>>>>>>>>>>>>>>>>: 35\n",
      "starting dimension: 4096\n",
      "setting TSNE with n_components: 2 & perplexity: 35\n",
      "early_exaggeration: 12\n",
      "clustering with NUM_CLUSTERS = 15, \n",
      "(RR) Reduction ratio is: 0.9271282508511788\n",
      "(PC) Pair completeness is: 0.7215384615384616\n",
      "(RM) Reference metric (Harmonic mean RR and PC) is: 0.8115147673460212\n",
      "(PQ) Pair quality - Precision is: 0.0012227345193076037\n",
      "(FM) Fmeasure is: 0.002441331905319006\n",
      ">>>>>>>>>>>>>>>>>>>>: 40\n",
      "starting dimension: 4096\n",
      "setting TSNE with n_components: 2 & perplexity: 40\n",
      "early_exaggeration: 12\n",
      "clustering with NUM_CLUSTERS = 15, \n",
      "(RR) Reduction ratio is: 0.9257687206604323\n",
      "(PC) Pair completeness is: 0.7230769230769231\n",
      "(RM) Reference metric (Harmonic mean RR and PC) is: 0.8119644195422745\n",
      "(PQ) Pair quality - Precision is: 0.0012028997562208473\n",
      "(FM) Fmeasure is: 0.0024018039080415717\n",
      ">>>>>>>>>>>>>>>>>>>>: 45\n",
      "starting dimension: 4096\n",
      "setting TSNE with n_components: 2 & perplexity: 45\n",
      "early_exaggeration: 12\n",
      "clustering with NUM_CLUSTERS = 15, \n",
      "(RR) Reduction ratio is: 0.9289293053800045\n",
      "(PC) Pair completeness is: 0.7123076923076923\n",
      "(RM) Reference metric (Harmonic mean RR and PC) is: 0.8063229024990908\n",
      "(PQ) Pair quality - Precision is: 0.0012376816591884497\n",
      "(FM) Fmeasure is: 0.0024710696716225933\n",
      ">>>>>>>>>>>>>>>>>>>>: 50\n",
      "starting dimension: 4096\n",
      "setting TSNE with n_components: 2 & perplexity: 50\n",
      "early_exaggeration: 12\n",
      "clustering with NUM_CLUSTERS = 15, \n",
      "(RR) Reduction ratio is: 0.930003478619032\n",
      "(PC) Pair completeness is: 0.6938461538461539\n",
      "(RM) Reference metric (Harmonic mean RR and PC) is: 0.7947525729014118\n",
      "(PQ) Pair quality - Precision is: 0.0012241048224573023\n",
      "(FM) Fmeasure is: 0.0024438980444751518\n"
     ]
    }
   ],
   "source": [
    "for i in [30,35,40,45,50]:\n",
    "    print('>>>>>>>>>>>>>>>>>>>>: '+str(i))\n",
    "    tsne_embeddings = tsne_dim_reduction(\n",
    "    embeddings_tokens, \n",
    "    num_components=2,\n",
    "    early_exaggeration=12,\n",
    "    verbose=1,\n",
    "    perplexity=i,\n",
    "    method=\"barnes_hut\")\n",
    "    num_clusters = 15\n",
    "    blocks = hierarchy_cluster(tsne_embeddings, {'num_clusters': num_clusters})\n",
    "    calc_index(blocks,table,pairs)"
   ]
  },
  {
   "cell_type": "code",
   "execution_count": 47,
   "metadata": {},
   "outputs": [
    {
     "name": "stdout",
     "output_type": "stream",
     "text": [
      ">>>>>>>>>>>>>>>>>>>>: 10\n",
      "starting dimension: 4096\n",
      "setting TSNE with n_components: 2 & perplexity: 10\n",
      "early_exaggeration: 12\n",
      "clustering with NUM_CLUSTERS = 15, \n",
      "(RR) Reduction ratio is: 0.9272540206927486\n",
      "(PC) Pair completeness is: 0.8084615384615385\n",
      "(RM) Reference metric (Harmonic mean RR and PC) is: 0.8637926970927967\n",
      "(PQ) Pair quality - Precision is: 0.0013724048685768906\n",
      "(FM) Fmeasure is: 0.0027401581783032137\n",
      ">>>>>>>>>>>>>>>>>>>>: 15\n",
      "starting dimension: 4096\n",
      "setting TSNE with n_components: 2 & perplexity: 15\n",
      "early_exaggeration: 12\n",
      "clustering with NUM_CLUSTERS = 15, \n",
      "(RR) Reduction ratio is: 0.9256769580720965\n",
      "(PC) Pair completeness is: 0.7853846153846153\n",
      "(RM) Reference metric (Harmonic mean RR and PC) is: 0.8497794035747445\n",
      "(PQ) Pair quality - Precision is: 0.0013049407536448235\n",
      "(FM) Fmeasure is: 0.0026055523018051296\n"
     ]
    }
   ],
   "source": [
    "for i in [10,15]:\n",
    "    print('>>>>>>>>>>>>>>>>>>>>: '+str(i))\n",
    "    tsne_embeddings = tsne_dim_reduction(\n",
    "    embeddings_tokens, \n",
    "    num_components=2,\n",
    "    early_exaggeration=12,\n",
    "    verbose=1,\n",
    "    perplexity=i,\n",
    "    method=\"barnes_hut\")\n",
    "    num_clusters = 15\n",
    "    blocks = hierarchy_cluster(tsne_embeddings, {'num_clusters': num_clusters})\n",
    "    calc_index(blocks,table,pairs)"
   ]
  },
  {
   "cell_type": "markdown",
   "metadata": {
    "heading_collapsed": true
   },
   "source": [
    "# Best"
   ]
  },
  {
   "cell_type": "code",
   "execution_count": 28,
   "metadata": {
    "hidden": true
   },
   "outputs": [],
   "source": [
    "#(RR) Reduction ratio is: 0.9990375547800934\n",
    "#(PC) Pair completeness is: 0.9775179856115108\n",
    "#(RM) Reference metric (Harmonic mean RR and PC) is: 0.9881606240170739\n",
    "#(PQ) Pair quality - Precision is: 0.18742995085783257\n",
    "#(FM) Fmeasure is: 0.3145482167402156\n",
    "\n",
    "#['title', 'authors']\n",
    "#{'name': 'Infersent', 'model_type': 'bilstm', 'char_level': False, 'model_version': 2, 'rnn_dim': 2048, 'verbose': 1}\n",
    "#{'name': 'TSNE', 'num_components': 2, 'early_exaggeration': 12, 'verbose': 1, 'perplexity': 40, 'method': 'barnes_hut'}\n",
    "#{'name': 'hierarchy', 'num_clusters': 1000}"
   ]
  },
  {
   "cell_type": "code",
   "execution_count": null,
   "metadata": {
    "hidden": true
   },
   "outputs": [],
   "source": []
  }
 ],
 "metadata": {
  "kernelspec": {
   "display_name": "Python 3.7.7 64-bit ('thesisEnv': conda)",
   "language": "python",
   "name": "python37764bitthesisenvcondad61bb62be9734ae9b8ba15c07cc7706a"
  },
  "language_info": {
   "codemirror_mode": {
    "name": "ipython",
    "version": 3
   },
   "file_extension": ".py",
   "mimetype": "text/x-python",
   "name": "python",
   "nbconvert_exporter": "python",
   "pygments_lexer": "ipython3",
   "version": "3.7.7"
  },
  "toc": {
   "base_numbering": 1,
   "nav_menu": {},
   "number_sections": true,
   "sideBar": true,
   "skip_h1_title": false,
   "title_cell": "Table of Contents",
   "title_sidebar": "Contents",
   "toc_cell": true,
   "toc_position": {},
   "toc_section_display": true,
   "toc_window_display": false
  },
  "varInspector": {
   "cols": {
    "lenName": 16,
    "lenType": 16,
    "lenVar": 40
   },
   "kernels_config": {
    "python": {
     "delete_cmd_postfix": "",
     "delete_cmd_prefix": "del ",
     "library": "var_list.py",
     "varRefreshCmd": "print(var_dic_list())"
    },
    "r": {
     "delete_cmd_postfix": ") ",
     "delete_cmd_prefix": "rm(",
     "library": "var_list.r",
     "varRefreshCmd": "cat(var_dic_list()) "
    }
   },
   "types_to_exclude": [
    "module",
    "function",
    "builtin_function_or_method",
    "instance",
    "_Feature"
   ],
   "window_display": false
  }
 },
 "nbformat": 4,
 "nbformat_minor": 4
}
