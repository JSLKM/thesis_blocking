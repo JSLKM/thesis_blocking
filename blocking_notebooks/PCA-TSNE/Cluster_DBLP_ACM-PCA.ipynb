{
 "cells": [
  {
   "cell_type": "markdown",
   "metadata": {
    "toc": true
   },
   "source": [
    "<h1>Table of Contents<span class=\"tocSkip\"></span></h1>\n",
    "<div class=\"toc\"><ul class=\"toc-item\"><li><span><a href=\"#Setup\" data-toc-modified-id=\"Setup-1\"><span class=\"toc-item-num\">1&nbsp;&nbsp;</span>Setup</a></span></li><li><span><a href=\"#Import-dataset\" data-toc-modified-id=\"Import-dataset-2\"><span class=\"toc-item-num\">2&nbsp;&nbsp;</span>Import dataset</a></span></li><li><span><a href=\"#Sentence-embedding\" data-toc-modified-id=\"Sentence-embedding-3\"><span class=\"toc-item-num\">3&nbsp;&nbsp;</span>Sentence embedding</a></span><ul class=\"toc-item\"><li><span><a href=\"#Infersent\" data-toc-modified-id=\"Infersent-3.1\"><span class=\"toc-item-num\">3.1&nbsp;&nbsp;</span>Infersent</a></span></li></ul></li><li><span><a href=\"#Dimensionality-reduction\" data-toc-modified-id=\"Dimensionality-reduction-4\"><span class=\"toc-item-num\">4&nbsp;&nbsp;</span>Dimensionality reduction</a></span><ul class=\"toc-item\"><li><span><a href=\"#PCA\" data-toc-modified-id=\"PCA-4.1\"><span class=\"toc-item-num\">4.1&nbsp;&nbsp;</span>PCA</a></span></li></ul></li><li><span><a href=\"#Blocking\" data-toc-modified-id=\"Blocking-5\"><span class=\"toc-item-num\">5&nbsp;&nbsp;</span>Blocking</a></span></li><li><span><a href=\"#Evaluation\" data-toc-modified-id=\"Evaluation-6\"><span class=\"toc-item-num\">6&nbsp;&nbsp;</span>Evaluation</a></span><ul class=\"toc-item\"><li><span><a href=\"#bilstm,-rnn_dim-2048\" data-toc-modified-id=\"bilstm,-rnn_dim-2048-6.1\"><span class=\"toc-item-num\">6.1&nbsp;&nbsp;</span>bilstm, rnn_dim 2048</a></span></li><li><span><a href=\"#Searching\" data-toc-modified-id=\"Searching-6.2\"><span class=\"toc-item-num\">6.2&nbsp;&nbsp;</span>Searching</a></span></li></ul></li><li><span><a href=\"#Result\" data-toc-modified-id=\"Result-7\"><span class=\"toc-item-num\">7&nbsp;&nbsp;</span>Result</a></span></li></ul></div>"
   ]
  },
  {
   "cell_type": "markdown",
   "metadata": {},
   "source": [
    "# Setup "
   ]
  },
  {
   "cell_type": "code",
   "execution_count": 1,
   "metadata": {},
   "outputs": [],
   "source": [
    "import os\n",
    "import sys\n",
    "import time\n",
    "import numpy as np\n",
    "import matplotlib.pyplot as plt\n",
    "\n",
    "module_path = os.path.abspath(os.path.join('../..'))\n",
    "if module_path not in sys.path:\n",
    "    sys.path.append(module_path)\n",
    "    \n",
    "from preprocessing_datasets.preprocessing_utilities import get_labels_by\n",
    "\n",
    "params = {}"
   ]
  },
  {
   "cell_type": "markdown",
   "metadata": {},
   "source": [
    "# Import dataset"
   ]
  },
  {
   "cell_type": "code",
   "execution_count": 2,
   "metadata": {},
   "outputs": [],
   "source": [
    "from preprocessing_datasets.preprocessing_dblp_acm import clean_dblp_acm\n",
    "table, pairs = clean_dblp_acm()"
   ]
  },
  {
   "cell_type": "code",
   "execution_count": 3,
   "metadata": {
    "scrolled": true
   },
   "outputs": [
    {
     "data": {
      "text/html": [
       "<div>\n",
       "<style scoped>\n",
       "    .dataframe tbody tr th:only-of-type {\n",
       "        vertical-align: middle;\n",
       "    }\n",
       "\n",
       "    .dataframe tbody tr th {\n",
       "        vertical-align: top;\n",
       "    }\n",
       "\n",
       "    .dataframe thead th {\n",
       "        text-align: right;\n",
       "    }\n",
       "</style>\n",
       "<table border=\"1\" class=\"dataframe\">\n",
       "  <thead>\n",
       "    <tr style=\"text-align: right;\">\n",
       "      <th></th>\n",
       "      <th>title</th>\n",
       "      <th>authors</th>\n",
       "      <th>venue</th>\n",
       "      <th>year</th>\n",
       "    </tr>\n",
       "  </thead>\n",
       "  <tbody>\n",
       "    <tr>\n",
       "      <th>0</th>\n",
       "      <td>semantic integration of environmental models f...</td>\n",
       "      <td>d. scott mackay</td>\n",
       "      <td>sigmod record</td>\n",
       "      <td>1999</td>\n",
       "    </tr>\n",
       "    <tr>\n",
       "      <th>1</th>\n",
       "      <td>estimation of query-result distribution and it...</td>\n",
       "      <td>viswanath poosala, yannis e. ioannidis</td>\n",
       "      <td>vldb</td>\n",
       "      <td>1996</td>\n",
       "    </tr>\n",
       "    <tr>\n",
       "      <th>2</th>\n",
       "      <td>incremental maintenance for non-distributive a...</td>\n",
       "      <td>themistoklis palpanas, richard sidle, hamid pi...</td>\n",
       "      <td>vldb</td>\n",
       "      <td>2002</td>\n",
       "    </tr>\n",
       "    <tr>\n",
       "      <th>3</th>\n",
       "      <td>cost-based selection of path expression proces...</td>\n",
       "      <td>zhao-hui tang, georges gardarin, jean-robert g...</td>\n",
       "      <td>vldb</td>\n",
       "      <td>1996</td>\n",
       "    </tr>\n",
       "    <tr>\n",
       "      <th>4</th>\n",
       "      <td>benchmarking spatial join operations with spat...</td>\n",
       "      <td>erik g. hoel, hanan samet</td>\n",
       "      <td>vldb</td>\n",
       "      <td>1995</td>\n",
       "    </tr>\n",
       "    <tr>\n",
       "      <th>...</th>\n",
       "      <td>...</td>\n",
       "      <td>...</td>\n",
       "      <td>...</td>\n",
       "      <td>...</td>\n",
       "    </tr>\n",
       "    <tr>\n",
       "      <th>4905</th>\n",
       "      <td>dual-buffering strategies in object bases</td>\n",
       "      <td>alfons kemper, donald kossmann</td>\n",
       "      <td>very large data bases</td>\n",
       "      <td>1994</td>\n",
       "    </tr>\n",
       "    <tr>\n",
       "      <th>4906</th>\n",
       "      <td>guest editorial</td>\n",
       "      <td>philip a. bernstein, yannis ioannidis, raghu r...</td>\n",
       "      <td>the vldb journal &amp;mdash; the international jou...</td>\n",
       "      <td>2003</td>\n",
       "    </tr>\n",
       "    <tr>\n",
       "      <th>4907</th>\n",
       "      <td>graphdb: modeling and querying graphs in datab...</td>\n",
       "      <td>ralf hartmut g&amp;#252;ting</td>\n",
       "      <td>very large data bases</td>\n",
       "      <td>1994</td>\n",
       "    </tr>\n",
       "    <tr>\n",
       "      <th>4908</th>\n",
       "      <td>review of the data warehouse toolkit: the comp...</td>\n",
       "      <td>alexander a. anisimov</td>\n",
       "      <td>acm sigmod record</td>\n",
       "      <td>2003</td>\n",
       "    </tr>\n",
       "    <tr>\n",
       "      <th>4909</th>\n",
       "      <td>bulk loading into an oodb: a performance study</td>\n",
       "      <td>janet l. wiener, jeffrey f. naughton</td>\n",
       "      <td>very large data bases</td>\n",
       "      <td>1994</td>\n",
       "    </tr>\n",
       "  </tbody>\n",
       "</table>\n",
       "<p>4910 rows × 4 columns</p>\n",
       "</div>"
      ],
      "text/plain": [
       "                                                  title  \\\n",
       "0     semantic integration of environmental models f...   \n",
       "1     estimation of query-result distribution and it...   \n",
       "2     incremental maintenance for non-distributive a...   \n",
       "3     cost-based selection of path expression proces...   \n",
       "4     benchmarking spatial join operations with spat...   \n",
       "...                                                 ...   \n",
       "4905          dual-buffering strategies in object bases   \n",
       "4906                                    guest editorial   \n",
       "4907  graphdb: modeling and querying graphs in datab...   \n",
       "4908  review of the data warehouse toolkit: the comp...   \n",
       "4909     bulk loading into an oodb: a performance study   \n",
       "\n",
       "                                                authors  \\\n",
       "0                                       d. scott mackay   \n",
       "1                viswanath poosala, yannis e. ioannidis   \n",
       "2     themistoklis palpanas, richard sidle, hamid pi...   \n",
       "3     zhao-hui tang, georges gardarin, jean-robert g...   \n",
       "4                             erik g. hoel, hanan samet   \n",
       "...                                                 ...   \n",
       "4905                     alfons kemper, donald kossmann   \n",
       "4906  philip a. bernstein, yannis ioannidis, raghu r...   \n",
       "4907                           ralf hartmut g&#252;ting   \n",
       "4908                              alexander a. anisimov   \n",
       "4909               janet l. wiener, jeffrey f. naughton   \n",
       "\n",
       "                                                  venue  year  \n",
       "0                                         sigmod record  1999  \n",
       "1                                                  vldb  1996  \n",
       "2                                                  vldb  2002  \n",
       "3                                                  vldb  1996  \n",
       "4                                                  vldb  1995  \n",
       "...                                                 ...   ...  \n",
       "4905                              very large data bases  1994  \n",
       "4906  the vldb journal &mdash; the international jou...  2003  \n",
       "4907                              very large data bases  1994  \n",
       "4908                                 acm sigmod record   2003  \n",
       "4909                              very large data bases  1994  \n",
       "\n",
       "[4910 rows x 4 columns]"
      ]
     },
     "execution_count": 3,
     "metadata": {},
     "output_type": "execute_result"
    }
   ],
   "source": [
    "table"
   ]
  },
  {
   "cell_type": "markdown",
   "metadata": {},
   "source": [
    "# Sentence embedding"
   ]
  },
  {
   "cell_type": "markdown",
   "metadata": {},
   "source": [
    "## Infersent"
   ]
  },
  {
   "cell_type": "markdown",
   "metadata": {},
   "source": [
    "Setup model"
   ]
  },
  {
   "cell_type": "code",
   "execution_count": 4,
   "metadata": {},
   "outputs": [
    {
     "name": "stdout",
     "output_type": "stream",
     "text": [
      "Vocab size : 2196017\n",
      "TIME: 160.28073811531067\n"
     ]
    }
   ],
   "source": [
    "from embedding_algorithms.inferSent import set_RNN_embedding\n",
    "start = time.time()\n",
    "model_type = \"bilstm\" \n",
    "char_level = False\n",
    "model_version = 2\n",
    "rnn_dim = 2048\n",
    "verbose = 1\n",
    "set_RNN_embedding(model_type, char_level, model_version, rnn_dim, verbose)\n",
    "print(\"TIME: {0}\".format(time.time() - start))\n",
    "\n",
    "params['embedding'] = {\n",
    "    'name': 'Infersent',\n",
    "    'model_type': model_type,\n",
    "    'char_level': char_level,\n",
    "    'model_version': model_version,\n",
    "    'rnn_dim': rnn_dim,\n",
    "    'verbose': verbose\n",
    "}"
   ]
  },
  {
   "cell_type": "markdown",
   "metadata": {},
   "source": [
    "Embedding"
   ]
  },
  {
   "cell_type": "code",
   "execution_count": 5,
   "metadata": {},
   "outputs": [
    {
     "name": "stdout",
     "output_type": "stream",
     "text": [
      "attrs: ['title', 'authors']\n"
     ]
    }
   ],
   "source": [
    "from embedding_algorithms.inferSent import RNN_embedding\n",
    "attr_list = ['title', 'authors']\n",
    "params['attr_list'] = attr_list\n",
    "embeddings_tokens = RNN_embedding(table, attr_list, model_type, char_level)\n",
    "embeddings_tokens = np.array(embeddings_tokens)"
   ]
  },
  {
   "cell_type": "markdown",
   "metadata": {},
   "source": [
    "# Dimensionality reduction"
   ]
  },
  {
   "cell_type": "markdown",
   "metadata": {},
   "source": [
    "## PCA"
   ]
  },
  {
   "cell_type": "code",
   "execution_count": 6,
   "metadata": {},
   "outputs": [
    {
     "name": "stdout",
     "output_type": "stream",
     "text": [
      "starting dimension: 4096\n",
      "setting PCA with n_components: 2\n",
      "PCA: 0.6182851791381836\n"
     ]
    }
   ],
   "source": [
    "from dimensionality_reduction_algorithms.pca import pca_dim_reduction\n",
    "\n",
    "start = time.time()\n",
    "pca_embeddings = pca_dim_reduction(\n",
    "            embeddings_tokens, \n",
    "            num_components=2,\n",
    "            verbose=1)\n",
    "\n",
    "print(\"PCA: {0}\".format(time.time() - start))\n",
    "\n",
    "params['reduction'] = {\n",
    "    'name': 'PCA',\n",
    "    'num_components': 2,\n",
    "    'verbose': 1,\n",
    "}"
   ]
  },
  {
   "cell_type": "markdown",
   "metadata": {},
   "source": [
    "# Blocking"
   ]
  },
  {
   "cell_type": "code",
   "execution_count": 16,
   "metadata": {},
   "outputs": [
    {
     "name": "stdout",
     "output_type": "stream",
     "text": [
      "clustering with NUM_CLUSTERS = 10, \n",
      "BLOCKS: 0.5895111560821533\n"
     ]
    }
   ],
   "source": [
    "from cluster_algorithms.hierarchy_cluster import hierarchy_cluster\n",
    "num_clusters = 10\n",
    "start = time.time()\n",
    "blocks = hierarchy_cluster(pca_embeddings, {'num_clusters': num_clusters})\n",
    "print(\"BLOCKS: {0}\".format(time.time() - start))\n",
    "\n",
    "params['blocking'] = {\n",
    "    'name': 'hierarchy',\n",
    "    'num_clusters': num_clusters\n",
    "}"
   ]
  },
  {
   "cell_type": "markdown",
   "metadata": {},
   "source": [
    "# Evaluation"
   ]
  },
  {
   "cell_type": "markdown",
   "metadata": {},
   "source": [
    "## bilstm, rnn_dim 2048"
   ]
  },
  {
   "cell_type": "code",
   "execution_count": 17,
   "metadata": {},
   "outputs": [
    {
     "name": "stdout",
     "output_type": "stream",
     "text": [
      "(RR) Reduction ratio is: 0.869636093811649\n",
      "(PC) Pair completeness is: 0.7351618705035972\n",
      "(RM) Reference metric (Harmonic mean RR and PC) is: 0.7967648409334909\n",
      "(PQ) Pair quality - Precision is: 0.0010406767772499783\n",
      "(FM) Fmeasure is: 0.002078411407237067\n",
      "\n",
      "['title', 'authors']\n",
      "{'name': 'Infersent', 'model_type': 'bilstm', 'char_level': False, 'model_version': 2, 'rnn_dim': 2048, 'verbose': 1}\n",
      "{'name': 'PCA', 'num_components': 2, 'verbose': 1}\n",
      "{'name': 'hierarchy', 'num_clusters': 10}\n"
     ]
    }
   ],
   "source": [
    "from evaluation import calc_index\n",
    "calc_index(blocks,table,pairs)\n",
    "print()\n",
    "print(params['attr_list'])\n",
    "print(params['embedding'])\n",
    "print(params['reduction'])\n",
    "print(params['blocking'])"
   ]
  },
  {
   "cell_type": "markdown",
   "metadata": {
    "heading_collapsed": true
   },
   "source": [
    "## Searching"
   ]
  },
  {
   "cell_type": "code",
   "execution_count": 15,
   "metadata": {
    "hidden": true
   },
   "outputs": [
    {
     "name": "stdout",
     "output_type": "stream",
     "text": [
      "clustering with NUM_CLUSTERS = 1, \n",
      "(RR) Reduction ratio is: 0.0\n",
      "(PC) Pair completeness is: 1.0\n",
      "(RM) Reference metric (Harmonic mean RR and PC) is: 0\n",
      "(PQ) Pair quality - Precision is: 0.00018453988870352844\n",
      "(FM) Fmeasure is: 0.0003690116800326934\n",
      "clustering with NUM_CLUSTERS = 6, \n",
      "(RR) Reduction ratio is: 0.75905488028763\n",
      "(PC) Pair completeness is: 0.7877697841726619\n",
      "(RM) Reference metric (Harmonic mean RR and PC) is: 0.7731458037333901\n",
      "(PQ) Pair quality - Precision is: 0.0006033529480438037\n",
      "(FM) Fmeasure is: 0.0012057823872495394\n",
      "clustering with NUM_CLUSTERS = 11, \n",
      "(RR) Reduction ratio is: 0.8705478403481033\n",
      "(PC) Pair completeness is: 0.7342625899280576\n",
      "(RM) Reference metric (Harmonic mean RR and PC) is: 0.7966183417692245\n",
      "(PQ) Pair quality - Precision is: 0.001046724419189734\n",
      "(FM) Fmeasure is: 0.002090468780903382\n",
      "clustering with NUM_CLUSTERS = 16, \n",
      "(RR) Reduction ratio is: 0.9241639799545205\n",
      "(PC) Pair completeness is: 0.6933453237410072\n",
      "(RM) Reference metric (Harmonic mean RR and PC) is: 0.7922857351205186\n",
      "(PQ) Pair quality - Precision is: 0.0016871912423614113\n",
      "(FM) Fmeasure is: 0.0033661911721527367\n",
      "clustering with NUM_CLUSTERS = 21, \n",
      "(RR) Reduction ratio is: 0.9389661700380738\n",
      "(PC) Pair completeness is: 0.6780575539568345\n",
      "(RM) Reference metric (Harmonic mean RR and PC) is: 0.7874629110960877\n",
      "(PQ) Pair quality - Precision is: 0.0020501526058554426\n",
      "(FM) Fmeasure is: 0.004087945035030816\n",
      "clustering with NUM_CLUSTERS = 26, \n",
      "(RR) Reduction ratio is: 0.9473815706551706\n",
      "(PC) Pair completeness is: 0.6614208633093526\n",
      "(RM) Reference metric (Harmonic mean RR and PC) is: 0.7789868079723843\n",
      "(PQ) Pair quality - Precision is: 0.0023196916749719304\n",
      "(FM) Fmeasure is: 0.004623169275253002\n",
      "clustering with NUM_CLUSTERS = 31, \n",
      "(RR) Reduction ratio is: 0.9563091856306157\n",
      "(PC) Pair completeness is: 0.6344424460431655\n",
      "(RM) Reference metric (Harmonic mean RR and PC) is: 0.7628131592945709\n",
      "(PQ) Pair quality - Precision is: 0.0026797380655747666\n",
      "(FM) Fmeasure is: 0.005336934156378601\n",
      "clustering with NUM_CLUSTERS = 36, \n",
      "(RR) Reduction ratio is: 0.9602019483728087\n",
      "(PC) Pair completeness is: 0.6245503597122302\n",
      "(RM) Reference metric (Harmonic mean RR and PC) is: 0.7568305396283316\n",
      "(PQ) Pair quality - Precision is: 0.0028959823197047723\n",
      "(FM) Fmeasure is: 0.005765231792202617\n",
      "clustering with NUM_CLUSTERS = 41, \n",
      "(RR) Reduction ratio is: 0.9645417058903821\n",
      "(PC) Pair completeness is: 0.614658273381295\n",
      "(RM) Reference metric (Harmonic mean RR and PC) is: 0.7508403588255596\n",
      "(PQ) Pair quality - Precision is: 0.003198940394871399\n",
      "(FM) Fmeasure is: 0.0063647559206896475\n",
      "clustering with NUM_CLUSTERS = 46, \n",
      "(RR) Reduction ratio is: 0.9697172863840844\n",
      "(PC) Pair completeness is: 0.5926258992805755\n",
      "(RM) Reference metric (Harmonic mean RR and PC) is: 0.7356636930532062\n",
      "(PQ) Pair quality - Precision is: 0.0036114041457165954\n",
      "(FM) Fmeasure is: 0.007179059804618456\n"
     ]
    }
   ],
   "source": [
    "for i in range(1,50,5):\n",
    "    num_clusters = int(i)\n",
    "    blocks = hierarchy_cluster(pca_embeddings, {'num_clusters': num_clusters})\n",
    "    calc_index(blocks,table,pairs)"
   ]
  },
  {
   "cell_type": "markdown",
   "metadata": {},
   "source": [
    "# Result"
   ]
  },
  {
   "cell_type": "code",
   "execution_count": null,
   "metadata": {},
   "outputs": [],
   "source": [
    "# DBLP_ACM\n",
    "# RR PC alpha\n",
    "\n",
    "# attrs: ['title', 'authors']\n",
    "list_hierarchy_tsne = [0.9990, 0.9775, 0.9881]  \n",
    "list_hierarchy_pca = [0.8696, 0.7351, 0.7967] # PCA: 0.6182, BLOCKS: 0.589, n_cluster: 10 \n"
   ]
  }
 ],
 "metadata": {
  "kernelspec": {
   "display_name": "Python 3.7.7 64-bit ('thesisEnv': conda)",
   "language": "python",
   "name": "python37764bitthesisenvcondad61bb62be9734ae9b8ba15c07cc7706a"
  },
  "language_info": {
   "codemirror_mode": {
    "name": "ipython",
    "version": 3
   },
   "file_extension": ".py",
   "mimetype": "text/x-python",
   "name": "python",
   "nbconvert_exporter": "python",
   "pygments_lexer": "ipython3",
   "version": "3.7.7"
  },
  "toc": {
   "base_numbering": 1,
   "nav_menu": {},
   "number_sections": true,
   "sideBar": true,
   "skip_h1_title": false,
   "title_cell": "Table of Contents",
   "title_sidebar": "Contents",
   "toc_cell": true,
   "toc_position": {},
   "toc_section_display": true,
   "toc_window_display": false
  },
  "varInspector": {
   "cols": {
    "lenName": 16,
    "lenType": 16,
    "lenVar": 40
   },
   "kernels_config": {
    "python": {
     "delete_cmd_postfix": "",
     "delete_cmd_prefix": "del ",
     "library": "var_list.py",
     "varRefreshCmd": "print(var_dic_list())"
    },
    "r": {
     "delete_cmd_postfix": ") ",
     "delete_cmd_prefix": "rm(",
     "library": "var_list.r",
     "varRefreshCmd": "cat(var_dic_list()) "
    }
   },
   "types_to_exclude": [
    "module",
    "function",
    "builtin_function_or_method",
    "instance",
    "_Feature"
   ],
   "window_display": false
  }
 },
 "nbformat": 4,
 "nbformat_minor": 4
}
