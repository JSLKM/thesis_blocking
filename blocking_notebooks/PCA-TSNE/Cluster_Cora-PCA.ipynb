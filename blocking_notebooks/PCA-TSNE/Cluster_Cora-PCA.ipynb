{
 "cells": [
  {
   "cell_type": "markdown",
   "metadata": {
    "toc": true
   },
   "source": [
    "<h1>Table of Contents<span class=\"tocSkip\"></span></h1>\n",
    "<div class=\"toc\"><ul class=\"toc-item\"><li><span><a href=\"#Setup\" data-toc-modified-id=\"Setup-1\"><span class=\"toc-item-num\">1&nbsp;&nbsp;</span>Setup</a></span></li><li><span><a href=\"#Import-dataset\" data-toc-modified-id=\"Import-dataset-2\"><span class=\"toc-item-num\">2&nbsp;&nbsp;</span>Import dataset</a></span></li><li><span><a href=\"#Sentence-embedding\" data-toc-modified-id=\"Sentence-embedding-3\"><span class=\"toc-item-num\">3&nbsp;&nbsp;</span>Sentence embedding</a></span><ul class=\"toc-item\"><li><span><a href=\"#Infersent\" data-toc-modified-id=\"Infersent-3.1\"><span class=\"toc-item-num\">3.1&nbsp;&nbsp;</span>Infersent</a></span></li></ul></li><li><span><a href=\"#Dimensionality-reduction\" data-toc-modified-id=\"Dimensionality-reduction-4\"><span class=\"toc-item-num\">4&nbsp;&nbsp;</span>Dimensionality reduction</a></span><ul class=\"toc-item\"><li><span><a href=\"#PCA\" data-toc-modified-id=\"PCA-4.1\"><span class=\"toc-item-num\">4.1&nbsp;&nbsp;</span>PCA</a></span></li></ul></li><li><span><a href=\"#Blocking\" data-toc-modified-id=\"Blocking-5\"><span class=\"toc-item-num\">5&nbsp;&nbsp;</span>Blocking</a></span></li><li><span><a href=\"#Evaluation\" data-toc-modified-id=\"Evaluation-6\"><span class=\"toc-item-num\">6&nbsp;&nbsp;</span>Evaluation</a></span><ul class=\"toc-item\"><li><span><a href=\"#bilstm,-rnn_dim-2048\" data-toc-modified-id=\"bilstm,-rnn_dim-2048-6.1\"><span class=\"toc-item-num\">6.1&nbsp;&nbsp;</span>bilstm, rnn_dim 2048</a></span></li><li><span><a href=\"#Searching\" data-toc-modified-id=\"Searching-6.2\"><span class=\"toc-item-num\">6.2&nbsp;&nbsp;</span>Searching</a></span></li></ul></li><li><span><a href=\"#Result\" data-toc-modified-id=\"Result-7\"><span class=\"toc-item-num\">7&nbsp;&nbsp;</span>Result</a></span></li></ul></div>"
   ]
  },
  {
   "cell_type": "markdown",
   "metadata": {
    "heading_collapsed": true
   },
   "source": [
    "# Setup "
   ]
  },
  {
   "cell_type": "code",
   "execution_count": 1,
   "metadata": {
    "hidden": true
   },
   "outputs": [],
   "source": [
    "import os\n",
    "import sys\n",
    "import time\n",
    "import numpy as np\n",
    "import matplotlib.pyplot as plt\n",
    "\n",
    "module_path = os.path.abspath(os.path.join('../..'))\n",
    "if module_path not in sys.path:\n",
    "    sys.path.append(module_path)\n",
    "    \n",
    "from preprocessing_datasets.preprocessing_utilities import get_labels_by\n",
    "\n",
    "params = {}"
   ]
  },
  {
   "cell_type": "markdown",
   "metadata": {
    "heading_collapsed": true
   },
   "source": [
    "# Import dataset"
   ]
  },
  {
   "cell_type": "code",
   "execution_count": 2,
   "metadata": {
    "hidden": true
   },
   "outputs": [],
   "source": [
    "from preprocessing_datasets.preprocessing_cora import clean_cora\n",
    "table, pairs = clean_cora()"
   ]
  },
  {
   "cell_type": "code",
   "execution_count": 3,
   "metadata": {
    "hidden": true
   },
   "outputs": [
    {
     "data": {
      "text/html": [
       "<div>\n",
       "<style scoped>\n",
       "    .dataframe tbody tr th:only-of-type {\n",
       "        vertical-align: middle;\n",
       "    }\n",
       "\n",
       "    .dataframe tbody tr th {\n",
       "        vertical-align: top;\n",
       "    }\n",
       "\n",
       "    .dataframe thead th {\n",
       "        text-align: right;\n",
       "    }\n",
       "</style>\n",
       "<table border=\"1\" class=\"dataframe\">\n",
       "  <thead>\n",
       "    <tr style=\"text-align: right;\">\n",
       "      <th></th>\n",
       "      <th>author</th>\n",
       "      <th>volume</th>\n",
       "      <th>title</th>\n",
       "      <th>institution</th>\n",
       "      <th>venue</th>\n",
       "      <th>address</th>\n",
       "      <th>publisher</th>\n",
       "      <th>year</th>\n",
       "      <th>pages</th>\n",
       "      <th>editor</th>\n",
       "      <th>note</th>\n",
       "      <th>month</th>\n",
       "    </tr>\n",
       "  </thead>\n",
       "  <tbody>\n",
       "    <tr>\n",
       "      <th>0</th>\n",
       "      <td>p. auer, n. cesa-bianchi, y. freund, and r. e....</td>\n",
       "      <td>unk</td>\n",
       "      <td>'gambling in a rigged casino: the adversarial ...</td>\n",
       "      <td>unk</td>\n",
       "      <td>in proc. 36th annual symposium on foundations ...</td>\n",
       "      <td>los alamitos, ca:,</td>\n",
       "      <td>ieee computer society press,,</td>\n",
       "      <td>1995,,</td>\n",
       "      <td>pp. 322-331.,</td>\n",
       "      <td>unk</td>\n",
       "      <td>unk</td>\n",
       "      <td>unk</td>\n",
       "    </tr>\n",
       "    <tr>\n",
       "      <th>1</th>\n",
       "      <td>a. blum, m. furst, m. j. kearns, and richard j...</td>\n",
       "      <td>unk</td>\n",
       "      <td>cryptographic primitives based on hard learnin...</td>\n",
       "      <td>unk</td>\n",
       "      <td>in pre-proceedings of crypto '93,,</td>\n",
       "      <td>unk</td>\n",
       "      <td>unk</td>\n",
       "      <td>1993.,</td>\n",
       "      <td>pages 24.1-24.10,,</td>\n",
       "      <td>unk</td>\n",
       "      <td>unk</td>\n",
       "      <td>unk</td>\n",
       "    </tr>\n",
       "    <tr>\n",
       "      <th>2</th>\n",
       "      <td>avrim blum, merrick furst, michael kearns, and...</td>\n",
       "      <td>unk</td>\n",
       "      <td>cryptographic primitives based on hard learnin...</td>\n",
       "      <td>unk</td>\n",
       "      <td>in pre-proceedings of crypto '93,,</td>\n",
       "      <td>unk</td>\n",
       "      <td>unk</td>\n",
       "      <td>1993.,</td>\n",
       "      <td>pages 24.1-24.10,,</td>\n",
       "      <td>unk</td>\n",
       "      <td>unk</td>\n",
       "      <td>unk</td>\n",
       "    </tr>\n",
       "    <tr>\n",
       "      <th>3</th>\n",
       "      <td>avrim blum, merrick furst, michael kearns, and...</td>\n",
       "      <td>unk</td>\n",
       "      <td>cryptographic primitives based on hard learnin...</td>\n",
       "      <td>unk</td>\n",
       "      <td>proc. crypto 93,,</td>\n",
       "      <td>unk</td>\n",
       "      <td>springer,,</td>\n",
       "      <td>1994.,</td>\n",
       "      <td>pages 278-291.,</td>\n",
       "      <td>in douglas r. stinson, editor,,</td>\n",
       "      <td>lecture notes in computer science no. 773.,</td>\n",
       "      <td>unk</td>\n",
       "    </tr>\n",
       "    <tr>\n",
       "      <th>4</th>\n",
       "      <td>a. blum, m. furst, m. kearns, r. lipton.,</td>\n",
       "      <td>unk</td>\n",
       "      <td>cryptographic primitives based on hard learnin...</td>\n",
       "      <td>unk</td>\n",
       "      <td>crypto,,</td>\n",
       "      <td>unk</td>\n",
       "      <td>unk</td>\n",
       "      <td>1993.,</td>\n",
       "      <td>unk</td>\n",
       "      <td>unk</td>\n",
       "      <td>unk</td>\n",
       "      <td>unk</td>\n",
       "    </tr>\n",
       "    <tr>\n",
       "      <th>...</th>\n",
       "      <td>...</td>\n",
       "      <td>...</td>\n",
       "      <td>...</td>\n",
       "      <td>...</td>\n",
       "      <td>...</td>\n",
       "      <td>...</td>\n",
       "      <td>...</td>\n",
       "      <td>...</td>\n",
       "      <td>...</td>\n",
       "      <td>...</td>\n",
       "      <td>...</td>\n",
       "      <td>...</td>\n",
       "    </tr>\n",
       "    <tr>\n",
       "      <th>1290</th>\n",
       "      <td>robert e. schapire and yoram singer.,</td>\n",
       "      <td>unk</td>\n",
       "      <td>improved boosting algorithms using confidence-...</td>\n",
       "      <td>unk</td>\n",
       "      <td>in proceedings of the eleventh annual conferen...</td>\n",
       "      <td>unk</td>\n",
       "      <td>unk</td>\n",
       "      <td>1998.,</td>\n",
       "      <td>unk</td>\n",
       "      <td>unk</td>\n",
       "      <td>unk</td>\n",
       "      <td>unk</td>\n",
       "    </tr>\n",
       "    <tr>\n",
       "      <th>1291</th>\n",
       "      <td>schapire, r. e., freund, y., bartlett, p., &amp; l...</td>\n",
       "      <td>unk</td>\n",
       "      <td>boosting the margin: a new explanation for the...</td>\n",
       "      <td>unk</td>\n",
       "      <td>unk</td>\n",
       "      <td>unk</td>\n",
       "      <td>unk</td>\n",
       "      <td>(1998).,</td>\n",
       "      <td>unk</td>\n",
       "      <td>unk</td>\n",
       "      <td>annals of statistics (to appear).,</td>\n",
       "      <td>unk</td>\n",
       "    </tr>\n",
       "    <tr>\n",
       "      <th>1292</th>\n",
       "      <td>robert e. schapire and yoram singer. boostexter:,</td>\n",
       "      <td>unk</td>\n",
       "      <td>a system for multiclass multi-label text categ...</td>\n",
       "      <td>unk</td>\n",
       "      <td>unpublished manuscript,,</td>\n",
       "      <td>unk</td>\n",
       "      <td>unk</td>\n",
       "      <td>1998.,</td>\n",
       "      <td>unk</td>\n",
       "      <td>unk</td>\n",
       "      <td>unk</td>\n",
       "      <td>unk</td>\n",
       "    </tr>\n",
       "    <tr>\n",
       "      <th>1293</th>\n",
       "      <td>robert e. schapire yoram singer.,</td>\n",
       "      <td>unk</td>\n",
       "      <td>improved boosting algorithms using confidence-...</td>\n",
       "      <td>unk</td>\n",
       "      <td>unk</td>\n",
       "      <td>unk</td>\n",
       "      <td>unk</td>\n",
       "      <td>unk</td>\n",
       "      <td>unk</td>\n",
       "      <td>unk</td>\n",
       "      <td>submitted for publication. 17,</td>\n",
       "      <td>unk</td>\n",
       "    </tr>\n",
       "    <tr>\n",
       "      <th>1294</th>\n",
       "      <td>robert e. schapire yoram singer.,</td>\n",
       "      <td>unk</td>\n",
       "      <td>improved boosting algorithms using confidence-...</td>\n",
       "      <td>unk</td>\n",
       "      <td>unk</td>\n",
       "      <td>unk</td>\n",
       "      <td>unk</td>\n",
       "      <td>unk</td>\n",
       "      <td>unk</td>\n",
       "      <td>unk</td>\n",
       "      <td>submitted for publication.,</td>\n",
       "      <td>unk</td>\n",
       "    </tr>\n",
       "  </tbody>\n",
       "</table>\n",
       "<p>1295 rows × 12 columns</p>\n",
       "</div>"
      ],
      "text/plain": [
       "                                                 author volume  \\\n",
       "0     p. auer, n. cesa-bianchi, y. freund, and r. e....    unk   \n",
       "1     a. blum, m. furst, m. j. kearns, and richard j...    unk   \n",
       "2     avrim blum, merrick furst, michael kearns, and...    unk   \n",
       "3     avrim blum, merrick furst, michael kearns, and...    unk   \n",
       "4             a. blum, m. furst, m. kearns, r. lipton.,    unk   \n",
       "...                                                 ...    ...   \n",
       "1290              robert e. schapire and yoram singer.,    unk   \n",
       "1291  schapire, r. e., freund, y., bartlett, p., & l...    unk   \n",
       "1292  robert e. schapire and yoram singer. boostexter:,    unk   \n",
       "1293                  robert e. schapire yoram singer.,    unk   \n",
       "1294                  robert e. schapire yoram singer.,    unk   \n",
       "\n",
       "                                                  title institution  \\\n",
       "0     'gambling in a rigged casino: the adversarial ...         unk   \n",
       "1     cryptographic primitives based on hard learnin...         unk   \n",
       "2     cryptographic primitives based on hard learnin...         unk   \n",
       "3     cryptographic primitives based on hard learnin...         unk   \n",
       "4     cryptographic primitives based on hard learnin...         unk   \n",
       "...                                                 ...         ...   \n",
       "1290  improved boosting algorithms using confidence-...         unk   \n",
       "1291  boosting the margin: a new explanation for the...         unk   \n",
       "1292  a system for multiclass multi-label text categ...         unk   \n",
       "1293  improved boosting algorithms using confidence-...         unk   \n",
       "1294  improved boosting algorithms using confidence-...         unk   \n",
       "\n",
       "                                                  venue             address  \\\n",
       "0     in proc. 36th annual symposium on foundations ...  los alamitos, ca:,   \n",
       "1                    in pre-proceedings of crypto '93,,                 unk   \n",
       "2                    in pre-proceedings of crypto '93,,                 unk   \n",
       "3                                     proc. crypto 93,,                 unk   \n",
       "4                                              crypto,,                 unk   \n",
       "...                                                 ...                 ...   \n",
       "1290  in proceedings of the eleventh annual conferen...                 unk   \n",
       "1291                                                unk                 unk   \n",
       "1292                           unpublished manuscript,,                 unk   \n",
       "1293                                                unk                 unk   \n",
       "1294                                                unk                 unk   \n",
       "\n",
       "                          publisher      year               pages  \\\n",
       "0     ieee computer society press,,    1995,,       pp. 322-331.,   \n",
       "1                               unk    1993.,  pages 24.1-24.10,,   \n",
       "2                               unk    1993.,  pages 24.1-24.10,,   \n",
       "3                        springer,,    1994.,     pages 278-291.,   \n",
       "4                               unk    1993.,                 unk   \n",
       "...                             ...       ...                 ...   \n",
       "1290                            unk    1998.,                 unk   \n",
       "1291                            unk  (1998).,                 unk   \n",
       "1292                            unk    1998.,                 unk   \n",
       "1293                            unk       unk                 unk   \n",
       "1294                            unk       unk                 unk   \n",
       "\n",
       "                               editor  \\\n",
       "0                                 unk   \n",
       "1                                 unk   \n",
       "2                                 unk   \n",
       "3     in douglas r. stinson, editor,,   \n",
       "4                                 unk   \n",
       "...                               ...   \n",
       "1290                              unk   \n",
       "1291                              unk   \n",
       "1292                              unk   \n",
       "1293                              unk   \n",
       "1294                              unk   \n",
       "\n",
       "                                             note month  \n",
       "0                                             unk   unk  \n",
       "1                                             unk   unk  \n",
       "2                                             unk   unk  \n",
       "3     lecture notes in computer science no. 773.,   unk  \n",
       "4                                             unk   unk  \n",
       "...                                           ...   ...  \n",
       "1290                                          unk   unk  \n",
       "1291           annals of statistics (to appear).,   unk  \n",
       "1292                                          unk   unk  \n",
       "1293               submitted for publication. 17,   unk  \n",
       "1294                  submitted for publication.,   unk  \n",
       "\n",
       "[1295 rows x 12 columns]"
      ]
     },
     "execution_count": 3,
     "metadata": {},
     "output_type": "execute_result"
    }
   ],
   "source": [
    "table"
   ]
  },
  {
   "cell_type": "markdown",
   "metadata": {},
   "source": [
    "# Sentence embedding"
   ]
  },
  {
   "cell_type": "markdown",
   "metadata": {},
   "source": [
    "## Infersent"
   ]
  },
  {
   "cell_type": "markdown",
   "metadata": {},
   "source": [
    "Setup model"
   ]
  },
  {
   "cell_type": "code",
   "execution_count": 4,
   "metadata": {},
   "outputs": [
    {
     "name": "stdout",
     "output_type": "stream",
     "text": [
      "Vocab size : 2196017\n",
      "TIME: 176.64890599250793\n"
     ]
    }
   ],
   "source": [
    "from embedding_algorithms.inferSent import set_RNN_embedding\n",
    "start = time.time()\n",
    "model_type = \"bilstm\" \n",
    "char_level = False\n",
    "model_version = 2\n",
    "rnn_dim = 2048\n",
    "verbose = 1\n",
    "set_RNN_embedding(model_type, char_level, model_version, rnn_dim, verbose)\n",
    "print(\"TIME: {0}\".format(time.time() - start))\n",
    "\n",
    "params['embedding'] = {\n",
    "    'name': 'Infersent',\n",
    "    'model_type': model_type,\n",
    "    'char_level': char_level,\n",
    "    'model_version': model_version,\n",
    "    'rnn_dim': rnn_dim,\n",
    "    'verbose': verbose\n",
    "}"
   ]
  },
  {
   "cell_type": "markdown",
   "metadata": {},
   "source": [
    "Embedding"
   ]
  },
  {
   "cell_type": "code",
   "execution_count": 5,
   "metadata": {},
   "outputs": [
    {
     "name": "stdout",
     "output_type": "stream",
     "text": [
      "attrs: ['author', 'title']\n"
     ]
    }
   ],
   "source": [
    "from embedding_algorithms.inferSent import RNN_embedding\n",
    "attr_list = ['author', 'title']\n",
    "params['attr_list'] = attr_list\n",
    "embeddings_tokens = RNN_embedding(table, attr_list, model_type, char_level)\n",
    "embeddings_tokens = np.array(embeddings_tokens)"
   ]
  },
  {
   "cell_type": "markdown",
   "metadata": {},
   "source": [
    "# Dimensionality reduction"
   ]
  },
  {
   "cell_type": "markdown",
   "metadata": {},
   "source": [
    "## PCA"
   ]
  },
  {
   "cell_type": "code",
   "execution_count": 6,
   "metadata": {},
   "outputs": [
    {
     "name": "stdout",
     "output_type": "stream",
     "text": [
      "starting dimension: 4096\n",
      "setting PCA with n_components: 2\n",
      "PCA: 0.20624470710754395\n"
     ]
    }
   ],
   "source": [
    "from dimensionality_reduction_algorithms.pca import pca_dim_reduction\n",
    "\n",
    "start = time.time()\n",
    "pca_embeddings = pca_dim_reduction(\n",
    "            embeddings_tokens, \n",
    "            num_components=2,\n",
    "            verbose=1)\n",
    "\n",
    "print(\"PCA: {0}\".format(time.time() - start))\n",
    "\n",
    "params['reduction'] = {\n",
    "    'name': 'PCA',\n",
    "    'num_components': 2,\n",
    "    'verbose': 1,\n",
    "}"
   ]
  },
  {
   "cell_type": "markdown",
   "metadata": {},
   "source": [
    "# Blocking"
   ]
  },
  {
   "cell_type": "code",
   "execution_count": 12,
   "metadata": {},
   "outputs": [
    {
     "name": "stdout",
     "output_type": "stream",
     "text": [
      "clustering with NUM_CLUSTERS = 3, \n",
      "BLOCKS: 0.05434703826904297\n"
     ]
    }
   ],
   "source": [
    "from cluster_algorithms.hierarchy_cluster import hierarchy_cluster\n",
    "num_clusters = 3\n",
    "start = time.time()\n",
    "blocks = hierarchy_cluster(pca_embeddings, {'num_clusters': num_clusters})\n",
    "print(\"BLOCKS: {0}\".format(time.time() - start))\n",
    "\n",
    "params['blocking'] = {\n",
    "    'name': 'hierarchy',\n",
    "    'num_clusters': num_clusters\n",
    "}"
   ]
  },
  {
   "cell_type": "markdown",
   "metadata": {},
   "source": [
    "# Evaluation"
   ]
  },
  {
   "cell_type": "markdown",
   "metadata": {},
   "source": [
    "## bilstm, rnn_dim 2048"
   ]
  },
  {
   "cell_type": "code",
   "execution_count": 13,
   "metadata": {},
   "outputs": [
    {
     "name": "stdout",
     "output_type": "stream",
     "text": [
      "(RR) Reduction ratio is: 0.6653721064849349\n",
      "(PC) Pair completeness is: 0.6598580074487895\n",
      "(RM) Reference metric (Harmonic mean RR and PC) is: 0.6626035852655099\n",
      "(PQ) Pair quality - Precision is: 0.040442553312908164\n",
      "(FM) Fmeasure is: 0.07621396908827553\n",
      "\n",
      "['author', 'title']\n",
      "{'name': 'Infersent', 'model_type': 'bilstm', 'char_level': False, 'model_version': 2, 'rnn_dim': 2048, 'verbose': 1}\n",
      "{'name': 'PCA', 'num_components': 2, 'verbose': 1}\n",
      "{'name': 'hierarchy', 'num_clusters': 3}\n"
     ]
    }
   ],
   "source": [
    "from evaluation import calc_index\n",
    "calc_index(blocks,table,pairs)\n",
    "print()\n",
    "print(params['attr_list'])\n",
    "print(params['embedding'])\n",
    "print(params['reduction'])\n",
    "print(params['blocking'])"
   ]
  },
  {
   "cell_type": "markdown",
   "metadata": {
    "heading_collapsed": true
   },
   "source": [
    "## Searching"
   ]
  },
  {
   "cell_type": "code",
   "execution_count": 11,
   "metadata": {
    "hidden": true
   },
   "outputs": [
    {
     "name": "stdout",
     "output_type": "stream",
     "text": [
      "clustering with NUM_CLUSTERS = 30, \n",
      "(RR) Reduction ratio is: 0.9617372727109976\n",
      "(PC) Pair completeness is: 0.28299581005586594\n",
      "(RM) Reference metric (Harmonic mean RR and PC) is: 0.4373108135710161\n",
      "(PQ) Pair quality - Precision is: 0.1516890732711563\n",
      "(FM) Fmeasure is: 0.19751030603334482\n",
      "clustering with NUM_CLUSTERS = 31, \n",
      "(RR) Reduction ratio is: 0.9617850130987688\n",
      "(PC) Pair completeness is: 0.28299581005586594\n",
      "(RM) Reference metric (Harmonic mean RR and PC) is: 0.437315748794542\n",
      "(PQ) Pair quality - Precision is: 0.1518785720978169\n",
      "(FM) Fmeasure is: 0.19767087372721176\n",
      "clustering with NUM_CLUSTERS = 32, \n",
      "(RR) Reduction ratio is: 0.9624724746826756\n",
      "(PC) Pair completeness is: 0.2772346368715084\n",
      "(RM) Reference metric (Harmonic mean RR and PC) is: 0.4304737861557572\n",
      "(PQ) Pair quality - Precision is: 0.15151226028050757\n",
      "(FM) Fmeasure is: 0.19594052686778948\n",
      "clustering with NUM_CLUSTERS = 33, \n",
      "(RR) Reduction ratio is: 0.9629665876961085\n",
      "(PC) Pair completeness is: 0.27641992551210426\n",
      "(RM) Reference metric (Harmonic mean RR and PC) is: 0.42954017912067693\n",
      "(PQ) Pair quality - Precision is: 0.15308260014824843\n",
      "(FM) Fmeasure is: 0.19704229149814367\n",
      "clustering with NUM_CLUSTERS = 34, \n",
      "(RR) Reduction ratio is: 0.9633998317151331\n",
      "(PC) Pair completeness is: 0.27612895716945995\n",
      "(RM) Reference metric (Harmonic mean RR and PC) is: 0.4292318068838352\n",
      "(PQ) Pair quality - Precision is: 0.1547316246005348\n",
      "(FM) Fmeasure is: 0.19832810867293627\n",
      "clustering with NUM_CLUSTERS = 35, \n",
      "(RR) Reduction ratio is: 0.9641612909000853\n",
      "(PC) Pair completeness is: 0.27554702048417135\n",
      "(RM) Reference metric (Harmonic mean RR and PC) is: 0.42860367803300786\n",
      "(PQ) Pair quality - Precision is: 0.1576861595843879\n",
      "(FM) Fmeasure is: 0.20058459713632126\n",
      "clustering with NUM_CLUSTERS = 36, \n",
      "(RR) Reduction ratio is: 0.9645456010216443\n",
      "(PC) Pair completeness is: 0.2747323091247672\n",
      "(RM) Reference metric (Harmonic mean RR and PC) is: 0.4276552306068393\n",
      "(PQ) Pair quality - Precision is: 0.15892412307277992\n",
      "(FM) Fmeasure is: 0.20136489656643208\n",
      "clustering with NUM_CLUSTERS = 37, \n",
      "(RR) Reduction ratio is: 0.9653189953035394\n",
      "(PC) Pair completeness is: 0.2743249534450652\n",
      "(RM) Reference metric (Harmonic mean RR and PC) is: 0.42723733490346477\n",
      "(PQ) Pair quality - Precision is: 0.16222726959873357\n",
      "(FM) Fmeasure is: 0.20388391505557718\n",
      "clustering with NUM_CLUSTERS = 38, \n",
      "(RR) Reduction ratio is: 0.965930072267012\n",
      "(PC) Pair completeness is: 0.27246275605214154\n",
      "(RM) Reference metric (Harmonic mean RR and PC) is: 0.4250347121288217\n",
      "(PQ) Pair quality - Precision is: 0.1640159742170532\n",
      "(FM) Fmeasure is: 0.20476711130548877\n",
      "clustering with NUM_CLUSTERS = 39, \n",
      "(RR) Reduction ratio is: 0.9681380652014346\n",
      "(PC) Pair completeness is: 0.2699022346368715\n",
      "(RM) Reference metric (Harmonic mean RR and PC) is: 0.42212297494518036\n",
      "(PQ) Pair quality - Precision is: 0.17373389271801018\n",
      "(FM) Fmeasure is: 0.2113947128532361\n",
      "clustering with NUM_CLUSTERS = 40, \n",
      "(RR) Reduction ratio is: 0.9687181109128559\n",
      "(PC) Pair completeness is: 0.26949487895716945\n",
      "(RM) Reference metric (Harmonic mean RR and PC) is: 0.4216795853054034\n",
      "(PQ) Pair quality - Precision is: 0.17668828691339183\n",
      "(FM) Fmeasure is: 0.2134396460340139\n",
      "clustering with NUM_CLUSTERS = 41, \n",
      "(RR) Reduction ratio is: 0.9691370328155491\n",
      "(PC) Pair completeness is: 0.26838919925512106\n",
      "(RM) Reference metric (Harmonic mean RR and PC) is: 0.42036428071610465\n",
      "(PQ) Pair quality - Precision is: 0.1783518310839553\n",
      "(FM) Fmeasure is: 0.21429733057640035\n",
      "clustering with NUM_CLUSTERS = 42, \n",
      "(RR) Reduction ratio is: 0.9700906470612808\n",
      "(PC) Pair completeness is: 0.26542132216014896\n",
      "(RM) Reference metric (Harmonic mean RR and PC) is: 0.41680331485652033\n",
      "(PQ) Pair quality - Precision is: 0.18200319233838788\n",
      "(FM) Fmeasure is: 0.21593599090995172\n",
      "clustering with NUM_CLUSTERS = 43, \n",
      "(RR) Reduction ratio is: 0.9702625124572575\n",
      "(PC) Pair completeness is: 0.26542132216014896\n",
      "(RM) Reference metric (Harmonic mean RR and PC) is: 0.4168191760452535\n",
      "(PQ) Pair quality - Precision is: 0.18305506501846203\n",
      "(FM) Fmeasure is: 0.21667458432304038\n",
      "clustering with NUM_CLUSTERS = 44, \n",
      "(RR) Reduction ratio is: 0.9714190233510172\n",
      "(PC) Pair completeness is: 0.2640246741154562\n",
      "(RM) Reference metric (Harmonic mean RR and PC) is: 0.41520077620011037\n",
      "(PQ) Pair quality - Precision is: 0.1894600576272602\n",
      "(FM) Fmeasure is: 0.22061219031873766\n",
      "clustering with NUM_CLUSTERS = 45, \n",
      "(RR) Reduction ratio is: 0.9721351291675867\n",
      "(PC) Pair completeness is: 0.26320996275605213\n",
      "(RM) Reference metric (Harmonic mean RR and PC) is: 0.4142577694522738\n",
      "(PQ) Pair quality - Precision is: 0.19372938707328566\n",
      "(FM) Fmeasure is: 0.22318719005205892\n",
      "clustering with NUM_CLUSTERS = 46, \n",
      "(RR) Reduction ratio is: 0.9723022205247862\n",
      "(PC) Pair completeness is: 0.26320996275605213\n",
      "(RM) Reference metric (Harmonic mean RR and PC) is: 0.41427293832485645\n",
      "(PQ) Pair quality - Precision is: 0.19489809109320463\n",
      "(FM) Fmeasure is: 0.22396078334282388\n",
      "clustering with NUM_CLUSTERS = 47, \n",
      "(RR) Reduction ratio is: 0.9730708407679042\n",
      "(PC) Pair completeness is: 0.2629189944134078\n",
      "(RM) Reference metric (Harmonic mean RR and PC) is: 0.41398205659219955\n",
      "(PQ) Pair quality - Precision is: 0.20023932987634624\n",
      "(FM) Fmeasure is: 0.22733791229526756\n",
      "clustering with NUM_CLUSTERS = 48, \n",
      "(RR) Reduction ratio is: 0.9734432157925202\n",
      "(PC) Pair completeness is: 0.25872905027932963\n",
      "(RM) Reference metric (Harmonic mean RR and PC) is: 0.4088032909972493\n",
      "(PQ) Pair quality - Precision is: 0.19981124443845222\n",
      "(FM) Fmeasure is: 0.22548497527577027\n",
      "clustering with NUM_CLUSTERS = 49, \n",
      "(RR) Reduction ratio is: 0.9736580475374911\n",
      "(PC) Pair completeness is: 0.25803072625698326\n",
      "(RM) Reference metric (Harmonic mean RR and PC) is: 0.4079499602128828\n",
      "(PQ) Pair quality - Precision is: 0.20089710479815143\n",
      "(FM) Fmeasure is: 0.22590752770347727\n"
     ]
    }
   ],
   "source": [
    "for i in range(30,50,1):\n",
    "    num_clusters = int(i)\n",
    "    blocks = hierarchy_cluster(pca_embeddings, {'num_clusters': num_clusters})\n",
    "    calc_index(blocks,table,pairs)"
   ]
  },
  {
   "cell_type": "markdown",
   "metadata": {},
   "source": [
    "# Result"
   ]
  },
  {
   "cell_type": "code",
   "execution_count": 33,
   "metadata": {},
   "outputs": [],
   "source": [
    "# Cora\n",
    "# RR PC alpha\n",
    "list_hierarchy_tsne = [0.9635, 0.887, 0.9241] \n",
    "list_hierarchy_pca = [0.6653, 0.6598, 0.6626] # pca: 0.206, blocks: 0.054, num_clusters: 3 "
   ]
  },
  {
   "cell_type": "code",
   "execution_count": null,
   "metadata": {},
   "outputs": [],
   "source": []
  }
 ],
 "metadata": {
  "kernelspec": {
   "display_name": "Python 3.7.7 64-bit ('thesisEnv': conda)",
   "language": "python",
   "name": "python37764bitthesisenvcondad61bb62be9734ae9b8ba15c07cc7706a"
  },
  "language_info": {
   "codemirror_mode": {
    "name": "ipython",
    "version": 3
   },
   "file_extension": ".py",
   "mimetype": "text/x-python",
   "name": "python",
   "nbconvert_exporter": "python",
   "pygments_lexer": "ipython3",
   "version": "3.7.7"
  },
  "toc": {
   "base_numbering": 1,
   "nav_menu": {},
   "number_sections": true,
   "sideBar": true,
   "skip_h1_title": false,
   "title_cell": "Table of Contents",
   "title_sidebar": "Contents",
   "toc_cell": true,
   "toc_position": {},
   "toc_section_display": true,
   "toc_window_display": false
  },
  "varInspector": {
   "cols": {
    "lenName": 16,
    "lenType": 16,
    "lenVar": 40
   },
   "kernels_config": {
    "python": {
     "delete_cmd_postfix": "",
     "delete_cmd_prefix": "del ",
     "library": "var_list.py",
     "varRefreshCmd": "print(var_dic_list())"
    },
    "r": {
     "delete_cmd_postfix": ") ",
     "delete_cmd_prefix": "rm(",
     "library": "var_list.r",
     "varRefreshCmd": "cat(var_dic_list()) "
    }
   },
   "types_to_exclude": [
    "module",
    "function",
    "builtin_function_or_method",
    "instance",
    "_Feature"
   ],
   "window_display": false
  }
 },
 "nbformat": 4,
 "nbformat_minor": 4
}
