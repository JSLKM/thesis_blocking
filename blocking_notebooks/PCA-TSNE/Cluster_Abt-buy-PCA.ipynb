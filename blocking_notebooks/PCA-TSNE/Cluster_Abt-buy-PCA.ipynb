{
 "cells": [
  {
   "cell_type": "markdown",
   "metadata": {
    "toc": true
   },
   "source": [
    "<h1>Table of Contents<span class=\"tocSkip\"></span></h1>\n",
    "<div class=\"toc\"><ul class=\"toc-item\"><li><span><a href=\"#Setup\" data-toc-modified-id=\"Setup-1\"><span class=\"toc-item-num\">1&nbsp;&nbsp;</span>Setup</a></span></li><li><span><a href=\"#Import-dataset\" data-toc-modified-id=\"Import-dataset-2\"><span class=\"toc-item-num\">2&nbsp;&nbsp;</span>Import dataset</a></span></li><li><span><a href=\"#Sentence-embedding\" data-toc-modified-id=\"Sentence-embedding-3\"><span class=\"toc-item-num\">3&nbsp;&nbsp;</span>Sentence embedding</a></span><ul class=\"toc-item\"><li><span><a href=\"#Infersent\" data-toc-modified-id=\"Infersent-3.1\"><span class=\"toc-item-num\">3.1&nbsp;&nbsp;</span>Infersent</a></span></li></ul></li><li><span><a href=\"#Dimensionality-reduction\" data-toc-modified-id=\"Dimensionality-reduction-4\"><span class=\"toc-item-num\">4&nbsp;&nbsp;</span>Dimensionality reduction</a></span><ul class=\"toc-item\"><li><span><a href=\"#PCA\" data-toc-modified-id=\"PCA-4.1\"><span class=\"toc-item-num\">4.1&nbsp;&nbsp;</span>PCA</a></span></li></ul></li><li><span><a href=\"#Blocking\" data-toc-modified-id=\"Blocking-5\"><span class=\"toc-item-num\">5&nbsp;&nbsp;</span>Blocking</a></span></li><li><span><a href=\"#Evaluation\" data-toc-modified-id=\"Evaluation-6\"><span class=\"toc-item-num\">6&nbsp;&nbsp;</span>Evaluation</a></span><ul class=\"toc-item\"><li><span><a href=\"#bilstm,-rnn_dim-2048\" data-toc-modified-id=\"bilstm,-rnn_dim-2048-6.1\"><span class=\"toc-item-num\">6.1&nbsp;&nbsp;</span>bilstm, rnn_dim 2048</a></span></li><li><span><a href=\"#Searching\" data-toc-modified-id=\"Searching-6.2\"><span class=\"toc-item-num\">6.2&nbsp;&nbsp;</span>Searching</a></span></li></ul></li><li><span><a href=\"#Result\" data-toc-modified-id=\"Result-7\"><span class=\"toc-item-num\">7&nbsp;&nbsp;</span>Result</a></span></li></ul></div>"
   ]
  },
  {
   "cell_type": "markdown",
   "metadata": {},
   "source": [
    "# Setup "
   ]
  },
  {
   "cell_type": "code",
   "execution_count": 1,
   "metadata": {},
   "outputs": [],
   "source": [
    "import os\n",
    "import sys\n",
    "import time\n",
    "import numpy as np\n",
    "import matplotlib.pyplot as plt\n",
    "\n",
    "module_path = os.path.abspath(os.path.join('../..'))\n",
    "if module_path not in sys.path:\n",
    "    sys.path.append(module_path)\n",
    "    \n",
    "params = {}"
   ]
  },
  {
   "cell_type": "markdown",
   "metadata": {},
   "source": [
    "# Import dataset"
   ]
  },
  {
   "cell_type": "code",
   "execution_count": 2,
   "metadata": {},
   "outputs": [],
   "source": [
    "from preprocessing_datasets.preprocessing_abt_buy import clean_abt_buy\n",
    "table, pairs = clean_abt_buy()"
   ]
  },
  {
   "cell_type": "code",
   "execution_count": 3,
   "metadata": {
    "scrolled": true
   },
   "outputs": [
    {
     "data": {
      "text/html": [
       "<div>\n",
       "<style scoped>\n",
       "    .dataframe tbody tr th:only-of-type {\n",
       "        vertical-align: middle;\n",
       "    }\n",
       "\n",
       "    .dataframe tbody tr th {\n",
       "        vertical-align: top;\n",
       "    }\n",
       "\n",
       "    .dataframe thead th {\n",
       "        text-align: right;\n",
       "    }\n",
       "</style>\n",
       "<table border=\"1\" class=\"dataframe\">\n",
       "  <thead>\n",
       "    <tr style=\"text-align: right;\">\n",
       "      <th></th>\n",
       "      <th>name</th>\n",
       "      <th>description</th>\n",
       "      <th>price</th>\n",
       "    </tr>\n",
       "  </thead>\n",
       "  <tbody>\n",
       "    <tr>\n",
       "      <th>0</th>\n",
       "      <td>Sony Turntable - PSLX350H</td>\n",
       "      <td>Sony Turntable - PSLX350H/ Belt Drive System/ ...</td>\n",
       "      <td>unk</td>\n",
       "    </tr>\n",
       "    <tr>\n",
       "      <th>1</th>\n",
       "      <td>Bose Acoustimass 5 Series III Speaker System -...</td>\n",
       "      <td>Bose Acoustimass 5 Series III Speaker System -...</td>\n",
       "      <td>$399.00</td>\n",
       "    </tr>\n",
       "    <tr>\n",
       "      <th>2</th>\n",
       "      <td>Sony Switcher - SBV40S</td>\n",
       "      <td>Sony Switcher - SBV40S/ Eliminates Disconnecti...</td>\n",
       "      <td>$49.00</td>\n",
       "    </tr>\n",
       "    <tr>\n",
       "      <th>3</th>\n",
       "      <td>Sony 5 Disc CD Player - CDPCE375</td>\n",
       "      <td>Sony 5 Disc CD Player- CDPCE375/ 5 Disc Change...</td>\n",
       "      <td>unk</td>\n",
       "    </tr>\n",
       "    <tr>\n",
       "      <th>4</th>\n",
       "      <td>Bose 27028 161 Bookshelf Pair Speakers In Whit...</td>\n",
       "      <td>Bose 161 Bookshelf Speakers In White - 161WH/ ...</td>\n",
       "      <td>$158.00</td>\n",
       "    </tr>\n",
       "    <tr>\n",
       "      <th>...</th>\n",
       "      <td>...</td>\n",
       "      <td>...</td>\n",
       "      <td>...</td>\n",
       "    </tr>\n",
       "    <tr>\n",
       "      <th>2168</th>\n",
       "      <td>Sony VAIO FW378J/B Notebook - VGNFW378J/B</td>\n",
       "      <td>Intel Centrino 2 Core 2 Duo P8600 2.4GHz - 16....</td>\n",
       "      <td>unk</td>\n",
       "    </tr>\n",
       "    <tr>\n",
       "      <th>2169</th>\n",
       "      <td>Sennheiser CX380 Sennheiser CX 380 Sport II Gr...</td>\n",
       "      <td>unk</td>\n",
       "      <td>unk</td>\n",
       "    </tr>\n",
       "    <tr>\n",
       "      <th>2170</th>\n",
       "      <td>IWORK 09 RETAIL-INT DVD - MB942Z/A</td>\n",
       "      <td>unk</td>\n",
       "      <td>unk</td>\n",
       "    </tr>\n",
       "    <tr>\n",
       "      <th>2171</th>\n",
       "      <td>IWORK 09 FAMILY PACK-INT DVD - MB943Z/A</td>\n",
       "      <td>unk</td>\n",
       "      <td>unk</td>\n",
       "    </tr>\n",
       "    <tr>\n",
       "      <th>2172</th>\n",
       "      <td>CASE MATE CARBON FIBER IPHONE 3G CASE BLACK - ...</td>\n",
       "      <td>unk</td>\n",
       "      <td>$28.08</td>\n",
       "    </tr>\n",
       "  </tbody>\n",
       "</table>\n",
       "<p>2173 rows × 3 columns</p>\n",
       "</div>"
      ],
      "text/plain": [
       "                                                   name  \\\n",
       "0                             Sony Turntable - PSLX350H   \n",
       "1     Bose Acoustimass 5 Series III Speaker System -...   \n",
       "2                                Sony Switcher - SBV40S   \n",
       "3                      Sony 5 Disc CD Player - CDPCE375   \n",
       "4     Bose 27028 161 Bookshelf Pair Speakers In Whit...   \n",
       "...                                                 ...   \n",
       "2168          Sony VAIO FW378J/B Notebook - VGNFW378J/B   \n",
       "2169  Sennheiser CX380 Sennheiser CX 380 Sport II Gr...   \n",
       "2170                 IWORK 09 RETAIL-INT DVD - MB942Z/A   \n",
       "2171            IWORK 09 FAMILY PACK-INT DVD - MB943Z/A   \n",
       "2172  CASE MATE CARBON FIBER IPHONE 3G CASE BLACK - ...   \n",
       "\n",
       "                                            description    price  \n",
       "0     Sony Turntable - PSLX350H/ Belt Drive System/ ...      unk  \n",
       "1     Bose Acoustimass 5 Series III Speaker System -...  $399.00  \n",
       "2     Sony Switcher - SBV40S/ Eliminates Disconnecti...   $49.00  \n",
       "3     Sony 5 Disc CD Player- CDPCE375/ 5 Disc Change...      unk  \n",
       "4     Bose 161 Bookshelf Speakers In White - 161WH/ ...  $158.00  \n",
       "...                                                 ...      ...  \n",
       "2168  Intel Centrino 2 Core 2 Duo P8600 2.4GHz - 16....      unk  \n",
       "2169                                                unk      unk  \n",
       "2170                                                unk      unk  \n",
       "2171                                                unk      unk  \n",
       "2172                                                unk   $28.08  \n",
       "\n",
       "[2173 rows x 3 columns]"
      ]
     },
     "execution_count": 3,
     "metadata": {},
     "output_type": "execute_result"
    }
   ],
   "source": [
    "table"
   ]
  },
  {
   "cell_type": "markdown",
   "metadata": {},
   "source": [
    "# Sentence embedding"
   ]
  },
  {
   "cell_type": "markdown",
   "metadata": {},
   "source": [
    "## Infersent"
   ]
  },
  {
   "cell_type": "markdown",
   "metadata": {},
   "source": [
    "Setup model"
   ]
  },
  {
   "cell_type": "code",
   "execution_count": 4,
   "metadata": {},
   "outputs": [
    {
     "name": "stdout",
     "output_type": "stream",
     "text": [
      "Vocab size : 2196017\n",
      "TIME: 176.14648389816284\n"
     ]
    }
   ],
   "source": [
    "from embedding_algorithms.inferSent import set_RNN_embedding\n",
    "start = time.time()\n",
    "model_type = \"bilstm\" \n",
    "char_level = False\n",
    "model_version = 2\n",
    "rnn_dim = 2048\n",
    "verbose = 1\n",
    "set_RNN_embedding(model_type, char_level, model_version, rnn_dim, verbose)\n",
    "print(\"TIME: {0}\".format(time.time() - start))\n",
    "\n",
    "params['embedding'] = {\n",
    "    'name': 'Infersent',\n",
    "    'model_type': model_type,\n",
    "    'char_level': char_level,\n",
    "    'model_version': model_version,\n",
    "    'rnn_dim': rnn_dim,\n",
    "    'verbose': verbose\n",
    "}"
   ]
  },
  {
   "cell_type": "markdown",
   "metadata": {},
   "source": [
    "Embedding"
   ]
  },
  {
   "cell_type": "code",
   "execution_count": 5,
   "metadata": {},
   "outputs": [
    {
     "name": "stdout",
     "output_type": "stream",
     "text": [
      "attrs: ['name']\n",
      "TIME: 36.75310301780701\n"
     ]
    }
   ],
   "source": [
    "from embedding_algorithms.inferSent import RNN_embedding\n",
    "start = time.time()\n",
    "attr_list = ['name']\n",
    "params['attr_list'] = attr_list\n",
    "embeddings_tokens = RNN_embedding(table, attr_list, model_type, char_level)\n",
    "embeddings_tokens = np.array(embeddings_tokens)\n",
    "print(\"TIME: {0}\".format(time.time() - start))"
   ]
  },
  {
   "cell_type": "markdown",
   "metadata": {},
   "source": [
    "# Dimensionality reduction"
   ]
  },
  {
   "cell_type": "markdown",
   "metadata": {},
   "source": [
    "## PCA"
   ]
  },
  {
   "cell_type": "code",
   "execution_count": 6,
   "metadata": {},
   "outputs": [
    {
     "name": "stdout",
     "output_type": "stream",
     "text": [
      "starting dimension: 4096\n",
      "setting PCA with n_components: 2\n",
      "PCA: 0.3854849338531494\n"
     ]
    }
   ],
   "source": [
    "from dimensionality_reduction_algorithms.pca import pca_dim_reduction\n",
    "\n",
    "start = time.time()\n",
    "pca_embeddings = pca_dim_reduction(\n",
    "            embeddings_tokens, \n",
    "            num_components=2,\n",
    "            verbose=1)\n",
    "\n",
    "print(\"PCA: {0}\".format(time.time() - start))\n",
    "\n",
    "params['reduction'] = {\n",
    "    'name': 'PCA',\n",
    "    'num_components': 2,\n",
    "    'verbose': 1,\n",
    "}"
   ]
  },
  {
   "cell_type": "markdown",
   "metadata": {},
   "source": [
    "# Blocking"
   ]
  },
  {
   "cell_type": "code",
   "execution_count": 11,
   "metadata": {},
   "outputs": [
    {
     "name": "stdout",
     "output_type": "stream",
     "text": [
      "clustering with NUM_CLUSTERS = 3, \n",
      "BLOCKS: 0.13967204093933105\n"
     ]
    }
   ],
   "source": [
    "from cluster_algorithms.hierarchy_cluster import hierarchy_cluster\n",
    "num_clusters = 3\n",
    "start = time.time()\n",
    "blocks = hierarchy_cluster(pca_embeddings, {'num_clusters': num_clusters})\n",
    "print(\"BLOCKS: {0}\".format(time.time() - start))\n",
    "params['blocking'] = {\n",
    "    'name': 'hierarchy',\n",
    "    'num_clusters': num_clusters\n",
    "}"
   ]
  },
  {
   "cell_type": "markdown",
   "metadata": {},
   "source": [
    "# Evaluation"
   ]
  },
  {
   "cell_type": "markdown",
   "metadata": {},
   "source": [
    "## bilstm, rnn_dim 2048"
   ]
  },
  {
   "cell_type": "code",
   "execution_count": 12,
   "metadata": {},
   "outputs": [
    {
     "name": "stdout",
     "output_type": "stream",
     "text": [
      "(RR) Reduction ratio is: 0.6127571001551775\n",
      "(PC) Pair completeness is: 0.6007292616226071\n",
      "(RM) Reference metric (Harmonic mean RR and PC) is: 0.6066835721020437\n",
      "(PQ) Pair quality - Precision is: 0.0007211280675299777\n",
      "(FM) Fmeasure is: 0.001440526896211021\n",
      "\n",
      "['name']\n",
      "{'name': 'Infersent', 'model_type': 'bilstm', 'char_level': False, 'model_version': 2, 'rnn_dim': 2048, 'verbose': 1}\n",
      "{'name': 'PCA', 'num_components': 2, 'verbose': 1}\n",
      "{'name': 'hierarchy', 'num_clusters': 3}\n"
     ]
    }
   ],
   "source": [
    "from evaluation import calc_index\n",
    "calc_index(blocks,table,pairs)\n",
    "print()\n",
    "print(params['attr_list'])\n",
    "print(params['embedding'])\n",
    "print(params['reduction'])\n",
    "print(params['blocking'])"
   ]
  },
  {
   "cell_type": "markdown",
   "metadata": {
    "heading_collapsed": true
   },
   "source": [
    "## Searching"
   ]
  },
  {
   "cell_type": "code",
   "execution_count": 10,
   "metadata": {
    "hidden": true
   },
   "outputs": [
    {
     "name": "stdout",
     "output_type": "stream",
     "text": [
      "clustering with NUM_CLUSTERS = 1, \n",
      "(RR) Reduction ratio is: 0.0\n",
      "(PC) Pair completeness is: 1.0\n",
      "(RM) Reference metric (Harmonic mean RR and PC) is: 0\n",
      "(PQ) Pair quality - Precision is: 0.0004648545390905801\n",
      "(FM) Fmeasure is: 0.0009292770995033831\n",
      "clustering with NUM_CLUSTERS = 2, \n",
      "(RR) Reduction ratio is: 0.4998614335147834\n",
      "(PC) Pair completeness is: 0.6235186873290793\n",
      "(RM) Reference metric (Harmonic mean RR and PC) is: 0.5548842089843046\n",
      "(PQ) Pair quality - Precision is: 0.0005795303770505971\n",
      "(FM) Fmeasure is: 0.0011579844637084453\n",
      "clustering with NUM_CLUSTERS = 3, \n",
      "(RR) Reduction ratio is: 0.6127571001551775\n",
      "(PC) Pair completeness is: 0.6007292616226071\n",
      "(RM) Reference metric (Harmonic mean RR and PC) is: 0.6066835721020437\n",
      "(PQ) Pair quality - Precision is: 0.0007211280675299777\n",
      "(FM) Fmeasure is: 0.001440526896211021\n",
      "clustering with NUM_CLUSTERS = 4, \n",
      "(RR) Reduction ratio is: 0.7310920310287227\n",
      "(PC) Pair completeness is: 0.48678213309024615\n",
      "(RM) Reference metric (Harmonic mean RR and PC) is: 0.5844323639247141\n",
      "(PQ) Pair quality - Precision is: 0.0008414882049827448\n",
      "(FM) Fmeasure is: 0.0016800721109602682\n",
      "clustering with NUM_CLUSTERS = 5, \n",
      "(RR) Reduction ratio is: 0.7926668243019342\n",
      "(PC) Pair completeness is: 0.4576116681859617\n",
      "(RM) Reference metric (Harmonic mean RR and PC) is: 0.5802444654753403\n",
      "(PQ) Pair quality - Precision is: 0.001025995286961889\n",
      "(FM) Fmeasure is: 0.0020474001688493364\n",
      "clustering with NUM_CLUSTERS = 6, \n",
      "(RR) Reduction ratio is: 0.8116966216050152\n",
      "(PC) Pair completeness is: 0.44758432087511396\n",
      "(RM) Reference metric (Harmonic mean RR and PC) is: 0.5770002052475877\n",
      "(PQ) Pair quality - Precision is: 0.0011049276171144512\n",
      "(FM) Fmeasure is: 0.002204413316272701\n",
      "clustering with NUM_CLUSTERS = 7, \n",
      "(RR) Reduction ratio is: 0.8227073602957441\n",
      "(PC) Pair completeness is: 0.4001823154056518\n",
      "(RM) Reference metric (Harmonic mean RR and PC) is: 0.5384507578831085\n",
      "(PQ) Pair quality - Precision is: 0.0010492627674245738\n",
      "(FM) Fmeasure is: 0.002093037669910319\n",
      "clustering with NUM_CLUSTERS = 8, \n",
      "(RR) Reduction ratio is: 0.8344931390521035\n",
      "(PC) Pair completeness is: 0.3637192342752963\n",
      "(RM) Reference metric (Harmonic mean RR and PC) is: 0.5066233871398776\n",
      "(PQ) Pair quality - Precision is: 0.0010215681455081726\n",
      "(FM) Fmeasure is: 0.0020374138630949797\n",
      "clustering with NUM_CLUSTERS = 9, \n",
      "(RR) Reduction ratio is: 0.8530356230279701\n",
      "(PC) Pair completeness is: 0.3527803099361896\n",
      "(RM) Reference metric (Harmonic mean RR and PC) is: 0.4991378256856431\n",
      "(PQ) Pair quality - Precision is: 0.0011158590384582115\n",
      "(FM) Fmeasure is: 0.0022246813158386387\n"
     ]
    }
   ],
   "source": [
    "for i in range(1,10,1):\n",
    "    num_clusters = int(i)\n",
    "    blocks = hierarchy_cluster(pca_embeddings, {'num_clusters': num_clusters})\n",
    "    calc_index(blocks,table,pairs)"
   ]
  },
  {
   "cell_type": "markdown",
   "metadata": {},
   "source": [
    "# Result"
   ]
  },
  {
   "cell_type": "code",
   "execution_count": 28,
   "metadata": {},
   "outputs": [],
   "source": [
    "# RR PC alpha\n",
    "\n",
    "list_hierarchy_tsne = [0.9078, 0.9134, 0.9106] \n",
    "list_hierarchy_pca = [0.6127, 0.6007, 0.6066] # PCA: 0.38, BLOCKS: 0.139, n_cluster: 3\n"
   ]
  },
  {
   "cell_type": "code",
   "execution_count": null,
   "metadata": {},
   "outputs": [],
   "source": []
  }
 ],
 "metadata": {
  "kernelspec": {
   "display_name": "Python 3.7.7 64-bit ('thesisEnv': conda)",
   "language": "python",
   "name": "python37764bitthesisenvcondad61bb62be9734ae9b8ba15c07cc7706a"
  },
  "language_info": {
   "codemirror_mode": {
    "name": "ipython",
    "version": 3
   },
   "file_extension": ".py",
   "mimetype": "text/x-python",
   "name": "python",
   "nbconvert_exporter": "python",
   "pygments_lexer": "ipython3",
   "version": "3.7.7"
  },
  "toc": {
   "base_numbering": 1,
   "nav_menu": {},
   "number_sections": true,
   "sideBar": true,
   "skip_h1_title": false,
   "title_cell": "Table of Contents",
   "title_sidebar": "Contents",
   "toc_cell": true,
   "toc_position": {},
   "toc_section_display": true,
   "toc_window_display": false
  },
  "varInspector": {
   "cols": {
    "lenName": 16,
    "lenType": 16,
    "lenVar": 40
   },
   "kernels_config": {
    "python": {
     "delete_cmd_postfix": "",
     "delete_cmd_prefix": "del ",
     "library": "var_list.py",
     "varRefreshCmd": "print(var_dic_list())"
    },
    "r": {
     "delete_cmd_postfix": ") ",
     "delete_cmd_prefix": "rm(",
     "library": "var_list.r",
     "varRefreshCmd": "cat(var_dic_list()) "
    }
   },
   "types_to_exclude": [
    "module",
    "function",
    "builtin_function_or_method",
    "instance",
    "_Feature"
   ],
   "window_display": false
  }
 },
 "nbformat": 4,
 "nbformat_minor": 4
}
