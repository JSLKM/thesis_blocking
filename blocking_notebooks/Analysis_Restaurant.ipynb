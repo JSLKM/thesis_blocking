{
 "cells": [
  {
   "cell_type": "markdown",
   "metadata": {
    "toc": true
   },
   "source": [
    "<h1>Table of Contents<span class=\"tocSkip\"></span></h1>\n",
    "<div class=\"toc\"><ul class=\"toc-item\"><li><span><a href=\"#Setup\" data-toc-modified-id=\"Setup-1\"><span class=\"toc-item-num\">1&nbsp;&nbsp;</span>Setup</a></span></li><li><span><a href=\"#Import-dataset\" data-toc-modified-id=\"Import-dataset-2\"><span class=\"toc-item-num\">2&nbsp;&nbsp;</span>Import dataset</a></span></li><li><span><a href=\"#Sentence-embedding\" data-toc-modified-id=\"Sentence-embedding-3\"><span class=\"toc-item-num\">3&nbsp;&nbsp;</span>Sentence embedding</a></span><ul class=\"toc-item\"><li><span><a href=\"#Infersent\" data-toc-modified-id=\"Infersent-3.1\"><span class=\"toc-item-num\">3.1&nbsp;&nbsp;</span>Infersent</a></span></li></ul></li><li><span><a href=\"#Dimensionality-reduction\" data-toc-modified-id=\"Dimensionality-reduction-4\"><span class=\"toc-item-num\">4&nbsp;&nbsp;</span>Dimensionality reduction</a></span><ul class=\"toc-item\"><li><span><a href=\"#TSNE\" data-toc-modified-id=\"TSNE-4.1\"><span class=\"toc-item-num\">4.1&nbsp;&nbsp;</span>TSNE</a></span></li></ul></li><li><span><a href=\"#Blocking\" data-toc-modified-id=\"Blocking-5\"><span class=\"toc-item-num\">5&nbsp;&nbsp;</span>Blocking</a></span></li><li><span><a href=\"#Evaluation\" data-toc-modified-id=\"Evaluation-6\"><span class=\"toc-item-num\">6&nbsp;&nbsp;</span>Evaluation</a></span><ul class=\"toc-item\"><li><span><a href=\"#bilstm,-rnn_dim-2048\" data-toc-modified-id=\"bilstm,-rnn_dim-2048-6.1\"><span class=\"toc-item-num\">6.1&nbsp;&nbsp;</span>bilstm, rnn_dim 2048</a></span></li><li><span><a href=\"#bilstrm,-rnn_dim:-1024\" data-toc-modified-id=\"bilstrm,-rnn_dim:-1024-6.2\"><span class=\"toc-item-num\">6.2&nbsp;&nbsp;</span>bilstrm, rnn_dim: 1024</a></span></li><li><span><a href=\"#bilstm,-rnn_dim:-300\" data-toc-modified-id=\"bilstm,-rnn_dim:-300-6.3\"><span class=\"toc-item-num\">6.3&nbsp;&nbsp;</span>bilstm, rnn_dim: 300</a></span></li><li><span><a href=\"#lstm,-rnn_dim:-2048\" data-toc-modified-id=\"lstm,-rnn_dim:-2048-6.4\"><span class=\"toc-item-num\">6.4&nbsp;&nbsp;</span>lstm, rnn_dim: 2048</a></span></li><li><span><a href=\"#lstm,-rnn_dim:-1024\" data-toc-modified-id=\"lstm,-rnn_dim:-1024-6.5\"><span class=\"toc-item-num\">6.5&nbsp;&nbsp;</span>lstm, rnn_dim: 1024</a></span></li><li><span><a href=\"#lstm,-rnn_dim:-300\" data-toc-modified-id=\"lstm,-rnn_dim:-300-6.6\"><span class=\"toc-item-num\">6.6&nbsp;&nbsp;</span>lstm, rnn_dim: 300</a></span></li><li><span><a href=\"#Searching\" data-toc-modified-id=\"Searching-6.7\"><span class=\"toc-item-num\">6.7&nbsp;&nbsp;</span>Searching</a></span></li></ul></li><li><span><a href=\"#Best\" data-toc-modified-id=\"Best-7\"><span class=\"toc-item-num\">7&nbsp;&nbsp;</span>Best</a></span></li></ul></div>"
   ]
  },
  {
   "cell_type": "markdown",
   "metadata": {},
   "source": [
    "# Setup "
   ]
  },
  {
   "cell_type": "code",
   "execution_count": 1,
   "metadata": {},
   "outputs": [],
   "source": [
    "import os\n",
    "import sys\n",
    "import time\n",
    "import numpy as np\n",
    "import matplotlib.pyplot as plt\n",
    "\n",
    "module_path = os.path.abspath(os.path.join('..'))\n",
    "if module_path not in sys.path:\n",
    "    sys.path.append(module_path)\n",
    "    \n",
    "from preprocessing_datasets.preprocessing_utilities import get_labels_by\n",
    "\n",
    "params = {}"
   ]
  },
  {
   "cell_type": "markdown",
   "metadata": {},
   "source": [
    "# Import dataset"
   ]
  },
  {
   "cell_type": "code",
   "execution_count": 2,
   "metadata": {},
   "outputs": [],
   "source": [
    "from preprocessing_datasets.preprocessing_restaurant import clean_restaurant\n",
    "table, pairs = clean_restaurant()"
   ]
  },
  {
   "cell_type": "code",
   "execution_count": 3,
   "metadata": {},
   "outputs": [
    {
     "data": {
      "text/html": [
       "<div>\n",
       "<style scoped>\n",
       "    .dataframe tbody tr th:only-of-type {\n",
       "        vertical-align: middle;\n",
       "    }\n",
       "\n",
       "    .dataframe tbody tr th {\n",
       "        vertical-align: top;\n",
       "    }\n",
       "\n",
       "    .dataframe thead th {\n",
       "        text-align: right;\n",
       "    }\n",
       "</style>\n",
       "<table border=\"1\" class=\"dataframe\">\n",
       "  <thead>\n",
       "    <tr style=\"text-align: right;\">\n",
       "      <th></th>\n",
       "      <th>citruname</th>\n",
       "      <th>addr</th>\n",
       "      <th>city</th>\n",
       "      <th>phone</th>\n",
       "      <th>type</th>\n",
       "    </tr>\n",
       "  </thead>\n",
       "  <tbody>\n",
       "    <tr>\n",
       "      <th>0</th>\n",
       "      <td>arnie morton's of chicago</td>\n",
       "      <td>\"435 s. la cienega blv.\"</td>\n",
       "      <td>\"los angeles\"</td>\n",
       "      <td>\"310/246-1501\"</td>\n",
       "      <td>\"american\"</td>\n",
       "    </tr>\n",
       "    <tr>\n",
       "      <th>1</th>\n",
       "      <td>arnie morton's of chicago</td>\n",
       "      <td>\"435 s. la cienega blvd.\"</td>\n",
       "      <td>\"los angeles\"</td>\n",
       "      <td>\"310-246-1501\"</td>\n",
       "      <td>\"steakhouses\"</td>\n",
       "    </tr>\n",
       "    <tr>\n",
       "      <th>2</th>\n",
       "      <td>art's delicatessen</td>\n",
       "      <td>\"12224 ventura blvd.\"</td>\n",
       "      <td>\"studio city\"</td>\n",
       "      <td>\"818/762-1221\"</td>\n",
       "      <td>\"american\"</td>\n",
       "    </tr>\n",
       "    <tr>\n",
       "      <th>3</th>\n",
       "      <td>art's deli</td>\n",
       "      <td>\"12224 ventura blvd.\"</td>\n",
       "      <td>\"studio city\"</td>\n",
       "      <td>\"818-762-1221\"</td>\n",
       "      <td>\"delis\"</td>\n",
       "    </tr>\n",
       "    <tr>\n",
       "      <th>4</th>\n",
       "      <td>hotel bel-air</td>\n",
       "      <td>\"701 stone canyon rd.\"</td>\n",
       "      <td>\"bel air\"</td>\n",
       "      <td>\"310/472-1211\"</td>\n",
       "      <td>\"californian\"</td>\n",
       "    </tr>\n",
       "    <tr>\n",
       "      <th>...</th>\n",
       "      <td>...</td>\n",
       "      <td>...</td>\n",
       "      <td>...</td>\n",
       "      <td>...</td>\n",
       "      <td>...</td>\n",
       "    </tr>\n",
       "    <tr>\n",
       "      <th>859</th>\n",
       "      <td>ti couz</td>\n",
       "      <td>\"3108 16th st.\"</td>\n",
       "      <td>\"san francisco\"</td>\n",
       "      <td>\"415-252-7373\"</td>\n",
       "      <td>\"french\"</td>\n",
       "    </tr>\n",
       "    <tr>\n",
       "      <th>860</th>\n",
       "      <td>trio cafe</td>\n",
       "      <td>\"1870 fillmore st.\"</td>\n",
       "      <td>\"san francisco\"</td>\n",
       "      <td>\"415-563-2248\"</td>\n",
       "      <td>\"american\"</td>\n",
       "    </tr>\n",
       "    <tr>\n",
       "      <th>861</th>\n",
       "      <td>tu lan</td>\n",
       "      <td>\"8 sixth st.\"</td>\n",
       "      <td>\"san francisco\"</td>\n",
       "      <td>\"415-626-0927\"</td>\n",
       "      <td>\"vietnamese\"</td>\n",
       "    </tr>\n",
       "    <tr>\n",
       "      <th>862</th>\n",
       "      <td>vicolo pizzeria</td>\n",
       "      <td>\"201 ivy st.\"</td>\n",
       "      <td>\"san francisco\"</td>\n",
       "      <td>\"415-863-2382\"</td>\n",
       "      <td>\"pizza\"</td>\n",
       "    </tr>\n",
       "    <tr>\n",
       "      <th>863</th>\n",
       "      <td>wa-ha-ka oaxaca mexican grill</td>\n",
       "      <td>\"2141 polk st.\"</td>\n",
       "      <td>\"san francisco\"</td>\n",
       "      <td>\"415-775-1055\"</td>\n",
       "      <td>\"mexican\"</td>\n",
       "    </tr>\n",
       "  </tbody>\n",
       "</table>\n",
       "<p>864 rows × 5 columns</p>\n",
       "</div>"
      ],
      "text/plain": [
       "                         citruname                       addr  \\\n",
       "0        arnie morton's of chicago   \"435 s. la cienega blv.\"   \n",
       "1        arnie morton's of chicago  \"435 s. la cienega blvd.\"   \n",
       "2               art's delicatessen      \"12224 ventura blvd.\"   \n",
       "3                       art's deli      \"12224 ventura blvd.\"   \n",
       "4                    hotel bel-air     \"701 stone canyon rd.\"   \n",
       "..                             ...                        ...   \n",
       "859                        ti couz            \"3108 16th st.\"   \n",
       "860                      trio cafe        \"1870 fillmore st.\"   \n",
       "861                         tu lan              \"8 sixth st.\"   \n",
       "862                vicolo pizzeria              \"201 ivy st.\"   \n",
       "863  wa-ha-ka oaxaca mexican grill            \"2141 polk st.\"   \n",
       "\n",
       "                city           phone           type  \n",
       "0      \"los angeles\"  \"310/246-1501\"     \"american\"  \n",
       "1      \"los angeles\"  \"310-246-1501\"  \"steakhouses\"  \n",
       "2      \"studio city\"  \"818/762-1221\"     \"american\"  \n",
       "3      \"studio city\"  \"818-762-1221\"        \"delis\"  \n",
       "4          \"bel air\"  \"310/472-1211\"  \"californian\"  \n",
       "..               ...             ...            ...  \n",
       "859  \"san francisco\"  \"415-252-7373\"       \"french\"  \n",
       "860  \"san francisco\"  \"415-563-2248\"     \"american\"  \n",
       "861  \"san francisco\"  \"415-626-0927\"   \"vietnamese\"  \n",
       "862  \"san francisco\"  \"415-863-2382\"        \"pizza\"  \n",
       "863  \"san francisco\"  \"415-775-1055\"      \"mexican\"  \n",
       "\n",
       "[864 rows x 5 columns]"
      ]
     },
     "execution_count": 3,
     "metadata": {},
     "output_type": "execute_result"
    }
   ],
   "source": [
    "table"
   ]
  },
  {
   "cell_type": "markdown",
   "metadata": {},
   "source": [
    "# Sentence embedding"
   ]
  },
  {
   "cell_type": "markdown",
   "metadata": {},
   "source": [
    "## Infersent"
   ]
  },
  {
   "cell_type": "markdown",
   "metadata": {},
   "source": [
    "Setup model"
   ]
  },
  {
   "cell_type": "code",
   "execution_count": 4,
   "metadata": {},
   "outputs": [
    {
     "name": "stdout",
     "output_type": "stream",
     "text": [
      "Vocab size : 2196017\n",
      "TIME: 166.85381603240967\n"
     ]
    }
   ],
   "source": [
    "from embedding_algorithms.inferSent import set_RNN_embedding\n",
    "start = time.time()\n",
    "model_type = \"bilstm\" \n",
    "char_level = False\n",
    "model_version = 2\n",
    "rnn_dim = 1024\n",
    "verbose = 1\n",
    "set_RNN_embedding(model_type, char_level, model_version, rnn_dim, verbose)\n",
    "print(\"TIME: {0}\".format(time.time() - start))\n",
    "\n",
    "params['embedding'] = {\n",
    "    'name': 'Infersent',\n",
    "    'model_type': model_type,\n",
    "    'char_level': char_level,\n",
    "    'model_version': model_version,\n",
    "    'rnn_dim': rnn_dim,\n",
    "    'verbose': verbose\n",
    "}"
   ]
  },
  {
   "cell_type": "markdown",
   "metadata": {},
   "source": [
    "Embedding"
   ]
  },
  {
   "cell_type": "code",
   "execution_count": 29,
   "metadata": {},
   "outputs": [
    {
     "name": "stdout",
     "output_type": "stream",
     "text": [
      "attrs: ['citruname', 'city', 'type']\n"
     ]
    }
   ],
   "source": [
    "from embedding_algorithms.inferSent import RNN_embedding\n",
    "attr_list = ['citruname', 'city', 'type']\n",
    "params['attr_list'] = attr_list\n",
    "embeddings_tokens = RNN_embedding(table, attr_list, model_type, char_level)\n",
    "embeddings_tokens = np.array(embeddings_tokens)"
   ]
  },
  {
   "cell_type": "markdown",
   "metadata": {
    "heading_collapsed": true
   },
   "source": [
    "# Dimensionality reduction"
   ]
  },
  {
   "cell_type": "markdown",
   "metadata": {
    "heading_collapsed": true,
    "hidden": true
   },
   "source": [
    "## TSNE"
   ]
  },
  {
   "cell_type": "code",
   "execution_count": 30,
   "metadata": {
    "hidden": true
   },
   "outputs": [
    {
     "name": "stdout",
     "output_type": "stream",
     "text": [
      "starting dimension: 2048\n",
      "setting TSNE with n_components: 2 & perplexity: 10\n",
      "early_exaggeration: 12\n"
     ]
    }
   ],
   "source": [
    "from dimensionality_reduction_algorithms.tsne import tsne_dim_reduction\n",
    "tsne_embeddings = tsne_dim_reduction(\n",
    "    embeddings_tokens, \n",
    "    num_components=2,\n",
    "    early_exaggeration=12,\n",
    "    verbose=1,\n",
    "    perplexity=10,\n",
    "    method=\"barnes_hut\")\n",
    "\n",
    "params['reduction'] = {\n",
    "    'name': 'TSNE',\n",
    "    'num_components': 2,\n",
    "    'early_exaggeration': 12,\n",
    "    'verbose': 1,\n",
    "    'perplexity': 10,\n",
    "    'method': \"barnes_hut\"\n",
    "}"
   ]
  },
  {
   "cell_type": "markdown",
   "metadata": {},
   "source": [
    "# Blocking"
   ]
  },
  {
   "cell_type": "markdown",
   "metadata": {},
   "source": [
    "hierarchy_cluster"
   ]
  },
  {
   "cell_type": "code",
   "execution_count": 31,
   "metadata": {},
   "outputs": [
    {
     "name": "stdout",
     "output_type": "stream",
     "text": [
      "clustering with NUM_CLUSTERS = 56, \n"
     ]
    }
   ],
   "source": [
    "from cluster_algorithms.hierarchy_cluster import hierarchy_cluster\n",
    "num_clusters = 56\n",
    "blocks = hierarchy_cluster(tsne_embeddings, {'num_clusters': num_clusters})\n",
    "\n",
    "params['blocking'] = {\n",
    "    'name': 'hierarchy',\n",
    "    'num_clusters': num_clusters\n",
    "}"
   ]
  },
  {
   "cell_type": "markdown",
   "metadata": {},
   "source": [
    "# Evaluation"
   ]
  },
  {
   "cell_type": "markdown",
   "metadata": {
    "heading_collapsed": true
   },
   "source": [
    "## bilstm, rnn_dim 2048"
   ]
  },
  {
   "cell_type": "code",
   "execution_count": 39,
   "metadata": {
    "hidden": true
   },
   "outputs": [
    {
     "name": "stdout",
     "output_type": "stream",
     "text": [
      "(RR) Reduction ratio is: 0.9894103257370929\n",
      "(PC) Pair completeness is: 0.7857142857142857\n",
      "(RM) Reference metric (Harmonic mean RR and PC) is: 0.8758752172662914\n",
      "(PQ) Pair quality - Precision is: 0.022289766970618033\n",
      "(FM) Fmeasure is: 0.04334975369458128\n",
      "\n",
      "['citruname', 'addr']\n",
      "{'name': 'Infersent', 'model_type': 'bilstm', 'char_level': False, 'model_version': 2, 'rnn_dim': 2048, 'verbose': 1}\n",
      "{'name': 'TSNE', 'num_components': 2, 'early_exaggeration': 12, 'verbose': 1, 'perplexity': 40, 'method': 'barnes_hut'}\n",
      "{'name': 'hierarchy', 'num_clusters': 100}\n"
     ]
    }
   ],
   "source": [
    "from evaluation import calc_index\n",
    "calc_index(blocks,table,pairs)\n",
    "print()\n",
    "print(params['attr_list'])\n",
    "print(params['embedding'])\n",
    "print(params['reduction'])\n",
    "print(params['blocking'])"
   ]
  },
  {
   "cell_type": "code",
   "execution_count": 54,
   "metadata": {
    "hidden": true
   },
   "outputs": [
    {
     "name": "stdout",
     "output_type": "stream",
     "text": [
      "(RR) Reduction ratio is: 0.989367409124072\n",
      "(PC) Pair completeness is: 0.7321428571428571\n",
      "(RM) Reference metric (Harmonic mean RR and PC) is: 0.8415381492332136\n",
      "(PQ) Pair quality - Precision is: 0.020686175580221997\n",
      "(FM) Fmeasure is: 0.04023552502453385\n",
      "\n",
      "['citruname', 'addr', 'city']\n",
      "{'name': 'Infersent', 'model_type': 'bilstm', 'char_level': False, 'model_version': 2, 'rnn_dim': 2048, 'verbose': 1}\n",
      "{'name': 'TSNE', 'num_components': 2, 'early_exaggeration': 12, 'verbose': 1, 'perplexity': 40, 'method': 'barnes_hut'}\n",
      "{'name': 'hierarchy', 'num_clusters': 100}\n"
     ]
    }
   ],
   "source": [
    "from evaluation import calc_index\n",
    "calc_index(blocks,table,pairs)\n",
    "print()\n",
    "print(params['attr_list'])\n",
    "print(params['embedding'])\n",
    "print(params['reduction'])\n",
    "print(params['blocking'])"
   ]
  },
  {
   "cell_type": "markdown",
   "metadata": {
    "heading_collapsed": true
   },
   "source": [
    "## bilstrm, rnn_dim: 1024"
   ]
  },
  {
   "cell_type": "code",
   "execution_count": 12,
   "metadata": {
    "hidden": true
   },
   "outputs": [
    {
     "name": "stdout",
     "output_type": "stream",
     "text": [
      "(RR) Reduction ratio is: 0.9922803742328655\n",
      "(PC) Pair completeness is: 0.7857142857142857\n",
      "(RM) Reference metric (Harmonic mean RR and PC) is: 0.8769979832131264\n",
      "(PQ) Pair quality - Precision is: 0.030576789437109102\n",
      "(FM) Fmeasure is: 0.0588628762541806\n",
      "\n",
      "['citruname', 'addr', 'city']\n",
      "{'name': 'Infersent', 'model_type': 'bilstm', 'char_level': False, 'model_version': 2, 'rnn_dim': 1024, 'verbose': 1}\n",
      "{'name': 'TSNE', 'num_components': 2, 'early_exaggeration': 12, 'verbose': 1, 'perplexity': 40, 'method': 'barnes_hut'}\n",
      "{'name': 'hierarchy', 'num_clusters': 136}\n"
     ]
    }
   ],
   "source": [
    "from evaluation import calc_index\n",
    "calc_index(blocks,table,pairs)\n",
    "print()\n",
    "print(params['attr_list'])\n",
    "print(params['embedding'])\n",
    "print(params['reduction'])\n",
    "print(params['blocking'])"
   ]
  },
  {
   "cell_type": "code",
   "execution_count": 16,
   "metadata": {
    "hidden": true,
    "scrolled": true
   },
   "outputs": [
    {
     "name": "stdout",
     "output_type": "stream",
     "text": [
      "(RR) Reduction ratio is: 0.9923420668640831\n",
      "(PC) Pair completeness is: 0.875\n",
      "(RM) Reference metric (Harmonic mean RR and PC) is: 0.9299841993751572\n",
      "(PQ) Pair quality - Precision is: 0.034325744308231175\n",
      "(FM) Fmeasure is: 0.06605999325918437\n",
      "\n",
      "['citruname', 'addr']\n",
      "{'name': 'Infersent', 'model_type': 'bilstm', 'char_level': False, 'model_version': 2, 'rnn_dim': 1024, 'verbose': 1}\n",
      "{'name': 'TSNE', 'num_components': 2, 'early_exaggeration': 12, 'verbose': 1, 'perplexity': 40, 'method': 'barnes_hut'}\n",
      "{'name': 'hierarchy', 'num_clusters': 136}\n"
     ]
    }
   ],
   "source": [
    "from evaluation import calc_index\n",
    "calc_index(blocks,table,pairs)\n",
    "print()\n",
    "print(params['attr_list'])\n",
    "print(params['embedding'])\n",
    "print(params['reduction'])\n",
    "print(params['blocking'])"
   ]
  },
  {
   "cell_type": "code",
   "execution_count": 8,
   "metadata": {
    "hidden": true
   },
   "outputs": [
    {
     "name": "stdout",
     "output_type": "stream",
     "text": [
      "(RR) Reduction ratio is: 0.992468134414832\n",
      "(PC) Pair completeness is: 0.8392857142857143\n",
      "(RM) Reference metric (Harmonic mean RR and PC) is: 0.9094719005930528\n",
      "(PQ) Pair quality - Precision is: 0.03347578347578348\n",
      "(FM) Fmeasure is: 0.06438356164383562\n",
      "\n",
      "['citruname']\n",
      "{'name': 'Infersent', 'model_type': 'bilstm', 'char_level': False, 'model_version': 2, 'rnn_dim': 1024, 'verbose': 1}\n",
      "{'name': 'TSNE', 'num_components': 2, 'early_exaggeration': 12, 'verbose': 1, 'perplexity': 40, 'method': 'barnes_hut'}\n",
      "{'name': 'hierarchy', 'num_clusters': 136}\n"
     ]
    }
   ],
   "source": [
    "from evaluation import calc_index\n",
    "calc_index(blocks,table,pairs)\n",
    "print()\n",
    "print(params['attr_list'])\n",
    "print(params['embedding'])\n",
    "print(params['reduction'])\n",
    "print(params['blocking'])"
   ]
  },
  {
   "cell_type": "code",
   "execution_count": 30,
   "metadata": {
    "hidden": true
   },
   "outputs": [
    {
     "name": "stdout",
     "output_type": "stream",
     "text": [
      "(RR) Reduction ratio is: 0.9917975623363804\n",
      "(PC) Pair completeness is: 0.4642857142857143\n",
      "(RM) Reference metric (Harmonic mean RR and PC) is: 0.6324877801280961\n",
      "(PQ) Pair quality - Precision is: 0.017004578155657292\n",
      "(FM) Fmeasure is: 0.03280757097791798\n",
      "\n",
      "['addr', 'city']\n",
      "{'name': 'Infersent', 'model_type': 'bilstm', 'char_level': False, 'model_version': 2, 'rnn_dim': 1024, 'verbose': 1}\n",
      "{'name': 'TSNE', 'num_components': 2, 'early_exaggeration': 12, 'verbose': 1, 'perplexity': 40, 'method': 'barnes_hut'}\n",
      "{'name': 'hierarchy', 'num_clusters': 136}\n"
     ]
    }
   ],
   "source": [
    "from evaluation import calc_index\n",
    "calc_index(blocks,table,pairs)\n",
    "print()\n",
    "print(params['attr_list'])\n",
    "print(params['embedding'])\n",
    "print(params['reduction'])\n",
    "print(params['blocking'])"
   ]
  },
  {
   "cell_type": "code",
   "execution_count": 34,
   "metadata": {
    "hidden": true
   },
   "outputs": [
    {
     "name": "stdout",
     "output_type": "stream",
     "text": [
      "(RR) Reduction ratio is: 0.9924466761083215\n",
      "(PC) Pair completeness is: 0.6964285714285714\n",
      "(RM) Reference metric (Harmonic mean RR and PC) is: 0.8184952936804223\n",
      "(PQ) Pair quality - Precision is: 0.027698863636363636\n",
      "(FM) Fmeasure is: 0.05327868852459017\n",
      "\n",
      "['addr']\n",
      "{'name': 'Infersent', 'model_type': 'bilstm', 'char_level': False, 'model_version': 2, 'rnn_dim': 1024, 'verbose': 1}\n",
      "{'name': 'TSNE', 'num_components': 2, 'early_exaggeration': 12, 'verbose': 1, 'perplexity': 40, 'method': 'barnes_hut'}\n",
      "{'name': 'hierarchy', 'num_clusters': 136}\n"
     ]
    }
   ],
   "source": [
    "from evaluation import calc_index\n",
    "calc_index(blocks,table,pairs)\n",
    "print()\n",
    "print(params['attr_list'])\n",
    "print(params['embedding'])\n",
    "print(params['reduction'])\n",
    "print(params['blocking'])"
   ]
  },
  {
   "cell_type": "code",
   "execution_count": 19,
   "metadata": {
    "hidden": true
   },
   "outputs": [
    {
     "name": "stdout",
     "output_type": "stream",
     "text": [
      "(RR) Reduction ratio is: 0.9803468735247415\n",
      "(PC) Pair completeness is: 0.8928571428571429\n",
      "(RM) Reference metric (Harmonic mean RR and PC) is: 0.934558863689503\n",
      "(PQ) Pair quality - Precision is: 0.013648150675583458\n",
      "(FM) Fmeasure is: 0.026885334050275576\n",
      "\n",
      "['citruname', 'addr']\n",
      "{'name': 'Infersent', 'model_type': 'bilstm', 'char_level': False, 'model_version': 2, 'rnn_dim': 1024, 'verbose': 1}\n",
      "{'name': 'TSNE', 'num_components': 2, 'early_exaggeration': 12, 'verbose': 1, 'perplexity': 10, 'method': 'barnes_hut'}\n",
      "{'name': 'hierarchy', 'num_clusters': 56}\n"
     ]
    }
   ],
   "source": [
    "from evaluation import calc_index\n",
    "calc_index(blocks,table,pairs)\n",
    "print()\n",
    "print(params['attr_list'])\n",
    "print(params['embedding'])\n",
    "print(params['reduction'])\n",
    "print(params['blocking'])"
   ]
  },
  {
   "cell_type": "code",
   "execution_count": 24,
   "metadata": {
    "hidden": true
   },
   "outputs": [
    {
     "name": "stdout",
     "output_type": "stream",
     "text": [
      "(RR) Reduction ratio is: 0.9806258315093773\n",
      "(PC) Pair completeness is: 0.8214285714285714\n",
      "(RM) Reference metric (Harmonic mean RR and PC) is: 0.8939952917841398\n",
      "(PQ) Pair quality - Precision is: 0.012737089851862107\n",
      "(FM) Fmeasure is: 0.025085207907293797\n",
      "\n",
      "['citruname', 'addr', 'city']\n",
      "{'name': 'Infersent', 'model_type': 'bilstm', 'char_level': False, 'model_version': 2, 'rnn_dim': 1024, 'verbose': 1}\n",
      "{'name': 'TSNE', 'num_components': 2, 'early_exaggeration': 12, 'verbose': 1, 'perplexity': 10, 'method': 'barnes_hut'}\n",
      "{'name': 'hierarchy', 'num_clusters': 56}\n"
     ]
    }
   ],
   "source": [
    "from evaluation import calc_index\n",
    "calc_index(blocks,table,pairs)\n",
    "print()\n",
    "print(params['attr_list'])\n",
    "print(params['embedding'])\n",
    "print(params['reduction'])\n",
    "print(params['blocking'])"
   ]
  },
  {
   "cell_type": "code",
   "execution_count": 28,
   "metadata": {
    "hidden": true
   },
   "outputs": [
    {
     "name": "stdout",
     "output_type": "stream",
     "text": [
      "(RR) Reduction ratio is: 0.9790191408094073\n",
      "(PC) Pair completeness is: 0.9464285714285714\n",
      "(RM) Reference metric (Harmonic mean RR and PC) is: 0.9624480383946711\n",
      "(PQ) Pair quality - Precision is: 0.013551521350038353\n",
      "(FM) Fmeasure is: 0.026720443660196623\n",
      "\n",
      "['citruname']\n",
      "{'name': 'Infersent', 'model_type': 'bilstm', 'char_level': False, 'model_version': 2, 'rnn_dim': 1024, 'verbose': 1}\n",
      "{'name': 'TSNE', 'num_components': 2, 'early_exaggeration': 12, 'verbose': 1, 'perplexity': 10, 'method': 'barnes_hut'}\n",
      "{'name': 'hierarchy', 'num_clusters': 56}\n"
     ]
    }
   ],
   "source": [
    "from evaluation import calc_index\n",
    "calc_index(blocks,table,pairs)\n",
    "print()\n",
    "print(params['attr_list'])\n",
    "print(params['embedding'])\n",
    "print(params['reduction'])\n",
    "print(params['blocking'])"
   ]
  },
  {
   "cell_type": "code",
   "execution_count": 32,
   "metadata": {
    "hidden": true
   },
   "outputs": [
    {
     "name": "stdout",
     "output_type": "stream",
     "text": [
      "(RR) Reduction ratio is: 0.9782600532166001\n",
      "(PC) Pair completeness is: 0.8660714285714286\n",
      "(RM) Reference metric (Harmonic mean RR and PC) is: 0.9187535865106893\n",
      "(PQ) Pair quality - Precision is: 0.011967921036397286\n",
      "(FM) Fmeasure is: 0.023609589874650113\n",
      "\n",
      "['citruname', 'city', 'type']\n",
      "{'name': 'Infersent', 'model_type': 'bilstm', 'char_level': False, 'model_version': 2, 'rnn_dim': 1024, 'verbose': 1}\n",
      "{'name': 'TSNE', 'num_components': 2, 'early_exaggeration': 12, 'verbose': 1, 'perplexity': 10, 'method': 'barnes_hut'}\n",
      "{'name': 'hierarchy', 'num_clusters': 56}\n"
     ]
    }
   ],
   "source": [
    "from evaluation import calc_index\n",
    "calc_index(blocks,table,pairs)\n",
    "print()\n",
    "print(params['attr_list'])\n",
    "print(params['embedding'])\n",
    "print(params['reduction'])\n",
    "print(params['blocking'])"
   ]
  },
  {
   "cell_type": "markdown",
   "metadata": {
    "heading_collapsed": true
   },
   "source": [
    "## bilstm, rnn_dim: 300"
   ]
  },
  {
   "cell_type": "code",
   "execution_count": 9,
   "metadata": {
    "hidden": true
   },
   "outputs": [
    {
     "name": "stdout",
     "output_type": "stream",
     "text": [
      "(RR) Reduction ratio is: 0.9920550620145058\n",
      "(PC) Pair completeness is: 0.8303571428571429\n",
      "(RM) Reference metric (Harmonic mean RR and PC) is: 0.9040325834619262\n",
      "(PQ) Pair quality - Precision is: 0.03139770425388251\n",
      "(FM) Fmeasure is: 0.060507482108002594\n",
      "\n",
      "['citruname', 'addr']\n",
      "{'name': 'Infersent', 'model_type': 'bilstm', 'char_level': False, 'model_version': 2, 'rnn_dim': 300, 'verbose': 1}\n",
      "{'name': 'TSNE', 'num_components': 2, 'early_exaggeration': 12, 'verbose': 1, 'perplexity': 40, 'method': 'barnes_hut'}\n",
      "{'name': 'hierarchy', 'num_clusters': 136}\n"
     ]
    }
   ],
   "source": [
    "from evaluation import calc_index\n",
    "calc_index(blocks,table,pairs)\n",
    "print()\n",
    "print(params['attr_list'])\n",
    "print(params['embedding'])\n",
    "print(params['reduction'])\n",
    "print(params['blocking'])"
   ]
  },
  {
   "cell_type": "code",
   "execution_count": 15,
   "metadata": {
    "hidden": true
   },
   "outputs": [
    {
     "name": "stdout",
     "output_type": "stream",
     "text": [
      "(RR) Reduction ratio is: 0.9924654521265182\n",
      "(PC) Pair completeness is: 0.8482142857142857\n",
      "(RM) Reference metric (Harmonic mean RR and PC) is: 0.9146875007806573\n",
      "(PQ) Pair quality - Precision is: 0.03381986472054112\n",
      "(FM) Fmeasure is: 0.06504621704895584\n",
      "\n",
      "['citruname', 'addr']\n",
      "{'name': 'Infersent', 'model_type': 'bilstm', 'char_level': False, 'model_version': 2, 'rnn_dim': 300, 'verbose': 1}\n",
      "{'name': 'TSNE', 'num_components': 2, 'early_exaggeration': 12, 'verbose': 1, 'perplexity': 40, 'method': 'barnes_hut'}\n",
      "{'name': 'hierarchy', 'num_clusters': 136}\n"
     ]
    }
   ],
   "source": [
    "from evaluation import calc_index\n",
    "calc_index(blocks,table,pairs)\n",
    "print()\n",
    "print(params['attr_list'])\n",
    "print(params['embedding'])\n",
    "print(params['reduction'])\n",
    "print(params['blocking'])"
   ]
  },
  {
   "cell_type": "markdown",
   "metadata": {
    "heading_collapsed": true
   },
   "source": [
    "## lstm, rnn_dim: 2048"
   ]
  },
  {
   "cell_type": "code",
   "execution_count": 33,
   "metadata": {
    "hidden": true
   },
   "outputs": [
    {
     "name": "stdout",
     "output_type": "stream",
     "text": [
      "(RR) Reduction ratio is: 0.9924064417836145\n",
      "(PC) Pair completeness is: 0.7589285714285714\n",
      "(RM) Reference metric (Harmonic mean RR and PC) is: 0.8601045459120267\n",
      "(PQ) Pair quality - Precision is: 0.03002472624514306\n",
      "(FM) Fmeasure is: 0.057764186204553175\n",
      "\n",
      "['citruname', 'addr']\n",
      "{'name': 'Infersent', 'model_type': 'lstm', 'char_level': False, 'model_version': 2, 'rnn_dim': 2048, 'verbose': 1}\n",
      "{'name': 'TSNE', 'num_components': 2, 'early_exaggeration': 12, 'verbose': 1, 'perplexity': 40, 'method': 'barnes_hut'}\n",
      "{'name': 'hierarchy', 'num_clusters': 136}\n"
     ]
    }
   ],
   "source": [
    "from evaluation import calc_index\n",
    "calc_index(blocks,table,pairs)\n",
    "print()\n",
    "print(params['attr_list'])\n",
    "print(params['embedding'])\n",
    "print(params['reduction'])\n",
    "print(params['blocking'])"
   ]
  },
  {
   "cell_type": "markdown",
   "metadata": {
    "heading_collapsed": true
   },
   "source": [
    "## lstm, rnn_dim: 1024"
   ]
  },
  {
   "cell_type": "code",
   "execution_count": 26,
   "metadata": {
    "hidden": true
   },
   "outputs": [
    {
     "name": "stdout",
     "output_type": "stream",
     "text": [
      "(RR) Reduction ratio is: 0.992301832539376\n",
      "(PC) Pair completeness is: 0.7410714285714286\n",
      "(RM) Reference metric (Harmonic mean RR and PC) is: 0.8484803049779988\n",
      "(PQ) Pair quality - Precision is: 0.0289198606271777\n",
      "(FM) Fmeasure is: 0.05566733735747821\n",
      "\n",
      "['citruname', 'addr']\n",
      "{'name': 'Infersent', 'model_type': 'lstm', 'char_level': False, 'model_version': 2, 'rnn_dim': 1024, 'verbose': 1}\n",
      "{'name': 'TSNE', 'num_components': 2, 'early_exaggeration': 12, 'verbose': 1, 'perplexity': 40, 'method': 'barnes_hut'}\n",
      "{'name': 'hierarchy', 'num_clusters': 136}\n"
     ]
    }
   ],
   "source": [
    "from evaluation import calc_index\n",
    "calc_index(blocks,table,pairs)\n",
    "print()\n",
    "print(params['attr_list'])\n",
    "print(params['embedding'])\n",
    "print(params['reduction'])\n",
    "print(params['blocking'])"
   ]
  },
  {
   "cell_type": "markdown",
   "metadata": {
    "heading_collapsed": true
   },
   "source": [
    "## lstm, rnn_dim: 300"
   ]
  },
  {
   "cell_type": "code",
   "execution_count": 20,
   "metadata": {
    "hidden": true
   },
   "outputs": [
    {
     "name": "stdout",
     "output_type": "stream",
     "text": [
      "(RR) Reduction ratio is: 0.9925298270460495\n",
      "(PC) Pair completeness is: 0.7232142857142857\n",
      "(RM) Reference metric (Harmonic mean RR and PC) is: 0.8367352037856011\n",
      "(PQ) Pair quality - Precision is: 0.029084380610412925\n",
      "(FM) Fmeasure is: 0.05591991715567828\n",
      "\n",
      "['citruname', 'addr']\n",
      "{'name': 'Infersent', 'model_type': 'lstm', 'char_level': False, 'model_version': 2, 'rnn_dim': 300, 'verbose': 1}\n",
      "{'name': 'TSNE', 'num_components': 2, 'early_exaggeration': 12, 'verbose': 1, 'perplexity': 40, 'method': 'barnes_hut'}\n",
      "{'name': 'hierarchy', 'num_clusters': 136}\n"
     ]
    }
   ],
   "source": [
    "from evaluation import calc_index\n",
    "calc_index(blocks,table,pairs)\n",
    "print()\n",
    "print(params['attr_list'])\n",
    "print(params['embedding'])\n",
    "print(params['reduction'])\n",
    "print(params['blocking'])"
   ]
  },
  {
   "cell_type": "markdown",
   "metadata": {},
   "source": [
    "## Searching"
   ]
  },
  {
   "cell_type": "code",
   "execution_count": 33,
   "metadata": {},
   "outputs": [
    {
     "name": "stdout",
     "output_type": "stream",
     "text": [
      "clustering with NUM_CLUSTERS = 1, \n",
      "(RR) Reduction ratio is: 0.0\n",
      "(PC) Pair completeness is: 1.0\n",
      "(RM) Reference metric (Harmonic mean RR and PC) is: 0\n",
      "(PQ) Pair quality - Precision is: 0.0003004162911463027\n",
      "(FM) Fmeasure is: 0.0006006521366054572\n",
      "clustering with NUM_CLUSTERS = 6, \n",
      "(RR) Reduction ratio is: 0.8283415947813398\n",
      "(PC) Pair completeness is: 0.875\n",
      "(RM) Reference metric (Harmonic mean RR and PC) is: 0.8510317574047334\n",
      "(PQ) Pair quality - Precision is: 0.0015313217807084707\n",
      "(FM) Fmeasure is: 0.0030572930477780033\n",
      "clustering with NUM_CLUSTERS = 11, \n",
      "(RR) Reduction ratio is: 0.8987221578473027\n",
      "(PC) Pair completeness is: 0.875\n",
      "(RM) Reference metric (Harmonic mean RR and PC) is: 0.8867024461946068\n",
      "(PQ) Pair quality - Precision is: 0.0025954764553207266\n",
      "(FM) Fmeasure is: 0.005175600739371534\n",
      "clustering with NUM_CLUSTERS = 16, \n",
      "(RR) Reduction ratio is: 0.9277767048624522\n",
      "(PC) Pair completeness is: 0.8660714285714286\n",
      "(RM) Reference metric (Harmonic mean RR and PC) is: 0.8958627892734415\n",
      "(PQ) Pair quality - Precision is: 0.003602466017975191\n",
      "(FM) Fmeasure is: 0.007175086914712626\n",
      "clustering with NUM_CLUSTERS = 21, \n",
      "(RR) Reduction ratio is: 0.9447529076005322\n",
      "(PC) Pair completeness is: 0.8660714285714286\n",
      "(RM) Reference metric (Harmonic mean RR and PC) is: 0.9037027877174533\n",
      "(PQ) Pair quality - Precision is: 0.004709423702480944\n",
      "(FM) Fmeasure is: 0.009367907672992419\n",
      "clustering with NUM_CLUSTERS = 26, \n",
      "(RR) Reduction ratio is: 0.9519253465516502\n",
      "(PC) Pair completeness is: 0.8660714285714286\n",
      "(RM) Reference metric (Harmonic mean RR and PC) is: 0.9069711850567233\n",
      "(PQ) Pair quality - Precision is: 0.005412040395023155\n",
      "(FM) Fmeasure is: 0.010756861657887442\n",
      "clustering with NUM_CLUSTERS = 31, \n",
      "(RR) Reduction ratio is: 0.9604255182181022\n",
      "(PC) Pair completeness is: 0.8660714285714286\n",
      "(RM) Reference metric (Harmonic mean RR and PC) is: 0.9108113780991228\n",
      "(PQ) Pair quality - Precision is: 0.0065744882743662735\n",
      "(FM) Fmeasure is: 0.013049912552132384\n",
      "clustering with NUM_CLUSTERS = 36, \n",
      "(RR) Reduction ratio is: 0.967005171451869\n",
      "(PC) Pair completeness is: 0.8660714285714286\n",
      "(RM) Reference metric (Harmonic mean RR and PC) is: 0.9137594689328697\n",
      "(PQ) Pair quality - Precision is: 0.00788553776115763\n",
      "(FM) Fmeasure is: 0.015628776282929187\n",
      "clustering with NUM_CLUSTERS = 41, \n",
      "(RR) Reduction ratio is: 0.9696525900175959\n",
      "(PC) Pair completeness is: 0.8660714285714286\n",
      "(RM) Reference metric (Harmonic mean RR and PC) is: 0.9149397135414764\n",
      "(PQ) Pair quality - Precision is: 0.008573448824465264\n",
      "(FM) Fmeasure is: 0.01697882023455277\n",
      "clustering with NUM_CLUSTERS = 46, \n",
      "(RR) Reduction ratio is: 0.9722463628170465\n",
      "(PC) Pair completeness is: 0.8660714285714286\n",
      "(RM) Reference metric (Harmonic mean RR and PC) is: 0.9160927455664223\n",
      "(PQ) Pair quality - Precision is: 0.009374697980090848\n",
      "(FM) Fmeasure is: 0.018548618414762408\n",
      "clustering with NUM_CLUSTERS = 51, \n",
      "(RR) Reduction ratio is: 0.9764441440281533\n",
      "(PC) Pair completeness is: 0.8660714285714286\n",
      "(RM) Reference metric (Harmonic mean RR and PC) is: 0.9179519427838787\n",
      "(PQ) Pair quality - Precision is: 0.011045319972671374\n",
      "(FM) Fmeasure is: 0.021812457836743872\n",
      "clustering with NUM_CLUSTERS = 56, \n",
      "(RR) Reduction ratio is: 0.9782600532166001\n",
      "(PC) Pair completeness is: 0.8660714285714286\n",
      "(RM) Reference metric (Harmonic mean RR and PC) is: 0.9187535865106893\n",
      "(PQ) Pair quality - Precision is: 0.011967921036397286\n",
      "(FM) Fmeasure is: 0.023609589874650113\n",
      "clustering with NUM_CLUSTERS = 61, \n",
      "(RR) Reduction ratio is: 0.9823639543367237\n",
      "(PC) Pair completeness is: 0.8660714285714286\n",
      "(RM) Reference metric (Harmonic mean RR and PC) is: 0.920559475518068\n",
      "(PQ) Pair quality - Precision is: 0.014752851711026615\n",
      "(FM) Fmeasure is: 0.029011514879617166\n",
      "clustering with NUM_CLUSTERS = 66, \n",
      "(RR) Reduction ratio is: 0.9831042659113343\n",
      "(PC) Pair completeness is: 0.8660714285714286\n",
      "(RM) Reference metric (Harmonic mean RR and PC) is: 0.9208843903290138\n",
      "(PQ) Pair quality - Precision is: 0.01539926972535323\n",
      "(FM) Fmeasure is: 0.03026048978318515\n",
      "clustering with NUM_CLUSTERS = 71, \n",
      "(RR) Reduction ratio is: 0.984118170893953\n",
      "(PC) Pair completeness is: 0.8660714285714286\n",
      "(RM) Reference metric (Harmonic mean RR and PC) is: 0.9213289604433047\n",
      "(PQ) Pair quality - Precision is: 0.016382367843269716\n",
      "(FM) Fmeasure is: 0.032156472733300176\n",
      "clustering with NUM_CLUSTERS = 76, \n",
      "(RR) Reduction ratio is: 0.9849872323076263\n",
      "(PC) Pair completeness is: 0.8660714285714286\n",
      "(RM) Reference metric (Harmonic mean RR and PC) is: 0.921709632912624\n",
      "(PQ) Pair quality - Precision is: 0.01733071288190102\n",
      "(FM) Fmeasure is: 0.033981432825363464\n",
      "clustering with NUM_CLUSTERS = 81, \n",
      "(RR) Reduction ratio is: 0.9855531951418394\n",
      "(PC) Pair completeness is: 0.8660714285714286\n",
      "(RM) Reference metric (Harmonic mean RR and PC) is: 0.9219573478536827\n",
      "(PQ) Pair quality - Precision is: 0.018009654660230228\n",
      "(FM) Fmeasure is: 0.03528555838486723\n",
      "clustering with NUM_CLUSTERS = 86, \n",
      "(RR) Reduction ratio is: 0.9861862151838977\n",
      "(PC) Pair completeness is: 0.8660714285714286\n",
      "(RM) Reference metric (Harmonic mean RR and PC) is: 0.922234233559564\n",
      "(PQ) Pair quality - Precision is: 0.01883495145631068\n",
      "(FM) Fmeasure is: 0.03686811098441657\n",
      "clustering with NUM_CLUSTERS = 91, \n",
      "(RR) Reduction ratio is: 0.9869533496416463\n",
      "(PC) Pair completeness is: 0.8660714285714286\n",
      "(RM) Reference metric (Harmonic mean RR and PC) is: 0.9225695279496248\n",
      "(PQ) Pair quality - Precision is: 0.019942434210526317\n",
      "(FM) Fmeasure is: 0.0389871382636656\n",
      "clustering with NUM_CLUSTERS = 96, \n",
      "(RR) Reduction ratio is: 0.9877365778292777\n",
      "(PC) Pair completeness is: 0.8660714285714286\n",
      "(RM) Reference metric (Harmonic mean RR and PC) is: 0.9229115701941233\n",
      "(PQ) Pair quality - Precision is: 0.02121609798775153\n",
      "(FM) Fmeasure is: 0.041417591801878734\n",
      "clustering with NUM_CLUSTERS = 101, \n",
      "(RR) Reduction ratio is: 0.9884071499077293\n",
      "(PC) Pair completeness is: 0.8660714285714286\n",
      "(RM) Reference metric (Harmonic mean RR and PC) is: 0.9232041850090554\n",
      "(PQ) Pair quality - Precision is: 0.02244331328088848\n",
      "(FM) Fmeasure is: 0.04375281912494362\n",
      "clustering with NUM_CLUSTERS = 106, \n",
      "(RR) Reduction ratio is: 0.9888443629028797\n",
      "(PC) Pair completeness is: 0.8660714285714286\n",
      "(RM) Reference metric (Harmonic mean RR and PC) is: 0.923394855928653\n",
      "(PQ) Pair quality - Precision is: 0.023322914162058186\n",
      "(FM) Fmeasure is: 0.04542261765394521\n",
      "clustering with NUM_CLUSTERS = 111, \n",
      "(RR) Reduction ratio is: 0.989324492511051\n",
      "(PC) Pair completeness is: 0.8660714285714286\n",
      "(RM) Reference metric (Harmonic mean RR and PC) is: 0.9236041394872295\n",
      "(PQ) Pair quality - Precision is: 0.02437185929648241\n",
      "(FM) Fmeasure is: 0.047409579667644176\n",
      "clustering with NUM_CLUSTERS = 116, \n",
      "(RR) Reduction ratio is: 0.9897751169477704\n",
      "(PC) Pair completeness is: 0.8660714285714286\n",
      "(RM) Reference metric (Harmonic mean RR and PC) is: 0.9238004635341122\n",
      "(PQ) Pair quality - Precision is: 0.025445960125918154\n",
      "(FM) Fmeasure is: 0.04943934760448522\n",
      "clustering with NUM_CLUSTERS = 121, \n",
      "(RR) Reduction ratio is: 0.9900299343375821\n",
      "(PC) Pair completeness is: 0.8660714285714286\n",
      "(RM) Reference metric (Harmonic mean RR and PC) is: 0.9239114379145688\n",
      "(PQ) Pair quality - Precision is: 0.026096314231907454\n",
      "(FM) Fmeasure is: 0.05066597022721337\n",
      "clustering with NUM_CLUSTERS = 126, \n",
      "(RR) Reduction ratio is: 0.9907273292991717\n",
      "(PC) Pair completeness is: 0.8660714285714286\n",
      "(RM) Reference metric (Harmonic mean RR and PC) is: 0.9242150015168056\n",
      "(PQ) Pair quality - Precision is: 0.02805901070292161\n",
      "(FM) Fmeasure is: 0.05435696273465957\n",
      "clustering with NUM_CLUSTERS = 131, \n",
      "(RR) Reduction ratio is: 0.9910948027981632\n",
      "(PC) Pair completeness is: 0.8660714285714286\n",
      "(RM) Reference metric (Harmonic mean RR and PC) is: 0.9243748644687723\n",
      "(PQ) Pair quality - Precision is: 0.029216867469879518\n",
      "(FM) Fmeasure is: 0.05652680652680653\n",
      "clustering with NUM_CLUSTERS = 136, \n",
      "(RR) Reduction ratio is: 0.9917573280116733\n",
      "(PC) Pair completeness is: 0.8660714285714286\n",
      "(RM) Reference metric (Harmonic mean RR and PC) is: 0.9246629247433894\n",
      "(PQ) Pair quality - Precision is: 0.03156524568825252\n",
      "(FM) Fmeasure is: 0.060910518053375204\n",
      "clustering with NUM_CLUSTERS = 141, \n",
      "(RR) Reduction ratio is: 0.9920818848976439\n",
      "(PC) Pair completeness is: 0.8660714285714286\n",
      "(RM) Reference metric (Harmonic mean RR and PC) is: 0.9248039643284676\n",
      "(PQ) Pair quality - Precision is: 0.032859078590785906\n",
      "(FM) Fmeasure is: 0.06331592689295039\n",
      "clustering with NUM_CLUSTERS = 146, \n",
      "(RR) Reduction ratio is: 0.9923232908458864\n",
      "(PC) Pair completeness is: 0.8660714285714286\n",
      "(RM) Reference metric (Harmonic mean RR and PC) is: 0.9249088378566458\n",
      "(PQ) Pair quality - Precision is: 0.03389238294898672\n",
      "(FM) Fmeasure is: 0.06523201075991929\n",
      "clustering with NUM_CLUSTERS = 151, \n",
      "(RR) Reduction ratio is: 0.9924788635680872\n",
      "(PC) Pair completeness is: 0.8660714285714286\n",
      "(RM) Reference metric (Harmonic mean RR and PC) is: 0.9249764085833377\n",
      "(PQ) Pair quality - Precision is: 0.03459343794579173\n",
      "(FM) Fmeasure is: 0.06652949245541838\n",
      "clustering with NUM_CLUSTERS = 156, \n",
      "(RR) Reduction ratio is: 0.9928838891034719\n",
      "(PC) Pair completeness is: 0.8571428571428571\n",
      "(RM) Reference metric (Harmonic mean RR and PC) is: 0.920033545724691\n",
      "(PQ) Pair quality - Precision is: 0.036185450433471544\n",
      "(FM) Fmeasure is: 0.06943942133815552\n",
      "clustering with NUM_CLUSTERS = 161, \n",
      "(RR) Reduction ratio is: 0.9930609201321832\n",
      "(PC) Pair completeness is: 0.8482142857142857\n",
      "(RM) Reference metric (Harmonic mean RR and PC) is: 0.9149403156748173\n",
      "(PQ) Pair quality - Precision is: 0.03672207189795129\n",
      "(FM) Fmeasure is: 0.0703964431270841\n",
      "clustering with NUM_CLUSTERS = 166, \n",
      "(RR) Reduction ratio is: 0.99327013862066\n",
      "(PC) Pair completeness is: 0.8482142857142857\n",
      "(RM) Reference metric (Harmonic mean RR and PC) is: 0.915029103714222\n",
      "(PQ) Pair quality - Precision is: 0.037863690713431646\n",
      "(FM) Fmeasure is: 0.07249141549027088\n",
      "clustering with NUM_CLUSTERS = 171, \n",
      "(RR) Reduction ratio is: 0.9934015707480366\n",
      "(PC) Pair completeness is: 0.8482142857142857\n",
      "(RM) Reference metric (Harmonic mean RR and PC) is: 0.915084870498599\n",
      "(PQ) Pair quality - Precision is: 0.03861788617886179\n",
      "(FM) Fmeasure is: 0.07387247278382582\n",
      "clustering with NUM_CLUSTERS = 176, \n"
     ]
    },
    {
     "name": "stdout",
     "output_type": "stream",
     "text": [
      "(RR) Reduction ratio is: 0.9936322475430239\n",
      "(PC) Pair completeness is: 0.8482142857142857\n",
      "(RM) Reference metric (Harmonic mean RR and PC) is: 0.9151827276530684\n",
      "(PQ) Pair quality - Precision is: 0.040016849199663015\n",
      "(FM) Fmeasure is: 0.07642799678197909\n",
      "clustering with NUM_CLUSTERS = 181, \n",
      "(RR) Reduction ratio is: 0.9938495128964422\n",
      "(PC) Pair completeness is: 0.8482142857142857\n",
      "(RM) Reference metric (Harmonic mean RR and PC) is: 0.9152748730252768\n",
      "(PQ) Pair quality - Precision is: 0.04143044047099869\n",
      "(FM) Fmeasure is: 0.079002079002079\n",
      "clustering with NUM_CLUSTERS = 186, \n",
      "(RR) Reduction ratio is: 0.9939728981588773\n",
      "(PC) Pair completeness is: 0.8482142857142857\n",
      "(RM) Reference metric (Harmonic mean RR and PC) is: 0.9153271928193365\n",
      "(PQ) Pair quality - Precision is: 0.04227859368046284\n",
      "(FM) Fmeasure is: 0.08054260279779568\n",
      "clustering with NUM_CLUSTERS = 191, \n",
      "(RR) Reduction ratio is: 0.9941526114759023\n",
      "(PC) Pair completeness is: 0.8482142857142857\n",
      "(RM) Reference metric (Harmonic mean RR and PC) is: 0.9154033851998534\n",
      "(PQ) Pair quality - Precision is: 0.04357798165137615\n",
      "(FM) Fmeasure is: 0.08289703315881326\n",
      "clustering with NUM_CLUSTERS = 196, \n",
      "(RR) Reduction ratio is: 0.9942652675850822\n",
      "(PC) Pair completeness is: 0.8482142857142857\n",
      "(RM) Reference metric (Harmonic mean RR and PC) is: 0.915451140008581\n",
      "(PQ) Pair quality - Precision is: 0.04443405051449953\n",
      "(FM) Fmeasure is: 0.08444444444444443\n",
      "clustering with NUM_CLUSTERS = 201, \n",
      "(RR) Reduction ratio is: 0.9944503454787348\n",
      "(PC) Pair completeness is: 0.8482142857142857\n",
      "(RM) Reference metric (Harmonic mean RR and PC) is: 0.9155295816607137\n",
      "(PQ) Pair quality - Precision is: 0.045915901401643304\n",
      "(FM) Fmeasure is: 0.0871160018340211\n",
      "clustering with NUM_CLUSTERS = 206, \n",
      "(RR) Reduction ratio is: 0.9945871421827389\n",
      "(PC) Pair completeness is: 0.8482142857142857\n",
      "(RM) Reference metric (Harmonic mean RR and PC) is: 0.9155875501462722\n",
      "(PQ) Pair quality - Precision is: 0.04707631318136769\n",
      "(FM) Fmeasure is: 0.08920187793427231\n",
      "clustering with NUM_CLUSTERS = 211, \n",
      "(RR) Reduction ratio is: 0.9946944337152912\n",
      "(PC) Pair completeness is: 0.8482142857142857\n",
      "(RM) Reference metric (Harmonic mean RR and PC) is: 0.9156330096033631\n",
      "(PQ) Pair quality - Precision is: 0.04802831142568251\n",
      "(FM) Fmeasure is: 0.0909090909090909\n",
      "clustering with NUM_CLUSTERS = 216, \n",
      "(RR) Reduction ratio is: 0.9947775846530191\n",
      "(PC) Pair completeness is: 0.8482142857142857\n",
      "(RM) Reference metric (Harmonic mean RR and PC) is: 0.9156682370420639\n",
      "(PQ) Pair quality - Precision is: 0.04879301489470981\n",
      "(FM) Fmeasure is: 0.09227780475959203\n",
      "clustering with NUM_CLUSTERS = 221, \n",
      "(RR) Reduction ratio is: 0.9949224282219647\n",
      "(PC) Pair completeness is: 0.8482142857142857\n",
      "(RM) Reference metric (Harmonic mean RR and PC) is: 0.9157295933768754\n",
      "(PQ) Pair quality - Precision is: 0.050184891706286316\n",
      "(FM) Fmeasure is: 0.09476309226932668\n",
      "clustering with NUM_CLUSTERS = 226, \n",
      "(RR) Reduction ratio is: 0.9950189906012618\n",
      "(PC) Pair completeness is: 0.8482142857142857\n",
      "(RM) Reference metric (Harmonic mean RR and PC) is: 0.9157704922429083\n",
      "(PQ) Pair quality - Precision is: 0.05115778136779752\n",
      "(FM) Fmeasure is: 0.09649568308786186\n",
      "clustering with NUM_CLUSTERS = 231, \n",
      "(RR) Reduction ratio is: 0.9951289644221278\n",
      "(PC) Pair completeness is: 0.8482142857142857\n",
      "(RM) Reference metric (Harmonic mean RR and PC) is: 0.915817066288058\n",
      "(PQ) Pair quality - Precision is: 0.05231277533039647\n",
      "(FM) Fmeasure is: 0.09854771784232365\n",
      "clustering with NUM_CLUSTERS = 236, \n",
      "(RR) Reduction ratio is: 0.9952818548560147\n",
      "(PC) Pair completeness is: 0.8482142857142857\n",
      "(RM) Reference metric (Harmonic mean RR and PC) is: 0.915881806337734\n",
      "(PQ) Pair quality - Precision is: 0.05400795906765207\n",
      "(FM) Fmeasure is: 0.10154997327632281\n",
      "clustering with NUM_CLUSTERS = 241, \n",
      "(RR) Reduction ratio is: 0.995389146388567\n",
      "(PC) Pair completeness is: 0.8482142857142857\n",
      "(RM) Reference metric (Harmonic mean RR and PC) is: 0.9159272315399206\n",
      "(PQ) Pair quality - Precision is: 0.055264688772542175\n",
      "(FM) Fmeasure is: 0.10376843255051883\n",
      "clustering with NUM_CLUSTERS = 246, \n",
      "(RR) Reduction ratio is: 0.9955286253808849\n",
      "(PC) Pair completeness is: 0.8482142857142857\n",
      "(RM) Reference metric (Harmonic mean RR and PC) is: 0.9159862763990142\n",
      "(PQ) Pair quality - Precision is: 0.05698860227954409\n",
      "(FM) Fmeasure is: 0.10680157391793142\n",
      "clustering with NUM_CLUSTERS = 251, \n",
      "(RR) Reduction ratio is: 0.995611776318613\n",
      "(PC) Pair completeness is: 0.8482142857142857\n",
      "(RM) Reference metric (Harmonic mean RR and PC) is: 0.9160214719687106\n",
      "(PQ) Pair quality - Precision is: 0.05806845965770171\n",
      "(FM) Fmeasure is: 0.10869565217391304\n",
      "clustering with NUM_CLUSTERS = 256, \n",
      "(RR) Reduction ratio is: 0.9956600575082615\n",
      "(PC) Pair completeness is: 0.8482142857142857\n",
      "(RM) Reference metric (Harmonic mean RR and PC) is: 0.9160419066492573\n",
      "(PQ) Pair quality - Precision is: 0.05871446229913473\n",
      "(FM) Fmeasure is: 0.10982658959537572\n",
      "clustering with NUM_CLUSTERS = 261, \n",
      "(RR) Reduction ratio is: 0.9957324792927342\n",
      "(PC) Pair completeness is: 0.8392857142857143\n",
      "(RM) Reference metric (Harmonic mean RR and PC) is: 0.9108400647418001\n",
      "(PQ) Pair quality - Precision is: 0.0590823381521056\n",
      "(FM) Fmeasure is: 0.1103934233705226\n",
      "clustering with NUM_CLUSTERS = 266, \n",
      "(RR) Reduction ratio is: 0.9958290416720312\n",
      "(PC) Pair completeness is: 0.8392857142857143\n",
      "(RM) Reference metric (Harmonic mean RR and PC) is: 0.9108804621975514\n",
      "(PQ) Pair quality - Precision is: 0.06045016077170418\n",
      "(FM) Fmeasure is: 0.11277744451109778\n",
      "clustering with NUM_CLUSTERS = 271, \n",
      "(RR) Reduction ratio is: 0.9959363332045835\n",
      "(PC) Pair completeness is: 0.8392857142857143\n",
      "(RM) Reference metric (Harmonic mean RR and PC) is: 0.9109253432736161\n",
      "(PQ) Pair quality - Precision is: 0.062046204620462043\n",
      "(FM) Fmeasure is: 0.11555009219422249\n",
      "clustering with NUM_CLUSTERS = 276, \n",
      "(RR) Reduction ratio is: 0.9960168018539977\n",
      "(PC) Pair completeness is: 0.8303571428571429\n",
      "(RM) Reference metric (Harmonic mean RR and PC) is: 0.9056739647651957\n",
      "(PQ) Pair quality - Precision is: 0.06262626262626263\n",
      "(FM) Fmeasure is: 0.11646837820914216\n",
      "clustering with NUM_CLUSTERS = 281, \n",
      "(RR) Reduction ratio is: 0.9960838590618428\n",
      "(PC) Pair completeness is: 0.8303571428571429\n",
      "(RM) Reference metric (Harmonic mean RR and PC) is: 0.905701685833481\n",
      "(PQ) Pair quality - Precision is: 0.0636986301369863\n",
      "(FM) Fmeasure is: 0.11832061068702292\n",
      "clustering with NUM_CLUSTERS = 286, \n",
      "(RR) Reduction ratio is: 0.9961455516930604\n",
      "(PC) Pair completeness is: 0.8303571428571429\n",
      "(RM) Reference metric (Harmonic mean RR and PC) is: 0.9057271874185749\n",
      "(PQ) Pair quality - Precision is: 0.06471816283924843\n",
      "(FM) Fmeasure is: 0.12007746933505485\n",
      "clustering with NUM_CLUSTERS = 291, \n",
      "(RR) Reduction ratio is: 0.9962179734775332\n",
      "(PC) Pair completeness is: 0.8303571428571429\n",
      "(RM) Reference metric (Harmonic mean RR and PC) is: 0.9057571218638782\n",
      "(PQ) Pair quality - Precision is: 0.06595744680851064\n",
      "(FM) Fmeasure is: 0.12220762155059132\n",
      "clustering with NUM_CLUSTERS = 296, \n",
      "(RR) Reduction ratio is: 0.9962930775503197\n",
      "(PC) Pair completeness is: 0.8303571428571429\n",
      "(RM) Reference metric (Harmonic mean RR and PC) is: 0.9057881624852031\n",
      "(PQ) Pair quality - Precision is: 0.06729377713458755\n",
      "(FM) Fmeasure is: 0.12449799196787148\n"
     ]
    }
   ],
   "source": [
    "for i in range(1,300,5):\n",
    "    num_clusters = int(i)\n",
    "    blocks = hierarchy_cluster(tsne_embeddings, {'num_clusters': num_clusters})\n",
    "    calc_index(blocks,table,pairs)"
   ]
  },
  {
   "cell_type": "code",
   "execution_count": 10,
   "metadata": {},
   "outputs": [
    {
     "name": "stdout",
     "output_type": "stream",
     "text": [
      ">>>>>>>>>>>>>>>>>>>>: 30\n",
      "starting dimension: 2048\n",
      "setting TSNE with n_components: 2 & perplexity: 30\n",
      "early_exaggeration: 12\n",
      "clustering with NUM_CLUSTERS = 56, \n",
      "(RR) Reduction ratio is: 0.9802851808935239\n",
      "(PC) Pair completeness is: 0.8928571428571429\n",
      "(RM) Reference metric (Harmonic mean RR and PC) is: 0.9345308305726949\n",
      "(PQ) Pair quality - Precision is: 0.013605442176870748\n",
      "(FM) Fmeasure is: 0.02680246582685607\n",
      ">>>>>>>>>>>>>>>>>>>>: 35\n",
      "starting dimension: 2048\n",
      "setting TSNE with n_components: 2 & perplexity: 35\n",
      "early_exaggeration: 12\n",
      "clustering with NUM_CLUSTERS = 56, \n",
      "(RR) Reduction ratio is: 0.9804809879404317\n",
      "(PC) Pair completeness is: 0.8571428571428571\n",
      "(RM) Reference metric (Harmonic mean RR and PC) is: 0.9146728016466523\n",
      "(PQ) Pair quality - Precision is: 0.013192249553387384\n",
      "(FM) Fmeasure is: 0.02598457166057653\n",
      ">>>>>>>>>>>>>>>>>>>>: 40\n",
      "starting dimension: 2048\n",
      "setting TSNE with n_components: 2 & perplexity: 40\n",
      "early_exaggeration: 12\n",
      "clustering with NUM_CLUSTERS = 56, \n",
      "(RR) Reduction ratio is: 0.9801859362259131\n",
      "(PC) Pair completeness is: 0.875\n",
      "(RM) Reference metric (Harmonic mean RR and PC) is: 0.9246110348836032\n",
      "(PQ) Pair quality - Precision is: 0.01326654934344118\n",
      "(FM) Fmeasure is: 0.026136818242432323\n",
      ">>>>>>>>>>>>>>>>>>>>: 45\n",
      "starting dimension: 2048\n",
      "setting TSNE with n_components: 2 & perplexity: 45\n",
      "early_exaggeration: 12\n",
      "clustering with NUM_CLUSTERS = 56, \n",
      "(RR) Reduction ratio is: 0.9810389039097035\n",
      "(PC) Pair completeness is: 0.875\n",
      "(RM) Reference metric (Harmonic mean RR and PC) is: 0.9249903535025819\n",
      "(PQ) Pair quality - Precision is: 0.013863347008063374\n",
      "(FM) Fmeasure is: 0.027294248711878567\n",
      ">>>>>>>>>>>>>>>>>>>>: 50\n",
      "starting dimension: 2048\n",
      "setting TSNE with n_components: 2 & perplexity: 50\n",
      "early_exaggeration: 12\n",
      "clustering with NUM_CLUSTERS = 56, \n",
      "(RR) Reduction ratio is: 0.9795448693189134\n",
      "(PC) Pair completeness is: 0.8839285714285714\n",
      "(RM) Reference metric (Harmonic mean RR and PC) is: 0.9292836463930938\n",
      "(PQ) Pair quality - Precision is: 0.012981904012588513\n",
      "(FM) Fmeasure is: 0.025588007237012145\n"
     ]
    }
   ],
   "source": [
    "for i in [30,35,40,45,50]:\n",
    "    print('>>>>>>>>>>>>>>>>>>>>: '+str(i))\n",
    "    tsne_embeddings = tsne_dim_reduction(\n",
    "    embeddings_tokens, \n",
    "    num_components=2,\n",
    "    early_exaggeration=12,\n",
    "    verbose=1,\n",
    "    perplexity=i,\n",
    "    method=\"barnes_hut\")\n",
    "    num_clusters = 56\n",
    "    blocks = hierarchy_cluster(tsne_embeddings, {'num_clusters': num_clusters})\n",
    "    calc_index(blocks,table,pairs)"
   ]
  },
  {
   "cell_type": "code",
   "execution_count": 11,
   "metadata": {},
   "outputs": [
    {
     "name": "stdout",
     "output_type": "stream",
     "text": [
      ">>>>>>>>>>>>>>>>>>>>: 5\n",
      "starting dimension: 2048\n",
      "setting TSNE with n_components: 2 & perplexity: 5\n",
      "early_exaggeration: 12\n",
      "clustering with NUM_CLUSTERS = 56, \n",
      "(RR) Reduction ratio is: 0.9732951375477448\n",
      "(PC) Pair completeness is: 0.9464285714285714\n",
      "(RM) Reference metric (Harmonic mean RR and PC) is: 0.9596738554621366\n",
      "(PQ) Pair quality - Precision is: 0.01064684612294094\n",
      "(FM) Fmeasure is: 0.021056813667063964\n",
      ">>>>>>>>>>>>>>>>>>>>: 10\n",
      "starting dimension: 2048\n",
      "setting TSNE with n_components: 2 & perplexity: 10\n",
      "early_exaggeration: 12\n",
      "clustering with NUM_CLUSTERS = 56, \n",
      "(RR) Reduction ratio is: 0.9790191408094073\n",
      "(PC) Pair completeness is: 0.9464285714285714\n",
      "(RM) Reference metric (Harmonic mean RR and PC) is: 0.9624480383946711\n",
      "(PQ) Pair quality - Precision is: 0.013551521350038353\n",
      "(FM) Fmeasure is: 0.026720443660196623\n",
      ">>>>>>>>>>>>>>>>>>>>: 15\n",
      "starting dimension: 2048\n",
      "setting TSNE with n_components: 2 & perplexity: 15\n",
      "early_exaggeration: 12\n",
      "clustering with NUM_CLUSTERS = 56, \n",
      "(RR) Reduction ratio is: 0.9797379940775074\n",
      "(PC) Pair completeness is: 0.9375\n",
      "(RM) Reference metric (Harmonic mean RR and PC) is: 0.9581537318632245\n",
      "(PQ) Pair quality - Precision is: 0.013899920571882446\n",
      "(FM) Fmeasure is: 0.027393686407513693\n"
     ]
    }
   ],
   "source": [
    "for i in [5,10,15]:\n",
    "    print('>>>>>>>>>>>>>>>>>>>>: '+str(i))\n",
    "    tsne_embeddings = tsne_dim_reduction(\n",
    "    embeddings_tokens, \n",
    "    num_components=2,\n",
    "    early_exaggeration=12,\n",
    "    verbose=1,\n",
    "    perplexity=i,\n",
    "    method=\"barnes_hut\")\n",
    "    num_clusters = 56\n",
    "    blocks = hierarchy_cluster(tsne_embeddings, {'num_clusters': num_clusters})\n",
    "    calc_index(blocks,table,pairs)"
   ]
  },
  {
   "cell_type": "code",
   "execution_count": 12,
   "metadata": {},
   "outputs": [
    {
     "name": "stdout",
     "output_type": "stream",
     "text": [
      ">>>>>>>>>>>>>>>>>>>>: 8\n",
      "starting dimension: 2048\n",
      "setting TSNE with n_components: 2 & perplexity: 8\n",
      "early_exaggeration: 12\n",
      "clustering with NUM_CLUSTERS = 56, \n",
      "(RR) Reduction ratio is: 0.9795448693189134\n",
      "(PC) Pair completeness is: 0.9375\n",
      "(RM) Reference metric (Harmonic mean RR and PC) is: 0.9580613679769975\n",
      "(PQ) Pair quality - Precision is: 0.013768686073957514\n",
      "(FM) Fmeasure is: 0.027138795554406823\n",
      ">>>>>>>>>>>>>>>>>>>>: 9\n",
      "starting dimension: 2048\n",
      "setting TSNE with n_components: 2 & perplexity: 9\n",
      "early_exaggeration: 12\n",
      "clustering with NUM_CLUSTERS = 56, \n",
      "(RR) Reduction ratio is: 0.978761641131282\n",
      "(PC) Pair completeness is: 0.9375\n",
      "(RM) Reference metric (Harmonic mean RR and PC) is: 0.9576865902496176\n",
      "(PQ) Pair quality - Precision is: 0.013260924475877747\n",
      "(FM) Fmeasure is: 0.026151930261519303\n",
      ">>>>>>>>>>>>>>>>>>>>: 11\n",
      "starting dimension: 2048\n",
      "setting TSNE with n_components: 2 & perplexity: 11\n",
      "early_exaggeration: 12\n",
      "clustering with NUM_CLUSTERS = 56, \n",
      "(RR) Reduction ratio is: 0.9804112484442727\n",
      "(PC) Pair completeness is: 0.9375\n",
      "(RM) Reference metric (Harmonic mean RR and PC) is: 0.9584755771801943\n",
      "(PQ) Pair quality - Precision is: 0.014377653019307135\n",
      "(FM) Fmeasure is: 0.028320971004720162\n",
      ">>>>>>>>>>>>>>>>>>>>: 12\n",
      "starting dimension: 2048\n",
      "setting TSNE with n_components: 2 & perplexity: 12\n",
      "early_exaggeration: 12\n",
      "clustering with NUM_CLUSTERS = 56, \n",
      "(RR) Reduction ratio is: 0.9795797390669928\n",
      "(PC) Pair completeness is: 0.9375\n",
      "(RM) Reference metric (Harmonic mean RR and PC) is: 0.9580780461664601\n",
      "(PQ) Pair quality - Precision is: 0.013792197556810718\n",
      "(FM) Fmeasure is: 0.027184466019417475\n"
     ]
    }
   ],
   "source": [
    "for i in [8,9,11,12]:\n",
    "    print('>>>>>>>>>>>>>>>>>>>>: '+str(i))\n",
    "    tsne_embeddings = tsne_dim_reduction(\n",
    "    embeddings_tokens, \n",
    "    num_components=2,\n",
    "    early_exaggeration=12,\n",
    "    verbose=1,\n",
    "    perplexity=i,\n",
    "    method=\"barnes_hut\")\n",
    "    num_clusters = 56\n",
    "    blocks = hierarchy_cluster(tsne_embeddings, {'num_clusters': num_clusters})\n",
    "    calc_index(blocks,table,pairs)"
   ]
  },
  {
   "cell_type": "markdown",
   "metadata": {},
   "source": [
    "# Best"
   ]
  },
  {
   "cell_type": "code",
   "execution_count": 29,
   "metadata": {},
   "outputs": [],
   "source": [
    "#(RR) Reduction ratio is: 0.9923420668640831\n",
    "#(PC) Pair completeness is: 0.875\n",
    "#(RM) Reference metric (Harmonic mean RR and PC) is: 0.9299841993751572\n",
    "#(PQ) Pair quality - Precision is: 0.034325744308231175\n",
    "#(FM) Fmeasure is: 0.06605999325918437\n",
    "\n",
    "#['citruname', 'addr']\n",
    "#{'name': 'Infersent', 'model_type': 'bilstm', 'char_level': False, 'model_version': 2, 'rnn_dim': 1024, 'verbose': 1}\n",
    "#{'name': 'TSNE', 'num_components': 2, 'early_exaggeration': 12, 'verbose': 1, 'perplexity': 40, 'method': 'barnes_hut'}\n",
    "#{'name': 'hierarchy', 'num_clusters': 136}"
   ]
  },
  {
   "cell_type": "code",
   "execution_count": null,
   "metadata": {},
   "outputs": [],
   "source": []
  }
 ],
 "metadata": {
  "kernelspec": {
   "display_name": "Python 3.7.7 64-bit ('thesisEnv': conda)",
   "language": "python",
   "name": "python37764bitthesisenvcondad61bb62be9734ae9b8ba15c07cc7706a"
  },
  "language_info": {
   "codemirror_mode": {
    "name": "ipython",
    "version": 3
   },
   "file_extension": ".py",
   "mimetype": "text/x-python",
   "name": "python",
   "nbconvert_exporter": "python",
   "pygments_lexer": "ipython3",
   "version": "3.7.7"
  },
  "toc": {
   "base_numbering": 1,
   "nav_menu": {},
   "number_sections": true,
   "sideBar": true,
   "skip_h1_title": false,
   "title_cell": "Table of Contents",
   "title_sidebar": "Contents",
   "toc_cell": true,
   "toc_position": {},
   "toc_section_display": true,
   "toc_window_display": false
  },
  "varInspector": {
   "cols": {
    "lenName": 16,
    "lenType": 16,
    "lenVar": 40
   },
   "kernels_config": {
    "python": {
     "delete_cmd_postfix": "",
     "delete_cmd_prefix": "del ",
     "library": "var_list.py",
     "varRefreshCmd": "print(var_dic_list())"
    },
    "r": {
     "delete_cmd_postfix": ") ",
     "delete_cmd_prefix": "rm(",
     "library": "var_list.r",
     "varRefreshCmd": "cat(var_dic_list()) "
    }
   },
   "types_to_exclude": [
    "module",
    "function",
    "builtin_function_or_method",
    "instance",
    "_Feature"
   ],
   "window_display": false
  }
 },
 "nbformat": 4,
 "nbformat_minor": 4
}
