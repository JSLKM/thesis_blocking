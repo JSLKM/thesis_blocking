{
 "cells": [
  {
   "cell_type": "markdown",
   "metadata": {
    "toc": true
   },
   "source": [
    "<h1>Table of Contents<span class=\"tocSkip\"></span></h1>\n",
    "<div class=\"toc\"><ul class=\"toc-item\"><li><span><a href=\"#Setup\" data-toc-modified-id=\"Setup-1\"><span class=\"toc-item-num\">1&nbsp;&nbsp;</span>Setup</a></span></li><li><span><a href=\"#Import-dataset\" data-toc-modified-id=\"Import-dataset-2\"><span class=\"toc-item-num\">2&nbsp;&nbsp;</span>Import dataset</a></span></li><li><span><a href=\"#Sentence-embedding\" data-toc-modified-id=\"Sentence-embedding-3\"><span class=\"toc-item-num\">3&nbsp;&nbsp;</span>Sentence embedding</a></span><ul class=\"toc-item\"><li><span><a href=\"#Infersent\" data-toc-modified-id=\"Infersent-3.1\"><span class=\"toc-item-num\">3.1&nbsp;&nbsp;</span>Infersent</a></span></li></ul></li><li><span><a href=\"#Dimensionality-reduction\" data-toc-modified-id=\"Dimensionality-reduction-4\"><span class=\"toc-item-num\">4&nbsp;&nbsp;</span>Dimensionality reduction</a></span><ul class=\"toc-item\"><li><span><a href=\"#TSNE\" data-toc-modified-id=\"TSNE-4.1\"><span class=\"toc-item-num\">4.1&nbsp;&nbsp;</span>TSNE</a></span></li></ul></li><li><span><a href=\"#Blocking\" data-toc-modified-id=\"Blocking-5\"><span class=\"toc-item-num\">5&nbsp;&nbsp;</span>Blocking</a></span></li><li><span><a href=\"#Evaluation\" data-toc-modified-id=\"Evaluation-6\"><span class=\"toc-item-num\">6&nbsp;&nbsp;</span>Evaluation</a></span><ul class=\"toc-item\"><li><span><a href=\"#bilstm,-rnn_dim-2048\" data-toc-modified-id=\"bilstm,-rnn_dim-2048-6.1\"><span class=\"toc-item-num\">6.1&nbsp;&nbsp;</span>bilstm, rnn_dim 2048</a></span></li><li><span><a href=\"#Searching\" data-toc-modified-id=\"Searching-6.2\"><span class=\"toc-item-num\">6.2&nbsp;&nbsp;</span>Searching</a></span></li></ul></li><li><span><a href=\"#Result\" data-toc-modified-id=\"Result-7\"><span class=\"toc-item-num\">7&nbsp;&nbsp;</span>Result</a></span></li></ul></div>"
   ]
  },
  {
   "cell_type": "markdown",
   "metadata": {},
   "source": [
    "# Setup "
   ]
  },
  {
   "cell_type": "code",
   "execution_count": 1,
   "metadata": {},
   "outputs": [],
   "source": [
    "import os\n",
    "import sys\n",
    "import time\n",
    "import numpy as np\n",
    "import matplotlib.pyplot as plt\n",
    "\n",
    "module_path = os.path.abspath(os.path.join('../..'))\n",
    "if module_path not in sys.path:\n",
    "    sys.path.append(module_path)\n",
    "    \n",
    "from preprocessing_datasets.preprocessing_utilities import get_labels_by\n",
    "\n",
    "params = {}"
   ]
  },
  {
   "cell_type": "markdown",
   "metadata": {},
   "source": [
    "# Import dataset"
   ]
  },
  {
   "cell_type": "code",
   "execution_count": 2,
   "metadata": {},
   "outputs": [],
   "source": [
    "from preprocessing_datasets.preprocessing_census import clean_census\n",
    "table, pairs = clean_census()"
   ]
  },
  {
   "cell_type": "code",
   "execution_count": 3,
   "metadata": {
    "scrolled": true
   },
   "outputs": [
    {
     "data": {
      "text/html": [
       "<div>\n",
       "<style scoped>\n",
       "    .dataframe tbody tr th:only-of-type {\n",
       "        vertical-align: middle;\n",
       "    }\n",
       "\n",
       "    .dataframe tbody tr th {\n",
       "        vertical-align: top;\n",
       "    }\n",
       "\n",
       "    .dataframe thead th {\n",
       "        text-align: right;\n",
       "    }\n",
       "</style>\n",
       "<table border=\"1\" class=\"dataframe\">\n",
       "  <thead>\n",
       "    <tr style=\"text-align: right;\">\n",
       "      <th></th>\n",
       "      <th>last_name</th>\n",
       "      <th>first_name</th>\n",
       "      <th>middle_name</th>\n",
       "      <th>zip_code</th>\n",
       "      <th>street_address</th>\n",
       "    </tr>\n",
       "  </thead>\n",
       "  <tbody>\n",
       "    <tr>\n",
       "      <th>0</th>\n",
       "      <td>anderson</td>\n",
       "      <td>unk</td>\n",
       "      <td>unk</td>\n",
       "      <td>4848</td>\n",
       "      <td>basswood</td>\n",
       "    </tr>\n",
       "    <tr>\n",
       "      <th>1</th>\n",
       "      <td>anderson</td>\n",
       "      <td>unk</td>\n",
       "      <td>unk</td>\n",
       "      <td>4848</td>\n",
       "      <td>basswood</td>\n",
       "    </tr>\n",
       "    <tr>\n",
       "      <th>2</th>\n",
       "      <td>anderson</td>\n",
       "      <td>unk</td>\n",
       "      <td>unk</td>\n",
       "      <td>4848</td>\n",
       "      <td>basswood</td>\n",
       "    </tr>\n",
       "    <tr>\n",
       "      <th>3</th>\n",
       "      <td>anderson</td>\n",
       "      <td>unk</td>\n",
       "      <td>unk</td>\n",
       "      <td>4848</td>\n",
       "      <td>basswood</td>\n",
       "    </tr>\n",
       "    <tr>\n",
       "      <th>4</th>\n",
       "      <td>aquendo</td>\n",
       "      <td>clara</td>\n",
       "      <td>j</td>\n",
       "      <td>666</td>\n",
       "      <td>starkey</td>\n",
       "    </tr>\n",
       "    <tr>\n",
       "      <th>...</th>\n",
       "      <td>...</td>\n",
       "      <td>...</td>\n",
       "      <td>...</td>\n",
       "      <td>...</td>\n",
       "      <td>...</td>\n",
       "    </tr>\n",
       "    <tr>\n",
       "      <th>836</th>\n",
       "      <td>william</td>\n",
       "      <td>sherry</td>\n",
       "      <td>v</td>\n",
       "      <td>510</td>\n",
       "      <td>woodhaven</td>\n",
       "    </tr>\n",
       "    <tr>\n",
       "      <th>837</th>\n",
       "      <td>wright</td>\n",
       "      <td>bryan</td>\n",
       "      <td>unk</td>\n",
       "      <td>307</td>\n",
       "      <td>woodhaven</td>\n",
       "    </tr>\n",
       "    <tr>\n",
       "      <th>838</th>\n",
       "      <td>wright</td>\n",
       "      <td>maxine</td>\n",
       "      <td>h</td>\n",
       "      <td>307</td>\n",
       "      <td>woodhaven</td>\n",
       "    </tr>\n",
       "    <tr>\n",
       "      <th>839</th>\n",
       "      <td>yates</td>\n",
       "      <td>chanse</td>\n",
       "      <td>e</td>\n",
       "      <td>403</td>\n",
       "      <td>woodhaven</td>\n",
       "    </tr>\n",
       "    <tr>\n",
       "      <th>840</th>\n",
       "      <td>yates</td>\n",
       "      <td>alfredica</td>\n",
       "      <td>s</td>\n",
       "      <td>403</td>\n",
       "      <td>woodhaven</td>\n",
       "    </tr>\n",
       "  </tbody>\n",
       "</table>\n",
       "<p>841 rows × 5 columns</p>\n",
       "</div>"
      ],
      "text/plain": [
       "    last_name first_name middle_name zip_code street_address\n",
       "0    anderson        unk         unk     4848       basswood\n",
       "1    anderson        unk         unk     4848       basswood\n",
       "2    anderson        unk         unk     4848       basswood\n",
       "3    anderson        unk         unk     4848       basswood\n",
       "4     aquendo      clara           j      666        starkey\n",
       "..        ...        ...         ...      ...            ...\n",
       "836   william     sherry           v      510      woodhaven\n",
       "837    wright      bryan         unk      307      woodhaven\n",
       "838    wright     maxine           h      307      woodhaven\n",
       "839     yates     chanse           e      403      woodhaven\n",
       "840     yates  alfredica           s      403      woodhaven\n",
       "\n",
       "[841 rows x 5 columns]"
      ]
     },
     "execution_count": 3,
     "metadata": {},
     "output_type": "execute_result"
    }
   ],
   "source": [
    "table"
   ]
  },
  {
   "cell_type": "markdown",
   "metadata": {},
   "source": [
    "# Sentence embedding"
   ]
  },
  {
   "cell_type": "markdown",
   "metadata": {},
   "source": [
    "## Infersent"
   ]
  },
  {
   "cell_type": "markdown",
   "metadata": {},
   "source": [
    "Setup model"
   ]
  },
  {
   "cell_type": "code",
   "execution_count": 4,
   "metadata": {},
   "outputs": [
    {
     "name": "stdout",
     "output_type": "stream",
     "text": [
      "Vocab size : 2196017\n",
      "TIME: 177.38499689102173\n"
     ]
    }
   ],
   "source": [
    "from embedding_algorithms.inferSent import set_RNN_embedding\n",
    "start = time.time()\n",
    "model_type = \"bilstm\" \n",
    "char_level = False\n",
    "model_version = 2\n",
    "rnn_dim = 2048\n",
    "verbose = 1\n",
    "set_RNN_embedding(model_type, char_level, model_version, rnn_dim, verbose)\n",
    "print(\"TIME: {0}\".format(time.time() - start))\n",
    "\n",
    "params['embedding'] = {\n",
    "    'name': 'Infersent',\n",
    "    'model_type': model_type,\n",
    "    'char_level': char_level,\n",
    "    'model_version': model_version,\n",
    "    'rnn_dim': rnn_dim,\n",
    "    'verbose': verbose\n",
    "}"
   ]
  },
  {
   "cell_type": "markdown",
   "metadata": {},
   "source": [
    "Embedding"
   ]
  },
  {
   "cell_type": "code",
   "execution_count": 5,
   "metadata": {},
   "outputs": [
    {
     "name": "stdout",
     "output_type": "stream",
     "text": [
      "attrs: ['last_name', 'first_name', 'zip_code', 'street_address']\n"
     ]
    }
   ],
   "source": [
    "from embedding_algorithms.inferSent import RNN_embedding\n",
    "attr_list = ['last_name', 'first_name', 'zip_code', 'street_address']\n",
    "params['attr_list'] = attr_list\n",
    "embeddings_tokens = RNN_embedding(table, attr_list, model_type, char_level)\n",
    "embeddings_tokens = np.array(embeddings_tokens)"
   ]
  },
  {
   "cell_type": "markdown",
   "metadata": {},
   "source": [
    "# Dimensionality reduction"
   ]
  },
  {
   "cell_type": "markdown",
   "metadata": {},
   "source": [
    "## TSNE"
   ]
  },
  {
   "cell_type": "code",
   "execution_count": 6,
   "metadata": {},
   "outputs": [
    {
     "name": "stdout",
     "output_type": "stream",
     "text": [
      "starting dimension: 4096\n",
      "setting TSNE with n_components: 2 & perplexity: 40\n",
      "early_exaggeration: 12\n",
      "TSNE: 19.06475019454956\n"
     ]
    }
   ],
   "source": [
    "from dimensionality_reduction_algorithms.tsne import tsne_dim_reduction\n",
    "start = time.time()\n",
    "\n",
    "tsne_embeddings = tsne_dim_reduction(\n",
    "    embeddings_tokens, \n",
    "    num_components=2,\n",
    "    early_exaggeration=12,\n",
    "    verbose=1,\n",
    "    perplexity=40,\n",
    "    method=\"barnes_hut\")\n",
    "\n",
    "print(\"TSNE: {0}\".format(time.time() - start))\n",
    "\n",
    "params['reduction'] = {\n",
    "    'name': 'TSNE',\n",
    "    'num_components': 2,\n",
    "    'early_exaggeration': 12,\n",
    "    'verbose': 1,\n",
    "    'perplexity': 40,\n",
    "    'method': \"barnes_hut\"\n",
    "}"
   ]
  },
  {
   "cell_type": "markdown",
   "metadata": {},
   "source": [
    "# Blocking"
   ]
  },
  {
   "cell_type": "code",
   "execution_count": 18,
   "metadata": {},
   "outputs": [
    {
     "name": "stdout",
     "output_type": "stream",
     "text": [
      "clustering with NUM_CLUSTERS = 13, distance_algorithm = <function euclidean_distance at 0x7f833d050830>\n",
      "BLOCKS: 13.915744066238403\n"
     ]
    }
   ],
   "source": [
    "from cluster_algorithms.kMeans_cluster import kMean_cluster\n",
    "num_clusters = 13\n",
    "\n",
    "start = time.time()\n",
    "blocks = kMean_cluster(tsne_embeddings, {'num_clusters': num_clusters, 'distance_algorithm': 'euclidean'})\n",
    "print(\"BLOCKS: {0}\".format(time.time() - start))\n",
    "\n",
    "params['blocking'] = {\n",
    "    'name': 'k_means',\n",
    "    'num_clusters': num_clusters\n",
    "}"
   ]
  },
  {
   "cell_type": "code",
   "execution_count": 13,
   "metadata": {},
   "outputs": [
    {
     "name": "stdout",
     "output_type": "stream",
     "text": [
      "clustering with NUM_CLUSTERS = 12, \n",
      "BLOCKS: 0.1053628921508789\n"
     ]
    }
   ],
   "source": [
    "from cluster_algorithms.birch_cluster import birch_cluster\n",
    "num_clusters = 12\n",
    "\n",
    "start = time.time()\n",
    "blocks = birch_cluster(tsne_embeddings, {'num_clusters': num_clusters})\n",
    "print(\"BLOCKS: {0}\".format(time.time() - start))\n",
    "\n",
    "params['blocking'] = {\n",
    "    'name': 'birch_cluster',\n",
    "    'num_clusters': num_clusters\n",
    "}"
   ]
  },
  {
   "cell_type": "code",
   "execution_count": null,
   "metadata": {},
   "outputs": [],
   "source": [
    "from cluster_algorithms.DBScan_cluster import DBSCAN_cluster\n",
    "eps = 6\n",
    "min_samples = 2\n",
    "\n",
    "start = time.time()\n",
    "blocks = DBSCAN_cluster(tsne_embeddings, {'eps':eps, 'min_samples':min_samples})\n",
    "print(\"BLOCKS: {0}\".format(time.time() - start))\n",
    "\n",
    "params['blocking'] = {\n",
    "    'name': 'DBScan',\n",
    "    'eps': eps,\n",
    "    'min_samples': min_samples\n",
    "}"
   ]
  },
  {
   "cell_type": "code",
   "execution_count": 9,
   "metadata": {},
   "outputs": [
    {
     "name": "stdout",
     "output_type": "stream",
     "text": [
      "clustering with NUM_CLUSTERS = 11, \n",
      "BLOCKS: 0.021318912506103516\n"
     ]
    }
   ],
   "source": [
    "from cluster_algorithms.hierarchy_cluster import hierarchy_cluster\n",
    "num_clusters = 11\n",
    "start = time.time()\n",
    "\n",
    "blocks = hierarchy_cluster(tsne_embeddings, {'num_clusters': num_clusters})\n",
    "print(\"BLOCKS: {0}\".format(time.time() - start))\n",
    "\n",
    "params['blocking'] = {\n",
    "    'name': 'hierarchy',\n",
    "    'num_clusters': num_clusters\n",
    "}"
   ]
  },
  {
   "cell_type": "markdown",
   "metadata": {},
   "source": [
    "# Evaluation"
   ]
  },
  {
   "cell_type": "code",
   "execution_count": 8,
   "metadata": {},
   "outputs": [
    {
     "name": "stdout",
     "output_type": "stream",
     "text": [
      "(RR) Reduction ratio is: 0.9006822943208199\n",
      "(PC) Pair completeness is: 0.9622093023255814\n",
      "(RM) Reference metric (Harmonic mean RR and PC) is: 0.9304297508191931\n",
      "(PQ) Pair quality - Precision is: 0.009435306861263933\n",
      "(FM) Fmeasure is: 0.018687367678193366\n",
      "\n",
      "['last_name', 'first_name', 'zip_code', 'street_address']\n",
      "{'name': 'Infersent', 'model_type': 'bilstm', 'char_level': False, 'model_version': 2, 'rnn_dim': 2048, 'verbose': 1}\n",
      "{'name': 'TSNE', 'num_components': 2, 'early_exaggeration': 12, 'verbose': 1, 'perplexity': 40, 'method': 'barnes_hut'}\n",
      "{'name': 'hierarchy', 'num_clusters': 11}\n"
     ]
    }
   ],
   "source": [
    "from evaluation import calc_index\n",
    "calc_index(blocks,table,pairs)\n",
    "print()\n",
    "print(params['attr_list'])\n",
    "print(params['embedding'])\n",
    "print(params['reduction'])\n",
    "print(params['blocking'])"
   ]
  },
  {
   "cell_type": "code",
   "execution_count": 14,
   "metadata": {},
   "outputs": [
    {
     "name": "stdout",
     "output_type": "stream",
     "text": [
      "(RR) Reduction ratio is: 0.9035869996036464\n",
      "(PC) Pair completeness is: 0.8924418604651163\n",
      "(RM) Reference metric (Harmonic mean RR and PC) is: 0.897979849819893\n",
      "(PQ) Pair quality - Precision is: 0.009014828953164\n",
      "(FM) Fmeasure is: 0.017849356085932733\n",
      "\n",
      "['last_name', 'first_name', 'zip_code', 'street_address']\n",
      "{'name': 'Infersent', 'model_type': 'bilstm', 'char_level': False, 'model_version': 2, 'rnn_dim': 2048, 'verbose': 1}\n",
      "{'name': 'TSNE', 'num_components': 2, 'early_exaggeration': 12, 'verbose': 1, 'perplexity': 40, 'method': 'barnes_hut'}\n",
      "{'name': 'birch_cluster', 'num_clusters': 12}\n"
     ]
    }
   ],
   "source": [
    "from evaluation import calc_index\n",
    "calc_index(blocks,table,pairs)\n",
    "print()\n",
    "print(params['attr_list'])\n",
    "print(params['embedding'])\n",
    "print(params['reduction'])\n",
    "print(params['blocking'])"
   ]
  },
  {
   "cell_type": "code",
   "execution_count": 19,
   "metadata": {},
   "outputs": [
    {
     "name": "stdout",
     "output_type": "stream",
     "text": [
      "(RR) Reduction ratio is: 0.920381065624823\n",
      "(PC) Pair completeness is: 0.8895348837209303\n",
      "(RM) Reference metric (Harmonic mean RR and PC) is: 0.9046951207711825\n",
      "(PQ) Pair quality - Precision is: 0.010880773743910678\n",
      "(FM) Fmeasure is: 0.021498577300031612\n",
      "\n",
      "['last_name', 'first_name', 'zip_code', 'street_address']\n",
      "{'name': 'Infersent', 'model_type': 'bilstm', 'char_level': False, 'model_version': 2, 'rnn_dim': 2048, 'verbose': 1}\n",
      "{'name': 'TSNE', 'num_components': 2, 'early_exaggeration': 12, 'verbose': 1, 'perplexity': 40, 'method': 'barnes_hut'}\n",
      "{'name': 'k_means', 'num_clusters': 13}\n"
     ]
    }
   ],
   "source": [
    "from evaluation import calc_index\n",
    "calc_index(blocks,table,pairs)\n",
    "print()\n",
    "print(params['attr_list'])\n",
    "print(params['embedding'])\n",
    "print(params['reduction'])\n",
    "print(params['blocking'])"
   ]
  },
  {
   "cell_type": "code",
   "execution_count": 17,
   "metadata": {},
   "outputs": [
    {
     "name": "stdout",
     "output_type": "stream",
     "text": [
      "(RR) Reduction ratio is: 0.8875658229998301\n",
      "(PC) Pair completeness is: 0.5843023255813954\n",
      "(RM) Reference metric (Harmonic mean RR and PC) is: 0.7046918910301379\n",
      "(PQ) Pair quality - Precision is: 0.005061187490557486\n",
      "(FM) Fmeasure is: 0.01003544859953068\n",
      "\n",
      "['last_name', 'first_name', 'zip_code']\n",
      "{'name': 'Infersent', 'model_type': 'bilstm', 'char_level': False, 'model_version': 2, 'rnn_dim': 2048, 'verbose': 1}\n",
      "{'name': 'TSNE', 'num_components': 2, 'early_exaggeration': 12, 'verbose': 1, 'perplexity': 40, 'method': 'barnes_hut'}\n",
      "{'name': 'hierarchy', 'num_clusters': 11}\n"
     ]
    }
   ],
   "source": [
    "from evaluation import calc_index\n",
    "calc_index(blocks,table,pairs)\n",
    "print()\n",
    "print(params['attr_list'])\n",
    "print(params['embedding'])\n",
    "print(params['reduction'])\n",
    "print(params['blocking'])"
   ]
  },
  {
   "cell_type": "code",
   "execution_count": 21,
   "metadata": {},
   "outputs": [
    {
     "name": "stdout",
     "output_type": "stream",
     "text": [
      "(RR) Reduction ratio is: 0.9006822943208199\n",
      "(PC) Pair completeness is: 0.9622093023255814\n",
      "(RM) Reference metric (Harmonic mean RR and PC) is: 0.9304297508191931\n",
      "(PQ) Pair quality - Precision is: 0.009435306861263933\n",
      "(FM) Fmeasure is: 0.018687367678193366\n",
      "\n",
      "['last_name', 'first_name', 'zip_code', 'street_address']\n",
      "{'name': 'Infersent', 'model_type': 'bilstm', 'char_level': False, 'model_version': 2, 'rnn_dim': 2048, 'verbose': 1}\n",
      "{'name': 'TSNE', 'num_components': 2, 'early_exaggeration': 12, 'verbose': 1, 'perplexity': 40, 'method': 'barnes_hut'}\n",
      "{'name': 'hierarchy', 'num_clusters': 11}\n"
     ]
    }
   ],
   "source": [
    "from evaluation import calc_index\n",
    "calc_index(blocks,table,pairs)\n",
    "print()\n",
    "print(params['attr_list'])\n",
    "print(params['embedding'])\n",
    "print(params['reduction'])\n",
    "print(params['blocking'])"
   ]
  },
  {
   "cell_type": "markdown",
   "metadata": {},
   "source": [
    "## Searching"
   ]
  },
  {
   "cell_type": "code",
   "execution_count": 17,
   "metadata": {},
   "outputs": [
    {
     "name": "stdout",
     "output_type": "stream",
     "text": [
      "clustering with NUM_CLUSTERS = 5, distance_algorithm = <function euclidean_distance at 0x7f833d050830>\n",
      "(RR) Reduction ratio is: 0.7341770001698658\n",
      "(PC) Pair completeness is: 0.9854651162790697\n",
      "(RM) Reference metric (Harmonic mean RR and PC) is: 0.8414609248299366\n",
      "(PQ) Pair quality - Precision is: 0.0036104543421304875\n",
      "(FM) Fmeasure is: 0.007194549969226851\n",
      "clustering with NUM_CLUSTERS = 6, distance_algorithm = <function euclidean_distance at 0x7f833d050830>\n",
      "(RR) Reduction ratio is: 0.80833191778495\n",
      "(PC) Pair completeness is: 0.9563953488372093\n",
      "(RM) Reference metric (Harmonic mean RR and PC) is: 0.8761522543547923\n",
      "(PQ) Pair quality - Precision is: 0.004859603255491056\n",
      "(FM) Fmeasure is: 0.009670071276361231\n",
      "clustering with NUM_CLUSTERS = 7, distance_algorithm = <function euclidean_distance at 0x7f833d050830>\n",
      "(RR) Reduction ratio is: 0.8411046939584395\n",
      "(PC) Pair completeness is: 0.8343023255813954\n",
      "(RM) Reference metric (Harmonic mean RR and PC) is: 0.8376897005238663\n",
      "(PQ) Pair quality - Precision is: 0.00511358574610245\n",
      "(FM) Fmeasure is: 0.010164869220280153\n",
      "clustering with NUM_CLUSTERS = 8, distance_algorithm = <function euclidean_distance at 0x7f833d050830>\n",
      "(RR) Reduction ratio is: 0.8633712700300096\n",
      "(PC) Pair completeness is: 0.8575581395348837\n",
      "(RM) Reference metric (Harmonic mean RR and PC) is: 0.8604548866905581\n",
      "(PQ) Pair quality - Precision is: 0.006112722751761293\n",
      "(FM) Fmeasure is: 0.012138918607522014\n",
      "clustering with NUM_CLUSTERS = 9, distance_algorithm = <function euclidean_distance at 0x7f833d050830>\n",
      "(RR) Reduction ratio is: 0.8843553592661797\n",
      "(PC) Pair completeness is: 0.8866279069767442\n",
      "(RM) Reference metric (Harmonic mean RR and PC) is: 0.8854901750407462\n",
      "(PQ) Pair quality - Precision is: 0.007466705836271054\n",
      "(FM) Fmeasure is: 0.014808700718586134\n",
      "clustering with NUM_CLUSTERS = 10, distance_algorithm = <function euclidean_distance at 0x7f833d050830>\n",
      "(RR) Reduction ratio is: 0.8958496121397429\n",
      "(PC) Pair completeness is: 0.8866279069767442\n",
      "(RM) Reference metric (Harmonic mean RR and PC) is: 0.8912149051631104\n",
      "(PQ) Pair quality - Precision is: 0.008290746982711754\n",
      "(FM) Fmeasure is: 0.016427878918453088\n",
      "clustering with NUM_CLUSTERS = 11, distance_algorithm = <function euclidean_distance at 0x7f833d050830>\n",
      "(RR) Reduction ratio is: 0.901961950059453\n",
      "(PC) Pair completeness is: 0.8343023255813954\n",
      "(RM) Reference metric (Harmonic mean RR and PC) is: 0.8668138405863174\n",
      "(PQ) Pair quality - Precision is: 0.008287851222963412\n",
      "(FM) Fmeasure is: 0.016412661195779603\n",
      "clustering with NUM_CLUSTERS = 12, distance_algorithm = <function euclidean_distance at 0x7f833d050830>\n",
      "(RR) Reduction ratio is: 0.9079299020440519\n",
      "(PC) Pair completeness is: 0.8866279069767442\n",
      "(RM) Reference metric (Harmonic mean RR and PC) is: 0.8971524736449318\n",
      "(PQ) Pair quality - Precision is: 0.009378555394975554\n",
      "(FM) Fmeasure is: 0.018560778944165527\n",
      "clustering with NUM_CLUSTERS = 13, distance_algorithm = <function euclidean_distance at 0x7f833d050830>\n",
      "(RR) Reduction ratio is: 0.9196902780137025\n",
      "(PC) Pair completeness is: 0.875\n",
      "(RM) Reference metric (Harmonic mean RR and PC) is: 0.8967887140422183\n",
      "(PQ) Pair quality - Precision is: 0.010610921140762153\n",
      "(FM) Fmeasure is: 0.020967573403921844\n",
      "clustering with NUM_CLUSTERS = 14, distance_algorithm = <function euclidean_distance at 0x7f833d050830>\n",
      "(RR) Reduction ratio is: 0.9245003114206444\n",
      "(PC) Pair completeness is: 0.8517441860465116\n",
      "(RM) Reference metric (Harmonic mean RR and PC) is: 0.8866321797180216\n",
      "(PQ) Pair quality - Precision is: 0.010986950652467376\n",
      "(FM) Fmeasure is: 0.02169406189841552\n"
     ]
    }
   ],
   "source": [
    "for i in range(5,15,1):\n",
    "    num_clusters = int(i)\n",
    "    blocks = kMean_cluster(tsne_embeddings, {'num_clusters': num_clusters, 'distance_algorithm': 'euclidean'})\n",
    "    calc_index(blocks,table,pairs)"
   ]
  },
  {
   "cell_type": "code",
   "execution_count": 12,
   "metadata": {},
   "outputs": [
    {
     "name": "stdout",
     "output_type": "stream",
     "text": [
      "clustering with NUM_CLUSTERS = 5, \n",
      "(RR) Reduction ratio is: 0.749297888001812\n",
      "(PC) Pair completeness is: 0.9505813953488372\n",
      "(RM) Reference metric (Harmonic mean RR and PC) is: 0.8380226041754438\n",
      "(PQ) Pair quality - Precision is: 0.0036927038045012593\n",
      "(FM) Fmeasure is: 0.007356828689382095\n",
      "clustering with NUM_CLUSTERS = 6, \n",
      "(RR) Reduction ratio is: 0.7917643395051243\n",
      "(PC) Pair completeness is: 0.9505813953488372\n",
      "(RM) Reference metric (Harmonic mean RR and PC) is: 0.8639346779212167\n",
      "(PQ) Pair quality - Precision is: 0.004445773795766318\n",
      "(FM) Fmeasure is: 0.00885015629863188\n",
      "clustering with NUM_CLUSTERS = 7, \n",
      "(RR) Reduction ratio is: 0.8365239793896155\n",
      "(PC) Pair completeness is: 0.8924418604651163\n",
      "(RM) Reference metric (Harmonic mean RR and PC) is: 0.8635786772431274\n",
      "(PQ) Pair quality - Precision is: 0.005316661759866997\n",
      "(FM) Fmeasure is: 0.010570351369497478\n",
      "clustering with NUM_CLUSTERS = 8, \n",
      "(RR) Reduction ratio is: 0.860667572617632\n",
      "(PC) Pair completeness is: 0.8924418604651163\n",
      "(RM) Reference metric (Harmonic mean RR and PC) is: 0.8762667694944978\n",
      "(PQ) Pair quality - Precision is: 0.006237935588743269\n",
      "(FM) Fmeasure is: 0.012389273391311366\n",
      "clustering with NUM_CLUSTERS = 9, \n",
      "(RR) Reduction ratio is: 0.8784695090878206\n",
      "(PC) Pair completeness is: 0.8924418604651163\n",
      "(RM) Reference metric (Harmonic mean RR and PC) is: 0.8854005643999303\n",
      "(PQ) Pair quality - Precision is: 0.007151676101288234\n",
      "(FM) Fmeasure is: 0.01418964202352615\n",
      "clustering with NUM_CLUSTERS = 10, \n",
      "(RR) Reduction ratio is: 0.8913113640224223\n",
      "(PC) Pair completeness is: 0.8924418604651163\n",
      "(RM) Reference metric (Harmonic mean RR and PC) is: 0.8918762540041346\n",
      "(PQ) Pair quality - Precision is: 0.007996665885233518\n",
      "(FM) Fmeasure is: 0.015851297276365046\n",
      "clustering with NUM_CLUSTERS = 11, \n",
      "(RR) Reduction ratio is: 0.8985589717456542\n",
      "(PC) Pair completeness is: 0.8924418604651163\n",
      "(RM) Reference metric (Harmonic mean RR and PC) is: 0.8954899696975039\n",
      "(PQ) Pair quality - Precision is: 0.008567999776729647\n",
      "(FM) Fmeasure is: 0.01697304768486524\n",
      "clustering with NUM_CLUSTERS = 12, \n",
      "(RR) Reduction ratio is: 0.9035869996036464\n",
      "(PC) Pair completeness is: 0.8924418604651163\n",
      "(RM) Reference metric (Harmonic mean RR and PC) is: 0.897979849819893\n",
      "(PQ) Pair quality - Precision is: 0.009014828953164\n",
      "(FM) Fmeasure is: 0.017849356085932733\n",
      "clustering with NUM_CLUSTERS = 13, \n",
      "(RR) Reduction ratio is: 0.9118311533888228\n",
      "(PC) Pair completeness is: 0.8837209302325582\n",
      "(RM) Reference metric (Harmonic mean RR and PC) is: 0.8975560023439708\n",
      "(PQ) Pair quality - Precision is: 0.009761423112738015\n",
      "(FM) Fmeasure is: 0.019309556324832472\n",
      "clustering with NUM_CLUSTERS = 14, \n",
      "(RR) Reduction ratio is: 0.9164883075703527\n",
      "(PC) Pair completeness is: 0.8837209302325582\n",
      "(RM) Reference metric (Harmonic mean RR and PC) is: 0.8998064032843343\n",
      "(PQ) Pair quality - Precision is: 0.010305783442945285\n",
      "(FM) Fmeasure is: 0.020373969573084915\n",
      "clustering with NUM_CLUSTERS = 15, \n",
      "(RR) Reduction ratio is: 0.9235207519393013\n",
      "(PC) Pair completeness is: 0.8837209302325582\n",
      "(RM) Reference metric (Harmonic mean RR and PC) is: 0.9031825970415625\n",
      "(PQ) Pair quality - Precision is: 0.011253424150440512\n",
      "(FM) Fmeasure is: 0.022223846772424883\n",
      "clustering with NUM_CLUSTERS = 16, \n",
      "(RR) Reduction ratio is: 0.9306437914047903\n",
      "(PC) Pair completeness is: 0.8546511627906976\n",
      "(RM) Reference metric (Harmonic mean RR and PC) is: 0.8910301310143675\n",
      "(PQ) Pair quality - Precision is: 0.012000979671809943\n",
      "(FM) Fmeasure is: 0.02366959182030432\n",
      "clustering with NUM_CLUSTERS = 17, \n",
      "(RR) Reduction ratio is: 0.9316375063699678\n",
      "(PC) Pair completeness is: 0.8546511627906976\n",
      "(RM) Reference metric (Harmonic mean RR and PC) is: 0.8914853370173883\n",
      "(PQ) Pair quality - Precision is: 0.012175425518697975\n",
      "(FM) Fmeasure is: 0.024008819566371322\n",
      "clustering with NUM_CLUSTERS = 18, \n",
      "(RR) Reduction ratio is: 0.9352839590057188\n",
      "(PC) Pair completeness is: 0.8546511627906976\n",
      "(RM) Reference metric (Harmonic mean RR and PC) is: 0.8931513923269899\n",
      "(PQ) Pair quality - Precision is: 0.012861455006780698\n",
      "(FM) Fmeasure is: 0.025341550661552383\n",
      "clustering with NUM_CLUSTERS = 19, \n",
      "(RR) Reduction ratio is: 0.9421323820848196\n",
      "(PC) Pair completeness is: 0.811046511627907\n",
      "(RM) Reference metric (Harmonic mean RR and PC) is: 0.8716887759963986\n",
      "(PQ) Pair quality - Precision is: 0.013649706457925636\n",
      "(FM) Fmeasure is: 0.02684757505773672\n",
      "clustering with NUM_CLUSTERS = 20, \n",
      "(RR) Reduction ratio is: 0.9437829114999151\n",
      "(PC) Pair completeness is: 0.811046511627907\n",
      "(RM) Reference metric (Harmonic mean RR and PC) is: 0.8723945792311691\n",
      "(PQ) Pair quality - Precision is: 0.014050460794681975\n",
      "(FM) Fmeasure is: 0.02762239493094401\n",
      "clustering with NUM_CLUSTERS = 21, \n",
      "(RR) Reduction ratio is: 0.945368325689372\n",
      "(PC) Pair completeness is: 0.811046511627907\n",
      "(RM) Reference metric (Harmonic mean RR and PC) is: 0.8730712886996372\n",
      "(PQ) Pair quality - Precision is: 0.014458205938746955\n",
      "(FM) Fmeasure is: 0.028409958759737286\n",
      "clustering with NUM_CLUSTERS = 22, \n",
      "(RR) Reduction ratio is: 0.945923220655682\n",
      "(PC) Pair completeness is: 0.811046511627907\n",
      "(RM) Reference metric (Harmonic mean RR and PC) is: 0.8733078484892141\n",
      "(PQ) Pair quality - Precision is: 0.014606565101303596\n",
      "(FM) Fmeasure is: 0.02869632296220108\n",
      "clustering with NUM_CLUSTERS = 23, \n",
      "(RR) Reduction ratio is: 0.949697072645943\n",
      "(PC) Pair completeness is: 0.7674418604651163\n",
      "(RM) Reference metric (Harmonic mean RR and PC) is: 0.8488972840295366\n",
      "(PQ) Pair quality - Precision is: 0.014858171994597028\n",
      "(FM) Fmeasure is: 0.029151943462897525\n",
      "clustering with NUM_CLUSTERS = 24, \n",
      "(RR) Reduction ratio is: 0.951786422059906\n",
      "(PC) Pair completeness is: 0.7674418604651163\n",
      "(RM) Reference metric (Harmonic mean RR and PC) is: 0.8497309518876643\n",
      "(PQ) Pair quality - Precision is: 0.015502055196711686\n",
      "(FM) Fmeasure is: 0.030390238287095663\n",
      "clustering with NUM_CLUSTERS = 25, \n",
      "(RR) Reduction ratio is: 0.9532812411528226\n",
      "(PC) Pair completeness is: 0.7558139534883721\n",
      "(RM) Reference metric (Harmonic mean RR and PC) is: 0.8431400028753561\n",
      "(PQ) Pair quality - Precision is: 0.015755665979881227\n",
      "(FM) Fmeasure is: 0.030867861806957143\n",
      "clustering with NUM_CLUSTERS = 26, \n",
      "(RR) Reduction ratio is: 0.9546401676009286\n",
      "(PC) Pair completeness is: 0.7558139534883721\n",
      "(RM) Reference metric (Harmonic mean RR and PC) is: 0.8436711050440269\n",
      "(PQ) Pair quality - Precision is: 0.0162276869304706\n",
      "(FM) Fmeasure is: 0.03177318831724306\n",
      "clustering with NUM_CLUSTERS = 27, \n",
      "(RR) Reduction ratio is: 0.9575052375290187\n",
      "(PC) Pair completeness is: 0.747093023255814\n",
      "(RM) Reference metric (Harmonic mean RR and PC) is: 0.8393126980658432\n",
      "(PQ) Pair quality - Precision is: 0.017121918720852766\n",
      "(FM) Fmeasure is: 0.03347661847075681\n",
      "clustering with NUM_CLUSTERS = 28, \n",
      "(RR) Reduction ratio is: 0.95948700526584\n",
      "(PC) Pair completeness is: 0.747093023255814\n",
      "(RM) Reference metric (Harmonic mean RR and PC) is: 0.8400731703859009\n",
      "(PQ) Pair quality - Precision is: 0.01795946890286513\n",
      "(FM) Fmeasure is: 0.03507574723624948\n",
      "clustering with NUM_CLUSTERS = 29, \n",
      "(RR) Reduction ratio is: 0.9616612875828096\n",
      "(PC) Pair completeness is: 0.7209302325581395\n",
      "(RM) Reference metric (Harmonic mean RR and PC) is: 0.8240748718870977\n",
      "(PQ) Pair quality - Precision is: 0.01831339536257569\n",
      "(FM) Fmeasure is: 0.0357194296413654\n",
      "clustering with NUM_CLUSTERS = 30, \n",
      "(RR) Reduction ratio is: 0.962884321386105\n",
      "(PC) Pair completeness is: 0.7209302325581395\n",
      "(RM) Reference metric (Harmonic mean RR and PC) is: 0.8245235986556948\n",
      "(PQ) Pair quality - Precision is: 0.018916857360793286\n",
      "(FM) Fmeasure is: 0.03686635944700461\n",
      "clustering with NUM_CLUSTERS = 31, \n",
      "(RR) Reduction ratio is: 0.964067719834664\n",
      "(PC) Pair completeness is: 0.7209302325581395\n",
      "(RM) Reference metric (Harmonic mean RR and PC) is: 0.8249571632715867\n",
      "(PQ) Pair quality - Precision is: 0.019539867633154743\n",
      "(FM) Fmeasure is: 0.03804848112918073\n",
      "clustering with NUM_CLUSTERS = 32, \n",
      "(RR) Reduction ratio is: 0.964747183058717\n",
      "(PC) Pair completeness is: 0.7209302325581395\n",
      "(RM) Reference metric (Harmonic mean RR and PC) is: 0.8252058247904022\n",
      "(PQ) Pair quality - Precision is: 0.019916479280436876\n",
      "(FM) Fmeasure is: 0.03876211316036261\n",
      "clustering with NUM_CLUSTERS = 33, \n",
      "(RR) Reduction ratio is: 0.9659843723458468\n",
      "(PC) Pair completeness is: 0.6947674418604651\n",
      "(RM) Reference metric (Harmonic mean RR and PC) is: 0.8082297252496481\n",
      "(PQ) Pair quality - Precision is: 0.019891801914273824\n",
      "(FM) Fmeasure is: 0.038676268306497286\n",
      "clustering with NUM_CLUSTERS = 34, \n"
     ]
    },
    {
     "name": "stdout",
     "output_type": "stream",
     "text": [
      "(RR) Reduction ratio is: 0.9669186342789197\n",
      "(PC) Pair completeness is: 0.688953488372093\n",
      "(RM) Reference metric (Harmonic mean RR and PC) is: 0.8046055694106765\n",
      "(PQ) Pair quality - Precision is: 0.020282413350449294\n",
      "(FM) Fmeasure is: 0.039404771801479756\n",
      "clustering with NUM_CLUSTERS = 35, \n",
      "(RR) Reduction ratio is: 0.967966140082668\n",
      "(PC) Pair completeness is: 0.688953488372093\n",
      "(RM) Reference metric (Harmonic mean RR and PC) is: 0.8049680109806632\n",
      "(PQ) Pair quality - Precision is: 0.020945647370746796\n",
      "(FM) Fmeasure is: 0.04065528776052835\n",
      "clustering with NUM_CLUSTERS = 36, \n",
      "(RR) Reduction ratio is: 0.9686880697582243\n",
      "(PC) Pair completeness is: 0.6802325581395349\n",
      "(RM) Reference metric (Harmonic mean RR and PC) is: 0.7992296931489927\n",
      "(PQ) Pair quality - Precision is: 0.02115732368896926\n",
      "(FM) Fmeasure is: 0.041038232199228336\n",
      "clustering with NUM_CLUSTERS = 37, \n",
      "(RR) Reduction ratio is: 0.9696817847234018\n",
      "(PC) Pair completeness is: 0.6744186046511628\n",
      "(RM) Reference metric (Harmonic mean RR and PC) is: 0.7955371100636798\n",
      "(PQ) Pair quality - Precision is: 0.021664020916985712\n",
      "(FM) Fmeasure is: 0.04197955306251696\n",
      "clustering with NUM_CLUSTERS = 38, \n",
      "(RR) Reduction ratio is: 0.9699365834324217\n",
      "(PC) Pair completeness is: 0.6744186046511628\n",
      "(RM) Reference metric (Harmonic mean RR and PC) is: 0.7956228458901048\n",
      "(PQ) Pair quality - Precision is: 0.021847631603729163\n",
      "(FM) Fmeasure is: 0.04232418133722521\n",
      "clustering with NUM_CLUSTERS = 39, \n",
      "(RR) Reduction ratio is: 0.9703102882056509\n",
      "(PC) Pair completeness is: 0.6744186046511628\n",
      "(RM) Reference metric (Harmonic mean RR and PC) is: 0.7957485437173418\n",
      "(PQ) Pair quality - Precision is: 0.02212262801563841\n",
      "(FM) Fmeasure is: 0.042839996306896874\n",
      "clustering with NUM_CLUSTERS = 40, \n",
      "(RR) Reduction ratio is: 0.9716182549119529\n",
      "(PC) Pair completeness is: 0.6656976744186046\n",
      "(RM) Reference metric (Harmonic mean RR and PC) is: 0.790078446231212\n",
      "(PQ) Pair quality - Precision is: 0.0228428927680798\n",
      "(FM) Fmeasure is: 0.044170122480470635\n",
      "clustering with NUM_CLUSTERS = 41, \n",
      "(RR) Reduction ratio is: 0.9721618254911953\n",
      "(PC) Pair completeness is: 0.6656976744186046\n",
      "(RM) Reference metric (Harmonic mean RR and PC) is: 0.7902580977473034\n",
      "(PQ) Pair quality - Precision is: 0.02328892504830672\n",
      "(FM) Fmeasure is: 0.045003439127444235\n",
      "clustering with NUM_CLUSTERS = 42, \n",
      "(RR) Reduction ratio is: 0.9734867787780986\n",
      "(PC) Pair completeness is: 0.6482558139534884\n",
      "(RM) Reference metric (Harmonic mean RR and PC) is: 0.778259715170721\n",
      "(PQ) Pair quality - Precision is: 0.02381206620395088\n",
      "(FM) Fmeasure is: 0.045936759707487895\n",
      "clustering with NUM_CLUSTERS = 43, \n",
      "(RR) Reduction ratio is: 0.9739850518090708\n",
      "(PC) Pair completeness is: 0.6366279069767442\n",
      "(RM) Reference metric (Harmonic mean RR and PC) is: 0.7699752588943414\n",
      "(PQ) Pair quality - Precision is: 0.023832843617368593\n",
      "(FM) Fmeasure is: 0.045945662435749504\n",
      "clustering with NUM_CLUSTERS = 44, \n",
      "(RR) Reduction ratio is: 0.9743219523243305\n",
      "(PC) Pair completeness is: 0.622093023255814\n",
      "(RM) Reference metric (Harmonic mean RR and PC) is: 0.7593500414585919\n",
      "(PQ) Pair quality - Precision is: 0.023594266813671445\n",
      "(FM) Fmeasure is: 0.04546420225196516\n",
      "clustering with NUM_CLUSTERS = 45, \n",
      "(RR) Reduction ratio is: 0.9749674423871808\n",
      "(PC) Pair completeness is: 0.6162790697674418\n",
      "(RM) Reference metric (Harmonic mean RR and PC) is: 0.7551966635695331\n",
      "(PQ) Pair quality - Precision is: 0.023976475910427505\n",
      "(FM) Fmeasure is: 0.04615719573263662\n",
      "clustering with NUM_CLUSTERS = 46, \n",
      "(RR) Reduction ratio is: 0.9753100050959742\n",
      "(PC) Pair completeness is: 0.6162790697674418\n",
      "(RM) Reference metric (Harmonic mean RR and PC) is: 0.7552994075773067\n",
      "(PQ) Pair quality - Precision is: 0.024309138860222453\n",
      "(FM) Fmeasure is: 0.04677330391616106\n",
      "clustering with NUM_CLUSTERS = 47, \n",
      "(RR) Reduction ratio is: 0.9755364928373251\n",
      "(PC) Pair completeness is: 0.6075581395348837\n",
      "(RM) Reference metric (Harmonic mean RR and PC) is: 0.7487804260298689\n",
      "(PQ) Pair quality - Precision is: 0.02418701539173707\n",
      "(FM) Fmeasure is: 0.04652198107957707\n",
      "clustering with NUM_CLUSTERS = 48, \n",
      "(RR) Reduction ratio is: 0.9762244493516788\n",
      "(PC) Pair completeness is: 0.5813953488372093\n",
      "(RM) Reference metric (Harmonic mean RR and PC) is: 0.7287687983090261\n",
      "(PQ) Pair quality - Precision is: 0.023815194093831864\n",
      "(FM) Fmeasure is: 0.04575611988103409\n",
      "clustering with NUM_CLUSTERS = 49, \n",
      "(RR) Reduction ratio is: 0.9765641809637053\n",
      "(PC) Pair completeness is: 0.5813953488372093\n",
      "(RM) Reference metric (Harmonic mean RR and PC) is: 0.7288634419481618\n",
      "(PQ) Pair quality - Precision is: 0.024160425223483932\n",
      "(FM) Fmeasure is: 0.046392948271862675\n"
     ]
    }
   ],
   "source": [
    "for i in range(5,50,1):\n",
    "    num_clusters = int(i)\n",
    "    blocks = birch_cluster(tsne_embeddings, {'num_clusters': num_clusters})\n",
    "    calc_index(blocks,table,pairs)"
   ]
  },
  {
   "cell_type": "code",
   "execution_count": 27,
   "metadata": {},
   "outputs": [
    {
     "name": "stdout",
     "output_type": "stream",
     "text": [
      ">>>>>>>>>>>>>>>>>>>>: 30\n",
      "starting dimension: 4096\n",
      "setting TSNE with n_components: 2 & perplexity: 30\n",
      "early_exaggeration: 12\n",
      "clustering with NUM_CLUSTERS = 29, \n",
      "(RR) Reduction ratio is: 0.9620762294641738\n",
      "(PC) Pair completeness is: 0.875\n",
      "(RM) Reference metric (Harmonic mean RR and PC) is: 0.9164744361497591\n",
      "(PQ) Pair quality - Precision is: 0.47320220298977184\n",
      "(FM) Fmeasure is: 0.61422823178578\n",
      ">>>>>>>>>>>>>>>>>>>>: 35\n",
      "starting dimension: 4096\n",
      "setting TSNE with n_components: 2 & perplexity: 35\n",
      "early_exaggeration: 12\n",
      "clustering with NUM_CLUSTERS = 29, \n",
      "(RR) Reduction ratio is: 0.9624832162699242\n",
      "(PC) Pair completeness is: 0.87243947858473\n",
      "(RM) Reference metric (Harmonic mean RR and PC) is: 0.9152520241901533\n",
      "(PQ) Pair quality - Precision is: 0.47693580199783675\n",
      "(FM) Fmeasure is: 0.6167263153564524\n",
      ">>>>>>>>>>>>>>>>>>>>: 40\n",
      "starting dimension: 4096\n",
      "setting TSNE with n_components: 2 & perplexity: 40\n",
      "early_exaggeration: 12\n",
      "clustering with NUM_CLUSTERS = 29, \n",
      "(RR) Reduction ratio is: 0.9635884062468297\n",
      "(PC) Pair completeness is: 0.8878026070763501\n",
      "(RM) Reference metric (Harmonic mean RR and PC) is: 0.9241443790730425\n",
      "(PQ) Pair quality - Precision is: 0.5000655565753245\n",
      "(FM) Fmeasure is: 0.6397718694959321\n",
      ">>>>>>>>>>>>>>>>>>>>: 45\n",
      "starting dimension: 4096\n",
      "setting TSNE with n_components: 2 & perplexity: 45\n",
      "early_exaggeration: 12\n",
      "clustering with NUM_CLUSTERS = 29, \n",
      "(RR) Reduction ratio is: 0.9620487787412053\n",
      "(PC) Pair completeness is: 0.8093575418994413\n",
      "(RM) Reference metric (Harmonic mean RR and PC) is: 0.8791223398906446\n",
      "(PQ) Pair quality - Precision is: 0.4373859991194415\n",
      "(FM) Fmeasure is: 0.5678820791311094\n",
      ">>>>>>>>>>>>>>>>>>>>: 50\n",
      "starting dimension: 4096\n",
      "setting TSNE with n_components: 2 & perplexity: 50\n",
      "early_exaggeration: 12\n",
      "clustering with NUM_CLUSTERS = 29, \n",
      "(RR) Reduction ratio is: 0.9629880708706057\n",
      "(PC) Pair completeness is: 0.8118016759776536\n",
      "(RM) Reference metric (Harmonic mean RR and PC) is: 0.8809554272752776\n",
      "(PQ) Pair quality - Precision is: 0.4498403792202767\n",
      "(FM) Fmeasure is: 0.5788982259570494\n"
     ]
    }
   ],
   "source": [
    "for i in [30,35,40,45,50]:\n",
    "    print('>>>>>>>>>>>>>>>>>>>>: '+str(i))\n",
    "    tsne_embeddings = tsne_dim_reduction(\n",
    "    embeddings_tokens, \n",
    "    num_components=2,\n",
    "    early_exaggeration=12,\n",
    "    verbose=1,\n",
    "    perplexity=i,\n",
    "    method=\"barnes_hut\")\n",
    "    num_clusters = 29\n",
    "    blocks = hierarchy_cluster(tsne_embeddings, {'num_clusters': num_clusters})\n",
    "    calc_index(blocks,table,pairs)"
   ]
  },
  {
   "cell_type": "markdown",
   "metadata": {},
   "source": [
    "# Result"
   ]
  },
  {
   "cell_type": "code",
   "execution_count": 28,
   "metadata": {},
   "outputs": [],
   "source": [
    "# Census\n",
    "# RR PC alpha\n",
    "list_embedding = [0.8945, 0.9542, 0.9234]\n",
    "\n",
    "list_hierarchy = [0.9006, 0.9622, 0.9304] # TSNE: 19.064, BLOCKS: 0.021, n_cluster: 11\n",
    "list_kmeans = [0.9203, 0.8895, 0.9046] # TSNE: 19.064, BLOCKS: 13.915, n_cluster: 13\n",
    "list_birch = [0.9035, 0.8924, 0.8979] # TSNE: 19.064, BLOCKS: 0.1053, n_cluster: 12\n",
    "list_DBscan = [0.9633, 0.8717, 0.9152] # TSNE: 19.064, BLOCKS: 0.011"
   ]
  },
  {
   "cell_type": "code",
   "execution_count": null,
   "metadata": {},
   "outputs": [],
   "source": []
  }
 ],
 "metadata": {
  "kernelspec": {
   "display_name": "Python 3.7.7 64-bit ('thesisEnv': conda)",
   "language": "python",
   "name": "python37764bitthesisenvcondad61bb62be9734ae9b8ba15c07cc7706a"
  },
  "language_info": {
   "codemirror_mode": {
    "name": "ipython",
    "version": 3
   },
   "file_extension": ".py",
   "mimetype": "text/x-python",
   "name": "python",
   "nbconvert_exporter": "python",
   "pygments_lexer": "ipython3",
   "version": "3.7.7"
  },
  "toc": {
   "base_numbering": 1,
   "nav_menu": {},
   "number_sections": true,
   "sideBar": true,
   "skip_h1_title": false,
   "title_cell": "Table of Contents",
   "title_sidebar": "Contents",
   "toc_cell": true,
   "toc_position": {},
   "toc_section_display": true,
   "toc_window_display": false
  },
  "varInspector": {
   "cols": {
    "lenName": 16,
    "lenType": 16,
    "lenVar": 40
   },
   "kernels_config": {
    "python": {
     "delete_cmd_postfix": "",
     "delete_cmd_prefix": "del ",
     "library": "var_list.py",
     "varRefreshCmd": "print(var_dic_list())"
    },
    "r": {
     "delete_cmd_postfix": ") ",
     "delete_cmd_prefix": "rm(",
     "library": "var_list.r",
     "varRefreshCmd": "cat(var_dic_list()) "
    }
   },
   "types_to_exclude": [
    "module",
    "function",
    "builtin_function_or_method",
    "instance",
    "_Feature"
   ],
   "window_display": false
  }
 },
 "nbformat": 4,
 "nbformat_minor": 4
}
