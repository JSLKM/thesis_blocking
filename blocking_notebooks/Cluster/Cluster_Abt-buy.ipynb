{
 "cells": [
  {
   "cell_type": "markdown",
   "metadata": {
    "toc": true
   },
   "source": [
    "<h1>Table of Contents<span class=\"tocSkip\"></span></h1>\n",
    "<div class=\"toc\"><ul class=\"toc-item\"><li><span><a href=\"#Setup\" data-toc-modified-id=\"Setup-1\"><span class=\"toc-item-num\">1&nbsp;&nbsp;</span>Setup</a></span></li><li><span><a href=\"#Import-dataset\" data-toc-modified-id=\"Import-dataset-2\"><span class=\"toc-item-num\">2&nbsp;&nbsp;</span>Import dataset</a></span></li><li><span><a href=\"#Sentence-embedding\" data-toc-modified-id=\"Sentence-embedding-3\"><span class=\"toc-item-num\">3&nbsp;&nbsp;</span>Sentence embedding</a></span><ul class=\"toc-item\"><li><span><a href=\"#Infersent\" data-toc-modified-id=\"Infersent-3.1\"><span class=\"toc-item-num\">3.1&nbsp;&nbsp;</span>Infersent</a></span></li></ul></li><li><span><a href=\"#Dimensionality-reduction\" data-toc-modified-id=\"Dimensionality-reduction-4\"><span class=\"toc-item-num\">4&nbsp;&nbsp;</span>Dimensionality reduction</a></span><ul class=\"toc-item\"><li><span><a href=\"#TSNE\" data-toc-modified-id=\"TSNE-4.1\"><span class=\"toc-item-num\">4.1&nbsp;&nbsp;</span>TSNE</a></span></li></ul></li><li><span><a href=\"#Blocking\" data-toc-modified-id=\"Blocking-5\"><span class=\"toc-item-num\">5&nbsp;&nbsp;</span>Blocking</a></span></li><li><span><a href=\"#Evaluation\" data-toc-modified-id=\"Evaluation-6\"><span class=\"toc-item-num\">6&nbsp;&nbsp;</span>Evaluation</a></span><ul class=\"toc-item\"><li><span><a href=\"#bilstm,-rnn_dim-2048\" data-toc-modified-id=\"bilstm,-rnn_dim-2048-6.1\"><span class=\"toc-item-num\">6.1&nbsp;&nbsp;</span>bilstm, rnn_dim 2048</a></span></li><li><span><a href=\"#Searching\" data-toc-modified-id=\"Searching-6.2\"><span class=\"toc-item-num\">6.2&nbsp;&nbsp;</span>Searching</a></span></li></ul></li><li><span><a href=\"#Result\" data-toc-modified-id=\"Result-7\"><span class=\"toc-item-num\">7&nbsp;&nbsp;</span>Result</a></span></li></ul></div>"
   ]
  },
  {
   "cell_type": "markdown",
   "metadata": {},
   "source": [
    "# Setup "
   ]
  },
  {
   "cell_type": "code",
   "execution_count": 1,
   "metadata": {},
   "outputs": [],
   "source": [
    "import os\n",
    "import sys\n",
    "import time\n",
    "import numpy as np\n",
    "import matplotlib.pyplot as plt\n",
    "\n",
    "module_path = os.path.abspath(os.path.join('../..'))\n",
    "if module_path not in sys.path:\n",
    "    sys.path.append(module_path)\n",
    "    \n",
    "params = {}"
   ]
  },
  {
   "cell_type": "markdown",
   "metadata": {},
   "source": [
    "# Import dataset"
   ]
  },
  {
   "cell_type": "code",
   "execution_count": 2,
   "metadata": {},
   "outputs": [],
   "source": [
    "from preprocessing_datasets.preprocessing_abt_buy import clean_abt_buy\n",
    "table, pairs = clean_abt_buy()"
   ]
  },
  {
   "cell_type": "code",
   "execution_count": 3,
   "metadata": {
    "scrolled": true
   },
   "outputs": [
    {
     "data": {
      "text/html": [
       "<div>\n",
       "<style scoped>\n",
       "    .dataframe tbody tr th:only-of-type {\n",
       "        vertical-align: middle;\n",
       "    }\n",
       "\n",
       "    .dataframe tbody tr th {\n",
       "        vertical-align: top;\n",
       "    }\n",
       "\n",
       "    .dataframe thead th {\n",
       "        text-align: right;\n",
       "    }\n",
       "</style>\n",
       "<table border=\"1\" class=\"dataframe\">\n",
       "  <thead>\n",
       "    <tr style=\"text-align: right;\">\n",
       "      <th></th>\n",
       "      <th>name</th>\n",
       "      <th>description</th>\n",
       "      <th>price</th>\n",
       "    </tr>\n",
       "  </thead>\n",
       "  <tbody>\n",
       "    <tr>\n",
       "      <th>0</th>\n",
       "      <td>Sony Turntable - PSLX350H</td>\n",
       "      <td>Sony Turntable - PSLX350H/ Belt Drive System/ ...</td>\n",
       "      <td>unk</td>\n",
       "    </tr>\n",
       "    <tr>\n",
       "      <th>1</th>\n",
       "      <td>Bose Acoustimass 5 Series III Speaker System -...</td>\n",
       "      <td>Bose Acoustimass 5 Series III Speaker System -...</td>\n",
       "      <td>$399.00</td>\n",
       "    </tr>\n",
       "    <tr>\n",
       "      <th>2</th>\n",
       "      <td>Sony Switcher - SBV40S</td>\n",
       "      <td>Sony Switcher - SBV40S/ Eliminates Disconnecti...</td>\n",
       "      <td>$49.00</td>\n",
       "    </tr>\n",
       "    <tr>\n",
       "      <th>3</th>\n",
       "      <td>Sony 5 Disc CD Player - CDPCE375</td>\n",
       "      <td>Sony 5 Disc CD Player- CDPCE375/ 5 Disc Change...</td>\n",
       "      <td>unk</td>\n",
       "    </tr>\n",
       "    <tr>\n",
       "      <th>4</th>\n",
       "      <td>Bose 27028 161 Bookshelf Pair Speakers In Whit...</td>\n",
       "      <td>Bose 161 Bookshelf Speakers In White - 161WH/ ...</td>\n",
       "      <td>$158.00</td>\n",
       "    </tr>\n",
       "    <tr>\n",
       "      <th>...</th>\n",
       "      <td>...</td>\n",
       "      <td>...</td>\n",
       "      <td>...</td>\n",
       "    </tr>\n",
       "    <tr>\n",
       "      <th>2168</th>\n",
       "      <td>Sony VAIO FW378J/B Notebook - VGNFW378J/B</td>\n",
       "      <td>Intel Centrino 2 Core 2 Duo P8600 2.4GHz - 16....</td>\n",
       "      <td>unk</td>\n",
       "    </tr>\n",
       "    <tr>\n",
       "      <th>2169</th>\n",
       "      <td>Sennheiser CX380 Sennheiser CX 380 Sport II Gr...</td>\n",
       "      <td>unk</td>\n",
       "      <td>unk</td>\n",
       "    </tr>\n",
       "    <tr>\n",
       "      <th>2170</th>\n",
       "      <td>IWORK 09 RETAIL-INT DVD - MB942Z/A</td>\n",
       "      <td>unk</td>\n",
       "      <td>unk</td>\n",
       "    </tr>\n",
       "    <tr>\n",
       "      <th>2171</th>\n",
       "      <td>IWORK 09 FAMILY PACK-INT DVD - MB943Z/A</td>\n",
       "      <td>unk</td>\n",
       "      <td>unk</td>\n",
       "    </tr>\n",
       "    <tr>\n",
       "      <th>2172</th>\n",
       "      <td>CASE MATE CARBON FIBER IPHONE 3G CASE BLACK - ...</td>\n",
       "      <td>unk</td>\n",
       "      <td>$28.08</td>\n",
       "    </tr>\n",
       "  </tbody>\n",
       "</table>\n",
       "<p>2173 rows × 3 columns</p>\n",
       "</div>"
      ],
      "text/plain": [
       "                                                   name  \\\n",
       "0                             Sony Turntable - PSLX350H   \n",
       "1     Bose Acoustimass 5 Series III Speaker System -...   \n",
       "2                                Sony Switcher - SBV40S   \n",
       "3                      Sony 5 Disc CD Player - CDPCE375   \n",
       "4     Bose 27028 161 Bookshelf Pair Speakers In Whit...   \n",
       "...                                                 ...   \n",
       "2168          Sony VAIO FW378J/B Notebook - VGNFW378J/B   \n",
       "2169  Sennheiser CX380 Sennheiser CX 380 Sport II Gr...   \n",
       "2170                 IWORK 09 RETAIL-INT DVD - MB942Z/A   \n",
       "2171            IWORK 09 FAMILY PACK-INT DVD - MB943Z/A   \n",
       "2172  CASE MATE CARBON FIBER IPHONE 3G CASE BLACK - ...   \n",
       "\n",
       "                                            description    price  \n",
       "0     Sony Turntable - PSLX350H/ Belt Drive System/ ...      unk  \n",
       "1     Bose Acoustimass 5 Series III Speaker System -...  $399.00  \n",
       "2     Sony Switcher - SBV40S/ Eliminates Disconnecti...   $49.00  \n",
       "3     Sony 5 Disc CD Player- CDPCE375/ 5 Disc Change...      unk  \n",
       "4     Bose 161 Bookshelf Speakers In White - 161WH/ ...  $158.00  \n",
       "...                                                 ...      ...  \n",
       "2168  Intel Centrino 2 Core 2 Duo P8600 2.4GHz - 16....      unk  \n",
       "2169                                                unk      unk  \n",
       "2170                                                unk      unk  \n",
       "2171                                                unk      unk  \n",
       "2172                                                unk   $28.08  \n",
       "\n",
       "[2173 rows x 3 columns]"
      ]
     },
     "execution_count": 3,
     "metadata": {},
     "output_type": "execute_result"
    }
   ],
   "source": [
    "table"
   ]
  },
  {
   "cell_type": "markdown",
   "metadata": {},
   "source": [
    "# Sentence embedding"
   ]
  },
  {
   "cell_type": "markdown",
   "metadata": {},
   "source": [
    "## Infersent"
   ]
  },
  {
   "cell_type": "markdown",
   "metadata": {},
   "source": [
    "Setup model"
   ]
  },
  {
   "cell_type": "code",
   "execution_count": 4,
   "metadata": {},
   "outputs": [
    {
     "name": "stdout",
     "output_type": "stream",
     "text": [
      "Vocab size : 2196017\n",
      "TIME: 234.89537286758423\n"
     ]
    }
   ],
   "source": [
    "from embedding_algorithms.inferSent import set_RNN_embedding\n",
    "start = time.time()\n",
    "model_type = \"bilstm\" \n",
    "char_level = False\n",
    "model_version = 2\n",
    "rnn_dim = 2048\n",
    "verbose = 1\n",
    "set_RNN_embedding(model_type, char_level, model_version, rnn_dim, verbose)\n",
    "print(\"TIME: {0}\".format(time.time() - start))\n",
    "\n",
    "params['embedding'] = {\n",
    "    'name': 'Infersent',\n",
    "    'model_type': model_type,\n",
    "    'char_level': char_level,\n",
    "    'model_version': model_version,\n",
    "    'rnn_dim': rnn_dim,\n",
    "    'verbose': verbose\n",
    "}"
   ]
  },
  {
   "cell_type": "markdown",
   "metadata": {},
   "source": [
    "Embedding"
   ]
  },
  {
   "cell_type": "code",
   "execution_count": 5,
   "metadata": {},
   "outputs": [
    {
     "name": "stdout",
     "output_type": "stream",
     "text": [
      "attrs: ['name']\n",
      "TIME: 27.600971937179565\n"
     ]
    }
   ],
   "source": [
    "from embedding_algorithms.inferSent import RNN_embedding\n",
    "start = time.time()\n",
    "attr_list = ['name']\n",
    "params['attr_list'] = attr_list\n",
    "embeddings_tokens = RNN_embedding(table, attr_list, model_type, char_level)\n",
    "embeddings_tokens = np.array(embeddings_tokens)\n",
    "print(\"TIME: {0}\".format(time.time() - start))"
   ]
  },
  {
   "cell_type": "markdown",
   "metadata": {},
   "source": [
    "# Dimensionality reduction"
   ]
  },
  {
   "cell_type": "markdown",
   "metadata": {},
   "source": [
    "## TSNE"
   ]
  },
  {
   "cell_type": "code",
   "execution_count": 7,
   "metadata": {},
   "outputs": [
    {
     "name": "stdout",
     "output_type": "stream",
     "text": [
      "starting dimension: 4096\n",
      "setting TSNE with n_components: 2 & perplexity: 40\n",
      "early_exaggeration: 12\n",
      "TIME: 73.44341397285461\n"
     ]
    }
   ],
   "source": [
    "from dimensionality_reduction_algorithms.tsne import tsne_dim_reduction\n",
    "\n",
    "start = time.time()\n",
    "\n",
    "tsne_embeddings = tsne_dim_reduction(\n",
    "    embeddings_tokens, \n",
    "    num_components=2,\n",
    "    early_exaggeration=12,\n",
    "    verbose=1,\n",
    "    perplexity=40,\n",
    "    method=\"barnes_hut\")\n",
    "\n",
    "print(\"TIME: {0}\".format(time.time() - start))\n",
    "params['reduction'] = {\n",
    "    'name': 'TSNE',\n",
    "    'num_components': 2,\n",
    "    'early_exaggeration': 12,\n",
    "    'verbose': 1,\n",
    "    'perplexity': 40,\n",
    "    'method': \"barnes_hut\"\n",
    "}"
   ]
  },
  {
   "cell_type": "markdown",
   "metadata": {},
   "source": [
    "# Blocking"
   ]
  },
  {
   "cell_type": "code",
   "execution_count": 24,
   "metadata": {},
   "outputs": [
    {
     "name": "stdout",
     "output_type": "stream",
     "text": [
      "clustering with NUM_CLUSTERS = 13, distance_algorithm = <function euclidean_distance at 0x7ffd94a10320>\n",
      "BLOCKS: 56.50607085227966\n"
     ]
    }
   ],
   "source": [
    "from cluster_algorithms.kMeans_cluster import kMean_cluster\n",
    "num_clusters = 13\n",
    "\n",
    "start = time.time()\n",
    "blocks = kMean_cluster(tsne_embeddings, {'num_clusters': num_clusters, 'distance_algorithm': 'euclidean'})\n",
    "print(\"BLOCKS: {0}\".format(time.time() - start))\n",
    "\n",
    "params['blocking'] = {\n",
    "    'name': 'k_means',\n",
    "    'num_clusters': num_clusters\n",
    "}"
   ]
  },
  {
   "cell_type": "code",
   "execution_count": 13,
   "metadata": {},
   "outputs": [
    {
     "name": "stdout",
     "output_type": "stream",
     "text": [
      "clustering with NUM_CLUSTERS = 15, \n",
      "BLOCKS: 0.3483707904815674\n"
     ]
    }
   ],
   "source": [
    "from cluster_algorithms.birch_cluster import birch_cluster\n",
    "num_clusters = 15\n",
    "\n",
    "start = time.time()\n",
    "blocks = birch_cluster(tsne_embeddings, {'num_clusters': num_clusters})\n",
    "print(\"BLOCKS: {0}\".format(time.time() - start))\n",
    "\n",
    "params['blocking'] = {\n",
    "    'name': 'birch_cluster',\n",
    "    'num_clusters': num_clusters\n",
    "}"
   ]
  },
  {
   "cell_type": "code",
   "execution_count": 22,
   "metadata": {},
   "outputs": [
    {
     "name": "stdout",
     "output_type": "stream",
     "text": [
      "DBScan_cluster\n",
      "BLOCKS: 0.02804875373840332\n"
     ]
    }
   ],
   "source": [
    "from cluster_algorithms.DBScan_cluster import DBSCAN_cluster\n",
    "eps = 4\n",
    "min_samples = 2\n",
    "\n",
    "start = time.time()\n",
    "blocks = DBSCAN_cluster(tsne_embeddings, {'eps':eps, 'min_samples':min_samples})\n",
    "print(\"BLOCKS: {0}\".format(time.time() - start))\n",
    "\n",
    "params['blocking'] = {\n",
    "    'name': 'DBScan',\n",
    "    'eps': eps,\n",
    "    'min_samples': min_samples\n",
    "}"
   ]
  },
  {
   "cell_type": "code",
   "execution_count": 8,
   "metadata": {},
   "outputs": [
    {
     "name": "stdout",
     "output_type": "stream",
     "text": [
      "clustering with NUM_CLUSTERS = 13, \n",
      "BLOCKS: 0.1270890235900879\n"
     ]
    }
   ],
   "source": [
    "from cluster_algorithms.hierarchy_cluster import hierarchy_cluster\n",
    "num_clusters = 13\n",
    "start = time.time()\n",
    "blocks = hierarchy_cluster(tsne_embeddings, {'num_clusters': num_clusters})\n",
    "print(\"BLOCKS: {0}\".format(time.time() - start))\n",
    "params['blocking'] = {\n",
    "    'name': 'hierarchy',\n",
    "    'num_clusters': num_clusters\n",
    "}"
   ]
  },
  {
   "cell_type": "markdown",
   "metadata": {},
   "source": [
    "# Evaluation"
   ]
  },
  {
   "cell_type": "markdown",
   "metadata": {},
   "source": [
    "## bilstm, rnn_dim 2048"
   ]
  },
  {
   "cell_type": "code",
   "execution_count": 9,
   "metadata": {},
   "outputs": [
    {
     "name": "stdout",
     "output_type": "stream",
     "text": [
      "(RR) Reduction ratio is: 0.9078215060270065\n",
      "(PC) Pair completeness is: 0.9134001823154057\n",
      "(RM) Reference metric (Harmonic mean RR and PC) is: 0.9106023000084252\n",
      "(PQ) Pair quality - Precision is: 0.004606261205350986\n",
      "(FM) Fmeasure is: 0.009166296934962286\n",
      "\n",
      "['name']\n",
      "{'name': 'Infersent', 'model_type': 'bilstm', 'char_level': False, 'model_version': 2, 'rnn_dim': 2048, 'verbose': 1}\n",
      "{'name': 'TSNE', 'num_components': 2, 'early_exaggeration': 12, 'verbose': 1, 'perplexity': 40, 'method': 'barnes_hut'}\n",
      "{'name': 'hierarchy', 'num_clusters': 13}\n"
     ]
    }
   ],
   "source": [
    "from evaluation import calc_index\n",
    "calc_index(blocks,table,pairs)\n",
    "print()\n",
    "print(params['attr_list'])\n",
    "print(params['embedding'])\n",
    "print(params['reduction'])\n",
    "print(params['blocking'])"
   ]
  },
  {
   "cell_type": "code",
   "execution_count": 14,
   "metadata": {},
   "outputs": [
    {
     "name": "stdout",
     "output_type": "stream",
     "text": [
      "(RR) Reduction ratio is: 0.9217959572486374\n",
      "(PC) Pair completeness is: 0.902461257976299\n",
      "(RM) Reference metric (Harmonic mean RR and PC) is: 0.912026146568918\n",
      "(PQ) Pair quality - Precision is: 0.0053643417573366855\n",
      "(FM) Fmeasure is: 0.010665287720375548\n",
      "\n",
      "['name']\n",
      "{'name': 'Infersent', 'model_type': 'bilstm', 'char_level': False, 'model_version': 2, 'rnn_dim': 2048, 'verbose': 1}\n",
      "{'name': 'TSNE', 'num_components': 2, 'early_exaggeration': 12, 'verbose': 1, 'perplexity': 40, 'method': 'barnes_hut'}\n",
      "{'name': 'birch_cluster', 'num_clusters': 15}\n"
     ]
    }
   ],
   "source": [
    "from evaluation import calc_index\n",
    "calc_index(blocks,table,pairs)\n",
    "print()\n",
    "print(params['attr_list'])\n",
    "print(params['embedding'])\n",
    "print(params['reduction'])\n",
    "print(params['blocking'])"
   ]
  },
  {
   "cell_type": "code",
   "execution_count": 23,
   "metadata": {},
   "outputs": [
    {
     "name": "stdout",
     "output_type": "stream",
     "text": [
      "(RR) Reduction ratio is: 0.9442653391404132\n",
      "(PC) Pair completeness is: 0.8477666362807658\n",
      "(RM) Reference metric (Harmonic mean RR and PC) is: 0.8934178198817464\n",
      "(PQ) Pair quality - Precision is: 0.007070791548503349\n",
      "(FM) Fmeasure is: 0.014024610930148389\n",
      "\n",
      "['name']\n",
      "{'name': 'Infersent', 'model_type': 'bilstm', 'char_level': False, 'model_version': 2, 'rnn_dim': 2048, 'verbose': 1}\n",
      "{'name': 'TSNE', 'num_components': 2, 'early_exaggeration': 12, 'verbose': 1, 'perplexity': 40, 'method': 'barnes_hut'}\n",
      "{'name': 'DBScan', 'eps': 4, 'min_samples': 2}\n"
     ]
    }
   ],
   "source": [
    "from evaluation import calc_index\n",
    "calc_index(blocks,table,pairs)\n",
    "print()\n",
    "print(params['attr_list'])\n",
    "print(params['embedding'])\n",
    "print(params['reduction'])\n",
    "print(params['blocking'])"
   ]
  },
  {
   "cell_type": "code",
   "execution_count": 25,
   "metadata": {},
   "outputs": [
    {
     "name": "stdout",
     "output_type": "stream",
     "text": [
      "(RR) Reduction ratio is: 0.917779224180233\n",
      "(PC) Pair completeness is: 0.8705560619872379\n",
      "(RM) Reference metric (Harmonic mean RR and PC) is: 0.8935441506478496\n",
      "(PQ) Pair quality - Precision is: 0.004921893924166757\n",
      "(FM) Fmeasure is: 0.009788446558156697\n",
      "\n",
      "['name']\n",
      "{'name': 'Infersent', 'model_type': 'bilstm', 'char_level': False, 'model_version': 2, 'rnn_dim': 2048, 'verbose': 1}\n",
      "{'name': 'TSNE', 'num_components': 2, 'early_exaggeration': 12, 'verbose': 1, 'perplexity': 40, 'method': 'barnes_hut'}\n",
      "{'name': 'k_means', 'num_clusters': 13}\n"
     ]
    }
   ],
   "source": [
    "from evaluation import calc_index\n",
    "calc_index(blocks,table,pairs)\n",
    "print()\n",
    "print(params['attr_list'])\n",
    "print(params['embedding'])\n",
    "print(params['reduction'])\n",
    "print(params['blocking'])"
   ]
  },
  {
   "cell_type": "markdown",
   "metadata": {
    "heading_collapsed": true
   },
   "source": [
    "## Searching"
   ]
  },
  {
   "cell_type": "code",
   "execution_count": 12,
   "metadata": {
    "hidden": true
   },
   "outputs": [
    {
     "name": "stdout",
     "output_type": "stream",
     "text": [
      "clustering with NUM_CLUSTERS = 5, \n",
      "(RR) Reduction ratio is: 0.7749752317704559\n",
      "(PC) Pair completeness is: 0.959890610756609\n",
      "(RM) Reference metric (Harmonic mean RR and PC) is: 0.8575780677793619\n",
      "(PQ) Pair quality - Precision is: 0.0019829350828859333\n",
      "(FM) Fmeasure is: 0.003957694389319863\n",
      "clustering with NUM_CLUSTERS = 6, \n",
      "(RR) Reduction ratio is: 0.8297407747349651\n",
      "(PC) Pair completeness is: 0.9389243391066545\n",
      "(RM) Reference metric (Harmonic mean RR and PC) is: 0.8809624868505596\n",
      "(PQ) Pair quality - Precision is: 0.00256352183100169\n",
      "(FM) Fmeasure is: 0.0051130835368638425\n",
      "clustering with NUM_CLUSTERS = 7, \n",
      "(RR) Reduction ratio is: 0.8503859097800819\n",
      "(PC) Pair completeness is: 0.9380127620783957\n",
      "(RM) Reference metric (Harmonic mean RR and PC) is: 0.8920525927660571\n",
      "(PQ) Pair quality - Precision is: 0.002914427976242739\n",
      "(FM) Fmeasure is: 0.005810801653452599\n",
      "clustering with NUM_CLUSTERS = 8, \n",
      "(RR) Reduction ratio is: 0.8590795795375863\n",
      "(PC) Pair completeness is: 0.9334548769371012\n",
      "(RM) Reference metric (Harmonic mean RR and PC) is: 0.8947242495673143\n",
      "(PQ) Pair quality - Precision is: 0.0030791899084361986\n",
      "(FM) Fmeasure is: 0.0061381319458597575\n",
      "clustering with NUM_CLUSTERS = 9, \n",
      "(RR) Reduction ratio is: 0.8692877343659291\n",
      "(PC) Pair completeness is: 0.9334548769371012\n",
      "(RM) Reference metric (Harmonic mean RR and PC) is: 0.9002293172833661\n",
      "(PQ) Pair quality - Precision is: 0.0033196634950480607\n",
      "(FM) Fmeasure is: 0.006615799096788366\n",
      "clustering with NUM_CLUSTERS = 10, \n",
      "(RR) Reduction ratio is: 0.8830168339210756\n",
      "(PC) Pair completeness is: 0.927073837739289\n",
      "(RM) Reference metric (Harmonic mean RR and PC) is: 0.9045091694337063\n",
      "(PQ) Pair quality - Precision is: 0.003683901675686249\n",
      "(FM) Fmeasure is: 0.007338641882213716\n",
      "clustering with NUM_CLUSTERS = 11, \n",
      "(RR) Reduction ratio is: 0.8945466672429676\n",
      "(PC) Pair completeness is: 0.9252506836827712\n",
      "(RM) Reference metric (Harmonic mean RR and PC) is: 0.9096396530434072\n",
      "(PQ) Pair quality - Precision is: 0.004078647576720767\n",
      "(FM) Fmeasure is: 0.008121494354961312\n",
      "clustering with NUM_CLUSTERS = 12, \n",
      "(RR) Reduction ratio is: 0.9023330867104147\n",
      "(PC) Pair completeness is: 0.9225159525979946\n",
      "(RM) Reference metric (Harmonic mean RR and PC) is: 0.91231290820946\n",
      "(PQ) Pair quality - Precision is: 0.004390798413758992\n",
      "(FM) Fmeasure is: 0.008739998013636816\n",
      "clustering with NUM_CLUSTERS = 13, \n",
      "(RR) Reduction ratio is: 0.9156888618818431\n",
      "(PC) Pair completeness is: 0.9033728350045579\n",
      "(RM) Reference metric (Harmonic mean RR and PC) is: 0.9094891553774013\n",
      "(PQ) Pair quality - Precision is: 0.004980800546832593\n",
      "(FM) Fmeasure is: 0.009906978371596662\n",
      "clustering with NUM_CLUSTERS = 14, \n",
      "(RR) Reduction ratio is: 0.9188958073256329\n",
      "(PC) Pair completeness is: 0.9033728350045579\n",
      "(RM) Reference metric (Harmonic mean RR and PC) is: 0.911068205043662\n",
      "(PQ) Pair quality - Precision is: 0.0051777466613722335\n",
      "(FM) Fmeasure is: 0.010296478313497113\n",
      "clustering with NUM_CLUSTERS = 15, \n",
      "(RR) Reduction ratio is: 0.9217959572486374\n",
      "(PC) Pair completeness is: 0.902461257976299\n",
      "(RM) Reference metric (Harmonic mean RR and PC) is: 0.912026146568918\n",
      "(PQ) Pair quality - Precision is: 0.0053643417573366855\n",
      "(FM) Fmeasure is: 0.010665287720375548\n",
      "clustering with NUM_CLUSTERS = 16, \n",
      "(RR) Reduction ratio is: 0.9264995902330544\n",
      "(PC) Pair completeness is: 0.845943482224248\n",
      "(RM) Reference metric (Harmonic mean RR and PC) is: 0.8843909311620157\n",
      "(PQ) Pair quality - Precision is: 0.005350183336023799\n",
      "(FM) Fmeasure is: 0.010633117348137199\n",
      "clustering with NUM_CLUSTERS = 17, \n",
      "(RR) Reduction ratio is: 0.9305053057827566\n",
      "(PC) Pair completeness is: 0.845031905195989\n",
      "(RM) Reference metric (Harmonic mean RR and PC) is: 0.885711283862236\n",
      "(PQ) Pair quality - Precision is: 0.005652473490692016\n",
      "(FM) Fmeasure is: 0.01122982991713912\n",
      "clustering with NUM_CLUSTERS = 18, \n",
      "(RR) Reduction ratio is: 0.9324248965412619\n",
      "(PC) Pair completeness is: 0.8441203281677302\n",
      "(RM) Reference metric (Harmonic mean RR and PC) is: 0.8860779885736932\n",
      "(PQ) Pair quality - Precision is: 0.00580677122199299\n",
      "(FM) Fmeasure is: 0.01153419777536963\n",
      "clustering with NUM_CLUSTERS = 19, \n",
      "(RR) Reduction ratio is: 0.9408223645459638\n",
      "(PC) Pair completeness is: 0.8240656335460347\n",
      "(RM) Reference metric (Harmonic mean RR and PC) is: 0.8785819595713903\n",
      "(PQ) Pair quality - Precision is: 0.006473233466044167\n",
      "(FM) Fmeasure is: 0.012845561957811422\n",
      "clustering with NUM_CLUSTERS = 20, \n",
      "(RR) Reduction ratio is: 0.9434538565129215\n",
      "(PC) Pair completeness is: 0.8240656335460347\n",
      "(RM) Reference metric (Harmonic mean RR and PC) is: 0.8797276684771805\n",
      "(PQ) Pair quality - Precision is: 0.006774478799778181\n",
      "(FM) Fmeasure is: 0.013438482521796654\n",
      "clustering with NUM_CLUSTERS = 21, \n",
      "(RR) Reduction ratio is: 0.9468243697343677\n",
      "(PC) Pair completeness is: 0.8195077484047402\n",
      "(RM) Reference metric (Harmonic mean RR and PC) is: 0.8785775895794931\n",
      "(PQ) Pair quality - Precision is: 0.00716403162055336\n",
      "(FM) Fmeasure is: 0.01420389461626575\n",
      "clustering with NUM_CLUSTERS = 22, \n",
      "(RR) Reduction ratio is: 0.9485481876605486\n",
      "(PC) Pair completeness is: 0.8195077484047402\n",
      "(RM) Reference metric (Harmonic mean RR and PC) is: 0.8793190007925047\n",
      "(PQ) Pair quality - Precision is: 0.007404052050732993\n",
      "(FM) Fmeasure is: 0.014675514418407242\n",
      "clustering with NUM_CLUSTERS = 23, \n",
      "(RR) Reduction ratio is: 0.9499020712087659\n",
      "(PC) Pair completeness is: 0.8195077484047402\n",
      "(RM) Reference metric (Harmonic mean RR and PC) is: 0.8799002909923186\n",
      "(PQ) Pair quality - Precision is: 0.007604144639458659\n",
      "(FM) Fmeasure is: 0.015068470189906303\n",
      "clustering with NUM_CLUSTERS = 24, \n",
      "(RR) Reduction ratio is: 0.951285193556616\n",
      "(PC) Pair completeness is: 0.8195077484047402\n",
      "(RM) Reference metric (Harmonic mean RR and PC) is: 0.8804932170091772\n",
      "(PQ) Pair quality - Precision is: 0.007820043319038631\n",
      "(FM) Fmeasure is: 0.01549225387306347\n",
      "clustering with NUM_CLUSTERS = 25, \n",
      "(RR) Reduction ratio is: 0.9535556499107157\n",
      "(PC) Pair completeness is: 0.813126709206928\n",
      "(RM) Reference metric (Harmonic mean RR and PC) is: 0.8777600157221498\n",
      "(PQ) Pair quality - Precision is: 0.008138463363229109\n",
      "(FM) Fmeasure is: 0.016115627822944897\n",
      "clustering with NUM_CLUSTERS = 26, \n",
      "(RR) Reduction ratio is: 0.9559337389475219\n",
      "(PC) Pair completeness is: 0.8122151321786691\n",
      "(RM) Reference metric (Harmonic mean RR and PC) is: 0.8782335705010874\n",
      "(PQ) Pair quality - Precision is: 0.00856804915810022\n",
      "(FM) Fmeasure is: 0.01695721680876979\n",
      "clustering with NUM_CLUSTERS = 27, \n",
      "(RR) Reduction ratio is: 0.9578329896715\n",
      "(PC) Pair completeness is: 0.8113035551504102\n",
      "(RM) Reference metric (Harmonic mean RR and PC) is: 0.878500093206836\n",
      "(PQ) Pair quality - Precision is: 0.00894391462078807\n",
      "(FM) Fmeasure is: 0.017692781742639604\n",
      "clustering with NUM_CLUSTERS = 28, \n",
      "(RR) Reduction ratio is: 0.9596830853120373\n",
      "(PC) Pair completeness is: 0.8094804010938924\n",
      "(RM) Reference metric (Harmonic mean RR and PC) is: 0.8782056093635286\n",
      "(PQ) Pair quality - Precision is: 0.009333319319340361\n",
      "(FM) Fmeasure is: 0.018453865336658354\n",
      "clustering with NUM_CLUSTERS = 29, \n",
      "(RR) Reduction ratio is: 0.9623628848609971\n",
      "(PC) Pair completeness is: 0.7930720145852325\n",
      "(RM) Reference metric (Harmonic mean RR and PC) is: 0.8695544017035707\n",
      "(PQ) Pair quality - Precision is: 0.009795201477161418\n",
      "(FM) Fmeasure is: 0.01935139463499266\n",
      "clustering with NUM_CLUSTERS = 30, \n",
      "(RR) Reduction ratio is: 0.9633527665413212\n",
      "(PC) Pair completeness is: 0.7912488605287147\n",
      "(RM) Reference metric (Harmonic mean RR and PC) is: 0.868860221092887\n",
      "(PQ) Pair quality - Precision is: 0.010036654602638669\n",
      "(FM) Fmeasure is: 0.01982187714089975\n",
      "clustering with NUM_CLUSTERS = 31, \n",
      "(RR) Reduction ratio is: 0.9636599858128259\n",
      "(PC) Pair completeness is: 0.7912488605287147\n",
      "(RM) Reference metric (Harmonic mean RR and PC) is: 0.868985152477964\n",
      "(PQ) Pair quality - Precision is: 0.01012150469927004\n",
      "(FM) Fmeasure is: 0.019987335213862183\n",
      "clustering with NUM_CLUSTERS = 32, \n",
      "(RR) Reduction ratio is: 0.9643655307604885\n",
      "(PC) Pair completeness is: 0.7912488605287147\n",
      "(RM) Reference metric (Harmonic mean RR and PC) is: 0.8692718983547082\n",
      "(PQ) Pair quality - Precision is: 0.010321905509376523\n",
      "(FM) Fmeasure is: 0.020377978635990137\n",
      "clustering with NUM_CLUSTERS = 33, \n",
      "(RR) Reduction ratio is: 0.966278765258204\n",
      "(PC) Pair completeness is: 0.7711941659070192\n",
      "(RM) Reference metric (Harmonic mean RR and PC) is: 0.857784352251416\n",
      "(PQ) Pair quality - Precision is: 0.01063107894141597\n",
      "(FM) Fmeasure is: 0.020973039975209173\n",
      "clustering with NUM_CLUSTERS = 34, \n"
     ]
    },
    {
     "name": "stdout",
     "output_type": "stream",
     "text": [
      "(RR) Reduction ratio is: 0.9667948936343319\n",
      "(PC) Pair completeness is: 0.7711941659070192\n",
      "(RM) Reference metric (Harmonic mean RR and PC) is: 0.8579876582148928\n",
      "(PQ) Pair quality - Precision is: 0.010796324655436448\n",
      "(FM) Fmeasure is: 0.02129453666763155\n",
      "clustering with NUM_CLUSTERS = 35, \n",
      "(RR) Reduction ratio is: 0.9676847701448973\n",
      "(PC) Pair completeness is: 0.7702825888787602\n",
      "(RM) Reference metric (Harmonic mean RR and PC) is: 0.8577729910698664\n",
      "(PQ) Pair quality - Precision is: 0.01108051403094676\n",
      "(FM) Fmeasure is: 0.021846762413226986\n",
      "clustering with NUM_CLUSTERS = 36, \n",
      "(RR) Reduction ratio is: 0.9686932968568714\n",
      "(PC) Pair completeness is: 0.7693710118505014\n",
      "(RM) Reference metric (Harmonic mean RR and PC) is: 0.8576029531724861\n",
      "(PQ) Pair quality - Precision is: 0.011423930698429886\n",
      "(FM) Fmeasure is: 0.022513570828387373\n",
      "clustering with NUM_CLUSTERS = 37, \n",
      "(RR) Reduction ratio is: 0.9696831785371955\n",
      "(PC) Pair completeness is: 0.7693710118505014\n",
      "(RM) Reference metric (Harmonic mean RR and PC) is: 0.8579906622452659\n",
      "(PQ) Pair quality - Precision is: 0.011796936151179693\n",
      "(FM) Fmeasure is: 0.023237565562148097\n",
      "clustering with NUM_CLUSTERS = 38, \n",
      "(RR) Reduction ratio is: 0.9706798402290288\n",
      "(PC) Pair completeness is: 0.7666362807657247\n",
      "(RM) Reference metric (Harmonic mean RR and PC) is: 0.8566758502204652\n",
      "(PQ) Pair quality - Precision is: 0.012154584345010985\n",
      "(FM) Fmeasure is: 0.02392977564056965\n",
      "clustering with NUM_CLUSTERS = 39, \n",
      "(RR) Reduction ratio is: 0.9715400541892419\n",
      "(PC) Pair completeness is: 0.763901549680948\n",
      "(RM) Reference metric (Harmonic mean RR and PC) is: 0.8552992521525228\n",
      "(PQ) Pair quality - Precision is: 0.012477293707751407\n",
      "(FM) Fmeasure is: 0.02455353872749381\n",
      "clustering with NUM_CLUSTERS = 40, \n",
      "(RR) Reduction ratio is: 0.972472305771739\n",
      "(PC) Pair completeness is: 0.740200546946217\n",
      "(RM) Reference metric (Harmonic mean RR and PC) is: 0.8405861416906935\n",
      "(PQ) Pair quality - Precision is: 0.012499615159631786\n",
      "(FM) Fmeasure is: 0.024584083924976154\n",
      "clustering with NUM_CLUSTERS = 41, \n",
      "(RR) Reduction ratio is: 0.9728155438543857\n",
      "(PC) Pair completeness is: 0.740200546946217\n",
      "(RM) Reference metric (Harmonic mean RR and PC) is: 0.8407143418042953\n",
      "(PQ) Pair quality - Precision is: 0.01265743858336451\n",
      "(FM) Fmeasure is: 0.02488927033364496\n",
      "clustering with NUM_CLUSTERS = 42, \n",
      "(RR) Reduction ratio is: 0.9735846514099458\n",
      "(PC) Pair completeness is: 0.7283500455788514\n",
      "(RM) Reference metric (Harmonic mean RR and PC) is: 0.8332992170427227\n",
      "(PQ) Pair quality - Precision is: 0.012817427851837593\n",
      "(FM) Fmeasure is: 0.02519153766119116\n",
      "clustering with NUM_CLUSTERS = 43, \n",
      "(RR) Reduction ratio is: 0.9740592522155807\n",
      "(PC) Pair completeness is: 0.7283500455788514\n",
      "(RM) Reference metric (Harmonic mean RR and PC) is: 0.8334730098888214\n",
      "(PQ) Pair quality - Precision is: 0.013051930019439044\n",
      "(FM) Fmeasure is: 0.025644317488846807\n",
      "clustering with NUM_CLUSTERS = 44, \n",
      "(RR) Reduction ratio is: 0.9747330158592944\n",
      "(PC) Pair completeness is: 0.7283500455788514\n",
      "(RM) Reference metric (Harmonic mean RR and PC) is: 0.8337195672991113\n",
      "(PQ) Pair quality - Precision is: 0.013399969812333339\n",
      "(FM) Fmeasure is: 0.02631578947368421\n",
      "clustering with NUM_CLUSTERS = 45, \n",
      "(RR) Reduction ratio is: 0.9749465862218301\n",
      "(PC) Pair completeness is: 0.7283500455788514\n",
      "(RM) Reference metric (Harmonic mean RR and PC) is: 0.8337976806317212\n",
      "(PQ) Pair quality - Precision is: 0.013514199211812662\n",
      "(FM) Fmeasure is: 0.026536034540019928\n",
      "clustering with NUM_CLUSTERS = 46, \n",
      "(RR) Reduction ratio is: 0.9754406795605536\n",
      "(PC) Pair completeness is: 0.7283500455788514\n",
      "(RM) Reference metric (Harmonic mean RR and PC) is: 0.8339783201475811\n",
      "(PQ) Pair quality - Precision is: 0.013786082785513397\n",
      "(FM) Fmeasure is: 0.02705997900226911\n",
      "clustering with NUM_CLUSTERS = 47, \n",
      "(RR) Reduction ratio is: 0.9757788326345684\n",
      "(PC) Pair completeness is: 0.7283500455788514\n",
      "(RM) Reference metric (Harmonic mean RR and PC) is: 0.8341018878447284\n",
      "(PQ) Pair quality - Precision is: 0.013978551059325741\n",
      "(FM) Fmeasure is: 0.0274306509200769\n",
      "clustering with NUM_CLUSTERS = 48, \n",
      "(RR) Reduction ratio is: 0.9760021492636484\n",
      "(PC) Pair completeness is: 0.7274384685505926\n",
      "(RM) Reference metric (Harmonic mean RR and PC) is: 0.8335852759850749\n",
      "(PQ) Pair quality - Precision is: 0.014090973301313744\n",
      "(FM) Fmeasure is: 0.027646416878865043\n",
      "clustering with NUM_CLUSTERS = 49, \n",
      "(RR) Reduction ratio is: 0.9762958085121349\n",
      "(PC) Pair completeness is: 0.7274384685505926\n",
      "(RM) Reference metric (Harmonic mean RR and PC) is: 0.8336923631316743\n",
      "(PQ) Pair quality - Precision is: 0.014265539248109547\n",
      "(FM) Fmeasure is: 0.027982326951399114\n"
     ]
    }
   ],
   "source": [
    "for i in range(5,50,1):\n",
    "    num_clusters = int(i)\n",
    "    blocks = birch_cluster(tsne_embeddings, {'num_clusters': num_clusters})\n",
    "    calc_index(blocks,table,pairs)"
   ]
  },
  {
   "cell_type": "code",
   "execution_count": 21,
   "metadata": {
    "hidden": true
   },
   "outputs": [
    {
     "name": "stdout",
     "output_type": "stream",
     "text": [
      "1\n",
      "DBScan_cluster\n",
      "(RR) Reduction ratio is: 0.9572236361371224\n",
      "(PC) Pair completeness is: 0.3108477666362808\n",
      "(RM) Reference metric (Harmonic mean RR and PC) is: 0.4692966481444341\n",
      "(PQ) Pair quality - Precision is: 0.0033780102429988015\n",
      "(FM) Fmeasure is: 0.006683391478185882\n",
      "2\n",
      "DBScan_cluster\n",
      "(RR) Reduction ratio is: 0.9933221124142858\n",
      "(PC) Pair completeness is: 0.495897903372835\n",
      "(RM) Reference metric (Harmonic mean RR and PC) is: 0.66153603590906\n",
      "(PQ) Pair quality - Precision is: 0.034519956850053934\n",
      "(FM) Fmeasure is: 0.06454674893213098\n",
      "3\n",
      "DBScan_cluster\n",
      "(RR) Reduction ratio is: 0.9769411808576545\n",
      "(PC) Pair completeness is: 0.6818596171376481\n",
      "(RM) Reference metric (Harmonic mean RR and PC) is: 0.8031545925835616\n",
      "(PQ) Pair quality - Precision is: 0.013745957071449573\n",
      "(FM) Fmeasure is: 0.026948642660277772\n",
      "4\n",
      "DBScan_cluster\n",
      "(RR) Reduction ratio is: 0.9442653391404132\n",
      "(PC) Pair completeness is: 0.8477666362807658\n",
      "(RM) Reference metric (Harmonic mean RR and PC) is: 0.8934178198817464\n",
      "(PQ) Pair quality - Precision is: 0.007070791548503349\n",
      "(FM) Fmeasure is: 0.014024610930148389\n"
     ]
    }
   ],
   "source": [
    "for i in range(1,5,1):\n",
    "    eps = int(i)\n",
    "    min_samples = 2\n",
    "    print(eps)\n",
    "    blocks = DBSCAN_cluster(tsne_embeddings, {'eps':eps, 'min_samples':min_samples})\n",
    "    calc_index(blocks,table,pairs)"
   ]
  },
  {
   "cell_type": "markdown",
   "metadata": {},
   "source": [
    "# Result"
   ]
  },
  {
   "cell_type": "code",
   "execution_count": 28,
   "metadata": {},
   "outputs": [],
   "source": [
    "# RR PC alpha\n",
    "list_embedding = [0.9343, 0.9088, 0.9213]\n",
    "\n",
    "list_hierarchy = [0.9078, 0.9134, 0.9106] # TSNE: 73.44, BLOCKS: 0.1270, n_cluster: 13\n",
    "list_kmeans = [0.9177, 0.8705, 0.8935] # TSNE: 73.44, BLOCKS: 56.50, n_cluster: 13\n",
    "list_birch = [0.9217, 0.9024, 0.9120] # TSNE: 73.44, BLOCKS: 0.3483, n_cluster: 15\n",
    "list_DBscan = [0.9442, 0.8477, 0.8934] # TSNE: 73.44, BLOCKS:  0.0280"
   ]
  },
  {
   "cell_type": "code",
   "execution_count": null,
   "metadata": {},
   "outputs": [],
   "source": []
  }
 ],
 "metadata": {
  "kernelspec": {
   "display_name": "Python 3.7.7 64-bit ('thesisEnv': conda)",
   "language": "python",
   "name": "python37764bitthesisenvcondad61bb62be9734ae9b8ba15c07cc7706a"
  },
  "language_info": {
   "codemirror_mode": {
    "name": "ipython",
    "version": 3
   },
   "file_extension": ".py",
   "mimetype": "text/x-python",
   "name": "python",
   "nbconvert_exporter": "python",
   "pygments_lexer": "ipython3",
   "version": "3.7.7"
  },
  "toc": {
   "base_numbering": 1,
   "nav_menu": {},
   "number_sections": true,
   "sideBar": true,
   "skip_h1_title": false,
   "title_cell": "Table of Contents",
   "title_sidebar": "Contents",
   "toc_cell": true,
   "toc_position": {},
   "toc_section_display": true,
   "toc_window_display": false
  },
  "varInspector": {
   "cols": {
    "lenName": 16,
    "lenType": 16,
    "lenVar": 40
   },
   "kernels_config": {
    "python": {
     "delete_cmd_postfix": "",
     "delete_cmd_prefix": "del ",
     "library": "var_list.py",
     "varRefreshCmd": "print(var_dic_list())"
    },
    "r": {
     "delete_cmd_postfix": ") ",
     "delete_cmd_prefix": "rm(",
     "library": "var_list.r",
     "varRefreshCmd": "cat(var_dic_list()) "
    }
   },
   "types_to_exclude": [
    "module",
    "function",
    "builtin_function_or_method",
    "instance",
    "_Feature"
   ],
   "window_display": false
  }
 },
 "nbformat": 4,
 "nbformat_minor": 4
}
