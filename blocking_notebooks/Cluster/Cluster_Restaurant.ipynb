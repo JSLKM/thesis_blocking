{
 "cells": [
  {
   "cell_type": "markdown",
   "metadata": {
    "toc": true
   },
   "source": [
    "<h1>Table of Contents<span class=\"tocSkip\"></span></h1>\n",
    "<div class=\"toc\"><ul class=\"toc-item\"><li><span><a href=\"#Setup\" data-toc-modified-id=\"Setup-1\"><span class=\"toc-item-num\">1&nbsp;&nbsp;</span>Setup</a></span></li><li><span><a href=\"#Import-dataset\" data-toc-modified-id=\"Import-dataset-2\"><span class=\"toc-item-num\">2&nbsp;&nbsp;</span>Import dataset</a></span></li><li><span><a href=\"#Sentence-embedding\" data-toc-modified-id=\"Sentence-embedding-3\"><span class=\"toc-item-num\">3&nbsp;&nbsp;</span>Sentence embedding</a></span><ul class=\"toc-item\"><li><span><a href=\"#Infersent\" data-toc-modified-id=\"Infersent-3.1\"><span class=\"toc-item-num\">3.1&nbsp;&nbsp;</span>Infersent</a></span></li></ul></li><li><span><a href=\"#Dimensionality-reduction\" data-toc-modified-id=\"Dimensionality-reduction-4\"><span class=\"toc-item-num\">4&nbsp;&nbsp;</span>Dimensionality reduction</a></span><ul class=\"toc-item\"><li><span><a href=\"#TSNE\" data-toc-modified-id=\"TSNE-4.1\"><span class=\"toc-item-num\">4.1&nbsp;&nbsp;</span>TSNE</a></span></li></ul></li><li><span><a href=\"#Blocking\" data-toc-modified-id=\"Blocking-5\"><span class=\"toc-item-num\">5&nbsp;&nbsp;</span>Blocking</a></span></li><li><span><a href=\"#Evaluation\" data-toc-modified-id=\"Evaluation-6\"><span class=\"toc-item-num\">6&nbsp;&nbsp;</span>Evaluation</a></span></li><li><span><a href=\"#Results\" data-toc-modified-id=\"Results-7\"><span class=\"toc-item-num\">7&nbsp;&nbsp;</span>Results</a></span></li></ul></div>"
   ]
  },
  {
   "cell_type": "markdown",
   "metadata": {},
   "source": [
    "# Setup "
   ]
  },
  {
   "cell_type": "code",
   "execution_count": 1,
   "metadata": {},
   "outputs": [],
   "source": [
    "import os\n",
    "import sys\n",
    "import time\n",
    "import numpy as np\n",
    "import matplotlib.pyplot as plt\n",
    "\n",
    "module_path = os.path.abspath(os.path.join('../..'))\n",
    "if module_path not in sys.path:\n",
    "    sys.path.append(module_path)\n",
    "    \n",
    "from preprocessing_datasets.preprocessing_utilities import get_labels_by\n",
    "\n",
    "params = {}"
   ]
  },
  {
   "cell_type": "markdown",
   "metadata": {},
   "source": [
    "# Import dataset"
   ]
  },
  {
   "cell_type": "code",
   "execution_count": 2,
   "metadata": {},
   "outputs": [],
   "source": [
    "from preprocessing_datasets.preprocessing_restaurant import clean_restaurant\n",
    "table, pairs = clean_restaurant()"
   ]
  },
  {
   "cell_type": "code",
   "execution_count": 3,
   "metadata": {},
   "outputs": [
    {
     "data": {
      "text/html": [
       "<div>\n",
       "<style scoped>\n",
       "    .dataframe tbody tr th:only-of-type {\n",
       "        vertical-align: middle;\n",
       "    }\n",
       "\n",
       "    .dataframe tbody tr th {\n",
       "        vertical-align: top;\n",
       "    }\n",
       "\n",
       "    .dataframe thead th {\n",
       "        text-align: right;\n",
       "    }\n",
       "</style>\n",
       "<table border=\"1\" class=\"dataframe\">\n",
       "  <thead>\n",
       "    <tr style=\"text-align: right;\">\n",
       "      <th></th>\n",
       "      <th>citruname</th>\n",
       "      <th>addr</th>\n",
       "      <th>city</th>\n",
       "      <th>phone</th>\n",
       "      <th>type</th>\n",
       "    </tr>\n",
       "  </thead>\n",
       "  <tbody>\n",
       "    <tr>\n",
       "      <th>0</th>\n",
       "      <td>arnie morton's of chicago</td>\n",
       "      <td>\"435 s. la cienega blv.\"</td>\n",
       "      <td>\"los angeles\"</td>\n",
       "      <td>\"310/246-1501\"</td>\n",
       "      <td>\"american\"</td>\n",
       "    </tr>\n",
       "    <tr>\n",
       "      <th>1</th>\n",
       "      <td>arnie morton's of chicago</td>\n",
       "      <td>\"435 s. la cienega blvd.\"</td>\n",
       "      <td>\"los angeles\"</td>\n",
       "      <td>\"310-246-1501\"</td>\n",
       "      <td>\"steakhouses\"</td>\n",
       "    </tr>\n",
       "    <tr>\n",
       "      <th>2</th>\n",
       "      <td>art's delicatessen</td>\n",
       "      <td>\"12224 ventura blvd.\"</td>\n",
       "      <td>\"studio city\"</td>\n",
       "      <td>\"818/762-1221\"</td>\n",
       "      <td>\"american\"</td>\n",
       "    </tr>\n",
       "    <tr>\n",
       "      <th>3</th>\n",
       "      <td>art's deli</td>\n",
       "      <td>\"12224 ventura blvd.\"</td>\n",
       "      <td>\"studio city\"</td>\n",
       "      <td>\"818-762-1221\"</td>\n",
       "      <td>\"delis\"</td>\n",
       "    </tr>\n",
       "    <tr>\n",
       "      <th>4</th>\n",
       "      <td>hotel bel-air</td>\n",
       "      <td>\"701 stone canyon rd.\"</td>\n",
       "      <td>\"bel air\"</td>\n",
       "      <td>\"310/472-1211\"</td>\n",
       "      <td>\"californian\"</td>\n",
       "    </tr>\n",
       "    <tr>\n",
       "      <th>...</th>\n",
       "      <td>...</td>\n",
       "      <td>...</td>\n",
       "      <td>...</td>\n",
       "      <td>...</td>\n",
       "      <td>...</td>\n",
       "    </tr>\n",
       "    <tr>\n",
       "      <th>859</th>\n",
       "      <td>ti couz</td>\n",
       "      <td>\"3108 16th st.\"</td>\n",
       "      <td>\"san francisco\"</td>\n",
       "      <td>\"415-252-7373\"</td>\n",
       "      <td>\"french\"</td>\n",
       "    </tr>\n",
       "    <tr>\n",
       "      <th>860</th>\n",
       "      <td>trio cafe</td>\n",
       "      <td>\"1870 fillmore st.\"</td>\n",
       "      <td>\"san francisco\"</td>\n",
       "      <td>\"415-563-2248\"</td>\n",
       "      <td>\"american\"</td>\n",
       "    </tr>\n",
       "    <tr>\n",
       "      <th>861</th>\n",
       "      <td>tu lan</td>\n",
       "      <td>\"8 sixth st.\"</td>\n",
       "      <td>\"san francisco\"</td>\n",
       "      <td>\"415-626-0927\"</td>\n",
       "      <td>\"vietnamese\"</td>\n",
       "    </tr>\n",
       "    <tr>\n",
       "      <th>862</th>\n",
       "      <td>vicolo pizzeria</td>\n",
       "      <td>\"201 ivy st.\"</td>\n",
       "      <td>\"san francisco\"</td>\n",
       "      <td>\"415-863-2382\"</td>\n",
       "      <td>\"pizza\"</td>\n",
       "    </tr>\n",
       "    <tr>\n",
       "      <th>863</th>\n",
       "      <td>wa-ha-ka oaxaca mexican grill</td>\n",
       "      <td>\"2141 polk st.\"</td>\n",
       "      <td>\"san francisco\"</td>\n",
       "      <td>\"415-775-1055\"</td>\n",
       "      <td>\"mexican\"</td>\n",
       "    </tr>\n",
       "  </tbody>\n",
       "</table>\n",
       "<p>864 rows × 5 columns</p>\n",
       "</div>"
      ],
      "text/plain": [
       "                         citruname                       addr  \\\n",
       "0        arnie morton's of chicago   \"435 s. la cienega blv.\"   \n",
       "1        arnie morton's of chicago  \"435 s. la cienega blvd.\"   \n",
       "2               art's delicatessen      \"12224 ventura blvd.\"   \n",
       "3                       art's deli      \"12224 ventura blvd.\"   \n",
       "4                    hotel bel-air     \"701 stone canyon rd.\"   \n",
       "..                             ...                        ...   \n",
       "859                        ti couz            \"3108 16th st.\"   \n",
       "860                      trio cafe        \"1870 fillmore st.\"   \n",
       "861                         tu lan              \"8 sixth st.\"   \n",
       "862                vicolo pizzeria              \"201 ivy st.\"   \n",
       "863  wa-ha-ka oaxaca mexican grill            \"2141 polk st.\"   \n",
       "\n",
       "                city           phone           type  \n",
       "0      \"los angeles\"  \"310/246-1501\"     \"american\"  \n",
       "1      \"los angeles\"  \"310-246-1501\"  \"steakhouses\"  \n",
       "2      \"studio city\"  \"818/762-1221\"     \"american\"  \n",
       "3      \"studio city\"  \"818-762-1221\"        \"delis\"  \n",
       "4          \"bel air\"  \"310/472-1211\"  \"californian\"  \n",
       "..               ...             ...            ...  \n",
       "859  \"san francisco\"  \"415-252-7373\"       \"french\"  \n",
       "860  \"san francisco\"  \"415-563-2248\"     \"american\"  \n",
       "861  \"san francisco\"  \"415-626-0927\"   \"vietnamese\"  \n",
       "862  \"san francisco\"  \"415-863-2382\"        \"pizza\"  \n",
       "863  \"san francisco\"  \"415-775-1055\"      \"mexican\"  \n",
       "\n",
       "[864 rows x 5 columns]"
      ]
     },
     "execution_count": 3,
     "metadata": {},
     "output_type": "execute_result"
    }
   ],
   "source": [
    "table"
   ]
  },
  {
   "cell_type": "markdown",
   "metadata": {},
   "source": [
    "# Sentence embedding"
   ]
  },
  {
   "cell_type": "markdown",
   "metadata": {},
   "source": [
    "## Infersent"
   ]
  },
  {
   "cell_type": "markdown",
   "metadata": {},
   "source": [
    "Setup model"
   ]
  },
  {
   "cell_type": "code",
   "execution_count": 38,
   "metadata": {},
   "outputs": [
    {
     "name": "stdout",
     "output_type": "stream",
     "text": [
      "Vocab size : 2196017\n",
      "TIME: 252.86702632904053\n"
     ]
    }
   ],
   "source": [
    "from embedding_algorithms.inferSent import set_RNN_embedding\n",
    "start = time.time()\n",
    "model_type = \"bilstm\" \n",
    "char_level = False\n",
    "model_version = 2\n",
    "rnn_dim = 2048\n",
    "verbose = 1\n",
    "set_RNN_embedding(model_type, char_level, model_version, rnn_dim, verbose)\n",
    "print(\"TIME: {0}\".format(time.time() - start))\n",
    "\n",
    "params['embedding'] = {\n",
    "    'name': 'Infersent',\n",
    "    'model_type': model_type,\n",
    "    'char_level': char_level,\n",
    "    'model_version': model_version,\n",
    "    'rnn_dim': rnn_dim,\n",
    "    'verbose': verbose\n",
    "}"
   ]
  },
  {
   "cell_type": "markdown",
   "metadata": {},
   "source": [
    "Embedding"
   ]
  },
  {
   "cell_type": "code",
   "execution_count": 63,
   "metadata": {},
   "outputs": [
    {
     "name": "stdout",
     "output_type": "stream",
     "text": [
      "attrs: ['citruname']\n"
     ]
    }
   ],
   "source": [
    "from embedding_algorithms.inferSent import RNN_embedding\n",
    "attr_list = ['citruname']\n",
    "params['attr_list'] = attr_list\n",
    "embeddings_tokens = RNN_embedding(table, attr_list, model_type, char_level)\n",
    "embeddings_tokens = np.array(embeddings_tokens)"
   ]
  },
  {
   "cell_type": "markdown",
   "metadata": {},
   "source": [
    "# Dimensionality reduction"
   ]
  },
  {
   "cell_type": "markdown",
   "metadata": {},
   "source": [
    "## TSNE"
   ]
  },
  {
   "cell_type": "code",
   "execution_count": 64,
   "metadata": {},
   "outputs": [
    {
     "name": "stdout",
     "output_type": "stream",
     "text": [
      "starting dimension: 4096\n",
      "setting TSNE with n_components: 2 & perplexity: 10\n",
      "early_exaggeration: 12\n",
      "TSNE: 14.005852937698364\n"
     ]
    }
   ],
   "source": [
    "from dimensionality_reduction_algorithms.tsne import tsne_dim_reduction\n",
    "\n",
    "start = time.time()\n",
    "tsne_embeddings = tsne_dim_reduction(\n",
    "    embeddings_tokens, \n",
    "    num_components=2,\n",
    "    early_exaggeration=12,\n",
    "    verbose=1,\n",
    "    perplexity=10,\n",
    "    method=\"barnes_hut\")\n",
    "print(\"TSNE: {0}\".format(time.time() - start))\n",
    "\n",
    "params['reduction'] = {\n",
    "    'name': 'TSNE',\n",
    "    'num_components': 2,\n",
    "    'early_exaggeration': 12,\n",
    "    'verbose': 1,\n",
    "    'perplexity': 10,\n",
    "    'method': \"barnes_hut\"\n",
    "}"
   ]
  },
  {
   "cell_type": "markdown",
   "metadata": {},
   "source": [
    "# Blocking"
   ]
  },
  {
   "cell_type": "code",
   "execution_count": 76,
   "metadata": {},
   "outputs": [
    {
     "name": "stdout",
     "output_type": "stream",
     "text": [
      "clustering with NUM_CLUSTERS = 75, distance_algorithm = <function euclidean_distance at 0x7f7fea94d680>\n",
      "BLOCKS: 97.77153301239014\n"
     ]
    }
   ],
   "source": [
    "from cluster_algorithms.kMeans_cluster import kMean_cluster\n",
    "num_clusters = 75\n",
    "\n",
    "start = time.time()\n",
    "blocks = kMean_cluster(tsne_embeddings, {'num_clusters': num_clusters, 'distance_algorithm': 'euclidean'})\n",
    "print(\"BLOCKS: {0}\".format(time.time() - start))\n",
    "\n",
    "params['blocking'] = {\n",
    "    'name': 'k_means',\n",
    "    'num_clusters': num_clusters\n",
    "}"
   ]
  },
  {
   "cell_type": "code",
   "execution_count": 83,
   "metadata": {},
   "outputs": [
    {
     "name": "stdout",
     "output_type": "stream",
     "text": [
      "clustering with NUM_CLUSTERS = 80, \n",
      "BLOCKS: 0.09139490127563477\n"
     ]
    }
   ],
   "source": [
    "from cluster_algorithms.birch_cluster import birch_cluster\n",
    "num_clusters = 80\n",
    "\n",
    "start = time.time()\n",
    "blocks = birch_cluster(tsne_embeddings, {'num_clusters': num_clusters})\n",
    "print(\"BLOCKS: {0}\".format(time.time() - start))\n",
    "\n",
    "params['blocking'] = {\n",
    "    'name': 'birch_cluster',\n",
    "    'num_clusters': num_clusters\n",
    "}"
   ]
  },
  {
   "cell_type": "code",
   "execution_count": 93,
   "metadata": {},
   "outputs": [
    {
     "name": "stdout",
     "output_type": "stream",
     "text": [
      "DBScan_cluster\n",
      "BLOCKS: 0.00858306884765625\n"
     ]
    }
   ],
   "source": [
    "from cluster_algorithms.DBScan_cluster import DBSCAN_cluster\n",
    "eps = 7\n",
    "min_samples = 2\n",
    "\n",
    "start = time.time()\n",
    "blocks = DBSCAN_cluster(tsne_embeddings, {'eps':eps, 'min_samples':min_samples})\n",
    "print(\"BLOCKS: {0}\".format(time.time() - start))\n",
    "\n",
    "params['blocking'] = {\n",
    "    'name': 'DBScan',\n",
    "    'eps': eps,\n",
    "    'min_samples': min_samples\n",
    "}"
   ]
  },
  {
   "cell_type": "code",
   "execution_count": 65,
   "metadata": {},
   "outputs": [
    {
     "name": "stdout",
     "output_type": "stream",
     "text": [
      "clustering with NUM_CLUSTERS = 56, \n",
      "BLOCKS: 0.028515100479125977\n"
     ]
    }
   ],
   "source": [
    "from cluster_algorithms.hierarchy_cluster import hierarchy_cluster\n",
    "num_clusters = 56\n",
    "\n",
    "\n",
    "start = time.time()\n",
    "blocks = hierarchy_cluster(tsne_embeddings, {'num_clusters': num_clusters})\n",
    "print(\"BLOCKS: {0}\".format(time.time() - start))\n",
    "params['blocking'] = {\n",
    "    'name': 'hierarchy',\n",
    "    'num_clusters': num_clusters\n",
    "}"
   ]
  },
  {
   "cell_type": "markdown",
   "metadata": {},
   "source": [
    "# Evaluation"
   ]
  },
  {
   "cell_type": "code",
   "execution_count": 77,
   "metadata": {},
   "outputs": [
    {
     "name": "stdout",
     "output_type": "stream",
     "text": [
      "(RR) Reduction ratio is: 0.9858294708381614\n",
      "(PC) Pair completeness is: 0.9196428571428571\n",
      "(RM) Reference metric (Harmonic mean RR and PC) is: 0.9515866674147461\n",
      "(PQ) Pair quality - Precision is: 0.019496498201779292\n",
      "(FM) Fmeasure is: 0.038183503243744206\n",
      "\n",
      "['citruname']\n",
      "{'name': 'Infersent', 'model_type': 'bilstm', 'char_level': False, 'model_version': 2, 'rnn_dim': 2048, 'verbose': 1}\n",
      "{'name': 'TSNE', 'num_components': 2, 'early_exaggeration': 12, 'verbose': 1, 'perplexity': 10, 'method': 'barnes_hut'}\n",
      "{'name': 'k_means', 'num_clusters': 75}\n"
     ]
    }
   ],
   "source": [
    "from evaluation import calc_index\n",
    "calc_index(blocks,table,pairs)\n",
    "print()\n",
    "print(params['attr_list'])\n",
    "print(params['embedding'])\n",
    "print(params['reduction'])\n",
    "print(params['blocking'])"
   ]
  },
  {
   "cell_type": "code",
   "execution_count": 84,
   "metadata": {},
   "outputs": [
    {
     "name": "stdout",
     "output_type": "stream",
     "text": [
      "(RR) Reduction ratio is: 0.9831203596412171\n",
      "(PC) Pair completeness is: 0.9464285714285714\n",
      "(RM) Reference metric (Harmonic mean RR and PC) is: 0.9644256049020895\n",
      "(PQ) Pair quality - Precision is: 0.016844112505959002\n",
      "(FM) Fmeasure is: 0.03309914129586261\n",
      "\n",
      "['citruname']\n",
      "{'name': 'Infersent', 'model_type': 'bilstm', 'char_level': False, 'model_version': 2, 'rnn_dim': 2048, 'verbose': 1}\n",
      "{'name': 'TSNE', 'num_components': 2, 'early_exaggeration': 12, 'verbose': 1, 'perplexity': 10, 'method': 'barnes_hut'}\n",
      "{'name': 'birch_cluster', 'num_clusters': 80}\n"
     ]
    }
   ],
   "source": [
    "from evaluation import calc_index\n",
    "calc_index(blocks,table,pairs)\n",
    "print()\n",
    "print(params['attr_list'])\n",
    "print(params['embedding'])\n",
    "print(params['reduction'])\n",
    "print(params['blocking'])"
   ]
  },
  {
   "cell_type": "code",
   "execution_count": 94,
   "metadata": {},
   "outputs": [
    {
     "name": "stdout",
     "output_type": "stream",
     "text": [
      "(RR) Reduction ratio is: 0.9859689498304793\n",
      "(PC) Pair completeness is: 0.9464285714285714\n",
      "(RM) Reference metric (Harmonic mean RR and PC) is: 0.9657942264933123\n",
      "(PQ) Pair quality - Precision is: 0.020263811890651882\n",
      "(FM) Fmeasure is: 0.03967808347370391\n",
      "\n",
      "['citruname']\n",
      "{'name': 'Infersent', 'model_type': 'bilstm', 'char_level': False, 'model_version': 2, 'rnn_dim': 2048, 'verbose': 1}\n",
      "{'name': 'TSNE', 'num_components': 2, 'early_exaggeration': 12, 'verbose': 1, 'perplexity': 10, 'method': 'barnes_hut'}\n",
      "{'name': 'DBScan', 'eps': 7, 'min_samples': 2}\n"
     ]
    }
   ],
   "source": [
    "from evaluation import calc_index\n",
    "calc_index(blocks,table,pairs)\n",
    "print()\n",
    "print(params['attr_list'])\n",
    "print(params['embedding'])\n",
    "print(params['reduction'])\n",
    "print(params['blocking'])"
   ]
  },
  {
   "cell_type": "code",
   "execution_count": 66,
   "metadata": {},
   "outputs": [
    {
     "name": "stdout",
     "output_type": "stream",
     "text": [
      "(RR) Reduction ratio is: 0.9804541650572937\n",
      "(PC) Pair completeness is: 0.9464285714285714\n",
      "(RM) Reference metric (Harmonic mean RR and PC) is: 0.963140950111651\n",
      "(PQ) Pair quality - Precision is: 0.014546452586798408\n",
      "(FM) Fmeasure is: 0.02865252061089336\n",
      "\n",
      "['citruname']\n",
      "{'name': 'Infersent', 'model_type': 'bilstm', 'char_level': False, 'model_version': 2, 'rnn_dim': 2048, 'verbose': 1}\n",
      "{'name': 'TSNE', 'num_components': 2, 'early_exaggeration': 12, 'verbose': 1, 'perplexity': 10, 'method': 'barnes_hut'}\n",
      "{'name': 'hierarchy', 'num_clusters': 56}\n"
     ]
    }
   ],
   "source": [
    "from evaluation import calc_index\n",
    "calc_index(blocks,table,pairs)\n",
    "print()\n",
    "print(params['attr_list'])\n",
    "print(params['embedding'])\n",
    "print(params['reduction'])\n",
    "print(params['blocking'])"
   ]
  },
  {
   "cell_type": "code",
   "execution_count": 82,
   "metadata": {},
   "outputs": [
    {
     "name": "stdout",
     "output_type": "stream",
     "text": [
      "clustering with NUM_CLUSTERS = 50, \n",
      "(RR) Reduction ratio is: 0.9741186000600832\n",
      "(PC) Pair completeness is: 0.9464285714285714\n",
      "(RM) Reference metric (Harmonic mean RR and PC) is: 0.9600739713591675\n",
      "(PQ) Pair quality - Precision is: 0.010985594362110064\n",
      "(FM) Fmeasure is: 0.021719086159205\n",
      "clustering with NUM_CLUSTERS = 51, \n",
      "(RR) Reduction ratio is: 0.9745719067851165\n",
      "(PC) Pair completeness is: 0.9464285714285714\n",
      "(RM) Reference metric (Harmonic mean RR and PC) is: 0.9602940842063185\n",
      "(PQ) Pair quality - Precision is: 0.011181434599156118\n",
      "(FM) Fmeasure is: 0.022101751459549627\n",
      "clustering with NUM_CLUSTERS = 52, \n",
      "(RR) Reduction ratio is: 0.9749098751126561\n",
      "(PC) Pair completeness is: 0.9464285714285714\n",
      "(RM) Reference metric (Harmonic mean RR and PC) is: 0.9604581244241286\n",
      "(PQ) Pair quality - Precision is: 0.011332050459696387\n",
      "(FM) Fmeasure is: 0.0223959433762941\n",
      "clustering with NUM_CLUSTERS = 53, \n",
      "(RR) Reduction ratio is: 0.9764548731814086\n",
      "(PC) Pair completeness is: 0.9464285714285714\n",
      "(RM) Reference metric (Harmonic mean RR and PC) is: 0.9612072882316508\n",
      "(PQ) Pair quality - Precision is: 0.012075643654591022\n",
      "(FM) Fmeasure is: 0.023847019122609673\n",
      "clustering with NUM_CLUSTERS = 54, \n",
      "(RR) Reduction ratio is: 0.9772917471353161\n",
      "(PC) Pair completeness is: 0.9464285714285714\n",
      "(RM) Reference metric (Harmonic mean RR and PC) is: 0.96161258285269\n",
      "(PQ) Pair quality - Precision is: 0.012520670918969998\n",
      "(FM) Fmeasure is: 0.02471438563767778\n",
      "clustering with NUM_CLUSTERS = 55, \n",
      "(RR) Reduction ratio is: 0.9775707051199519\n",
      "(PC) Pair completeness is: 0.9464285714285714\n",
      "(RM) Reference metric (Harmonic mean RR and PC) is: 0.961747602708897\n",
      "(PQ) Pair quality - Precision is: 0.012676393207366658\n",
      "(FM) Fmeasure is: 0.02501770120368185\n",
      "clustering with NUM_CLUSTERS = 56, \n",
      "(RR) Reduction ratio is: 0.977777241320115\n",
      "(PC) Pair completeness is: 0.9464285714285714\n",
      "(RM) Reference metric (Harmonic mean RR and PC) is: 0.9618475441107387\n",
      "(PQ) Pair quality - Precision is: 0.012794206397103198\n",
      "(FM) Fmeasure is: 0.02524711206383232\n",
      "clustering with NUM_CLUSTERS = 57, \n",
      "(RR) Reduction ratio is: 0.9780776576112613\n",
      "(PC) Pair completeness is: 0.9464285714285714\n",
      "(RM) Reference metric (Harmonic mean RR and PC) is: 0.9619928751293951\n",
      "(PQ) Pair quality - Precision is: 0.012969533830906644\n",
      "(FM) Fmeasure is: 0.0255884127942064\n",
      "clustering with NUM_CLUSTERS = 58, \n",
      "(RR) Reduction ratio is: 0.9782225011802068\n",
      "(PC) Pair completeness is: 0.9464285714285714\n",
      "(RM) Reference metric (Harmonic mean RR and PC) is: 0.9620629292314921\n",
      "(PQ) Pair quality - Precision is: 0.013055795048651312\n",
      "(FM) Fmeasure is: 0.025756287206900746\n",
      "clustering with NUM_CLUSTERS = 59, \n",
      "(RR) Reduction ratio is: 0.9784800008583323\n",
      "(PC) Pair completeness is: 0.9464285714285714\n",
      "(RM) Reference metric (Harmonic mean RR and PC) is: 0.9621874438260346\n",
      "(PQ) Pair quality - Precision is: 0.01321201545556525\n",
      "(FM) Fmeasure is: 0.026060233558696987\n",
      "clustering with NUM_CLUSTERS = 60, \n",
      "(RR) Reduction ratio is: 0.9786114329857087\n",
      "(PC) Pair completeness is: 0.9464285714285714\n",
      "(RM) Reference metric (Harmonic mean RR and PC) is: 0.9622509853099247\n",
      "(PQ) Pair quality - Precision is: 0.013293202909455732\n",
      "(FM) Fmeasure is: 0.02621815483551818\n",
      "clustering with NUM_CLUSTERS = 61, \n",
      "(RR) Reduction ratio is: 0.9789950002145831\n",
      "(PC) Pair completeness is: 0.9464285714285714\n",
      "(RM) Reference metric (Harmonic mean RR and PC) is: 0.9624363731021388\n",
      "(PQ) Pair quality - Precision is: 0.013535946877793385\n",
      "(FM) Fmeasure is: 0.026690167443031602\n",
      "clustering with NUM_CLUSTERS = 62, \n",
      "(RR) Reduction ratio is: 0.9794134371915368\n",
      "(PC) Pair completeness is: 0.9464285714285714\n",
      "(RM) Reference metric (Harmonic mean RR and PC) is: 0.9626385301079827\n",
      "(PQ) Pair quality - Precision is: 0.013811074918566776\n",
      "(FM) Fmeasure is: 0.02722486194940285\n",
      "clustering with NUM_CLUSTERS = 63, \n",
      "(RR) Reduction ratio is: 0.9795743744903652\n",
      "(PC) Pair completeness is: 0.9464285714285714\n",
      "(RM) Reference metric (Harmonic mean RR and PC) is: 0.962716259413212\n",
      "(PQ) Pair quality - Precision is: 0.0139198949441891\n",
      "(FM) Fmeasure is: 0.02743626245632199\n",
      "clustering with NUM_CLUSTERS = 64, \n",
      "(RR) Reduction ratio is: 0.9799311188361015\n",
      "(PC) Pair completeness is: 0.9464285714285714\n",
      "(RM) Reference metric (Harmonic mean RR and PC) is: 0.9628885130699842\n",
      "(PQ) Pair quality - Precision is: 0.014167334937182571\n",
      "(FM) Fmeasure is: 0.027916776402422964\n",
      "clustering with NUM_CLUSTERS = 65, \n",
      "(RR) Reduction ratio is: 0.9805239045534526\n",
      "(PC) Pair completeness is: 0.9464285714285714\n",
      "(RM) Reference metric (Harmonic mean RR and PC) is: 0.9631745980296258\n",
      "(PQ) Pair quality - Precision is: 0.014598540145985401\n",
      "(FM) Fmeasure is: 0.0287535602875356\n",
      "clustering with NUM_CLUSTERS = 66, \n",
      "(RR) Reduction ratio is: 0.9806419252392601\n",
      "(PC) Pair completeness is: 0.9464285714285714\n",
      "(RM) Reference metric (Harmonic mean RR and PC) is: 0.9632315351119555\n",
      "(PQ) Pair quality - Precision is: 0.01468754330054039\n",
      "(FM) Fmeasure is: 0.02892618365397735\n",
      "clustering with NUM_CLUSTERS = 67, \n",
      "(RR) Reduction ratio is: 0.9807921333848333\n",
      "(PC) Pair completeness is: 0.9464285714285714\n",
      "(RM) Reference metric (Harmonic mean RR and PC) is: 0.9633039904038003\n",
      "(PQ) Pair quality - Precision is: 0.014802401899176093\n",
      "(FM) Fmeasure is: 0.02914890691599065\n",
      "clustering with NUM_CLUSTERS = 68, \n",
      "(RR) Reduction ratio is: 0.9812212995150422\n",
      "(PC) Pair completeness is: 0.9464285714285714\n",
      "(RM) Reference metric (Harmonic mean RR and PC) is: 0.9635109433029109\n",
      "(PQ) Pair quality - Precision is: 0.01514069418654478\n",
      "(FM) Fmeasure is: 0.029804583157598763\n",
      "clustering with NUM_CLUSTERS = 69, \n",
      "(RR) Reduction ratio is: 0.9813715076606154\n",
      "(PC) Pair completeness is: 0.9464285714285714\n",
      "(RM) Reference metric (Harmonic mean RR and PC) is: 0.9635833550486851\n",
      "(PQ) Pair quality - Precision is: 0.015262778977681786\n",
      "(FM) Fmeasure is: 0.030041093949270226\n",
      "clustering with NUM_CLUSTERS = 70, \n",
      "(RR) Reduction ratio is: 0.9814787991931677\n",
      "(PC) Pair completeness is: 0.9464285714285714\n",
      "(RM) Reference metric (Harmonic mean RR and PC) is: 0.963635070815933\n",
      "(PQ) Pair quality - Precision is: 0.015351194786386677\n",
      "(FM) Fmeasure is: 0.030212341456462875\n",
      "clustering with NUM_CLUSTERS = 71, \n",
      "(RR) Reduction ratio is: 0.9815190335178747\n",
      "(PC) Pair completeness is: 0.9464285714285714\n",
      "(RM) Reference metric (Harmonic mean RR and PC) is: 0.9636544627446739\n",
      "(PQ) Pair quality - Precision is: 0.015384615384615385\n",
      "(FM) Fmeasure is: 0.030277063696086837\n",
      "clustering with NUM_CLUSTERS = 72, \n",
      "(RR) Reduction ratio is: 0.9816585125101926\n",
      "(PC) Pair completeness is: 0.9464285714285714\n",
      "(RM) Reference metric (Harmonic mean RR and PC) is: 0.9637216818316959\n",
      "(PQ) Pair quality - Precision is: 0.015501608657502193\n",
      "(FM) Fmeasure is: 0.03050359712230216\n",
      "clustering with NUM_CLUSTERS = 73, \n",
      "(RR) Reduction ratio is: 0.9818274966739625\n",
      "(PC) Pair completeness is: 0.9464285714285714\n",
      "(RM) Reference metric (Harmonic mean RR and PC) is: 0.9638031073132528\n",
      "(PQ) Pair quality - Precision is: 0.015645756457564577\n",
      "(FM) Fmeasure is: 0.030782633948018005\n",
      "clustering with NUM_CLUSTERS = 74, \n",
      "(RR) Reduction ratio is: 0.982068902622205\n",
      "(PC) Pair completeness is: 0.9464285714285714\n",
      "(RM) Reference metric (Harmonic mean RR and PC) is: 0.9639194046760634\n",
      "(PQ) Pair quality - Precision is: 0.01585639491398654\n",
      "(FM) Fmeasure is: 0.031190230984257765\n",
      "clustering with NUM_CLUSTERS = 75, \n",
      "(RR) Reduction ratio is: 0.9822754388223681\n",
      "(PC) Pair completeness is: 0.9464285714285714\n",
      "(RM) Reference metric (Harmonic mean RR and PC) is: 0.9640188804222705\n",
      "(PQ) Pair quality - Precision is: 0.016041162227602906\n",
      "(FM) Fmeasure is: 0.031547619047619054\n",
      "clustering with NUM_CLUSTERS = 76, \n",
      "(RR) Reduction ratio is: 0.9824256469679413\n",
      "(PC) Pair completeness is: 0.9464285714285714\n",
      "(RM) Reference metric (Harmonic mean RR and PC) is: 0.9640912130390162\n",
      "(PQ) Pair quality - Precision is: 0.01617826617826618\n",
      "(FM) Fmeasure is: 0.03181272509003602\n",
      "clustering with NUM_CLUSTERS = 77, \n",
      "(RR) Reduction ratio is: 0.9825946311317111\n",
      "(PC) Pair completeness is: 0.9464285714285714\n",
      "(RM) Reference metric (Harmonic mean RR and PC) is: 0.9641725737680007\n",
      "(PQ) Pair quality - Precision is: 0.01633533672368624\n",
      "(FM) Fmeasure is: 0.03211634600818058\n",
      "clustering with NUM_CLUSTERS = 78, \n",
      "(RR) Reduction ratio is: 0.9827448392772843\n",
      "(PC) Pair completeness is: 0.9464285714285714\n",
      "(RM) Reference metric (Harmonic mean RR and PC) is: 0.9642448824501394\n",
      "(PQ) Pair quality - Precision is: 0.01647753769625369\n",
      "(FM) Fmeasure is: 0.03239113827349121\n",
      "clustering with NUM_CLUSTERS = 79, \n"
     ]
    },
    {
     "name": "stdout",
     "output_type": "stream",
     "text": [
      "(RR) Reduction ratio is: 0.9830398909918029\n",
      "(PC) Pair completeness is: 0.9464285714285714\n",
      "(RM) Reference metric (Harmonic mean RR and PC) is: 0.9643868845843502\n",
      "(PQ) Pair quality - Precision is: 0.016764194211608414\n",
      "(FM) Fmeasure is: 0.03294483294483294\n"
     ]
    }
   ],
   "source": [
    "for i in range(50,80,1):\n",
    "    num_clusters = int(i)\n",
    "    blocks = birch_cluster(tsne_embeddings, {'num_clusters': num_clusters})\n",
    "    calc_index(blocks,table,pairs)"
   ]
  },
  {
   "cell_type": "code",
   "execution_count": 92,
   "metadata": {},
   "outputs": [
    {
     "name": "stdout",
     "output_type": "stream",
     "text": [
      "5\n",
      "DBScan_cluster\n",
      "(RR) Reduction ratio is: 0.9772300545040985\n",
      "(PC) Pair completeness is: 0.9196428571428571\n",
      "(RM) Reference metric (Harmonic mean RR and PC) is: 0.947562310465726\n",
      "(PQ) Pair quality - Precision is: 0.012133349039934032\n",
      "(FM) Fmeasure is: 0.02395070340658063\n",
      "6\n",
      "DBScan_cluster\n",
      "(RR) Reduction ratio is: 0.9861272048409939\n",
      "(PC) Pair completeness is: 0.9196428571428571\n",
      "(RM) Reference metric (Harmonic mean RR and PC) is: 0.9517253505622084\n",
      "(PQ) Pair quality - Precision is: 0.01991492652745553\n",
      "(FM) Fmeasure is: 0.03898561695685087\n",
      "7\n",
      "DBScan_cluster\n",
      "(RR) Reduction ratio is: 0.9859689498304793\n",
      "(PC) Pair completeness is: 0.9464285714285714\n",
      "(RM) Reference metric (Harmonic mean RR and PC) is: 0.9657942264933123\n",
      "(PQ) Pair quality - Precision is: 0.020263811890651882\n",
      "(FM) Fmeasure is: 0.03967808347370391\n",
      "8\n",
      "DBScan_cluster\n",
      "(RR) Reduction ratio is: 0.9776350800394833\n",
      "(PC) Pair completeness is: 0.9464285714285714\n",
      "(RM) Reference metric (Harmonic mean RR and PC) is: 0.9617787555772942\n",
      "(PQ) Pair quality - Precision is: 0.012712880786759414\n",
      "(FM) Fmeasure is: 0.025088757396449706\n",
      "9\n",
      "DBScan_cluster\n",
      "(RR) Reduction ratio is: 0.9607447105274451\n",
      "(PC) Pair completeness is: 0.9464285714285714\n",
      "(RM) Reference metric (Harmonic mean RR and PC) is: 0.9535329091434033\n",
      "(PQ) Pair quality - Precision is: 0.0072429108302015715\n",
      "(FM) Fmeasure is: 0.014375805248525123\n"
     ]
    }
   ],
   "source": [
    "for i in range(5,10,1):\n",
    "    eps = int(i)\n",
    "    min_samples = 2\n",
    "    print(eps)\n",
    "    blocks = DBSCAN_cluster(tsne_embeddings, {'eps':eps, 'min_samples':min_samples})\n",
    "    calc_index(blocks,table,pairs)"
   ]
  },
  {
   "cell_type": "markdown",
   "metadata": {},
   "source": [
    "# Results"
   ]
  },
  {
   "cell_type": "code",
   "execution_count": 78,
   "metadata": {},
   "outputs": [],
   "source": [
    "# Restaurant\n",
    "# RR PC alpha\n",
    "list_embedding = [0.9432, 0.9792, 0.9608]\n",
    "\n",
    "# attrs: ['citruname']\n",
    "list_clustering = [0.9790, 0.9464, 0.9624] # TSNE: 18.875, BLOCKS: 0.0285, n_cluster: 56 \n",
    "list_kmeans = [0.9858, 0.9196, 0.9515] # TSNE: 18.875, BLOCKS: 97.771, n_cluster: 75 \n",
    "list_birch = [0.9831, 0.9464, 0.9644] # TSNE: 18.875, BLOCKS: 0.0913, n_cluster: 80 \n",
    "list_DBscan = [0.9859, 0.9464, 0.9657] # TSNE: 18.875, BLOCKS: 0.00858"
   ]
  },
  {
   "cell_type": "code",
   "execution_count": null,
   "metadata": {},
   "outputs": [],
   "source": []
  }
 ],
 "metadata": {
  "kernelspec": {
   "display_name": "Python 3.7.7 64-bit ('thesisEnv': conda)",
   "language": "python",
   "name": "python37764bitthesisenvcondad61bb62be9734ae9b8ba15c07cc7706a"
  },
  "language_info": {
   "codemirror_mode": {
    "name": "ipython",
    "version": 3
   },
   "file_extension": ".py",
   "mimetype": "text/x-python",
   "name": "python",
   "nbconvert_exporter": "python",
   "pygments_lexer": "ipython3",
   "version": "3.7.7"
  },
  "toc": {
   "base_numbering": 1,
   "nav_menu": {},
   "number_sections": true,
   "sideBar": true,
   "skip_h1_title": false,
   "title_cell": "Table of Contents",
   "title_sidebar": "Contents",
   "toc_cell": true,
   "toc_position": {},
   "toc_section_display": true,
   "toc_window_display": false
  },
  "varInspector": {
   "cols": {
    "lenName": 16,
    "lenType": 16,
    "lenVar": 40
   },
   "kernels_config": {
    "python": {
     "delete_cmd_postfix": "",
     "delete_cmd_prefix": "del ",
     "library": "var_list.py",
     "varRefreshCmd": "print(var_dic_list())"
    },
    "r": {
     "delete_cmd_postfix": ") ",
     "delete_cmd_prefix": "rm(",
     "library": "var_list.r",
     "varRefreshCmd": "cat(var_dic_list()) "
    }
   },
   "types_to_exclude": [
    "module",
    "function",
    "builtin_function_or_method",
    "instance",
    "_Feature"
   ],
   "window_display": false
  }
 },
 "nbformat": 4,
 "nbformat_minor": 4
}
