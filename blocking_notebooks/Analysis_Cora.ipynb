{
 "cells": [
  {
   "cell_type": "markdown",
   "metadata": {
    "toc": true
   },
   "source": [
    "<h1>Table of Contents<span class=\"tocSkip\"></span></h1>\n",
    "<div class=\"toc\"><ul class=\"toc-item\"><li><span><a href=\"#Setup\" data-toc-modified-id=\"Setup-1\"><span class=\"toc-item-num\">1&nbsp;&nbsp;</span>Setup</a></span></li><li><span><a href=\"#Import-dataset\" data-toc-modified-id=\"Import-dataset-2\"><span class=\"toc-item-num\">2&nbsp;&nbsp;</span>Import dataset</a></span></li><li><span><a href=\"#Sentence-embedding\" data-toc-modified-id=\"Sentence-embedding-3\"><span class=\"toc-item-num\">3&nbsp;&nbsp;</span>Sentence embedding</a></span><ul class=\"toc-item\"><li><span><a href=\"#Infersent\" data-toc-modified-id=\"Infersent-3.1\"><span class=\"toc-item-num\">3.1&nbsp;&nbsp;</span>Infersent</a></span></li></ul></li><li><span><a href=\"#Dimensionality-reduction\" data-toc-modified-id=\"Dimensionality-reduction-4\"><span class=\"toc-item-num\">4&nbsp;&nbsp;</span>Dimensionality reduction</a></span><ul class=\"toc-item\"><li><span><a href=\"#TSNE\" data-toc-modified-id=\"TSNE-4.1\"><span class=\"toc-item-num\">4.1&nbsp;&nbsp;</span>TSNE</a></span></li></ul></li><li><span><a href=\"#Blocking\" data-toc-modified-id=\"Blocking-5\"><span class=\"toc-item-num\">5&nbsp;&nbsp;</span>Blocking</a></span></li><li><span><a href=\"#Evaluation\" data-toc-modified-id=\"Evaluation-6\"><span class=\"toc-item-num\">6&nbsp;&nbsp;</span>Evaluation</a></span><ul class=\"toc-item\"><li><span><a href=\"#bilstm,-rnn_dim-2048\" data-toc-modified-id=\"bilstm,-rnn_dim-2048-6.1\"><span class=\"toc-item-num\">6.1&nbsp;&nbsp;</span>bilstm, rnn_dim 2048</a></span></li><li><span><a href=\"#bilstrm,-rnn_dim:-1024\" data-toc-modified-id=\"bilstrm,-rnn_dim:-1024-6.2\"><span class=\"toc-item-num\">6.2&nbsp;&nbsp;</span>bilstrm, rnn_dim: 1024</a></span></li><li><span><a href=\"#bilstm,-rnn_dim:-300\" data-toc-modified-id=\"bilstm,-rnn_dim:-300-6.3\"><span class=\"toc-item-num\">6.3&nbsp;&nbsp;</span>bilstm, rnn_dim: 300</a></span></li><li><span><a href=\"#lstm,-rnn_dim:-2048\" data-toc-modified-id=\"lstm,-rnn_dim:-2048-6.4\"><span class=\"toc-item-num\">6.4&nbsp;&nbsp;</span>lstm, rnn_dim: 2048</a></span></li><li><span><a href=\"#lstm,-rnn_dim:-1024\" data-toc-modified-id=\"lstm,-rnn_dim:-1024-6.5\"><span class=\"toc-item-num\">6.5&nbsp;&nbsp;</span>lstm, rnn_dim: 1024</a></span></li><li><span><a href=\"#lstm,-rnn_dim:-300\" data-toc-modified-id=\"lstm,-rnn_dim:-300-6.6\"><span class=\"toc-item-num\">6.6&nbsp;&nbsp;</span>lstm, rnn_dim: 300</a></span></li><li><span><a href=\"#Searching\" data-toc-modified-id=\"Searching-6.7\"><span class=\"toc-item-num\">6.7&nbsp;&nbsp;</span>Searching</a></span></li></ul></li><li><span><a href=\"#Best\" data-toc-modified-id=\"Best-7\"><span class=\"toc-item-num\">7&nbsp;&nbsp;</span>Best</a></span></li></ul></div>"
   ]
  },
  {
   "cell_type": "markdown",
   "metadata": {},
   "source": [
    "# Setup "
   ]
  },
  {
   "cell_type": "code",
   "execution_count": 1,
   "metadata": {},
   "outputs": [],
   "source": [
    "import os\n",
    "import sys\n",
    "import time\n",
    "import numpy as np\n",
    "import matplotlib.pyplot as plt\n",
    "\n",
    "module_path = os.path.abspath(os.path.join('..'))\n",
    "if module_path not in sys.path:\n",
    "    sys.path.append(module_path)\n",
    "    \n",
    "from preprocessing_datasets.preprocessing_utilities import get_labels_by\n",
    "\n",
    "params = {}"
   ]
  },
  {
   "cell_type": "markdown",
   "metadata": {},
   "source": [
    "# Import dataset"
   ]
  },
  {
   "cell_type": "code",
   "execution_count": 2,
   "metadata": {},
   "outputs": [],
   "source": [
    "from preprocessing_datasets.preprocessing_cora import clean_cora\n",
    "table, pairs = clean_cora()"
   ]
  },
  {
   "cell_type": "code",
   "execution_count": 3,
   "metadata": {},
   "outputs": [
    {
     "data": {
      "text/html": [
       "<div>\n",
       "<style scoped>\n",
       "    .dataframe tbody tr th:only-of-type {\n",
       "        vertical-align: middle;\n",
       "    }\n",
       "\n",
       "    .dataframe tbody tr th {\n",
       "        vertical-align: top;\n",
       "    }\n",
       "\n",
       "    .dataframe thead th {\n",
       "        text-align: right;\n",
       "    }\n",
       "</style>\n",
       "<table border=\"1\" class=\"dataframe\">\n",
       "  <thead>\n",
       "    <tr style=\"text-align: right;\">\n",
       "      <th></th>\n",
       "      <th>author</th>\n",
       "      <th>volume</th>\n",
       "      <th>title</th>\n",
       "      <th>institution</th>\n",
       "      <th>venue</th>\n",
       "      <th>address</th>\n",
       "      <th>publisher</th>\n",
       "      <th>year</th>\n",
       "      <th>pages</th>\n",
       "      <th>editor</th>\n",
       "      <th>note</th>\n",
       "      <th>month</th>\n",
       "    </tr>\n",
       "  </thead>\n",
       "  <tbody>\n",
       "    <tr>\n",
       "      <th>0</th>\n",
       "      <td>p. auer, n. cesa-bianchi, y. freund, and r. e....</td>\n",
       "      <td>unk</td>\n",
       "      <td>'gambling in a rigged casino: the adversarial ...</td>\n",
       "      <td>unk</td>\n",
       "      <td>in proc. 36th annual symposium on foundations ...</td>\n",
       "      <td>los alamitos, ca:,</td>\n",
       "      <td>ieee computer society press,,</td>\n",
       "      <td>1995,,</td>\n",
       "      <td>pp. 322-331.,</td>\n",
       "      <td>unk</td>\n",
       "      <td>unk</td>\n",
       "      <td>unk</td>\n",
       "    </tr>\n",
       "    <tr>\n",
       "      <th>1</th>\n",
       "      <td>a. blum, m. furst, m. j. kearns, and richard j...</td>\n",
       "      <td>unk</td>\n",
       "      <td>cryptographic primitives based on hard learnin...</td>\n",
       "      <td>unk</td>\n",
       "      <td>in pre-proceedings of crypto '93,,</td>\n",
       "      <td>unk</td>\n",
       "      <td>unk</td>\n",
       "      <td>1993.,</td>\n",
       "      <td>pages 24.1-24.10,,</td>\n",
       "      <td>unk</td>\n",
       "      <td>unk</td>\n",
       "      <td>unk</td>\n",
       "    </tr>\n",
       "    <tr>\n",
       "      <th>2</th>\n",
       "      <td>avrim blum, merrick furst, michael kearns, and...</td>\n",
       "      <td>unk</td>\n",
       "      <td>cryptographic primitives based on hard learnin...</td>\n",
       "      <td>unk</td>\n",
       "      <td>in pre-proceedings of crypto '93,,</td>\n",
       "      <td>unk</td>\n",
       "      <td>unk</td>\n",
       "      <td>1993.,</td>\n",
       "      <td>pages 24.1-24.10,,</td>\n",
       "      <td>unk</td>\n",
       "      <td>unk</td>\n",
       "      <td>unk</td>\n",
       "    </tr>\n",
       "    <tr>\n",
       "      <th>3</th>\n",
       "      <td>avrim blum, merrick furst, michael kearns, and...</td>\n",
       "      <td>unk</td>\n",
       "      <td>cryptographic primitives based on hard learnin...</td>\n",
       "      <td>unk</td>\n",
       "      <td>proc. crypto 93,,</td>\n",
       "      <td>unk</td>\n",
       "      <td>springer,,</td>\n",
       "      <td>1994.,</td>\n",
       "      <td>pages 278-291.,</td>\n",
       "      <td>in douglas r. stinson, editor,,</td>\n",
       "      <td>lecture notes in computer science no. 773.,</td>\n",
       "      <td>unk</td>\n",
       "    </tr>\n",
       "    <tr>\n",
       "      <th>4</th>\n",
       "      <td>a. blum, m. furst, m. kearns, r. lipton.,</td>\n",
       "      <td>unk</td>\n",
       "      <td>cryptographic primitives based on hard learnin...</td>\n",
       "      <td>unk</td>\n",
       "      <td>crypto,,</td>\n",
       "      <td>unk</td>\n",
       "      <td>unk</td>\n",
       "      <td>1993.,</td>\n",
       "      <td>unk</td>\n",
       "      <td>unk</td>\n",
       "      <td>unk</td>\n",
       "      <td>unk</td>\n",
       "    </tr>\n",
       "    <tr>\n",
       "      <th>...</th>\n",
       "      <td>...</td>\n",
       "      <td>...</td>\n",
       "      <td>...</td>\n",
       "      <td>...</td>\n",
       "      <td>...</td>\n",
       "      <td>...</td>\n",
       "      <td>...</td>\n",
       "      <td>...</td>\n",
       "      <td>...</td>\n",
       "      <td>...</td>\n",
       "      <td>...</td>\n",
       "      <td>...</td>\n",
       "    </tr>\n",
       "    <tr>\n",
       "      <th>1290</th>\n",
       "      <td>robert e. schapire and yoram singer.,</td>\n",
       "      <td>unk</td>\n",
       "      <td>improved boosting algorithms using confidence-...</td>\n",
       "      <td>unk</td>\n",
       "      <td>in proceedings of the eleventh annual conferen...</td>\n",
       "      <td>unk</td>\n",
       "      <td>unk</td>\n",
       "      <td>1998.,</td>\n",
       "      <td>unk</td>\n",
       "      <td>unk</td>\n",
       "      <td>unk</td>\n",
       "      <td>unk</td>\n",
       "    </tr>\n",
       "    <tr>\n",
       "      <th>1291</th>\n",
       "      <td>schapire, r. e., freund, y., bartlett, p., &amp; l...</td>\n",
       "      <td>unk</td>\n",
       "      <td>boosting the margin: a new explanation for the...</td>\n",
       "      <td>unk</td>\n",
       "      <td>unk</td>\n",
       "      <td>unk</td>\n",
       "      <td>unk</td>\n",
       "      <td>(1998).,</td>\n",
       "      <td>unk</td>\n",
       "      <td>unk</td>\n",
       "      <td>annals of statistics (to appear).,</td>\n",
       "      <td>unk</td>\n",
       "    </tr>\n",
       "    <tr>\n",
       "      <th>1292</th>\n",
       "      <td>robert e. schapire and yoram singer. boostexter:,</td>\n",
       "      <td>unk</td>\n",
       "      <td>a system for multiclass multi-label text categ...</td>\n",
       "      <td>unk</td>\n",
       "      <td>unpublished manuscript,,</td>\n",
       "      <td>unk</td>\n",
       "      <td>unk</td>\n",
       "      <td>1998.,</td>\n",
       "      <td>unk</td>\n",
       "      <td>unk</td>\n",
       "      <td>unk</td>\n",
       "      <td>unk</td>\n",
       "    </tr>\n",
       "    <tr>\n",
       "      <th>1293</th>\n",
       "      <td>robert e. schapire yoram singer.,</td>\n",
       "      <td>unk</td>\n",
       "      <td>improved boosting algorithms using confidence-...</td>\n",
       "      <td>unk</td>\n",
       "      <td>unk</td>\n",
       "      <td>unk</td>\n",
       "      <td>unk</td>\n",
       "      <td>unk</td>\n",
       "      <td>unk</td>\n",
       "      <td>unk</td>\n",
       "      <td>submitted for publication. 17,</td>\n",
       "      <td>unk</td>\n",
       "    </tr>\n",
       "    <tr>\n",
       "      <th>1294</th>\n",
       "      <td>robert e. schapire yoram singer.,</td>\n",
       "      <td>unk</td>\n",
       "      <td>improved boosting algorithms using confidence-...</td>\n",
       "      <td>unk</td>\n",
       "      <td>unk</td>\n",
       "      <td>unk</td>\n",
       "      <td>unk</td>\n",
       "      <td>unk</td>\n",
       "      <td>unk</td>\n",
       "      <td>unk</td>\n",
       "      <td>submitted for publication.,</td>\n",
       "      <td>unk</td>\n",
       "    </tr>\n",
       "  </tbody>\n",
       "</table>\n",
       "<p>1295 rows × 12 columns</p>\n",
       "</div>"
      ],
      "text/plain": [
       "                                                 author volume  \\\n",
       "0     p. auer, n. cesa-bianchi, y. freund, and r. e....    unk   \n",
       "1     a. blum, m. furst, m. j. kearns, and richard j...    unk   \n",
       "2     avrim blum, merrick furst, michael kearns, and...    unk   \n",
       "3     avrim blum, merrick furst, michael kearns, and...    unk   \n",
       "4             a. blum, m. furst, m. kearns, r. lipton.,    unk   \n",
       "...                                                 ...    ...   \n",
       "1290              robert e. schapire and yoram singer.,    unk   \n",
       "1291  schapire, r. e., freund, y., bartlett, p., & l...    unk   \n",
       "1292  robert e. schapire and yoram singer. boostexter:,    unk   \n",
       "1293                  robert e. schapire yoram singer.,    unk   \n",
       "1294                  robert e. schapire yoram singer.,    unk   \n",
       "\n",
       "                                                  title institution  \\\n",
       "0     'gambling in a rigged casino: the adversarial ...         unk   \n",
       "1     cryptographic primitives based on hard learnin...         unk   \n",
       "2     cryptographic primitives based on hard learnin...         unk   \n",
       "3     cryptographic primitives based on hard learnin...         unk   \n",
       "4     cryptographic primitives based on hard learnin...         unk   \n",
       "...                                                 ...         ...   \n",
       "1290  improved boosting algorithms using confidence-...         unk   \n",
       "1291  boosting the margin: a new explanation for the...         unk   \n",
       "1292  a system for multiclass multi-label text categ...         unk   \n",
       "1293  improved boosting algorithms using confidence-...         unk   \n",
       "1294  improved boosting algorithms using confidence-...         unk   \n",
       "\n",
       "                                                  venue             address  \\\n",
       "0     in proc. 36th annual symposium on foundations ...  los alamitos, ca:,   \n",
       "1                    in pre-proceedings of crypto '93,,                 unk   \n",
       "2                    in pre-proceedings of crypto '93,,                 unk   \n",
       "3                                     proc. crypto 93,,                 unk   \n",
       "4                                              crypto,,                 unk   \n",
       "...                                                 ...                 ...   \n",
       "1290  in proceedings of the eleventh annual conferen...                 unk   \n",
       "1291                                                unk                 unk   \n",
       "1292                           unpublished manuscript,,                 unk   \n",
       "1293                                                unk                 unk   \n",
       "1294                                                unk                 unk   \n",
       "\n",
       "                          publisher      year               pages  \\\n",
       "0     ieee computer society press,,    1995,,       pp. 322-331.,   \n",
       "1                               unk    1993.,  pages 24.1-24.10,,   \n",
       "2                               unk    1993.,  pages 24.1-24.10,,   \n",
       "3                        springer,,    1994.,     pages 278-291.,   \n",
       "4                               unk    1993.,                 unk   \n",
       "...                             ...       ...                 ...   \n",
       "1290                            unk    1998.,                 unk   \n",
       "1291                            unk  (1998).,                 unk   \n",
       "1292                            unk    1998.,                 unk   \n",
       "1293                            unk       unk                 unk   \n",
       "1294                            unk       unk                 unk   \n",
       "\n",
       "                               editor  \\\n",
       "0                                 unk   \n",
       "1                                 unk   \n",
       "2                                 unk   \n",
       "3     in douglas r. stinson, editor,,   \n",
       "4                                 unk   \n",
       "...                               ...   \n",
       "1290                              unk   \n",
       "1291                              unk   \n",
       "1292                              unk   \n",
       "1293                              unk   \n",
       "1294                              unk   \n",
       "\n",
       "                                             note month  \n",
       "0                                             unk   unk  \n",
       "1                                             unk   unk  \n",
       "2                                             unk   unk  \n",
       "3     lecture notes in computer science no. 773.,   unk  \n",
       "4                                             unk   unk  \n",
       "...                                           ...   ...  \n",
       "1290                                          unk   unk  \n",
       "1291           annals of statistics (to appear).,   unk  \n",
       "1292                                          unk   unk  \n",
       "1293               submitted for publication. 17,   unk  \n",
       "1294                  submitted for publication.,   unk  \n",
       "\n",
       "[1295 rows x 12 columns]"
      ]
     },
     "execution_count": 3,
     "metadata": {},
     "output_type": "execute_result"
    }
   ],
   "source": [
    "table"
   ]
  },
  {
   "cell_type": "markdown",
   "metadata": {},
   "source": [
    "# Sentence embedding"
   ]
  },
  {
   "cell_type": "markdown",
   "metadata": {},
   "source": [
    "## Infersent"
   ]
  },
  {
   "cell_type": "markdown",
   "metadata": {},
   "source": [
    "Setup model"
   ]
  },
  {
   "cell_type": "code",
   "execution_count": 29,
   "metadata": {},
   "outputs": [
    {
     "name": "stdout",
     "output_type": "stream",
     "text": [
      "Vocab size : 2196017\n",
      "TIME: 201.60924005508423\n"
     ]
    }
   ],
   "source": [
    "from embedding_algorithms.inferSent import set_RNN_embedding\n",
    "start = time.time()\n",
    "model_type = \"bilstm\" \n",
    "char_level = False\n",
    "model_version = 2\n",
    "rnn_dim = 1024\n",
    "verbose = 1\n",
    "set_RNN_embedding(model_type, char_level, model_version, rnn_dim, verbose)\n",
    "print(\"TIME: {0}\".format(time.time() - start))\n",
    "\n",
    "params['embedding'] = {\n",
    "    'name': 'Infersent',\n",
    "    'model_type': model_type,\n",
    "    'char_level': char_level,\n",
    "    'model_version': model_version,\n",
    "    'rnn_dim': rnn_dim,\n",
    "    'verbose': verbose\n",
    "}"
   ]
  },
  {
   "cell_type": "markdown",
   "metadata": {},
   "source": [
    "Embedding"
   ]
  },
  {
   "cell_type": "code",
   "execution_count": 30,
   "metadata": {},
   "outputs": [
    {
     "name": "stdout",
     "output_type": "stream",
     "text": [
      "attrs: ['author', 'title']\n"
     ]
    }
   ],
   "source": [
    "from embedding_algorithms.inferSent import RNN_embedding\n",
    "attr_list = ['author', 'title']\n",
    "params['attr_list'] = attr_list\n",
    "embeddings_tokens = RNN_embedding(table, attr_list, model_type, char_level)\n",
    "embeddings_tokens = np.array(embeddings_tokens)"
   ]
  },
  {
   "cell_type": "markdown",
   "metadata": {},
   "source": [
    "# Dimensionality reduction"
   ]
  },
  {
   "cell_type": "markdown",
   "metadata": {},
   "source": [
    "## TSNE"
   ]
  },
  {
   "cell_type": "code",
   "execution_count": 31,
   "metadata": {},
   "outputs": [
    {
     "name": "stdout",
     "output_type": "stream",
     "text": [
      "starting dimension: 2048\n",
      "setting TSNE with n_components: 2 & perplexity: 40\n",
      "early_exaggeration: 12\n"
     ]
    }
   ],
   "source": [
    "from dimensionality_reduction_algorithms.tsne import tsne_dim_reduction\n",
    "tsne_embeddings = tsne_dim_reduction(\n",
    "    embeddings_tokens, \n",
    "    num_components=2,\n",
    "    early_exaggeration=12,\n",
    "    verbose=1,\n",
    "    perplexity=40,\n",
    "    method=\"barnes_hut\")\n",
    "\n",
    "params['reduction'] = {\n",
    "    'name': 'TSNE',\n",
    "    'num_components': 2,\n",
    "    'early_exaggeration': 12,\n",
    "    'verbose': 1,\n",
    "    'perplexity': 40,\n",
    "    'method': \"barnes_hut\"\n",
    "}"
   ]
  },
  {
   "cell_type": "markdown",
   "metadata": {},
   "source": [
    "# Blocking"
   ]
  },
  {
   "cell_type": "markdown",
   "metadata": {},
   "source": [
    "hierarchy_cluster"
   ]
  },
  {
   "cell_type": "code",
   "execution_count": 32,
   "metadata": {},
   "outputs": [
    {
     "name": "stdout",
     "output_type": "stream",
     "text": [
      "clustering with NUM_CLUSTERS = 29, \n"
     ]
    }
   ],
   "source": [
    "from cluster_algorithms.hierarchy_cluster import hierarchy_cluster\n",
    "num_clusters = 29\n",
    "blocks = hierarchy_cluster(tsne_embeddings, {'num_clusters': num_clusters})\n",
    "\n",
    "params['blocking'] = {\n",
    "    'name': 'hierarchy',\n",
    "    'num_clusters': num_clusters\n",
    "}"
   ]
  },
  {
   "cell_type": "markdown",
   "metadata": {},
   "source": [
    "# Evaluation"
   ]
  },
  {
   "cell_type": "markdown",
   "metadata": {},
   "source": [
    "## bilstm, rnn_dim 2048"
   ]
  },
  {
   "cell_type": "code",
   "execution_count": 10,
   "metadata": {},
   "outputs": [
    {
     "name": "stdout",
     "output_type": "stream",
     "text": [
      "(RR) Reduction ratio is: 0.873116790891134\n",
      "(PC) Pair completeness is: 0.7927723463687151\n",
      "(RM) Reference metric (Harmonic mean RR and PC) is: 0.8310070958349959\n",
      "(PQ) Pair quality - Precision is: 0.12814290148714622\n",
      "(FM) Fmeasure is: 0.22062431677395847\n",
      "\n",
      "[]\n",
      "{'name': 'Infersent', 'model_type': 'bilstm', 'char_level': False, 'model_version': 2, 'rnn_dim': 2048, 'verbose': 1}\n",
      "{'name': 'TSNE', 'num_components': 2, 'early_exaggeration': 12, 'verbose': 1, 'perplexity': 40, 'method': 'barnes_hut'}\n",
      "{'name': 'hierarchy', 'num_clusters': 10}\n"
     ]
    }
   ],
   "source": [
    "from evaluation import calc_index\n",
    "calc_index(blocks,table,pairs)\n",
    "print()\n",
    "print(params['attr_list'])\n",
    "print(params['embedding'])\n",
    "print(params['reduction'])\n",
    "print(params['blocking'])"
   ]
  },
  {
   "cell_type": "code",
   "execution_count": 14,
   "metadata": {},
   "outputs": [
    {
     "name": "stdout",
     "output_type": "stream",
     "text": [
      "(RR) Reduction ratio is: 0.8879461488425939\n",
      "(PC) Pair completeness is: 0.9047369646182495\n",
      "(RM) Reference metric (Harmonic mean RR and PC) is: 0.8962629227843844\n",
      "(PQ) Pair quality - Precision is: 0.1655944443260976\n",
      "(FM) Fmeasure is: 0.2799495813450976\n",
      "\n",
      "['author', 'title']\n",
      "{'name': 'Infersent', 'model_type': 'bilstm', 'char_level': False, 'model_version': 2, 'rnn_dim': 2048, 'verbose': 1}\n",
      "{'name': 'TSNE', 'num_components': 2, 'early_exaggeration': 12, 'verbose': 1, 'perplexity': 40, 'method': 'barnes_hut'}\n",
      "{'name': 'hierarchy', 'num_clusters': 10}\n"
     ]
    }
   ],
   "source": [
    "from evaluation import calc_index\n",
    "calc_index(blocks,table,pairs)\n",
    "print()\n",
    "print(params['attr_list'])\n",
    "print(params['embedding'])\n",
    "print(params['reduction'])\n",
    "print(params['blocking'])"
   ]
  },
  {
   "cell_type": "code",
   "execution_count": 18,
   "metadata": {},
   "outputs": [
    {
     "name": "stdout",
     "output_type": "stream",
     "text": [
      "(RR) Reduction ratio is: 0.8894881633676069\n",
      "(PC) Pair completeness is: 0.8114525139664804\n",
      "(RM) Reference metric (Harmonic mean RR and PC) is: 0.8486802813597542\n",
      "(PQ) Pair quality - Precision is: 0.150592910987753\n",
      "(FM) Fmeasure is: 0.25403997157900493\n",
      "\n",
      "['author', 'title', 'venue']\n",
      "{'name': 'Infersent', 'model_type': 'bilstm', 'char_level': False, 'model_version': 2, 'rnn_dim': 2048, 'verbose': 1}\n",
      "{'name': 'TSNE', 'num_components': 2, 'early_exaggeration': 12, 'verbose': 1, 'perplexity': 40, 'method': 'barnes_hut'}\n",
      "{'name': 'hierarchy', 'num_clusters': 10}\n"
     ]
    }
   ],
   "source": [
    "from evaluation import calc_index\n",
    "calc_index(blocks,table,pairs)\n",
    "print()\n",
    "print(params['attr_list'])\n",
    "print(params['embedding'])\n",
    "print(params['reduction'])\n",
    "print(params['blocking'])"
   ]
  },
  {
   "cell_type": "code",
   "execution_count": 26,
   "metadata": {},
   "outputs": [
    {
     "name": "stdout",
     "output_type": "stream",
     "text": [
      "(RR) Reduction ratio is: 0.9635884062468297\n",
      "(PC) Pair completeness is: 0.8878026070763501\n",
      "(RM) Reference metric (Harmonic mean RR and PC) is: 0.9241443790730425\n",
      "(PQ) Pair quality - Precision is: 0.5000655565753245\n",
      "(FM) Fmeasure is: 0.6397718694959321\n",
      "\n",
      "['author', 'title']\n",
      "{'name': 'Infersent', 'model_type': 'bilstm', 'char_level': False, 'model_version': 2, 'rnn_dim': 2048, 'verbose': 1}\n",
      "{'name': 'TSNE', 'num_components': 2, 'early_exaggeration': 12, 'verbose': 1, 'perplexity': 40, 'method': 'barnes_hut'}\n",
      "{'name': 'hierarchy', 'num_clusters': 29}\n"
     ]
    }
   ],
   "source": [
    "from evaluation import calc_index\n",
    "calc_index(blocks,table,pairs)\n",
    "print()\n",
    "print(params['attr_list'])\n",
    "print(params['embedding'])\n",
    "print(params['reduction'])\n",
    "print(params['blocking'])"
   ]
  },
  {
   "cell_type": "markdown",
   "metadata": {},
   "source": [
    "## bilstrm, rnn_dim: 1024"
   ]
  },
  {
   "cell_type": "code",
   "execution_count": 33,
   "metadata": {},
   "outputs": [
    {
     "name": "stdout",
     "output_type": "stream",
     "text": [
      "(RR) Reduction ratio is: 0.9629427175022229\n",
      "(PC) Pair completeness is: 0.7883496275605214\n",
      "(RM) Reference metric (Harmonic mean RR and PC) is: 0.8669432431942662\n",
      "(PQ) Pair quality - Precision is: 0.436310348159361\n",
      "(FM) Fmeasure is: 0.5617315945514482\n",
      "\n",
      "['author', 'title']\n",
      "{'name': 'Infersent', 'model_type': 'bilstm', 'char_level': False, 'model_version': 2, 'rnn_dim': 1024, 'verbose': 1}\n",
      "{'name': 'TSNE', 'num_components': 2, 'early_exaggeration': 12, 'verbose': 1, 'perplexity': 40, 'method': 'barnes_hut'}\n",
      "{'name': 'hierarchy', 'num_clusters': 29}\n"
     ]
    }
   ],
   "source": [
    "from evaluation import calc_index\n",
    "calc_index(blocks,table,pairs)\n",
    "print()\n",
    "print(params['attr_list'])\n",
    "print(params['embedding'])\n",
    "print(params['reduction'])\n",
    "print(params['blocking'])"
   ]
  },
  {
   "cell_type": "markdown",
   "metadata": {
    "heading_collapsed": true
   },
   "source": [
    "## Searching"
   ]
  },
  {
   "cell_type": "code",
   "execution_count": 24,
   "metadata": {
    "hidden": true
   },
   "outputs": [
    {
     "name": "stdout",
     "output_type": "stream",
     "text": [
      "clustering with NUM_CLUSTERS = 20, \n",
      "(RR) Reduction ratio is: 0.946478251269596\n",
      "(PC) Pair completeness is: 0.9047369646182495\n",
      "(RM) Reference metric (Harmonic mean RR and PC) is: 0.9251370157090609\n",
      "(PQ) Pair quality - Precision is: 0.3466907501560967\n",
      "(FM) Fmeasure is: 0.5012897401173663\n",
      "clustering with NUM_CLUSTERS = 21, \n",
      "(RR) Reduction ratio is: 0.9481205206089286\n",
      "(PC) Pair completeness is: 0.9047369646182495\n",
      "(RM) Reference metric (Harmonic mean RR and PC) is: 0.9259208425334687\n",
      "(PQ) Pair quality - Precision is: 0.3576654090365326\n",
      "(FM) Fmeasure is: 0.5126624018993603\n",
      "clustering with NUM_CLUSTERS = 22, \n",
      "(RR) Reduction ratio is: 0.9507462419363502\n",
      "(PC) Pair completeness is: 0.8889664804469274\n",
      "(RM) Reference metric (Harmonic mean RR and PC) is: 0.9188190419180225\n",
      "(PQ) Pair quality - Precision is: 0.3701657458563536\n",
      "(FM) Fmeasure is: 0.5226852802299323\n",
      "clustering with NUM_CLUSTERS = 23, \n",
      "(RR) Reduction ratio is: 0.9539042685874216\n",
      "(PC) Pair completeness is: 0.8889664804469274\n",
      "(RM) Reference metric (Harmonic mean RR and PC) is: 0.9202912583791357\n",
      "(PQ) Pair quality - Precision is: 0.39552586608668633\n",
      "(FM) Fmeasure is: 0.5474680141920223\n",
      "clustering with NUM_CLUSTERS = 24, \n",
      "(RR) Reduction ratio is: 0.9561182290703156\n",
      "(PC) Pair completeness is: 0.8878026070763501\n",
      "(RM) Reference metric (Harmonic mean RR and PC) is: 0.920694901648513\n",
      "(PQ) Pair quality - Precision is: 0.4149373079119863\n",
      "(FM) Fmeasure is: 0.5655502214972845\n",
      "clustering with NUM_CLUSTERS = 25, \n",
      "(RR) Reduction ratio is: 0.9568952038812936\n",
      "(PC) Pair completeness is: 0.8878026070763501\n",
      "(RM) Reference metric (Harmonic mean RR and PC) is: 0.9210549843539378\n",
      "(PQ) Pair quality - Precision is: 0.42241665743714696\n",
      "(FM) Fmeasure is: 0.5724577861163227\n",
      "clustering with NUM_CLUSTERS = 26, \n",
      "(RR) Reduction ratio is: 0.9589432665166823\n",
      "(PC) Pair completeness is: 0.8878026070763501\n",
      "(RM) Reference metric (Harmonic mean RR and PC) is: 0.9220026904897629\n",
      "(PQ) Pair quality - Precision is: 0.4434883720930233\n",
      "(FM) Fmeasure is: 0.5915012406947892\n",
      "clustering with NUM_CLUSTERS = 27, \n",
      "(RR) Reduction ratio is: 0.9611309697863021\n",
      "(PC) Pair completeness is: 0.8878026070763501\n",
      "(RM) Reference metric (Harmonic mean RR and PC) is: 0.9230126937994231\n",
      "(PQ) Pair quality - Precision is: 0.4684496576288881\n",
      "(FM) Fmeasure is: 0.6132942051416052\n",
      "clustering with NUM_CLUSTERS = 28, \n",
      "(RR) Reduction ratio is: 0.9621347114391937\n",
      "(PC) Pair completeness is: 0.8878026070763501\n",
      "(RM) Reference metric (Harmonic mean RR and PC) is: 0.9234752946762512\n",
      "(PQ) Pair quality - Precision is: 0.4808674273466557\n",
      "(FM) Fmeasure is: 0.6238397055816806\n",
      "clustering with NUM_CLUSTERS = 29, \n",
      "(RR) Reduction ratio is: 0.9635884062468297\n",
      "(PC) Pair completeness is: 0.8878026070763501\n",
      "(RM) Reference metric (Harmonic mean RR and PC) is: 0.9241443790730425\n",
      "(PQ) Pair quality - Precision is: 0.5000655565753245\n",
      "(FM) Fmeasure is: 0.6397718694959321\n",
      "clustering with NUM_CLUSTERS = 30, \n",
      "(RR) Reduction ratio is: 0.9647055313206782\n",
      "(PC) Pair completeness is: 0.8592877094972067\n",
      "(RM) Reference metric (Harmonic mean RR and PC) is: 0.9089503050747303\n",
      "(PQ) Pair quality - Precision is: 0.4993236845664818\n",
      "(FM) Fmeasure is: 0.6316194712978013\n",
      "clustering with NUM_CLUSTERS = 31, \n",
      "(RR) Reduction ratio is: 0.9657558198516467\n",
      "(PC) Pair completeness is: 0.859171322160149\n",
      "(RM) Reference metric (Harmonic mean RR and PC) is: 0.909351048076455\n",
      "(PQ) Pair quality - Precision is: 0.5145685208420465\n",
      "(FM) Fmeasure is: 0.643648094864417\n",
      "clustering with NUM_CLUSTERS = 32, \n",
      "(RR) Reduction ratio is: 0.9664647646100506\n",
      "(PC) Pair completeness is: 0.859171322160149\n",
      "(RM) Reference metric (Harmonic mean RR and PC) is: 0.9096652017875401\n",
      "(PQ) Pair quality - Precision is: 0.5254466510071891\n",
      "(FM) Fmeasure is: 0.6520913387217879\n",
      "clustering with NUM_CLUSTERS = 33, \n",
      "(RR) Reduction ratio is: 0.9669493295459293\n",
      "(PC) Pair completeness is: 0.8591131284916201\n",
      "(RM) Reference metric (Harmonic mean RR and PC) is: 0.9098471522073159\n",
      "(PQ) Pair quality - Precision is: 0.5331142568250758\n",
      "(FM) Fmeasure is: 0.6579463410286123\n",
      "clustering with NUM_CLUSTERS = 34, \n",
      "(RR) Reduction ratio is: 0.9678146240742841\n",
      "(PC) Pair completeness is: 0.8591131284916201\n",
      "(RM) Reference metric (Harmonic mean RR and PC) is: 0.910230027783658\n",
      "(PQ) Pair quality - Precision is: 0.5474468795194126\n",
      "(FM) Fmeasure is: 0.6687504246789427\n",
      "clustering with NUM_CLUSTERS = 35, \n",
      "(RR) Reduction ratio is: 0.968912652993024\n",
      "(PC) Pair completeness is: 0.8418296089385475\n",
      "(RM) Reference metric (Harmonic mean RR and PC) is: 0.9009116061549703\n",
      "(PQ) Pair quality - Precision is: 0.5553806580412332\n",
      "(FM) Fmeasure is: 0.6692419791353427\n",
      "clustering with NUM_CLUSTERS = 36, \n",
      "(RR) Reduction ratio is: 0.9693590256186856\n",
      "(PC) Pair completeness is: 0.8418296089385475\n",
      "(RM) Reference metric (Harmonic mean RR and PC) is: 0.9011045165454223\n",
      "(PQ) Pair quality - Precision is: 0.5634713512250223\n",
      "(FM) Fmeasure is: 0.6750822502741676\n",
      "clustering with NUM_CLUSTERS = 37, \n",
      "(RR) Reduction ratio is: 0.9700572287898408\n",
      "(PC) Pair completeness is: 0.8418296089385475\n",
      "(RM) Reference metric (Harmonic mean RR and PC) is: 0.9014060707941177\n",
      "(PQ) Pair quality - Precision is: 0.5766103316326531\n",
      "(FM) Fmeasure is: 0.6844246782740347\n",
      "clustering with NUM_CLUSTERS = 38, \n",
      "(RR) Reduction ratio is: 0.9711457096310265\n",
      "(PC) Pair completeness is: 0.8171554934823091\n",
      "(RM) Reference metric (Harmonic mean RR and PC) is: 0.8875205700417738\n",
      "(PQ) Pair quality - Precision is: 0.5808239576439445\n",
      "(FM) Fmeasure is: 0.6790135396518375\n",
      "clustering with NUM_CLUSTERS = 39, \n",
      "(RR) Reduction ratio is: 0.9714751183066485\n",
      "(PC) Pair completeness is: 0.8171554934823091\n",
      "(RM) Reference metric (Harmonic mean RR and PC) is: 0.8876581050032041\n",
      "(PQ) Pair quality - Precision is: 0.587531380753138\n",
      "(FM) Fmeasure is: 0.6835751143997664\n",
      "clustering with NUM_CLUSTERS = 40, \n",
      "(RR) Reduction ratio is: 0.9720420354114326\n",
      "(PC) Pair completeness is: 0.8171554934823091\n",
      "(RM) Reference metric (Harmonic mean RR and PC) is: 0.8878946860867819\n",
      "(PQ) Pair quality - Precision is: 0.599445037353255\n",
      "(FM) Fmeasure is: 0.6915708340515648\n",
      "clustering with NUM_CLUSTERS = 41, \n",
      "(RR) Reduction ratio is: 0.9728655571004875\n",
      "(PC) Pair completeness is: 0.78125\n",
      "(RM) Reference metric (Harmonic mean RR and PC) is: 0.8665919567364226\n",
      "(PQ) Pair quality - Precision is: 0.590499230261711\n",
      "(FM) Fmeasure is: 0.672612039379744\n",
      "clustering with NUM_CLUSTERS = 42, \n",
      "(RR) Reduction ratio is: 0.9736604345568797\n",
      "(PC) Pair completeness is: 0.78125\n",
      "(RM) Reference metric (Harmonic mean RR and PC) is: 0.8669071646264779\n",
      "(PQ) Pair quality - Precision is: 0.6083193620009969\n",
      "(FM) Fmeasure is: 0.6840241510203041\n",
      "clustering with NUM_CLUSTERS = 43, \n",
      "(RR) Reduction ratio is: 0.9743097038305694\n",
      "(PC) Pair completeness is: 0.7561103351955307\n",
      "(RM) Reference metric (Harmonic mean RR and PC) is: 0.8514529653299727\n",
      "(PQ) Pair quality - Precision is: 0.6036236933797909\n",
      "(FM) Fmeasure is: 0.6713167480430907\n",
      "clustering with NUM_CLUSTERS = 44, \n",
      "(RR) Reduction ratio is: 0.9747680115531738\n",
      "(PC) Pair completeness is: 0.7561103351955307\n",
      "(RM) Reference metric (Harmonic mean RR and PC) is: 0.8516279255995065\n",
      "(PQ) Pair quality - Precision is: 0.6145877678444728\n",
      "(FM) Fmeasure is: 0.6780430528375733\n",
      "clustering with NUM_CLUSTERS = 45, \n",
      "(RR) Reduction ratio is: 0.9750186485889731\n",
      "(PC) Pair completeness is: 0.7561103351955307\n",
      "(RM) Reference metric (Harmonic mean RR and PC) is: 0.8517235678127534\n",
      "(PQ) Pair quality - Precision is: 0.6207539056901247\n",
      "(FM) Fmeasure is: 0.6817788272333728\n",
      "clustering with NUM_CLUSTERS = 46, \n",
      "(RR) Reduction ratio is: 0.9753946041426722\n",
      "(PC) Pair completeness is: 0.7561103351955307\n",
      "(RM) Reference metric (Harmonic mean RR and PC) is: 0.8518669792164837\n",
      "(PQ) Pair quality - Precision is: 0.6302386495925495\n",
      "(FM) Fmeasure is: 0.6874603174603174\n",
      "clustering with NUM_CLUSTERS = 47, \n",
      "(RR) Reduction ratio is: 0.9755187291508776\n",
      "(PC) Pair completeness is: 0.7561103351955307\n",
      "(RM) Reference metric (Harmonic mean RR and PC) is: 0.8519143140695553\n",
      "(PQ) Pair quality - Precision is: 0.6334340873634945\n",
      "(FM) Fmeasure is: 0.6893569609507639\n",
      "clustering with NUM_CLUSTERS = 48, \n",
      "(RR) Reduction ratio is: 0.9763136066072696\n",
      "(PC) Pair completeness is: 0.7194483240223464\n",
      "(RM) Reference metric (Harmonic mean RR and PC) is: 0.8284266503529976\n",
      "(PQ) Pair quality - Precision is: 0.622946689509221\n",
      "(FM) Fmeasure is: 0.6677288684850121\n",
      "clustering with NUM_CLUSTERS = 49, \n",
      "(RR) Reduction ratio is: 0.976484278493552\n",
      "(PC) Pair completeness is: 0.7194483240223464\n",
      "(RM) Reference metric (Harmonic mean RR and PC) is: 0.8284880856163271\n",
      "(PQ) Pair quality - Precision is: 0.6274678982896006\n",
      "(FM) Fmeasure is: 0.670317456014314\n"
     ]
    }
   ],
   "source": [
    "for i in range(20,50,1):\n",
    "    num_clusters = int(i)\n",
    "    blocks = hierarchy_cluster(tsne_embeddings, {'num_clusters': num_clusters})\n",
    "    calc_index(blocks,table,pairs)"
   ]
  },
  {
   "cell_type": "code",
   "execution_count": 27,
   "metadata": {
    "hidden": true
   },
   "outputs": [
    {
     "name": "stdout",
     "output_type": "stream",
     "text": [
      ">>>>>>>>>>>>>>>>>>>>: 30\n",
      "starting dimension: 4096\n",
      "setting TSNE with n_components: 2 & perplexity: 30\n",
      "early_exaggeration: 12\n",
      "clustering with NUM_CLUSTERS = 29, \n",
      "(RR) Reduction ratio is: 0.9620762294641738\n",
      "(PC) Pair completeness is: 0.875\n",
      "(RM) Reference metric (Harmonic mean RR and PC) is: 0.9164744361497591\n",
      "(PQ) Pair quality - Precision is: 0.47320220298977184\n",
      "(FM) Fmeasure is: 0.61422823178578\n",
      ">>>>>>>>>>>>>>>>>>>>: 35\n",
      "starting dimension: 4096\n",
      "setting TSNE with n_components: 2 & perplexity: 35\n",
      "early_exaggeration: 12\n",
      "clustering with NUM_CLUSTERS = 29, \n",
      "(RR) Reduction ratio is: 0.9624832162699242\n",
      "(PC) Pair completeness is: 0.87243947858473\n",
      "(RM) Reference metric (Harmonic mean RR and PC) is: 0.9152520241901533\n",
      "(PQ) Pair quality - Precision is: 0.47693580199783675\n",
      "(FM) Fmeasure is: 0.6167263153564524\n",
      ">>>>>>>>>>>>>>>>>>>>: 40\n",
      "starting dimension: 4096\n",
      "setting TSNE with n_components: 2 & perplexity: 40\n",
      "early_exaggeration: 12\n",
      "clustering with NUM_CLUSTERS = 29, \n",
      "(RR) Reduction ratio is: 0.9635884062468297\n",
      "(PC) Pair completeness is: 0.8878026070763501\n",
      "(RM) Reference metric (Harmonic mean RR and PC) is: 0.9241443790730425\n",
      "(PQ) Pair quality - Precision is: 0.5000655565753245\n",
      "(FM) Fmeasure is: 0.6397718694959321\n",
      ">>>>>>>>>>>>>>>>>>>>: 45\n",
      "starting dimension: 4096\n",
      "setting TSNE with n_components: 2 & perplexity: 45\n",
      "early_exaggeration: 12\n",
      "clustering with NUM_CLUSTERS = 29, \n",
      "(RR) Reduction ratio is: 0.9620487787412053\n",
      "(PC) Pair completeness is: 0.8093575418994413\n",
      "(RM) Reference metric (Harmonic mean RR and PC) is: 0.8791223398906446\n",
      "(PQ) Pair quality - Precision is: 0.4373859991194415\n",
      "(FM) Fmeasure is: 0.5678820791311094\n",
      ">>>>>>>>>>>>>>>>>>>>: 50\n",
      "starting dimension: 4096\n",
      "setting TSNE with n_components: 2 & perplexity: 50\n",
      "early_exaggeration: 12\n",
      "clustering with NUM_CLUSTERS = 29, \n",
      "(RR) Reduction ratio is: 0.9629880708706057\n",
      "(PC) Pair completeness is: 0.8118016759776536\n",
      "(RM) Reference metric (Harmonic mean RR and PC) is: 0.8809554272752776\n",
      "(PQ) Pair quality - Precision is: 0.4498403792202767\n",
      "(FM) Fmeasure is: 0.5788982259570494\n"
     ]
    }
   ],
   "source": [
    "for i in [30,35,40,45,50]:\n",
    "    print('>>>>>>>>>>>>>>>>>>>>: '+str(i))\n",
    "    tsne_embeddings = tsne_dim_reduction(\n",
    "    embeddings_tokens, \n",
    "    num_components=2,\n",
    "    early_exaggeration=12,\n",
    "    verbose=1,\n",
    "    perplexity=i,\n",
    "    method=\"barnes_hut\")\n",
    "    num_clusters = 29\n",
    "    blocks = hierarchy_cluster(tsne_embeddings, {'num_clusters': num_clusters})\n",
    "    calc_index(blocks,table,pairs)"
   ]
  },
  {
   "cell_type": "markdown",
   "metadata": {},
   "source": [
    "# Best"
   ]
  },
  {
   "cell_type": "code",
   "execution_count": 28,
   "metadata": {},
   "outputs": [],
   "source": [
    "#(RR) Reduction ratio is: 0.9635884062468297\n",
    "#(PC) Pair completeness is: 0.8878026070763501\n",
    "#(RM) Reference metric (Harmonic mean RR and PC) is: 0.9241443790730425\n",
    "#(PQ) Pair quality - Precision is: 0.5000655565753245\n",
    "#(FM) Fmeasure is: 0.6397718694959321\n",
    "\n",
    "#['author', 'title']\n",
    "#{'name': 'Infersent', 'model_type': 'bilstm', 'char_level': False, 'model_version': 2, 'rnn_dim': 2048, 'verbose': 1}\n",
    "#{'name': 'TSNE', 'num_components': 2, 'early_exaggeration': 12, 'verbose': 1, 'perplexity': 40, 'method': 'barnes_hut'}\n",
    "#{'name': 'hierarchy', 'num_clusters': 29}"
   ]
  },
  {
   "cell_type": "code",
   "execution_count": null,
   "metadata": {},
   "outputs": [],
   "source": []
  }
 ],
 "metadata": {
  "kernelspec": {
   "display_name": "Python 3.7.7 64-bit ('thesisEnv': conda)",
   "language": "python",
   "name": "python37764bitthesisenvcondad61bb62be9734ae9b8ba15c07cc7706a"
  },
  "language_info": {
   "codemirror_mode": {
    "name": "ipython",
    "version": 3
   },
   "file_extension": ".py",
   "mimetype": "text/x-python",
   "name": "python",
   "nbconvert_exporter": "python",
   "pygments_lexer": "ipython3",
   "version": "3.7.7"
  },
  "toc": {
   "base_numbering": 1,
   "nav_menu": {},
   "number_sections": true,
   "sideBar": true,
   "skip_h1_title": false,
   "title_cell": "Table of Contents",
   "title_sidebar": "Contents",
   "toc_cell": true,
   "toc_position": {},
   "toc_section_display": true,
   "toc_window_display": false
  },
  "varInspector": {
   "cols": {
    "lenName": 16,
    "lenType": 16,
    "lenVar": 40
   },
   "kernels_config": {
    "python": {
     "delete_cmd_postfix": "",
     "delete_cmd_prefix": "del ",
     "library": "var_list.py",
     "varRefreshCmd": "print(var_dic_list())"
    },
    "r": {
     "delete_cmd_postfix": ") ",
     "delete_cmd_prefix": "rm(",
     "library": "var_list.r",
     "varRefreshCmd": "cat(var_dic_list()) "
    }
   },
   "types_to_exclude": [
    "module",
    "function",
    "builtin_function_or_method",
    "instance",
    "_Feature"
   ],
   "window_display": false
  }
 },
 "nbformat": 4,
 "nbformat_minor": 4
}
