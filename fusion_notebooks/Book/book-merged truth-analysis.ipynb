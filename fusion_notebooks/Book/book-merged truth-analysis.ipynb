{
 "cells": [
  {
   "cell_type": "code",
   "execution_count": 2,
   "metadata": {},
   "outputs": [],
   "source": [
    "import os\n",
    "import sys\n",
    "import time\n",
    "import numpy as np\n",
    "import matplotlib.pyplot as plt\n",
    "\n",
    "module_path = os.path.abspath(os.path.join('../../fusion'))\n",
    "module_path2 = os.path.abspath(os.path.join('../..'))\n",
    "module_path3 = os.path.abspath(os.path.join('../'))\n",
    "if module_path not in sys.path:\n",
    "    sys.path.append(module_path)\n",
    "\n",
    "if module_path2 not in sys.path:\n",
    "    sys.path.append(module_path2)\n",
    "    \n",
    "if module_path3 not in sys.path:\n",
    "    sys.path.append(module_path3)"
   ]
  },
  {
   "cell_type": "code",
   "execution_count": 3,
   "metadata": {},
   "outputs": [],
   "source": [
    "from preprocessing_datasets.preprocessing_book import *"
   ]
  },
  {
   "cell_type": "markdown",
   "metadata": {
    "heading_collapsed": true
   },
   "source": [
    "# Mag2020"
   ]
  },
  {
   "cell_type": "code",
   "execution_count": 3,
   "metadata": {
    "hidden": true
   },
   "outputs": [],
   "source": [
    "mag_list_ISBN_10, mag_true_authors = getTruthMag2020()"
   ]
  },
  {
   "cell_type": "code",
   "execution_count": 4,
   "metadata": {
    "hidden": true
   },
   "outputs": [
    {
     "data": {
      "text/plain": [
       "504"
      ]
     },
     "execution_count": 4,
     "metadata": {},
     "output_type": "execute_result"
    }
   ],
   "source": [
    "mag_list_ISBN_10.value_counts().sum()"
   ]
  },
  {
   "cell_type": "code",
   "execution_count": 5,
   "metadata": {
    "hidden": true
   },
   "outputs": [
    {
     "data": {
      "text/plain": [
       "504"
      ]
     },
     "execution_count": 5,
     "metadata": {},
     "output_type": "execute_result"
    }
   ],
   "source": [
    "len(mag_true_authors)"
   ]
  },
  {
   "cell_type": "markdown",
   "metadata": {
    "heading_collapsed": true
   },
   "source": [
    "# Giu2020"
   ]
  },
  {
   "cell_type": "code",
   "execution_count": 6,
   "metadata": {
    "hidden": true
   },
   "outputs": [],
   "source": [
    "giu_list_ISBN_10, giu_true_authors = getTruthGiu2020()"
   ]
  },
  {
   "cell_type": "code",
   "execution_count": 7,
   "metadata": {
    "hidden": true
   },
   "outputs": [
    {
     "name": "stdout",
     "output_type": "stream",
     "text": [
      "872 872\n"
     ]
    }
   ],
   "source": [
    "print(len(giu_list_ISBN_10), len(giu_true_authors))"
   ]
  },
  {
   "cell_type": "markdown",
   "metadata": {
    "heading_collapsed": true
   },
   "source": [
    "# Truth500"
   ]
  },
  {
   "cell_type": "code",
   "execution_count": 8,
   "metadata": {
    "hidden": true
   },
   "outputs": [],
   "source": [
    "list_ISBN_10, true_authors = getTruth500()"
   ]
  },
  {
   "cell_type": "code",
   "execution_count": 9,
   "metadata": {
    "hidden": true
   },
   "outputs": [
    {
     "name": "stdout",
     "output_type": "stream",
     "text": [
      "500 500\n"
     ]
    }
   ],
   "source": [
    "print(len(list_ISBN_10), len(true_authors))"
   ]
  },
  {
   "cell_type": "markdown",
   "metadata": {
    "heading_collapsed": true
   },
   "source": [
    "# Create CSV Merged Truth         "
   ]
  },
  {
   "cell_type": "code",
   "execution_count": 10,
   "metadata": {
    "hidden": true
   },
   "outputs": [],
   "source": [
    "merged = returnMergedTruth()"
   ]
  },
  {
   "cell_type": "code",
   "execution_count": 11,
   "metadata": {
    "hidden": true
   },
   "outputs": [
    {
     "data": {
      "text/html": [
       "<div>\n",
       "<style scoped>\n",
       "    .dataframe tbody tr th:only-of-type {\n",
       "        vertical-align: middle;\n",
       "    }\n",
       "\n",
       "    .dataframe tbody tr th {\n",
       "        vertical-align: top;\n",
       "    }\n",
       "\n",
       "    .dataframe thead th {\n",
       "        text-align: right;\n",
       "    }\n",
       "</style>\n",
       "<table border=\"1\" class=\"dataframe\">\n",
       "  <thead>\n",
       "    <tr style=\"text-align: right;\">\n",
       "      <th></th>\n",
       "      <th>ISBN_10</th>\n",
       "      <th>true_authors</th>\n",
       "    </tr>\n",
       "  </thead>\n",
       "  <tbody>\n",
       "    <tr>\n",
       "      <th>0</th>\n",
       "      <td>0007197160</td>\n",
       "      <td>Marren Peter</td>\n",
       "    </tr>\n",
       "    <tr>\n",
       "      <th>1</th>\n",
       "      <td>0029011086</td>\n",
       "      <td>Averill James R.,Nunley Elma P.</td>\n",
       "    </tr>\n",
       "    <tr>\n",
       "      <th>2</th>\n",
       "      <td>0046500022</td>\n",
       "      <td>Zimmerman Mark</td>\n",
       "    </tr>\n",
       "    <tr>\n",
       "      <th>3</th>\n",
       "      <td>0060473738</td>\n",
       "      <td>Zinn Maxine Baca,Eitzen Stanley D.,Wells Barbara</td>\n",
       "    </tr>\n",
       "    <tr>\n",
       "      <th>4</th>\n",
       "      <td>0060621036</td>\n",
       "      <td>Dycus Jim,Dycus Barbara</td>\n",
       "    </tr>\n",
       "    <tr>\n",
       "      <th>...</th>\n",
       "      <td>...</td>\n",
       "      <td>...</td>\n",
       "    </tr>\n",
       "    <tr>\n",
       "      <th>874</th>\n",
       "      <td>1595141979</td>\n",
       "      <td>Mead Richelle</td>\n",
       "    </tr>\n",
       "    <tr>\n",
       "      <th>875</th>\n",
       "      <td>1625275773</td>\n",
       "      <td>Hoffman Reid,Casnocha Ben,Yeh Chris</td>\n",
       "    </tr>\n",
       "    <tr>\n",
       "      <th>876</th>\n",
       "      <td>1856195295</td>\n",
       "      <td>King Ross</td>\n",
       "    </tr>\n",
       "    <tr>\n",
       "      <th>877</th>\n",
       "      <td>1885167180</td>\n",
       "      <td>Freiberg Kevin,Freiberg Jackie</td>\n",
       "    </tr>\n",
       "    <tr>\n",
       "      <th>878</th>\n",
       "      <td>1885203292</td>\n",
       "      <td>Lewis W. Richard</td>\n",
       "    </tr>\n",
       "  </tbody>\n",
       "</table>\n",
       "<p>879 rows × 2 columns</p>\n",
       "</div>"
      ],
      "text/plain": [
       "        ISBN_10                                      true_authors\n",
       "0    0007197160                                      Marren Peter\n",
       "1    0029011086                   Averill James R.,Nunley Elma P.\n",
       "2    0046500022                                    Zimmerman Mark\n",
       "3    0060473738  Zinn Maxine Baca,Eitzen Stanley D.,Wells Barbara\n",
       "4    0060621036                           Dycus Jim,Dycus Barbara\n",
       "..          ...                                               ...\n",
       "874  1595141979                                     Mead Richelle\n",
       "875  1625275773               Hoffman Reid,Casnocha Ben,Yeh Chris\n",
       "876  1856195295                                         King Ross\n",
       "877  1885167180                    Freiberg Kevin,Freiberg Jackie\n",
       "878  1885203292                                  Lewis W. Richard\n",
       "\n",
       "[879 rows x 2 columns]"
      ]
     },
     "execution_count": 11,
     "metadata": {},
     "output_type": "execute_result"
    }
   ],
   "source": [
    "merged"
   ]
  },
  {
   "cell_type": "code",
   "execution_count": 12,
   "metadata": {
    "hidden": true
   },
   "outputs": [],
   "source": [
    "#merged.to_csv('merged_truth.csv', index=False)"
   ]
  },
  {
   "cell_type": "markdown",
   "metadata": {
    "heading_collapsed": true
   },
   "source": [
    "# getMerged Truth"
   ]
  },
  {
   "cell_type": "code",
   "execution_count": 3,
   "metadata": {
    "hidden": true
   },
   "outputs": [],
   "source": [
    "merged_ISBN_10, merged_authors = getMerged()"
   ]
  },
  {
   "cell_type": "code",
   "execution_count": 4,
   "metadata": {
    "hidden": true
   },
   "outputs": [
    {
     "name": "stdout",
     "output_type": "stream",
     "text": [
      "879 879\n"
     ]
    }
   ],
   "source": [
    "print(len(merged_ISBN_10), len(merged_authors))"
   ]
  },
  {
   "cell_type": "code",
   "execution_count": 5,
   "metadata": {
    "hidden": true
   },
   "outputs": [
    {
     "data": {
      "text/plain": [
       "0      0007197160\n",
       "1      0029011086\n",
       "2      0046500022\n",
       "3      0060473738\n",
       "4      0060621036\n",
       "          ...    \n",
       "874    1595141979\n",
       "875    1625275773\n",
       "876    1856195295\n",
       "877    1885167180\n",
       "878    1885203292\n",
       "Name: ISBN_10, Length: 879, dtype: object"
      ]
     },
     "execution_count": 5,
     "metadata": {},
     "output_type": "execute_result"
    }
   ],
   "source": [
    "merged_ISBN_10"
   ]
  },
  {
   "cell_type": "markdown",
   "metadata": {},
   "source": [
    "# Find not existing ISBN"
   ]
  },
  {
   "cell_type": "code",
   "execution_count": 4,
   "metadata": {},
   "outputs": [],
   "source": [
    "clean_book = set_clean_book()"
   ]
  },
  {
   "cell_type": "code",
   "execution_count": 5,
   "metadata": {},
   "outputs": [
    {
     "data": {
      "text/html": [
       "<div>\n",
       "<style scoped>\n",
       "    .dataframe tbody tr th:only-of-type {\n",
       "        vertical-align: middle;\n",
       "    }\n",
       "\n",
       "    .dataframe tbody tr th {\n",
       "        vertical-align: top;\n",
       "    }\n",
       "\n",
       "    .dataframe thead th {\n",
       "        text-align: right;\n",
       "    }\n",
       "</style>\n",
       "<table border=\"1\" class=\"dataframe\">\n",
       "  <thead>\n",
       "    <tr style=\"text-align: right;\">\n",
       "      <th></th>\n",
       "      <th>ISBN_10</th>\n",
       "      <th>title</th>\n",
       "      <th>author</th>\n",
       "      <th>big_cate</th>\n",
       "    </tr>\n",
       "  </thead>\n",
       "  <tbody>\n",
       "    <tr>\n",
       "      <th>0</th>\n",
       "      <td>0000219118</td>\n",
       "      <td>The Journal of Asian Studies, Volume 47, Numbe...</td>\n",
       "      <td>asian association for inc studies</td>\n",
       "      <td>history-books</td>\n",
       "    </tr>\n",
       "    <tr>\n",
       "      <th>1</th>\n",
       "      <td>0000219118</td>\n",
       "      <td>The Journal of Asian Studies</td>\n",
       "      <td>asian association for inc studies the</td>\n",
       "      <td>history-books</td>\n",
       "    </tr>\n",
       "    <tr>\n",
       "      <th>2</th>\n",
       "      <td>0000788589</td>\n",
       "      <td>Late Oligocene - Early Miocene Spores and Poll...</td>\n",
       "      <td>c d mildenhall</td>\n",
       "      <td>science-books</td>\n",
       "    </tr>\n",
       "    <tr>\n",
       "      <th>3</th>\n",
       "      <td>0000788589</td>\n",
       "      <td>Late Oligocene - Early Miocene Spores and Poll...</td>\n",
       "      <td>d pocknall t</td>\n",
       "      <td>science-books</td>\n",
       "    </tr>\n",
       "    <tr>\n",
       "      <th>4</th>\n",
       "      <td>0000788589</td>\n",
       "      <td>Fossil Barnacles (Cirripedia: Thoracica) of Ne...</td>\n",
       "      <td>buckeridge john stewart</td>\n",
       "      <td>science-books</td>\n",
       "    </tr>\n",
       "    <tr>\n",
       "      <th>...</th>\n",
       "      <td>...</td>\n",
       "      <td>...</td>\n",
       "      <td>...</td>\n",
       "      <td>...</td>\n",
       "    </tr>\n",
       "    <tr>\n",
       "      <th>2199026</th>\n",
       "      <td>9994533150</td>\n",
       "      <td>Indian Arts and Crafts</td>\n",
       "      <td>clara lee tanner</td>\n",
       "      <td>literature</td>\n",
       "    </tr>\n",
       "    <tr>\n",
       "      <th>2199027</th>\n",
       "      <td>9994533150</td>\n",
       "      <td>Indian Arts and Crafts</td>\n",
       "      <td>clara lee tanner</td>\n",
       "      <td>literature</td>\n",
       "    </tr>\n",
       "    <tr>\n",
       "      <th>2199028</th>\n",
       "      <td>9994533150</td>\n",
       "      <td>Indian Arts and Crafts</td>\n",
       "      <td>clara lee tanner</td>\n",
       "      <td>literature</td>\n",
       "    </tr>\n",
       "    <tr>\n",
       "      <th>2199029</th>\n",
       "      <td>9998111552</td>\n",
       "      <td>RN; The Memoirs of Richard Nixon</td>\n",
       "      <td>m nixon richard</td>\n",
       "      <td>history-books</td>\n",
       "    </tr>\n",
       "    <tr>\n",
       "      <th>2199030</th>\n",
       "      <td>9998111552</td>\n",
       "      <td>The Memoirs of Richard Nixon</td>\n",
       "      <td>nixon richard</td>\n",
       "      <td>history-books</td>\n",
       "    </tr>\n",
       "  </tbody>\n",
       "</table>\n",
       "<p>2199031 rows × 4 columns</p>\n",
       "</div>"
      ],
      "text/plain": [
       "            ISBN_10                                              title  \\\n",
       "0        0000219118  The Journal of Asian Studies, Volume 47, Numbe...   \n",
       "1        0000219118                       The Journal of Asian Studies   \n",
       "2        0000788589  Late Oligocene - Early Miocene Spores and Poll...   \n",
       "3        0000788589  Late Oligocene - Early Miocene Spores and Poll...   \n",
       "4        0000788589  Fossil Barnacles (Cirripedia: Thoracica) of Ne...   \n",
       "...             ...                                                ...   \n",
       "2199026  9994533150                             Indian Arts and Crafts   \n",
       "2199027  9994533150                             Indian Arts and Crafts   \n",
       "2199028  9994533150                             Indian Arts and Crafts   \n",
       "2199029  9998111552                   RN; The Memoirs of Richard Nixon   \n",
       "2199030  9998111552                       The Memoirs of Richard Nixon   \n",
       "\n",
       "                                        author       big_cate  \n",
       "0            asian association for inc studies  history-books  \n",
       "1        asian association for inc studies the  history-books  \n",
       "2                               c d mildenhall  science-books  \n",
       "3                                 d pocknall t  science-books  \n",
       "4                      buckeridge john stewart  science-books  \n",
       "...                                        ...            ...  \n",
       "2199026                       clara lee tanner     literature  \n",
       "2199027                       clara lee tanner     literature  \n",
       "2199028                       clara lee tanner     literature  \n",
       "2199029                        m nixon richard  history-books  \n",
       "2199030                          nixon richard  history-books  \n",
       "\n",
       "[2199031 rows x 4 columns]"
      ]
     },
     "execution_count": 5,
     "metadata": {},
     "output_type": "execute_result"
    }
   ],
   "source": [
    "clean_book"
   ]
  },
  {
   "cell_type": "code",
   "execution_count": 11,
   "metadata": {},
   "outputs": [],
   "source": [
    "ISBN_list_from_source_clean = clean_book['ISBN_10'].tolist()"
   ]
  },
  {
   "cell_type": "code",
   "execution_count": 12,
   "metadata": {},
   "outputs": [
    {
     "name": "stdout",
     "output_type": "stream",
     "text": [
      "2199031\n",
      "after >>> 68494\n"
     ]
    }
   ],
   "source": [
    "print(len(ISBN_list_from_source_clean))\n",
    "ISBN_list_from_source_clean = set(ISBN_list_from_source_clean)\n",
    "print('after >>>', len(ISBN_list_from_source_clean))"
   ]
  },
  {
   "cell_type": "code",
   "execution_count": 9,
   "metadata": {},
   "outputs": [],
   "source": [
    "merged_books = set_merged_books()"
   ]
  },
  {
   "cell_type": "code",
   "execution_count": 10,
   "metadata": {},
   "outputs": [
    {
     "data": {
      "text/html": [
       "<div>\n",
       "<style scoped>\n",
       "    .dataframe tbody tr th:only-of-type {\n",
       "        vertical-align: middle;\n",
       "    }\n",
       "\n",
       "    .dataframe tbody tr th {\n",
       "        vertical-align: top;\n",
       "    }\n",
       "\n",
       "    .dataframe thead th {\n",
       "        text-align: right;\n",
       "    }\n",
       "</style>\n",
       "<table border=\"1\" class=\"dataframe\">\n",
       "  <thead>\n",
       "    <tr style=\"text-align: right;\">\n",
       "      <th></th>\n",
       "      <th>ISBN_10</th>\n",
       "      <th>title</th>\n",
       "      <th>author</th>\n",
       "      <th>big_cate</th>\n",
       "      <th>small_cate</th>\n",
       "      <th>publisher</th>\n",
       "    </tr>\n",
       "  </thead>\n",
       "  <tbody>\n",
       "    <tr>\n",
       "      <th>0</th>\n",
       "      <td>0001361589</td>\n",
       "      <td>Noddys Rainy Day Activity Book</td>\n",
       "      <td>blyton enid</td>\n",
       "      <td>childrens-fiction-young-adult</td>\n",
       "      <td>enid-blyton</td>\n",
       "      <td>HarperCollinsChildrensBooks</td>\n",
       "    </tr>\n",
       "    <tr>\n",
       "      <th>1</th>\n",
       "      <td>0001361589</td>\n",
       "      <td>Fun With Noddy Summer Activity Book. Noddy's T...</td>\n",
       "      <td>blyton enid</td>\n",
       "      <td>childrens-fiction-young-adult</td>\n",
       "      <td>enid-blyton</td>\n",
       "      <td>BBC Childrens Books</td>\n",
       "    </tr>\n",
       "    <tr>\n",
       "      <th>2</th>\n",
       "      <td>0001380451</td>\n",
       "      <td>Fun And Games With Paddington</td>\n",
       "      <td>bond michael</td>\n",
       "      <td>childrens-fiction-young-adult</td>\n",
       "      <td>childrens-series</td>\n",
       "      <td>Collins</td>\n",
       "    </tr>\n",
       "    <tr>\n",
       "      <th>3</th>\n",
       "      <td>0001380451</td>\n",
       "      <td>FUN AND GAMES WITH PADDINGTON</td>\n",
       "      <td>bond michael</td>\n",
       "      <td>childrens-fiction-young-adult</td>\n",
       "      <td>childrens-series</td>\n",
       "      <td>Collins, London</td>\n",
       "    </tr>\n",
       "    <tr>\n",
       "      <th>4</th>\n",
       "      <td>0001380451</td>\n",
       "      <td>Fun and Games with Paddington</td>\n",
       "      <td>bond michael</td>\n",
       "      <td>childrens-fiction-young-adult</td>\n",
       "      <td>childrens-series</td>\n",
       "      <td>Collins</td>\n",
       "    </tr>\n",
       "    <tr>\n",
       "      <th>...</th>\n",
       "      <td>...</td>\n",
       "      <td>...</td>\n",
       "      <td>...</td>\n",
       "      <td>...</td>\n",
       "      <td>...</td>\n",
       "      <td>...</td>\n",
       "    </tr>\n",
       "    <tr>\n",
       "      <th>2676279</th>\n",
       "      <td>9979940417</td>\n",
       "      <td>Iceland : The New Millennium Series</td>\n",
       "      <td>isberg jon olafur</td>\n",
       "      <td>travel-books</td>\n",
       "      <td>adventure-travel</td>\n",
       "      <td>None</td>\n",
       "    </tr>\n",
       "    <tr>\n",
       "      <th>2676280</th>\n",
       "      <td>9979940417</td>\n",
       "      <td>Iceland : The New Millennium Series</td>\n",
       "      <td>granz olafur</td>\n",
       "      <td>travel-books</td>\n",
       "      <td>adventure-travel</td>\n",
       "      <td>None</td>\n",
       "    </tr>\n",
       "    <tr>\n",
       "      <th>2676281</th>\n",
       "      <td>9984592774</td>\n",
       "      <td>Riga - Journey Through The Centuries</td>\n",
       "      <td>andris lamsters</td>\n",
       "      <td>travel-books</td>\n",
       "      <td>travel-guides</td>\n",
       "      <td>Madris</td>\n",
       "    </tr>\n",
       "    <tr>\n",
       "      <th>2676282</th>\n",
       "      <td>9986830494</td>\n",
       "      <td>Lithuania: Nature, Traditions, Culture, Cities</td>\n",
       "      <td>a kairiene</td>\n",
       "      <td>travel-books</td>\n",
       "      <td>exploration</td>\n",
       "      <td>R Paknis leidykla</td>\n",
       "    </tr>\n",
       "    <tr>\n",
       "      <th>2676283</th>\n",
       "      <td>9990894108</td>\n",
       "      <td>Walks of Life: The Other Side of Malawi</td>\n",
       "      <td>mutisunge phoya</td>\n",
       "      <td>travel-books</td>\n",
       "      <td>adventure-travel</td>\n",
       "      <td>Central Africana Limited, Blantyre, Malawi</td>\n",
       "    </tr>\n",
       "  </tbody>\n",
       "</table>\n",
       "<p>2676284 rows × 6 columns</p>\n",
       "</div>"
      ],
      "text/plain": [
       "            ISBN_10                                              title  \\\n",
       "0        0001361589                     Noddys Rainy Day Activity Book   \n",
       "1        0001361589  Fun With Noddy Summer Activity Book. Noddy's T...   \n",
       "2        0001380451                      Fun And Games With Paddington   \n",
       "3        0001380451                      FUN AND GAMES WITH PADDINGTON   \n",
       "4        0001380451                      Fun and Games with Paddington   \n",
       "...             ...                                                ...   \n",
       "2676279  9979940417                Iceland : The New Millennium Series   \n",
       "2676280  9979940417                Iceland : The New Millennium Series   \n",
       "2676281  9984592774               Riga - Journey Through The Centuries   \n",
       "2676282  9986830494     Lithuania: Nature, Traditions, Culture, Cities   \n",
       "2676283  9990894108            Walks of Life: The Other Side of Malawi   \n",
       "\n",
       "                    author                       big_cate        small_cate  \\\n",
       "0              blyton enid  childrens-fiction-young-adult       enid-blyton   \n",
       "1              blyton enid  childrens-fiction-young-adult       enid-blyton   \n",
       "2             bond michael  childrens-fiction-young-adult  childrens-series   \n",
       "3             bond michael  childrens-fiction-young-adult  childrens-series   \n",
       "4             bond michael  childrens-fiction-young-adult  childrens-series   \n",
       "...                    ...                            ...               ...   \n",
       "2676279  isberg jon olafur                   travel-books  adventure-travel   \n",
       "2676280       granz olafur                   travel-books  adventure-travel   \n",
       "2676281    andris lamsters                   travel-books     travel-guides   \n",
       "2676282         a kairiene                   travel-books       exploration   \n",
       "2676283    mutisunge phoya                   travel-books  adventure-travel   \n",
       "\n",
       "                                          publisher  \n",
       "0                       HarperCollinsChildrensBooks  \n",
       "1                               BBC Childrens Books  \n",
       "2                                           Collins  \n",
       "3                                   Collins, London  \n",
       "4                                           Collins  \n",
       "...                                             ...  \n",
       "2676279                                        None  \n",
       "2676280                                        None  \n",
       "2676281                                      Madris  \n",
       "2676282                           R Paknis leidykla  \n",
       "2676283  Central Africana Limited, Blantyre, Malawi  \n",
       "\n",
       "[2676284 rows x 6 columns]"
      ]
     },
     "execution_count": 10,
     "metadata": {},
     "output_type": "execute_result"
    }
   ],
   "source": [
    "merged_books"
   ]
  },
  {
   "cell_type": "code",
   "execution_count": 13,
   "metadata": {},
   "outputs": [
    {
     "name": "stdout",
     "output_type": "stream",
     "text": [
      "2676284\n",
      "after >>> 200544\n"
     ]
    }
   ],
   "source": [
    "ISBN_list_from_source_merged = merged_books['ISBN_10'].tolist()\n",
    "print(len(ISBN_list_from_source_merged))\n",
    "ISBN_list_from_source_merged = set(ISBN_list_from_source_merged)\n",
    "print('after >>>', len(ISBN_list_from_source_merged))"
   ]
  },
  {
   "cell_type": "code",
   "execution_count": 14,
   "metadata": {},
   "outputs": [],
   "source": [
    "merged_ISBN_10, merged_authors = getMerged()"
   ]
  },
  {
   "cell_type": "code",
   "execution_count": 15,
   "metadata": {},
   "outputs": [],
   "source": [
    "merged_ISBN_10 = set(merged_ISBN_10)"
   ]
  },
  {
   "cell_type": "code",
   "execution_count": 16,
   "metadata": {},
   "outputs": [
    {
     "data": {
      "text/plain": [
       "879"
      ]
     },
     "execution_count": 16,
     "metadata": {},
     "output_type": "execute_result"
    }
   ],
   "source": [
    "len(merged_ISBN_10)"
   ]
  },
  {
   "cell_type": "code",
   "execution_count": 17,
   "metadata": {},
   "outputs": [],
   "source": [
    "difference = merged_ISBN_10 - ISBN_list_from_source_clean"
   ]
  },
  {
   "cell_type": "code",
   "execution_count": 18,
   "metadata": {},
   "outputs": [
    {
     "data": {
      "text/plain": [
       "set()"
      ]
     },
     "execution_count": 18,
     "metadata": {},
     "output_type": "execute_result"
    }
   ],
   "source": [
    "difference"
   ]
  },
  {
   "cell_type": "code",
   "execution_count": 19,
   "metadata": {},
   "outputs": [
    {
     "data": {
      "text/plain": [
       "set()"
      ]
     },
     "execution_count": 19,
     "metadata": {},
     "output_type": "execute_result"
    }
   ],
   "source": [
    "difference = merged_ISBN_10 - ISBN_list_from_source_merged\n",
    "difference"
   ]
  },
  {
   "cell_type": "code",
   "execution_count": 20,
   "metadata": {},
   "outputs": [
    {
     "name": "stdout",
     "output_type": "stream",
     "text": [
      "67615 67615\n"
     ]
    }
   ],
   "source": [
    "difference = ISBN_list_from_source_clean - merged_ISBN_10 \n",
    "print(len(difference), len(ISBN_list_from_source_clean) - len(merged_ISBN_10))"
   ]
  },
  {
   "cell_type": "code",
   "execution_count": null,
   "metadata": {},
   "outputs": [],
   "source": []
  }
 ],
 "metadata": {
  "kernelspec": {
   "display_name": "Python 3.7.7 64-bit ('thesisEnv': conda)",
   "language": "python",
   "name": "python37764bitthesisenvcondad61bb62be9734ae9b8ba15c07cc7706a"
  },
  "language_info": {
   "codemirror_mode": {
    "name": "ipython",
    "version": 3
   },
   "file_extension": ".py",
   "mimetype": "text/x-python",
   "name": "python",
   "nbconvert_exporter": "python",
   "pygments_lexer": "ipython3",
   "version": "3.7.7"
  },
  "toc": {
   "base_numbering": 1,
   "nav_menu": {},
   "number_sections": true,
   "sideBar": true,
   "skip_h1_title": false,
   "title_cell": "Table of Contents",
   "title_sidebar": "Contents",
   "toc_cell": false,
   "toc_position": {},
   "toc_section_display": true,
   "toc_window_display": false
  },
  "varInspector": {
   "cols": {
    "lenName": 16,
    "lenType": 16,
    "lenVar": 40
   },
   "kernels_config": {
    "python": {
     "delete_cmd_postfix": "",
     "delete_cmd_prefix": "del ",
     "library": "var_list.py",
     "varRefreshCmd": "print(var_dic_list())"
    },
    "r": {
     "delete_cmd_postfix": ") ",
     "delete_cmd_prefix": "rm(",
     "library": "var_list.r",
     "varRefreshCmd": "cat(var_dic_list()) "
    }
   },
   "types_to_exclude": [
    "module",
    "function",
    "builtin_function_or_method",
    "instance",
    "_Feature"
   ],
   "window_display": false
  }
 },
 "nbformat": 4,
 "nbformat_minor": 4
}
