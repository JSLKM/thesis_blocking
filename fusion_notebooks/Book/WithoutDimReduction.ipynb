{
 "cells": [
  {
   "cell_type": "markdown",
   "metadata": {},
   "source": [
    "# IMPORT LIBRARY"
   ]
  },
  {
   "cell_type": "code",
   "execution_count": 6,
   "metadata": {},
   "outputs": [],
   "source": [
    "import os\n",
    "import sys\n",
    "import time\n",
    "import numpy as np\n",
    "import matplotlib.pyplot as plt\n",
    "module_path = os.path.abspath(os.path.join('../../fusion'))\n",
    "sys.path.append(module_path)\n",
    "\n",
    "from preprocessing_datasets.preprocessing_utilities import ValueUtils\n",
    "from preprocessing_datasets import load_dataset\n",
    "from embedding_algorithms import sentence_embedding, set_embedding_model\n",
    "from dimensionality_reduction_algorithms import dimension_reduction_algorithms\n",
    "from cluster_algorithms import cluster_algorithm\n",
    "\n",
    "from helper import load_by_index, get_author_candidates, getFinalAuthors, launchWithoutReductionFusion\n",
    "from plot_tools import plotChart, plotCluster"
   ]
  },
  {
   "cell_type": "markdown",
   "metadata": {},
   "source": [
    "# SETUP INFERSENT"
   ]
  },
  {
   "cell_type": "code",
   "execution_count": 7,
   "metadata": {},
   "outputs": [],
   "source": [
    "key_values = {\n",
    "    'model_type':'bilstm',\n",
    "    'char_level':False,\n",
    "    'model_version': 2,\n",
    "    'rnn_dim':1024,\n",
    "    'verbose':1,\n",
    "    'attributes_list': ['author','title','big_cate', 'small_cate'],\n",
    "    'embedding_type': 'inferSent',\n",
    "    'dataset': 'merged_book-multiAuthors',\n",
    "    'dimension_reduction': 'pca',\n",
    "    'num_components': 2,\n",
    "    'cluster_method': 'hierarchy',\n",
    "    'num_clusters': 10,\n",
    "    'block_length_thresold': 0.2,\n",
    "}"
   ]
  },
  {
   "cell_type": "code",
   "execution_count": 8,
   "metadata": {},
   "outputs": [
    {
     "name": "stdout",
     "output_type": "stream",
     "text": [
      "Vocab size : 2196017\n",
      "model_version: 2\n",
      "rnn_dim: 1024\n",
      "model_type: bilstm\n",
      "char_level: False\n",
      "Setup time is: 164.8251781463623\n"
     ]
    }
   ],
   "source": [
    "set_embedding_model(key_values)"
   ]
  },
  {
   "cell_type": "markdown",
   "metadata": {},
   "source": [
    "# LOAD"
   ]
  },
  {
   "cell_type": "code",
   "execution_count": 4,
   "metadata": {},
   "outputs": [
    {
     "name": "stdout",
     "output_type": "stream",
     "text": [
      "dataset: merged_book-multiAuthors\n",
      "Loading time is: 5.196461915969849\n",
      "ISBN: 1878685546\n",
      "true author: Alan Shepard, Deke Slayton\n"
     ]
    }
   ],
   "source": [
    "dataset_name, table_group_by_isbn, isbn_list, true_authors = load_dataset(key_values)\n",
    "table_ISBN, list_authors, true_author = load_by_index(table_group_by_isbn, isbn_list, true_authors, 0, key_values['verbose'])"
   ]
  },
  {
   "cell_type": "code",
   "execution_count": 6,
   "metadata": {},
   "outputs": [
    {
     "name": "stdout",
     "output_type": "stream",
     "text": [
      "embedding_type: inferSent\n",
      "attributes_list: ['author', 'title', 'big_cate', 'small_cate']\n",
      "model_type: bilstm\n",
      "char_level: False\n",
      "Embedding time is: 4.089197158813477\n"
     ]
    }
   ],
   "source": [
    "embeddings_tokens = sentence_embedding(table_ISBN, key_values)"
   ]
  },
  {
   "cell_type": "code",
   "execution_count": 7,
   "metadata": {},
   "outputs": [
    {
     "name": "stdout",
     "output_type": "stream",
     "text": [
      "cluster_method: hierarchy\n",
      "num_clusters: 10\n",
      "Blocking time is: 0.4616127014160156\n"
     ]
    }
   ],
   "source": [
    "blocks = cluster_algorithm(embeddings_tokens, key_values)"
   ]
  },
  {
   "cell_type": "code",
   "execution_count": 9,
   "metadata": {},
   "outputs": [
    {
     "name": "stdout",
     "output_type": "stream",
     "text": [
      "Discarted candidate: [{'alan': 1, 'barbree jay': 86, 'jr': 2}, {'benedict howard': 85, 'benedict howard shepard': 1}, {'alan b shepard': 1, 'alan shepard': 21, 'alan shepherd': 1, 'armstrong neil': 1, 'barbree jay': 1}, {'alan barbree~howard benedict shepard~deke slayton~jay': 1, 'alan shepard': 6, 'armstrong neil': 2, 'barbree jay': 2, 'benedict howard': 2}, {'deke slayton': 8, 'deke slayton w': 1}, {'adams ben': 1, 'alan shepard': 5, 'alan shpard': 1, 'armstrong intro neil': 1}, {'alan shepard': 1, 'nan': 6}, {'armstrong neil': 7}]\n",
      "Possible candidate: [{'armstrong deke neil slayton': 1, 'deke slayton': 113}, {'alan b shepard': 1, 'alan shepard': 90, 'alan shepherd': 5}]\n",
      "lengthNecessary: 90.80000000000001\n"
     ]
    }
   ],
   "source": [
    "listCandidates = get_author_candidates(list_authors, blocks, key_values['block_length_thresold'] * len(embeddings_tokens), key_values['verbose'])"
   ]
  },
  {
   "cell_type": "code",
   "execution_count": 10,
   "metadata": {
    "scrolled": true
   },
   "outputs": [
    {
     "name": "stdout",
     "output_type": "stream",
     "text": [
      "[{'armstrong deke neil slayton': 1, 'deke slayton': 113}, {'alan b shepard': 1, 'alan shepard': 90, 'alan shepherd': 5}]\n",
      "['deke slayton', 'alan shepard'] VS true_author: Alan Shepard, Deke Slayton\n"
     ]
    }
   ],
   "source": [
    "print(listCandidates)\n",
    "print(\"{0} VS true_author: {1}\".format(getFinalAuthors(listCandidates), true_author))"
   ]
  },
  {
   "cell_type": "markdown",
   "metadata": {},
   "source": [
    "# Testing Launch"
   ]
  },
  {
   "cell_type": "code",
   "execution_count": 9,
   "metadata": {},
   "outputs": [],
   "source": [
    "key_values = {\n",
    "    'model_type':'bilstm',\n",
    "    'char_level':False,\n",
    "    'model_version': 2,\n",
    "    'rnn_dim':1024,\n",
    "    'verbose':0,\n",
    "    'attributes_list': ['author','title','big_cate', 'small_cate'],\n",
    "    'embedding_type': 'inferSent',\n",
    "    'dataset': 'merged_book-multiAuthors',\n",
    "    'cluster_method': 'hierarchy',\n",
    "    'num_clusters': 10,\n",
    "    'block_length_thresold': 0.2,\n",
    "}"
   ]
  },
  {
   "cell_type": "code",
   "execution_count": 10,
   "metadata": {},
   "outputs": [],
   "source": [
    "dataset_name, table_group_by_isbn, isbn_list, true_authors = load_dataset(key_values)"
   ]
  },
  {
   "cell_type": "code",
   "execution_count": 22,
   "metadata": {},
   "outputs": [],
   "source": [
    "def launchWithoutReductionFusion(tableGroupByISBN, list_ISBN_10, golden_true, key_values):\n",
    "    finalAuthors = []\n",
    "    realAuthors = []\n",
    "    for index in range(0,len(list_ISBN_10)):\n",
    "        table_ISBN, list_authors, true_author = load_by_index(tableGroupByISBN, list_ISBN_10, golden_true, index, key_values['verbose'])\n",
    "        embeddings_tokens = sentence_embedding(table_ISBN, key_values)\n",
    "        blocks = cluster_algorithm(embeddings_tokens, key_values)\n",
    "        listCandidates = get_author_candidates(list_authors, blocks, key_values['block_length_thresold'] * len(embeddings_tokens), key_values['verbose'])\n",
    "        finalAuthor = getFinalAuthors(listCandidates)\n",
    "        realAuthor = filterGoldenTruth(true_author)\n",
    "        if (key_values['verbose'] > 0):\n",
    "            print(listCandidates)\n",
    "            print(\"{0} VS true_author: {1}\".format(finalAuthor, realAuthor))\n",
    "        finalAuthors.append(finalAuthor)\n",
    "        realAuthors.append(realAuthor)\n",
    "    return finalAuthors, realAuthors"
   ]
  },
  {
   "cell_type": "code",
   "execution_count": 23,
   "metadata": {},
   "outputs": [],
   "source": [
    "from fuzzywuzzy import fuzz\n",
    "\n",
    "def getTPFNFP(predAuthors, trueAuthors):\n",
    "    TP, FP, FN = 0, 0, 0 \n",
    "    predLength = len(predAuthors)\n",
    "    trueLength = len(trueAuthors)\n",
    "    if trueLength != predLength:\n",
    "        raise Exception(\"size not compatible\")\n",
    "    cpyPredAuthors = predAuthors\n",
    "    cpyTrueAuthors = trueAuthors\n",
    "    for index in range(0, predLength):\n",
    "        predCandidates = cpyPredAuthors[index]\n",
    "        trueCandidates = cpyTrueAuthors[index]\n",
    "        \n",
    "        calculateFN = len(trueCandidates)\n",
    "        calculateFP = len(predCandidates)\n",
    "        calculateTP = 0\n",
    "        for predCandidate in predCandidates:\n",
    "            res = True in (fuzz.ratio(predCandidate, trueCandidate) > 90 for trueCandidate in trueCandidates)\n",
    "            if res:\n",
    "                calculateTP = calculateTP + 1\n",
    "        FN = FN + calculateFN - calculateTP\n",
    "        FP = FP + calculateFP - calculateTP\n",
    "        TP = TP + calculateTP\n",
    "    \n",
    "    return TP, FP, FN"
   ]
  },
  {
   "cell_type": "code",
   "execution_count": 69,
   "metadata": {},
   "outputs": [],
   "source": [
    "def filterGoldenTruth(authors):\n",
    "    authors = ValueUtils.split_values(authors)\n",
    "    return [ValueUtils.clean_value(x) for x in authors]"
   ]
  },
  {
   "cell_type": "code",
   "execution_count": 12,
   "metadata": {},
   "outputs": [],
   "source": [
    "finalAuthors, trueAuthors = launchWithoutReductionFusion(table_group_by_isbn, isbn_list, true_authors, key_values)"
   ]
  },
  {
   "cell_type": "code",
   "execution_count": 13,
   "metadata": {},
   "outputs": [
    {
     "data": {
      "text/plain": [
       "[['deke slayton', 'alan shepard'],\n",
       " ['carter jimmy', 'carter rosalynn'],\n",
       " ['petrov vadim', 'igor lysenko'],\n",
       " ['a byrne john', 'jack welch'],\n",
       " ['barbara kingsolver', 'camille kingsolver', 'hopp l steven'],\n",
       " ['colin l powell', 'e joseph persico'],\n",
       " ['barbara kingsolver', 'hopp l steven', 'camille kingsolver'],\n",
       " ['bowles sheldon', 'blanchard ken'],\n",
       " ['bob hope']]"
      ]
     },
     "execution_count": 13,
     "metadata": {},
     "output_type": "execute_result"
    }
   ],
   "source": [
    "finalAuthors"
   ]
  },
  {
   "cell_type": "code",
   "execution_count": 14,
   "metadata": {},
   "outputs": [
    {
     "data": {
      "text/plain": [
       "[['alan shepard', 'deke slayton'],\n",
       " ['carter jimmy', 'carter rosalynn'],\n",
       " ['petrov vadim', 'igor lysenho', 'egorgy georgy'],\n",
       " ['jack welch', 'a byrne john'],\n",
       " ['barbara kingsolver', 'hopp l steven', 'camille kingsolver'],\n",
       " ['colin powell', 'e joseph persico'],\n",
       " ['barbara kingsolver', 'hopp l steven', 'camille kingsolver'],\n",
       " ['blanchard ken', 'bowles sheldon'],\n",
       " ['bob hope', 'melville shavelson']]"
      ]
     },
     "execution_count": 14,
     "metadata": {},
     "output_type": "execute_result"
    }
   ],
   "source": [
    "trueAuthors"
   ]
  },
  {
   "cell_type": "code",
   "execution_count": 27,
   "metadata": {},
   "outputs": [
    {
     "name": "stdout",
     "output_type": "stream",
     "text": [
      "19 2 0\n"
     ]
    }
   ],
   "source": [
    "TP, FP, FN = getTPFNFP(finalAuthors, trueAuthors)\n",
    "print(TP,FN,FP)"
   ]
  },
  {
   "cell_type": "code",
   "execution_count": 28,
   "metadata": {},
   "outputs": [
    {
     "data": {
      "text/plain": [
       "2"
      ]
     },
     "execution_count": 28,
     "metadata": {},
     "output_type": "execute_result"
    }
   ],
   "source": [
    "FN"
   ]
  },
  {
   "cell_type": "code",
   "execution_count": 37,
   "metadata": {},
   "outputs": [],
   "source": [
    "def _getPrecision(TP, FP):\n",
    "    return TP / (TP + FP)\n",
    "\n",
    "def _getRecall(TP, FN):\n",
    "    return TP / (TP + FN)\n",
    "\n",
    "def _getF1Score(precision, recall):\n",
    "    return (2*precision*recall)/(precision+recall)"
   ]
  },
  {
   "cell_type": "code",
   "execution_count": 38,
   "metadata": {},
   "outputs": [],
   "source": [
    "precision = _getPrecision(TP, FP)"
   ]
  },
  {
   "cell_type": "code",
   "execution_count": 39,
   "metadata": {},
   "outputs": [],
   "source": [
    "recall = _getRecall(TP, FN)"
   ]
  },
  {
   "cell_type": "code",
   "execution_count": 40,
   "metadata": {},
   "outputs": [
    {
     "data": {
      "text/plain": [
       "0.9500000000000001"
      ]
     },
     "execution_count": 40,
     "metadata": {},
     "output_type": "execute_result"
    }
   ],
   "source": [
    "_getF1Score(precision, recall)"
   ]
  },
  {
   "cell_type": "markdown",
   "metadata": {},
   "source": [
    "# Testing "
   ]
  },
  {
   "cell_type": "markdown",
   "metadata": {
    "heading_collapsed": true
   },
   "source": [
    "## ['author','title','big_cate', 'small_cate', 'publisher']"
   ]
  },
  {
   "cell_type": "code",
   "execution_count": 12,
   "metadata": {
    "hidden": true
   },
   "outputs": [],
   "source": [
    "key_values = {\n",
    "    'model_type':'bilstm',\n",
    "    'char_level':False,\n",
    "    'model_version': 2,\n",
    "    'rnn_dim':1024,\n",
    "    'verbose':1,\n",
    "    'attributes_list': ['author','title','big_cate', 'small_cate', 'publisher'],\n",
    "    'embedding_type': 'inferSent',\n",
    "    'dataset': 'merged_book-multiAuthors',\n",
    "    'cluster_method': 'hierarchy',\n",
    "    'num_clusters': 10,\n",
    "    'block_length_thresold': 0.2,\n",
    "}"
   ]
  },
  {
   "cell_type": "code",
   "execution_count": 13,
   "metadata": {
    "hidden": true
   },
   "outputs": [
    {
     "name": "stdout",
     "output_type": "stream",
     "text": [
      ">>>>>>>>>>>>>>>>>>>>>>>>>>>>>>>>>>>>>>>>>>>>>>>>>>>>>>>>>>>>>>>>>>>>>>>>>>>>>>>>>>>>>>>>>>>>>>>>>\n",
      ">>>>>>>>>>>>>>>>>>>>>>>>>>>>book number 1<<<<<<<<<<<<<<<<<<<<<<<<\n",
      "ISBN: 1878685546\n",
      "true author: Alan Shepard, Deke Slayton\n",
      "tot cases of author's name: 16\n",
      "embedding_type: inferSent\n",
      "attributes_list: ['author', 'title', 'big_cate', 'small_cate', 'publisher']\n",
      "model_type: bilstm\n",
      "char_level: False\n",
      "Embedding time is: 4.4399168491363525\n",
      "cluster_method: hierarchy\n",
      "num_clusters: 10\n",
      "Blocking time is: 0.23854374885559082\n",
      "Discarted candidate: [{'alan': 1, 'barbree jay': 83, 'jr': 2}, {'benedict howard': 84, 'benedict howard shepard': 1}, {'alan shepard': 15, 'barbree jay': 3}, {'alan shepard': 7, 'armstrong intro neil': 1, 'armstrong neil': 1, 'barbree jay': 1, 'benedict howard': 1, 'deke slayton': 1, 'nan': 2}, {'alan barbree~howard benedict shepard~deke slayton~jay': 1, 'alan shepard': 6, 'armstrong neil': 2, 'barbree jay': 2, 'benedict howard': 2}, {'armstrong neil': 7, 'nan': 4}, {'deke slayton': 8, 'deke slayton w': 1}, {'adams ben': 1, 'alan shepard': 4, 'alan shpard': 1}]\n",
      "Possible candidate: [{'armstrong deke neil slayton': 1, 'deke slayton': 112}, {'alan b shepard': 2, 'alan shepard': 91, 'alan shepherd': 6}]\n",
      "lengthNecessary: 90.80000000000001\n",
      "[{'armstrong deke neil slayton': 1, 'deke slayton': 112}, {'alan b shepard': 2, 'alan shepard': 91, 'alan shepherd': 6}]\n",
      "['deke slayton', 'alan shepard'] VS true_author: Alan Shepard, Deke Slayton\n",
      ">>>>>>>>>>>>>>>>>>>>>>>>>>>>>>>>>>>>>>>>>>>>>>>>>>>>>>>>>>>>>>>>>>>>>>>>>>>>>>>>>>>>>>>>>>>>>>>>>\n",
      ">>>>>>>>>>>>>>>>>>>>>>>>>>>>book number 2<<<<<<<<<<<<<<<<<<<<<<<<\n",
      "ISBN: 0394558588\n",
      "true author: Jimmy Carter, Rosalynn Carter\n",
      "tot cases of author's name: 8\n",
      "embedding_type: inferSent\n",
      "attributes_list: ['author', 'title', 'big_cate', 'small_cate', 'publisher']\n",
      "model_type: bilstm\n",
      "char_level: False\n",
      "Embedding time is: 3.1263651847839355\n",
      "cluster_method: hierarchy\n",
      "num_clusters: 10\n",
      "Blocking time is: 0.0777428150177002\n",
      "Discarted candidate: [{'carter jimmy': 26, 'cartere jimmy': 1, 'jimmy': 1}, {'carter rosalynn': 9, 'rosalynn': 14}, {'carter jimmy': 9, 'carter rosalynn': 2, 'crater jimmy': 1, 'rosalynn': 7}, {'carter jimmy': 10, 'carter rosalynn': 8}, {'carter jimmy': 6, 'carter rosalynn': 3, 'jimmy': 1, 'rosalynn': 4}, {'carter jimmy': 4, 'carter rosalynn': 3, 'jimmy': 1, 'rosalynn': 1}, {'carter jimmy': 2, 'carter rosalynn': 1, 'nan': 3, 'rosalynn y': 1}, {'carter jimmy': 1, 'carter rosalynn': 1, 'jimmy': 1, 'rosalynn': 1}]\n",
      "Possible candidate: [{'carter jimmy': 67, 'carter rosalynn': 6}, {'*signed carter rosalynn': 1, 'carter jimmy': 1, 'carter rosalynn': 56, 'jimmy': 4, 'rosalynn': 4}]\n",
      "lengthNecessary: 52.2\n",
      "[{'carter jimmy': 67, 'carter rosalynn': 6}, {'*signed carter rosalynn': 1, 'carter jimmy': 1, 'carter rosalynn': 56, 'jimmy': 4, 'rosalynn': 4}]\n",
      "['carter jimmy', 'carter rosalynn'] VS true_author: Jimmy Carter, Rosalynn Carter\n",
      ">>>>>>>>>>>>>>>>>>>>>>>>>>>>>>>>>>>>>>>>>>>>>>>>>>>>>>>>>>>>>>>>>>>>>>>>>>>>>>>>>>>>>>>>>>>>>>>>>\n",
      ">>>>>>>>>>>>>>>>>>>>>>>>>>>>book number 3<<<<<<<<<<<<<<<<<<<<<<<<\n",
      "ISBN: 0810932776\n",
      "true author: Vadim Petrov, Igor Lysenho, Georgy Egorgy\n",
      "tot cases of author's name: 29\n",
      "embedding_type: inferSent\n",
      "attributes_list: ['author', 'title', 'big_cate', 'small_cate', 'publisher']\n",
      "model_type: bilstm\n",
      "char_level: False\n",
      "Embedding time is: 6.770302057266235\n",
      "cluster_method: hierarchy\n",
      "num_clusters: 10\n",
      "Blocking time is: 0.25774407386779785\n",
      "Discarted candidate: [{'antonina bovis': 1, 'atonina bouis w': 6, 'english from russian to trans': 1, 'igor lysenki': 6, 'igor lysenko': 50, 'igor lysenko v': 11, 'nan': 1}, {'b egorov georgy': 12, 'egorov georgy': 59}, {'petrov vadim': 53, 'petrov vadim vadimovich': 10}, {'atonina bouis w': 3, 'b egorov g': 3, 'egorov georgy': 22, 'i lysenko v': 3, 'igor lysenho': 7, 'igor lysenkho': 1, 'igor lysenko': 15, 'nan': 2, 'perov vadim': 1, 'petrov yadim': 1}, {'atonina bouis w': 28, 'b egorov g': 11, 'i lysenko v': 9}, {'abrams harry n': 11, 'atonina bouis w': 2, 'b egorov g': 2, 'egorov georg': 1, 'egorov georgy': 3, 'i lysenko v': 1, 'igor lysenko': 5, 'lysenko': 1, 'marian schwartz': 2, 'nan': 1, 'petrov v': 15, 'petrov vadim': 3}, {'others': 1, 'petrov vadim': 42}, {'marian schwartz': 39}, {'egorov': 1, 'egorov g i lysenko petrov v': 1, 'egorov georgy': 2, 'egoroy georgy': 1, 'igor lysenho': 1, 'igor lysenko': 2, 'igor lyseno': 1, 'lysenho': 1, 'petrov': 1, 'petrov vadim': 5, 'petrov vaoim': 1}, {'egorov georgy': 3, 'igor lysenho': 2, 'igor lysenko': 1, 'petrov vadim': 4}]\n",
      "Possible candidate: []\n",
      "lengthNecessary: 94.4\n",
      "[]\n",
      "[] VS true_author: Vadim Petrov, Igor Lysenho, Georgy Egorgy\n",
      ">>>>>>>>>>>>>>>>>>>>>>>>>>>>>>>>>>>>>>>>>>>>>>>>>>>>>>>>>>>>>>>>>>>>>>>>>>>>>>>>>>>>>>>>>>>>>>>>>\n",
      ">>>>>>>>>>>>>>>>>>>>>>>>>>>>book number 4<<<<<<<<<<<<<<<<<<<<<<<<\n",
      "ISBN: 0446528382\n",
      "true author: Jack Welch, John A. Byrne\n",
      "tot cases of author's name: 9\n",
      "embedding_type: inferSent\n",
      "attributes_list: ['author', 'title', 'big_cate', 'small_cate', 'publisher']\n",
      "model_type: bilstm\n",
      "char_level: False\n",
      "Embedding time is: 1.9168782234191895\n",
      "cluster_method: hierarchy\n",
      "num_clusters: 10\n",
      "Blocking time is: 0.06966900825500488\n",
      "Discarted candidate: [{'jack w welch': 1, 'jack welch': 45}, {'jack welch': 46}, {'a byrne john': 45}, {'a': 1, 'a byrne john': 36, 'byrne john': 2, 'jack welch': 2}, {'a byrne john': 3, 'jack w welch': 1, 'jack welch': 5, 'nan': 7}, {'a byrne john': 5, 'a byrne john welch': 1, 'jack': 1, 'jack welch': 6}, {'jack welch': 12}, {'a byrne john': 11}, {'a byrne john': 3, 'barnicle mike': 3, 'jack welch': 3}, {'a barnicle byrne jack john mike welch': 1, 'barnicle mike': 7}]\n",
      "Possible candidate: []\n",
      "lengthNecessary: 49.400000000000006\n",
      "[]\n",
      "[] VS true_author: Jack Welch, John A. Byrne\n",
      ">>>>>>>>>>>>>>>>>>>>>>>>>>>>>>>>>>>>>>>>>>>>>>>>>>>>>>>>>>>>>>>>>>>>>>>>>>>>>>>>>>>>>>>>>>>>>>>>>\n",
      ">>>>>>>>>>>>>>>>>>>>>>>>>>>>book number 5<<<<<<<<<<<<<<<<<<<<<<<<\n",
      "ISBN: 0060852550\n",
      "true author: Barbara Kingsolver, Steven L. Hopp, Camille Kingsolver\n",
      "tot cases of author's name: 9\n",
      "embedding_type: inferSent\n",
      "attributes_list: ['author', 'title', 'big_cate', 'small_cate', 'publisher']\n",
      "model_type: bilstm\n",
      "char_level: False\n",
      "Embedding time is: 2.475335121154785\n",
      "cluster_method: hierarchy\n",
      "num_clusters: 10\n",
      "Blocking time is: 0.11435294151306152\n",
      "Discarted candidate: [{'barbara kingsolver': 37}, {'camille kingsolver': 36}, {'barbara kingsolver': 22, 'camille kingsolver': 9}, {'barbara kingsolver': 15, 'camille kingsolver': 12}, {'barbara knigsolver': 1, 'camille kingslover': 2, 'harper': 1, 'hopp l steven': 14, 'l steven': 1}, {'hopp l steven': 11}, {'camille kin': 1, 'nan': 8}, {'barbara kingsolver': 5, 'camille kingsolver': 1}]\n",
      "Possible candidate: [{'barbara kingsolver': 39, 'camille kingsolver': 34}, {'barbara hopp kingsolvercamille kingsolversteven l': 1, 'hopp l steven': 69}]\n",
      "lengthNecessary: 63.800000000000004\n",
      "[{'barbara kingsolver': 39, 'camille kingsolver': 34}, {'barbara hopp kingsolvercamille kingsolversteven l': 1, 'hopp l steven': 69}]\n",
      "['barbara kingsolver', 'hopp l steven'] VS true_author: Barbara Kingsolver, Steven L. Hopp, Camille Kingsolver\n",
      ">>>>>>>>>>>>>>>>>>>>>>>>>>>>>>>>>>>>>>>>>>>>>>>>>>>>>>>>>>>>>>>>>>>>>>>>>>>>>>>>>>>>>>>>>>>>>>>>>\n",
      ">>>>>>>>>>>>>>>>>>>>>>>>>>>>book number 6<<<<<<<<<<<<<<<<<<<<<<<<\n",
      "ISBN: 0679432965\n",
      "true author: Colin Powell, Joseph E. Persico\n",
      "tot cases of author's name: 9\n",
      "embedding_type: inferSent\n",
      "attributes_list: ['author', 'title', 'big_cate', 'small_cate', 'publisher']\n",
      "model_type: bilstm\n",
      "char_level: False\n",
      "Embedding time is: 1.886152982711792\n",
      "cluster_method: hierarchy\n",
      "num_clusters: 10\n",
      "Blocking time is: 0.05949211120605469\n",
      "Discarted candidate: [{'colin l powell': 22, 'colin powell': 2, 'e joseph persico': 2, 'joseph persico': 2}, {'colin l powell': 9, 'colin powell': 4, 'colin powell w': 1, 'e': 1, 'e joseph persico': 4, 'f joseph persico': 1, 'joseph perisco': 1, 'joseph persico': 6}, {'e joseph persico': 20, 'joseph persico': 2}, {'colin l powell': 4, 'colin powell': 11}, {'colin l powell': 3, 'colin powell': 5}, {'joseph persico': 1, 'nan': 5, 'persico': 1}, {'colin powell': 6}, {'colin powell': 2, 'colin powell w': 1, 'e joseph persico': 1}]\n",
      "Possible candidate: [{'e joseph persico': 53, 'joseph persico': 4}, {'colin l powell': 51, 'colin powell': 1}]\n",
      "lengthNecessary: 45.2\n",
      "[{'e joseph persico': 53, 'joseph persico': 4}, {'colin l powell': 51, 'colin powell': 1}]\n",
      "['e joseph persico', 'colin l powell'] VS true_author: Colin Powell, Joseph E. Persico\n",
      ">>>>>>>>>>>>>>>>>>>>>>>>>>>>>>>>>>>>>>>>>>>>>>>>>>>>>>>>>>>>>>>>>>>>>>>>>>>>>>>>>>>>>>>>>>>>>>>>>\n",
      ">>>>>>>>>>>>>>>>>>>>>>>>>>>>book number 7<<<<<<<<<<<<<<<<<<<<<<<<\n",
      "ISBN: 0060852569\n",
      "true author: Barbara Kingsolver, Steven L. Hopp, Camille Kingsolver\n",
      "tot cases of author's name: 14\n"
     ]
    },
    {
     "name": "stdout",
     "output_type": "stream",
     "text": [
      "embedding_type: inferSent\n",
      "attributes_list: ['author', 'title', 'big_cate', 'small_cate', 'publisher']\n",
      "model_type: bilstm\n",
      "char_level: False\n",
      "Embedding time is: 3.043212890625\n",
      "cluster_method: hierarchy\n",
      "num_clusters: 10\n",
      "Blocking time is: 0.1187748908996582\n",
      "Discarted candidate: [{'barbara kingsolver': 4, 'camille kingsolver': 58}, {'barbara kingsolver': 58, 'kingsolver': 2}, {'barbara kingsolver': 29, 'camille kingsolver': 23, 'hopp l steven': 1}, {'a houser richard': 1, 'camille kin': 1, 'hopp l steven': 24}, {'barbara kingsolver': 16, 'camille kingsolver': 6}, {'barbara kingsolver': 5, 'camille kingsolver': 4, 'kingsolver l steven': 1}, {'barbara kingsolver': 3, 'camille': 1, 'hopp steven': 1, 'l': 1, 'nan': 1}, {'nan': 7}, {'barbara hopp': 1, 'hopp l steven': 3}]\n",
      "Possible candidate: [{'a houser richard': 2, 'barbara kingslover': 1, 'harper perennial': 1, 'hopp l steven': 64, 'l steven': 1}]\n",
      "lengthNecessary: 64.0\n",
      "[{'a houser richard': 2, 'barbara kingslover': 1, 'harper perennial': 1, 'hopp l steven': 64, 'l steven': 1}]\n",
      "['hopp l steven'] VS true_author: Barbara Kingsolver, Steven L. Hopp, Camille Kingsolver\n",
      ">>>>>>>>>>>>>>>>>>>>>>>>>>>>>>>>>>>>>>>>>>>>>>>>>>>>>>>>>>>>>>>>>>>>>>>>>>>>>>>>>>>>>>>>>>>>>>>>>\n",
      ">>>>>>>>>>>>>>>>>>>>>>>>>>>>book number 8<<<<<<<<<<<<<<<<<<<<<<<<\n",
      "ISBN: 0688123163\n",
      "true author: Ken Blanchard, Sheldon Bowles\n",
      "tot cases of author's name: 14\n",
      "embedding_type: inferSent\n",
      "attributes_list: ['author', 'title', 'big_cate', 'small_cate', 'publisher']\n",
      "model_type: bilstm\n",
      "char_level: False\n",
      "Embedding time is: 2.2783169746398926\n",
      "cluster_method: hierarchy\n",
      "num_clusters: 10\n",
      "Blocking time is: 0.05881690979003906\n",
      "Discarted candidate: [{'blanchard': 1, 'blanchard h kenneth': 2, 'blanchard ken': 12, 'harvey mackay': 1, 'nan': 3}, {'blanchard h kenneth': 1, 'blanchard ken': 6, 'nan': 7}, {'blanchard h kenneth': 12}, {'blanchard': 2, 'blanchard ken': 2, 'bowles': 1, 'bowles ken sheldon': 1, 'bowles sheldon': 1}, {'foreword harvey mackay': 1, 'foreword-harvey mackay': 1, 'harvey mackay': 4, 'harvey mackay sheldon': 1}, {'bowles sheldon': 5}, {'blanchard': 1, 'blanchard ken': 1, 'blanchard kenneth': 2, 'bowles sheldon': 1}, {'blanchard ken': 2, 'bowles sheldon': 2}]\n",
      "Possible candidate: [{'bowles m sheldon': 15, 'bowles sheldon': 68}, {'blanchard': 1, 'blanchard bowles ken': 1, 'blanchard ken': 67, 'blanchard kenneth': 2, 'bowels sheldon': 1}]\n",
      "lengthNecessary: 45.6\n",
      "[{'bowles m sheldon': 15, 'bowles sheldon': 68}, {'blanchard': 1, 'blanchard bowles ken': 1, 'blanchard ken': 67, 'blanchard kenneth': 2, 'bowels sheldon': 1}]\n",
      "['bowles sheldon', 'blanchard ken'] VS true_author: Ken Blanchard, Sheldon Bowles\n",
      ">>>>>>>>>>>>>>>>>>>>>>>>>>>>>>>>>>>>>>>>>>>>>>>>>>>>>>>>>>>>>>>>>>>>>>>>>>>>>>>>>>>>>>>>>>>>>>>>>\n",
      ">>>>>>>>>>>>>>>>>>>>>>>>>>>>book number 9<<<<<<<<<<<<<<<<<<<<<<<<\n",
      "ISBN: 0399135189\n",
      "true author: Bob Hope, Melville Shavelson\n",
      "tot cases of author's name: 6\n",
      "embedding_type: inferSent\n",
      "attributes_list: ['author', 'title', 'big_cate', 'small_cate', 'publisher']\n",
      "model_type: bilstm\n",
      "char_level: False\n",
      "Embedding time is: 2.1700518131256104\n",
      "cluster_method: hierarchy\n",
      "num_clusters: 10\n",
      "Blocking time is: 0.04704093933105469\n",
      "Discarted candidate: [{'melville shavelson': 30}, {'bob hope': 25, 'bob hope w': 1, 'melville shavelson': 1}, {'bob hope': 19, 'melville shavelson': 6}, {'bob hope': 22, 'melville shavelson': 2}, {'bob hope': 1, 'bob hope w': 1, 'melville shavelson': 13}, {'bob hope': 5, 'melville shavelson': 5}, {'bob hope': 6, 'bob hope~melville shavelson': 1, 'melville shavelson': 2}, {'bob hope': 2, 'melville shavelson': 1, 'nan': 2}, {'bob hope': 1, 'melville shavelson': 1}]\n",
      "Possible candidate: [{'better homes': 1, 'bob hope': 39, 'gardens': 1, 'melville shavelson': 3}]\n",
      "lengthNecessary: 38.2\n",
      "[{'better homes': 1, 'bob hope': 39, 'gardens': 1, 'melville shavelson': 3}]\n",
      "['bob hope'] VS true_author: Bob Hope, Melville Shavelson\n"
     ]
    }
   ],
   "source": [
    "for index in range(0,9):\n",
    "    print(\">>>>>>>>>>>>>>>>>>>>>>>>>>>>>>>>>>>>>>>>>>>>>>>>>>>>>>>>>>>>>>>>>>>>>>>>>>>>>>>>>>>>>>>>>>>>>>>>>\")\n",
    "    print(\">>>>>>>>>>>>>>>>>>>>>>>>>>>>book number {0}<<<<<<<<<<<<<<<<<<<<<<<<\".format(index+1))\n",
    "    table_ISBN, list_authors, true_author = load_by_index(table_group_by_isbn, isbn_list, true_authors, index, key_values['verbose'])\n",
    "    print(\"tot cases of author's name: {0}\".format(len(table_ISBN['author'].value_counts())))\n",
    "    embeddings_tokens = sentence_embedding(table_ISBN, key_values)\n",
    "    blocks = cluster_algorithm(embeddings_tokens, key_values)\n",
    "    listCandidates = get_author_candidates(list_authors, blocks, key_values['block_length_thresold'] * len(embeddings_tokens), key_values['verbose'])\n",
    "    print(listCandidates)\n",
    "    print(\"{0} VS true_author: {1}\".format(getFinalAuthors(listCandidates), true_author))"
   ]
  },
  {
   "cell_type": "markdown",
   "metadata": {
    "heading_collapsed": true
   },
   "source": [
    "## ['author','title','big_cate', 'small_cate']"
   ]
  },
  {
   "cell_type": "code",
   "execution_count": 14,
   "metadata": {
    "hidden": true
   },
   "outputs": [],
   "source": [
    "key_values = {\n",
    "    'model_type':'bilstm',\n",
    "    'char_level':False,\n",
    "    'model_version': 2,\n",
    "    'rnn_dim':1024,\n",
    "    'verbose':1,\n",
    "    'attributes_list': ['author','title','big_cate', 'small_cate'],\n",
    "    'embedding_type': 'inferSent',\n",
    "    'dataset': 'merged_book-multiAuthors',\n",
    "    'cluster_method': 'hierarchy',\n",
    "    'num_clusters': 10,\n",
    "    'block_length_thresold': 0.2,\n",
    "}"
   ]
  },
  {
   "cell_type": "code",
   "execution_count": 15,
   "metadata": {
    "hidden": true
   },
   "outputs": [
    {
     "name": "stdout",
     "output_type": "stream",
     "text": [
      ">>>>>>>>>>>>>>>>>>>>>>>>>>>>>>>>>>>>>>>>>>>>>>>>>>>>>>>>>>>>>>>>>>>>>>>>>>>>>>>>>>>>>>>>>>>>>>>>>\n",
      ">>>>>>>>>>>>>>>>>>>>>>>>>>>>book number 1<<<<<<<<<<<<<<<<<<<<<<<<\n",
      "ISBN: 1878685546\n",
      "true author: Alan Shepard, Deke Slayton\n",
      "tot cases of author's name: 16\n",
      "embedding_type: inferSent\n",
      "attributes_list: ['author', 'title', 'big_cate', 'small_cate']\n",
      "model_type: bilstm\n",
      "char_level: False\n",
      "Embedding time is: 3.5261456966400146\n",
      "cluster_method: hierarchy\n",
      "num_clusters: 10\n",
      "Blocking time is: 0.23763108253479004\n",
      "Discarted candidate: [{'alan': 1, 'barbree jay': 86, 'jr': 2}, {'benedict howard': 85, 'benedict howard shepard': 1}, {'alan b shepard': 1, 'alan shepard': 21, 'alan shepherd': 1, 'armstrong neil': 1, 'barbree jay': 1}, {'alan barbree~howard benedict shepard~deke slayton~jay': 1, 'alan shepard': 6, 'armstrong neil': 2, 'barbree jay': 2, 'benedict howard': 2}, {'deke slayton': 8, 'deke slayton w': 1}, {'adams ben': 1, 'alan shepard': 5, 'alan shpard': 1, 'armstrong intro neil': 1}, {'alan shepard': 1, 'nan': 6}, {'armstrong neil': 7}]\n",
      "Possible candidate: [{'armstrong deke neil slayton': 1, 'deke slayton': 113}, {'alan b shepard': 1, 'alan shepard': 90, 'alan shepherd': 5}]\n",
      "lengthNecessary: 90.80000000000001\n",
      "[{'armstrong deke neil slayton': 1, 'deke slayton': 113}, {'alan b shepard': 1, 'alan shepard': 90, 'alan shepherd': 5}]\n",
      "['deke slayton', 'alan shepard'] VS true_author: Alan Shepard, Deke Slayton\n",
      ">>>>>>>>>>>>>>>>>>>>>>>>>>>>>>>>>>>>>>>>>>>>>>>>>>>>>>>>>>>>>>>>>>>>>>>>>>>>>>>>>>>>>>>>>>>>>>>>>\n",
      ">>>>>>>>>>>>>>>>>>>>>>>>>>>>book number 2<<<<<<<<<<<<<<<<<<<<<<<<\n",
      "ISBN: 0394558588\n",
      "true author: Jimmy Carter, Rosalynn Carter\n",
      "tot cases of author's name: 8\n",
      "embedding_type: inferSent\n",
      "attributes_list: ['author', 'title', 'big_cate', 'small_cate']\n",
      "model_type: bilstm\n",
      "char_level: False\n",
      "Embedding time is: 2.8499369621276855\n",
      "cluster_method: hierarchy\n",
      "num_clusters: 10\n",
      "Blocking time is: 0.11883807182312012\n",
      "Discarted candidate: [{'*signed carter rosalynn': 1, 'carter rosalynn': 4, 'nan': 3, 'rosalynn': 19}, {'carter jimmy': 11, 'carter rosalynn': 8, 'rosalynn y': 1}, {'carter jimmy': 8, 'carter rosalynn': 2, 'rosalynn': 6}, {'carter jimmy': 6, 'carter rosalynn': 3, 'jimmy': 1}, {'carter jimmy': 4, 'carter rosalynn': 3, 'jimmy': 1, 'rosalynn': 1}, {'rosalynn': 4}, {'carter rosalynn': 1, 'jimmy': 1}, {'carter jimmy': 1, 'rosalynn': 1}]\n",
      "Possible candidate: [{'carter jimmy': 96, 'carter rosalynn': 2, 'cartere jimmy': 1, 'crater jimmy': 1, 'jimmy': 5}, {'carter rosalynn': 66}]\n",
      "lengthNecessary: 52.2\n",
      "[{'carter jimmy': 96, 'carter rosalynn': 2, 'cartere jimmy': 1, 'crater jimmy': 1, 'jimmy': 5}, {'carter rosalynn': 66}]\n",
      "['carter jimmy', 'carter rosalynn'] VS true_author: Jimmy Carter, Rosalynn Carter\n",
      ">>>>>>>>>>>>>>>>>>>>>>>>>>>>>>>>>>>>>>>>>>>>>>>>>>>>>>>>>>>>>>>>>>>>>>>>>>>>>>>>>>>>>>>>>>>>>>>>>\n",
      ">>>>>>>>>>>>>>>>>>>>>>>>>>>>book number 3<<<<<<<<<<<<<<<<<<<<<<<<\n",
      "ISBN: 0810932776\n",
      "true author: Vadim Petrov, Igor Lysenho, Georgy Egorgy\n",
      "tot cases of author's name: 29\n",
      "embedding_type: inferSent\n",
      "attributes_list: ['author', 'title', 'big_cate', 'small_cate']\n",
      "model_type: bilstm\n",
      "char_level: False\n",
      "Embedding time is: 6.2638890743255615\n",
      "cluster_method: hierarchy\n",
      "num_clusters: 10\n",
      "Blocking time is: 0.29903483390808105\n",
      "Discarted candidate: [{'b egorov georgy': 12, 'egorov georgy': 78}, {'antonina bovis': 1, 'atonina bouis w': 38, 'b egorov g': 16, 'egorov georg': 1, 'english from russian to trans': 1, 'i lysenko v': 13, 'lysenko': 1, 'nan': 3, 'others': 1}, {'marian schwartz': 40}, {'egorov': 1, 'egorov g i lysenko petrov v': 1, 'egorov georgy': 2, 'egoroy georgy': 1, 'igor lysenho': 1, 'igor lysenko': 2, 'igor lyseno': 1, 'lysenho': 1, 'petrov': 1, 'petrov vadim': 5, 'petrov vaoim': 1}, {'petrov v': 14}, {'abrams harry n': 11}, {'egorov georgy': 3, 'igor lysenho': 2, 'igor lysenko': 1, 'petrov vadim': 4}, {'atonina bouis w': 1, 'egorov georgy': 1, 'igor lysenko': 1, 'marian schwartz': 1, 'nan': 1, 'petrov vadim': 1}]\n",
      "Possible candidate: [{'petrov vadim': 97, 'petrov vadim vadimovich': 10}, {'egorov georgy': 5, 'igor lysenho': 7, 'igor lysenkho': 1, 'igor lysenki': 6, 'igor lysenko': 69, 'igor lysenko v': 11, 'perov vadim': 1, 'petrov v': 1, 'petrov yadim': 1}]\n",
      "lengthNecessary: 94.4\n",
      "[{'petrov vadim': 97, 'petrov vadim vadimovich': 10}, {'egorov georgy': 5, 'igor lysenho': 7, 'igor lysenkho': 1, 'igor lysenki': 6, 'igor lysenko': 69, 'igor lysenko v': 11, 'perov vadim': 1, 'petrov v': 1, 'petrov yadim': 1}]\n",
      "['petrov vadim', 'igor lysenko'] VS true_author: Vadim Petrov, Igor Lysenho, Georgy Egorgy\n",
      ">>>>>>>>>>>>>>>>>>>>>>>>>>>>>>>>>>>>>>>>>>>>>>>>>>>>>>>>>>>>>>>>>>>>>>>>>>>>>>>>>>>>>>>>>>>>>>>>>\n",
      ">>>>>>>>>>>>>>>>>>>>>>>>>>>>book number 4<<<<<<<<<<<<<<<<<<<<<<<<\n",
      "ISBN: 0446528382\n",
      "true author: Jack Welch, John A. Byrne\n",
      "tot cases of author's name: 9\n",
      "embedding_type: inferSent\n",
      "attributes_list: ['author', 'title', 'big_cate', 'small_cate']\n",
      "model_type: bilstm\n",
      "char_level: False\n",
      "Embedding time is: 1.9736156463623047\n",
      "cluster_method: hierarchy\n",
      "num_clusters: 10\n",
      "Blocking time is: 0.07905316352844238\n",
      "Discarted candidate: [{'jack': 1, 'jack welch': 20}, {'a byrne john': 16, 'a byrne john welch': 1}, {'jack w welch': 1, 'jack welch': 10}, {'a barnicle byrne jack john mike welch': 1, 'barnicle mike': 10}, {'a': 1, 'nan': 7}, {'a byrne john': 1, 'jack welch': 4}, {'a byrne john': 1, 'jack welch': 1}, {'jack welch': 1}]\n",
      "Possible candidate: [{'a byrne john': 85, 'byrne john': 2}, {'jack w welch': 1, 'jack welch': 83}]\n",
      "lengthNecessary: 49.400000000000006\n",
      "[{'a byrne john': 85, 'byrne john': 2}, {'jack w welch': 1, 'jack welch': 83}]\n",
      "['a byrne john', 'jack welch'] VS true_author: Jack Welch, John A. Byrne\n",
      ">>>>>>>>>>>>>>>>>>>>>>>>>>>>>>>>>>>>>>>>>>>>>>>>>>>>>>>>>>>>>>>>>>>>>>>>>>>>>>>>>>>>>>>>>>>>>>>>>\n",
      ">>>>>>>>>>>>>>>>>>>>>>>>>>>>book number 5<<<<<<<<<<<<<<<<<<<<<<<<\n",
      "ISBN: 0060852550\n",
      "true author: Barbara Kingsolver, Steven L. Hopp, Camille Kingsolver\n",
      "tot cases of author's name: 9\n",
      "embedding_type: inferSent\n",
      "attributes_list: ['author', 'title', 'big_cate', 'small_cate']\n",
      "model_type: bilstm\n",
      "char_level: False\n",
      "Embedding time is: 2.2842419147491455\n",
      "cluster_method: hierarchy\n",
      "num_clusters: 10\n",
      "Blocking time is: 0.12407493591308594\n",
      "Discarted candidate: [{'barbara kingsolver': 24}, {'hopp l steven': 16}, {'barbara kingsolver': 1, 'camille kingsolver': 14}, {'camille kin': 1, 'camille kingslover': 2, 'harper': 1, 'l steven': 1, 'nan': 8}, {'barbara kingsolver': 5, 'camille kingsolver': 1}, {'barbara knigsolver': 1, 'hopp l steven': 1}, {'barbara kingsolver': 2}]\n",
      "Possible candidate: [{'barbara kingsolver': 85}, {'barbara kingsolver': 1, 'camille kingsolver': 77}, {'barbara hopp kingsolvercamille kingsolversteven l': 1, 'hopp l steven': 77}]\n",
      "lengthNecessary: 63.800000000000004\n",
      "[{'barbara kingsolver': 85}, {'barbara kingsolver': 1, 'camille kingsolver': 77}, {'barbara hopp kingsolvercamille kingsolversteven l': 1, 'hopp l steven': 77}]\n",
      "['barbara kingsolver', 'camille kingsolver', 'hopp l steven'] VS true_author: Barbara Kingsolver, Steven L. Hopp, Camille Kingsolver\n",
      ">>>>>>>>>>>>>>>>>>>>>>>>>>>>>>>>>>>>>>>>>>>>>>>>>>>>>>>>>>>>>>>>>>>>>>>>>>>>>>>>>>>>>>>>>>>>>>>>>\n",
      ">>>>>>>>>>>>>>>>>>>>>>>>>>>>book number 6<<<<<<<<<<<<<<<<<<<<<<<<\n",
      "ISBN: 0679432965\n",
      "true author: Colin Powell, Joseph E. Persico\n",
      "tot cases of author's name: 9\n",
      "embedding_type: inferSent\n",
      "attributes_list: ['author', 'title', 'big_cate', 'small_cate']\n",
      "model_type: bilstm\n",
      "char_level: False\n",
      "Embedding time is: 1.5493719577789307\n",
      "cluster_method: hierarchy\n",
      "num_clusters: 10\n",
      "Blocking time is: 0.09770989418029785\n",
      "Discarted candidate: [{'e': 1, 'e joseph persico': 13, 'f joseph persico': 1, 'joseph perisco': 1, 'joseph persico': 8, 'nan': 1}, {'colin powell': 22, 'colin powell w': 1}, {'colin l powell': 14, 'colin powell': 2}, {'colin l powell': 8}, {'e joseph persico': 8}, {'nan': 4, 'persico': 1}, {'colin powell': 2, 'colin powell w': 1, 'e joseph persico': 1}, {'colin l powell': 1, 'colin powell': 1}]\n",
      "Possible candidate: [{'colin l powell': 66, 'colin powell': 4}, {'e joseph persico': 58, 'joseph persico': 7}]\n",
      "lengthNecessary: 45.2\n",
      "[{'colin l powell': 66, 'colin powell': 4}, {'e joseph persico': 58, 'joseph persico': 7}]\n",
      "['colin l powell', 'e joseph persico'] VS true_author: Colin Powell, Joseph E. Persico\n",
      ">>>>>>>>>>>>>>>>>>>>>>>>>>>>>>>>>>>>>>>>>>>>>>>>>>>>>>>>>>>>>>>>>>>>>>>>>>>>>>>>>>>>>>>>>>>>>>>>>\n",
      ">>>>>>>>>>>>>>>>>>>>>>>>>>>>book number 7<<<<<<<<<<<<<<<<<<<<<<<<\n",
      "ISBN: 0060852569\n",
      "true author: Barbara Kingsolver, Steven L. Hopp, Camille Kingsolver\n",
      "tot cases of author's name: 14\n"
     ]
    },
    {
     "name": "stdout",
     "output_type": "stream",
     "text": [
      "embedding_type: inferSent\n",
      "attributes_list: ['author', 'title', 'big_cate', 'small_cate']\n",
      "model_type: bilstm\n",
      "char_level: False\n",
      "Embedding time is: 2.759558916091919\n",
      "cluster_method: hierarchy\n",
      "num_clusters: 10\n",
      "Blocking time is: 0.25157999992370605\n",
      "Discarted candidate: [{'barbara kingsolver': 28}, {'a houser richard': 1, 'camille kin': 1, 'hopp l steven': 25}, {'barbara kingsolver': 1, 'camille kingsolver': 23}, {'barbara kingsolver': 6, 'camille kingsolver': 4, 'kingsolver l steven': 1}, {'barbara kingsolver': 3, 'camille': 1, 'hopp steven': 1, 'l': 1, 'nan': 1}, {'nan': 7}, {'a houser richard': 1, 'barbara hopp': 1, 'hopp l steven': 3}]\n",
      "Possible candidate: [{'barbara kingsolver': 77, 'kingsolver': 2}, {'a houser richard': 1, 'barbara kingslover': 1, 'harper perennial': 1, 'hopp l steven': 64, 'l steven': 1}, {'camille kingsolver': 64}]\n",
      "lengthNecessary: 64.0\n",
      "[{'barbara kingsolver': 77, 'kingsolver': 2}, {'a houser richard': 1, 'barbara kingslover': 1, 'harper perennial': 1, 'hopp l steven': 64, 'l steven': 1}, {'camille kingsolver': 64}]\n",
      "['barbara kingsolver', 'hopp l steven', 'camille kingsolver'] VS true_author: Barbara Kingsolver, Steven L. Hopp, Camille Kingsolver\n",
      ">>>>>>>>>>>>>>>>>>>>>>>>>>>>>>>>>>>>>>>>>>>>>>>>>>>>>>>>>>>>>>>>>>>>>>>>>>>>>>>>>>>>>>>>>>>>>>>>>\n",
      ">>>>>>>>>>>>>>>>>>>>>>>>>>>>book number 8<<<<<<<<<<<<<<<<<<<<<<<<\n",
      "ISBN: 0688123163\n",
      "true author: Ken Blanchard, Sheldon Bowles\n",
      "tot cases of author's name: 14\n",
      "embedding_type: inferSent\n",
      "attributes_list: ['author', 'title', 'big_cate', 'small_cate']\n",
      "model_type: bilstm\n",
      "char_level: False\n",
      "Embedding time is: 1.9718239307403564\n",
      "cluster_method: hierarchy\n",
      "num_clusters: 10\n",
      "Blocking time is: 0.06499719619750977\n",
      "Discarted candidate: [{'blanchard': 1, 'blanchard ken': 14, 'blanchard kenneth': 3, 'bowels sheldon': 1, 'nan': 1}, {'blanchard': 1, 'blanchard h kenneth': 2, 'blanchard ken': 13, 'harvey mackay': 1, 'nan': 2}, {'bowles m sheldon': 15}, {'blanchard h kenneth': 13, 'blanchard kenneth': 1}, {'blanchard': 3, 'blanchard ken': 3, 'bowles': 1, 'bowles ken sheldon': 1, 'bowles sheldon': 2}, {'nan': 7}, {'foreword harvey mackay': 1, 'foreword-harvey mackay': 1, 'harvey mackay': 4, 'harvey mackay sheldon': 1}, {'bowles sheldon': 6}]\n",
      "Possible candidate: [{'bowles sheldon': 69}, {'blanchard bowles ken': 1, 'blanchard ken': 60}]\n",
      "lengthNecessary: 45.6\n",
      "[{'bowles sheldon': 69}, {'blanchard bowles ken': 1, 'blanchard ken': 60}]\n",
      "['bowles sheldon', 'blanchard ken'] VS true_author: Ken Blanchard, Sheldon Bowles\n",
      ">>>>>>>>>>>>>>>>>>>>>>>>>>>>>>>>>>>>>>>>>>>>>>>>>>>>>>>>>>>>>>>>>>>>>>>>>>>>>>>>>>>>>>>>>>>>>>>>>\n",
      ">>>>>>>>>>>>>>>>>>>>>>>>>>>>book number 9<<<<<<<<<<<<<<<<<<<<<<<<\n",
      "ISBN: 0399135189\n",
      "true author: Bob Hope, Melville Shavelson\n",
      "tot cases of author's name: 6\n",
      "embedding_type: inferSent\n",
      "attributes_list: ['author', 'title', 'big_cate', 'small_cate']\n",
      "model_type: bilstm\n",
      "char_level: False\n",
      "Embedding time is: 1.5303950309753418\n",
      "cluster_method: hierarchy\n",
      "num_clusters: 10\n",
      "Blocking time is: 0.04317498207092285\n",
      "Discarted candidate: [{'better homes': 1, 'bob hope': 34, 'gardens': 1, 'melville shavelson': 1}, {'bob hope': 30}, {'melville shavelson': 21}, {'bob hope': 3, 'melville shavelson': 16}, {'melville shavelson': 17}, {'bob hope': 7, 'bob hope~melville shavelson': 1, 'melville shavelson': 3}, {'bob hope': 4, 'melville shavelson': 4}, {'bob hope': 2, 'melville shavelson': 1, 'nan': 2}, {'bob hope': 3}]\n",
      "Possible candidate: [{'bob hope': 37, 'bob hope w': 2, 'melville shavelson': 1}]\n",
      "lengthNecessary: 38.2\n",
      "[{'bob hope': 37, 'bob hope w': 2, 'melville shavelson': 1}]\n",
      "['bob hope'] VS true_author: Bob Hope, Melville Shavelson\n"
     ]
    }
   ],
   "source": [
    "for index in range(0,9):\n",
    "    print(\">>>>>>>>>>>>>>>>>>>>>>>>>>>>>>>>>>>>>>>>>>>>>>>>>>>>>>>>>>>>>>>>>>>>>>>>>>>>>>>>>>>>>>>>>>>>>>>>>\")\n",
    "    print(\">>>>>>>>>>>>>>>>>>>>>>>>>>>>book number {0}<<<<<<<<<<<<<<<<<<<<<<<<\".format(index+1))\n",
    "    table_ISBN, list_authors, true_author = load_by_index(table_group_by_isbn, isbn_list, true_authors, index, key_values['verbose'])\n",
    "    print(\"tot cases of author's name: {0}\".format(len(table_ISBN['author'].value_counts())))\n",
    "    embeddings_tokens = sentence_embedding(table_ISBN, key_values)\n",
    "    blocks = cluster_algorithm(embeddings_tokens, key_values)\n",
    "    listCandidates = get_author_candidates(list_authors, blocks, key_values['block_length_thresold'] * len(embeddings_tokens), key_values['verbose'])\n",
    "    print(listCandidates)\n",
    "    print(\"{0} VS true_author: {1}\".format(getFinalAuthors(listCandidates), true_author))"
   ]
  },
  {
   "cell_type": "markdown",
   "metadata": {
    "heading_collapsed": true
   },
   "source": [
    "## ['author','title','big_cate']"
   ]
  },
  {
   "cell_type": "code",
   "execution_count": 16,
   "metadata": {
    "hidden": true
   },
   "outputs": [
    {
     "name": "stdout",
     "output_type": "stream",
     "text": [
      ">>>>>>>>>>>>>>>>>>>>>>>>>>>>>>>>>>>>>>>>>>>>>>>>>>>>>>>>>>>>>>>>>>>>>>>>>>>>>>>>>>>>>>>>>>>>>>>>>\n",
      ">>>>>>>>>>>>>>>>>>>>>>>>>>>>book number 1<<<<<<<<<<<<<<<<<<<<<<<<\n",
      "ISBN: 1878685546\n",
      "true author: Alan Shepard, Deke Slayton\n",
      "tot cases of author's name: 16\n",
      "embedding_type: inferSent\n",
      "attributes_list: ['author', 'title', 'big_cate']\n",
      "model_type: bilstm\n",
      "char_level: False\n",
      "Embedding time is: 3.991178035736084\n",
      "cluster_method: hierarchy\n",
      "num_clusters: 10\n",
      "Blocking time is: 0.24894404411315918\n",
      "Discarted candidate: [{'alan': 1, 'barbree jay': 86, 'jr': 2}, {'benedict howard': 85, 'benedict howard shepard': 1}, {'alan b shepard': 1, 'alan shepard': 21, 'alan shepherd': 1, 'armstrong neil': 1, 'barbree jay': 1}, {'alan barbree~howard benedict shepard~deke slayton~jay': 1, 'alan shepard': 6, 'armstrong neil': 2, 'barbree jay': 2, 'benedict howard': 2}, {'deke slayton': 8, 'deke slayton w': 1}, {'adams ben': 1, 'alan shepard': 5, 'alan shpard': 1, 'armstrong intro neil': 1}, {'alan shepard': 1, 'nan': 6}, {'armstrong neil': 7}]\n",
      "Possible candidate: [{'armstrong deke neil slayton': 1, 'deke slayton': 113}, {'alan b shepard': 1, 'alan shepard': 90, 'alan shepherd': 5}]\n",
      "lengthNecessary: 90.80000000000001\n",
      "[{'armstrong deke neil slayton': 1, 'deke slayton': 113}, {'alan b shepard': 1, 'alan shepard': 90, 'alan shepherd': 5}]\n",
      "['deke slayton', 'alan shepard'] VS true_author: Alan Shepard, Deke Slayton\n",
      ">>>>>>>>>>>>>>>>>>>>>>>>>>>>>>>>>>>>>>>>>>>>>>>>>>>>>>>>>>>>>>>>>>>>>>>>>>>>>>>>>>>>>>>>>>>>>>>>>\n",
      ">>>>>>>>>>>>>>>>>>>>>>>>>>>>book number 2<<<<<<<<<<<<<<<<<<<<<<<<\n",
      "ISBN: 0394558588\n",
      "true author: Jimmy Carter, Rosalynn Carter\n",
      "tot cases of author's name: 8\n",
      "embedding_type: inferSent\n",
      "attributes_list: ['author', 'title', 'big_cate']\n",
      "model_type: bilstm\n",
      "char_level: False\n",
      "Embedding time is: 2.4722259044647217\n",
      "cluster_method: hierarchy\n",
      "num_clusters: 10\n",
      "Blocking time is: 0.07927799224853516\n",
      "Discarted candidate: [{'*signed carter rosalynn': 1, 'carter rosalynn': 4, 'nan': 3, 'rosalynn': 19}, {'carter jimmy': 11, 'carter rosalynn': 8, 'rosalynn y': 1}, {'carter jimmy': 6, 'carter rosalynn': 1, 'rosalynn': 5}, {'carter jimmy': 6, 'carter rosalynn': 3, 'jimmy': 1}, {'carter jimmy': 4, 'carter rosalynn': 3, 'jimmy': 1, 'rosalynn': 1}, {'carter jimmy': 3, 'carter rosalynn': 1, 'rosalynn': 2}, {'rosalynn': 4}, {'carter rosalynn': 1, 'jimmy': 1}]\n",
      "Possible candidate: [{'carter jimmy': 96, 'carter rosalynn': 2, 'cartere jimmy': 1, 'crater jimmy': 1, 'jimmy': 5}, {'carter rosalynn': 66}]\n",
      "lengthNecessary: 52.2\n",
      "[{'carter jimmy': 96, 'carter rosalynn': 2, 'cartere jimmy': 1, 'crater jimmy': 1, 'jimmy': 5}, {'carter rosalynn': 66}]\n",
      "['carter jimmy', 'carter rosalynn'] VS true_author: Jimmy Carter, Rosalynn Carter\n",
      ">>>>>>>>>>>>>>>>>>>>>>>>>>>>>>>>>>>>>>>>>>>>>>>>>>>>>>>>>>>>>>>>>>>>>>>>>>>>>>>>>>>>>>>>>>>>>>>>>\n",
      ">>>>>>>>>>>>>>>>>>>>>>>>>>>>book number 3<<<<<<<<<<<<<<<<<<<<<<<<\n",
      "ISBN: 0810932776\n",
      "true author: Vadim Petrov, Igor Lysenho, Georgy Egorgy\n",
      "tot cases of author's name: 29\n",
      "embedding_type: inferSent\n",
      "attributes_list: ['author', 'title', 'big_cate']\n",
      "model_type: bilstm\n",
      "char_level: False\n",
      "Embedding time is: 5.480751991271973\n",
      "cluster_method: hierarchy\n",
      "num_clusters: 10\n",
      "Blocking time is: 0.2607889175415039\n",
      "Discarted candidate: [{'b egorov georgy': 12, 'egorov georgy': 78}, {'antonina bovis': 1, 'atonina bouis w': 38, 'b egorov g': 16, 'egorov georg': 1, 'english from russian to trans': 1, 'i lysenko v': 13, 'lysenko': 1, 'nan': 3, 'others': 1}, {'marian schwartz': 41}, {'petrov v': 14}, {'egorov': 1, 'egorov g i lysenko petrov v': 1, 'egorov georgy': 2, 'igor lysenko': 2, 'igor lyseno': 1, 'lysenho': 1, 'petrov': 1, 'petrov vadim': 4}, {'abrams harry n': 11}, {'egorov georgy': 3, 'igor lysenho': 2, 'igor lysenko': 1, 'petrov vadim': 4}, {'egoroy georgy': 1, 'igor lysenho': 1, 'petrov vadim': 1, 'petrov vaoim': 1}]\n",
      "Possible candidate: [{'petrov vadim': 98, 'petrov vadim vadimovich': 10}, {'atonina bouis w': 1, 'egorov georgy': 6, 'igor lysenho': 7, 'igor lysenkho': 1, 'igor lysenki': 6, 'igor lysenko': 70, 'igor lysenko v': 11, 'nan': 1, 'perov vadim': 1, 'petrov v': 1, 'petrov yadim': 1}]\n",
      "lengthNecessary: 94.4\n",
      "[{'petrov vadim': 98, 'petrov vadim vadimovich': 10}, {'atonina bouis w': 1, 'egorov georgy': 6, 'igor lysenho': 7, 'igor lysenkho': 1, 'igor lysenki': 6, 'igor lysenko': 70, 'igor lysenko v': 11, 'nan': 1, 'perov vadim': 1, 'petrov v': 1, 'petrov yadim': 1}]\n",
      "['petrov vadim', 'igor lysenko'] VS true_author: Vadim Petrov, Igor Lysenho, Georgy Egorgy\n",
      ">>>>>>>>>>>>>>>>>>>>>>>>>>>>>>>>>>>>>>>>>>>>>>>>>>>>>>>>>>>>>>>>>>>>>>>>>>>>>>>>>>>>>>>>>>>>>>>>>\n",
      ">>>>>>>>>>>>>>>>>>>>>>>>>>>>book number 4<<<<<<<<<<<<<<<<<<<<<<<<\n",
      "ISBN: 0446528382\n",
      "true author: Jack Welch, John A. Byrne\n",
      "tot cases of author's name: 9\n",
      "embedding_type: inferSent\n",
      "attributes_list: ['author', 'title', 'big_cate']\n",
      "model_type: bilstm\n",
      "char_level: False\n",
      "Embedding time is: 1.541966199874878\n",
      "cluster_method: hierarchy\n",
      "num_clusters: 10\n",
      "Blocking time is: 0.06992602348327637\n",
      "Discarted candidate: [{'jack': 1, 'jack welch': 20}, {'a byrne john': 16, 'a byrne john welch': 1}, {'jack w welch': 1, 'jack welch': 10}, {'a barnicle byrne jack john mike welch': 1, 'barnicle mike': 10}, {'a': 1, 'nan': 7}, {'a byrne john': 1, 'jack welch': 4}, {'a byrne john': 1, 'jack welch': 1}, {'jack welch': 1}]\n",
      "Possible candidate: [{'a byrne john': 85, 'byrne john': 2}, {'jack w welch': 1, 'jack welch': 83}]\n",
      "lengthNecessary: 49.400000000000006\n",
      "[{'a byrne john': 85, 'byrne john': 2}, {'jack w welch': 1, 'jack welch': 83}]\n",
      "['a byrne john', 'jack welch'] VS true_author: Jack Welch, John A. Byrne\n",
      ">>>>>>>>>>>>>>>>>>>>>>>>>>>>>>>>>>>>>>>>>>>>>>>>>>>>>>>>>>>>>>>>>>>>>>>>>>>>>>>>>>>>>>>>>>>>>>>>>\n",
      ">>>>>>>>>>>>>>>>>>>>>>>>>>>>book number 5<<<<<<<<<<<<<<<<<<<<<<<<\n",
      "ISBN: 0060852550\n",
      "true author: Barbara Kingsolver, Steven L. Hopp, Camille Kingsolver\n",
      "tot cases of author's name: 9\n",
      "embedding_type: inferSent\n",
      "attributes_list: ['author', 'title', 'big_cate']\n",
      "model_type: bilstm\n",
      "char_level: False\n",
      "Embedding time is: 1.9056601524353027\n",
      "cluster_method: hierarchy\n",
      "num_clusters: 10\n",
      "Blocking time is: 0.12943124771118164\n",
      "Discarted candidate: [{'barbara kingsolver': 25}, {'hopp l steven': 16}, {'camille kingsolver': 14}, {'camille kin': 1, 'camille kingslover': 2, 'harper': 1, 'l steven': 1, 'nan': 8}, {'barbara kingsolver': 5, 'camille kingsolver': 1}, {'barbara knigsolver': 1, 'hopp l steven': 1}, {'barbara kingsolver': 2}]\n",
      "Possible candidate: [{'barbara kingsolver': 85}, {'barbara kingsolver': 1, 'camille kingsolver': 77}, {'barbara hopp kingsolvercamille kingsolversteven l': 1, 'hopp l steven': 77}]\n",
      "lengthNecessary: 63.800000000000004\n",
      "[{'barbara kingsolver': 85}, {'barbara kingsolver': 1, 'camille kingsolver': 77}, {'barbara hopp kingsolvercamille kingsolversteven l': 1, 'hopp l steven': 77}]\n",
      "['barbara kingsolver', 'camille kingsolver', 'hopp l steven'] VS true_author: Barbara Kingsolver, Steven L. Hopp, Camille Kingsolver\n",
      ">>>>>>>>>>>>>>>>>>>>>>>>>>>>>>>>>>>>>>>>>>>>>>>>>>>>>>>>>>>>>>>>>>>>>>>>>>>>>>>>>>>>>>>>>>>>>>>>>\n",
      ">>>>>>>>>>>>>>>>>>>>>>>>>>>>book number 6<<<<<<<<<<<<<<<<<<<<<<<<\n",
      "ISBN: 0679432965\n",
      "true author: Colin Powell, Joseph E. Persico\n",
      "tot cases of author's name: 9\n",
      "embedding_type: inferSent\n",
      "attributes_list: ['author', 'title', 'big_cate']\n",
      "model_type: bilstm\n",
      "char_level: False\n",
      "Embedding time is: 1.945155143737793\n",
      "cluster_method: hierarchy\n",
      "num_clusters: 10\n",
      "Blocking time is: 0.06687688827514648\n",
      "Discarted candidate: [{'e': 1, 'e joseph persico': 13, 'f joseph persico': 1, 'joseph perisco': 1, 'joseph persico': 8, 'nan': 1}, {'colin powell': 22, 'colin powell w': 1}, {'colin l powell': 14, 'colin powell': 2}, {'colin l powell': 8}, {'e joseph persico': 8}, {'nan': 4, 'persico': 1}, {'colin powell': 2, 'colin powell w': 1, 'e joseph persico': 1}, {'colin l powell': 1, 'colin powell': 1}]\n",
      "Possible candidate: [{'colin l powell': 66, 'colin powell': 4}, {'e joseph persico': 58, 'joseph persico': 7}]\n",
      "lengthNecessary: 45.2\n",
      "[{'colin l powell': 66, 'colin powell': 4}, {'e joseph persico': 58, 'joseph persico': 7}]\n",
      "['colin l powell', 'e joseph persico'] VS true_author: Colin Powell, Joseph E. Persico\n",
      ">>>>>>>>>>>>>>>>>>>>>>>>>>>>>>>>>>>>>>>>>>>>>>>>>>>>>>>>>>>>>>>>>>>>>>>>>>>>>>>>>>>>>>>>>>>>>>>>>\n",
      ">>>>>>>>>>>>>>>>>>>>>>>>>>>>book number 7<<<<<<<<<<<<<<<<<<<<<<<<\n",
      "ISBN: 0060852569\n",
      "true author: Barbara Kingsolver, Steven L. Hopp, Camille Kingsolver\n",
      "tot cases of author's name: 14\n"
     ]
    },
    {
     "name": "stdout",
     "output_type": "stream",
     "text": [
      "embedding_type: inferSent\n",
      "attributes_list: ['author', 'title', 'big_cate']\n",
      "model_type: bilstm\n",
      "char_level: False\n",
      "Embedding time is: 2.3745601177215576\n",
      "cluster_method: hierarchy\n",
      "num_clusters: 10\n",
      "Blocking time is: 0.1181192398071289\n",
      "Discarted candidate: [{'barbara kingsolver': 29}, {'hopp l steven': 25}, {'camille kingsolver': 23}, {'barbara kingsolver': 6, 'camille kingsolver': 4, 'kingsolver l steven': 1}, {'barbara kingsolver': 3, 'camille': 1, 'hopp steven': 1, 'l': 1, 'nan': 1}, {'nan': 7}, {'a houser richard': 1, 'barbara hopp': 1, 'hopp l steven': 3}]\n",
      "Possible candidate: [{'barbara kingsolver': 77, 'kingsolver': 2}, {'a houser richard': 2, 'barbara kingslover': 1, 'camille kin': 1, 'harper perennial': 1, 'hopp l steven': 64, 'l steven': 1}, {'camille kingsolver': 64}]\n",
      "lengthNecessary: 64.0\n",
      "[{'barbara kingsolver': 77, 'kingsolver': 2}, {'a houser richard': 2, 'barbara kingslover': 1, 'camille kin': 1, 'harper perennial': 1, 'hopp l steven': 64, 'l steven': 1}, {'camille kingsolver': 64}]\n",
      "['barbara kingsolver', 'hopp l steven', 'camille kingsolver'] VS true_author: Barbara Kingsolver, Steven L. Hopp, Camille Kingsolver\n",
      ">>>>>>>>>>>>>>>>>>>>>>>>>>>>>>>>>>>>>>>>>>>>>>>>>>>>>>>>>>>>>>>>>>>>>>>>>>>>>>>>>>>>>>>>>>>>>>>>>\n",
      ">>>>>>>>>>>>>>>>>>>>>>>>>>>>book number 8<<<<<<<<<<<<<<<<<<<<<<<<\n",
      "ISBN: 0688123163\n",
      "true author: Ken Blanchard, Sheldon Bowles\n",
      "tot cases of author's name: 14\n",
      "embedding_type: inferSent\n",
      "attributes_list: ['author', 'title', 'big_cate']\n",
      "model_type: bilstm\n",
      "char_level: False\n",
      "Embedding time is: 2.3539960384368896\n",
      "cluster_method: hierarchy\n",
      "num_clusters: 10\n",
      "Blocking time is: 0.07046389579772949\n",
      "Discarted candidate: [{'blanchard': 1, 'blanchard h kenneth': 2, 'blanchard ken': 13, 'harvey mackay': 1}, {'blanchard h kenneth': 13, 'blanchard kenneth': 2}, {'bowles m sheldon': 15}, {'blanchard ken': 6, 'blanchard kenneth': 2, 'bowels sheldon': 1, 'bowles sheldon': 1, 'nan': 1}, {'bowles sheldon': 6, 'nan': 2}, {'blanchard': 3, 'blanchard ken': 2, 'bowles': 1, 'bowles ken sheldon': 1, 'bowles sheldon': 1}, {'nan': 7}, {'foreword harvey mackay': 1, 'foreword-harvey mackay': 1, 'harvey mackay': 4, 'harvey mackay sheldon': 1}]\n",
      "Possible candidate: [{'blanchard': 1, 'blanchard bowles ken': 1, 'blanchard ken': 69}, {'bowles sheldon': 69}]\n",
      "lengthNecessary: 45.6\n",
      "[{'blanchard': 1, 'blanchard bowles ken': 1, 'blanchard ken': 69}, {'bowles sheldon': 69}]\n",
      "['blanchard ken', 'bowles sheldon'] VS true_author: Ken Blanchard, Sheldon Bowles\n",
      ">>>>>>>>>>>>>>>>>>>>>>>>>>>>>>>>>>>>>>>>>>>>>>>>>>>>>>>>>>>>>>>>>>>>>>>>>>>>>>>>>>>>>>>>>>>>>>>>>\n",
      ">>>>>>>>>>>>>>>>>>>>>>>>>>>>book number 9<<<<<<<<<<<<<<<<<<<<<<<<\n",
      "ISBN: 0399135189\n",
      "true author: Bob Hope, Melville Shavelson\n",
      "tot cases of author's name: 6\n",
      "embedding_type: inferSent\n",
      "attributes_list: ['author', 'title', 'big_cate']\n",
      "model_type: bilstm\n",
      "char_level: False\n",
      "Embedding time is: 2.2597787380218506\n",
      "cluster_method: hierarchy\n",
      "num_clusters: 10\n",
      "Blocking time is: 0.05338907241821289\n",
      "Discarted candidate: [{'better homes': 1, 'bob hope': 34, 'gardens': 1, 'melville shavelson': 1}, {'bob hope': 30}, {'melville shavelson': 21}, {'bob hope': 3, 'melville shavelson': 16}, {'melville shavelson': 17}, {'bob hope': 7, 'bob hope~melville shavelson': 1, 'melville shavelson': 3}, {'bob hope': 4, 'melville shavelson': 4}, {'bob hope': 2, 'melville shavelson': 1, 'nan': 2}, {'bob hope': 3}]\n",
      "Possible candidate: [{'bob hope': 37, 'bob hope w': 2, 'melville shavelson': 1}]\n",
      "lengthNecessary: 38.2\n",
      "[{'bob hope': 37, 'bob hope w': 2, 'melville shavelson': 1}]\n",
      "['bob hope'] VS true_author: Bob Hope, Melville Shavelson\n"
     ]
    }
   ],
   "source": [
    "key_values = {\n",
    "    'model_type':'bilstm',\n",
    "    'char_level':False,\n",
    "    'model_version': 2,\n",
    "    'rnn_dim':1024,\n",
    "    'verbose':1,\n",
    "    'attributes_list': ['author','title','big_cate'],\n",
    "    'embedding_type': 'inferSent',\n",
    "    'dataset': 'merged_book-multiAuthors',\n",
    "    'cluster_method': 'hierarchy',\n",
    "    'num_clusters': 10,\n",
    "    'block_length_thresold': 0.2,\n",
    "}\n",
    "\n",
    "for index in range(0,9):\n",
    "    print(\">>>>>>>>>>>>>>>>>>>>>>>>>>>>>>>>>>>>>>>>>>>>>>>>>>>>>>>>>>>>>>>>>>>>>>>>>>>>>>>>>>>>>>>>>>>>>>>>>\")\n",
    "    print(\">>>>>>>>>>>>>>>>>>>>>>>>>>>>book number {0}<<<<<<<<<<<<<<<<<<<<<<<<\".format(index+1))\n",
    "    table_ISBN, list_authors, true_author = load_by_index(table_group_by_isbn, isbn_list, true_authors, index, key_values['verbose'])\n",
    "    print(\"tot cases of author's name: {0}\".format(len(table_ISBN['author'].value_counts())))\n",
    "    embeddings_tokens = sentence_embedding(table_ISBN, key_values)\n",
    "    blocks = cluster_algorithm(embeddings_tokens, key_values)\n",
    "    listCandidates = get_author_candidates(list_authors, blocks, key_values['block_length_thresold'] * len(embeddings_tokens), key_values['verbose'])\n",
    "    print(listCandidates)\n",
    "    print(\"{0} VS true_author: {1}\".format(getFinalAuthors(listCandidates), true_author))"
   ]
  },
  {
   "cell_type": "markdown",
   "metadata": {
    "heading_collapsed": true
   },
   "source": [
    "## ['author','title']"
   ]
  },
  {
   "cell_type": "code",
   "execution_count": 17,
   "metadata": {
    "hidden": true
   },
   "outputs": [
    {
     "name": "stdout",
     "output_type": "stream",
     "text": [
      ">>>>>>>>>>>>>>>>>>>>>>>>>>>>>>>>>>>>>>>>>>>>>>>>>>>>>>>>>>>>>>>>>>>>>>>>>>>>>>>>>>>>>>>>>>>>>>>>>\n",
      ">>>>>>>>>>>>>>>>>>>>>>>>>>>>book number 1<<<<<<<<<<<<<<<<<<<<<<<<\n",
      "ISBN: 1878685546\n",
      "true author: Alan Shepard, Deke Slayton\n",
      "tot cases of author's name: 16\n",
      "embedding_type: inferSent\n",
      "attributes_list: ['author', 'title']\n",
      "model_type: bilstm\n",
      "char_level: False\n",
      "Embedding time is: 3.7854409217834473\n",
      "cluster_method: hierarchy\n",
      "num_clusters: 10\n",
      "Blocking time is: 0.25205302238464355\n",
      "Discarted candidate: [{'alan': 1, 'barbree jay': 86, 'jr': 2}, {'benedict howard': 85, 'benedict howard shepard': 1}, {'alan b shepard': 1, 'alan shepard': 21, 'alan shepherd': 1, 'armstrong neil': 1, 'barbree jay': 1}, {'alan barbree~howard benedict shepard~deke slayton~jay': 1, 'alan shepard': 6, 'armstrong neil': 2, 'barbree jay': 2, 'benedict howard': 2}, {'deke slayton': 8, 'deke slayton w': 1}, {'adams ben': 1, 'alan shepard': 5, 'alan shpard': 1, 'armstrong intro neil': 1}, {'alan shepard': 1, 'nan': 6}, {'armstrong neil': 7}]\n",
      "Possible candidate: [{'armstrong deke neil slayton': 1, 'deke slayton': 113}, {'alan b shepard': 1, 'alan shepard': 90, 'alan shepherd': 5}]\n",
      "lengthNecessary: 90.80000000000001\n",
      "[{'armstrong deke neil slayton': 1, 'deke slayton': 113}, {'alan b shepard': 1, 'alan shepard': 90, 'alan shepherd': 5}]\n",
      "['deke slayton', 'alan shepard'] VS true_author: Alan Shepard, Deke Slayton\n",
      ">>>>>>>>>>>>>>>>>>>>>>>>>>>>>>>>>>>>>>>>>>>>>>>>>>>>>>>>>>>>>>>>>>>>>>>>>>>>>>>>>>>>>>>>>>>>>>>>>\n",
      ">>>>>>>>>>>>>>>>>>>>>>>>>>>>book number 2<<<<<<<<<<<<<<<<<<<<<<<<\n",
      "ISBN: 0394558588\n",
      "true author: Jimmy Carter, Rosalynn Carter\n",
      "tot cases of author's name: 8\n",
      "embedding_type: inferSent\n",
      "attributes_list: ['author', 'title']\n",
      "model_type: bilstm\n",
      "char_level: False\n",
      "Embedding time is: 2.0372700691223145\n",
      "cluster_method: hierarchy\n",
      "num_clusters: 10\n",
      "Blocking time is: 0.07598209381103516\n",
      "Discarted candidate: [{'carter jimmy': 15, 'carter rosalynn': 3, 'cartere jimmy': 1, 'crater jimmy': 1, 'jimmy': 5, 'rosalynn': 1}, {'nan': 3, 'rosalynn': 20, 'rosalynn y': 1}, {'carter jimmy': 7, 'carter rosalynn': 2, 'rosalynn': 5}, {'carter jimmy': 6, 'carter rosalynn': 3, 'jimmy': 1}, {'carter jimmy': 2, 'carter rosalynn': 2, 'jimmy': 1, 'rosalynn': 1}, {'rosalynn': 4}, {'carter jimmy': 2, 'carter rosalynn': 1}, {'carter rosalynn': 1, 'jimmy': 1}]\n",
      "Possible candidate: [{'carter jimmy': 94}, {'*signed carter rosalynn': 1, 'carter rosalynn': 77}]\n",
      "lengthNecessary: 52.2\n",
      "[{'carter jimmy': 94}, {'*signed carter rosalynn': 1, 'carter rosalynn': 77}]\n",
      "['carter jimmy', 'carter rosalynn'] VS true_author: Jimmy Carter, Rosalynn Carter\n",
      ">>>>>>>>>>>>>>>>>>>>>>>>>>>>>>>>>>>>>>>>>>>>>>>>>>>>>>>>>>>>>>>>>>>>>>>>>>>>>>>>>>>>>>>>>>>>>>>>>\n",
      ">>>>>>>>>>>>>>>>>>>>>>>>>>>>book number 3<<<<<<<<<<<<<<<<<<<<<<<<\n",
      "ISBN: 0810932776\n",
      "true author: Vadim Petrov, Igor Lysenho, Georgy Egorgy\n",
      "tot cases of author's name: 29\n",
      "embedding_type: inferSent\n",
      "attributes_list: ['author', 'title']\n",
      "model_type: bilstm\n",
      "char_level: False\n",
      "Embedding time is: 5.80972695350647\n",
      "cluster_method: hierarchy\n",
      "num_clusters: 10\n",
      "Blocking time is: 0.25313496589660645\n",
      "Discarted candidate: [{'b egorov georgy': 12, 'egorov georgy': 79}, {'antonina bovis': 1, 'atonina bouis w': 39, 'b egorov g': 16, 'egorov georg': 1, 'english from russian to trans': 1, 'lysenko': 1, 'nan': 4, 'others': 1}, {'marian schwartz': 41}, {'i lysenko v': 13, 'petrov v': 14}, {'egorov': 1, 'egorov g i lysenko petrov v': 1, 'egorov georgy': 2, 'igor lysenko': 2, 'igor lyseno': 1, 'lysenho': 1, 'petrov': 1, 'petrov vadim': 4}, {'abrams harry n': 11}, {'egorov georgy': 3, 'igor lysenho': 2, 'igor lysenko': 1, 'petrov vadim': 4}, {'egoroy georgy': 1, 'igor lysenho': 1, 'petrov vadim': 1, 'petrov vaoim': 1}]\n",
      "Possible candidate: [{'petrov vadim': 98, 'petrov vadim vadimovich': 10}, {'egorov georgy': 5, 'igor lysenho': 7, 'igor lysenkho': 1, 'igor lysenki': 6, 'igor lysenko': 70, 'igor lysenko v': 11, 'perov vadim': 1, 'petrov v': 1, 'petrov yadim': 1}]\n",
      "lengthNecessary: 94.4\n",
      "[{'petrov vadim': 98, 'petrov vadim vadimovich': 10}, {'egorov georgy': 5, 'igor lysenho': 7, 'igor lysenkho': 1, 'igor lysenki': 6, 'igor lysenko': 70, 'igor lysenko v': 11, 'perov vadim': 1, 'petrov v': 1, 'petrov yadim': 1}]\n",
      "['petrov vadim', 'igor lysenko'] VS true_author: Vadim Petrov, Igor Lysenho, Georgy Egorgy\n",
      ">>>>>>>>>>>>>>>>>>>>>>>>>>>>>>>>>>>>>>>>>>>>>>>>>>>>>>>>>>>>>>>>>>>>>>>>>>>>>>>>>>>>>>>>>>>>>>>>>\n",
      ">>>>>>>>>>>>>>>>>>>>>>>>>>>>book number 4<<<<<<<<<<<<<<<<<<<<<<<<\n",
      "ISBN: 0446528382\n",
      "true author: Jack Welch, John A. Byrne\n",
      "tot cases of author's name: 9\n",
      "embedding_type: inferSent\n",
      "attributes_list: ['author', 'title']\n",
      "model_type: bilstm\n",
      "char_level: False\n",
      "Embedding time is: 1.1066758632659912\n",
      "cluster_method: hierarchy\n",
      "num_clusters: 10\n",
      "Blocking time is: 0.0701608657836914\n",
      "Discarted candidate: [{'jack': 1, 'jack w welch': 1, 'jack welch': 10}, {'a byrne john': 10, 'a byrne john welch': 1}, {'barnicle mike': 10}, {'a': 1, 'nan': 7}, {'jack welch': 7}, {'a byrne john': 1, 'jack welch': 4}, {'a barnicle byrne jack john mike welch': 1, 'a byrne john': 1, 'jack welch': 1}, {'jack welch': 1}]\n",
      "Possible candidate: [{'jack w welch': 1, 'jack welch': 96}, {'a byrne john': 91, 'byrne john': 2}]\n",
      "lengthNecessary: 49.400000000000006\n",
      "[{'jack w welch': 1, 'jack welch': 96}, {'a byrne john': 91, 'byrne john': 2}]\n",
      "['jack welch', 'a byrne john'] VS true_author: Jack Welch, John A. Byrne\n",
      ">>>>>>>>>>>>>>>>>>>>>>>>>>>>>>>>>>>>>>>>>>>>>>>>>>>>>>>>>>>>>>>>>>>>>>>>>>>>>>>>>>>>>>>>>>>>>>>>>\n",
      ">>>>>>>>>>>>>>>>>>>>>>>>>>>>book number 5<<<<<<<<<<<<<<<<<<<<<<<<\n",
      "ISBN: 0060852550\n",
      "true author: Barbara Kingsolver, Steven L. Hopp, Camille Kingsolver\n",
      "tot cases of author's name: 9\n",
      "embedding_type: inferSent\n",
      "attributes_list: ['author', 'title']\n",
      "model_type: bilstm\n",
      "char_level: False\n",
      "Embedding time is: 1.7092068195343018\n",
      "cluster_method: hierarchy\n",
      "num_clusters: 10\n",
      "Blocking time is: 0.11998581886291504\n",
      "Discarted candidate: [{'barbara kingsolver': 13}, {'barbara hopp kingsolvercamille kingsolversteven l': 1, 'hopp l steven': 9}, {'nan': 8}, {'barbara kingsolver': 5, 'camille kingsolver': 1}, {'camille kin': 1, 'camille kingslover': 2, 'harper': 1, 'l steven': 1}, {'barbara knigsolver': 1, 'hopp l steven': 1}, {'barbara kingsolver': 2}]\n",
      "Possible candidate: [{'barbara kingsolver': 97}, {'barbara kingsolver': 1, 'camille kingsolver': 91}, {'hopp l steven': 84}]\n",
      "lengthNecessary: 63.800000000000004\n",
      "[{'barbara kingsolver': 97}, {'barbara kingsolver': 1, 'camille kingsolver': 91}, {'hopp l steven': 84}]\n",
      "['barbara kingsolver', 'camille kingsolver', 'hopp l steven'] VS true_author: Barbara Kingsolver, Steven L. Hopp, Camille Kingsolver\n",
      ">>>>>>>>>>>>>>>>>>>>>>>>>>>>>>>>>>>>>>>>>>>>>>>>>>>>>>>>>>>>>>>>>>>>>>>>>>>>>>>>>>>>>>>>>>>>>>>>>\n",
      ">>>>>>>>>>>>>>>>>>>>>>>>>>>>book number 6<<<<<<<<<<<<<<<<<<<<<<<<\n",
      "ISBN: 0679432965\n",
      "true author: Colin Powell, Joseph E. Persico\n",
      "tot cases of author's name: 9\n",
      "embedding_type: inferSent\n",
      "attributes_list: ['author', 'title']\n",
      "model_type: bilstm\n",
      "char_level: False\n",
      "Embedding time is: 1.2686419486999512\n",
      "cluster_method: hierarchy\n",
      "num_clusters: 10\n",
      "Blocking time is: 0.06255102157592773\n",
      "Discarted candidate: [{'colin powell': 23, 'colin powell w': 1}, {'e joseph persico': 13, 'f joseph persico': 1, 'joseph perisco': 1, 'joseph persico': 8}, {'colin l powell': 15, 'colin powell': 2}, {'colin l powell': 8}, {'e joseph persico': 8}, {'joseph persico': 7}, {'e': 1, 'nan': 5, 'persico': 1}, {'colin powell': 2, 'colin powell w': 1, 'e joseph persico': 1}]\n",
      "Possible candidate: [{'colin l powell': 66, 'colin powell': 4}, {'e joseph persico': 58}]\n",
      "lengthNecessary: 45.2\n",
      "[{'colin l powell': 66, 'colin powell': 4}, {'e joseph persico': 58}]\n",
      "['colin l powell', 'e joseph persico'] VS true_author: Colin Powell, Joseph E. Persico\n",
      ">>>>>>>>>>>>>>>>>>>>>>>>>>>>>>>>>>>>>>>>>>>>>>>>>>>>>>>>>>>>>>>>>>>>>>>>>>>>>>>>>>>>>>>>>>>>>>>>>\n",
      ">>>>>>>>>>>>>>>>>>>>>>>>>>>>book number 7<<<<<<<<<<<<<<<<<<<<<<<<\n",
      "ISBN: 0060852569\n",
      "true author: Barbara Kingsolver, Steven L. Hopp, Camille Kingsolver\n",
      "tot cases of author's name: 14\n",
      "embedding_type: inferSent\n",
      "attributes_list: ['author', 'title']\n",
      "model_type: bilstm\n",
      "char_level: False\n",
      "Embedding time is: 1.8827378749847412\n",
      "cluster_method: hierarchy\n",
      "num_clusters: 10\n",
      "Blocking time is: 0.14660191535949707\n",
      "Discarted candidate: [{'barbara kingsolver': 6, 'camille kingsolver': 4, 'kingsolver l steven': 1}, {'nan': 7}, {'barbara hopp': 1, 'hopp l steven': 3}, {'barbara kingslover': 1, 'camille kin': 1, 'harper perennial': 1, 'l steven': 1}, {'camille': 1, 'hopp steven': 1, 'l': 1, 'nan': 1}, {'a houser richard': 3}, {'barbara kingsolver': 3}]\n",
      "Possible candidate: [{'barbara kingsolver': 106, 'kingsolver': 2}, {'hopp l steven': 89}, {'camille kingsolver': 87}]\n",
      "lengthNecessary: 64.0\n",
      "[{'barbara kingsolver': 106, 'kingsolver': 2}, {'hopp l steven': 89}, {'camille kingsolver': 87}]\n",
      "['barbara kingsolver', 'hopp l steven', 'camille kingsolver'] VS true_author: Barbara Kingsolver, Steven L. Hopp, Camille Kingsolver\n",
      ">>>>>>>>>>>>>>>>>>>>>>>>>>>>>>>>>>>>>>>>>>>>>>>>>>>>>>>>>>>>>>>>>>>>>>>>>>>>>>>>>>>>>>>>>>>>>>>>>\n",
      ">>>>>>>>>>>>>>>>>>>>>>>>>>>>book number 8<<<<<<<<<<<<<<<<<<<<<<<<\n",
      "ISBN: 0688123163\n",
      "true author: Ken Blanchard, Sheldon Bowles\n",
      "tot cases of author's name: 14\n"
     ]
    },
    {
     "name": "stdout",
     "output_type": "stream",
     "text": [
      "embedding_type: inferSent\n",
      "attributes_list: ['author', 'title']\n",
      "model_type: bilstm\n",
      "char_level: False\n",
      "Embedding time is: 1.6197230815887451\n",
      "cluster_method: hierarchy\n",
      "num_clusters: 10\n",
      "Blocking time is: 0.0664219856262207\n",
      "Discarted candidate: [{'blanchard': 1, 'blanchard h kenneth': 2, 'blanchard ken': 13, 'harvey mackay': 1}, {'blanchard h kenneth': 13, 'blanchard kenneth': 2}, {'bowles m sheldon': 15}, {'blanchard ken': 6, 'blanchard kenneth': 2, 'bowels sheldon': 1, 'bowles sheldon': 1, 'nan': 1}, {'bowles sheldon': 6, 'nan': 2}, {'blanchard': 3, 'blanchard ken': 2, 'bowles': 1, 'bowles ken sheldon': 1, 'bowles sheldon': 1}, {'nan': 7}, {'foreword harvey mackay': 1, 'foreword-harvey mackay': 1, 'harvey mackay': 4, 'harvey mackay sheldon': 1}]\n",
      "Possible candidate: [{'blanchard': 1, 'blanchard bowles ken': 1, 'blanchard ken': 69}, {'bowles sheldon': 69}]\n",
      "lengthNecessary: 45.6\n",
      "[{'blanchard': 1, 'blanchard bowles ken': 1, 'blanchard ken': 69}, {'bowles sheldon': 69}]\n",
      "['blanchard ken', 'bowles sheldon'] VS true_author: Ken Blanchard, Sheldon Bowles\n",
      ">>>>>>>>>>>>>>>>>>>>>>>>>>>>>>>>>>>>>>>>>>>>>>>>>>>>>>>>>>>>>>>>>>>>>>>>>>>>>>>>>>>>>>>>>>>>>>>>>\n",
      ">>>>>>>>>>>>>>>>>>>>>>>>>>>>book number 9<<<<<<<<<<<<<<<<<<<<<<<<\n",
      "ISBN: 0399135189\n",
      "true author: Bob Hope, Melville Shavelson\n",
      "tot cases of author's name: 6\n",
      "embedding_type: inferSent\n",
      "attributes_list: ['author', 'title']\n",
      "model_type: bilstm\n",
      "char_level: False\n",
      "Embedding time is: 1.2436902523040771\n",
      "cluster_method: hierarchy\n",
      "num_clusters: 10\n",
      "Blocking time is: 0.04282116889953613\n",
      "Discarted candidate: [{'better homes': 1, 'bob hope': 34, 'gardens': 1, 'melville shavelson': 1}, {'bob hope': 30}, {'melville shavelson': 22}, {'bob hope': 3, 'melville shavelson': 16}, {'melville shavelson': 17}, {'bob hope': 7, 'bob hope~melville shavelson': 1, 'melville shavelson': 3}, {'bob hope': 4, 'melville shavelson': 4}, {'bob hope': 2, 'nan': 2}, {'bob hope': 3}]\n",
      "Possible candidate: [{'bob hope': 37, 'bob hope w': 2, 'melville shavelson': 1}]\n",
      "lengthNecessary: 38.2\n",
      "[{'bob hope': 37, 'bob hope w': 2, 'melville shavelson': 1}]\n",
      "['bob hope'] VS true_author: Bob Hope, Melville Shavelson\n"
     ]
    }
   ],
   "source": [
    "key_values = {\n",
    "    'model_type':'bilstm',\n",
    "    'char_level':False,\n",
    "    'model_version': 2,\n",
    "    'rnn_dim':1024,\n",
    "    'verbose':1,\n",
    "    'attributes_list': ['author','title'],\n",
    "    'embedding_type': 'inferSent',\n",
    "    'dataset': 'merged_book-multiAuthors',\n",
    "    'cluster_method': 'hierarchy',\n",
    "    'num_clusters': 10,\n",
    "    'block_length_thresold': 0.2,\n",
    "}\n",
    "\n",
    "for index in range(0,9):\n",
    "    print(\">>>>>>>>>>>>>>>>>>>>>>>>>>>>>>>>>>>>>>>>>>>>>>>>>>>>>>>>>>>>>>>>>>>>>>>>>>>>>>>>>>>>>>>>>>>>>>>>>\")\n",
    "    print(\">>>>>>>>>>>>>>>>>>>>>>>>>>>>book number {0}<<<<<<<<<<<<<<<<<<<<<<<<\".format(index+1))\n",
    "    table_ISBN, list_authors, true_author = load_by_index(table_group_by_isbn, isbn_list, true_authors, index, key_values['verbose'])\n",
    "    print(\"tot cases of author's name: {0}\".format(len(table_ISBN['author'].value_counts())))\n",
    "    embeddings_tokens = sentence_embedding(table_ISBN, key_values)\n",
    "    blocks = cluster_algorithm(embeddings_tokens, key_values)\n",
    "    listCandidates = get_author_candidates(list_authors, blocks, key_values['block_length_thresold'] * len(embeddings_tokens), key_values['verbose'])\n",
    "    print(listCandidates)\n",
    "    print(\"{0} VS true_author: {1}\".format(getFinalAuthors(listCandidates), true_author))"
   ]
  },
  {
   "cell_type": "markdown",
   "metadata": {},
   "source": [
    "## ['author']"
   ]
  },
  {
   "cell_type": "code",
   "execution_count": 18,
   "metadata": {},
   "outputs": [
    {
     "name": "stdout",
     "output_type": "stream",
     "text": [
      ">>>>>>>>>>>>>>>>>>>>>>>>>>>>>>>>>>>>>>>>>>>>>>>>>>>>>>>>>>>>>>>>>>>>>>>>>>>>>>>>>>>>>>>>>>>>>>>>>\n",
      ">>>>>>>>>>>>>>>>>>>>>>>>>>>>book number 1<<<<<<<<<<<<<<<<<<<<<<<<\n",
      "ISBN: 1878685546\n",
      "true author: Alan Shepard, Deke Slayton\n",
      "tot cases of author's name: 16\n",
      "embedding_type: inferSent\n",
      "attributes_list: ['author']\n",
      "model_type: bilstm\n",
      "char_level: False\n",
      "Embedding time is: 1.4238479137420654\n",
      "cluster_method: hierarchy\n",
      "num_clusters: 10\n",
      "Blocking time is: 0.2919588088989258\n",
      "Discarted candidate: [{'barbree jay': 89}, {'alan barbree~howard benedict shepard~deke slayton~jay': 1, 'benedict howard': 87, 'benedict howard shepard': 1}, {'armstrong intro neil': 1, 'armstrong neil': 10}, {'nan': 6}, {'alan shepherd': 6}, {'adams ben': 1, 'alan': 1, 'alan shpard': 1}, {'jr': 2}, {'armstrong deke neil slayton': 1}]\n",
      "Possible candidate: [{'alan b shepard': 2, 'alan shepard': 123}, {'deke slayton': 121, 'deke slayton w': 1}]\n",
      "lengthNecessary: 90.80000000000001\n",
      "[{'alan b shepard': 2, 'alan shepard': 123}, {'deke slayton': 121, 'deke slayton w': 1}]\n",
      "['alan shepard', 'deke slayton'] VS true_author: Alan Shepard, Deke Slayton\n",
      ">>>>>>>>>>>>>>>>>>>>>>>>>>>>>>>>>>>>>>>>>>>>>>>>>>>>>>>>>>>>>>>>>>>>>>>>>>>>>>>>>>>>>>>>>>>>>>>>>\n",
      ">>>>>>>>>>>>>>>>>>>>>>>>>>>>book number 2<<<<<<<<<<<<<<<<<<<<<<<<\n",
      "ISBN: 0394558588\n",
      "true author: Jimmy Carter, Rosalynn Carter\n",
      "tot cases of author's name: 8\n",
      "embedding_type: inferSent\n",
      "attributes_list: ['author']\n",
      "model_type: bilstm\n",
      "char_level: False\n",
      "Embedding time is: 0.8003859519958496\n",
      "cluster_method: hierarchy\n",
      "num_clusters: 10\n",
      "Blocking time is: 0.09327888488769531\n",
      "Discarted candidate: [{'rosalynn': 26}, {'cartere jimmy': 1, 'jimmy': 8}, {'rosalynn': 5}, {'nan': 3}, {'crater jimmy': 1}, {'carter jimmy': 1}, {'rosalynn y': 1}, {'carter jimmy': 1}]\n",
      "Possible candidate: [{'carter jimmy': 124}, {'*signed carter rosalynn': 1, 'carter rosalynn': 89}]\n",
      "lengthNecessary: 52.2\n",
      "[{'carter jimmy': 124}, {'*signed carter rosalynn': 1, 'carter rosalynn': 89}]\n",
      "['carter jimmy', 'carter rosalynn'] VS true_author: Jimmy Carter, Rosalynn Carter\n",
      ">>>>>>>>>>>>>>>>>>>>>>>>>>>>>>>>>>>>>>>>>>>>>>>>>>>>>>>>>>>>>>>>>>>>>>>>>>>>>>>>>>>>>>>>>>>>>>>>>\n",
      ">>>>>>>>>>>>>>>>>>>>>>>>>>>>book number 3<<<<<<<<<<<<<<<<<<<<<<<<\n",
      "ISBN: 0810932776\n",
      "true author: Vadim Petrov, Igor Lysenho, Georgy Egorgy\n",
      "tot cases of author's name: 29\n",
      "embedding_type: inferSent\n",
      "attributes_list: ['author']\n",
      "model_type: bilstm\n",
      "char_level: False\n",
      "Embedding time is: 1.3122570514678955\n",
      "cluster_method: hierarchy\n",
      "num_clusters: 10\n",
      "Blocking time is: 0.29134488105773926\n",
      "Discarted candidate: [{'igor lysenho': 10, 'igor lysenkho': 1, 'igor lysenki': 6, 'igor lysenko': 73, 'igor lyseno': 1}, {'marian schwartz': 41}, {'atonina bouis w': 39}, {'b egorov g': 16, 'egorov': 1, 'lysenho': 1, 'lysenko': 1, 'nan': 4, 'others': 1}, {'antonina bovis': 1, 'egorov g i lysenko petrov v': 1, 'egorov georg': 1, 'english from russian to trans': 1, 'perov vadim': 1, 'petrov': 1, 'petrov v': 15, 'petrov vaoim': 1, 'petrov yadim': 1}, {'i lysenko v': 13}, {'igor lysenko v': 11}, {'abrams harry n': 11}]\n",
      "Possible candidate: [{'petrov vadim': 107, 'petrov vadim vadimovich': 10}, {'b egorov georgy': 12, 'egorov georgy': 89, 'egoroy georgy': 1}]\n",
      "lengthNecessary: 94.4\n",
      "[{'petrov vadim': 107, 'petrov vadim vadimovich': 10}, {'b egorov georgy': 12, 'egorov georgy': 89, 'egoroy georgy': 1}]\n",
      "['petrov vadim', 'egorov georgy'] VS true_author: Vadim Petrov, Igor Lysenho, Georgy Egorgy\n",
      ">>>>>>>>>>>>>>>>>>>>>>>>>>>>>>>>>>>>>>>>>>>>>>>>>>>>>>>>>>>>>>>>>>>>>>>>>>>>>>>>>>>>>>>>>>>>>>>>>\n",
      ">>>>>>>>>>>>>>>>>>>>>>>>>>>>book number 4<<<<<<<<<<<<<<<<<<<<<<<<\n",
      "ISBN: 0446528382\n",
      "true author: Jack Welch, John A. Byrne\n",
      "tot cases of author's name: 9\n",
      "embedding_type: inferSent\n",
      "attributes_list: ['author']\n",
      "model_type: bilstm\n",
      "char_level: False\n",
      "Embedding time is: 0.9374120235443115\n",
      "cluster_method: hierarchy\n",
      "num_clusters: 10\n",
      "Blocking time is: 0.07334613800048828\n",
      "Discarted candidate: [{'barnicle mike': 10}, {'nan': 7}, {'jack w welch': 2}, {'byrne john': 2}, {'a': 1}, {'a barnicle byrne jack john mike welch': 1}, {'jack': 1}, {'a byrne john welch': 1}]\n",
      "Possible candidate: [{'jack welch': 119}, {'a byrne john': 103}]\n",
      "lengthNecessary: 49.400000000000006\n",
      "[{'jack welch': 119}, {'a byrne john': 103}]\n",
      "['jack welch', 'a byrne john'] VS true_author: Jack Welch, John A. Byrne\n",
      ">>>>>>>>>>>>>>>>>>>>>>>>>>>>>>>>>>>>>>>>>>>>>>>>>>>>>>>>>>>>>>>>>>>>>>>>>>>>>>>>>>>>>>>>>>>>>>>>>\n",
      ">>>>>>>>>>>>>>>>>>>>>>>>>>>>book number 5<<<<<<<<<<<<<<<<<<<<<<<<\n",
      "ISBN: 0060852550\n",
      "true author: Barbara Kingsolver, Steven L. Hopp, Camille Kingsolver\n",
      "tot cases of author's name: 9\n",
      "embedding_type: inferSent\n",
      "attributes_list: ['author']\n",
      "model_type: bilstm\n",
      "char_level: False\n",
      "Embedding time is: 0.8652079105377197\n",
      "cluster_method: hierarchy\n",
      "num_clusters: 10\n",
      "Blocking time is: 0.11995196342468262\n",
      "Discarted candidate: [{'nan': 8}, {'camille kingslover': 2}, {'harper': 1}, {'barbara hopp kingsolvercamille kingsolversteven l': 1}, {'l steven': 1}, {'barbara knigsolver': 1}, {'camille kin': 1}]\n",
      "Possible candidate: [{'barbara kingsolver': 118}, {'hopp l steven': 94}, {'camille kingsolver': 92}]\n",
      "lengthNecessary: 63.800000000000004\n",
      "[{'barbara kingsolver': 118}, {'hopp l steven': 94}, {'camille kingsolver': 92}]\n",
      "['barbara kingsolver', 'hopp l steven', 'camille kingsolver'] VS true_author: Barbara Kingsolver, Steven L. Hopp, Camille Kingsolver\n",
      ">>>>>>>>>>>>>>>>>>>>>>>>>>>>>>>>>>>>>>>>>>>>>>>>>>>>>>>>>>>>>>>>>>>>>>>>>>>>>>>>>>>>>>>>>>>>>>>>>\n",
      ">>>>>>>>>>>>>>>>>>>>>>>>>>>>book number 6<<<<<<<<<<<<<<<<<<<<<<<<\n",
      "ISBN: 0679432965\n",
      "true author: Colin Powell, Joseph E. Persico\n",
      "tot cases of author's name: 9\n",
      "embedding_type: inferSent\n",
      "attributes_list: ['author']\n",
      "model_type: bilstm\n",
      "char_level: False\n",
      "Embedding time is: 0.6262309551239014\n",
      "cluster_method: hierarchy\n",
      "num_clusters: 10\n",
      "Blocking time is: 0.06276202201843262\n",
      "Discarted candidate: [{'colin powell': 31}, {'joseph perisco': 1, 'joseph persico': 15}, {'nan': 5}, {'e': 1}, {'persico': 1}, {'colin powell w': 1}, {'colin powell w': 1}, {'f joseph persico': 1}]\n",
      "Possible candidate: [{'colin l powell': 89}, {'e joseph persico': 80}]\n",
      "lengthNecessary: 45.2\n",
      "[{'colin l powell': 89}, {'e joseph persico': 80}]\n",
      "['colin l powell', 'e joseph persico'] VS true_author: Colin Powell, Joseph E. Persico\n",
      ">>>>>>>>>>>>>>>>>>>>>>>>>>>>>>>>>>>>>>>>>>>>>>>>>>>>>>>>>>>>>>>>>>>>>>>>>>>>>>>>>>>>>>>>>>>>>>>>>\n",
      ">>>>>>>>>>>>>>>>>>>>>>>>>>>>book number 7<<<<<<<<<<<<<<<<<<<<<<<<\n",
      "ISBN: 0060852569\n",
      "true author: Barbara Kingsolver, Steven L. Hopp, Camille Kingsolver\n",
      "tot cases of author's name: 14\n",
      "embedding_type: inferSent\n",
      "attributes_list: ['author']\n",
      "model_type: bilstm\n",
      "char_level: False\n",
      "Embedding time is: 0.9053969383239746\n",
      "cluster_method: hierarchy\n",
      "num_clusters: 10\n",
      "Blocking time is: 0.12006616592407227\n",
      "Discarted candidate: [{'nan': 8}, {'kingsolver': 2, 'kingsolver l steven': 1}, {'a houser richard': 3}, {'barbara kingslover': 1, 'l': 1, 'l steven': 1}, {'camille': 1, 'camille kin': 1}, {'harper perennial': 1}, {'barbara hopp': 1}]\n",
      "Possible candidate: [{'barbara kingsolver': 115}, {'hopp l steven': 92, 'hopp steven': 1}, {'camille kingsolver': 91}]\n",
      "lengthNecessary: 64.0\n",
      "[{'barbara kingsolver': 115}, {'hopp l steven': 92, 'hopp steven': 1}, {'camille kingsolver': 91}]\n",
      "['barbara kingsolver', 'hopp l steven', 'camille kingsolver'] VS true_author: Barbara Kingsolver, Steven L. Hopp, Camille Kingsolver\n",
      ">>>>>>>>>>>>>>>>>>>>>>>>>>>>>>>>>>>>>>>>>>>>>>>>>>>>>>>>>>>>>>>>>>>>>>>>>>>>>>>>>>>>>>>>>>>>>>>>>\n",
      ">>>>>>>>>>>>>>>>>>>>>>>>>>>>book number 8<<<<<<<<<<<<<<<<<<<<<<<<\n",
      "ISBN: 0688123163\n",
      "true author: Ken Blanchard, Sheldon Bowles\n",
      "tot cases of author's name: 14\n",
      "embedding_type: inferSent\n",
      "attributes_list: ['author']\n",
      "model_type: bilstm\n",
      "char_level: False\n",
      "Embedding time is: 0.6636090278625488\n",
      "cluster_method: hierarchy\n",
      "num_clusters: 10\n",
      "Blocking time is: 0.0642251968383789\n",
      "Discarted candidate: [{'blanchard h kenneth': 15}, {'bowles m sheldon': 15}, {'nan': 10}, {'foreword harvey mackay': 1, 'foreword-harvey mackay': 1, 'harvey mackay': 5, 'harvey mackay sheldon': 1}, {'blanchard': 5}, {'blanchard kenneth': 4}, {'blanchard bowles ken': 1, 'bowles ken sheldon': 1}, {'bowels sheldon': 1}]\n",
      "Possible candidate: [{'blanchard ken': 90}, {'bowles': 1, 'bowles sheldon': 77}]\n",
      "lengthNecessary: 45.6\n",
      "[{'blanchard ken': 90}, {'bowles': 1, 'bowles sheldon': 77}]\n",
      "['blanchard ken', 'bowles sheldon'] VS true_author: Ken Blanchard, Sheldon Bowles\n",
      ">>>>>>>>>>>>>>>>>>>>>>>>>>>>>>>>>>>>>>>>>>>>>>>>>>>>>>>>>>>>>>>>>>>>>>>>>>>>>>>>>>>>>>>>>>>>>>>>>\n",
      ">>>>>>>>>>>>>>>>>>>>>>>>>>>>book number 9<<<<<<<<<<<<<<<<<<<<<<<<\n",
      "ISBN: 0399135189\n",
      "true author: Bob Hope, Melville Shavelson\n",
      "tot cases of author's name: 6\n"
     ]
    },
    {
     "name": "stdout",
     "output_type": "stream",
     "text": [
      "embedding_type: inferSent\n",
      "attributes_list: ['author']\n",
      "model_type: bilstm\n",
      "char_level: False\n",
      "Embedding time is: 0.499845027923584\n",
      "cluster_method: hierarchy\n",
      "num_clusters: 10\n",
      "Blocking time is: 0.04325413703918457\n",
      "Discarted candidate: [{'nan': 2}, {'bob hope w': 2}, {'better homes': 1}, {'gardens': 1}, {'bob hope~melville shavelson': 1}, {'melville shavelson': 1}, {'melville shavelson': 1}, {'melville shavelson': 1}]\n",
      "Possible candidate: [{'bob hope': 120}, {'melville shavelson': 61}]\n",
      "lengthNecessary: 38.2\n",
      "[{'bob hope': 120}, {'melville shavelson': 61}]\n",
      "['bob hope', 'melville shavelson'] VS true_author: Bob Hope, Melville Shavelson\n"
     ]
    }
   ],
   "source": [
    "key_values = {\n",
    "    'model_type':'bilstm',\n",
    "    'char_level':False,\n",
    "    'model_version': 2,\n",
    "    'rnn_dim':1024,\n",
    "    'verbose':1,\n",
    "    'attributes_list': ['author'],\n",
    "    'embedding_type': 'inferSent',\n",
    "    'dataset': 'merged_book-multiAuthors',\n",
    "    'cluster_method': 'hierarchy',\n",
    "    'num_clusters': 10,\n",
    "    'block_length_thresold': 0.2,\n",
    "}\n",
    "\n",
    "for index in range(0,9):\n",
    "    print(\">>>>>>>>>>>>>>>>>>>>>>>>>>>>>>>>>>>>>>>>>>>>>>>>>>>>>>>>>>>>>>>>>>>>>>>>>>>>>>>>>>>>>>>>>>>>>>>>>\")\n",
    "    print(\">>>>>>>>>>>>>>>>>>>>>>>>>>>>book number {0}<<<<<<<<<<<<<<<<<<<<<<<<\".format(index+1))\n",
    "    table_ISBN, list_authors, true_author = load_by_index(table_group_by_isbn, isbn_list, true_authors, index, key_values['verbose'])\n",
    "    print(\"tot cases of author's name: {0}\".format(len(table_ISBN['author'].value_counts())))\n",
    "    embeddings_tokens = sentence_embedding(table_ISBN, key_values)\n",
    "    blocks = cluster_algorithm(embeddings_tokens, key_values)\n",
    "    listCandidates = get_author_candidates(list_authors, blocks, key_values['block_length_thresold'] * len(embeddings_tokens), key_values['verbose'])\n",
    "    print(listCandidates)\n",
    "    print(\"{0} VS true_author: {1}\".format(getFinalAuthors(listCandidates), true_author))"
   ]
  },
  {
   "cell_type": "code",
   "execution_count": null,
   "metadata": {},
   "outputs": [],
   "source": []
  }
 ],
 "metadata": {
  "kernelspec": {
   "display_name": "Python 3.7.7 64-bit ('thesisEnv': conda)",
   "language": "python",
   "name": "python37764bitthesisenvcondad61bb62be9734ae9b8ba15c07cc7706a"
  },
  "language_info": {
   "codemirror_mode": {
    "name": "ipython",
    "version": 3
   },
   "file_extension": ".py",
   "mimetype": "text/x-python",
   "name": "python",
   "nbconvert_exporter": "python",
   "pygments_lexer": "ipython3",
   "version": "3.7.7"
  },
  "toc": {
   "base_numbering": 1,
   "nav_menu": {},
   "number_sections": true,
   "sideBar": true,
   "skip_h1_title": false,
   "title_cell": "Table of Contents",
   "title_sidebar": "Contents",
   "toc_cell": false,
   "toc_position": {},
   "toc_section_display": true,
   "toc_window_display": false
  },
  "varInspector": {
   "cols": {
    "lenName": 16,
    "lenType": 16,
    "lenVar": 40
   },
   "kernels_config": {
    "python": {
     "delete_cmd_postfix": "",
     "delete_cmd_prefix": "del ",
     "library": "var_list.py",
     "varRefreshCmd": "print(var_dic_list())"
    },
    "r": {
     "delete_cmd_postfix": ") ",
     "delete_cmd_prefix": "rm(",
     "library": "var_list.r",
     "varRefreshCmd": "cat(var_dic_list()) "
    }
   },
   "types_to_exclude": [
    "module",
    "function",
    "builtin_function_or_method",
    "instance",
    "_Feature"
   ],
   "window_display": false
  }
 },
 "nbformat": 4,
 "nbformat_minor": 4
}
