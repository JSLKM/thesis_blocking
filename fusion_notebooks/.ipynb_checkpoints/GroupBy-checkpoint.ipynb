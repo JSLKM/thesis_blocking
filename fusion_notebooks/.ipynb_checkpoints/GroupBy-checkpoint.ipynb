{
 "cells": [
  {
   "cell_type": "code",
   "execution_count": 1,
   "metadata": {},
   "outputs": [],
   "source": [
    "import os\n",
    "import sys\n",
    "import time\n",
    "import numpy as np\n",
    "import matplotlib.pyplot as plt\n",
    "\n",
    "module_path = os.path.abspath(os.path.join('../fusion'))\n",
    "if module_path not in sys.path:\n",
    "    sys.path.append(module_path)\n"
   ]
  },
  {
   "cell_type": "code",
   "execution_count": 2,
   "metadata": {},
   "outputs": [],
   "source": [
    "from preprocessing_datasets.preprocessing_book import *"
   ]
  },
  {
   "cell_type": "code",
   "execution_count": 3,
   "metadata": {},
   "outputs": [
    {
     "name": "stdout",
     "output_type": "stream",
     "text": [
      "here\n"
     ]
    }
   ],
   "source": [
    "data = load_clean_book()"
   ]
  },
  {
   "cell_type": "code",
   "execution_count": 4,
   "metadata": {},
   "outputs": [
    {
     "data": {
      "text/plain": [
       "pandas.core.frame.DataFrame"
      ]
     },
     "execution_count": 4,
     "metadata": {},
     "output_type": "execute_result"
    }
   ],
   "source": [
    "type(data)"
   ]
  },
  {
   "cell_type": "code",
   "execution_count": 5,
   "metadata": {},
   "outputs": [
    {
     "data": {
      "text/html": [
       "<div>\n",
       "<style scoped>\n",
       "    .dataframe tbody tr th:only-of-type {\n",
       "        vertical-align: middle;\n",
       "    }\n",
       "\n",
       "    .dataframe tbody tr th {\n",
       "        vertical-align: top;\n",
       "    }\n",
       "\n",
       "    .dataframe thead th {\n",
       "        text-align: right;\n",
       "    }\n",
       "</style>\n",
       "<table border=\"1\" class=\"dataframe\">\n",
       "  <thead>\n",
       "    <tr style=\"text-align: right;\">\n",
       "      <th></th>\n",
       "      <th>index</th>\n",
       "      <th>ISBN_10</th>\n",
       "      <th>seller_link</th>\n",
       "      <th>big_cate</th>\n",
       "      <th>author</th>\n",
       "      <th>dirtyAuthor</th>\n",
       "      <th>oldAuthor</th>\n",
       "      <th>title</th>\n",
       "    </tr>\n",
       "  </thead>\n",
       "  <tbody>\n",
       "    <tr>\n",
       "      <th>0</th>\n",
       "      <td>0</td>\n",
       "      <td>0000219118</td>\n",
       "      <td>ground-zero-books%2c-ltd-silver-spring/62893/sf</td>\n",
       "      <td>history-books</td>\n",
       "      <td>['Association for Asian Studies, Inc']</td>\n",
       "      <td>['association for asian studies, inc']</td>\n",
       "      <td>asian association for inc studies</td>\n",
       "      <td>The Journal of Asian Studies, Volume 47, Numbe...</td>\n",
       "    </tr>\n",
       "    <tr>\n",
       "      <th>1</th>\n",
       "      <td>1</td>\n",
       "      <td>0000219118</td>\n",
       "      <td>pursuit-of-happiness-books-oakland-ca/81375/sf</td>\n",
       "      <td>history-books</td>\n",
       "      <td>['The Association for Asian Studies, Inc']</td>\n",
       "      <td>['the association for asian studies, inc']</td>\n",
       "      <td>asian association for inc studies the</td>\n",
       "      <td>The Journal of Asian Studies</td>\n",
       "    </tr>\n",
       "    <tr>\n",
       "      <th>2</th>\n",
       "      <td>2</td>\n",
       "      <td>0000788589</td>\n",
       "      <td>archway-books-mana/685127/sf</td>\n",
       "      <td>science-books</td>\n",
       "      <td>['Pocknall, D. T. And D. C. Mildenhall', 'Pock...</td>\n",
       "      <td>['pocknall, d. t.', 'd. c. mildenhall']</td>\n",
       "      <td>c d mildenhall</td>\n",
       "      <td>Late Oligocene - Early Miocene Spores and Poll...</td>\n",
       "    </tr>\n",
       "    <tr>\n",
       "      <th>3</th>\n",
       "      <td>2</td>\n",
       "      <td>0000788589</td>\n",
       "      <td>archway-books-mana/685127/sf</td>\n",
       "      <td>science-books</td>\n",
       "      <td>['Pocknall, D. T. And D. C. Mildenhall', 'Pock...</td>\n",
       "      <td>['pocknall, d. t.', 'd. c. mildenhall']</td>\n",
       "      <td>d pocknall t</td>\n",
       "      <td>Late Oligocene - Early Miocene Spores and Poll...</td>\n",
       "    </tr>\n",
       "    <tr>\n",
       "      <th>4</th>\n",
       "      <td>3</td>\n",
       "      <td>0000788589</td>\n",
       "      <td>arty-bees-books-wellington/6226172/sf</td>\n",
       "      <td>science-books</td>\n",
       "      <td>['Buckeridge, John Stewart']</td>\n",
       "      <td>['buckeridge, john stewart']</td>\n",
       "      <td>buckeridge john stewart</td>\n",
       "      <td>Fossil Barnacles (Cirripedia: Thoracica) of Ne...</td>\n",
       "    </tr>\n",
       "    <tr>\n",
       "      <th>...</th>\n",
       "      <td>...</td>\n",
       "      <td>...</td>\n",
       "      <td>...</td>\n",
       "      <td>...</td>\n",
       "      <td>...</td>\n",
       "      <td>...</td>\n",
       "      <td>...</td>\n",
       "      <td>...</td>\n",
       "    </tr>\n",
       "    <tr>\n",
       "      <th>2199026</th>\n",
       "      <td>1891013</td>\n",
       "      <td>9994533150</td>\n",
       "      <td>mark-henderson-olathe-ks-u.s.a/2095040/sf</td>\n",
       "      <td>literature</td>\n",
       "      <td>['Tanner, Clara Lee']</td>\n",
       "      <td>['tanner, clara lee']</td>\n",
       "      <td>clara lee tanner</td>\n",
       "      <td>Indian Arts and Crafts</td>\n",
       "    </tr>\n",
       "    <tr>\n",
       "      <th>2199027</th>\n",
       "      <td>1891014</td>\n",
       "      <td>9994533150</td>\n",
       "      <td>owlsbooks-toledo-md-u.s.a/51218811/sf</td>\n",
       "      <td>literature</td>\n",
       "      <td>['Clara Lee Tanner']</td>\n",
       "      <td>['clara lee tanner']</td>\n",
       "      <td>clara lee tanner</td>\n",
       "      <td>Indian Arts and Crafts</td>\n",
       "    </tr>\n",
       "    <tr>\n",
       "      <th>2199028</th>\n",
       "      <td>1891015</td>\n",
       "      <td>9994533150</td>\n",
       "      <td>second-city-books-aurora-il-u.s.a/63477172/sf</td>\n",
       "      <td>literature</td>\n",
       "      <td>['Tanner, Clara Lee']</td>\n",
       "      <td>['tanner, clara lee']</td>\n",
       "      <td>clara lee tanner</td>\n",
       "      <td>Indian Arts and Crafts</td>\n",
       "    </tr>\n",
       "    <tr>\n",
       "      <th>2199029</th>\n",
       "      <td>1891016</td>\n",
       "      <td>9998111552</td>\n",
       "      <td>dogstar-books-lancaster-pa-u.s.a/50869000/sf</td>\n",
       "      <td>history-books</td>\n",
       "      <td>['Nixon, Richard M.']</td>\n",
       "      <td>['nixon, richard m.']</td>\n",
       "      <td>m nixon richard</td>\n",
       "      <td>RN; The Memoirs of Richard Nixon</td>\n",
       "    </tr>\n",
       "    <tr>\n",
       "      <th>2199030</th>\n",
       "      <td>1891017</td>\n",
       "      <td>9998111552</td>\n",
       "      <td>sequitur-books-boonsboro-md-u.s.a/53436069/sf</td>\n",
       "      <td>history-books</td>\n",
       "      <td>['Richard Nixon']</td>\n",
       "      <td>['richard nixon']</td>\n",
       "      <td>nixon richard</td>\n",
       "      <td>The Memoirs of Richard Nixon</td>\n",
       "    </tr>\n",
       "  </tbody>\n",
       "</table>\n",
       "<p>2199031 rows × 8 columns</p>\n",
       "</div>"
      ],
      "text/plain": [
       "           index     ISBN_10                                      seller_link  \\\n",
       "0              0  0000219118  ground-zero-books%2c-ltd-silver-spring/62893/sf   \n",
       "1              1  0000219118   pursuit-of-happiness-books-oakland-ca/81375/sf   \n",
       "2              2  0000788589                     archway-books-mana/685127/sf   \n",
       "3              2  0000788589                     archway-books-mana/685127/sf   \n",
       "4              3  0000788589            arty-bees-books-wellington/6226172/sf   \n",
       "...          ...         ...                                              ...   \n",
       "2199026  1891013  9994533150        mark-henderson-olathe-ks-u.s.a/2095040/sf   \n",
       "2199027  1891014  9994533150            owlsbooks-toledo-md-u.s.a/51218811/sf   \n",
       "2199028  1891015  9994533150    second-city-books-aurora-il-u.s.a/63477172/sf   \n",
       "2199029  1891016  9998111552     dogstar-books-lancaster-pa-u.s.a/50869000/sf   \n",
       "2199030  1891017  9998111552    sequitur-books-boonsboro-md-u.s.a/53436069/sf   \n",
       "\n",
       "              big_cate                                             author  \\\n",
       "0        history-books             ['Association for Asian Studies, Inc']   \n",
       "1        history-books         ['The Association for Asian Studies, Inc']   \n",
       "2        science-books  ['Pocknall, D. T. And D. C. Mildenhall', 'Pock...   \n",
       "3        science-books  ['Pocknall, D. T. And D. C. Mildenhall', 'Pock...   \n",
       "4        science-books                       ['Buckeridge, John Stewart']   \n",
       "...                ...                                                ...   \n",
       "2199026     literature                              ['Tanner, Clara Lee']   \n",
       "2199027     literature                               ['Clara Lee Tanner']   \n",
       "2199028     literature                              ['Tanner, Clara Lee']   \n",
       "2199029  history-books                              ['Nixon, Richard M.']   \n",
       "2199030  history-books                                  ['Richard Nixon']   \n",
       "\n",
       "                                        dirtyAuthor  \\\n",
       "0            ['association for asian studies, inc']   \n",
       "1        ['the association for asian studies, inc']   \n",
       "2           ['pocknall, d. t.', 'd. c. mildenhall']   \n",
       "3           ['pocknall, d. t.', 'd. c. mildenhall']   \n",
       "4                      ['buckeridge, john stewart']   \n",
       "...                                             ...   \n",
       "2199026                       ['tanner, clara lee']   \n",
       "2199027                        ['clara lee tanner']   \n",
       "2199028                       ['tanner, clara lee']   \n",
       "2199029                       ['nixon, richard m.']   \n",
       "2199030                           ['richard nixon']   \n",
       "\n",
       "                                     oldAuthor  \\\n",
       "0            asian association for inc studies   \n",
       "1        asian association for inc studies the   \n",
       "2                               c d mildenhall   \n",
       "3                                 d pocknall t   \n",
       "4                      buckeridge john stewart   \n",
       "...                                        ...   \n",
       "2199026                       clara lee tanner   \n",
       "2199027                       clara lee tanner   \n",
       "2199028                       clara lee tanner   \n",
       "2199029                        m nixon richard   \n",
       "2199030                          nixon richard   \n",
       "\n",
       "                                                     title  \n",
       "0        The Journal of Asian Studies, Volume 47, Numbe...  \n",
       "1                             The Journal of Asian Studies  \n",
       "2        Late Oligocene - Early Miocene Spores and Poll...  \n",
       "3        Late Oligocene - Early Miocene Spores and Poll...  \n",
       "4        Fossil Barnacles (Cirripedia: Thoracica) of Ne...  \n",
       "...                                                    ...  \n",
       "2199026                             Indian Arts and Crafts  \n",
       "2199027                             Indian Arts and Crafts  \n",
       "2199028                             Indian Arts and Crafts  \n",
       "2199029                   RN; The Memoirs of Richard Nixon  \n",
       "2199030                       The Memoirs of Richard Nixon  \n",
       "\n",
       "[2199031 rows x 8 columns]"
      ]
     },
     "execution_count": 5,
     "metadata": {},
     "output_type": "execute_result"
    }
   ],
   "source": [
    "data"
   ]
  },
  {
   "cell_type": "code",
   "execution_count": 16,
   "metadata": {},
   "outputs": [
    {
     "data": {
      "text/plain": [
       "dict"
      ]
     },
     "execution_count": 16,
     "metadata": {},
     "output_type": "execute_result"
    }
   ],
   "source": [
    "ISBN_10_groups = data.groupby('ISBN_10')\n",
    "type(ISBN_10_groups.groups)"
   ]
  },
  {
   "cell_type": "code",
   "execution_count": 17,
   "metadata": {},
   "outputs": [
    {
     "data": {
      "text/plain": [
       "index          2199031\n",
       "ISBN_10        2199031\n",
       "seller_link    2199031\n",
       "big_cate       2199031\n",
       "author         2199031\n",
       "dirtyAuthor    2199031\n",
       "oldAuthor      2198328\n",
       "title          2199031\n",
       "dtype: int64"
      ]
     },
     "execution_count": 17,
     "metadata": {},
     "output_type": "execute_result"
    }
   ],
   "source": [
    "data.count()"
   ]
  },
  {
   "cell_type": "code",
   "execution_count": 18,
   "metadata": {},
   "outputs": [
    {
     "ename": "NameError",
     "evalue": "name 'df' is not defined",
     "output_type": "error",
     "traceback": [
      "\u001b[0;31m---------------------------------------------------------------------------\u001b[0m",
      "\u001b[0;31mNameError\u001b[0m                                 Traceback (most recent call last)",
      "\u001b[0;32m<ipython-input-18-915e45ec6811>\u001b[0m in \u001b[0;36m<module>\u001b[0;34m\u001b[0m\n\u001b[0;32m----> 1\u001b[0;31m \u001b[0mdf\u001b[0m\u001b[0;34m[\u001b[0m\u001b[0;34m'volume'\u001b[0m\u001b[0;34m]\u001b[0m\u001b[0;34m.\u001b[0m\u001b[0mvalue_counts\u001b[0m\u001b[0;34m(\u001b[0m\u001b[0mbins\u001b[0m\u001b[0;34m=\u001b[0m\u001b[0;36m4\u001b[0m\u001b[0;34m)\u001b[0m\u001b[0;34m\u001b[0m\u001b[0;34m\u001b[0m\u001b[0m\n\u001b[0m",
      "\u001b[0;31mNameError\u001b[0m: name 'df' is not defined"
     ]
    }
   ],
   "source": [
    "data['volume'].value_counts(bins=4)"
   ]
  },
  {
   "cell_type": "code",
   "execution_count": null,
   "metadata": {},
   "outputs": [],
   "source": []
  }
 ],
 "metadata": {
  "kernelspec": {
   "display_name": "Python 3.7.7 64-bit ('thesisEnv': conda)",
   "language": "python",
   "name": "python37764bitthesisenvcondad61bb62be9734ae9b8ba15c07cc7706a"
  },
  "language_info": {
   "codemirror_mode": {
    "name": "ipython",
    "version": 3
   },
   "file_extension": ".py",
   "mimetype": "text/x-python",
   "name": "python",
   "nbconvert_exporter": "python",
   "pygments_lexer": "ipython3",
   "version": "3.7.7"
  },
  "toc": {
   "base_numbering": 1,
   "nav_menu": {},
   "number_sections": true,
   "sideBar": true,
   "skip_h1_title": false,
   "title_cell": "Table of Contents",
   "title_sidebar": "Contents",
   "toc_cell": false,
   "toc_position": {},
   "toc_section_display": true,
   "toc_window_display": false
  },
  "varInspector": {
   "cols": {
    "lenName": 16,
    "lenType": 16,
    "lenVar": 40
   },
   "kernels_config": {
    "python": {
     "delete_cmd_postfix": "",
     "delete_cmd_prefix": "del ",
     "library": "var_list.py",
     "varRefreshCmd": "print(var_dic_list())"
    },
    "r": {
     "delete_cmd_postfix": ") ",
     "delete_cmd_prefix": "rm(",
     "library": "var_list.r",
     "varRefreshCmd": "cat(var_dic_list()) "
    }
   },
   "types_to_exclude": [
    "module",
    "function",
    "builtin_function_or_method",
    "instance",
    "_Feature"
   ],
   "window_display": false
  }
 },
 "nbformat": 4,
 "nbformat_minor": 4
}
