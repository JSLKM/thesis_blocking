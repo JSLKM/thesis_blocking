{
 "cells": [
  {
   "cell_type": "code",
   "execution_count": 1,
   "metadata": {},
   "outputs": [],
   "source": [
    "import os\n",
    "import sys\n",
    "import time\n",
    "import numpy as np\n",
    "import matplotlib.pyplot as plt\n",
    "\n",
    "module_path = os.path.abspath(os.path.join('../../fusion'))\n",
    "module_path2 = os.path.abspath(os.path.join('../..'))\n",
    "module_path3 = os.path.abspath(os.path.join('../'))\n",
    "if module_path not in sys.path:\n",
    "    sys.path.append(module_path)\n",
    "\n",
    "if module_path2 not in sys.path:\n",
    "    sys.path.append(module_path2)\n",
    "    \n",
    "if module_path3 not in sys.path:\n",
    "    sys.path.append(module_path3)"
   ]
  },
  {
   "cell_type": "markdown",
   "metadata": {},
   "source": [
    "# LOAD"
   ]
  },
  {
   "cell_type": "code",
   "execution_count": 2,
   "metadata": {},
   "outputs": [],
   "source": [
    "from preprocessing_datasets import load_dataset"
   ]
  },
  {
   "cell_type": "code",
   "execution_count": 3,
   "metadata": {},
   "outputs": [
    {
     "name": "stdout",
     "output_type": "stream",
     "text": [
      "Time load: 14.554447174072266\n"
     ]
    }
   ],
   "source": [
    "start_time = time.time()\n",
    "dataset_name, table, isbn_list, true_authors = load_dataset({'dataset': 'merged_book'})\n",
    "print('Time load: {0}'.format(time.time() - start_time))"
   ]
  },
  {
   "cell_type": "code",
   "execution_count": 6,
   "metadata": {},
   "outputs": [],
   "source": [
    "table_group_by_isbn = table.groupby('ISBN_10')"
   ]
  },
  {
   "cell_type": "markdown",
   "metadata": {},
   "source": [
    "# Analysis book-1"
   ]
  },
  {
   "cell_type": "code",
   "execution_count": 9,
   "metadata": {},
   "outputs": [
    {
     "name": "stdout",
     "output_type": "stream",
     "text": [
      "ISBN: 0439136350\n"
     ]
    }
   ],
   "source": [
    "print('ISBN: {0}'.format(isbn_list[0]))\n",
    "table_ISBN = table_group_by_isbn.get_group(isbn_list[0])\n",
    "#table_ISBN['oldAuthor'].value_counts()"
   ]
  },
  {
   "cell_type": "code",
   "execution_count": 11,
   "metadata": {},
   "outputs": [
    {
     "data": {
      "text/plain": [
       "J.K. Rowling                                                               38\n",
       "Rowling, J. K.                                                             38\n",
       "Rowling, J.K.                                                              30\n",
       "J. K. Rowling                                                              10\n",
       "J.K. Rowling; Mary GrandPr? [Illustrator]                                   6\n",
       "None                                                                        6\n",
       "J.K. Rowling, Mary GrandPr                                                  4\n",
       "J K Rowling                                                                 3\n",
       "Rowling, J K                                                                3\n",
       "J.K. Rowling/ Mary GrandPr                                                  1\n",
       "ROWLING, J. K.                                                              1\n",
       "ROWLING, J. K.: 3rd NOVEL of the HARRY POTTER Septet                        1\n",
       "J.K. ROWLING, MARY GRANDPR                                                  1\n",
       "Rowling, JK                                                                 1\n",
       "J.k. Rowling,                                                               1\n",
       "ROWLING,J.K.                                                                1\n",
       "ROWLING,J                                                                   1\n",
       "J.k.rowling                                                                 1\n",
       "J.K. Rowling, (Illustrator) Mary GrandPre                                   1\n",
       "Rowling, J. K                                                               1\n",
       "Rowling, J.K.; J(oanne) \"Jo\" Rowling, OBE FRSL - Pen Name: J.K. Rowling     1\n",
       "Rowling, J.K., Illustrated by Grandpre, Mary                                1\n",
       "Rowling, J.K. & Mary GrandPr                                                1\n",
       "Rowling, J. K./ GrandPre, Mary (ILT)                                        1\n",
       "J K Rowling, Mary GrandPre                                                  1\n",
       "J. K Rowling                                                                1\n",
       "J. K. ROWLING                                                               1\n",
       "J.k. Rowling                                                                1\n",
       "J.K. ROWLING                                                                1\n",
       "J.K. Rowling, Mary GrandPr?                                                 1\n",
       "ROWLING J.K.                                                                1\n",
       "Rowling, J.K. (Author)                                                      1\n",
       "Rowling, P.J.                                                               1\n",
       "Rowling,J.K.                                                                1\n",
       "J.K. Rowling; Illustrator-Mary GrandPr                                      1\n",
       "Rowling, J. K.:                                                             1\n",
       "Rowling, J K ( Joanne )(aka Robert Galbraith / Kennilworthy Whisp )         1\n",
       "Rowling, J.K.,                                                              1\n",
       "Name: authors, dtype: int64"
      ]
     },
     "execution_count": 11,
     "metadata": {},
     "output_type": "execute_result"
    }
   ],
   "source": [
    "table_ISBN['authors'].value_counts()"
   ]
  },
  {
   "cell_type": "code",
   "execution_count": 12,
   "metadata": {},
   "outputs": [
    {
     "data": {
      "text/plain": [
       "'J. K. Rowling'"
      ]
     },
     "execution_count": 12,
     "metadata": {},
     "output_type": "execute_result"
    }
   ],
   "source": [
    "true_authors[0]"
   ]
  },
  {
   "cell_type": "code",
   "execution_count": null,
   "metadata": {},
   "outputs": [],
   "source": []
  }
 ],
 "metadata": {
  "kernelspec": {
   "display_name": "Python 3.7.7 64-bit ('thesisEnv': conda)",
   "language": "python",
   "name": "python37764bitthesisenvcondad61bb62be9734ae9b8ba15c07cc7706a"
  },
  "language_info": {
   "codemirror_mode": {
    "name": "ipython",
    "version": 3
   },
   "file_extension": ".py",
   "mimetype": "text/x-python",
   "name": "python",
   "nbconvert_exporter": "python",
   "pygments_lexer": "ipython3",
   "version": "3.7.7"
  },
  "toc": {
   "base_numbering": 1,
   "nav_menu": {},
   "number_sections": true,
   "sideBar": true,
   "skip_h1_title": false,
   "title_cell": "Table of Contents",
   "title_sidebar": "Contents",
   "toc_cell": false,
   "toc_position": {},
   "toc_section_display": true,
   "toc_window_display": false
  },
  "varInspector": {
   "cols": {
    "lenName": 16,
    "lenType": 16,
    "lenVar": 40
   },
   "kernels_config": {
    "python": {
     "delete_cmd_postfix": "",
     "delete_cmd_prefix": "del ",
     "library": "var_list.py",
     "varRefreshCmd": "print(var_dic_list())"
    },
    "r": {
     "delete_cmd_postfix": ") ",
     "delete_cmd_prefix": "rm(",
     "library": "var_list.r",
     "varRefreshCmd": "cat(var_dic_list()) "
    }
   },
   "types_to_exclude": [
    "module",
    "function",
    "builtin_function_or_method",
    "instance",
    "_Feature"
   ],
   "window_display": false
  }
 },
 "nbformat": 4,
 "nbformat_minor": 4
}
