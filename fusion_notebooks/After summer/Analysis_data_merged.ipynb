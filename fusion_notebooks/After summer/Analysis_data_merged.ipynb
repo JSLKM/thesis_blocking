{
 "cells": [
  {
   "cell_type": "code",
   "execution_count": 1,
   "metadata": {},
   "outputs": [],
   "source": [
    "import os\n",
    "import sys\n",
    "import time\n",
    "import numpy as np\n",
    "import matplotlib.pyplot as plt\n",
    "\n",
    "module_path = os.path.abspath(os.path.join('../../fusion'))\n",
    "module_path2 = os.path.abspath(os.path.join('../..'))\n",
    "module_path3 = os.path.abspath(os.path.join('../'))\n",
    "if module_path not in sys.path:\n",
    "    sys.path.append(module_path)\n",
    "\n",
    "if module_path2 not in sys.path:\n",
    "    sys.path.append(module_path2)\n",
    "    \n",
    "if module_path3 not in sys.path:\n",
    "    sys.path.append(module_path3)"
   ]
  },
  {
   "cell_type": "markdown",
   "metadata": {},
   "source": [
    "# Get Cleaned Merged Datasets"
   ]
  },
  {
   "cell_type": "code",
   "execution_count": 2,
   "metadata": {},
   "outputs": [
    {
     "data": {
      "text/html": [
       "<div>\n",
       "<style scoped>\n",
       "    .dataframe tbody tr th:only-of-type {\n",
       "        vertical-align: middle;\n",
       "    }\n",
       "\n",
       "    .dataframe tbody tr th {\n",
       "        vertical-align: top;\n",
       "    }\n",
       "\n",
       "    .dataframe thead th {\n",
       "        text-align: right;\n",
       "    }\n",
       "</style>\n",
       "<table border=\"1\" class=\"dataframe\">\n",
       "  <thead>\n",
       "    <tr style=\"text-align: right;\">\n",
       "      <th></th>\n",
       "      <th>ISBN_10</th>\n",
       "      <th>title</th>\n",
       "      <th>author</th>\n",
       "      <th>big_cate</th>\n",
       "      <th>small_cate</th>\n",
       "      <th>publisher</th>\n",
       "    </tr>\n",
       "  </thead>\n",
       "  <tbody>\n",
       "    <tr>\n",
       "      <th>0</th>\n",
       "      <td>0001361589</td>\n",
       "      <td>Noddys Rainy Day Activity Book</td>\n",
       "      <td>blyton enid</td>\n",
       "      <td>childrens-fiction-young-adult</td>\n",
       "      <td>enid-blyton</td>\n",
       "      <td>HarperCollinsChildrensBooks</td>\n",
       "    </tr>\n",
       "    <tr>\n",
       "      <th>1</th>\n",
       "      <td>0001361589</td>\n",
       "      <td>Fun With Noddy Summer Activity Book. Noddy's T...</td>\n",
       "      <td>blyton enid</td>\n",
       "      <td>childrens-fiction-young-adult</td>\n",
       "      <td>enid-blyton</td>\n",
       "      <td>BBC Childrens Books</td>\n",
       "    </tr>\n",
       "    <tr>\n",
       "      <th>2</th>\n",
       "      <td>0001380451</td>\n",
       "      <td>Fun And Games With Paddington</td>\n",
       "      <td>bond michael</td>\n",
       "      <td>childrens-fiction-young-adult</td>\n",
       "      <td>childrens-series</td>\n",
       "      <td>Collins</td>\n",
       "    </tr>\n",
       "    <tr>\n",
       "      <th>3</th>\n",
       "      <td>0001380451</td>\n",
       "      <td>FUN AND GAMES WITH PADDINGTON</td>\n",
       "      <td>bond michael</td>\n",
       "      <td>childrens-fiction-young-adult</td>\n",
       "      <td>childrens-series</td>\n",
       "      <td>Collins, London</td>\n",
       "    </tr>\n",
       "    <tr>\n",
       "      <th>4</th>\n",
       "      <td>0001380451</td>\n",
       "      <td>Fun and Games with Paddington</td>\n",
       "      <td>bond michael</td>\n",
       "      <td>childrens-fiction-young-adult</td>\n",
       "      <td>childrens-series</td>\n",
       "      <td>Collins</td>\n",
       "    </tr>\n",
       "    <tr>\n",
       "      <th>...</th>\n",
       "      <td>...</td>\n",
       "      <td>...</td>\n",
       "      <td>...</td>\n",
       "      <td>...</td>\n",
       "      <td>...</td>\n",
       "      <td>...</td>\n",
       "    </tr>\n",
       "    <tr>\n",
       "      <th>2676279</th>\n",
       "      <td>9979940417</td>\n",
       "      <td>Iceland : The New Millennium Series</td>\n",
       "      <td>isberg jon olafur</td>\n",
       "      <td>travel-books</td>\n",
       "      <td>adventure-travel</td>\n",
       "      <td>None</td>\n",
       "    </tr>\n",
       "    <tr>\n",
       "      <th>2676280</th>\n",
       "      <td>9979940417</td>\n",
       "      <td>Iceland : The New Millennium Series</td>\n",
       "      <td>granz olafur</td>\n",
       "      <td>travel-books</td>\n",
       "      <td>adventure-travel</td>\n",
       "      <td>None</td>\n",
       "    </tr>\n",
       "    <tr>\n",
       "      <th>2676281</th>\n",
       "      <td>9984592774</td>\n",
       "      <td>Riga - Journey Through The Centuries</td>\n",
       "      <td>andris lamsters</td>\n",
       "      <td>travel-books</td>\n",
       "      <td>travel-guides</td>\n",
       "      <td>Madris</td>\n",
       "    </tr>\n",
       "    <tr>\n",
       "      <th>2676282</th>\n",
       "      <td>9986830494</td>\n",
       "      <td>Lithuania: Nature, Traditions, Culture, Cities</td>\n",
       "      <td>a kairiene</td>\n",
       "      <td>travel-books</td>\n",
       "      <td>exploration</td>\n",
       "      <td>R Paknis leidykla</td>\n",
       "    </tr>\n",
       "    <tr>\n",
       "      <th>2676283</th>\n",
       "      <td>9990894108</td>\n",
       "      <td>Walks of Life: The Other Side of Malawi</td>\n",
       "      <td>mutisunge phoya</td>\n",
       "      <td>travel-books</td>\n",
       "      <td>adventure-travel</td>\n",
       "      <td>Central Africana Limited, Blantyre, Malawi</td>\n",
       "    </tr>\n",
       "  </tbody>\n",
       "</table>\n",
       "<p>2676284 rows × 6 columns</p>\n",
       "</div>"
      ],
      "text/plain": [
       "            ISBN_10                                              title  \\\n",
       "0        0001361589                     Noddys Rainy Day Activity Book   \n",
       "1        0001361589  Fun With Noddy Summer Activity Book. Noddy's T...   \n",
       "2        0001380451                      Fun And Games With Paddington   \n",
       "3        0001380451                      FUN AND GAMES WITH PADDINGTON   \n",
       "4        0001380451                      Fun and Games with Paddington   \n",
       "...             ...                                                ...   \n",
       "2676279  9979940417                Iceland : The New Millennium Series   \n",
       "2676280  9979940417                Iceland : The New Millennium Series   \n",
       "2676281  9984592774               Riga - Journey Through The Centuries   \n",
       "2676282  9986830494     Lithuania: Nature, Traditions, Culture, Cities   \n",
       "2676283  9990894108            Walks of Life: The Other Side of Malawi   \n",
       "\n",
       "                    author                       big_cate        small_cate  \\\n",
       "0              blyton enid  childrens-fiction-young-adult       enid-blyton   \n",
       "1              blyton enid  childrens-fiction-young-adult       enid-blyton   \n",
       "2             bond michael  childrens-fiction-young-adult  childrens-series   \n",
       "3             bond michael  childrens-fiction-young-adult  childrens-series   \n",
       "4             bond michael  childrens-fiction-young-adult  childrens-series   \n",
       "...                    ...                            ...               ...   \n",
       "2676279  isberg jon olafur                   travel-books  adventure-travel   \n",
       "2676280       granz olafur                   travel-books  adventure-travel   \n",
       "2676281    andris lamsters                   travel-books     travel-guides   \n",
       "2676282         a kairiene                   travel-books       exploration   \n",
       "2676283    mutisunge phoya                   travel-books  adventure-travel   \n",
       "\n",
       "                                          publisher  \n",
       "0                       HarperCollinsChildrensBooks  \n",
       "1                               BBC Childrens Books  \n",
       "2                                           Collins  \n",
       "3                                   Collins, London  \n",
       "4                                           Collins  \n",
       "...                                             ...  \n",
       "2676279                                        None  \n",
       "2676280                                        None  \n",
       "2676281                                      Madris  \n",
       "2676282                           R Paknis leidykla  \n",
       "2676283  Central Africana Limited, Blantyre, Malawi  \n",
       "\n",
       "[2676284 rows x 6 columns]"
      ]
     },
     "execution_count": 2,
     "metadata": {},
     "output_type": "execute_result"
    }
   ],
   "source": [
    "from preprocessing_datasets.preprocessing_book import *\n",
    "data = set_merged_books()\n",
    "data"
   ]
  },
  {
   "cell_type": "markdown",
   "metadata": {
    "heading_collapsed": true
   },
   "source": [
    "# Count ISBN_10"
   ]
  },
  {
   "cell_type": "code",
   "execution_count": 3,
   "metadata": {
    "hidden": true
   },
   "outputs": [
    {
     "data": {
      "text/plain": [
       "0439136350    167\n",
       "0439784549    156\n",
       "0787960756    149\n",
       "0385349947    149\n",
       "0439813786    148\n",
       "0439139597    146\n",
       "067082982X    146\n",
       "0060530928    146\n",
       "0375502912    145\n",
       "0679412956    144\n",
       "1880418568    144\n",
       "159562015X    144\n",
       "0345303059    143\n",
       "0684811073    143\n",
       "0679879242    143\n",
       "0375401601    143\n",
       "0679411674    143\n",
       "0316065781    143\n",
       "0679454489    142\n",
       "0395486025    142\n",
       "Name: ISBN_10, dtype: int64"
      ]
     },
     "execution_count": 3,
     "metadata": {},
     "output_type": "execute_result"
    }
   ],
   "source": [
    "data['ISBN_10'].value_counts()[:20]"
   ]
  },
  {
   "cell_type": "code",
   "execution_count": 4,
   "metadata": {
    "hidden": true
   },
   "outputs": [
    {
     "data": {
      "text/plain": [
       "(0     0439136350\n",
       " 1     0439784549\n",
       " 2     0385349947\n",
       " 3     0787960756\n",
       " 4     0439813786\n",
       " 5     067082982X\n",
       " 6     0060530928\n",
       " 7     0439139597\n",
       " 8     0375502912\n",
       " 9     159562015X\n",
       " 10    0679412956\n",
       " 11    1880418568\n",
       " 12    0345303059\n",
       " 13    0679411674\n",
       " 14    0316065781\n",
       " 15    0679879242\n",
       " 16    0375401601\n",
       " 17    0684811073\n",
       " 18    0395486025\n",
       " 19    0394498216\n",
       " Name: ISBN_10, dtype: object,\n",
       " 0                     J. K. Rowling\n",
       " 1                     J. K. Rowling\n",
       " 2     Sheryl Sandberg, Nell Scovell\n",
       " 3                  Patrick Lencioni\n",
       " 4                    Brian Selznick\n",
       " 5                      Stephen King\n",
       " 6                       Neil Gaiman\n",
       " 7                     J. K. Rowling\n",
       " 8                 Laura Hillenbrand\n",
       " 9                          Tom Rath\n",
       " 10                        Anne Rice\n",
       " 11                     Stephen King\n",
       " 12                 Arthur C. Clarke\n",
       " 13                    Toni Morrison\n",
       " 14                Elizabeth Kostova\n",
       " 15                   Philip Pullman\n",
       " 16                        Anne Rice\n",
       " 17                  Stephen Ambrose\n",
       " 18          William Least Heat-Moon\n",
       " 19                        Anne Rice\n",
       " Name: true_authors, dtype: object)"
      ]
     },
     "execution_count": 4,
     "metadata": {},
     "output_type": "execute_result"
    }
   ],
   "source": [
    "get_merged_books_truth()"
   ]
  },
  {
   "cell_type": "markdown",
   "metadata": {},
   "source": [
    "# Count best 20 multiple authors"
   ]
  },
  {
   "cell_type": "code",
   "execution_count": 5,
   "metadata": {},
   "outputs": [
    {
     "data": {
      "text/plain": [
       "0394498216    142\n",
       "0394423291    141\n",
       "0151006903    141\n",
       "1878685546    141\n",
       "0307264238    141\n",
       "0316734942    140\n",
       "0545010225    140\n",
       "074320395X    139\n",
       "0394558588    139\n",
       "0679427430    139\n",
       "0316966207    138\n",
       "0887307280    138\n",
       "0671454463    138\n",
       "0393038025    137\n",
       "0525222650    137\n",
       "0679441018    137\n",
       "0198607024    137\n",
       "0151001006    137\n",
       "0060183349    137\n",
       "0060175907    137\n",
       "Name: ISBN_10, dtype: int64"
      ]
     },
     "execution_count": 5,
     "metadata": {},
     "output_type": "execute_result"
    }
   ],
   "source": [
    "data['ISBN_10'].value_counts()[0:120]"
   ]
  },
  {
   "cell_type": "code",
   "execution_count": 14,
   "metadata": {},
   "outputs": [
    {
     "data": {
      "text/plain": [
       "0679433015    129\n",
       "0195014766    129\n",
       "0670839809    129\n",
       "0670616966    128\n",
       "0679425357    128\n",
       "             ... \n",
       "0399133097    124\n",
       "0060172533    124\n",
       "0679755551    124\n",
       "0679415599    124\n",
       "0679734163    124\n",
       "Name: ISBN_10, Length: 80, dtype: int64"
      ]
     },
     "execution_count": 14,
     "metadata": {},
     "output_type": "execute_result"
    }
   ],
   "source": [
    "data['ISBN_10'].value_counts()[120:200]"
   ]
  },
  {
   "cell_type": "code",
   "execution_count": 15,
   "metadata": {},
   "outputs": [
    {
     "data": {
      "text/plain": [
       "0671891650    125\n",
       "0375413634    125\n",
       "0393317552    125\n",
       "0140258795    125\n",
       "0684800039    125\n",
       "0517598493    125\n",
       "0375500316    125\n",
       "0786862580    125\n",
       "0670843342    125\n",
       "0679401342    125\n",
       "0395389526    125\n",
       "0553051377    125\n",
       "0061340634    125\n",
       "1573221775    125\n",
       "0374299625    124\n",
       "0399133097    124\n",
       "0060172533    124\n",
       "0679755551    124\n",
       "0679415599    124\n",
       "0679734163    124\n",
       "Name: ISBN_10, dtype: int64"
      ]
     },
     "execution_count": 15,
     "metadata": {},
     "output_type": "execute_result"
    }
   ],
   "source": [
    "data['ISBN_10'].value_counts()[180:200]"
   ]
  },
  {
   "cell_type": "markdown",
   "metadata": {},
   "source": [
    "# Analysis 0399135189"
   ]
  },
  {
   "cell_type": "code",
   "execution_count": 3,
   "metadata": {},
   "outputs": [],
   "source": [
    "dataGroupByISBN = data.groupby('ISBN_10')"
   ]
  },
  {
   "cell_type": "code",
   "execution_count": 4,
   "metadata": {},
   "outputs": [],
   "source": [
    "table_ISBN = dataGroupByISBN.get_group('0399135189')"
   ]
  },
  {
   "cell_type": "code",
   "execution_count": 7,
   "metadata": {},
   "outputs": [
    {
     "data": {
      "text/plain": [
       "bob hope                       120\n",
       "melville shavelson              64\n",
       "bob hope w                       2\n",
       "better homes                     1\n",
       "gardens                          1\n",
       "bob hope~melville shavelson      1\n",
       "Name: author, dtype: int64"
      ]
     },
     "execution_count": 7,
     "metadata": {},
     "output_type": "execute_result"
    }
   ],
   "source": [
    "table_ISBN['author'].value_counts()"
   ]
  },
  {
   "cell_type": "code",
   "execution_count": null,
   "metadata": {},
   "outputs": [],
   "source": []
  }
 ],
 "metadata": {
  "kernelspec": {
   "display_name": "Python 3.7.7 64-bit ('thesisEnv': conda)",
   "language": "python",
   "name": "python37764bitthesisenvcondad61bb62be9734ae9b8ba15c07cc7706a"
  },
  "language_info": {
   "codemirror_mode": {
    "name": "ipython",
    "version": 3
   },
   "file_extension": ".py",
   "mimetype": "text/x-python",
   "name": "python",
   "nbconvert_exporter": "python",
   "pygments_lexer": "ipython3",
   "version": "3.7.7"
  },
  "toc": {
   "base_numbering": 1,
   "nav_menu": {},
   "number_sections": true,
   "sideBar": true,
   "skip_h1_title": false,
   "title_cell": "Table of Contents",
   "title_sidebar": "Contents",
   "toc_cell": false,
   "toc_position": {},
   "toc_section_display": true,
   "toc_window_display": false
  },
  "varInspector": {
   "cols": {
    "lenName": 16,
    "lenType": 16,
    "lenVar": 40
   },
   "kernels_config": {
    "python": {
     "delete_cmd_postfix": "",
     "delete_cmd_prefix": "del ",
     "library": "var_list.py",
     "varRefreshCmd": "print(var_dic_list())"
    },
    "r": {
     "delete_cmd_postfix": ") ",
     "delete_cmd_prefix": "rm(",
     "library": "var_list.r",
     "varRefreshCmd": "cat(var_dic_list()) "
    }
   },
   "types_to_exclude": [
    "module",
    "function",
    "builtin_function_or_method",
    "instance",
    "_Feature"
   ],
   "window_display": false
  }
 },
 "nbformat": 4,
 "nbformat_minor": 4
}
