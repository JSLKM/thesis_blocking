{
 "cells": [
  {
   "cell_type": "markdown",
   "metadata": {},
   "source": [
    "# IMPORT LIBRARY"
   ]
  },
  {
   "cell_type": "code",
   "execution_count": 1,
   "metadata": {},
   "outputs": [],
   "source": [
    "import os\n",
    "import sys\n",
    "import time\n",
    "import numpy as np\n",
    "import matplotlib.pyplot as plt\n",
    "module_path = os.path.abspath(os.path.join('../../fusion'))\n",
    "sys.path.append(module_path)\n",
    "\n",
    "from preprocessing_datasets import load_dataset\n",
    "from embedding_algorithms import sentence_embedding, set_embedding_model\n",
    "from dimensionality_reduction_algorithms import dimension_reduction_algorithms\n",
    "from cluster_algorithms import cluster_algorithm\n",
    "\n",
    "from helper import load_by_index, get_author_candidates, getFinalAuthors\n",
    "from plot_tools import plotChart, plotCluster"
   ]
  },
  {
   "cell_type": "markdown",
   "metadata": {},
   "source": [
    "# SETUP INFERSENT"
   ]
  },
  {
   "cell_type": "code",
   "execution_count": 2,
   "metadata": {},
   "outputs": [],
   "source": [
    "key_values = {\n",
    "    'model_type':'bilstm',\n",
    "    'char_level':False,\n",
    "    'model_version': 2,\n",
    "    'rnn_dim':1024,\n",
    "    'verbose':1,\n",
    "    'attributes_list': ['author','title','big_cate', 'small_cate'],\n",
    "    'embedding_type': 'inferSent',\n",
    "    'dataset': 'merged_book-multiAuthors',\n",
    "    'dimension_reduction': 'pca',\n",
    "    'num_components': 2,\n",
    "    'cluster_method': 'hierarchy',\n",
    "    'num_clusters': 10,\n",
    "    'block_length_thresold': 0.2,\n",
    "}"
   ]
  },
  {
   "cell_type": "code",
   "execution_count": 3,
   "metadata": {},
   "outputs": [
    {
     "name": "stdout",
     "output_type": "stream",
     "text": [
      "Vocab size : 2196017\n",
      "model_version: 2\n",
      "rnn_dim: 1024\n",
      "model_type: bilstm\n",
      "char_level: False\n",
      "Setup time is: 216.9755938053131\n"
     ]
    }
   ],
   "source": [
    "set_embedding_model(key_values)"
   ]
  },
  {
   "cell_type": "markdown",
   "metadata": {},
   "source": [
    "# LOAD"
   ]
  },
  {
   "cell_type": "code",
   "execution_count": 5,
   "metadata": {},
   "outputs": [
    {
     "name": "stdout",
     "output_type": "stream",
     "text": [
      "dataset: merged_book-multiAuthors\n",
      "Loading time is: 6.243867874145508\n",
      "ISBN: 1878685546\n",
      "true author: Alan Shepard, Deke Slayton\n"
     ]
    }
   ],
   "source": [
    "dataset_name, table_group_by_isbn, isbn_list, true_authors = load_dataset(key_values)\n",
    "table_ISBN, list_authors, true_author = load_by_index(table_group_by_isbn, isbn_list, true_authors, 0, key_values['verbose'])"
   ]
  },
  {
   "cell_type": "code",
   "execution_count": 6,
   "metadata": {},
   "outputs": [
    {
     "name": "stdout",
     "output_type": "stream",
     "text": [
      "embedding_type: inferSent\n",
      "attributes_list: ['author', 'title', 'big_cate', 'small_cate']\n",
      "model_type: bilstm\n",
      "char_level: False\n",
      "Embedding time is: 4.089197158813477\n"
     ]
    }
   ],
   "source": [
    "embeddings_tokens = sentence_embedding(table_ISBN, key_values)"
   ]
  },
  {
   "cell_type": "code",
   "execution_count": 7,
   "metadata": {},
   "outputs": [
    {
     "name": "stdout",
     "output_type": "stream",
     "text": [
      "cluster_method: hierarchy\n",
      "num_clusters: 10\n",
      "Blocking time is: 0.4616127014160156\n"
     ]
    }
   ],
   "source": [
    "blocks = cluster_algorithm(embeddings_tokens, key_values)"
   ]
  },
  {
   "cell_type": "code",
   "execution_count": 9,
   "metadata": {},
   "outputs": [
    {
     "name": "stdout",
     "output_type": "stream",
     "text": [
      "Discarted candidate: [{'alan': 1, 'barbree jay': 86, 'jr': 2}, {'benedict howard': 85, 'benedict howard shepard': 1}, {'alan b shepard': 1, 'alan shepard': 21, 'alan shepherd': 1, 'armstrong neil': 1, 'barbree jay': 1}, {'alan barbree~howard benedict shepard~deke slayton~jay': 1, 'alan shepard': 6, 'armstrong neil': 2, 'barbree jay': 2, 'benedict howard': 2}, {'deke slayton': 8, 'deke slayton w': 1}, {'adams ben': 1, 'alan shepard': 5, 'alan shpard': 1, 'armstrong intro neil': 1}, {'alan shepard': 1, 'nan': 6}, {'armstrong neil': 7}]\n",
      "Possible candidate: [{'armstrong deke neil slayton': 1, 'deke slayton': 113}, {'alan b shepard': 1, 'alan shepard': 90, 'alan shepherd': 5}]\n",
      "lengthNecessary: 90.80000000000001\n"
     ]
    }
   ],
   "source": [
    "listCandidates = get_author_candidates(list_authors, blocks, key_values['block_length_thresold'] * len(embeddings_tokens), key_values['verbose'])"
   ]
  },
  {
   "cell_type": "code",
   "execution_count": 10,
   "metadata": {},
   "outputs": [
    {
     "name": "stdout",
     "output_type": "stream",
     "text": [
      "[{'armstrong deke neil slayton': 1, 'deke slayton': 113}, {'alan b shepard': 1, 'alan shepard': 90, 'alan shepherd': 5}]\n",
      "['deke slayton', 'alan shepard'] VS true_author: Alan Shepard, Deke Slayton\n"
     ]
    }
   ],
   "source": [
    "print(listCandidates)\n",
    "print(\"{0} VS true_author: {1}\".format(getFinalAuthors(listCandidates), true_author))"
   ]
  },
  {
   "cell_type": "markdown",
   "metadata": {},
   "source": [
    "# Testing "
   ]
  },
  {
   "cell_type": "markdown",
   "metadata": {},
   "source": [
    "## ['author','title','big_cate', 'small_cate', 'publisher']"
   ]
  },
  {
   "cell_type": "code",
   "execution_count": null,
   "metadata": {},
   "outputs": [],
   "source": [
    "key_values = {\n",
    "    'model_type':'bilstm',\n",
    "    'char_level':False,\n",
    "    'model_version': 2,\n",
    "    'rnn_dim':1024,\n",
    "    'verbose':1,\n",
    "    'attributes_list': ['author','title','big_cate', 'small_cate', 'publisher'],\n",
    "    'embedding_type': 'inferSent',\n",
    "    'dataset': 'merged_book-multiAuthors',\n",
    "    'cluster_method': 'hierarchy',\n",
    "    'num_clusters': 10,\n",
    "    'block_length_thresold': 0.2,\n",
    "}"
   ]
  }
 ],
 "metadata": {
  "kernelspec": {
   "display_name": "Python 3.7.7 64-bit ('thesisEnv': conda)",
   "language": "python",
   "name": "python37764bitthesisenvcondad61bb62be9734ae9b8ba15c07cc7706a"
  },
  "language_info": {
   "codemirror_mode": {
    "name": "ipython",
    "version": 3
   },
   "file_extension": ".py",
   "mimetype": "text/x-python",
   "name": "python",
   "nbconvert_exporter": "python",
   "pygments_lexer": "ipython3",
   "version": "3.7.7"
  },
  "toc": {
   "base_numbering": 1,
   "nav_menu": {},
   "number_sections": true,
   "sideBar": true,
   "skip_h1_title": false,
   "title_cell": "Table of Contents",
   "title_sidebar": "Contents",
   "toc_cell": false,
   "toc_position": {},
   "toc_section_display": true,
   "toc_window_display": false
  },
  "varInspector": {
   "cols": {
    "lenName": 16,
    "lenType": 16,
    "lenVar": 40
   },
   "kernels_config": {
    "python": {
     "delete_cmd_postfix": "",
     "delete_cmd_prefix": "del ",
     "library": "var_list.py",
     "varRefreshCmd": "print(var_dic_list())"
    },
    "r": {
     "delete_cmd_postfix": ") ",
     "delete_cmd_prefix": "rm(",
     "library": "var_list.r",
     "varRefreshCmd": "cat(var_dic_list()) "
    }
   },
   "types_to_exclude": [
    "module",
    "function",
    "builtin_function_or_method",
    "instance",
    "_Feature"
   ],
   "window_display": false
  }
 },
 "nbformat": 4,
 "nbformat_minor": 4
}
