{
 "cells": [
  {
   "cell_type": "code",
   "execution_count": 1,
   "metadata": {},
   "outputs": [],
   "source": [
    "import os\n",
    "import sys\n",
    "import time\n",
    "import numpy as np\n",
    "import matplotlib.pyplot as plt\n",
    "module_path = os.path.abspath(os.path.join('../../fusion'))\n",
    "sys.path.append(module_path)"
   ]
  },
  {
   "cell_type": "code",
   "execution_count": 2,
   "metadata": {},
   "outputs": [],
   "source": [
    "from preprocessing_datasets import load_dataset\n",
    "from embedding_algorithms import sentence_embedding, set_embedding_model\n",
    "from dimensionality_reduction_algorithms import dimension_reduction_algorithms\n",
    "from cluster_algorithms import cluster_algorithm\n",
    "\n",
    "from helper import load_by_index, get_author_candidate\n",
    "from plot_tools import plotChart, plotCluster"
   ]
  },
  {
   "cell_type": "code",
   "execution_count": 12,
   "metadata": {},
   "outputs": [],
   "source": [
    "key_values = {\n",
    "    'model_type':'bilstm',\n",
    "    'char_level':False,\n",
    "    'model_version': 2,\n",
    "    'rnn_dim':1024,\n",
    "    'verbose':1,\n",
    "    'attributes_list': ['author','title','big_cate', 'small_cate'],\n",
    "    'embedding_type': 'inferSent',\n",
    "    'dataset': 'merged_book-multiAuthors',\n",
    "    'cluster_method': 'tsne',\n",
    "    'dimension_reduction': 'pca',\n",
    "    'num_components': 2,\n",
    "    'cluster_method': 'hierarchy',\n",
    "    'num_clusters': 10,\n",
    "    'block_length_thresold': 0.2,\n",
    "}"
   ]
  },
  {
   "cell_type": "markdown",
   "metadata": {},
   "source": [
    "# SETUP INFERSENT"
   ]
  },
  {
   "cell_type": "code",
   "execution_count": 4,
   "metadata": {},
   "outputs": [
    {
     "name": "stdout",
     "output_type": "stream",
     "text": [
      "Vocab size : 2196017\n",
      "model_version: 2\n",
      "rnn_dim: 1024\n",
      "model_type: bilstm\n",
      "char_level: False\n",
      "Setup time is: 176.3019781112671\n"
     ]
    }
   ],
   "source": [
    "set_embedding_model(key_values)"
   ]
  },
  {
   "cell_type": "markdown",
   "metadata": {},
   "source": [
    "# LOAD"
   ]
  },
  {
   "cell_type": "code",
   "execution_count": 6,
   "metadata": {},
   "outputs": [
    {
     "name": "stdout",
     "output_type": "stream",
     "text": [
      "dataset: merged_book-multiAuthors\n",
      "Loading time is: 5.311870098114014\n"
     ]
    }
   ],
   "source": [
    "dataset_name, table_group_by_isbn, isbn_list, true_authors = load_dataset(key_values)"
   ]
  },
  {
   "cell_type": "code",
   "execution_count": 8,
   "metadata": {},
   "outputs": [],
   "source": [
    "def load_by_index(table_group_by_isbn, isbn_list, true_authors, index):\n",
    "    print('ISBN: {0}'.format(isbn_list[index]))\n",
    "    print('true author: {0}'.format(true_authors[index]))\n",
    "    table_ISBN = table_group_by_isbn.get_group(isbn_list[index])\n",
    "    return table_ISBN, table_ISBN['author'].tolist(), true_authors[index]"
   ]
  },
  {
   "cell_type": "code",
   "execution_count": 9,
   "metadata": {},
   "outputs": [
    {
     "name": "stdout",
     "output_type": "stream",
     "text": [
      "ISBN: 1878685546\n",
      "true author: Alan Shepard, Deke Slayton\n"
     ]
    }
   ],
   "source": [
    "table_ISBN, list_authors, true_author = load_by_index(table_group_by_isbn, isbn_list, true_authors, 0)"
   ]
  },
  {
   "cell_type": "code",
   "execution_count": 10,
   "metadata": {},
   "outputs": [
    {
     "data": {
      "text/plain": [
       "alan shepard                                             123\n",
       "deke slayton                                             121\n",
       "barbree jay                                               89\n",
       "benedict howard                                           87\n",
       "armstrong neil                                            10\n",
       "alan shepherd                                              6\n",
       "alan b shepard                                             2\n",
       "jr                                                         2\n",
       "alan shpard                                                1\n",
       "alan                                                       1\n",
       "deke slayton w                                             1\n",
       "armstrong intro neil                                       1\n",
       "alan barbree~howard benedict shepard~deke slayton~jay      1\n",
       "adams ben                                                  1\n",
       "benedict howard shepard                                    1\n",
       "armstrong deke neil slayton                                1\n",
       "Name: author, dtype: int64"
      ]
     },
     "execution_count": 10,
     "metadata": {},
     "output_type": "execute_result"
    }
   ],
   "source": [
    "table_ISBN['author'].value_counts()"
   ]
  },
  {
   "cell_type": "code",
   "execution_count": 13,
   "metadata": {},
   "outputs": [
    {
     "name": "stdout",
     "output_type": "stream",
     "text": [
      "embedding_type: inferSent\n",
      "attributes_list: ['author', 'title', 'big_cate', 'small_cate']\n",
      "model_type: bilstm\n",
      "char_level: False\n",
      "Embedding time is: 2.816688060760498\n"
     ]
    }
   ],
   "source": [
    "embeddings_tokens = sentence_embedding(table_ISBN, key_values)"
   ]
  },
  {
   "cell_type": "code",
   "execution_count": 15,
   "metadata": {},
   "outputs": [
    {
     "name": "stdout",
     "output_type": "stream",
     "text": [
      "dimension_reduction: pca\n",
      "num_components: 2\n",
      "Dimension reduction time is: 0.04412102699279785\n"
     ]
    }
   ],
   "source": [
    "pca_embeddings = dimension_reduction_algorithms(embeddings_tokens, key_values)\n"
   ]
  },
  {
   "cell_type": "code",
   "execution_count": 22,
   "metadata": {},
   "outputs": [],
   "source": [
    "def plotChart(classes, embeddings):\n",
    "    x = []\n",
    "    y = []\n",
    "    for emb in embeddings:\n",
    "        x.append(emb[0])\n",
    "        y.append(emb[1])\n",
    "\n",
    "    print(\"rows: {0}\".format(len(x)))\n",
    "    print(\"classes: {0}\".format(len(y)))\n",
    "\n",
    "    plt.figure(figsize=(13, 13)) \n",
    "    for i in range(len(x)):\n",
    "        print(classes[i])\n",
    "        plt.scatter(x[i],y[i],c='red')\n",
    "        plt.annotate(str(classes[i]) + ' ' + str(i),\n",
    "            xy=(x[i], y[i]),\n",
    "            xytext=(5, 2),\n",
    "            textcoords='offset points',\n",
    "            ha='right',\n",
    "            va='bottom')\n",
    "    plt.show()"
   ]
  },
  {
   "cell_type": "code",
   "execution_count": 23,
   "metadata": {},
   "outputs": [
    {
     "name": "stdout",
     "output_type": "stream",
     "text": [
      "rows: 454\n",
      "classes: 454\n",
      "alan shepard\n",
      "alan shepard\n",
      "deke slayton\n",
      "alan shepard\n",
      "deke slayton\n",
      "alan shepard\n",
      "deke slayton\n",
      "barbree jay\n",
      "benedict howard\n",
      "alan shepard\n",
      "deke slayton\n",
      "barbree jay\n",
      "benedict howard\n",
      "alan shepard\n",
      "deke slayton\n",
      "nan\n",
      "alan shepard\n",
      "deke slayton\n",
      "alan shepard\n",
      "deke slayton\n",
      "barbree jay\n",
      "benedict howard\n",
      "armstrong neil\n",
      "alan shepard\n",
      "deke slayton\n",
      "benedict howard\n",
      "barbree jay\n",
      "nan\n",
      "alan shepard\n",
      "deke slayton\n",
      "barbree jay\n",
      "benedict howard\n",
      "alan shepard\n",
      "deke slayton\n",
      "alan shepard\n",
      "deke slayton\n",
      "barbree jay\n",
      "benedict howard\n",
      "armstrong neil\n",
      "alan shepard\n",
      "deke slayton\n",
      "barbree jay\n",
      "benedict howard\n",
      "alan shepard\n",
      "deke slayton\n",
      "alan shepard\n",
      "deke slayton\n",
      "barbree jay\n",
      "benedict howard\n",
      "alan shepard\n",
      "deke slayton\n",
      "barbree jay\n",
      "benedict howard\n",
      "alan shepard\n",
      "deke slayton\n",
      "barbree jay\n",
      "benedict howard\n",
      "nan\n",
      "alan shepard\n",
      "alan shepard\n",
      "deke slayton\n",
      "alan shepard\n",
      "deke slayton\n",
      "barbree jay\n",
      "benedict howard\n",
      "alan shepard\n",
      "deke slayton\n",
      "alan shepard\n",
      "deke slayton\n",
      "barbree jay\n",
      "benedict howard\n",
      "alan shepard\n",
      "alan shepherd\n",
      "deke slayton\n",
      "barbree jay\n",
      "benedict howard\n",
      "alan shepard\n",
      "deke slayton\n",
      "barbree jay\n",
      "benedict howard\n",
      "alan shepard\n",
      "deke slayton\n",
      "barbree jay\n",
      "benedict howard\n",
      "alan shepard\n",
      "deke slayton\n",
      "barbree jay\n",
      "benedict howard\n",
      "armstrong neil\n",
      "alan shepard\n",
      "deke slayton\n",
      "barbree jay\n",
      "benedict howard\n",
      "adams ben\n",
      "alan shepard\n",
      "alan shepard\n",
      "deke slayton\n",
      "alan shepard\n",
      "deke slayton\n",
      "barbree jay\n",
      "benedict howard\n",
      "nan\n",
      "alan shepard\n",
      "deke slayton\n",
      "barbree jay\n",
      "benedict howard\n",
      "alan shepard\n",
      "deke slayton\n",
      "barbree jay\n",
      "benedict howard\n",
      "alan shepard\n",
      "deke slayton\n",
      "alan shepard\n",
      "armstrong deke neil slayton\n",
      "alan shepard\n",
      "deke slayton\n",
      "barbree jay\n",
      "benedict howard\n",
      "alan shepard\n",
      "deke slayton\n",
      "barbree jay\n",
      "benedict howard\n",
      "alan shepard\n",
      "deke slayton\n",
      "alan shepard\n",
      "deke slayton\n",
      "alan shepard\n",
      "deke slayton\n",
      "alan b shepard\n",
      "jr\n",
      "deke slayton\n",
      "alan shpard\n",
      "deke slayton\n",
      "alan shepard\n",
      "deke slayton\n",
      "barbree jay\n",
      "benedict howard\n",
      "alan shepard\n",
      "deke slayton\n",
      "barbree jay\n",
      "benedict howard\n",
      "alan shepard\n",
      "deke slayton\n",
      "alan shepard\n",
      "deke slayton\n",
      "barbree jay\n",
      "benedict howard\n",
      "alan shepard\n",
      "deke slayton\n",
      "barbree jay\n",
      "benedict howard\n",
      "alan shepard\n",
      "deke slayton\n",
      "barbree jay\n",
      "benedict howard\n",
      "alan shepard\n",
      "alan shepard\n",
      "deke slayton\n",
      "alan shepard\n",
      "deke slayton\n",
      "barbree jay\n",
      "benedict howard\n",
      "alan shepard\n",
      "deke slayton\n",
      "barbree jay\n",
      "benedict howard\n",
      "benedict howard\n",
      "barbree jay\n",
      "deke slayton\n",
      "alan shepard\n",
      "alan shepard\n",
      "deke slayton\n",
      "barbree jay\n",
      "benedict howard\n",
      "alan shepard\n",
      "deke slayton\n",
      "alan shepard\n",
      "deke slayton\n",
      "barbree jay\n",
      "benedict howard\n",
      "alan shepard\n",
      "deke slayton\n",
      "nan\n",
      "alan shepard\n",
      "deke slayton\n",
      "barbree jay\n",
      "benedict howard\n",
      "alan shepard\n",
      "deke slayton\n",
      "barbree jay\n",
      "benedict howard\n",
      "alan shepard\n",
      "deke slayton\n",
      "barbree jay\n",
      "benedict howard\n",
      "alan shepard\n",
      "deke slayton\n",
      "alan shepard\n",
      "deke slayton\n",
      "barbree jay\n",
      "benedict howard\n",
      "armstrong neil\n",
      "alan shepard\n",
      "deke slayton\n",
      "barbree jay\n",
      "benedict howard\n",
      "alan shepard\n",
      "deke slayton\n",
      "benedict howard\n",
      "barbree jay\n",
      "alan shepard\n",
      "deke slayton\n",
      "barbree jay\n",
      "benedict howard\n",
      "alan shepard\n",
      "deke slayton\n",
      "barbree jay\n",
      "benedict howard\n",
      "alan shepard\n",
      "deke slayton\n",
      "barbree jay\n",
      "benedict howard\n",
      "alan shepard\n",
      "alan shepherd\n",
      "deke slayton\n",
      "barbree jay\n",
      "benedict howard\n",
      "alan shepard\n",
      "deke slayton\n",
      "alan shepard\n",
      "deke slayton\n",
      "barbree jay\n",
      "benedict howard\n",
      "alan b shepard\n",
      "jr\n",
      "deke slayton\n",
      "alan shepard\n",
      "deke slayton\n",
      "alan shepard\n",
      "deke slayton\n",
      "barbree jay\n",
      "benedict howard\n",
      "alan shepard\n",
      "deke slayton\n",
      "barbree jay\n",
      "benedict howard\n",
      "alan shepard\n",
      "deke slayton\n",
      "barbree jay\n",
      "benedict howard\n",
      "alan shepherd\n",
      "deke slayton\n",
      "barbree jay\n",
      "benedict howard\n",
      "alan barbree~howard benedict shepard~deke slayton~jay\n",
      "alan shepard\n",
      "alan shepherd\n",
      "deke slayton\n",
      "barbree jay\n",
      "benedict howard\n",
      "alan shepard\n",
      "deke slayton\n",
      "alan shepard\n",
      "deke slayton\n",
      "barbree jay\n",
      "benedict howard\n",
      "alan shepard\n",
      "deke slayton\n",
      "barbree jay\n",
      "benedict howard\n",
      "alan shepard\n",
      "deke slayton\n",
      "barbree jay\n",
      "benedict howard\n",
      "alan shepard\n",
      "alan shepard\n",
      "deke slayton\n",
      "barbree jay\n",
      "benedict howard\n",
      "alan shepard\n",
      "deke slayton\n",
      "barbree jay\n",
      "alan shepard\n",
      "deke slayton\n",
      "alan shepard\n",
      "deke slayton\n",
      "alan shepard\n",
      "deke slayton\n",
      "barbree jay\n",
      "benedict howard\n",
      "alan shepard\n",
      "deke slayton\n",
      "barbree jay\n",
      "benedict howard\n",
      "alan shepard\n",
      "deke slayton\n",
      "barbree jay\n",
      "benedict howard\n",
      "alan\n",
      "deke slayton\n",
      "barbree jay\n",
      "benedict howard shepard\n",
      "alan shepard\n",
      "deke slayton\n",
      "alan shepard\n",
      "deke slayton\n",
      "barbree jay\n",
      "benedict howard\n",
      "alan shepard\n",
      "deke slayton\n",
      "barbree jay\n",
      "benedict howard\n",
      "alan shepard\n",
      "deke slayton\n",
      "barbree jay\n",
      "benedict howard\n",
      "alan shepard\n",
      "deke slayton\n",
      "barbree jay\n",
      "benedict howard\n",
      "alan shepard\n",
      "alan shepard\n",
      "deke slayton\n",
      "barbree jay\n",
      "benedict howard\n",
      "alan shepard\n",
      "alan shepard\n",
      "deke slayton\n",
      "barbree jay\n",
      "benedict howard\n",
      "armstrong neil\n",
      "alan shepard\n",
      "deke slayton\n",
      "barbree jay\n",
      "benedict howard\n",
      "alan shepard\n",
      "deke slayton\n",
      "barbree jay\n",
      "benedict howard\n",
      "armstrong neil\n",
      "alan shepard\n",
      "deke slayton\n",
      "barbree jay\n",
      "benedict howard\n",
      "alan shepard\n",
      "deke slayton\n",
      "barbree jay\n",
      "benedict howard\n",
      "alan shepard\n",
      "deke slayton\n",
      "barbree jay\n",
      "benedict howard\n",
      "alan shepard\n",
      "deke slayton\n",
      "barbree jay\n",
      "benedict howard\n",
      "armstrong neil\n",
      "alan shepard\n",
      "deke slayton\n",
      "barbree jay\n",
      "benedict howard\n",
      "alan shepard\n",
      "deke slayton\n",
      "barbree jay\n",
      "benedict howard\n",
      "alan shepherd\n",
      "deke slayton\n",
      "barbree jay\n",
      "benedict howard\n",
      "alan shepard\n",
      "deke slayton\n",
      "barbree jay\n",
      "benedict howard\n",
      "alan shepard\n",
      "deke slayton\n",
      "armstrong neil\n",
      "alan shepard\n",
      "deke slayton\n",
      "barbree jay\n",
      "benedict howard\n",
      "alan shepard\n",
      "deke slayton\n",
      "barbree jay\n",
      "benedict howard\n",
      "alan shepard\n",
      "deke slayton\n",
      "barbree jay\n",
      "benedict howard\n",
      "armstrong neil\n",
      "alan shepard\n",
      "deke slayton\n",
      "barbree jay\n",
      "benedict howard\n",
      "alan shepard\n",
      "deke slayton\n",
      "barbree jay\n",
      "benedict howard\n",
      "alan shepard\n",
      "deke slayton\n",
      "barbree jay\n",
      "benedict howard\n",
      "alan shepard\n",
      "deke slayton\n",
      "barbree jay\n",
      "benedict howard\n",
      "alan shepard\n",
      "deke slayton w\n",
      "armstrong intro neil\n",
      "alan shepard\n",
      "deke slayton\n",
      "barbree jay\n",
      "benedict howard\n",
      "alan shepard\n",
      "deke slayton\n",
      "alan shepard\n",
      "deke slayton\n",
      "barbree jay\n",
      "benedict howard\n",
      "alan shepard\n",
      "deke slayton\n",
      "barbree jay\n",
      "benedict howard\n",
      "alan shepard\n",
      "deke slayton\n",
      "alan shepard\n",
      "deke slayton\n",
      "alan shepard\n",
      "deke slayton\n",
      "barbree jay\n",
      "benedict howard\n",
      "alan shepherd\n",
      "deke slayton\n",
      "nan\n",
      "alan shepard\n",
      "deke slayton\n",
      "barbree jay\n",
      "benedict howard\n",
      "alan shepard\n",
      "deke slayton\n",
      "barbree jay\n",
      "benedict howard\n",
      "alan shepard\n",
      "deke slayton\n",
      "barbree jay\n",
      "benedict howard\n",
      "alan shepard\n",
      "deke slayton\n",
      "barbree jay\n",
      "benedict howard\n",
      "armstrong neil\n",
      "alan shepard\n",
      "deke slayton\n",
      "barbree jay\n",
      "benedict howard\n"
     ]
    },
    {
     "data": {
      "image/png": "[encoded data removed]",
      "text/plain": [
       "<Figure size 936x936 with 1 Axes>"
      ]
     },
     "metadata": {
      "needs_background": "light"
     },
     "output_type": "display_data"
    }
   ],
   "source": [
    "plotChart(list_authors, pca_embeddings)"
   ]
  },
  {
   "cell_type": "code",
   "execution_count": 24,
   "metadata": {},
   "outputs": [
    {
     "name": "stdout",
     "output_type": "stream",
     "text": [
      "cluster_method: hierarchy\n",
      "num_clusters: 10\n",
      "Blocking time is: 0.1820690631866455\n"
     ]
    }
   ],
   "source": [
    "blocks = cluster_algorithm(pca_embeddings, key_values)\n",
    "#plotCluster(blocks, list_authors, key_values['num_clusters'], pca_embeddings)"
   ]
  },
  {
   "cell_type": "code",
   "execution_count": 25,
   "metadata": {},
   "outputs": [
    {
     "name": "stdout",
     "output_type": "stream",
     "text": [
      "{'armstrong deke neil slayton': 1, 'deke slayton': 108} VS true_author: Alan Shepard, Deke Slayton\n"
     ]
    }
   ],
   "source": [
    "author_candidate = get_author_candidate(list_authors, blocks)\n",
    "print(\"{0} VS true_author: {1}\".format(author_candidate, true_author))"
   ]
  },
  {
   "cell_type": "code",
   "execution_count": 31,
   "metadata": {},
   "outputs": [
    {
     "data": {
      "text/plain": [
       "[4, 1, 7, 9, 0, 5, 3, 6, 8, 2]"
      ]
     },
     "execution_count": 31,
     "metadata": {},
     "output_type": "execute_result"
    }
   ],
   "source": [
    "sorted(blocks, key=lambda k: len(blocks[k]), reverse=True)"
   ]
  },
  {
   "cell_type": "code",
   "execution_count": 38,
   "metadata": {},
   "outputs": [
    {
     "name": "stdout",
     "output_type": "stream",
     "text": [
      "454\n"
     ]
    }
   ],
   "source": [
    "print(len(pca_embeddings))"
   ]
  },
  {
   "cell_type": "code",
   "execution_count": 39,
   "metadata": {},
   "outputs": [
    {
     "data": {
      "text/plain": [
       "90.80000000000001"
      ]
     },
     "execution_count": 39,
     "metadata": {},
     "output_type": "execute_result"
    }
   ],
   "source": [
    "454 * 0.2"
   ]
  },
  {
   "cell_type": "code",
   "execution_count": 41,
   "metadata": {},
   "outputs": [],
   "source": [
    "def getSortedKeyByLength(blocks):\n",
    "    return sorted(blocks, key=lambda k: len(blocks[k]), reverse=True)\n",
    "\n",
    "def get_author_candidate_by_block(list_authors, chosenBlock):\n",
    "    candidates = np.take(list_authors, chosenBlock)\n",
    "    unique, counts = np.unique(candidates, return_counts=True)\n",
    "    return dict(zip(unique, counts))\n",
    "\n",
    "def get_author_candidates(list_authors, blocks, lengthNecessary):\n",
    "    possibleAuthor = []\n",
    "    indexSortedByLength = getSortedKeyByLength(blocks)\n",
    "    for index in indexSortedByLength:\n",
    "        block = blocks[index]\n",
    "        if len(block) >= lengthNecessary:\n",
    "            possibleAuthor.append(get_author_candidate_by_block(list_authors, block))\n",
    "        else:\n",
    "            break\n",
    "    return possibleAuthor"
   ]
  },
  {
   "cell_type": "code",
   "execution_count": 45,
   "metadata": {},
   "outputs": [
    {
     "data": {
      "text/plain": [
       "[{'armstrong deke neil slayton': 1, 'deke slayton': 108},\n",
       " {'adams ben': 1,\n",
       "  'alan b shepard': 1,\n",
       "  'alan barbree~howard benedict shepard~deke slayton~jay': 1,\n",
       "  'alan shepard': 88,\n",
       "  'alan shepherd': 6,\n",
       "  'alan shpard': 1,\n",
       "  'barbree jay': 1,\n",
       "  'benedict howard': 1}]"
      ]
     },
     "execution_count": 45,
     "metadata": {},
     "output_type": "execute_result"
    }
   ],
   "source": [
    "get_author_candidates(list_authors, blocks, 80)"
   ]
  },
  {
   "cell_type": "code",
   "execution_count": null,
   "metadata": {},
   "outputs": [],
   "source": []
  }
 ],
 "metadata": {
  "kernelspec": {
   "display_name": "Python 3.7.7 64-bit ('thesisEnv': conda)",
   "language": "python",
   "name": "python37764bitthesisenvcondad61bb62be9734ae9b8ba15c07cc7706a"
  },
  "language_info": {
   "codemirror_mode": {
    "name": "ipython",
    "version": 3
   },
   "file_extension": ".py",
   "mimetype": "text/x-python",
   "name": "python",
   "nbconvert_exporter": "python",
   "pygments_lexer": "ipython3",
   "version": "3.7.7"
  },
  "toc": {
   "base_numbering": 1,
   "nav_menu": {},
   "number_sections": true,
   "sideBar": true,
   "skip_h1_title": false,
   "title_cell": "Table of Contents",
   "title_sidebar": "Contents",
   "toc_cell": false,
   "toc_position": {},
   "toc_section_display": true,
   "toc_window_display": false
  },
  "varInspector": {
   "cols": {
    "lenName": 16,
    "lenType": 16,
    "lenVar": 40
   },
   "kernels_config": {
    "python": {
     "delete_cmd_postfix": "",
     "delete_cmd_prefix": "del ",
     "library": "var_list.py",
     "varRefreshCmd": "print(var_dic_list())"
    },
    "r": {
     "delete_cmd_postfix": ") ",
     "delete_cmd_prefix": "rm(",
     "library": "var_list.r",
     "varRefreshCmd": "cat(var_dic_list()) "
    }
   },
   "types_to_exclude": [
    "module",
    "function",
    "builtin_function_or_method",
    "instance",
    "_Feature"
   ],
   "window_display": false
  }
 },
 "nbformat": 4,
 "nbformat_minor": 4
}
